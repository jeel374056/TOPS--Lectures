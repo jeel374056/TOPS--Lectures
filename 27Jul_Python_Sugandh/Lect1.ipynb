{
 "cells": [
  {
   "cell_type": "code",
   "execution_count": null,
   "id": "a3590b88",
   "metadata": {},
   "outputs": [],
   "source": [
    "def fun1(x,y):\n",
    "    print(x+y)\n",
    "fun1(10,20)\n",
    "\n",
    "# lambda functions anaonymous\n",
    "\n",
    "z=lambda x,y : print(x+y)\n",
    "z(59,14)\n",
    "print(type(z))"
   ]
  },
  {
   "cell_type": "code",
   "execution_count": null,
   "id": "7467f0ab",
   "metadata": {},
   "outputs": [],
   "source": [
    "# x=99\n",
    "def fun2():\n",
    "    global x\n",
    "    x=50\n",
    "    print(x)\n",
    "    \n",
    "fun2()\n",
    "print(x)"
   ]
  },
  {
   "cell_type": "code",
   "execution_count": null,
   "id": "beb76ade",
   "metadata": {},
   "outputs": [],
   "source": [
    "import random\n",
    "random."
   ]
  },
  {
   "cell_type": "code",
   "execution_count": null,
   "id": "db6b0818",
   "metadata": {},
   "outputs": [],
   "source": [
    "a=int(input(\"Enter number\"))\n",
    "print(type(a))"
   ]
  },
  {
   "cell_type": "code",
   "execution_count": null,
   "id": "e2f3b272",
   "metadata": {},
   "outputs": [],
   "source": [
    "z=50\n",
    "print(z)"
   ]
  },
  {
   "cell_type": "code",
   "execution_count": null,
   "id": "fe6d4cfd",
   "metadata": {},
   "outputs": [],
   "source": [
    "print(z)"
   ]
  },
  {
   "cell_type": "code",
   "execution_count": null,
   "id": "c9cd84b7",
   "metadata": {},
   "outputs": [],
   "source": [
    "file open--mode---r w a x\n",
    "file work\n",
    "file close"
   ]
  },
  {
   "cell_type": "code",
   "execution_count": 3,
   "id": "06494464",
   "metadata": {},
   "outputs": [
    {
     "ename": "ZeroDivisionError",
     "evalue": "division by zero",
     "output_type": "error",
     "traceback": [
      "\u001b[1;31m---------------------------------------------------------------------------\u001b[0m",
      "\u001b[1;31mZeroDivisionError\u001b[0m                         Traceback (most recent call last)",
      "Input \u001b[1;32mIn [3]\u001b[0m, in \u001b[0;36m<cell line: 1>\u001b[1;34m()\u001b[0m\n\u001b[1;32m----> 1\u001b[0m \u001b[38;5;28mprint\u001b[39m(\u001b[38;5;241;43m50\u001b[39;49m\u001b[38;5;241;43m/\u001b[39;49m\u001b[38;5;241;43m0\u001b[39;49m)\n",
      "\u001b[1;31mZeroDivisionError\u001b[0m: division by zero"
     ]
    }
   ],
   "source": [
    "print(50/0)"
   ]
  },
  {
   "cell_type": "code",
   "execution_count": null,
   "id": "ac94711e",
   "metadata": {},
   "outputs": [],
   "source": [
    "try\n",
    "dg\n",
    "gdg\n",
    "dg\n",
    "g\n",
    "fdg\n",
    "print(50/0)fd\n",
    "gfd\n",
    "gfd\n",
    "gd\n",
    "g\n",
    "\n",
    "except\n",
    "what to do when error raises\n",
    "catch\n",
    "finally\n",
    "\n",
    "raise"
   ]
  },
  {
   "cell_type": "code",
   "execution_count": 4,
   "id": "15041eeb",
   "metadata": {},
   "outputs": [
    {
     "name": "stdout",
     "output_type": "stream",
     "text": [
      "string1 String2\n"
     ]
    }
   ],
   "source": [
    "print(\"string1 \"+\"String2\")"
   ]
  },
  {
   "cell_type": "code",
   "execution_count": null,
   "id": "9478d8fe",
   "metadata": {},
   "outputs": [],
   "source": [
    "str1=\"sgdgG gfdgery hyrtjyut gertjhyt fwegterth  erthyrtj gfhgrhj\" "
   ]
  },
  {
   "cell_type": "code",
   "execution_count": null,
   "id": "e04131a3",
   "metadata": {},
   "outputs": [],
   "source": [
    "webpage\n",
    "website\n",
    "webserver\n"
   ]
  },
  {
   "cell_type": "code",
   "execution_count": null,
   "id": "11d80399",
   "metadata": {},
   "outputs": [],
   "source": [
    "model view controller\n",
    "model templates view\n",
    "\n",
    "model--database\n",
    "view--logic\n",
    "template---html,css,,,front end part"
   ]
  }
 ],
 "metadata": {
  "kernelspec": {
   "display_name": "Python 3 (ipykernel)",
   "language": "python",
   "name": "python3"
  },
  "language_info": {
   "codemirror_mode": {
    "name": "ipython",
    "version": 3
   },
   "file_extension": ".py",
   "mimetype": "text/x-python",
   "name": "python",
   "nbconvert_exporter": "python",
   "pygments_lexer": "ipython3",
   "version": "3.9.12"
  }
 },
 "nbformat": 4,
 "nbformat_minor": 5
}
