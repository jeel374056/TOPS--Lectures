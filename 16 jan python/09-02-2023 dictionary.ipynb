{
 "cells": [
  {
   "cell_type": "code",
   "execution_count": null,
   "id": "6331aade",
   "metadata": {},
   "outputs": [],
   "source": [
    "# dictionary is a collection which is in key value pair\n",
    "# dictionary doesn't have index bu have key\n",
    "# dictionary has its own methods to work with keys and values\n",
    "# dictionary keys will always be immutable datatype\n",
    "# dictionary value can be of any dtatype\n",
    "\n",
    "# dictionary is also defined in curly braces\n",
    "dict1={1:\"hello\",True:\"Values\"}\n",
    "# dictionary has mapping \n"
   ]
  },
  {
   "cell_type": "code",
   "execution_count": null,
   "id": "090d5175",
   "metadata": {},
   "outputs": [],
   "source": [
    "# keys ---- int,float,bollean,tuple,string\n",
    "# values --all"
   ]
  },
  {
   "cell_type": "code",
   "execution_count": 29,
   "id": "4f715939",
   "metadata": {},
   "outputs": [
    {
     "name": "stdout",
     "output_type": "stream",
     "text": [
      "{56: 'Again', 14.5: 14.36, True: False, 'Sting': 'hello', 'list': [45, 87, 96, 36], 14: 2, False: 'This is'}\n",
      "{56: 'Again', 14.5: 14.36, True: False, 'Sting': 'hello', 'list': [45, 87, 96, 36], 14: 2, False: 'This is'}\n",
      "{56: 'Again', 14.5: 'new', True: False, 'Sting': 'hello', 'list': [45, 87, 96, 36], 14: 2, False: 'This is'}\n"
     ]
    }
   ],
   "source": [
    "dict1={56:1,14.5:14.36,56:\"Again\",True:False,\"Sting\":\"hello\",\"list\":[45,87,96,36],14:2,False:\"This is\"}\n",
    "# dict1.clear()\n",
    "print(dict1)\n",
    "# dict1.clear(print(dict1))\n",
    "dict2=dict1.copy()\n",
    "dict1[14.5]=\"new\"\n",
    "print(dict2)\n",
    "print(dict1)"
   ]
  },
  {
   "cell_type": "code",
   "execution_count": 54,
   "id": "0fcee975",
   "metadata": {},
   "outputs": [
    {
     "name": "stdout",
     "output_type": "stream",
     "text": [
      "dict_keys([56, 14.5, True, 'Sting', 'list', 14, False])\n",
      "dict_values(['Again', 14.36, False, 'hello', [45, 87, 96, 36], 2, 'This is'])\n",
      "dict_items([(56, 'Again'), (14.5, 14.36), (True, False), ('Sting', 'hello'), ('list', [45, 87, 96, 36]), (14, 2), (False, 'This is')])\n"
     ]
    }
   ],
   "source": [
    "dict1={56:1,14.5:14.36,56:\"Again\",True:False,\"Sting\":\"hello\",\"list\":[45,87,96,36],14:2,False:\"This is\"}\n",
    "keys=dict1.keys()\n",
    "values=dict1.values()\n",
    "items=dict1.items()\n",
    "print(keys)\n",
    "print(values)\n",
    "print(items)\n",
    "# items method will return a list having tuples and tuples having only 2 values \n",
    "# key and value "
   ]
  },
  {
   "cell_type": "code",
   "execution_count": 33,
   "id": "0f68246c",
   "metadata": {},
   "outputs": [
    {
     "name": "stdout",
     "output_type": "stream",
     "text": [
      "{14.5: 14.36, True: False, 'Sting': 'hello', 'list': [45, 87, 96, 36], 14: 2, False: 'This is'}\n"
     ]
    }
   ],
   "source": [
    "# pop method will remove the element at the specified key\n",
    "dict1={56:1,14.5:14.36,56:\"Again\",True:False,\"Sting\":\"hello\",\"list\":[45,87,96,36],14:2,False:\"This is\"}\n",
    "dict1.pop(56)\n",
    "print(dict1)"
   ]
  },
  {
   "cell_type": "code",
   "execution_count": 43,
   "id": "ff4cbc77",
   "metadata": {},
   "outputs": [
    {
     "name": "stdout",
     "output_type": "stream",
     "text": [
      "{48: (58, 48), 96: (58, 48)}\n"
     ]
    }
   ],
   "source": [
    "keys={48:\"hello\",96:45}\n",
    "values=(58,48)\n",
    "new_dict=dict.fromkeys(keys,values)\n",
    "print(new_dict)"
   ]
  },
  {
   "cell_type": "code",
   "execution_count": 44,
   "id": "9e68b8e3",
   "metadata": {},
   "outputs": [
    {
     "name": "stdout",
     "output_type": "stream",
     "text": [
      "56\n",
      "14.5\n",
      "True\n",
      "Sting\n",
      "list\n",
      "14\n",
      "False\n"
     ]
    }
   ],
   "source": [
    "dict1={56:1,14.5:14.36,56:\"Again\",True:False,\"Sting\":\"hello\",\"list\":[45,87,96,36],14:2,False:\"This is\"}\n",
    "for i in dict1:\n",
    "    print(i)"
   ]
  },
  {
   "cell_type": "code",
   "execution_count": 53,
   "id": "1be27fcc",
   "metadata": {},
   "outputs": [
    {
     "name": "stdout",
     "output_type": "stream",
     "text": [
      "this is value\n"
     ]
    }
   ],
   "source": [
    "dict1={56:1,14.5:14.36,56:\"Again\",True:False,\"Sting\":\"hello\",\"list\":[45,87,96,36],14:2,False:\"This is\"}\n",
    "# print(dict1[9658])\n",
    "some=dict1.get(\"list2\",\"this is value\")\n",
    "print(some)"
   ]
  },
  {
   "cell_type": "code",
   "execution_count": 56,
   "id": "131bd997",
   "metadata": {},
   "outputs": [
    {
     "name": "stdout",
     "output_type": "stream",
     "text": [
      "{1: 2, 56: 98, 86: 121}\n"
     ]
    }
   ],
   "source": [
    "dict1={1:2,56:98}\n",
    "# dict1[86]=121\n",
    "dict1.update({86:121})\n",
    "print(dict1)"
   ]
  },
  {
   "cell_type": "code",
   "execution_count": null,
   "id": "062ecf46",
   "metadata": {},
   "outputs": [],
   "source": [
    "list comprehension\n",
    "dictionary remaining methods\n",
    "functions"
   ]
  }
 ],
 "metadata": {
  "kernelspec": {
   "display_name": "Python 3 (ipykernel)",
   "language": "python",
   "name": "python3"
  },
  "language_info": {
   "codemirror_mode": {
    "name": "ipython",
    "version": 3
   },
   "file_extension": ".py",
   "mimetype": "text/x-python",
   "name": "python",
   "nbconvert_exporter": "python",
   "pygments_lexer": "ipython3",
   "version": "3.9.12"
  }
 },
 "nbformat": 4,
 "nbformat_minor": 5
}
