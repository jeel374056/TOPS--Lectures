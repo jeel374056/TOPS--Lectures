{
 "cells": [
  {
   "cell_type": "code",
   "execution_count": 3,
   "id": "963395cb",
   "metadata": {},
   "outputs": [
    {
     "name": "stdout",
     "output_type": "stream",
     "text": [
      "[1, 4, 9, 16, 25, 36, 49, 64, 81]\n",
      "[1, 4, 9, 16, 25, 36, 49, 64, 81, 100]\n"
     ]
    }
   ],
   "source": [
    "list1=[]\n",
    "for i in range(1,10):\n",
    "    list1.append(i*i)\n",
    "print(list1)\n",
    "\n",
    "list3=[i*i for i in range(1,11)]\n",
    "print(list3)"
   ]
  },
  {
   "cell_type": "code",
   "execution_count": 7,
   "id": "fd8603f6",
   "metadata": {},
   "outputs": [
    {
     "name": "stdout",
     "output_type": "stream",
     "text": [
      "[2, 4, 6, 8, 10, 12, 14, 16, 18, 20]\n",
      "[4, 16, 36, 64, 100, 144, 196, 256, 324, 400]\n"
     ]
    }
   ],
   "source": [
    "list2=[]\n",
    "for i in range(1,21):\n",
    "    if i%2==0:\n",
    "        list2.append(i)\n",
    "print(list2)\n",
    "\n",
    "\n",
    "list4=[i for i in range(1,21) if i%2==0]\n",
    "list5=[i**2 for i in list4]\n",
    "print(list5)"
   ]
  },
  {
   "cell_type": "code",
   "execution_count": null,
   "id": "97f0c1f4",
   "metadata": {},
   "outputs": [],
   "source": [
    "print()\n",
    "type()\n",
    "input()\n",
    "id()\n",
    "eval()"
   ]
  },
  {
   "cell_type": "code",
   "execution_count": 38,
   "id": "28c9ee87",
   "metadata": {},
   "outputs": [
    {
     "name": "stdout",
     "output_type": "stream",
     "text": [
      "45\n"
     ]
    }
   ],
   "source": [
    "print(eval(\"10+35\"))\n"
   ]
  },
  {
   "cell_type": "code",
   "execution_count": 9,
   "id": "208dc839",
   "metadata": {},
   "outputs": [
    {
     "name": "stdout",
     "output_type": "stream",
     "text": [
      "2198543028272\n",
      "2198543028272\n"
     ]
    }
   ],
   "source": [
    "x=55\n",
    "y=55\n",
    "print(id(x))\n",
    "print(id(y))"
   ]
  },
  {
   "cell_type": "code",
   "execution_count": null,
   "id": "f6bdd1f1",
   "metadata": {},
   "outputs": [],
   "source": [
    "# user defined functions\n",
    "\n",
    "def functionname(parameters):\n",
    "    boyd\n",
    "    body\n",
    "    body\n",
    "    \n",
    "functionname(arguments)\n"
   ]
  },
  {
   "cell_type": "code",
   "execution_count": 26,
   "id": "ef5f249e",
   "metadata": {},
   "outputs": [
    {
     "name": "stdout",
     "output_type": "stream",
     "text": [
      "Heelo Good Morning\n"
     ]
    }
   ],
   "source": [
    "def greeting():\n",
    "    print(\"Heelo Good Morning\")\n",
    "    \n",
    "greeting()"
   ]
  },
  {
   "cell_type": "code",
   "execution_count": 36,
   "id": "3821a444",
   "metadata": {},
   "outputs": [
    {
     "name": "stdout",
     "output_type": "stream",
     "text": [
      "goor Morning {1: 'Hello', 2: 'World'}\n",
      "<class 'dict'>\n",
      "{1: 'Hello', 2: 'World'}\n"
     ]
    }
   ],
   "source": [
    "def greeting(a):\n",
    "    print(f\"goor Morning {a}\")\n",
    "    print(type(a))\n",
    "    return a\n",
    "    \n",
    "x=greeting({1:\"Hello\",2:\"World\"})\n",
    "print(x)"
   ]
  },
  {
   "cell_type": "code",
   "execution_count": null,
   "id": "9a59a5c9",
   "metadata": {},
   "outputs": [],
   "source": [
    "# types of arguments in python\n",
    "default arguments\n",
    "keyword arguments\n",
    "positional arguments\n",
    "arbitrary positional arguments *\n",
    "arbitrary keyword arguments"
   ]
  },
  {
   "cell_type": "code",
   "execution_count": 55,
   "id": "0707d816",
   "metadata": {},
   "outputs": [
    {
     "name": "stdout",
     "output_type": "stream",
     "text": [
      "119\n",
      "120\n"
     ]
    }
   ],
   "source": [
    "# default arguments in python \n",
    "# when we give default value to an arguments then this value is considered\n",
    "# by default when we not give value at time of calling\n",
    "# if we give value then this will be overwrite\n",
    "# non default argument will be before the default argument\n",
    "def addition(b,a=30,c=45):\n",
    "    summation=a+b\n",
    "    print(summation)\n",
    "    \n",
    "addition(89)\n",
    "addition(50,70)"
   ]
  },
  {
   "cell_type": "code",
   "execution_count": 48,
   "id": "8a25d4cb",
   "metadata": {},
   "outputs": [
    {
     "name": "stdout",
     "output_type": "stream",
     "text": [
      "45 68 89 65 58\n"
     ]
    }
   ],
   "source": [
    "# positional argument\n",
    "def fun1(a,b,c,d,e):\n",
    "    print(f\"{a} {b} {c} {d} {e}\")\n",
    "    \n",
    "fun1(45,68,89,65,58)"
   ]
  },
  {
   "cell_type": "code",
   "execution_count": 54,
   "id": "9a6f6527",
   "metadata": {},
   "outputs": [
    {
     "name": "stdout",
     "output_type": "stream",
     "text": [
      "45 68 65 89 58\n"
     ]
    }
   ],
   "source": [
    "# keyword arguments\n",
    "def fun1(a,b,c,d,e):\n",
    "    print(f\"{a} {b} {c} {d} {e}\")\n",
    "    \n",
    "fun1(45,68,65,e=58,d=89)"
   ]
  },
  {
   "cell_type": "code",
   "execution_count": 53,
   "id": "061f68fa",
   "metadata": {},
   "outputs": [
    {
     "ename": "TypeError",
     "evalue": "fun1() got an unexpected keyword argument 'f'",
     "output_type": "error",
     "traceback": [
      "\u001b[1;31m---------------------------------------------------------------------------\u001b[0m",
      "\u001b[1;31mTypeError\u001b[0m                                 Traceback (most recent call last)",
      "Input \u001b[1;32mIn [53]\u001b[0m, in \u001b[0;36m<cell line: 5>\u001b[1;34m()\u001b[0m\n\u001b[0;32m      2\u001b[0m \u001b[38;5;28;01mdef\u001b[39;00m \u001b[38;5;21mfun1\u001b[39m(a,b,c,d,e):\n\u001b[0;32m      3\u001b[0m     \u001b[38;5;28mprint\u001b[39m(\u001b[38;5;124mf\u001b[39m\u001b[38;5;124m\"\u001b[39m\u001b[38;5;132;01m{\u001b[39;00ma\u001b[38;5;132;01m}\u001b[39;00m\u001b[38;5;124m \u001b[39m\u001b[38;5;132;01m{\u001b[39;00mb\u001b[38;5;132;01m}\u001b[39;00m\u001b[38;5;124m \u001b[39m\u001b[38;5;132;01m{\u001b[39;00mc\u001b[38;5;132;01m}\u001b[39;00m\u001b[38;5;124m \u001b[39m\u001b[38;5;132;01m{\u001b[39;00md\u001b[38;5;132;01m}\u001b[39;00m\u001b[38;5;124m \u001b[39m\u001b[38;5;132;01m{\u001b[39;00me\u001b[38;5;132;01m}\u001b[39;00m\u001b[38;5;124m\"\u001b[39m)\n\u001b[1;32m----> 5\u001b[0m \u001b[43mfun1\u001b[49m\u001b[43m(\u001b[49m\u001b[38;5;241;43m45\u001b[39;49m\u001b[43m,\u001b[49m\u001b[38;5;241;43m68\u001b[39;49m\u001b[43m,\u001b[49m\u001b[38;5;241;43m65\u001b[39;49m\u001b[43m,\u001b[49m\u001b[43me\u001b[49m\u001b[38;5;241;43m=\u001b[39;49m\u001b[38;5;241;43m58\u001b[39;49m\u001b[43m,\u001b[49m\u001b[43md\u001b[49m\u001b[38;5;241;43m=\u001b[39;49m\u001b[38;5;241;43m89\u001b[39;49m\u001b[43m,\u001b[49m\u001b[43mf\u001b[49m\u001b[38;5;241;43m=\u001b[39;49m\u001b[38;5;241;43m89\u001b[39;49m\u001b[43m)\u001b[49m\n",
      "\u001b[1;31mTypeError\u001b[0m: fun1() got an unexpected keyword argument 'f'"
     ]
    }
   ],
   "source": [
    "# keyword arguments\n",
    "def fun1(a,b,c,d,e):\n",
    "    print(f\"{a} {b} {c} {d} {e}\")\n",
    "    \n",
    "fun1(45,68,65,e=58,d=89,f=89)"
   ]
  },
  {
   "cell_type": "code",
   "execution_count": 63,
   "id": "98391906",
   "metadata": {},
   "outputs": [
    {
     "name": "stdout",
     "output_type": "stream",
     "text": [
      "1 2 3 4 (5, 6, 7, 8, 9, 10) 89 89\n"
     ]
    }
   ],
   "source": [
    "# arbitrary positional arguments *\n",
    "# it stores all exceeding parameters in the form of tuple\n",
    "def fun1(a,b,c,d,*e,f=89):\n",
    "    print(f\"{a} {b} {c} {d} {e} {f} {f}\")\n",
    "\n",
    "fun1(1,2,3,4,5,6,7,8,9,10)"
   ]
  },
  {
   "cell_type": "code",
   "execution_count": 72,
   "id": "bd9d5aca",
   "metadata": {},
   "outputs": [
    {
     "name": "stdout",
     "output_type": "stream",
     "text": [
      "12 98 45 89 {'d': 48, 'e': 87, 'f': 89}\n"
     ]
    }
   ],
   "source": [
    "# arbitraty keywords arguments **\n",
    "def fun1(a,b,c,**g):\n",
    "    print(f\"{a} {b} {c} {g['f']} {g}\")\n",
    "    \n",
    "fun1(b=98,c=45,a=12,d=48,e=87,f=89)"
   ]
  },
  {
   "cell_type": "code",
   "execution_count": 75,
   "id": "c48f4617",
   "metadata": {},
   "outputs": [
    {
     "name": "stdout",
     "output_type": "stream",
     "text": [
      "Enter A number: 5\n",
      "120\n"
     ]
    }
   ],
   "source": [
    "fact=1\n",
    "num=int(input(\"Enter A number: \"))\n",
    "for i in range(1,num+1):\n",
    "    fact*=i\n",
    "    \n",
    "print(fact)"
   ]
  },
  {
   "cell_type": "code",
   "execution_count": 6,
   "id": "479938ad",
   "metadata": {},
   "outputs": [
    {
     "name": "stdout",
     "output_type": "stream",
     "text": [
      "Enter A number: 101\n",
      "True\n"
     ]
    }
   ],
   "source": [
    "num=int(input(\"Enter A number: \"))\n",
    "answe=num not in range(1,11)\n",
    "print(answe)\n",
    "# print(list1)"
   ]
  }
 ],
 "metadata": {
  "kernelspec": {
   "display_name": "Python 3 (ipykernel)",
   "language": "python",
   "name": "python3"
  },
  "language_info": {
   "codemirror_mode": {
    "name": "ipython",
    "version": 3
   },
   "file_extension": ".py",
   "mimetype": "text/x-python",
   "name": "python",
   "nbconvert_exporter": "python",
   "pygments_lexer": "ipython3",
   "version": "3.9.12"
  }
 },
 "nbformat": 4,
 "nbformat_minor": 5
}
