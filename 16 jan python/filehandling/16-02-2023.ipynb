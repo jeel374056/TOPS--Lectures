{
 "cells": [
  {
   "cell_type": "code",
   "execution_count": 10,
   "id": "beab37ee",
   "metadata": {},
   "outputs": [],
   "source": [
    "fp=open(\"Demo.txt\",\"w\")\n",
    "fp.write(\"Hello All Welcome to Tops\")\n",
    "for i in range(1,20):\n",
    "    fp.write(str(i)+\"\\n\")\n",
    "fp.close()\n"
   ]
  },
  {
   "cell_type": "code",
   "execution_count": 36,
   "id": "b0eaf6e5",
   "metadata": {},
   "outputs": [
    {
     "name": "stdout",
     "output_type": "stream",
     "text": [
      "hello     t\n"
     ]
    }
   ],
   "source": [
    "fp=open(\"Demo.xls\",\"r\")\n",
    "# x=fp.readline()\n",
    "# y=fp.readline()\n",
    "# print(x)\n",
    "# print(y)\n",
    "print(fp.read(11))#number of characters\n",
    "# print(EOF)\n",
    "# for i in fp:\n",
    "#     print(type(i))\n",
    "fp.close()"
   ]
  },
  {
   "cell_type": "code",
   "execution_count": 8,
   "id": "e710794b",
   "metadata": {},
   "outputs": [
    {
     "name": "stdout",
     "output_type": "stream",
     "text": [
      "1\n",
      "2\n",
      "3\n",
      "4\n",
      "5\n",
      "6\n",
      "7\n",
      "8\n",
      "9\n",
      "10\n",
      "11\n",
      "12\n",
      "13\n",
      "14\n",
      "15\n",
      "16\n",
      "17\n",
      "18\n",
      "19\n"
     ]
    }
   ],
   "source": [
    "for i in range(1,20):\n",
    "    print(i)"
   ]
  },
  {
   "cell_type": "code",
   "execution_count": 39,
   "id": "1184924e",
   "metadata": {},
   "outputs": [
    {
     "ename": "TypeError",
     "evalue": "TextIOWrapper.write() takes exactly one argument (3 given)",
     "output_type": "error",
     "traceback": [
      "\u001b[1;31m---------------------------------------------------------------------------\u001b[0m",
      "\u001b[1;31mTypeError\u001b[0m                                 Traceback (most recent call last)",
      "Input \u001b[1;32mIn [39]\u001b[0m, in \u001b[0;36m<cell line: 2>\u001b[1;34m()\u001b[0m\n\u001b[0;32m      1\u001b[0m fp\u001b[38;5;241m=\u001b[39m\u001b[38;5;28mopen\u001b[39m(\u001b[38;5;124m\"\u001b[39m\u001b[38;5;124mDemo.xls\u001b[39m\u001b[38;5;124m\"\u001b[39m,\u001b[38;5;124m\"\u001b[39m\u001b[38;5;124mw\u001b[39m\u001b[38;5;124m\"\u001b[39m)\n\u001b[0;32m      2\u001b[0m \u001b[38;5;28;01mfor\u001b[39;00m i \u001b[38;5;129;01min\u001b[39;00m \u001b[38;5;28mrange\u001b[39m(\u001b[38;5;241m10\u001b[39m):\n\u001b[1;32m----> 3\u001b[0m     \u001b[43mfp\u001b[49m\u001b[38;5;241;43m.\u001b[39;49m\u001b[43mwrite\u001b[49m\u001b[43m(\u001b[49m\u001b[38;5;241;43m0\u001b[39;49m\u001b[43m,\u001b[49m\u001b[43mi\u001b[49m\u001b[43m,\u001b[49m\u001b[38;5;124;43m\"\u001b[39;49m\u001b[38;5;124;43mhello\u001b[39;49m\u001b[38;5;124;43m\"\u001b[39;49m\u001b[43m)\u001b[49m\n\u001b[0;32m      4\u001b[0m fp\u001b[38;5;241m.\u001b[39mclose()\n",
      "\u001b[1;31mTypeError\u001b[0m: TextIOWrapper.write() takes exactly one argument (3 given)"
     ]
    }
   ],
   "source": [
    "fp=open(\"Demo.xls\",\"w\")\n",
    "for i in range(10):\n",
    "    fp.write(0,i,\"hello\")\n",
    "fp.close()\n"
   ]
  },
  {
   "cell_type": "code",
   "execution_count": 49,
   "id": "fe00896f",
   "metadata": {},
   "outputs": [
    {
     "name": "stdout",
     "output_type": "stream",
     "text": [
      "Enter number of elements in list5\n",
      "1\n",
      "2\n",
      "3\n",
      "4\n",
      "5\n",
      "15\n"
     ]
    }
   ],
   "source": [
    "temp=0\n",
    "num=int(input(\"Enter number of elements in list\"))\n",
    "for i in range(num):\n",
    "    temp+=int(input())\n",
    "print(temp)\n",
    "if temp%2==0:\n",
    "    pass\n",
    "else:\n",
    "    print(\"Please Input again: \");"
   ]
  },
  {
   "cell_type": "code",
   "execution_count": 62,
   "id": "70df098b",
   "metadata": {},
   "outputs": [
    {
     "name": "stdout",
     "output_type": "stream",
     "text": [
      "Enter number of elements in list5\n",
      "1\n",
      "2\n",
      "3\n",
      "4\n",
      "6\n",
      "16\n",
      "1\n",
      "2\n",
      "3\n",
      "4\n",
      "6\n"
     ]
    }
   ],
   "source": [
    "total_list=0\n",
    "list1=[]\n",
    "def summ():\n",
    "    global total_list\n",
    "    total_list=0\n",
    "    num=int(input(\"Enter number of elements in list\"))\n",
    "    for i in range(num):\n",
    "        a=int(input())\n",
    "        list1.append(a)\n",
    "        total_list+=a\n",
    "    print(temp)\n",
    "summ();\n",
    "list2=[]\n",
    "list3=[]\n",
    "if(temp%2==0):\n",
    "    half=total_list/2\n",
    "    for i in list1:\n",
    "        list2.append(list1[0])\n",
    "else:\n",
    "    print(\"Summation cannot be even please input again\")\n",
    "    summ();"
   ]
  },
  {
   "cell_type": "markdown",
   "id": "ebee07ea",
   "metadata": {},
   "source": [
    "###### "
   ]
  },
  {
   "cell_type": "code",
   "execution_count": null,
   "id": "4e57c8fb",
   "metadata": {},
   "outputs": [
    {
     "name": "stdout",
     "output_type": "stream",
     "text": [
      "Enter number of elements in list6\n",
      "2\n",
      "4\n",
      "8\n",
      "12\n",
      "24\n",
      "6\n",
      "[2, 4, 8, 12]\n",
      "[24, 6]\n"
     ]
    }
   ],
   "source": [
    "def divide_list(lst):\n",
    "    total_sum = sum(lst)\n",
    "    target_sum = total_sum / 2\n",
    "    current_sum = 0\n",
    "    first_list = []\n",
    "    second_list = []\n",
    "    \n",
    "    for num in lst:\n",
    "        if current_sum + num <= target_sum:\n",
    "            current_sum += num\n",
    "            first_list.append(num)\n",
    "        else:\n",
    "            second_list.append(num)\n",
    "            \n",
    "    return first_list, second_list\n",
    "list1=[]\n",
    "num=int(input(\"Enter number of elements in list\"))\n",
    "for i in range(num):\n",
    "        a=int(input())\n",
    "        list1.append(a)\n",
    "        \n",
    "first_list, second_list = divide_list(list1)\n",
    "print(first_list)\n",
    "print(second_list)"
   ]
  },
  {
   "cell_type": "code",
   "execution_count": 67,
   "id": "376df526",
   "metadata": {},
   "outputs": [
    {
     "name": "stdout",
     "output_type": "stream",
     "text": [
      "Enter number of elements in list6\n",
      "2\n",
      "4\n",
      "6\n",
      "12\n",
      "24\n",
      "32\n",
      "[4, 12, 32]\n",
      "[2, 6, 24]\n"
     ]
    }
   ],
   "source": [
    "def divide_list(lst):\n",
    "    total_sum = sum(lst)\n",
    "    list1 = []\n",
    "    list2 = []\n",
    "    current_sum1 = 0\n",
    "    current_sum2 = 0\n",
    "    for elem in lst:\n",
    "        if current_sum1 < current_sum2:\n",
    "            list1.append(elem)\n",
    "            current_sum1 += elem\n",
    "        else:\n",
    "            list2.append(elem)\n",
    "            current_sum2 += elem\n",
    "    return list1, list2\n",
    "\n",
    "list1=[]\n",
    "num=int(input(\"Enter number of elements in list\"))\n",
    "for i in range(num):\n",
    "        a=int(input())\n",
    "        list1.append(a)\n",
    "        \n",
    "first_list, second_list = divide_list(list1)\n",
    "print(first_list)\n",
    "print(second_list)"
   ]
  }
 ],
 "metadata": {
  "kernelspec": {
   "display_name": "Python 3",
   "language": "python",
   "name": "python3"
  },
  "language_info": {
   "codemirror_mode": {
    "name": "ipython",
    "version": 3
   },
   "file_extension": ".py",
   "mimetype": "text/x-python",
   "name": "python",
   "nbconvert_exporter": "python",
   "pygments_lexer": "ipython3",
   "version": "3.11.2"
  },
  "vscode": {
   "interpreter": {
    "hash": "af2e77447d404746bde87a4a9c5a348abb90627c73242ad904b84650ac373141"
   }
  }
 },
 "nbformat": 4,
 "nbformat_minor": 5
}
