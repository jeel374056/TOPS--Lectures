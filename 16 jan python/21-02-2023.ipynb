{
 "cells": [
  {
   "cell_type": "code",
   "execution_count": 1,
   "id": "1c300df1",
   "metadata": {},
   "outputs": [
    {
     "name": "stdout",
     "output_type": "stream",
     "text": [
      "[2, 4, 6, 8, 12, 56]\n"
     ]
    }
   ],
   "source": [
    "# filter()\n",
    "list1=[1,2,3,4,5,6,7,8,9,45,12,56,89,65,87]\n",
    "\n",
    "def even(number):\n",
    "    return number%2==0\n",
    "\n",
    "x=list(filter(even,list1))\n",
    "print(x)"
   ]
  },
  {
   "cell_type": "markdown",
   "id": "e15083b2",
   "metadata": {},
   "source": [
    "# object oriented programming"
   ]
  },
  {
   "cell_type": "code",
   "execution_count": null,
   "id": "16d96788",
   "metadata": {},
   "outputs": [],
   "source": [
    "class\n",
    "objects\n",
    "constructor\n",
    "inheritance\n",
    "polymorphism"
   ]
  },
  {
   "cell_type": "code",
   "execution_count": null,
   "id": "ba0aeb1f",
   "metadata": {},
   "outputs": [],
   "source": [
    "# class\n",
    "class classname:\n",
    "    variables\n",
    "    \n",
    "    functions/methods"
   ]
  },
  {
   "cell_type": "code",
   "execution_count": 4,
   "id": "408e4d39",
   "metadata": {},
   "outputs": [],
   "source": [
    "class student:\n",
    "    rollno=0\n",
    "    name=\"\"\n",
    "    age=0\n",
    "    \n",
    "    def getdata(self):\n",
    "        self.rollno=int(input(\"Enter Rollno\"))\n",
    "        self.name=input(\"Enter Name: \")\n",
    "        self.age=int(input(\"Enter Age: \"))\n",
    "    def showdata(self):\n",
    "        print(f\"your Name is {self.name} yor age is {self.age} and your rollno is{self.rollno}\")"
   ]
  },
  {
   "cell_type": "code",
   "execution_count": 6,
   "id": "fc889b2f",
   "metadata": {},
   "outputs": [
    {
     "name": "stdout",
     "output_type": "stream",
     "text": [
      "Enter Rollno14\n",
      "Enter Name: Sugandh\n",
      "Enter Age: 48\n",
      "your Name is Sugandh yor age is 48 and your rollno is14\n",
      "your Name is  yor age is 0 and your rollno is0\n",
      "your Name is  yor age is 0 and your rollno is0\n"
     ]
    }
   ],
   "source": [
    "st1=student()\n",
    "st2=student()\n",
    "st3=student()\n",
    "\n",
    "st1.getdata()\n",
    "st1.showdata()\n",
    "\n",
    "st2.showdata()\n",
    "st3.showdata()"
   ]
  },
  {
   "cell_type": "code",
   "execution_count": null,
   "id": "9f2b2bac",
   "metadata": {},
   "outputs": [],
   "source": [
    "# constructor\n",
    "# __init__\n"
   ]
  },
  {
   "cell_type": "code",
   "execution_count": 13,
   "id": "bd9bec03",
   "metadata": {},
   "outputs": [
    {
     "name": "stdout",
     "output_type": "stream",
     "text": [
      "Constructor called\n",
      "Constructor called\n",
      "Rahul\n",
      "Jbkjv\n",
      "yourk\n",
      "America\n"
     ]
    }
   ],
   "source": [
    "class demo:\n",
    "    a=\"hello\"\n",
    "    name=\"\"\n",
    "    def __init__(self,n):\n",
    "        print(\"Constructor called\")\n",
    "        self.name=n\n",
    "    \n",
    "    def somwthing(self,value):\n",
    "        self.a=value\n",
    "    \n",
    "    \n",
    "              \n",
    "d1=demo(\"yourk\")\n",
    "d2=demo(\"America\")\n",
    "d1.somwthing(\"Rahul\")\n",
    "d2.somwthing(\"Jbkjv\")\n",
    "print(d1.a)\n",
    "print(d2.a)\n",
    "print(d1.name)\n",
    "print(d2.name)\n",
    "# In normal function we have to pass parameters at the time of calling\n",
    "# but constructor automatically called at the time of object cretaion so we have to pass\n",
    "# paramaters in object creating time"
   ]
  },
  {
   "cell_type": "code",
   "execution_count": null,
   "id": "c0a2223d",
   "metadata": {},
   "outputs": [],
   "source": []
  }
 ],
 "metadata": {
  "kernelspec": {
   "display_name": "Python 3 (ipykernel)",
   "language": "python",
   "name": "python3"
  },
  "language_info": {
   "codemirror_mode": {
    "name": "ipython",
    "version": 3
   },
   "file_extension": ".py",
   "mimetype": "text/x-python",
   "name": "python",
   "nbconvert_exporter": "python",
   "pygments_lexer": "ipython3",
   "version": "3.9.12"
  }
 },
 "nbformat": 4,
 "nbformat_minor": 5
}
