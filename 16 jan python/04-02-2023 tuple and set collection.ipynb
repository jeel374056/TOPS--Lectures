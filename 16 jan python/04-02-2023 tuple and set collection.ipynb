{
 "cells": [
  {
   "cell_type": "code",
   "execution_count": 5,
   "id": "598c34a2",
   "metadata": {},
   "outputs": [
    {
     "name": "stdout",
     "output_type": "stream",
     "text": [
      "<class 'int'>\n",
      "<class 'float'>\n",
      "<class 'bool'>\n",
      "<class 'str'>\n",
      "<class 'list'>\n",
      "<class 'tuple'>\n",
      "<class 'set'>\n",
      "<class 'dict'>\n"
     ]
    }
   ],
   "source": [
    "# tuple\n",
    "\n",
    "# tuple is also a collection of elements of similar or different datatype like list\n",
    "# but tuple have some properties which is different from list\n",
    "\n",
    "# tuple is immutable\n",
    "# tuple is ordered \n",
    "# tuple allows duplicates\n",
    "\n",
    "# tuple is defined in round brackets\n",
    "\n",
    "tuple1=(1,56.96,True,\"hello world\",[45,85,96],(1,2,3),{\"value\",\"worrth\"},{1:\"heavy\",2:\"duty\"})\n",
    "# print(tuple1)\n",
    "\n",
    "for i in tuple1:\n",
    "    print(type(i))"
   ]
  },
  {
   "cell_type": "code",
   "execution_count": 9,
   "id": "b31c391c",
   "metadata": {},
   "outputs": [
    {
     "name": "stdout",
     "output_type": "stream",
     "text": [
      "<class 'list'>\n"
     ]
    }
   ],
   "source": [
    "list1=[8]\n",
    "print(type(list1))"
   ]
  },
  {
   "cell_type": "code",
   "execution_count": 13,
   "id": "56d89dec",
   "metadata": {},
   "outputs": [
    {
     "name": "stdout",
     "output_type": "stream",
     "text": [
      "<class 'tuple'>\n"
     ]
    }
   ],
   "source": [
    "tuple1=(58,)\n",
    "print(type(tuple1))\n"
   ]
  },
  {
   "cell_type": "code",
   "execution_count": 15,
   "id": "9a73be17",
   "metadata": {},
   "outputs": [
    {
     "name": "stdout",
     "output_type": "stream",
     "text": [
      "[58, 78, 96, 59]\n"
     ]
    },
    {
     "ename": "TypeError",
     "evalue": "'tuple' object does not support item assignment",
     "output_type": "error",
     "traceback": [
      "\u001b[1;31m---------------------------------------------------------------------------\u001b[0m",
      "\u001b[1;31mTypeError\u001b[0m                                 Traceback (most recent call last)",
      "Input \u001b[1;32mIn [15]\u001b[0m, in \u001b[0;36m<cell line: 6>\u001b[1;34m()\u001b[0m\n\u001b[0;32m      3\u001b[0m \u001b[38;5;28mprint\u001b[39m(list1)\n\u001b[0;32m      5\u001b[0m tuple1\u001b[38;5;241m=\u001b[39m(\u001b[38;5;241m58\u001b[39m,\u001b[38;5;241m78\u001b[39m,\u001b[38;5;241m48\u001b[39m,\u001b[38;5;241m59\u001b[39m)\n\u001b[1;32m----> 6\u001b[0m tuple1[\u001b[38;5;241m2\u001b[39m]\u001b[38;5;241m=\u001b[39m\u001b[38;5;241m96\u001b[39m\n\u001b[0;32m      7\u001b[0m \u001b[38;5;28mprint\u001b[39m(tuple1)\n",
      "\u001b[1;31mTypeError\u001b[0m: 'tuple' object does not support item assignment"
     ]
    }
   ],
   "source": [
    "list1=[58,78,48,59]\n",
    "list1[2]=96\n",
    "print(list1)\n",
    "\n",
    "tuple1=(58,78,48,59)\n",
    "tuple1[2]=96\n",
    "print(tuple1)"
   ]
  },
  {
   "cell_type": "code",
   "execution_count": 19,
   "id": "a6daf4fe",
   "metadata": {},
   "outputs": [
    {
     "name": "stdout",
     "output_type": "stream",
     "text": [
      "12\n",
      "(96, 54, 12, 54, 89)\n",
      "(9, 58, 63, 89, 54, 12)\n"
     ]
    }
   ],
   "source": [
    "# tuple accessing and tuple slicing\n",
    "tuple1=(48,58,78,96,54,12,54,89,63,58,9)\n",
    "print(tuple1[5])\n",
    "print(tuple1[3:8])\n",
    "print(tuple1[10:4:-1])"
   ]
  },
  {
   "cell_type": "code",
   "execution_count": 23,
   "id": "268d5b57",
   "metadata": {},
   "outputs": [
    {
     "name": "stdout",
     "output_type": "stream",
     "text": [
      "[48, 89, 58, 48, 1, 4, 7, 10, 13, 16, 19, 14, 25, 63, 6547, 78, 9]\n"
     ]
    }
   ],
   "source": [
    "list1=[48,89,65,445,14,25,63,6547,78,9]\n",
    "list1[2:4]=[58,48,59,87,89,8899,]\n",
    "list1[4:8]=range(1,20,3)\n",
    "print(list1)"
   ]
  },
  {
   "cell_type": "code",
   "execution_count": null,
   "id": "2cc7da06",
   "metadata": {},
   "outputs": [],
   "source": [
    "# tuple function\n",
    "len()\n",
    "min()\n",
    "max()\n",
    "tuple()"
   ]
  },
  {
   "cell_type": "code",
   "execution_count": 28,
   "id": "a730178f",
   "metadata": {},
   "outputs": [
    {
     "name": "stdout",
     "output_type": "stream",
     "text": [
      "6\n",
      "8\n",
      "96\n"
     ]
    }
   ],
   "source": [
    "tup1=(45,78,96,58,47,8)\n",
    "print(len(tup1))\n",
    "print(min(tup1))\n",
    "print(max(tup1))"
   ]
  },
  {
   "cell_type": "code",
   "execution_count": 41,
   "id": "ec7721e3",
   "metadata": {},
   "outputs": [
    {
     "name": "stdout",
     "output_type": "stream",
     "text": [
      "(96, 48, 85, 88, 89, 57, 47)\n"
     ]
    }
   ],
   "source": [
    "list1=[45,87,996,889,48,25,14,56]\n",
    "tup1=tuple({48,47,89,88,57,47,88,96,47,85,89})\n",
    "print(tup1)"
   ]
  },
  {
   "cell_type": "code",
   "execution_count": null,
   "id": "7967fb4b",
   "metadata": {},
   "outputs": [],
   "source": [
    "# tuple methods\n",
    "index()\n",
    "count()\n",
    "\n"
   ]
  },
  {
   "cell_type": "code",
   "execution_count": 45,
   "id": "e6cb2055",
   "metadata": {},
   "outputs": [
    {
     "name": "stdout",
     "output_type": "stream",
     "text": [
      "1\n"
     ]
    },
    {
     "ename": "ValueError",
     "evalue": "tuple.index(x): x not in tuple",
     "output_type": "error",
     "traceback": [
      "\u001b[1;31m---------------------------------------------------------------------------\u001b[0m",
      "\u001b[1;31mValueError\u001b[0m                                Traceback (most recent call last)",
      "Input \u001b[1;32mIn [45]\u001b[0m, in \u001b[0;36m<cell line: 4>\u001b[1;34m()\u001b[0m\n\u001b[0;32m      2\u001b[0m tup1\u001b[38;5;241m=\u001b[39m(\u001b[38;5;241m48\u001b[39m,\u001b[38;5;241m57\u001b[39m,\u001b[38;5;241m89\u001b[39m,\u001b[38;5;241m654\u001b[39m,\u001b[38;5;241m1\u001b[39m,\u001b[38;5;241m58\u001b[39m,\u001b[38;5;241m78\u001b[39m,\u001b[38;5;241m96\u001b[39m,\u001b[38;5;241m78\u001b[39m,\u001b[38;5;241m57\u001b[39m,\u001b[38;5;241m48\u001b[39m)\n\u001b[0;32m      3\u001b[0m \u001b[38;5;28mprint\u001b[39m(tup1\u001b[38;5;241m.\u001b[39mindex(\u001b[38;5;241m57\u001b[39m))\n\u001b[1;32m----> 4\u001b[0m \u001b[38;5;28mprint\u001b[39m(\u001b[43mtup1\u001b[49m\u001b[38;5;241;43m.\u001b[39;49m\u001b[43mindex\u001b[49m\u001b[43m(\u001b[49m\u001b[38;5;241;43m4896\u001b[39;49m\u001b[43m)\u001b[49m)\n",
      "\u001b[1;31mValueError\u001b[0m: tuple.index(x): x not in tuple"
     ]
    }
   ],
   "source": [
    "# tuple.index()\n",
    "tup1=(48,57,89,654,1,58,78,96,78,57,48)\n",
    "print(tup1.index(57))\n",
    "print(tup1.index(4896.))"
   ]
  },
  {
   "cell_type": "code",
   "execution_count": 47,
   "id": "473f9416",
   "metadata": {},
   "outputs": [
    {
     "name": "stdout",
     "output_type": "stream",
     "text": [
      "0\n"
     ]
    }
   ],
   "source": [
    "# tuple.count()\n",
    "tup1=(48,78,96,54,15,25,63,58,48)\n",
    "print(tup1.count(48897))"
   ]
  },
  {
   "cell_type": "code",
   "execution_count": 70,
   "id": "ff5ae8e0",
   "metadata": {},
   "outputs": [
    {
     "name": "stdout",
     "output_type": "stream",
     "text": [
      "(451, 58, 96, 87, 54, 2, 1)\n"
     ]
    }
   ],
   "source": [
    "tuple1=(1,2,54,87,96,58,451)\n",
    "print(tuple1[-1::-1])"
   ]
  },
  {
   "cell_type": "code",
   "execution_count": 51,
   "id": "6390ca19",
   "metadata": {},
   "outputs": [],
   "source": [
    "# set\n",
    "set1={14,45.96,True,\"String\",(47,87,89)}"
   ]
  },
  {
   "cell_type": "code",
   "execution_count": null,
   "id": "7cc3179b",
   "metadata": {},
   "outputs": [],
   "source": [
    "# set is a collection of elements of immutable type\n",
    "# set is unordered\n",
    "# set does not allow duplicates"
   ]
  },
  {
   "cell_type": "code",
   "execution_count": 56,
   "id": "38c244d9",
   "metadata": {},
   "outputs": [
    {
     "name": "stdout",
     "output_type": "stream",
     "text": [
      "<class 'set'>\n",
      "set()\n"
     ]
    }
   ],
   "source": [
    "set1=set()\n",
    "print(type(set1))\n",
    "print(set1)"
   ]
  },
  {
   "cell_type": "code",
   "execution_count": 62,
   "id": "2565a76c",
   "metadata": {},
   "outputs": [
    {
     "name": "stdout",
     "output_type": "stream",
     "text": [
      "{96, 85, 54, 101, 4587, 45, 78, 95}\n"
     ]
    }
   ],
   "source": [
    "# set methods\n",
    "# add()\n",
    "set1={45,85,96,54,78,95}\n",
    "set1.add(101)\n",
    "set1.add(4587)\n",
    "print(set1)"
   ]
  },
  {
   "cell_type": "code",
   "execution_count": 63,
   "id": "7e7af7a9",
   "metadata": {},
   "outputs": [
    {
     "name": "stdout",
     "output_type": "stream",
     "text": [
      "{85, 54, 45, 78, 95}\n"
     ]
    }
   ],
   "source": [
    "# pop()\n",
    "set1={45,85,96,54,78,95}\n",
    "set1.pop()\n",
    "print(set1)\n",
    "# remove()\n",
    "\n",
    "# discard()"
   ]
  },
  {
   "cell_type": "code",
   "execution_count": 68,
   "id": "cac92789",
   "metadata": {},
   "outputs": [
    {
     "ename": "KeyError",
     "evalue": "5489",
     "output_type": "error",
     "traceback": [
      "\u001b[1;31m---------------------------------------------------------------------------\u001b[0m",
      "\u001b[1;31mKeyError\u001b[0m                                  Traceback (most recent call last)",
      "Input \u001b[1;32mIn [68]\u001b[0m, in \u001b[0;36m<cell line: 2>\u001b[1;34m()\u001b[0m\n\u001b[0;32m      1\u001b[0m set1\u001b[38;5;241m=\u001b[39m{\u001b[38;5;241m45\u001b[39m,\u001b[38;5;241m85\u001b[39m,\u001b[38;5;241m96\u001b[39m,\u001b[38;5;241m54\u001b[39m,\u001b[38;5;241m78\u001b[39m,\u001b[38;5;241m95\u001b[39m}\n\u001b[1;32m----> 2\u001b[0m \u001b[43mset1\u001b[49m\u001b[38;5;241;43m.\u001b[39;49m\u001b[43mremove\u001b[49m\u001b[43m(\u001b[49m\u001b[38;5;241;43m5489\u001b[39;49m\u001b[43m)\u001b[49m\n\u001b[0;32m      3\u001b[0m \u001b[38;5;28mprint\u001b[39m(set1)\n",
      "\u001b[1;31mKeyError\u001b[0m: 5489"
     ]
    }
   ],
   "source": [
    "set1={45,85,96,54,78,95}\n",
    "set1.remove(5489)\n",
    "print(set1)"
   ]
  },
  {
   "cell_type": "code",
   "execution_count": 69,
   "id": "8cfd5405",
   "metadata": {},
   "outputs": [
    {
     "name": "stdout",
     "output_type": "stream",
     "text": [
      "{96, 85, 54, 45, 78, 95}\n"
     ]
    }
   ],
   "source": [
    "set1={45,85,96,54,78,95}\n",
    "set1.discard(5489)\n",
    "print(set1)"
   ]
  },
  {
   "cell_type": "code",
   "execution_count": 1,
   "id": "ddd7cc10",
   "metadata": {},
   "outputs": [
    {
     "name": "stdout",
     "output_type": "stream",
     "text": [
      "{96, 65, 45, 78, 47, 48, 658, 85, 89, 58}\n"
     ]
    }
   ],
   "source": [
    "# union\n",
    "set1={45,48,78,96,58,47}\n",
    "set2={85,47,89,65,89,658}\n",
    "y=set1.union(set2)\n",
    "print(y)"
   ]
  },
  {
   "cell_type": "code",
   "execution_count": 2,
   "id": "ccb5f756",
   "metadata": {},
   "outputs": [
    {
     "name": "stdout",
     "output_type": "stream",
     "text": [
      "{45, 68, 12, 47}\n"
     ]
    }
   ],
   "source": [
    "# intersection\n",
    "set1={45,68,96,43,12,56,47}\n",
    "set2={58,24,15,47,68,12,36,45}\n",
    "answer=set1.intersection(set2)\n",
    "print(answer)"
   ]
  },
  {
   "cell_type": "code",
   "execution_count": 5,
   "id": "d2f7855d",
   "metadata": {},
   "outputs": [
    {
     "name": "stdout",
     "output_type": "stream",
     "text": [
      "{24, 58, 36, 15}\n"
     ]
    }
   ],
   "source": [
    "# difference\n",
    "set1={45,68,96,43,12,56,47}\n",
    "set2={58,24,15,47,68,12,36,45}\n",
    "# answer=set1.difference(set2)\n",
    "answer=set2.difference(set1)\n",
    "print(answer)"
   ]
  },
  {
   "cell_type": "code",
   "execution_count": 7,
   "id": "92a3e04c",
   "metadata": {},
   "outputs": [
    {
     "name": "stdout",
     "output_type": "stream",
     "text": [
      "False\n"
     ]
    }
   ],
   "source": [
    "set1={2,4,6,8,10,12,45,78,96,58,4}\n",
    "set2={4,8,78,96}\n",
    "answer=set2.issubset(set1)\n",
    "print(answer)"
   ]
  },
  {
   "cell_type": "code",
   "execution_count": 8,
   "id": "afab6af7",
   "metadata": {},
   "outputs": [
    {
     "name": "stdout",
     "output_type": "stream",
     "text": [
      "True\n"
     ]
    }
   ],
   "source": [
    "set1={2,4,6,8,10,12,45,78,96,58,4}\n",
    "set2={4,8,78,96}\n",
    "answer=set1.issuperset(set2)\n",
    "print(answer)"
   ]
  }
 ],
 "metadata": {
  "kernelspec": {
   "display_name": "Python 3 (ipykernel)",
   "language": "python",
   "name": "python3"
  },
  "language_info": {
   "codemirror_mode": {
    "name": "ipython",
    "version": 3
   },
   "file_extension": ".py",
   "mimetype": "text/x-python",
   "name": "python",
   "nbconvert_exporter": "python",
   "pygments_lexer": "ipython3",
   "version": "3.9.12"
  }
 },
 "nbformat": 4,
 "nbformat_minor": 5
}
