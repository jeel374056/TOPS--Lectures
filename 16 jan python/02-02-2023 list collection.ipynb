{
 "cells": [
  {
   "cell_type": "code",
   "execution_count": null,
   "id": "3cbb892f",
   "metadata": {},
   "outputs": [],
   "source": [
    "# Collections\n",
    "\n",
    "# List\n",
    "\n",
    "# list is a collection of elements of similar or different data types as\n",
    "# well as collection\n",
    "\n",
    "# list is defined in square brackets[]\n",
    "# list is mutable\n",
    "# list is ordered elements having index\n",
    "# list allowed duplicates\n",
    "\n",
    "# list elements have all datatype values inside it"
   ]
  },
  {
   "cell_type": "code",
   "execution_count": 6,
   "id": "56bc67e8",
   "metadata": {},
   "outputs": [
    {
     "name": "stdout",
     "output_type": "stream",
     "text": [
      "[1, 45.36, 'Hello World', True, [45, 36], (89, 96), {32, 25}, {1: 'wow', 2: 'Great'}]\n",
      "Hello World\n",
      "o\n",
      "False\n"
     ]
    }
   ],
   "source": [
    "list1=[1,45.36,\"Hello World\",True,[45,36],(89,96),{25,32},{1:\"wow\",2:\"Great\"},]\n",
    "print(list1)\n",
    "print(list1[2])\n",
    "print(list1[2][4])\n",
    "print(\"wonderful\" in list1)"
   ]
  },
  {
   "cell_type": "code",
   "execution_count": 10,
   "id": "40eabedd",
   "metadata": {},
   "outputs": [
    {
     "name": "stdout",
     "output_type": "stream",
     "text": [
      "True\n",
      "True\n"
     ]
    }
   ],
   "source": [
    "print(2 in range(1,10))\n",
    "print(\"x\" not in \"Buffalo\")"
   ]
  },
  {
   "cell_type": "code",
   "execution_count": 3,
   "id": "d750bcd8",
   "metadata": {},
   "outputs": [
    {
     "name": "stdout",
     "output_type": "stream",
     "text": [
      "<class 'int'>\n",
      "<class 'float'>\n",
      "<class 'str'>\n",
      "<class 'bool'>\n",
      "<class 'list'>\n",
      "<class 'tuple'>\n",
      "<class 'set'>\n",
      "<class 'dict'>\n"
     ]
    }
   ],
   "source": [
    "for i in list1:\n",
    "    print(type(i))"
   ]
  },
  {
   "cell_type": "code",
   "execution_count": 24,
   "id": "3507ef97",
   "metadata": {},
   "outputs": [
    {
     "name": "stdout",
     "output_type": "stream",
     "text": [
      "8\n",
      "12.39\n",
      "85.96\n",
      "Apple\n",
      "wow\n"
     ]
    },
    {
     "data": {
      "text/plain": [
       "['w', 'o', 'w']"
      ]
     },
     "execution_count": 24,
     "metadata": {},
     "output_type": "execute_result"
    }
   ],
   "source": [
    "list2=[1, 45.36, 'Hello World', True, [45, 36], (89, 96), {32, 25}, \n",
    "       {1: 'wow', 2: 'Great'}]\n",
    "\n",
    "print(len(list2))\n",
    "list3=[45,85.96,28.36,12.39]\n",
    "list4=[\"Hello\",\"Apple\",\"wow\",\"great\",\"hjsdfh\",\"Apple\"]\n",
    "print(min(list3))\n",
    "print(max(list3))\n",
    "\n",
    "print(min(list4))\n",
    "print(max(list4))\n",
    "\n",
    "str1=\"wow\"\n",
    "num1=8457\n",
    "list(str1)\n",
    "# list(range(1,10))\n",
    "# list(num1)\n"
   ]
  },
  {
   "cell_type": "code",
   "execution_count": null,
   "id": "9d8569d5",
   "metadata": {},
   "outputs": [],
   "source": [
    "# list methods\n",
    "# elemnts insert\n",
    "append()\n",
    "extend()\n",
    "insert()\n",
    "\n",
    "# elements remove\n",
    "pop()\n",
    "remove()\n",
    "\n",
    "# elements location\n",
    "count()\n",
    "index()\n",
    "\n",
    "# list manipulate\n",
    "reverse()\n",
    "sort()\n",
    "clear()\n",
    "copy()"
   ]
  },
  {
   "cell_type": "code",
   "execution_count": 27,
   "id": "114dcf17",
   "metadata": {},
   "outputs": [
    {
     "name": "stdout",
     "output_type": "stream",
     "text": [
      "[1, 2, 4, 8, 16, [1, 2, 3, 4]]\n",
      "[1, 2, 4, 8, 16, [1, 2, 3, 4], 'WOW']\n"
     ]
    }
   ],
   "source": [
    "# append(element) --it adds the element at the end of the list\n",
    "# this element can be of any type and any collection but add as an single element\n",
    "list1=[1,2,4,8,16]\n",
    "list1.append([1,2,3,4])\n",
    "print(list1)\n",
    "list1.append(\"WOW\")\n",
    "print(list1)"
   ]
  },
  {
   "cell_type": "code",
   "execution_count": 28,
   "id": "f8bfea32",
   "metadata": {},
   "outputs": [
    {
     "name": "stdout",
     "output_type": "stream",
     "text": [
      "[1, 0.2, 4, 5, 8, 1, 2, 3, 4]\n",
      "[1, 0.2, 4, 5, 8, 1, 2, 3, 4, 'W', 'O', 'W']\n",
      "[1, 0.2, 4, 5, 8, 1, 2, 3, 4, 'W', 'O', 'W', 4, 9, 14, 19, 24, 29, 34, 39]\n"
     ]
    }
   ],
   "source": [
    "# extend(element/iterable/collection) --it adds the element at the end of the list\n",
    "# this elements cannot be of any type it shoud be any iterable\n",
    "list1=[1,0.2,4,5,8]\n",
    "list1.extend([1,2,3,4])\n",
    "print(list1)\n",
    "list1.extend(\"WOW\")\n",
    "print(list1)\n",
    "list1.extend(range(4,40,5))\n",
    "print(list1)"
   ]
  },
  {
   "cell_type": "code",
   "execution_count": 30,
   "id": "ebce6c2a",
   "metadata": {},
   "outputs": [
    {
     "name": "stdout",
     "output_type": "stream",
     "text": [
      "[1, 0.2, 963, 4, 5, 8]\n",
      "[1, 0.2, 963, 4, 'Hello', 5, 8]\n"
     ]
    }
   ],
   "source": [
    "# insert(index,element)\n",
    "\n",
    "list1=[1,0.2,4,5,8]\n",
    "list1.insert(2,963)\n",
    "print(list1)\n",
    "list1.insert(4,\"Hello\")\n",
    "print(list1)\n"
   ]
  },
  {
   "cell_type": "code",
   "execution_count": 33,
   "id": "ade0fc02",
   "metadata": {},
   "outputs": [
    {
     "name": "stdout",
     "output_type": "stream",
     "text": [
      "[4, 8, 46, 778, 8, 87]\n",
      "[4, 8, 778, 8, 87]\n"
     ]
    },
    {
     "ename": "IndexError",
     "evalue": "pop index out of range",
     "output_type": "error",
     "traceback": [
      "\u001b[1;31m---------------------------------------------------------------------------\u001b[0m",
      "\u001b[1;31mIndexError\u001b[0m                                Traceback (most recent call last)",
      "Input \u001b[1;32mIn [33]\u001b[0m, in \u001b[0;36m<cell line: 9>\u001b[1;34m()\u001b[0m\n\u001b[0;32m      6\u001b[0m list4\u001b[38;5;241m.\u001b[39mpop(\u001b[38;5;241m2\u001b[39m)\n\u001b[0;32m      7\u001b[0m \u001b[38;5;28mprint\u001b[39m(list4)\n\u001b[1;32m----> 9\u001b[0m \u001b[43mlist4\u001b[49m\u001b[38;5;241;43m.\u001b[39;49m\u001b[43mpop\u001b[49m\u001b[43m(\u001b[49m\u001b[38;5;241;43m12\u001b[39;49m\u001b[43m)\u001b[49m\n\u001b[0;32m     10\u001b[0m \u001b[38;5;28mprint\u001b[39m(list4)\n",
      "\u001b[1;31mIndexError\u001b[0m: pop index out of range"
     ]
    }
   ],
   "source": [
    "# pop(index) ---removes the elements at the sepcified index but if index not mention then \n",
    "# it removes elements at the last of list\n",
    "list4=[4,8,46,778,8,87,58]\n",
    "list4.pop()\n",
    "print(list4)\n",
    "list4.pop(2)\n",
    "print(list4)\n",
    "\n",
    "# if we tried to remove element from the index which is not in list then it gives index error\n",
    "list4.pop(12)\n",
    "print(list4)\n"
   ]
  },
  {
   "cell_type": "code",
   "execution_count": 35,
   "id": "d98ffd68",
   "metadata": {},
   "outputs": [
    {
     "name": "stdout",
     "output_type": "stream",
     "text": [
      "[4, 46, 778, 8, 87, 58]\n"
     ]
    },
    {
     "ename": "ValueError",
     "evalue": "list.remove(x): x not in list",
     "output_type": "error",
     "traceback": [
      "\u001b[1;31m---------------------------------------------------------------------------\u001b[0m",
      "\u001b[1;31mValueError\u001b[0m                                Traceback (most recent call last)",
      "Input \u001b[1;32mIn [35]\u001b[0m, in \u001b[0;36m<cell line: 5>\u001b[1;34m()\u001b[0m\n\u001b[0;32m      3\u001b[0m list1\u001b[38;5;241m.\u001b[39mremove(\u001b[38;5;241m8\u001b[39m)\n\u001b[0;32m      4\u001b[0m \u001b[38;5;28mprint\u001b[39m(list1)\n\u001b[1;32m----> 5\u001b[0m \u001b[43mlist1\u001b[49m\u001b[38;5;241;43m.\u001b[39;49m\u001b[43mremove\u001b[49m\u001b[43m(\u001b[49m\u001b[38;5;241;43m343\u001b[39;49m\u001b[43m)\u001b[49m\n\u001b[0;32m      6\u001b[0m \u001b[38;5;28mprint\u001b[39m(list1)\n",
      "\u001b[1;31mValueError\u001b[0m: list.remove(x): x not in list"
     ]
    }
   ],
   "source": [
    "# remove(element) --it removes the specified element from the list at its first occurences\n",
    "list1=[4,8,46,778,8,87,58]\n",
    "list1.remove(8)\n",
    "print(list1)\n",
    "list1.remove(343)\n",
    "print(list1)\n"
   ]
  },
  {
   "cell_type": "code",
   "execution_count": 37,
   "id": "e8459faf",
   "metadata": {},
   "outputs": [
    {
     "data": {
      "text/plain": [
       "0"
      ]
     },
     "execution_count": 37,
     "metadata": {},
     "output_type": "execute_result"
    }
   ],
   "source": [
    "# count it counts the elements in list\n",
    "list1=[4,8,46,778,8,87,58]\n",
    "list1.count(8)\n",
    "list1.count(789)"
   ]
  },
  {
   "cell_type": "code",
   "execution_count": 39,
   "id": "6cfce2df",
   "metadata": {},
   "outputs": [
    {
     "ename": "ValueError",
     "evalue": "896 is not in list",
     "output_type": "error",
     "traceback": [
      "\u001b[1;31m---------------------------------------------------------------------------\u001b[0m",
      "\u001b[1;31mValueError\u001b[0m                                Traceback (most recent call last)",
      "Input \u001b[1;32mIn [39]\u001b[0m, in \u001b[0;36m<cell line: 3>\u001b[1;34m()\u001b[0m\n\u001b[0;32m      1\u001b[0m list1\u001b[38;5;241m=\u001b[39m[\u001b[38;5;241m4\u001b[39m,\u001b[38;5;241m8\u001b[39m,\u001b[38;5;241m46\u001b[39m,\u001b[38;5;241m778\u001b[39m,\u001b[38;5;241m8\u001b[39m,\u001b[38;5;241m87\u001b[39m,\u001b[38;5;241m58\u001b[39m]\n\u001b[0;32m      2\u001b[0m list1\u001b[38;5;241m.\u001b[39mindex(\u001b[38;5;241m8\u001b[39m)\n\u001b[1;32m----> 3\u001b[0m \u001b[43mlist1\u001b[49m\u001b[38;5;241;43m.\u001b[39;49m\u001b[43mindex\u001b[49m\u001b[43m(\u001b[49m\u001b[38;5;241;43m896\u001b[39;49m\u001b[43m)\u001b[49m\n",
      "\u001b[1;31mValueError\u001b[0m: 896 is not in list"
     ]
    }
   ],
   "source": [
    "list1=[4,8,46,778,8,87,58]\n",
    "list1.index(8)\n",
    "list1.index(896)"
   ]
  },
  {
   "cell_type": "code",
   "execution_count": 17,
   "id": "0d1f0c64",
   "metadata": {},
   "outputs": [
    {
     "name": "stdout",
     "output_type": "stream",
     "text": [
      "[6, 5, 4, 3, 2, 1]\n"
     ]
    }
   ],
   "source": [
    "# reverse --it reverses the string\n",
    "list4=[1,2,3,4,5,6]\n",
    "list4.reverse()\n",
    "print(list4)"
   ]
  },
  {
   "cell_type": "code",
   "execution_count": 19,
   "id": "e48f9da6",
   "metadata": {},
   "outputs": [
    {
     "name": "stdout",
     "output_type": "stream",
     "text": [
      "[846, 354, 97, 78, 58, 45]\n"
     ]
    }
   ],
   "source": [
    "# sort it aorts the string and for descending we have to pass reverse=True\n",
    "list1=[58,97,45,846,354,78]\n",
    "list1.sort(reverse=True)\n",
    "print(list1)"
   ]
  },
  {
   "cell_type": "code",
   "execution_count": 20,
   "id": "3fdb6d02",
   "metadata": {},
   "outputs": [
    {
     "name": "stdout",
     "output_type": "stream",
     "text": [
      "[]\n"
     ]
    }
   ],
   "source": [
    "# it clears the list\n",
    "list1=[48,58,98,97,8]\n",
    "list1.clear()\n",
    "print(list1)"
   ]
  },
  {
   "cell_type": "code",
   "execution_count": 22,
   "id": "b58da0f0",
   "metadata": {},
   "outputs": [
    {
     "name": "stdout",
     "output_type": "stream",
     "text": [
      "[1, 2, 3, 4]\n",
      "[1, 2, 3, 4]\n",
      "[1, 2, 846, 4]\n",
      "[1, 2, 846, 4]\n"
     ]
    }
   ],
   "source": [
    "list1=[1,2,3,4]\n",
    "list2=list1\n",
    "print(list1)\n",
    "print(list2)\n",
    "list1[2]=846\n",
    "print(list1)\n",
    "print(list2)"
   ]
  },
  {
   "cell_type": "code",
   "execution_count": 23,
   "id": "9a6a5c3b",
   "metadata": {
    "scrolled": true
   },
   "outputs": [
    {
     "name": "stdout",
     "output_type": "stream",
     "text": [
      "[1, 2, 3, 4]\n",
      "[1, 2, 3, 4]\n",
      "[1, 2, 846, 4]\n",
      "[1, 2, 3, 4]\n"
     ]
    }
   ],
   "source": [
    "# copy methods\n",
    "list1=[1,2,3,4]\n",
    "list2=list1.copy()\n",
    "print(list1)\n",
    "print(list2)\n",
    "list1[2]=846\n",
    "print(list1)\n",
    "print(list2)"
   ]
  }
 ],
 "metadata": {
  "kernelspec": {
   "display_name": "Python 3 (ipykernel)",
   "language": "python",
   "name": "python3"
  },
  "language_info": {
   "codemirror_mode": {
    "name": "ipython",
    "version": 3
   },
   "file_extension": ".py",
   "mimetype": "text/x-python",
   "name": "python",
   "nbconvert_exporter": "python",
   "pygments_lexer": "ipython3",
   "version": "3.9.12"
  }
 },
 "nbformat": 4,
 "nbformat_minor": 5
}
