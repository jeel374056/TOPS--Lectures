{
 "cells": [
  {
   "cell_type": "code",
   "execution_count": null,
   "id": "279f7232",
   "metadata": {},
   "outputs": [],
   "source": [
    "# collections  // sequence\n",
    "\n",
    "range\n",
    "list\n",
    "string\n",
    "tuple\n",
    "set\n",
    "dictionary"
   ]
  },
  {
   "cell_type": "code",
   "execution_count": null,
   "id": "7ec87092",
   "metadata": {},
   "outputs": [],
   "source": [
    "# string\n",
    "# character datatype is not in python but single character in string string\n",
    "# with lenght one\n",
    "str1=\"a\"\n",
    "\n",
    "str1=''  \" \" \"\"\"  \"\"\"  '''   '''"
   ]
  },
  {
   "cell_type": "code",
   "execution_count": null,
   "id": "50e1cfcb",
   "metadata": {},
   "outputs": [],
   "source": []
  },
  {
   "cell_type": "code",
   "execution_count": 3,
   "id": "f7be871f",
   "metadata": {},
   "outputs": [
    {
     "name": "stdout",
     "output_type": "stream",
     "text": [
      "sdjkfh es\"dhv'bed jhfdvbj\n"
     ]
    }
   ],
   "source": [
    "str1=\"sdjkfh es\\\"dhv'bed jhfdvbj\"\n",
    "print(str1)"
   ]
  },
  {
   "cell_type": "code",
   "execution_count": 5,
   "id": "940ae627",
   "metadata": {},
   "outputs": [
    {
     "name": "stdout",
     "output_type": "stream",
     "text": [
      "kjfs sdbvcsdb\"v h b'v bfd hv fv \n"
     ]
    }
   ],
   "source": [
    "str1='kjfs sdbvcsdb\"v h b\\'v bfd hv fv '\n",
    "print(str1)"
   ]
  },
  {
   "cell_type": "code",
   "execution_count": 9,
   "id": "7a2838f8",
   "metadata": {},
   "outputs": [
    {
     "name": "stdout",
     "output_type": "stream",
     "text": [
      "Hello I am good                       a        t\n",
      "What BAout You\n",
      "You are not looking well\n"
     ]
    }
   ],
   "source": [
    "str2=\"\"\"Hello I am good                       a        t\n",
    "What BAout You\n",
    "You are not looking well\"\"\"\n",
    "print(str2)"
   ]
  },
  {
   "cell_type": "code",
   "execution_count": 10,
   "id": "4633c778",
   "metadata": {},
   "outputs": [
    {
     "name": "stdout",
     "output_type": "stream",
     "text": [
      "\n",
      "Hello I am good                       a        t\n",
      "What BAout You\n",
      "You are not looking well\n",
      "\n"
     ]
    }
   ],
   "source": [
    "str3='''\n",
    "Hello I am good                       a        t\n",
    "What BAout You\n",
    "You are not looking well\n",
    "'''\n",
    "print(str3)"
   ]
  },
  {
   "cell_type": "code",
   "execution_count": 12,
   "id": "8928bbb9",
   "metadata": {},
   "outputs": [
    {
     "ename": "TypeError",
     "evalue": "'str' object does not support item assignment",
     "output_type": "error",
     "traceback": [
      "\u001b[1;31m---------------------------------------------------------------------------\u001b[0m",
      "\u001b[1;31mTypeError\u001b[0m                                 Traceback (most recent call last)",
      "Input \u001b[1;32mIn [12]\u001b[0m, in \u001b[0;36m<cell line: 1>\u001b[1;34m()\u001b[0m\n\u001b[1;32m----> 1\u001b[0m str1[\u001b[38;5;241m3\u001b[39m]\u001b[38;5;241m=\u001b[39m\u001b[38;5;124m'\u001b[39m\u001b[38;5;124mk\u001b[39m\u001b[38;5;124m'\u001b[39m\n\u001b[0;32m      2\u001b[0m \u001b[38;5;28mprint\u001b[39m(str1)\n",
      "\u001b[1;31mTypeError\u001b[0m: 'str' object does not support item assignment"
     ]
    }
   ],
   "source": [
    "str1[3]='k'\n",
    "print(str1)"
   ]
  },
  {
   "cell_type": "code",
   "execution_count": 20,
   "id": "dd577b82",
   "metadata": {},
   "outputs": [
    {
     "name": "stdout",
     "output_type": "stream",
     "text": [
      "f\n",
      "h\n",
      "hj  e\n",
      "hcbj\n",
      "hcbj jh\n",
      "jchj jbc\n"
     ]
    }
   ],
   "source": [
    "str1=\"hbfw hcbj jhcje  jh fd\"\n",
    "# string is an array\n",
    "# index position in string starts with 0\n",
    "# string is immutable datatype or collection we cannot change its elements \n",
    "print(str1[2])\n",
    "print(str1[-4])\n",
    "print(str1[-4:-9:-1])\n",
    "print(str1[5:9])\n",
    "print(str1[5:12])\n",
    "print(str1[13:5:-1])"
   ]
  },
  {
   "cell_type": "code",
   "execution_count": 26,
   "id": "f0390c50",
   "metadata": {},
   "outputs": [
    {
     "name": "stdout",
     "output_type": "stream",
     "text": [
      "llo Python\n",
      "nohtyP olleH\n"
     ]
    }
   ],
   "source": [
    "str1=\"Hello Python\"\n",
    "print(str1[2:])\n",
    "print(str1[::-1])"
   ]
  },
  {
   "cell_type": "code",
   "execution_count": 28,
   "id": "cd84cd05",
   "metadata": {},
   "outputs": [
    {
     "name": "stdout",
     "output_type": "stream",
     "text": [
      "3\n",
      "5\n",
      "8\n",
      "17\n"
     ]
    }
   ],
   "source": [
    "str1=\"Wow I am Learning Python\"\n",
    "inde=-1;\n",
    "for i in str1:\n",
    "    inde+=1\n",
    "    if i==\" \":\n",
    "        print(inde)\n",
    "        "
   ]
  },
  {
   "cell_type": "code",
   "execution_count": null,
   "id": "08baa235",
   "metadata": {},
   "outputs": [],
   "source": [
    "*\n",
    "**\n",
    "***\n",
    "****\n",
    "*****"
   ]
  },
  {
   "cell_type": "code",
   "execution_count": 29,
   "id": "45f82b39",
   "metadata": {},
   "outputs": [
    {
     "name": "stdout",
     "output_type": "stream",
     "text": [
      "*\n",
      "**\n",
      "***\n",
      "****\n",
      "*****\n"
     ]
    }
   ],
   "source": [
    "for i in range(1,6):\n",
    "    print(f\"*\"*i)"
   ]
  },
  {
   "cell_type": "code",
   "execution_count": 32,
   "id": "f546a57a",
   "metadata": {},
   "outputs": [
    {
     "name": "stdout",
     "output_type": "stream",
     "text": [
      "Ekrfjgjkfnjdn bjh fdjbndkbj kjvchbffer efvb erngj jf gk \n",
      "ekrfjgjkfnjdn bjh fdjbndkbj kjvchbffer efvb erngj jf gk \n"
     ]
    }
   ],
   "source": [
    "# string functions\n",
    "str1=\"ekrfjgJKFNJDN BJH fdjbndkbj KJVCHBFfer Efvb erngj JF gk \"\n",
    "print(str1.capitalize()) #first letter capital remianing in smaal letters\n",
    "print(str1.casefold()) #converts all string in lowercase letter\n"
   ]
  },
  {
   "cell_type": "code",
   "execution_count": 34,
   "id": "d64b152d",
   "metadata": {},
   "outputs": [
    {
     "name": "stdout",
     "output_type": "stream",
     "text": [
      "***********************Tysm***********************\n"
     ]
    }
   ],
   "source": [
    "# string.enter(length[,fill])\n",
    "# if fill is not there then by default it will fill it with space\n",
    "str1=\"Tysm\"\n",
    "print(str1.center(50,\"*\"))"
   ]
  },
  {
   "cell_type": "code",
   "execution_count": 42,
   "id": "a3ad4036",
   "metadata": {},
   "outputs": [
    {
     "name": "stdout",
     "output_type": "stream",
     "text": [
      "         *          \n",
      "        * *         \n",
      "       * * *        \n",
      "      * * * *       \n",
      "     * * * * *      \n",
      "    * * * * * *     \n",
      "   * * * * * * *    \n",
      "  * * * * * * * *   \n",
      " * * * * * * * * *  \n",
      "* * * * * * * * * * \n"
     ]
    }
   ],
   "source": [
    "for i in range(1,11):\n",
    "    str1=\"* \"*i\n",
    "    print(str1.center(20,\" \"))"
   ]
  },
  {
   "cell_type": "code",
   "execution_count": 43,
   "id": "9aa32bd5",
   "metadata": {},
   "outputs": [
    {
     "name": "stdout",
     "output_type": "stream",
     "text": [
      "* * * * * * * * * * \n",
      " * * * * * * * * *  \n",
      "  * * * * * * * *   \n",
      "   * * * * * * *    \n",
      "    * * * * * *     \n",
      "     * * * * *      \n",
      "      * * * *       \n",
      "       * * *        \n",
      "        * *         \n",
      "         *          \n"
     ]
    }
   ],
   "source": [
    "for i in range(10,0,-1):\n",
    "    str1=\"* \"*i\n",
    "    print(str1.center(20,\" \"))"
   ]
  },
  {
   "cell_type": "code",
   "execution_count": 44,
   "id": "889d522c",
   "metadata": {},
   "outputs": [
    {
     "name": "stdout",
     "output_type": "stream",
     "text": [
      "         *          \n",
      "        * *         \n",
      "       * * *        \n",
      "      * * * *       \n",
      "     * * * * *      \n",
      "    * * * * * *     \n",
      "   * * * * * * *    \n",
      "  * * * * * * * *   \n",
      " * * * * * * * * *  \n",
      "* * * * * * * * * * \n",
      "* * * * * * * * * * \n",
      " * * * * * * * * *  \n",
      "  * * * * * * * *   \n",
      "   * * * * * * *    \n",
      "    * * * * * *     \n",
      "     * * * * *      \n",
      "      * * * *       \n",
      "       * * *        \n",
      "        * *         \n",
      "         *          \n"
     ]
    }
   ],
   "source": [
    "for i in range(1,11):\n",
    "    str1=\"* \"*i\n",
    "    print(str1.center(20,\" \"))\n",
    "    \n",
    "for i in range(10,0,-1):\n",
    "    str1=\"* \"*i\n",
    "    print(str1.center(20,\" \"))"
   ]
  },
  {
   "cell_type": "code",
   "execution_count": 47,
   "id": "9f232b11",
   "metadata": {},
   "outputs": [
    {
     "ename": "TypeError",
     "evalue": "The fill character must be exactly one character long",
     "output_type": "error",
     "traceback": [
      "\u001b[1;31m---------------------------------------------------------------------------\u001b[0m",
      "\u001b[1;31mTypeError\u001b[0m                                 Traceback (most recent call last)",
      "Input \u001b[1;32mIn [47]\u001b[0m, in \u001b[0;36m<cell line: 2>\u001b[1;34m()\u001b[0m\n\u001b[0;32m      1\u001b[0m str1\u001b[38;5;241m=\u001b[39m\u001b[38;5;124m\"\u001b[39m\u001b[38;5;124mhello\u001b[39m\u001b[38;5;124m\"\u001b[39m\n\u001b[1;32m----> 2\u001b[0m \u001b[38;5;28mprint\u001b[39m(\u001b[43mstr1\u001b[49m\u001b[38;5;241;43m.\u001b[39;49m\u001b[43mcenter\u001b[49m\u001b[43m(\u001b[49m\u001b[38;5;241;43m50\u001b[39;49m\u001b[43m,\u001b[49m\u001b[38;5;124;43m\"\u001b[39;49m\u001b[38;5;124;43m*-/\u001b[39;49m\u001b[38;5;124;43m\"\u001b[39;49m\u001b[43m)\u001b[49m)\n",
      "\u001b[1;31mTypeError\u001b[0m: The fill character must be exactly one character long"
     ]
    }
   ],
   "source": [
    "str1=\"hello\"\n",
    "print(str1.center(50,\"*-/\"))"
   ]
  },
  {
   "cell_type": "code",
   "execution_count": 55,
   "id": "1f4054e5",
   "metadata": {},
   "outputs": [
    {
     "name": "stdout",
     "output_type": "stream",
     "text": [
      "3\n",
      "2\n",
      "0\n",
      "1\n"
     ]
    }
   ],
   "source": [
    "# string.count(substring[,start][,end]) gives the count of substring inside \n",
    "# srtring  by deafukt start is index 0 and by default end is index -1 or lats of the\n",
    "# string\n",
    "str1=\"bfe jehfdve jehfvberjv jhefd\"\n",
    "print(str1.count(\" \"))\n",
    "print(str1.count(\" \",6))\n",
    "print(str1.count(\" \",6,11))\n",
    "print(str1.count(\"dve\"))"
   ]
  },
  {
   "cell_type": "code",
   "execution_count": 62,
   "id": "e1524e3e",
   "metadata": {},
   "outputs": [
    {
     "name": "stdout",
     "output_type": "stream",
     "text": [
      "True\n",
      "True\n",
      "False\n",
      "True\n"
     ]
    }
   ],
   "source": [
    "# endswith(suffix/substring[,start][,end])\n",
    "str1=\"Hello wow Python Batch\"\n",
    "print(str1.endswith(\"tch\"))\n",
    "print(str1.endswith(\"tch\",8))\n",
    "print(str1.endswith(\"tch\",8,15))\n",
    "print(str1.endswith(\"ho\",8,15))"
   ]
  },
  {
   "cell_type": "code",
   "execution_count": 66,
   "id": "c47765f9",
   "metadata": {},
   "outputs": [
    {
     "name": "stdout",
     "output_type": "stream",
     "text": [
      "5\n",
      "9\n",
      "-1\n"
     ]
    }
   ],
   "source": [
    "# find(substring[,start][,end])\n",
    "str1=\"Hello wow Python Batch\"\n",
    "print(str1.find(\" \"))\n",
    "print(str1.find(\" \",8))\n",
    "print(str1.find(\" \",12,16))"
   ]
  },
  {
   "cell_type": "code",
   "execution_count": null,
   "id": "f2d4db2b",
   "metadata": {},
   "outputs": [],
   "source": [
    "str1=\"Hello wow Python Batch\"\n",
    "flag=0\n",
    "a=-1\n",
    "while flag==0:\n",
    "    a=str1.find(\" \",a+1)\n",
    "    print(a)\n",
    "    "
   ]
  },
  {
   "cell_type": "code",
   "execution_count": null,
   "id": "b8de6f38",
   "metadata": {},
   "outputs": [],
   "source": []
  }
 ],
 "metadata": {
  "kernelspec": {
   "display_name": "Python 3 (ipykernel)",
   "language": "python",
   "name": "python3"
  },
  "language_info": {
   "codemirror_mode": {
    "name": "ipython",
    "version": 3
   },
   "file_extension": ".py",
   "mimetype": "text/x-python",
   "name": "python",
   "nbconvert_exporter": "python",
   "pygments_lexer": "ipython3",
   "version": "3.9.12"
  }
 },
 "nbformat": 4,
 "nbformat_minor": 5
}
