{
 "cells": [
  {
   "cell_type": "code",
   "execution_count": 7,
   "id": "12960e97",
   "metadata": {},
   "outputs": [
    {
     "name": "stdout",
     "output_type": "stream",
     "text": [
      "hello world 10-----20\n"
     ]
    }
   ],
   "source": [
    "a=10\n",
    "b=20\n",
    "str1=f\"hello world {a}-----{b}\"\n",
    "# print(f\"Hello World {a} {b}\")\n",
    "print(str1)"
   ]
  },
  {
   "cell_type": "code",
   "execution_count": 9,
   "id": "2337de4c",
   "metadata": {},
   "outputs": [
    {
     "name": "stdout",
     "output_type": "stream",
     "text": [
      "6\n",
      "-1\n"
     ]
    }
   ],
   "source": [
    "str1=\"hello All welcome to tops tech\"\n",
    "print(str1.find(\"All\"))\n",
    "print(str1.find(\"Wonderful\"))"
   ]
  },
  {
   "cell_type": "code",
   "execution_count": 12,
   "id": "5f63302b",
   "metadata": {},
   "outputs": [
    {
     "ename": "ValueError",
     "evalue": "substring not found",
     "output_type": "error",
     "traceback": [
      "\u001b[1;31m---------------------------------------------------------------------------\u001b[0m",
      "\u001b[1;31mValueError\u001b[0m                                Traceback (most recent call last)",
      "Input \u001b[1;32mIn [12]\u001b[0m, in \u001b[0;36m<cell line: 2>\u001b[1;34m()\u001b[0m\n\u001b[0;32m      1\u001b[0m str1\u001b[38;5;241m=\u001b[39m\u001b[38;5;124m\"\u001b[39m\u001b[38;5;124mhello All welcome to tops tech\u001b[39m\u001b[38;5;124m\"\u001b[39m\n\u001b[1;32m----> 2\u001b[0m \u001b[38;5;28mprint\u001b[39m(\u001b[43mstr1\u001b[49m\u001b[38;5;241;43m.\u001b[39;49m\u001b[43mindex\u001b[49m\u001b[43m(\u001b[49m\u001b[38;5;124;43m\"\u001b[39;49m\u001b[38;5;124;43mAll\u001b[39;49m\u001b[38;5;124;43m\"\u001b[39;49m\u001b[43m,\u001b[49m\u001b[38;5;241;43m9\u001b[39;49m\u001b[43m,\u001b[49m\u001b[38;5;241;43m15\u001b[39;49m\u001b[43m)\u001b[49m)\n\u001b[0;32m      3\u001b[0m \u001b[38;5;28mprint\u001b[39m(str1\u001b[38;5;241m.\u001b[39mindex(\u001b[38;5;124m\"\u001b[39m\u001b[38;5;124mWonderful\u001b[39m\u001b[38;5;124m\"\u001b[39m))\n",
      "\u001b[1;31mValueError\u001b[0m: substring not found"
     ]
    }
   ],
   "source": [
    "str1=\"hello All welcome to tops tech\"\n",
    "print(str1.index(\"All\",9,15))\n",
    "print(str1.index(\"Wonderful\"))"
   ]
  },
  {
   "cell_type": "code",
   "execution_count": 17,
   "id": "47593c17",
   "metadata": {},
   "outputs": [
    {
     "data": {
      "text/plain": [
       "'WOWSugandhWElcome'"
      ]
     },
     "execution_count": 17,
     "metadata": {},
     "output_type": "execute_result"
    }
   ],
   "source": [
    "str1=\"Sugandh\"\n",
    "str1.join(\"Hello Wolrd I am here\")\n",
    "# str1.join([1,2,3,4,5])\n",
    "str1.join([\"WOW\",\"WElcome\"])"
   ]
  },
  {
   "cell_type": "code",
   "execution_count": 21,
   "id": "73fcbafd",
   "metadata": {},
   "outputs": [
    {
     "name": "stdout",
     "output_type": "stream",
     "text": [
      "hello               \n",
      "hello***************\n",
      "               hello\n"
     ]
    },
    {
     "ename": "TypeError",
     "evalue": "The fill character must be exactly one character long",
     "output_type": "error",
     "traceback": [
      "\u001b[1;31m---------------------------------------------------------------------------\u001b[0m",
      "\u001b[1;31mTypeError\u001b[0m                                 Traceback (most recent call last)",
      "Input \u001b[1;32mIn [21]\u001b[0m, in \u001b[0;36m<cell line: 5>\u001b[1;34m()\u001b[0m\n\u001b[0;32m      3\u001b[0m \u001b[38;5;28mprint\u001b[39m(str1\u001b[38;5;241m.\u001b[39mljust(\u001b[38;5;241m20\u001b[39m,\u001b[38;5;124m\"\u001b[39m\u001b[38;5;124m*\u001b[39m\u001b[38;5;124m\"\u001b[39m))\n\u001b[0;32m      4\u001b[0m \u001b[38;5;28mprint\u001b[39m(str1\u001b[38;5;241m.\u001b[39mrjust(\u001b[38;5;241m20\u001b[39m))\n\u001b[1;32m----> 5\u001b[0m \u001b[38;5;28mprint\u001b[39m(\u001b[43mstr1\u001b[49m\u001b[38;5;241;43m.\u001b[39;49m\u001b[43mrjust\u001b[49m\u001b[43m(\u001b[49m\u001b[38;5;241;43m20\u001b[39;49m\u001b[43m,\u001b[49m\u001b[38;5;124;43m\"\u001b[39;49m\u001b[38;5;124;43m*-\u001b[39;49m\u001b[38;5;124;43m\"\u001b[39;49m\u001b[43m)\u001b[49m)\n",
      "\u001b[1;31mTypeError\u001b[0m: The fill character must be exactly one character long"
     ]
    }
   ],
   "source": [
    "str1=\"hello\"\n",
    "print(str1.ljust(20))\n",
    "print(str1.ljust(20,\"*\"))\n",
    "print(str1.rjust(20))\n",
    "print(str1.rjust(20,\"*-\"))"
   ]
  },
  {
   "cell_type": "code",
   "execution_count": 23,
   "id": "e116cbf6",
   "metadata": {},
   "outputs": [
    {
     "name": "stdout",
     "output_type": "stream",
     "text": [
      "('Heelo All wel', 'come', ' to tops tech')\n"
     ]
    }
   ],
   "source": [
    "# string.partition(separator)\n",
    "str1=\"Heelo All welcome to tops tech\"\n",
    "print(str1.partition(\"come\"))\n",
    "# It divides the string into 3 parts and gives all parts as a tuple\n",
    "# first part left side of separator\n",
    "# second part separator itself\n",
    "# third part right side of separator"
   ]
  },
  {
   "cell_type": "code",
   "execution_count": 29,
   "id": "453773a2",
   "metadata": {},
   "outputs": [
    {
     "name": "stdout",
     "output_type": "stream",
     "text": [
      "Hee***o A****** we***come to tops tech\n",
      "Heelo All wel*** to tops tech\n",
      "Heelo All welcome *** tops tech\n"
     ]
    }
   ],
   "source": [
    "str1=\"Heelo All welcome to tops tech\"\n",
    "print(str1.replace(\"l\",\"***\"))\n",
    "print(str1.replace(\"come\",\"***\"))\n",
    "print(str1.replace(\"to\",\"***\",1))"
   ]
  },
  {
   "cell_type": "code",
   "execution_count": 34,
   "id": "eb17b609",
   "metadata": {},
   "outputs": [
    {
     "name": "stdout",
     "output_type": "stream",
     "text": [
      "['H', '', 'lo All w', 'lcome to tops tech']\n"
     ]
    }
   ],
   "source": [
    "str1=\"Heelo All welcome to tops tech\"\n",
    "print(str1.split(\"e\",3))"
   ]
  },
  {
   "cell_type": "code",
   "execution_count": 37,
   "id": "9b065346",
   "metadata": {},
   "outputs": [
    {
     "name": "stdout",
     "output_type": "stream",
     "text": [
      "JKRDHJKV chbwdhybd8098*/-*/ HJFBVJHEFDjdhjkh  hjbehvbH\n"
     ]
    }
   ],
   "source": [
    "str1=\"jkrdhjkv CHBWDHYBD8098*/-*/ hjfbvjhefdJDHJKH  HJBEHVBh\"\n",
    "print(str1.swapcase())"
   ]
  },
  {
   "cell_type": "code",
   "execution_count": 39,
   "id": "2761b963",
   "metadata": {},
   "outputs": [
    {
     "name": "stdout",
     "output_type": "stream",
     "text": [
      "Erger egeg ergerge ergerg erge\n",
      "Erger Egeg Ergerge Ergerg Erge\n"
     ]
    }
   ],
   "source": [
    "str1=\"erger egeg ergerge ergerg erge\"\n",
    "print(str1.capitalize())\n",
    "print(str1.title())"
   ]
  },
  {
   "cell_type": "code",
   "execution_count": 42,
   "id": "0bc098a8",
   "metadata": {},
   "outputs": [
    {
     "name": "stdout",
     "output_type": "stream",
     "text": [
      "True\n"
     ]
    }
   ],
   "source": [
    "str1=\"eklrjg jkgvn87/*-7er\"\n",
    "print(str1.islower())"
   ]
  },
  {
   "cell_type": "code",
   "execution_count": 43,
   "id": "ee2d7fcb",
   "metadata": {},
   "outputs": [
    {
     "name": "stdout",
     "output_type": "stream",
     "text": [
      "True\n"
     ]
    }
   ],
   "source": [
    "str1=\"JKERFKHGE KVE\"\n",
    "print(str1.isupper())"
   ]
  },
  {
   "cell_type": "code",
   "execution_count": 5,
   "id": "6d0d1a60",
   "metadata": {},
   "outputs": [
    {
     "name": "stdout",
     "output_type": "stream",
     "text": [
      "False\n"
     ]
    }
   ],
   "source": [
    "str1=\"ejfwfw6HGDJKD54fwefwe\"\n",
    "print(str1.isalnum())"
   ]
  },
  {
   "cell_type": "code",
   "execution_count": 9,
   "id": "91f04b64",
   "metadata": {},
   "outputs": [
    {
     "name": "stdout",
     "output_type": "stream",
     "text": [
      "True\n"
     ]
    }
   ],
   "source": [
    "str1=\"njeverngrthgrthgrt\"\n",
    "print(str1.isalpha())"
   ]
  },
  {
   "cell_type": "code",
   "execution_count": 11,
   "id": "6cbca08b",
   "metadata": {},
   "outputs": [
    {
     "name": "stdout",
     "output_type": "stream",
     "text": [
      "False\n",
      "False\n",
      "False\n"
     ]
    }
   ],
   "source": [
    "str1=\"874584587\"\n",
    "print(str1.isnumeric())\n",
    "print(str1.isdigit())\n",
    "print(str1.isdecimal())"
   ]
  },
  {
   "cell_type": "code",
   "execution_count": 14,
   "id": "25af60ca",
   "metadata": {},
   "outputs": [
    {
     "name": "stdout",
     "output_type": "stream",
     "text": [
      "True\n"
     ]
    }
   ],
   "source": [
    "str1=\"Jkrhf Jkvb Brthyrt Jdhd\"\n",
    "print(str1.istitle())"
   ]
  },
  {
   "cell_type": "code",
   "execution_count": 19,
   "id": "5f5fbcd8",
   "metadata": {},
   "outputs": [
    {
     "name": "stdout",
     "output_type": "stream",
     "text": [
      "False\n"
     ]
    }
   ],
   "source": [
    "str1=\"_ften654rgjklr\"\n",
    "print(str1.isidentifier())"
   ]
  },
  {
   "cell_type": "code",
   "execution_count": 26,
   "id": "bf24aa29",
   "metadata": {},
   "outputs": [
    {
     "name": "stdout",
     "output_type": "stream",
     "text": [
      "rklgf         rklgferferf\n",
      "rklgf\n"
     ]
    }
   ],
   "source": [
    "str1=\"   rklgf      \"\n",
    "print(str1.lstrip(),end=\"\")\n",
    "print(str1.rstrip(),end=\"\")\n",
    "print(\"erferf\")\n",
    "print(str1.strip())"
   ]
  },
  {
   "cell_type": "code",
   "execution_count": 10,
   "id": "b63e434e",
   "metadata": {},
   "outputs": [
    {
     "name": "stdout",
     "output_type": "stream",
     "text": [
      "    *     \n",
      "   * *    \n",
      "  * * *   \n",
      " * * * *  \n",
      "* * * * * \n"
     ]
    }
   ],
   "source": [
    "for i in range(1,6):\n",
    "    str1=\"* \"*i\n",
    "    print(str1.center(10))\n"
   ]
  },
  {
   "cell_type": "code",
   "execution_count": 9,
   "id": "74e09510",
   "metadata": {},
   "outputs": [
    {
     "name": "stdout",
     "output_type": "stream",
     "text": [
      "Enter Number: 30\n",
      "              *               \n",
      "             * *              \n",
      "            * * *             \n",
      "           * * * *            \n",
      "          * * * * *           \n",
      "         * * * * * *          \n",
      "        * * * * * * *         \n",
      "       * * * * * * * *        \n",
      "      * * * * * * * * *       \n",
      "     * * * * * * * * * *      \n",
      "    * * * * * * * * * * *     \n",
      "   * * * * * * * * * * * *    \n",
      "  * * * * * * * * * * * * *   \n",
      " * * * * * * * * * * * * * *  \n",
      "* * * * * * * * * * * * * * * \n",
      " * * * * * * * * * * * * * *  \n",
      "  * * * * * * * * * * * * *   \n",
      "   * * * * * * * * * * * *    \n",
      "    * * * * * * * * * * *     \n",
      "     * * * * * * * * * *      \n",
      "      * * * * * * * * *       \n",
      "       * * * * * * * *        \n",
      "        * * * * * * *         \n",
      "         * * * * * *          \n",
      "          * * * * *           \n",
      "           * * * *            \n",
      "            * * *             \n",
      "             * *              \n",
      "              *               \n"
     ]
    }
   ],
   "source": [
    "n=int(input(\"Enter Number: \"))\n",
    "for i in range(1,n):\n",
    "    if i<(n/2):\n",
    "        str1=\"* \"*i\n",
    "        print(str1.center(n))\n",
    "    else:\n",
    "        str1=\"* \"*(n-i)\n",
    "        print(str1.center(n))"
   ]
  }
 ],
 "metadata": {
  "kernelspec": {
   "display_name": "Python 3 (ipykernel)",
   "language": "python",
   "name": "python3"
  },
  "language_info": {
   "codemirror_mode": {
    "name": "ipython",
    "version": 3
   },
   "file_extension": ".py",
   "mimetype": "text/x-python",
   "name": "python",
   "nbconvert_exporter": "python",
   "pygments_lexer": "ipython3",
   "version": "3.9.12"
  }
 },
 "nbformat": 4,
 "nbformat_minor": 5
}
