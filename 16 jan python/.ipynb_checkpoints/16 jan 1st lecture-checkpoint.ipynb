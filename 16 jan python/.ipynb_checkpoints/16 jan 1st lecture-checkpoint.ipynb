{
 "cells": [
  {
   "cell_type": "code",
   "execution_count": 6,
   "id": "d576071b",
   "metadata": {},
   "outputs": [
    {
     "name": "stdout",
     "output_type": "stream",
     "text": [
      "Hello wolrd\n"
     ]
    }
   ],
   "source": [
    "print(\"Hello wolrd\") # print is used to print something on user screen\n",
    "# single line comment  #\n",
    "# # multi line \"\"\"    \"\"\"\n",
    "'''\n",
    "vtvrtvrtvrt\n",
    "rtv\n",
    "rt\n",
    "vrt\n",
    "vrt\n",
    "vrt\n",
    "v'''\n",
    "\"\"\"\n",
    "\n",
    "\n",
    "\n",
    "\n",
    "\"\"\""
   ]
  },
  {
   "cell_type": "markdown",
   "id": "2433f5fd",
   "metadata": {},
   "source": [
    "hello i\"m good\n",
    "b \\b ---backspace character\n",
    "n  \\n---newline character"
   ]
  },
  {
   "cell_type": "code",
   "execution_count": 11,
   "id": "c744521d",
   "metadata": {},
   "outputs": [
    {
     "name": "stdout",
     "output_type": "stream",
     "text": [
      "hellofjkfkerbfekrjferk\n",
      "ertgerger\n"
     ]
    }
   ],
   "source": [
    "# print(\"jkhebfdkvbefkv hefbvjkhfbv\")\n",
    "# print('fnvhverbverv bvebierb')\n",
    "print(\"hellofjkfkerbfekrjferk\\nertgerger\")\n"
   ]
  },
  {
   "cell_type": "code",
   "execution_count": 3,
   "id": "9325a0d1",
   "metadata": {},
   "outputs": [
    {
     "name": "stdout",
     "output_type": "stream",
     "text": [
      "efer hrvbfjehrr jhvbejh*webfrb behr\n"
     ]
    }
   ],
   "source": [
    "print(\"efer hrvbfjehrr jhvbejh\",end=\"*\")\n",
    "# print has by default newline character in its last position\n",
    "# we can change it using end=\"Character\"\n",
    "print(\"webfrb behr\")"
   ]
  },
  {
   "cell_type": "code",
   "execution_count": 5,
   "id": "4230916f",
   "metadata": {},
   "outputs": [
    {
     "name": "stdout",
     "output_type": "stream",
     "text": [
      "Hello\n"
     ]
    }
   ],
   "source": [
    "# Variables In Python\n",
    "a=64\n",
    "b=\"Hrtjkhrtjgkrtj\"\n",
    "print(b)"
   ]
  },
  {
   "cell_type": "code",
   "execution_count": 11,
   "id": "5abed781",
   "metadata": {},
   "outputs": [
    {
     "data": {
      "text/plain": [
       "int"
      ]
     },
     "execution_count": 11,
     "metadata": {},
     "output_type": "execute_result"
    }
   ],
   "source": [
    "# DATATYPES in python\n",
    "\n",
    "# int ---54,54,85,8977,87887444\n",
    "# float ---554.585,48.36,4858.256\n",
    "# string -'string'  \"string\"  \"\"\"string\"\"\"  '''string'''\n",
    "# boolean ---True Or False\n",
    "b=True\n",
    "C=\"True\"\n",
    "d=78.96\n",
    "e=4875\n",
    "# d=Bye Bye\n",
    "type(e)\n"
   ]
  },
  {
   "cell_type": "code",
   "execution_count": 28,
   "id": "c598f34c",
   "metadata": {},
   "outputs": [
    {
     "name": "stdout",
     "output_type": "stream",
     "text": [
      "Enter Something: 78.63\n",
      "<class 'str'>\n"
     ]
    }
   ],
   "source": [
    "# user input\n",
    "# input()--input function take value in string\n",
    "a=input(\"Enter Something: \")\n",
    "print(type(a))"
   ]
  },
  {
   "cell_type": "code",
   "execution_count": 25,
   "id": "b15feb50",
   "metadata": {},
   "outputs": [
    {
     "name": "stdout",
     "output_type": "stream",
     "text": [
      "<class 'float'>\n"
     ]
    }
   ],
   "source": [
    "# Type conversion means changing of one datatype into another\n",
    "# dataypejisme app change karna chahte ho(variable jisko change karna hai)\n",
    "\n",
    "a=90\n",
    "a=str(a)\n",
    "a=float(a)\n",
    "print(type(a))\n"
   ]
  },
  {
   "cell_type": "code",
   "execution_count": 37,
   "id": "b1418ebd",
   "metadata": {},
   "outputs": [
    {
     "name": "stdout",
     "output_type": "stream",
     "text": [
      "Enter Number: gvfdjkvjnklfd\n"
     ]
    },
    {
     "ename": "ValueError",
     "evalue": "could not convert string to float: 'gvfdjkvjnklfd'",
     "output_type": "error",
     "traceback": [
      "\u001b[1;31m---------------------------------------------------------------------------\u001b[0m",
      "\u001b[1;31mValueError\u001b[0m                                Traceback (most recent call last)",
      "Input \u001b[1;32mIn [37]\u001b[0m, in \u001b[0;36m<cell line: 1>\u001b[1;34m()\u001b[0m\n\u001b[1;32m----> 1\u001b[0m a\u001b[38;5;241m=\u001b[39m\u001b[38;5;28;43mfloat\u001b[39;49m\u001b[43m(\u001b[49m\u001b[38;5;28;43minput\u001b[39;49m\u001b[43m(\u001b[49m\u001b[38;5;124;43m\"\u001b[39;49m\u001b[38;5;124;43mEnter Number: \u001b[39;49m\u001b[38;5;124;43m\"\u001b[39;49m\u001b[43m)\u001b[49m\u001b[43m)\u001b[49m\n\u001b[0;32m      2\u001b[0m \u001b[38;5;28mprint\u001b[39m(\u001b[38;5;28mtype\u001b[39m(a))\n",
      "\u001b[1;31mValueError\u001b[0m: could not convert string to float: 'gvfdjkvjnklfd'"
     ]
    }
   ],
   "source": [
    "a=float(input(\"Enter Number: \"))\n",
    "print(type(a))"
   ]
  },
  {
   "cell_type": "code",
   "execution_count": null,
   "id": "4af7aa8b",
   "metadata": {},
   "outputs": [],
   "source": [
    "list=[48,\"asfdjgifd\",True,4574.14,[78,14,58,47]]\n",
    "tuple=(48,\"asfdjgifd\",True,4574.14,[78,14,58,47])\n",
    "set={48,\"asfdjgifd\",True,4574.14,[78,14,58,47]}\n",
    "dictionary={\"name\":\"sugandh\",18:\"Age\"}"
   ]
  },
  {
   "cell_type": "markdown",
   "id": "0ceec216",
   "metadata": {},
   "source": [
    "# variable declaration rule\n",
    "1)variable first character should be alphabet(a-z A-Z) or underscore(_)\n",
    "2)other character in variable name alphabet(a-z A-Z) or Underscore(_) or \n",
    "digits(0-9)\n",
    "3)Space cannot be considered\n",
    "\n",
    "Full_name\n",
    "$fhre78\n",
    "_dhsd789\n",
    "78fdv_\n",
    "ge=45\n",
    "\n",
    "full_name_of_student ---snake case\n",
    "fuulNameOfStudent ---Camel Casing`"
   ]
  },
  {
   "cell_type": "code",
   "execution_count": null,
   "id": "8161b786",
   "metadata": {},
   "outputs": [],
   "source": [
    "# Operators in Python\n",
    "# Arithmetic operator  + - * / % ** //\n",
    "# comparison operator or conditional operator  < > <= >= == !=\n",
    "# assignement operator = += -= *= /= \n",
    "# logical operator AND(and) OR(or) NOT(!)\n",
    "# bitwise opeartor >> << & | ^\n",
    "# identity operator is, is not\n",
    "# membership operator in,not in\n"
   ]
  },
  {
   "cell_type": "code",
   "execution_count": 45,
   "id": "2b5ca503",
   "metadata": {},
   "outputs": [
    {
     "name": "stdout",
     "output_type": "stream",
     "text": [
      "9\n"
     ]
    }
   ],
   "source": [
    "# Arithmetic Operator\n",
    "# print(89+5)\n",
    "# print(40-20)\n",
    "# print(30*5)\n",
    "# print(10/20)\n",
    "# print(6**3)\n",
    "# print(10%3)\n",
    "# print(48//5)\n",
    "\n"
   ]
  },
  {
   "cell_type": "code",
   "execution_count": 56,
   "id": "dd7dafb8",
   "metadata": {},
   "outputs": [
    {
     "name": "stdout",
     "output_type": "stream",
     "text": [
      "Enter number1: 58\n",
      "Enter number2: 3\n",
      "Addition of a+b = 19\n"
     ]
    }
   ],
   "source": [
    "a=int(input(\"Enter number1: \"))\n",
    "b=int(input(\"Enter number2: \"))\n",
    "# print(a//b)\n",
    "print(f\"Addition of a+b = {a//b}\")"
   ]
  },
  {
   "cell_type": "code",
   "execution_count": null,
   "id": "afac3d6f",
   "metadata": {},
   "outputs": [],
   "source": [
    "addition of a+b = 19"
   ]
  },
  {
   "cell_type": "code",
   "execution_count": 55,
   "id": "651236df",
   "metadata": {},
   "outputs": [
    {
     "name": "stdout",
     "output_type": "stream",
     "text": [
      "the95 value of a is 95 95ergre grgTrue\n"
     ]
    }
   ],
   "source": [
    "a=95\n",
    "b=True\n",
    "print(f\"the{a} value of a is {a} {a}ergre grg{b}\")"
   ]
  },
  {
   "cell_type": "code",
   "execution_count": null,
   "id": "5fcf1a66",
   "metadata": {},
   "outputs": [],
   "source": [
    "write a program to take value\n",
    "name\n",
    "age\n",
    "mobile\n",
    "adrees\n",
    "\n",
    "NAme: wefw\n",
    "Age: 48\n",
    "mobile:56746\n",
    "address:hweifh ergvbferb hberyvgbr"
   ]
  },
  {
   "cell_type": "code",
   "execution_count": 6,
   "id": "c930d934",
   "metadata": {},
   "outputs": [
    {
     "name": "stdout",
     "output_type": "stream",
     "text": [
      "True\n"
     ]
    }
   ],
   "source": [
    "# comparison operator\n",
    "a=48;\n",
    "b=98;\n",
    "print(a!=b)"
   ]
  },
  {
   "cell_type": "code",
   "execution_count": 13,
   "id": "252aa288",
   "metadata": {},
   "outputs": [
    {
     "name": "stdout",
     "output_type": "stream",
     "text": [
      "False\n",
      "True\n"
     ]
    }
   ],
   "source": [
    "a=48;\n",
    "v=35;\n",
    "c=47;\n",
    "print(a>v and c>v and v>c and c<v)\n",
    "print(a>v or c>v or v>c or c<v)\n",
    "# print()"
   ]
  },
  {
   "cell_type": "code",
   "execution_count": 14,
   "id": "5daff162",
   "metadata": {},
   "outputs": [
    {
     "name": "stdout",
     "output_type": "stream",
     "text": [
      "100\n"
     ]
    }
   ],
   "source": [
    "# assignement operator\n",
    "a=98;\n",
    "a=a*2;\n",
    "a+=2\n",
    "a*=2\n",
    "print(a)\n",
    "\n",
    "\n",
    "a=a+89\n",
    "a=b+30;\n",
    "\n",
    "a+=89"
   ]
  },
  {
   "cell_type": "code",
   "execution_count": 21,
   "id": "ea1894de",
   "metadata": {},
   "outputs": [
    {
     "name": "stdout",
     "output_type": "stream",
     "text": [
      "760\n"
     ]
    }
   ],
   "source": [
    "# print(95&43)\n",
    "# print(95|43)\n",
    "# print(65>>2)\n",
    "print(95<<3)"
   ]
  },
  {
   "cell_type": "code",
   "execution_count": null,
   "id": "a268710c",
   "metadata": {},
   "outputs": [],
   "source": [
    "# condition statements\n",
    "if\n",
    "if..else\n",
    "if..elif..elif.....else\n",
    "nested if else\n"
   ]
  },
  {
   "cell_type": "code",
   "execution_count": null,
   "id": "a9223050",
   "metadata": {},
   "outputs": [],
   "source": [
    "# simple if\n",
    "if condition:\n",
    "    work"
   ]
  },
  {
   "cell_type": "code",
   "execution_count": 25,
   "id": "e8fbbeb0",
   "metadata": {},
   "outputs": [
    {
     "name": "stdout",
     "output_type": "stream",
     "text": [
      "before if\n",
      "wow\n",
      "its greater\n",
      "after if\n"
     ]
    }
   ],
   "source": [
    "a=89;\n",
    "print(\"before if\")\n",
    "if a>48:\n",
    "    print(\"wow\")\n",
    "    print(\"its greater\")\n",
    "print(\"after if\")"
   ]
  },
  {
   "cell_type": "code",
   "execution_count": 27,
   "id": "b2d06f77",
   "metadata": {},
   "outputs": [
    {
     "name": "stdout",
     "output_type": "stream",
     "text": [
      "Enter Age: 14\n"
     ]
    }
   ],
   "source": [
    "age=int(input(\"Enter Age: \"))\n",
    "if age>60:\n",
    "    print(\"You are senio citizen\")"
   ]
  },
  {
   "cell_type": "code",
   "execution_count": null,
   "id": "973b3c98",
   "metadata": {},
   "outputs": [],
   "source": [
    "# if..else\n",
    "\n",
    "if condition:\n",
    "    this part will run when true\n",
    "else:\n",
    "    this part will run when condition is false`"
   ]
  },
  {
   "cell_type": "code",
   "execution_count": 31,
   "id": "dac7117b",
   "metadata": {},
   "outputs": [
    {
     "name": "stdout",
     "output_type": "stream",
     "text": [
      "Enter Age: 589\n",
      "You are senio citizen\n"
     ]
    }
   ],
   "source": [
    "age=int(input(\"Enter Age: \"))\n",
    "if age>60:\n",
    "    print(\"You are senio citizen\")\n",
    "else:\n",
    "    print(\"you are not senior citixen\")"
   ]
  },
  {
   "cell_type": "code",
   "execution_count": null,
   "id": "31778fb8",
   "metadata": {},
   "outputs": [],
   "source": [
    "# ladder if else\n",
    "if condition1:\n",
    "    body \n",
    "elif condition2:\n",
    "    body\n",
    "elif condition3:\n",
    "    body\n",
    ".....\n",
    ".....\n",
    "\n",
    "\n",
    "else:\n",
    "    body"
   ]
  },
  {
   "cell_type": "code",
   "execution_count": 10,
   "id": "cc9012db",
   "metadata": {},
   "outputs": [
    {
     "name": "stdout",
     "output_type": "stream",
     "text": [
      "Enter A number: jkuh\n"
     ]
    },
    {
     "ename": "ValueError",
     "evalue": "invalid literal for int() with base 10: 'jkuh'",
     "output_type": "error",
     "traceback": [
      "\u001b[1;31m---------------------------------------------------------------------------\u001b[0m",
      "\u001b[1;31mValueError\u001b[0m                                Traceback (most recent call last)",
      "Input \u001b[1;32mIn [10]\u001b[0m, in \u001b[0;36m<cell line: 1>\u001b[1;34m()\u001b[0m\n\u001b[1;32m----> 1\u001b[0m num\u001b[38;5;241m=\u001b[39m\u001b[38;5;28;43mint\u001b[39;49m\u001b[43m(\u001b[49m\u001b[38;5;28;43minput\u001b[39;49m\u001b[43m(\u001b[49m\u001b[38;5;124;43m\"\u001b[39;49m\u001b[38;5;124;43mEnter A number: \u001b[39;49m\u001b[38;5;124;43m\"\u001b[39;49m\u001b[43m)\u001b[49m\u001b[43m)\u001b[49m\n\u001b[0;32m      2\u001b[0m \u001b[38;5;28;01mif\u001b[39;00m num\u001b[38;5;241m==\u001b[39m\u001b[38;5;241m1\u001b[39m:\n\u001b[0;32m      3\u001b[0m     \u001b[38;5;28mprint\u001b[39m(\u001b[38;5;124m\"\u001b[39m\u001b[38;5;124mMonday\u001b[39m\u001b[38;5;124m\"\u001b[39m)\n",
      "\u001b[1;31mValueError\u001b[0m: invalid literal for int() with base 10: 'jkuh'"
     ]
    }
   ],
   "source": [
    "num=int(input(\"Enter A number: \"))\n",
    "if num==1:\n",
    "    print(\"Monday\")\n",
    "elif num==2:\n",
    "    print(\"tuesday\")\n",
    "elif num==3:\n",
    "    print(\"wed\")\n",
    "elif num==4:\n",
    "    print(\"thur\")\n",
    "elif num==5:\n",
    "    print(\"fri\")\n",
    "else:\n",
    "    print(\"invalid Character or enter between 1 to 7\")"
   ]
  },
  {
   "cell_type": "code",
   "execution_count": 11,
   "id": "739e0220",
   "metadata": {},
   "outputs": [
    {
     "name": "stdout",
     "output_type": "stream",
     "text": [
      "Enter A number1: 58\n",
      "Enter A number2: 96\n",
      "Enter A number3: 48\n",
      "96 is greater\n"
     ]
    }
   ],
   "source": [
    "# nested if else\n",
    "a=int(input(\"Enter A number1: \"))\n",
    "b=int(input(\"Enter A number2: \"))\n",
    "c=int(input(\"Enter A number3: \"))\n",
    "\n",
    "if a>b:\n",
    "    if a>c:\n",
    "        print(f\"{a} is greater\")\n",
    "    else:\n",
    "        print(f\"{c} is greater\")\n",
    "else:\n",
    "    if b>c:\n",
    "        print(f\"{b} is greater\")\n",
    "    else:\n",
    "        print(f\"{c} is greater\")"
   ]
  },
  {
   "cell_type": "code",
   "execution_count": null,
   "id": "0c94a211",
   "metadata": {},
   "outputs": [],
   "source": [
    "# Looping in Python\n",
    "\n",
    "# for  sequence/collection\n",
    "# while   condition"
   ]
  },
  {
   "cell_type": "code",
   "execution_count": null,
   "id": "eecc7727",
   "metadata": {},
   "outputs": [],
   "source": [
    "# collections\n",
    "\n",
    "# range()\n",
    "# string\n",
    "# list\n",
    "# tuple\n",
    "# set\n",
    "# dictionary"
   ]
  },
  {
   "cell_type": "code",
   "execution_count": null,
   "id": "e2bc6df8",
   "metadata": {},
   "outputs": [],
   "source": [
    "# for loop syntax:\n",
    "\n",
    "for i in collection:\n",
    "    body"
   ]
  },
  {
   "cell_type": "code",
   "execution_count": 12,
   "id": "af509dbb",
   "metadata": {},
   "outputs": [
    {
     "name": "stdout",
     "output_type": "stream",
     "text": [
      "h\n",
      "e\n",
      "l\n",
      "l\n",
      "o\n",
      " \n",
      "W\n",
      "o\n",
      "r\n",
      "l\n",
      "d\n"
     ]
    }
   ],
   "source": [
    "for i in \"hello World\":\n",
    "    print(i)"
   ]
  },
  {
   "cell_type": "code",
   "execution_count": 13,
   "id": "314f8e5c",
   "metadata": {},
   "outputs": [
    {
     "name": "stdout",
     "output_type": "stream",
     "text": [
      "1\n",
      "2\n",
      "3\n",
      "4\n",
      "5\n",
      "6\n",
      "7\n",
      "8\n",
      "9\n"
     ]
    }
   ],
   "source": [
    "# range(start,stop,step)\n",
    "# in range stop value is not considered \n",
    "for i in range(1,10):\n",
    "    print(i)"
   ]
  },
  {
   "cell_type": "code",
   "execution_count": 14,
   "id": "3a654789",
   "metadata": {},
   "outputs": [
    {
     "name": "stdout",
     "output_type": "stream",
     "text": [
      "0\n",
      "1\n",
      "2\n",
      "3\n",
      "4\n",
      "5\n"
     ]
    }
   ],
   "source": [
    "# if start is not mentioned in range by default starting point is 0\n",
    "# if step is not mentioned in range by default value is +1\n",
    "for i in range(6):\n",
    "    print(i)"
   ]
  },
  {
   "cell_type": "code",
   "execution_count": 15,
   "id": "033de3e5",
   "metadata": {},
   "outputs": [
    {
     "name": "stdout",
     "output_type": "stream",
     "text": [
      "1\n",
      "5\n",
      "9\n",
      "13\n",
      "17\n"
     ]
    }
   ],
   "source": [
    "for i in range(1,20,4):\n",
    "    print(i)"
   ]
  },
  {
   "cell_type": "code",
   "execution_count": 18,
   "id": "44b26433",
   "metadata": {},
   "outputs": [
    {
     "name": "stdout",
     "output_type": "stream",
     "text": [
      "5 4 3 2 1 0 -1 -2 -3 "
     ]
    }
   ],
   "source": [
    "for i in range(5,-4,-1):\n",
    "    print(i,end=\" \")"
   ]
  },
  {
   "cell_type": "code",
   "execution_count": null,
   "id": "5086dca5",
   "metadata": {},
   "outputs": [],
   "source": [
    "-9 -8 -7 -6 -5 -4 -3 -2 -1 0 1 2 3 4 5 6 7 8 9\n",
    "\n",
    "if step is poisitive that means direction is left to right\n",
    "if step is negative then that means direction is right to left"
   ]
  },
  {
   "cell_type": "code",
   "execution_count": 19,
   "id": "28d0a938",
   "metadata": {},
   "outputs": [
    {
     "name": "stdout",
     "output_type": "stream",
     "text": [
      "Enter Number: 56\n",
      "56 X 1 = 56\n",
      "56 X 2 = 112\n",
      "56 X 3 = 168\n",
      "56 X 4 = 224\n",
      "56 X 5 = 280\n",
      "56 X 6 = 336\n",
      "56 X 7 = 392\n",
      "56 X 8 = 448\n",
      "56 X 9 = 504\n",
      "56 X 10 = 560\n"
     ]
    }
   ],
   "source": [
    "# program to print table of user given number\n",
    "num=int(input(\"Enter Number: \"))\n",
    "for i in range(1,11):\n",
    "    print(f\"{num} X {i} = {num*i}\")"
   ]
  },
  {
   "cell_type": "code",
   "execution_count": null,
   "id": "76087846",
   "metadata": {},
   "outputs": [],
   "source": [
    "num=5\n",
    "5*4*3*2*1=120  factorial\n",
    "1*2*3*4*5 =120  "
   ]
  },
  {
   "cell_type": "code",
   "execution_count": 2,
   "id": "31f41073",
   "metadata": {},
   "outputs": [
    {
     "name": "stdout",
     "output_type": "stream",
     "text": [
      "Enter Number: 5\n",
      "Factorial is 120\n"
     ]
    }
   ],
   "source": [
    "# Program to print factorial of a user given number\n",
    "num=int(input(\"Enter Number: \"))\n",
    "fact=1\n",
    "for i in range(1,num+1):\n",
    "    fact=fact*i\n",
    "print(f\"Factorial is {fact}\")"
   ]
  },
  {
   "cell_type": "code",
   "execution_count": 3,
   "id": "17896d07",
   "metadata": {},
   "outputs": [
    {
     "name": "stdout",
     "output_type": "stream",
     "text": [
      "1\n",
      "2\n",
      "3\n",
      "4\n",
      "5\n",
      "6\n",
      "7\n",
      "8\n",
      "9\n"
     ]
    }
   ],
   "source": [
    "# while loop\n",
    "# while condition:\n",
    "#     body\n",
    "i=1\n",
    "while i<10:\n",
    "    print(i)\n",
    "#     i=i+1\n",
    "    i+=1"
   ]
  },
  {
   "cell_type": "code",
   "execution_count": null,
   "id": "12356d92",
   "metadata": {},
   "outputs": [],
   "source": [
    "# control staements\n",
    "break  --permanently terminate the loop\n",
    "continue --only one time it will not execute loop body after continue statement\n",
    "pass  --it do nothing"
   ]
  },
  {
   "cell_type": "code",
   "execution_count": 6,
   "id": "0c7b0e09",
   "metadata": {},
   "outputs": [
    {
     "name": "stdout",
     "output_type": "stream",
     "text": [
      "1\n",
      "2\n",
      "3\n",
      "4\n"
     ]
    }
   ],
   "source": [
    "for i in range(1,11):\n",
    "    if i==5:\n",
    "        break\n",
    "    print(i)\n",
    "    \n"
   ]
  },
  {
   "cell_type": "code",
   "execution_count": 8,
   "id": "6acf947f",
   "metadata": {},
   "outputs": [
    {
     "name": "stdout",
     "output_type": "stream",
     "text": [
      "1\n",
      "2\n",
      "3\n",
      "4\n",
      "5\n",
      "6\n",
      "7\n",
      "8\n",
      "9\n",
      "10\n"
     ]
    }
   ],
   "source": [
    "for i in range(1,11):\n",
    "    \n",
    "    if i==5:\n",
    "        continue\n",
    "    print(i)"
   ]
  }
 ],
 "metadata": {
  "kernelspec": {
   "display_name": "Python 3 (ipykernel)",
   "language": "python",
   "name": "python3"
  },
  "language_info": {
   "codemirror_mode": {
    "name": "ipython",
    "version": 3
   },
   "file_extension": ".py",
   "mimetype": "text/x-python",
   "name": "python",
   "nbconvert_exporter": "python",
   "pygments_lexer": "ipython3",
   "version": "3.9.12"
  }
 },
 "nbformat": 4,
 "nbformat_minor": 5
}
