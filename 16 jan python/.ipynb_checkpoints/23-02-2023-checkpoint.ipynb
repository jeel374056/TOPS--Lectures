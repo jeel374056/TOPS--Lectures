{
 "cells": [
  {
   "cell_type": "code",
   "execution_count": 1,
   "id": "c711aa61",
   "metadata": {},
   "outputs": [
    {
     "name": "stdout",
     "output_type": "stream",
     "text": [
      "a=Hello b=World\n",
      "a=some b=inheritance\n"
     ]
    }
   ],
   "source": [
    "# inheritance\n",
    "class demo:\n",
    "    a=\"\"\n",
    "    b=\"\"\n",
    "    def __init__(self,x,y):\n",
    "        self.a=x\n",
    "        self.b=y\n",
    "    \n",
    "    def showdata(self):\n",
    "        print(f\"a={self.a} b={self.b}\")\n",
    "        \n",
    "\n",
    "\n",
    "d1=demo(\"Hello\",\"World\") \n",
    "d1.showdata()\n",
    "d2=demo(\"some\",\"inheritance\")\n",
    "d2.showdata()\n",
    "d2."
   ]
  },
  {
   "cell_type": "code",
   "execution_count": 5,
   "id": "60e4cb8c",
   "metadata": {},
   "outputs": [
    {
     "name": "stdout",
     "output_type": "stream",
     "text": [
      "a=Hello b=i\n",
      "a=Am b=Learning\n"
     ]
    }
   ],
   "source": [
    "class demo2(demo):\n",
    "    m=\"\"\n",
    "    n=\"\"\n",
    "    def __init__(self,f,p,x,y):\n",
    "        demo.__init__(self,x,y)\n",
    "        self.m=f\n",
    "        self.n=p\n",
    "    \n",
    "    def showdata1(self):\n",
    "        print(f\"a={self.m} b={self.n}\")\n",
    "        \n",
    "de1=demo2(\"Hello\",\"i\",\"Am\",\"Learning\")\n",
    "de1.showdata1()\n",
    "de1.showdata()\n",
    "de1."
   ]
  },
  {
   "cell_type": "code",
   "execution_count": 13,
   "id": "87d21452",
   "metadata": {},
   "outputs": [
    {
     "name": "stdout",
     "output_type": "stream",
     "text": [
      "180\n"
     ]
    }
   ],
   "source": [
    "class calculation:\n",
    "    def addition(self,x):\n",
    "        print(f\"x={x}\")\n",
    "        \n",
    "    def addition(self,m,n):\n",
    "        print(f\"Addition={m+n}\")\n",
    "        \n",
    "    def addition(self,x,y,z):\n",
    "        print(f\"{x+y+z}\")\n",
    "        \n",
    "c1=calculation()\n",
    "# c1.addition(58)\n",
    "# c1.addition(10,20)\n",
    "c1.addition(50,60,70)"
   ]
  },
  {
   "cell_type": "code",
   "execution_count": 14,
   "id": "afa58c6f",
   "metadata": {},
   "outputs": [
    {
     "name": "stdout",
     "output_type": "stream",
     "text": [
      "30\n"
     ]
    }
   ],
   "source": [
    "print(10+20)"
   ]
  },
  {
   "cell_type": "code",
   "execution_count": 15,
   "id": "63de8ea2",
   "metadata": {},
   "outputs": [
    {
     "name": "stdout",
     "output_type": "stream",
     "text": [
      "helloWorld\n"
     ]
    }
   ],
   "source": [
    "print(\"hello\"+\"World\")"
   ]
  },
  {
   "cell_type": "code",
   "execution_count": 16,
   "id": "b8428a9c",
   "metadata": {},
   "outputs": [
    {
     "name": "stdout",
     "output_type": "stream",
     "text": [
      "40\n"
     ]
    }
   ],
   "source": [
    "print(5*8)"
   ]
  },
  {
   "cell_type": "code",
   "execution_count": 17,
   "id": "04169db0",
   "metadata": {},
   "outputs": [
    {
     "name": "stdout",
     "output_type": "stream",
     "text": [
      "HelloHelloHelloHelloHello\n"
     ]
    }
   ],
   "source": [
    "print(5*\"Hello\")"
   ]
  }
 ],
 "metadata": {
  "kernelspec": {
   "display_name": "Python 3 (ipykernel)",
   "language": "python",
   "name": "python3"
  },
  "language_info": {
   "codemirror_mode": {
    "name": "ipython",
    "version": 3
   },
   "file_extension": ".py",
   "mimetype": "text/x-python",
   "name": "python",
   "nbconvert_exporter": "python",
   "pygments_lexer": "ipython3",
   "version": "3.9.12"
  }
 },
 "nbformat": 4,
 "nbformat_minor": 5
}
