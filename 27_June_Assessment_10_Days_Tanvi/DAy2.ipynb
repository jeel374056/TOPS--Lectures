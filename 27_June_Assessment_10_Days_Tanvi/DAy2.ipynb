{
 "cells": [
  {
   "cell_type": "code",
   "execution_count": null,
   "id": "2d1d896c",
   "metadata": {},
   "outputs": [],
   "source": [
    "FOR LOOP ----iterate over sequence\n",
    "sequence:----\n",
    "string----\"fbgjkfd\"\n",
    "range()----range(1,15)\n",
    "list---[1,5,\"hello\",True,54]\n",
    "tuple---(45,68.9,False,\"Variable\",[1,2])\n",
    "set---{1,4,5,8,9}\n",
    "dictionary-----{1:9,2:\"Hello\"}\n",
    "for iter_variable in sequence/collections:\n",
    "    body"
   ]
  },
  {
   "cell_type": "code",
   "execution_count": null,
   "id": "10dbda3a",
   "metadata": {},
   "outputs": [],
   "source": [
    "dic1={1:9,2:\"Hello\"}\n",
    "for i in dic1:\n",
    "    print(\"Tanvi\")\n",
    "    print(i)"
   ]
  },
  {
   "cell_type": "code",
   "execution_count": 2,
   "id": "633b0ffd",
   "metadata": {},
   "outputs": [
    {
     "name": "stdout",
     "output_type": "stream",
     "text": [
      "h\n",
      "h\n",
      "h\n",
      "h\n",
      "h\n"
     ]
    }
   ],
   "source": [
    "# while-----condition\n",
    "a=1\n",
    "while a<10:\n",
    "    print(\"h\")\n",
    "    a+=2"
   ]
  },
  {
   "cell_type": "code",
   "execution_count": null,
   "id": "d3e8617f",
   "metadata": {},
   "outputs": [],
   "source": [
    "range(20)-----1 to 19\n",
    "range(1,4,2)----b\n",
    "range(start,stop,step)---by default +1\n",
    "+-----left to right\n",
    "-  right to left\n",
    "-6 -5 -4 -3 -2 -1 0 1 2 3 4 5 6 "
   ]
  },
  {
   "cell_type": "code",
   "execution_count": 4,
   "id": "816bd0bc",
   "metadata": {},
   "outputs": [
    {
     "name": "stdout",
     "output_type": "stream",
     "text": [
      "1\n",
      "3\n"
     ]
    }
   ],
   "source": [
    "for i in range(1,4,2):\n",
    "    print(i)"
   ]
  },
  {
   "cell_type": "code",
   "execution_count": 7,
   "id": "443780d6",
   "metadata": {},
   "outputs": [
    {
     "name": "stdout",
     "output_type": "stream",
     "text": [
      "0\n",
      "1\n",
      "2\n",
      "3\n",
      "4\n",
      "5\n",
      "6\n",
      "7\n",
      "8\n",
      "10\n",
      "11\n",
      "12\n",
      "13\n",
      "14\n",
      "15\n",
      "16\n",
      "17\n",
      "18\n",
      "19\n",
      "20\n",
      "21\n",
      "22\n",
      "23\n",
      "24\n"
     ]
    }
   ],
   "source": [
    "for i in range(25):\n",
    "    if i==9:\n",
    "        continue\n",
    "    print(i)\n",
    "#     sf\n",
    "#     g\n",
    "#     gfd\n",
    "#     gfd\n",
    "#     gfd\n",
    "#     gfd\n",
    "#     g"
   ]
  },
  {
   "cell_type": "code",
   "execution_count": 10,
   "id": "2757df69",
   "metadata": {},
   "outputs": [],
   "source": [
    "i=50\n",
    "if i>10:\n",
    "    pass"
   ]
  },
  {
   "cell_type": "code",
   "execution_count": 11,
   "id": "9d2ba21c",
   "metadata": {},
   "outputs": [],
   "source": [
    "str1='mklvvv'\n",
    "str1=\"ffsfsf\"\n",
    "str3=\"\"\"FSDFFSDF\"\"\""
   ]
  },
  {
   "cell_type": "code",
   "execution_count": 29,
   "id": "a9803bd6",
   "metadata": {},
   "outputs": [
    {
     "name": "stdout",
     "output_type": "stream",
     "text": [
      "Hello world\n",
      "hello world\n",
      "**********************************hello World***********************************\n",
      "2\n",
      "True\n",
      "4\n",
      "hello 50 world 20 \n",
      "hello 20 world 50\n",
      "-1\n"
     ]
    },
    {
     "ename": "ValueError",
     "evalue": "substring not found",
     "output_type": "error",
     "traceback": [
      "\u001b[1;31m---------------------------------------------------------------------------\u001b[0m",
      "\u001b[1;31mValueError\u001b[0m                                Traceback (most recent call last)",
      "Input \u001b[1;32mIn [29]\u001b[0m, in \u001b[0;36m<cell line: 15>\u001b[1;34m()\u001b[0m\n\u001b[0;32m     13\u001b[0m \u001b[38;5;28mprint\u001b[39m(\u001b[38;5;124mf\u001b[39m\u001b[38;5;124m\"\u001b[39m\u001b[38;5;124mhello \u001b[39m\u001b[38;5;132;01m{\u001b[39;00mb\u001b[38;5;132;01m}\u001b[39;00m\u001b[38;5;124m world \u001b[39m\u001b[38;5;132;01m{\u001b[39;00ma\u001b[38;5;132;01m}\u001b[39;00m\u001b[38;5;124m\"\u001b[39m)\n\u001b[0;32m     14\u001b[0m \u001b[38;5;28mprint\u001b[39m(str1\u001b[38;5;241m.\u001b[39mfind(\u001b[38;5;124m\"\u001b[39m\u001b[38;5;124mz\u001b[39m\u001b[38;5;124m\"\u001b[39m))\n\u001b[1;32m---> 15\u001b[0m \u001b[38;5;28mprint\u001b[39m(\u001b[43mstr1\u001b[49m\u001b[38;5;241;43m.\u001b[39;49m\u001b[43mindex\u001b[49m\u001b[43m(\u001b[49m\u001b[38;5;124;43m\"\u001b[39;49m\u001b[38;5;124;43mz\u001b[39;49m\u001b[38;5;124;43m\"\u001b[39;49m\u001b[43m)\u001b[49m)\n",
      "\u001b[1;31mValueError\u001b[0m: substring not found"
     ]
    }
   ],
   "source": [
    "# string is immutable-----changes not allowed\n",
    "# string is ordered-------index position\n",
    "str1=\"hello World\"\n",
    "a=50\n",
    "b=20\n",
    "print(str1.capitalize())#----first letter capital and remaing will be small or lowercase\n",
    "print(str1.casefold())#---lowercase\n",
    "print(str1.center(80,\"*\"))#---center the text with the width mentioned\n",
    "print(str1.count(\"o\"))##---counts the character\n",
    "print(str1.endswith(\"d\"))#----check whetehr the string ends with that caharacter or not\n",
    "print(str1.find(\"o\"))##--gives index of the first occurence\n",
    "print(\"hello {} world {} \".format(a,b))#---format the string\n",
    "print(f\"hello {b} world {a}\")\n",
    "print(str1.find(\"z\"))#----return index value --not gives error when value not match but gives -1\n",
    "print(str1.index(\"z\"))#---returns index value---gives error when value not match"
   ]
  },
  {
   "cell_type": "code",
   "execution_count": 31,
   "id": "32ad625f",
   "metadata": {},
   "outputs": [
    {
     "name": "stdout",
     "output_type": "stream",
     "text": [
      "True\n"
     ]
    }
   ],
   "source": [
    "str1=\"hello456\"\n",
    "print(str1.isalnum())"
   ]
  },
  {
   "cell_type": "code",
   "execution_count": 33,
   "id": "cb22fba9",
   "metadata": {},
   "outputs": [
    {
     "name": "stdout",
     "output_type": "stream",
     "text": [
      "True\n"
     ]
    }
   ],
   "source": [
    "str1=\"_1drink\"\n",
    "print(str1.isidentifier())"
   ]
  },
  {
   "cell_type": "code",
   "execution_count": 35,
   "id": "15fbf6aa",
   "metadata": {},
   "outputs": [
    {
     "name": "stdout",
     "output_type": "stream",
     "text": [
      "kddhdsjhdf32742fjhf^$^&\n"
     ]
    }
   ],
   "source": [
    "str1=\"kdDHDSJHDf32742fjhf^$^&\"\n",
    "print(str1.lower())"
   ]
  },
  {
   "cell_type": "code",
   "execution_count": 34,
   "id": "d4635c5b",
   "metadata": {},
   "outputs": [
    {
     "name": "stdout",
     "output_type": "stream",
     "text": [
      "kdhf32742fjhf^$^&\n"
     ]
    }
   ],
   "source": [
    "str1=\"kdhf32742fjhf^$^&\"\n",
    "print(str1.casefold())#---more powerful than lower"
   ]
  },
  {
   "cell_type": "code",
   "execution_count": 41,
   "id": "bf248b90",
   "metadata": {},
   "outputs": [
    {
     "name": "stdout",
     "output_type": "stream",
     "text": [
      "Fhgs Sjkfsh Jksghsk Jksdgksfdj\n",
      "1h2h3\n"
     ]
    }
   ],
   "source": [
    "str4=\"fhgs sjkfsh jksghsk jksdgksfdj\"\n",
    "print(str4.title())#---capitalize the first letter of every word\n",
    "str1=\"h\"\n",
    "list1=[\"1\",\"2\",\"3\"]\n",
    "print(str1.join(list1))"
   ]
  },
  {
   "cell_type": "code",
   "execution_count": 46,
   "id": "4c2a76a9",
   "metadata": {},
   "outputs": [
    {
     "name": "stdout",
     "output_type": "stream",
     "text": [
      "['', 'sdjkvf sdjk', 'fsjkf jkl', '  kl; jkl  kl j kl ']\n"
     ]
    }
   ],
   "source": [
    "str1=\"hsdjkvf sdjkhfsjkf jklh  kl; jkl  kl j kl \"\n",
    "print(str1.split('h'))"
   ]
  },
  {
   "cell_type": "code",
   "execution_count": 49,
   "id": "831d0377",
   "metadata": {},
   "outputs": [
    {
     "name": "stdout",
     "output_type": "stream",
     "text": [
      "('hello world welcome ', 'to', ' Tops technologies')\n"
     ]
    }
   ],
   "source": [
    "str6=\"hello world welcome to Tops technologies\"\n",
    "print(str6.partition('to'))#---partition into 3 parts"
   ]
  }
 ],
 "metadata": {
  "kernelspec": {
   "display_name": "Python 3 (ipykernel)",
   "language": "python",
   "name": "python3"
  },
  "language_info": {
   "codemirror_mode": {
    "name": "ipython",
    "version": 3
   },
   "file_extension": ".py",
   "mimetype": "text/x-python",
   "name": "python",
   "nbconvert_exporter": "python",
   "pygments_lexer": "ipython3",
   "version": "3.9.12"
  }
 },
 "nbformat": 4,
 "nbformat_minor": 5
}
