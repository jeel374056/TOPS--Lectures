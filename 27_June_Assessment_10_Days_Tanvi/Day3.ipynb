{
 "cells": [
  {
   "cell_type": "code",
   "execution_count": 4,
   "id": "398701b6",
   "metadata": {},
   "outputs": [
    {
     "name": "stdout",
     "output_type": "stream",
     "text": [
      "[True, 'Strinf', [1, 2]]\n",
      "[9, 5.2, True, 'Strinf', [1, 2], (5, 4), {4, 'sugandh'}, {1: 'Hello'}, [1, 2, 3]]\n",
      "[9, 5.2, True, 'Strinf', [1, 2], (5, 4), {4, 'sugandh'}, {1: 'Hello'}, [1, 2, 3], 1, 2, 3]\n"
     ]
    }
   ],
   "source": [
    "# list=mutable datatype--changes allowed\n",
    "# list=[elemnts of different data types]\n",
    "# list allowed duplicates\n",
    "# list have index\n",
    "# indexing starts from 0\n",
    "list1=[9,5.2,True,\"Strinf\",[1,2,],(5,4),{4,\"sugandh\"},{1:\"Hello\"}]\n",
    "print(list1[2:5])\n",
    "list1.append([1,2,3])\n",
    "print(list1)\n",
    "list1.extend([1,2,3])\n",
    "print(list1)\n",
    "# append(single_value)----add value at last\n",
    "# extend(iterables)---add value at last\n",
    "# insert(index,value)---add element at particular index\n",
    "# pop()----removes element from last by default but if we mention any index then remove from that index\n"
   ]
  },
  {
   "cell_type": "code",
   "execution_count": 8,
   "id": "501e1526",
   "metadata": {},
   "outputs": [
    {
     "name": "stdout",
     "output_type": "stream",
     "text": [
      "[9, 5.2, True, 'Strinf', [1, 2], {4, 'sugandh'}, {1: 'Hello'}, [1, 2, 3], 1]\n",
      "[9, 5.2, True, 'Strinf', [1, 2], {4, 'sugandh'}, {1: 'Hello'}, [1, 2, 3]]\n",
      "[9, 5.2, True, 'Strinf', [1, 2], {1: 'Hello'}, [1, 2, 3]]\n"
     ]
    },
    {
     "ename": "IndexError",
     "evalue": "pop index out of range",
     "output_type": "error",
     "traceback": [
      "\u001b[1;31m---------------------------------------------------------------------------\u001b[0m",
      "\u001b[1;31mIndexError\u001b[0m                                Traceback (most recent call last)",
      "Input \u001b[1;32mIn [8]\u001b[0m, in \u001b[0;36m<cell line: 6>\u001b[1;34m()\u001b[0m\n\u001b[0;32m      4\u001b[0m list1\u001b[38;5;241m.\u001b[39mpop(\u001b[38;5;241m5\u001b[39m)\n\u001b[0;32m      5\u001b[0m \u001b[38;5;28mprint\u001b[39m(list1)\n\u001b[1;32m----> 6\u001b[0m \u001b[43mlist1\u001b[49m\u001b[38;5;241;43m.\u001b[39;49m\u001b[43mpop\u001b[49m\u001b[43m(\u001b[49m\u001b[38;5;241;43m18\u001b[39;49m\u001b[43m)\u001b[49m\n",
      "\u001b[1;31mIndexError\u001b[0m: pop index out of range"
     ]
    }
   ],
   "source": [
    "print(list1)\n",
    "list1.pop()\n",
    "print(list1)\n",
    "list1.pop(5)\n",
    "print(list1)\n",
    "list1.pop(18)\n"
   ]
  },
  {
   "cell_type": "code",
   "execution_count": 11,
   "id": "5de068be",
   "metadata": {},
   "outputs": [
    {
     "ename": "ValueError",
     "evalue": "list.remove(x): x not in list",
     "output_type": "error",
     "traceback": [
      "\u001b[1;31m---------------------------------------------------------------------------\u001b[0m",
      "\u001b[1;31mValueError\u001b[0m                                Traceback (most recent call last)",
      "Input \u001b[1;32mIn [11]\u001b[0m, in \u001b[0;36m<cell line: 3>\u001b[1;34m()\u001b[0m\n\u001b[0;32m      1\u001b[0m \u001b[38;5;66;03m# remove(value)--removes element from the list we mention\u001b[39;00m\n\u001b[0;32m      2\u001b[0m list2\u001b[38;5;241m=\u001b[39m[\u001b[38;5;241m4\u001b[39m,\u001b[38;5;241m5\u001b[39m,\u001b[38;5;241m4\u001b[39m,\u001b[38;5;241m8\u001b[39m,\u001b[38;5;241m9\u001b[39m,\u001b[38;5;241m7\u001b[39m,\u001b[38;5;241m4\u001b[39m,\u001b[38;5;241m5\u001b[39m,\u001b[38;5;241m8\u001b[39m,\u001b[38;5;241m9\u001b[39m,\u001b[38;5;241m8\u001b[39m]\n\u001b[1;32m----> 3\u001b[0m \u001b[43mlist2\u001b[49m\u001b[38;5;241;43m.\u001b[39;49m\u001b[43mremove\u001b[49m\u001b[43m(\u001b[49m\u001b[38;5;241;43m18\u001b[39;49m\u001b[43m)\u001b[49m\n\u001b[0;32m      4\u001b[0m \u001b[38;5;28mprint\u001b[39m(list2)\n",
      "\u001b[1;31mValueError\u001b[0m: list.remove(x): x not in list"
     ]
    }
   ],
   "source": [
    "# remove(value)--removes element from the list we mention\n",
    "list2=[4,5,4,8,9,7,4,5,8,9,8]\n",
    "list2.remove(18)\n",
    "print(list2)"
   ]
  },
  {
   "cell_type": "code",
   "execution_count": 17,
   "id": "5030ede8",
   "metadata": {},
   "outputs": [
    {
     "name": "stdout",
     "output_type": "stream",
     "text": [
      "0\n",
      "3\n"
     ]
    }
   ],
   "source": [
    "list2=[4,5,4,8,9,7,4,5,8,9,8]\n",
    "print(list2.count(19))#---count the occurence of the elementsb\n",
    "print(list2.index(8))"
   ]
  },
  {
   "cell_type": "code",
   "execution_count": null,
   "id": "fb15f023",
   "metadata": {},
   "outputs": [],
   "source": [
    "# index()---gives index----\n"
   ]
  },
  {
   "cell_type": "code",
   "execution_count": 30,
   "id": "5b35344a",
   "metadata": {},
   "outputs": [
    {
     "name": "stdout",
     "output_type": "stream",
     "text": [
      "dict_keys([1, 2])\n",
      "dict_values(['Python', 'world'])\n",
      "dict_items([(1, 'Python'), (2, 'world')])\n",
      "{1: 'Python', 2: 'world'}\n"
     ]
    }
   ],
   "source": [
    "dict1={1:\"hello\",2:\"world\",1:\"Python\"}\n",
    "dict2={}\n",
    "\n",
    "print(dict1.keys())\n",
    "print(dict1.values())\n",
    "print(dict1.items())\n",
    "dict2=dict1.copy()\n",
    "print(dict2)"
   ]
  },
  {
   "cell_type": "code",
   "execution_count": 27,
   "id": "1f7b503d",
   "metadata": {},
   "outputs": [
    {
     "name": "stdout",
     "output_type": "stream",
     "text": [
      "<class 'tuple'>\n"
     ]
    }
   ],
   "source": [
    "t1=(5,)\n",
    "print(type(t1))"
   ]
  },
  {
   "cell_type": "code",
   "execution_count": null,
   "id": "4f99daa4",
   "metadata": {},
   "outputs": [],
   "source": [
    "# keys----immutable\n",
    "# values ---any type of values"
   ]
  }
 ],
 "metadata": {
  "kernelspec": {
   "display_name": "Python 3 (ipykernel)",
   "language": "python",
   "name": "python3"
  },
  "language_info": {
   "codemirror_mode": {
    "name": "ipython",
    "version": 3
   },
   "file_extension": ".py",
   "mimetype": "text/x-python",
   "name": "python",
   "nbconvert_exporter": "python",
   "pygments_lexer": "ipython3",
   "version": "3.9.12"
  }
 },
 "nbformat": 4,
 "nbformat_minor": 5
}
