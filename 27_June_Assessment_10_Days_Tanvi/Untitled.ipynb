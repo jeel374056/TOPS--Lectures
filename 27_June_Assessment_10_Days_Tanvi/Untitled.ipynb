{
 "cells": [
  {
   "cell_type": "code",
   "execution_count": 3,
   "id": "5af53ba1",
   "metadata": {},
   "outputs": [
    {
     "name": "stdout",
     "output_type": "stream",
     "text": [
      "java python C programing\n"
     ]
    }
   ],
   "source": [
    "\n",
    "print(\"java\",\"python\",\"C\",\"programing\",sep=\"++\")"
   ]
  },
  {
   "cell_type": "code",
   "execution_count": 5,
   "id": "81976ca6",
   "metadata": {},
   "outputs": [
    {
     "name": "stdout",
     "output_type": "stream",
     "text": [
      "4\n",
      "5\n",
      "hello\n"
     ]
    }
   ],
   "source": [
    "dict1={4:9,5:8,\"hello\":'world'}\n",
    "for i in dict1:\n",
    "    print(i)"
   ]
  },
  {
   "cell_type": "code",
   "execution_count": null,
   "id": "14f884b9",
   "metadata": {},
   "outputs": [],
   "source": [
    "range(10)\n",
    "0----9[10]\n",
    "\n",
    "range(5,10)\n",
    "5------9[10]\n",
    "\n",
    "range(6,10,2)\n",
    "6-8----\n",
    "\n",
    "\n",
    "for loop: 5 ---1 whole inner loop iterates\n",
    "    for loop: 5"
   ]
  }
 ],
 "metadata": {
  "kernelspec": {
   "display_name": "Python 3 (ipykernel)",
   "language": "python",
   "name": "python3"
  },
  "language_info": {
   "codemirror_mode": {
    "name": "ipython",
    "version": 3
   },
   "file_extension": ".py",
   "mimetype": "text/x-python",
   "name": "python",
   "nbconvert_exporter": "python",
   "pygments_lexer": "ipython3",
   "version": "3.9.12"
  }
 },
 "nbformat": 4,
 "nbformat_minor": 5
}
