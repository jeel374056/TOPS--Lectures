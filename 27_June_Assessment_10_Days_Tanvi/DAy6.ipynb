{
 "cells": [
  {
   "cell_type": "code",
   "execution_count": null,
   "id": "f014e752",
   "metadata": {},
   "outputs": [],
   "source": [
    "# # Object Oriented programming\n",
    "# polymorphism\n",
    "# inheritance\n"
   ]
  },
  {
   "cell_type": "code",
   "execution_count": null,
   "id": "171c40bc",
   "metadata": {},
   "outputs": [],
   "source": [
    "# Object Oriented programming\n",
    "# class\n",
    "# object\n",
    "# inheritance\n",
    "# abstraction\n",
    "# encapsulation\n",
    "# polymorphism"
   ]
  },
  {
   "cell_type": "code",
   "execution_count": null,
   "id": "4954dea8",
   "metadata": {},
   "outputs": [],
   "source": [
    "# class----blueprint---properties\n",
    "# object---real world enties"
   ]
  },
  {
   "cell_type": "code",
   "execution_count": null,
   "id": "075d314f",
   "metadata": {},
   "outputs": [],
   "source": []
  },
  {
   "cell_type": "code",
   "execution_count": null,
   "id": "bd0858b9",
   "metadata": {},
   "outputs": [],
   "source": [
    "class class_name:\n",
    "    variables\n",
    "    functions()---method()\n"
   ]
  },
  {
   "cell_type": "code",
   "execution_count": null,
   "id": "93925f94",
   "metadata": {},
   "outputs": [],
   "source": [
    "# class student:\n",
    "#     name=\"\"\n",
    "#     age=\"\"\n",
    "#     gender=\"\"\n",
    "#     roll_no=\"\"\n",
    "    \n",
    "#     give_exam()\n",
    "#     study()\n",
    "#     game_participate()--class\n",
    "    \n",
    "# rahul=student()-----object"
   ]
  },
  {
   "cell_type": "code",
   "execution_count": 9,
   "id": "b1374e92",
   "metadata": {},
   "outputs": [
    {
     "name": "stdout",
     "output_type": "stream",
     "text": [
      "Enter Name: Suresh\n",
      "Enter age: 48\n",
      "Enter Gender: male\n",
      "Name of person is Suresh\n",
      " Age of person is 48\n",
      "Gender of person ismale\n"
     ]
    }
   ],
   "source": [
    "class person:\n",
    "    name=\"\"\n",
    "    age=\"\"\n",
    "    gender=\"\"\n",
    "    \n",
    "    def get_person(self):\n",
    "        self.name=input(\"Enter Name: \")\n",
    "        self.age=int(input(\"Enter age: \"))\n",
    "        self.gender=input(\"Enter Gender: \")\n",
    "    \n",
    "    def show_person(self):\n",
    "        print(f\"Name of person is {self.name}\\n Age of person is {self.age}\\nGender of person is{self.gender}\")\n",
    "\n",
    "suresh=person()\n",
    "suresh.get_person()\n",
    "suresh.show_person()"
   ]
  },
  {
   "cell_type": "code",
   "execution_count": null,
   "id": "2b69debb",
   "metadata": {},
   "outputs": [],
   "source": [
    "# Inheritance---Child class inherits the properties of parent class then it is called as inheritance\n",
    "\n",
    "# parent class---super class------base class\n",
    "# child class-----sub class------derived class\n",
    "\n",
    "types of inheritance\n",
    "1)single inheritance---one parent one clild\n",
    "2)multiple inheritance----multiple parent -----single child\n",
    "3)hierarchical inheritance------single parent--------multiple child\n",
    "4)multilevel inheritance----multple levels of parents and child\n",
    "5)Hybrid inheritance-----mixed inheritance"
   ]
  },
  {
   "cell_type": "code",
   "execution_count": 5,
   "id": "e87a3912",
   "metadata": {},
   "outputs": [],
   "source": [
    "class person:\n",
    "    name=\"\"\n",
    "    age=\"\"\n",
    "    gender=\"\"\n",
    "    \n",
    "    def get_person(self):\n",
    "        self.name=input(\"Enter Name: \")\n",
    "        self.age=int(input(\"Enter age: \"))\n",
    "        self.gender=input(\"Enter Gender: \")\n",
    "    \n",
    "    def show_person(self):\n",
    "        print(f\"Name of person is {self.name}\\n Age of person is {self.age}\\nGender of person is {self.gender}\")\n",
    "        \n",
    "class student(person):\n",
    "    rollno=\"\"\n",
    "    subject=\"\"\n",
    "    \n",
    "    def get_student(self):\n",
    "        self.rollno=int(input(\"Enter Roll no\"))\n",
    "        self.subject=input(\"Enter Subject\")\n",
    "    def show_student(self):\n",
    "        print(f\"Roll no is {self.rollno}\")\n",
    "        print(f\"subject is {self.subject}\")\n"
   ]
  },
  {
   "cell_type": "code",
   "execution_count": 4,
   "id": "1cada4fc",
   "metadata": {},
   "outputs": [
    {
     "name": "stdout",
     "output_type": "stream",
     "text": [
      "Enter Name: Python\n",
      "Enter age: 18\n",
      "Enter Gender: male\n",
      "Name of person is Python\n",
      " Age of person is 18\n",
      "Gender of person ismale\n"
     ]
    }
   ],
   "source": [
    "p1=person()\n",
    "p1.get_person()\n",
    "p1.show_person()\n",
    "p2=student()\n",
    "p2.get_student()\n",
    "p2.show_student()"
   ]
  },
  {
   "cell_type": "code",
   "execution_count": 6,
   "id": "57c1523f",
   "metadata": {},
   "outputs": [],
   "source": [
    "class person:\n",
    "    name=\"\"\n",
    "    age=\"\"\n",
    "    gender=\"\"\n",
    "    \n",
    "    def get_person(self):\n",
    "        self.name=input(\"Enter Name: \")\n",
    "        self.age=int(input(\"Enter age: \"))\n",
    "        self.gender=input(\"Enter Gender: \")\n",
    "    \n",
    "    def show_person(self):\n",
    "        print(f\"Name of person is {self.name}\\n Age of person is {self.age}\\nGender of person is {self.gender}\")\n",
    "        \n",
    "class student:\n",
    "    rollno=\"\"\n",
    "    subject=\"\"\n",
    "    \n",
    "    def get_student(self):\n",
    "        self.rollno=int(input(\"Enter Roll no\"))\n",
    "        self.subject=input(\"Enter Subject\")\n",
    "    def show_student(self):\n",
    "        print(f\"Roll no is {self.rollno}\")\n",
    "        print(f\"subject is {self.subject}\")\n",
    "\n",
    "class child(student,person):\n",
    "    c1=\"\"\n",
    "    c2=\"\"\n",
    "    \n",
    "    def fun1(self):\n",
    "        self.c1=\"hello\"\n",
    "        self.c2=29"
   ]
  },
  {
   "cell_type": "code",
   "execution_count": null,
   "id": "ea0566a7",
   "metadata": {},
   "outputs": [],
   "source": [
    "obj1=child()\n",
    "obj1.name=\"python\""
   ]
  },
  {
   "cell_type": "code",
   "execution_count": null,
   "id": "6e6fddc1",
   "metadata": {},
   "outputs": [],
   "source": [
    "class person:\n",
    "    name=\"\"\n",
    "    age=\"\"\n",
    "    gender=\"\"\n",
    "    \n",
    "    def get_person(self):\n",
    "        self.name=input(\"Enter Name: \")\n",
    "        self.age=int(input(\"Enter age: \"))\n",
    "        self.gender=input(\"Enter Gender: \")\n",
    "    \n",
    "    def show_person(self):\n",
    "        print(f\"Name of person is {self.name}\\n Age of person is {self.age}\\nGender of person is {self.gender}\")\n",
    "        \n",
    "class student(person):\n",
    "    rollno=\"\"\n",
    "    subject=\"\"\n",
    "    \n",
    "    def get_student(self):\n",
    "        self.rollno=int(input(\"Enter Roll no\"))\n",
    "        self.subject=input(\"Enter Subject\")\n",
    "    def show_student(self):\n",
    "        print(f\"Roll no is {self.rollno}\")\n",
    "        print(f\"subject is {self.subject}\")\n",
    "\n",
    "class child(student):\n",
    "    c1=\"\"\n",
    "    c2=\"\"\n",
    "    \n",
    "    def fun1(self):\n",
    "        self.c1=\"hello\"\n",
    "        self.c2=29\n",
    "ch1=child()\n",
    "ch1.show_person()"
   ]
  },
  {
   "cell_type": "code",
   "execution_count": null,
   "id": "51b4d9ce",
   "metadata": {},
   "outputs": [],
   "source": [
    "constructor---method--automatic called when object is created\n",
    "__init__"
   ]
  },
  {
   "cell_type": "code",
   "execution_count": 27,
   "id": "93d02629",
   "metadata": {},
   "outputs": [
    {
     "name": "stdout",
     "output_type": "stream",
     "text": [
      "indigo\n",
      "jetking\n",
      "helloo\n",
      "indigo\n",
      "jetking\n",
      "World\n"
     ]
    },
    {
     "ename": "TypeError",
     "evalue": "unsupported operand type(s) for +: 'pilot' and 'pilot'",
     "output_type": "error",
     "traceback": [
      "\u001b[1;31m---------------------------------------------------------------------------\u001b[0m",
      "\u001b[1;31mTypeError\u001b[0m                                 Traceback (most recent call last)",
      "Input \u001b[1;32mIn [27]\u001b[0m, in \u001b[0;36m<cell line: 14>\u001b[1;34m()\u001b[0m\n\u001b[0;32m     12\u001b[0m obj1\u001b[38;5;241m=\u001b[39mpilot(\u001b[38;5;124m\"\u001b[39m\u001b[38;5;124mhelloo\u001b[39m\u001b[38;5;124m\"\u001b[39m)\n\u001b[0;32m     13\u001b[0m obj2\u001b[38;5;241m=\u001b[39mpilot(\u001b[38;5;124m\"\u001b[39m\u001b[38;5;124mWorld\u001b[39m\u001b[38;5;124m\"\u001b[39m)\n\u001b[1;32m---> 14\u001b[0m \u001b[38;5;28mprint\u001b[39m(\u001b[43mobj1\u001b[49m\u001b[38;5;241;43m+\u001b[39;49m\u001b[43mobj2\u001b[49m)\n",
      "\u001b[1;31mTypeError\u001b[0m: unsupported operand type(s) for +: 'pilot' and 'pilot'"
     ]
    }
   ],
   "source": [
    "class pilot:\n",
    "    aeroplane=\"indigo\"\n",
    "    jet=\"jetking\"\n",
    "    \n",
    "    def __init__(self,name):\n",
    "        print(self.aeroplane)\n",
    "        print(self.jet)\n",
    "        print(name)\n",
    "    def fun1(self,val1):\n",
    "        print(\"Hello , How are you\")\n",
    "        \n",
    "obj1=pilot(\"helloo\")\n",
    "obj2=pilot(\"World\")\n",
    "print(obj1+obj2)"
   ]
  },
  {
   "cell_type": "code",
   "execution_count": 26,
   "id": "53308c86",
   "metadata": {},
   "outputs": [
    {
     "name": "stdout",
     "output_type": "stream",
     "text": [
      "80\n"
     ]
    }
   ],
   "source": [
    "print(50+30)"
   ]
  }
 ],
 "metadata": {
  "kernelspec": {
   "display_name": "Python 3 (ipykernel)",
   "language": "python",
   "name": "python3"
  },
  "language_info": {
   "codemirror_mode": {
    "name": "ipython",
    "version": 3
   },
   "file_extension": ".py",
   "mimetype": "text/x-python",
   "name": "python",
   "nbconvert_exporter": "python",
   "pygments_lexer": "ipython3",
   "version": "3.9.12"
  }
 },
 "nbformat": 4,
 "nbformat_minor": 5
}
