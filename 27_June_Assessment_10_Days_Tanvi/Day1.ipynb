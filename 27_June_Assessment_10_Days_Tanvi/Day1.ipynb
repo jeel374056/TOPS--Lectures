{
 "cells": [
  {
   "cell_type": "code",
   "execution_count": 8,
   "id": "fc8d372c",
   "metadata": {
    "scrolled": true
   },
   "outputs": [
    {
     "name": "stdout",
     "output_type": "stream",
     "text": [
      "Enter string50\n",
      "50\n"
     ]
    }
   ],
   "source": [
    "# a=10\n",
    "# print(a)\n",
    "# a=input()\n",
    "# print(a)\n",
    "# print(type(a))\n",
    "# casting----one datatype to another datatype\n",
    "a=int(input(\"Enter string\"))\n",
    "print(a)\n"
   ]
  },
  {
   "cell_type": "code",
   "execution_count": 20,
   "id": "f6ff6f8e",
   "metadata": {},
   "outputs": [
    {
     "name": "stdout",
     "output_type": "stream",
     "text": [
      "hellofjsd'lfjsdf\n",
      "wor\"ld\n",
      "jdfsjkl'\n",
      "sdfjkk\"hj\n",
      "Helloo\n",
      "fjfkd\n",
      "sdfjsdf\n"
     ]
    },
    {
     "data": {
      "text/plain": [
       "\"hellofjsd'lfjsdf\""
      ]
     },
     "execution_count": 20,
     "metadata": {},
     "output_type": "execute_result"
    }
   ],
   "source": [
    "a=\"hellofjsd'lfjsdf\"\n",
    "b='wor\"ld'\n",
    "c='''jdfsjkl'\n",
    "sdfjkk\"hj'''\n",
    "d=\"\"\"Helloo\n",
    "fjfkd\n",
    "sdfjsdf\"\"\"\n",
    "print(a)\n",
    "print(b)\n",
    "print(c)\n",
    "\"\"\"sdiofjhfijfwfwfjkfhwfjwfklwjwf\n",
    "jdjafkla\n",
    "dfnkf\"\"\"\n",
    "print(d)\n"
   ]
  },
  {
   "cell_type": "code",
   "execution_count": null,
   "id": "5d973500",
   "metadata": {},
   "outputs": [],
   "source": [
    "# variables name----\n",
    "# hello\n",
    "# 1)Variable name must start with either undescore(_) or alphabet(a-z,A-Z)\n",
    "# 2)Variable other character must be Number digit(0-9),underscore(_),Alphabet(a-z,A-Z)\n",
    "# 3)variable name cannot be a keyword\n",
    "# keyword-----words which have predefined meaning in python---print(),input(),if,else,for,while....\n",
    "4hello\n",
    "hello_world=20\n",
    "hello49_\n",
    "hello*1_"
   ]
  },
  {
   "cell_type": "code",
   "execution_count": 26,
   "id": "b2285794",
   "metadata": {},
   "outputs": [
    {
     "name": "stdout",
     "output_type": "stream",
     "text": [
      "hello\\nworld/*/94985#$^%%^\n"
     ]
    }
   ],
   "source": [
    "# \\n---new line\n",
    "# raw string---r,R\n",
    "a=r\"hello\\nworld/*/94985#$^%%^\"\n",
    "print(a)"
   ]
  },
  {
   "cell_type": "code",
   "execution_count": null,
   "id": "74b035c6",
   "metadata": {},
   "outputs": [],
   "source": [
    "a=\"10\"\n",
    "int(a)\n",
    "casting means one dataype to another datatype change "
   ]
  },
  {
   "cell_type": "code",
   "execution_count": 32,
   "id": "71c161f2",
   "metadata": {},
   "outputs": [
    {
     "name": "stdout",
     "output_type": "stream",
     "text": [
      "['Welcome ', 'o ', 'ops ', 'echnologies']\n"
     ]
    }
   ],
   "source": [
    "# split()---splits string into list of strings separated by , and split by space by default\n",
    "# we can change split parameter\n",
    "str1=\"Welcome to tops technologies\"\n",
    "print(str1.split('t'))"
   ]
  },
  {
   "cell_type": "code",
   "execution_count": 41,
   "id": "3e50c3af",
   "metadata": {},
   "outputs": [
    {
     "name": "stdout",
     "output_type": "stream",
     "text": [
      "Tanvi Welcome to tops technologies we are happy to see Tanvi you  Welcome to tops technologieshere\n"
     ]
    }
   ],
   "source": [
    "a=(1,2)\n",
    "b=\"Welcome to tops technologies\"\n",
    "a=\"Tanvi\"\n",
    "print(\"{0} {1} we are happy to see {0} you  {1}here\".format(a,b))"
   ]
  },
  {
   "cell_type": "code",
   "execution_count": null,
   "id": "f5f1a48a",
   "metadata": {},
   "outputs": [],
   "source": [
    "conditional statements\n",
    "\n",
    "if condition:\n",
    "    expression or statements\n",
    "    \n",
    "if condition:\n",
    "    body staments or expression\n",
    "else:\n",
    "    Statments or expression\n",
    "    \n",
    "if condition:\n",
    "    body:\n",
    "elif:\n",
    "    body\n",
    "else:\n",
    "    body\n",
    "    \n",
    "\n",
    "if condition:\n",
    "    if --else\n",
    "else:\n",
    "    if ---else"
   ]
  },
  {
   "cell_type": "code",
   "execution_count": 43,
   "id": "3c4b3bee",
   "metadata": {},
   "outputs": [],
   "source": [
    "a=5\n",
    "if a>5:\n",
    "    print(\"greater than 5\")"
   ]
  },
  {
   "cell_type": "code",
   "execution_count": 45,
   "id": "9238fe58",
   "metadata": {},
   "outputs": [
    {
     "name": "stdout",
     "output_type": "stream",
     "text": [
      "Greater than 5\n"
     ]
    }
   ],
   "source": [
    "a=9\n",
    "if a>5:\n",
    "    print(\"Greater than 5\")\n",
    "else:\n",
    "    print(\"Less than 5\")"
   ]
  },
  {
   "cell_type": "code",
   "execution_count": null,
   "id": "dddcf439",
   "metadata": {},
   "outputs": [],
   "source": [
    "a=5\n",
    "if a>0:\n",
    "    print(\"Positive\")\n",
    "elif a<0:\n",
    "    print(\"Negative\")\n",
    "else:\n",
    "    print(\"zero\")"
   ]
  }
 ],
 "metadata": {
  "kernelspec": {
   "display_name": "Python 3 (ipykernel)",
   "language": "python",
   "name": "python3"
  },
  "language_info": {
   "codemirror_mode": {
    "name": "ipython",
    "version": 3
   },
   "file_extension": ".py",
   "mimetype": "text/x-python",
   "name": "python",
   "nbconvert_exporter": "python",
   "pygments_lexer": "ipython3",
   "version": "3.9.12"
  }
 },
 "nbformat": 4,
 "nbformat_minor": 5
}
