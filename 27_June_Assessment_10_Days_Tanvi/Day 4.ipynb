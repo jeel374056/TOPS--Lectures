{
 "cells": [
  {
   "cell_type": "code",
   "execution_count": 2,
   "id": "8b8ea778",
   "metadata": {},
   "outputs": [
    {
     "name": "stdout",
     "output_type": "stream",
     "text": [
      "Not greater than 1000\n"
     ]
    }
   ],
   "source": [
    "a=40\n",
    "if a>100:\n",
    "    \n",
    "else:\n",
    "    print(\"Not greater than 1000\")"
   ]
  },
  {
   "cell_type": "code",
   "execution_count": 11,
   "id": "b0381236",
   "metadata": {},
   "outputs": [],
   "source": [
    "def function1(parameters):\n",
    "    print(\"Hello\")\n",
    "    return \n",
    "function1()"
   ]
  },
  {
   "cell_type": "code",
   "execution_count": null,
   "id": "e3c4b220",
   "metadata": {},
   "outputs": [],
   "source": [
    "naman"
   ]
  }
 ],
 "metadata": {
  "kernelspec": {
   "display_name": "Python 3 (ipykernel)",
   "language": "python",
   "name": "python3"
  },
  "language_info": {
   "codemirror_mode": {
    "name": "ipython",
    "version": 3
   },
   "file_extension": ".py",
   "mimetype": "text/x-python",
   "name": "python",
   "nbconvert_exporter": "python",
   "pygments_lexer": "ipython3",
   "version": "3.9.12"
  }
 },
 "nbformat": 4,
 "nbformat_minor": 5
}
