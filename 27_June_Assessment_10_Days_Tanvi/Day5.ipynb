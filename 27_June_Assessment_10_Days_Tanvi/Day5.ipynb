{
 "cells": [
  {
   "cell_type": "code",
   "execution_count": null,
   "id": "2086e977",
   "metadata": {},
   "outputs": [],
   "source": [
    "# \\n---new line character\n",
    "print(\"Tops\",end=\"*\")\n",
    "print(\"technologies\",end=\"#\")\n",
    "print(\"python\")"
   ]
  },
  {
   "cell_type": "code",
   "execution_count": 1,
   "id": "f55654b3",
   "metadata": {},
   "outputs": [
    {
     "ename": "NameError",
     "evalue": "name 'h1' is not defined",
     "output_type": "error",
     "traceback": [
      "\u001b[1;31m---------------------------------------------------------------------------\u001b[0m",
      "\u001b[1;31mNameError\u001b[0m                                 Traceback (most recent call last)",
      "Input \u001b[1;32mIn [1]\u001b[0m, in \u001b[0;36m<cell line: 1>\u001b[1;34m()\u001b[0m\n\u001b[1;32m----> 1\u001b[0m \u001b[38;5;28mprint\u001b[39m(\u001b[43mh1\u001b[49m)\n",
      "\u001b[1;31mNameError\u001b[0m: name 'h1' is not defined"
     ]
    }
   ],
   "source": [
    "print(h1)"
   ]
  },
  {
   "cell_type": "code",
   "execution_count": null,
   "id": "7001683d",
   "metadata": {},
   "outputs": [],
   "source": [
    "#open\n",
    "#read,write,append\n",
    "#close"
   ]
  },
  {
   "cell_type": "code",
   "execution_count": null,
   "id": "12f89042",
   "metadata": {},
   "outputs": [],
   "source": [
    "read---reading the conetent of file\n",
    "write---write the file from starting and delete the old content\n",
    "append---write in the file but not dlete the old content but starts writing after old content\n",
    "create----just simply create the file gives error when file is already exist"
   ]
  },
  {
   "cell_type": "code",
   "execution_count": null,
   "id": "366fde01",
   "metadata": {},
   "outputs": [],
   "source": [
    "sgffsdfsf sfdgsgsdg sfdgfsg fdhgdhfdhd fdhgfdhgdh"
   ]
  },
  {
   "cell_type": "code",
   "execution_count": null,
   "id": "7954a0ac",
   "metadata": {},
   "outputs": [],
   "source": []
  },
  {
   "cell_type": "code",
   "execution_count": null,
   "id": "4dcab992",
   "metadata": {},
   "outputs": [],
   "source": [
    "f=open(\"t1.txt\",\"a\")-----creates file when not exist\n",
    "f=open(\"t1.txt\",\"w\")---create the file when not exist\n",
    "f=open(\"t1.txt\",\"r\")---gives error\n",
    "f=open(\"t1.txt\",\"x\")---gives error when file already exist"
   ]
  },
  {
   "cell_type": "code",
   "execution_count": 2,
   "id": "3749f7b1",
   "metadata": {},
   "outputs": [],
   "source": [
    "f=open(\"t2.txt\",\"w\")\n",
    "f.write(\"Hello world\")\n",
    "f.close()"
   ]
  },
  {
   "cell_type": "code",
   "execution_count": 3,
   "id": "fd15ae19",
   "metadata": {},
   "outputs": [],
   "source": [
    "f=open(\"t2.txt\",\"w\")\n",
    "f.write(\"Wow old content deleted\")\n",
    "f.close()"
   ]
  },
  {
   "cell_type": "code",
   "execution_count": 4,
   "id": "04207a23",
   "metadata": {},
   "outputs": [],
   "source": [
    "f=open(\"t2.txt\",\"a\")\n",
    "f.write(\"something new is added\")\n",
    "f.close()"
   ]
  },
  {
   "cell_type": "code",
   "execution_count": 7,
   "id": "65c01d13",
   "metadata": {},
   "outputs": [
    {
     "name": "stdout",
     "output_type": "stream",
     "text": [
      "Wow old content deletedsomething new is added\n",
      "dfg\n",
      "fdg\n",
      "fdg\n",
      "dg\n",
      "g\n",
      "dg\n",
      "dg\n",
      "\n"
     ]
    }
   ],
   "source": [
    "f=open(\"t2.txt\",\"r\")\n",
    "print(f.read())\n",
    "f.close()"
   ]
  },
  {
   "cell_type": "code",
   "execution_count": 13,
   "id": "108921ca",
   "metadata": {},
   "outputs": [
    {
     "name": "stdout",
     "output_type": "stream",
     "text": [
      "Wow old content deletedsomething new is added\n",
      "dfg\n",
      "fdg\n",
      "f\n"
     ]
    }
   ],
   "source": [
    "f=open(\"t2.txt\",\"r\")\n",
    "print(f.read(55))\n",
    "f.close()"
   ]
  },
  {
   "cell_type": "code",
   "execution_count": 17,
   "id": "e3729be6",
   "metadata": {},
   "outputs": [
    {
     "name": "stdout",
     "output_type": "stream",
     "text": [
      "Wow old content deletedsomething new is added\n",
      "\n",
      "dfg\n",
      "\n",
      "fdg\n",
      "\n"
     ]
    }
   ],
   "source": [
    "f=open(\"t2.txt\",\"r\")\n",
    "print(f.readline())\n",
    "print(f.readline())\n",
    "print(f.readline())\n",
    "f.close()"
   ]
  },
  {
   "cell_type": "code",
   "execution_count": 19,
   "id": "2474aa96",
   "metadata": {},
   "outputs": [],
   "source": [
    "f=open(\"t4.txt\",\"x\")\n",
    "f.close()"
   ]
  },
  {
   "cell_type": "code",
   "execution_count": 23,
   "id": "1e7afb8b",
   "metadata": {},
   "outputs": [
    {
     "name": "stdout",
     "output_type": "stream",
     "text": [
      "['dhfdhdhdhdh\\n', 'gjkgjghdjkg\\n', 'sgrgtergergerg\\n']\n"
     ]
    }
   ],
   "source": [
    "f=open(\"t6.txt\",\"w\")\n",
    "f.write(\"dhfdhdhdhdh\\n\")\n",
    "f.write(\"gjkgjghdjkg\\n\")\n",
    "f.write(\"sgrgtergergerg\\n\")\n",
    "f.close()\n",
    "f=open(\"t6.txt\",\"r\")\n",
    "print(f.readlines())#---list of lines in astring format\n",
    "f.close()"
   ]
  },
  {
   "cell_type": "code",
   "execution_count": 26,
   "id": "3efd903f",
   "metadata": {},
   "outputs": [
    {
     "name": "stdout",
     "output_type": "stream",
     "text": [
      "5.0\n",
      "2.4\n"
     ]
    },
    {
     "ename": "ZeroDivisionError",
     "evalue": "division by zero",
     "output_type": "error",
     "traceback": [
      "\u001b[1;31m---------------------------------------------------------------------------\u001b[0m",
      "\u001b[1;31mZeroDivisionError\u001b[0m                         Traceback (most recent call last)",
      "Input \u001b[1;32mIn [26]\u001b[0m, in \u001b[0;36m<cell line: 4>\u001b[1;34m()\u001b[0m\n\u001b[0;32m      2\u001b[0m \u001b[38;5;28mprint\u001b[39m(\u001b[38;5;241m10\u001b[39m\u001b[38;5;241m/\u001b[39m\u001b[38;5;241m2\u001b[39m)\n\u001b[0;32m      3\u001b[0m \u001b[38;5;28mprint\u001b[39m(\u001b[38;5;241m6\u001b[39m\u001b[38;5;241m/\u001b[39m\u001b[38;5;241m2.5\u001b[39m)\n\u001b[1;32m----> 4\u001b[0m \u001b[38;5;28mprint\u001b[39m(\u001b[38;5;241;43m10\u001b[39;49m\u001b[38;5;241;43m/\u001b[39;49m\u001b[38;5;241;43m0\u001b[39;49m)\n",
      "\u001b[1;31mZeroDivisionError\u001b[0m: division by zero"
     ]
    }
   ],
   "source": [
    "# /-----division\n",
    "print(10/2)\n",
    "print(6/2.5)\n",
    "print(10/0)\n",
    "error----human mistake or syntax mistake"
   ]
  },
  {
   "cell_type": "code",
   "execution_count": 37,
   "id": "a7d506a4",
   "metadata": {},
   "outputs": [
    {
     "name": "stdout",
     "output_type": "stream",
     "text": [
      "Enter no 1: hsjkgh\n"
     ]
    },
    {
     "ename": "ValueError",
     "evalue": "invalid literal for int() with base 10: 'hsjkgh'",
     "output_type": "error",
     "traceback": [
      "\u001b[1;31m---------------------------------------------------------------------------\u001b[0m",
      "\u001b[1;31mValueError\u001b[0m                                Traceback (most recent call last)",
      "Input \u001b[1;32mIn [37]\u001b[0m, in \u001b[0;36m<cell line: 1>\u001b[1;34m()\u001b[0m\n\u001b[1;32m----> 1\u001b[0m a\u001b[38;5;241m=\u001b[39m\u001b[38;5;28;43mint\u001b[39;49m\u001b[43m(\u001b[49m\u001b[38;5;28;43minput\u001b[39;49m\u001b[43m(\u001b[49m\u001b[38;5;124;43m\"\u001b[39;49m\u001b[38;5;124;43mEnter no 1: \u001b[39;49m\u001b[38;5;124;43m\"\u001b[39;49m\u001b[43m)\u001b[49m\u001b[43m)\u001b[49m\n\u001b[0;32m      2\u001b[0m b\u001b[38;5;241m=\u001b[39m\u001b[38;5;28mint\u001b[39m(\u001b[38;5;28minput\u001b[39m(\u001b[38;5;124m\"\u001b[39m\u001b[38;5;124mEnter no 2: \u001b[39m\u001b[38;5;124m\"\u001b[39m))\n\u001b[0;32m      3\u001b[0m \u001b[38;5;28mprint\u001b[39m(\u001b[38;5;124mf\u001b[39m\u001b[38;5;124m\"\u001b[39m\u001b[38;5;124mDivision is \u001b[39m\u001b[38;5;132;01m{\u001b[39;00ma\u001b[38;5;241m/\u001b[39mb\u001b[38;5;132;01m}\u001b[39;00m\u001b[38;5;124m\"\u001b[39m)\n",
      "\u001b[1;31mValueError\u001b[0m: invalid literal for int() with base 10: 'hsjkgh'"
     ]
    }
   ],
   "source": [
    "a=int(input(\"Enter no 1: \"))\n",
    "b=int(input(\"Enter no 2: \"))\n",
    "print(f\"Division is {a/b}\")"
   ]
  },
  {
   "cell_type": "code",
   "execution_count": 43,
   "id": "2d910a77",
   "metadata": {},
   "outputs": [
    {
     "name": "stdout",
     "output_type": "stream",
     "text": [
      "Enter no 1: 50\n",
      "Enter no 2: 20\n",
      "Division is 2.5\n"
     ]
    }
   ],
   "source": [
    "try:\n",
    "    a=int(input(\"Enter no 1: \"))\n",
    "    b=int(input(\"Enter no 2: \"))\n",
    "    print(f\"Division is {a/b}\")\n",
    "except ZeroDivisionError:\n",
    "    print(\"No.2 cannot be 0\")\n",
    "except ValueError:\n",
    "    print(\"Only number allowed\")"
   ]
  },
  {
   "cell_type": "code",
   "execution_count": null,
   "id": "9b49290d",
   "metadata": {},
   "outputs": [],
   "source": [
    "raise---user can generate own error"
   ]
  },
  {
   "cell_type": "code",
   "execution_count": null,
   "id": "98d4d345",
   "metadata": {},
   "outputs": [],
   "source": [
    "exception handling---\n",
    "try:#----error will come is putted in this block\n",
    "except:#----what to do when error comes\n",
    "finally:#----run in any situation wheteher error or not\n",
    "else:#----run after evrything runs up"
   ]
  }
 ],
 "metadata": {
  "kernelspec": {
   "display_name": "Python 3 (ipykernel)",
   "language": "python",
   "name": "python3"
  },
  "language_info": {
   "codemirror_mode": {
    "name": "ipython",
    "version": 3
   },
   "file_extension": ".py",
   "mimetype": "text/x-python",
   "name": "python",
   "nbconvert_exporter": "python",
   "pygments_lexer": "ipython3",
   "version": "3.9.12"
  }
 },
 "nbformat": 4,
 "nbformat_minor": 5
}
