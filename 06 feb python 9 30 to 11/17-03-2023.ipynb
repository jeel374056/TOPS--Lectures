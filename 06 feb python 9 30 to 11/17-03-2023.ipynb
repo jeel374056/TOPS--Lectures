{
 "cells": [
  {
   "cell_type": "code",
   "execution_count": 10,
   "id": "bb13bfab",
   "metadata": {},
   "outputs": [
    {
     "name": "stdout",
     "output_type": "stream",
     "text": [
      "Hello World\n",
      "<class 'function'>\n"
     ]
    }
   ],
   "source": [
    "# lambda function\n",
    "# variablename=lambda parameters : body of the lambda function\n",
    "\n",
    "a=lambda : print(\"Hello World\")\n",
    "\n",
    "a()\n",
    "print(type(a))"
   ]
  },
  {
   "cell_type": "code",
   "execution_count": 16,
   "id": "594aa390",
   "metadata": {},
   "outputs": [
    {
     "name": "stdout",
     "output_type": "stream",
     "text": [
      "625 68921 279841\n"
     ]
    }
   ],
   "source": [
    "square=lambda y,z,m:print(y**2,z**3,m**4)\n",
    "square(25,41,23)"
   ]
  },
  {
   "cell_type": "code",
   "execution_count": 17,
   "id": "487ea8d1",
   "metadata": {},
   "outputs": [
    {
     "name": "stdout",
     "output_type": "stream",
     "text": [
      "(1, 6)\n",
      "(2, 7)\n",
      "(3, 8)\n",
      "(4, 9)\n",
      "(5, 10)\n"
     ]
    }
   ],
   "source": [
    "# zip()\n",
    "a=[1,2,3,4,5,54,89,65,87]\n",
    "b=[6,7,8,9,10]\n",
    "x=zip(a,b)\n",
    "# print(x)\n",
    "# print(range(1,10))\n",
    "for i in x:\n",
    "    print(i)"
   ]
  },
  {
   "cell_type": "code",
   "execution_count": 18,
   "id": "5035ac3d",
   "metadata": {},
   "outputs": [
    {
     "data": {
      "text/plain": [
       "'helloworld'"
      ]
     },
     "execution_count": 18,
     "metadata": {},
     "output_type": "execute_result"
    }
   ],
   "source": [
    "# OOPS\n",
    "\n",
    "# class\n",
    "# objects\n",
    "\n",
    "# encapsulation\n",
    "# constructor\n",
    "# inheritance\n",
    "# polymorphism\n",
    "\n",
    "89+36\n",
    "\n",
    "\"hello\"+\"world\""
   ]
  },
  {
   "cell_type": "code",
   "execution_count": null,
   "id": "c27f5ba7",
   "metadata": {},
   "outputs": [],
   "source": [
    "for i in range(1,4):\n",
    "    print(i)\n",
    "    student_name = input(\"enter your name:\")\n",
    "    age=int(input(\"enter the age:\"))\n",
    "    ss=int(input(\"enter the marks of ss :\"))\n",
    "    sci=int(input(\"enter the marks os science:\"))\n",
    "    math=int(input(\"enter the marks of math:\"))\n",
    "\n",
    "n=int(input(\"student roll number\"))\n",
    "    if n==i:\n",
    "        print(ss+sci+math)"
   ]
  },
  {
   "cell_type": "code",
   "execution_count": null,
   "id": "c3d4ae4d",
   "metadata": {},
   "outputs": [],
   "source": [
    "a=10\n",
    "a=\"hello\"\n",
    "print(a)"
   ]
  },
  {
   "cell_type": "code",
   "execution_count": null,
   "id": "b3f46ede",
   "metadata": {},
   "outputs": [],
   "source": [
    "class classname:\n",
    "    variables---data members\n",
    "    functions---member function or methods"
   ]
  },
  {
   "cell_type": "code",
   "execution_count": 19,
   "id": "df9e5448",
   "metadata": {},
   "outputs": [
    {
     "name": "stdout",
     "output_type": "stream",
     "text": [
      "<class 'list'>\n"
     ]
    }
   ],
   "source": [
    "l1=[1,2,3,4,5]\n",
    "print(type(l1))\n"
   ]
  },
  {
   "cell_type": "code",
   "execution_count": 39,
   "id": "53df8933",
   "metadata": {},
   "outputs": [
    {
     "name": "stdout",
     "output_type": "stream",
     "text": [
      "1926709337968\n",
      "1926709337968\n",
      "1926709336240\n",
      "1926709336240\n"
     ]
    }
   ],
   "source": [
    "class student:\n",
    "    \n",
    "    def __init__(self):\n",
    "        self.name=\"\"\n",
    "        self.age=\"\"\n",
    "        print(id(self))\n",
    "        \n",
    "    def getdata(self):\n",
    "        self.name=input(\"ENter NAme: \")\n",
    "        self.age=int(input(\"ENter Age\"))\n",
    "        \n",
    "# objetcname=classname()\n",
    "\n",
    "s1=student()\n",
    "print(id(s1))\n",
    "s2=student()\n",
    "print(id(s2))\n",
    "s1.getdata()\n",
    "print(s1.marks1+s1.marks2)\n",
    "\n"
   ]
  },
  {
   "cell_type": "code",
   "execution_count": 6,
   "id": "48895b0e",
   "metadata": {},
   "outputs": [],
   "source": [
    "class parent:\n",
    "    def __init__(self):\n",
    "        self.a=45\n",
    "        self.b=39\n",
    "    \n",
    "    def addition(self):\n",
    "        print(f\"{self.a+self.b}\")\n",
    "        \n",
    "class child(parent):\n",
    "    def __init__(self):\n",
    "        parent.__init__(self)\n",
    "        self.c=101\n",
    "        self.d=102\n",
    "    \n",
    "    def subtraction(self):\n",
    "        print(f\"{self.c-self.d}\")"
   ]
  },
  {
   "cell_type": "code",
   "execution_count": 7,
   "id": "4dd1ce76",
   "metadata": {},
   "outputs": [
    {
     "name": "stdout",
     "output_type": "stream",
     "text": [
      "84\n"
     ]
    }
   ],
   "source": [
    "p1=parent()\n",
    "c1=child()\n",
    "c1.addition()"
   ]
  },
  {
   "cell_type": "code",
   "execution_count": null,
   "id": "2a1722b1",
   "metadata": {},
   "outputs": [],
   "source": [
    "polymorphism---one thing more than one forms\n",
    "\n",
    "poly--many\n",
    "morphism---forms\n",
    "\n",
    "function overriding\n",
    "operator overloading"
   ]
  },
  {
   "cell_type": "code",
   "execution_count": 15,
   "id": "d552e7e3",
   "metadata": {},
   "outputs": [],
   "source": [
    "class demo:\n",
    "    def __init__(self):\n",
    "        self.a=45\n",
    "    def printvalue(self):\n",
    "        print(self.a)\n",
    "    def printvalue(self,name):\n",
    "        self.a=name\n",
    "        print(self.a)"
   ]
  },
  {
   "cell_type": "code",
   "execution_count": 16,
   "id": "19886551",
   "metadata": {},
   "outputs": [
    {
     "name": "stdout",
     "output_type": "stream",
     "text": [
      "Helo\n"
     ]
    }
   ],
   "source": [
    "d1=demo()\n",
    "d1.printvalue(\"Helo\")"
   ]
  },
  {
   "cell_type": "code",
   "execution_count": 18,
   "id": "a52f6de6",
   "metadata": {},
   "outputs": [
    {
     "data": {
      "text/plain": [
       "'herllowolrd'"
      ]
     },
     "execution_count": 18,
     "metadata": {},
     "output_type": "execute_result"
    }
   ],
   "source": [
    "58+63\n",
    "\"herllo\"+\"wolrd\""
   ]
  },
  {
   "cell_type": "code",
   "execution_count": 26,
   "id": "e589cb59",
   "metadata": {},
   "outputs": [],
   "source": [
    "class c1:\n",
    "    def __init__(self):\n",
    "        self.a=45\n",
    "        self.b=39\n",
    "    \n",
    "    def addition(self):\n",
    "        print(f\"{self.a+self.b}\")\n",
    "        \n",
    "    def __add__(self,other): #operator overloading\n",
    "        self.a=self.a+other.c\n",
    "        self.b=self.b+other.d\n",
    "        \n",
    "class c2:\n",
    "    def __init__(self):\n",
    "        self.c=101\n",
    "        self.d=102\n",
    "    \n",
    "    def subtraction(self):\n",
    "        print(f\"{self.c-self.d}\")"
   ]
  },
  {
   "cell_type": "code",
   "execution_count": 28,
   "id": "37c5aff5",
   "metadata": {},
   "outputs": [
    {
     "name": "stdout",
     "output_type": "stream",
     "text": [
      "146 141\n"
     ]
    }
   ],
   "source": [
    "c1object=c1()\n",
    "c2object=c2()\n",
    "# print(c1object.a+c2object.c)\n",
    "c1object+c2object\n",
    "print(c1object.a,c1object.b)\n",
    "# c1object.+(c2object)"
   ]
  }
 ],
 "metadata": {
  "kernelspec": {
   "display_name": "Python 3 (ipykernel)",
   "language": "python",
   "name": "python3"
  },
  "language_info": {
   "codemirror_mode": {
    "name": "ipython",
    "version": 3
   },
   "file_extension": ".py",
   "mimetype": "text/x-python",
   "name": "python",
   "nbconvert_exporter": "python",
   "pygments_lexer": "ipython3",
   "version": "3.9.12"
  }
 },
 "nbformat": 4,
 "nbformat_minor": 5
}
