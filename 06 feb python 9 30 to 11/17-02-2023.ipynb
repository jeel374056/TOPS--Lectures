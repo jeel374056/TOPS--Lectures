{
 "cells": [
  {
   "cell_type": "code",
   "execution_count": null,
   "id": "304254f7",
   "metadata": {},
   "outputs": [],
   "source": [
    "# Conditional Statements\n",
    "# if simple if\n",
    "# if ...else  \n",
    "# if..elif..elif..elif..........else ladder if else\n",
    "# nested if else"
   ]
  },
  {
   "cell_type": "code",
   "execution_count": null,
   "id": "aca7042a",
   "metadata": {},
   "outputs": [],
   "source": [
    "# simple if\n",
    "\n",
    "\n",
    "if condition:\n",
    "    line of codes"
   ]
  },
  {
   "cell_type": "code",
   "execution_count": 3,
   "id": "28506c16",
   "metadata": {},
   "outputs": [
    {
     "name": "stdout",
     "output_type": "stream",
     "text": [
      "Enter Age: 12\n"
     ]
    }
   ],
   "source": [
    "# simple if\n",
    "age=int(input(\"Enter Age: \"))\n",
    "if age>18:\n",
    "    print(\"adult\")"
   ]
  },
  {
   "cell_type": "code",
   "execution_count": null,
   "id": "99ab97f4",
   "metadata": {},
   "outputs": [],
   "source": [
    "if else:\n",
    "    \n",
    "    \n",
    "if condition:\n",
    "    task performed\n",
    "    ger\n",
    "    ger\n",
    "    ger\n",
    "    g\n",
    "    r\n",
    "else:\n",
    "    gertgert\n",
    "    ger\n",
    "    ger\n",
    "    gge\n",
    "    r"
   ]
  },
  {
   "cell_type": "code",
   "execution_count": 5,
   "id": "ad88ec8d",
   "metadata": {},
   "outputs": [
    {
     "name": "stdout",
     "output_type": "stream",
     "text": [
      "Enter Age: 12\n",
      "Not an Adult\n"
     ]
    }
   ],
   "source": [
    "age=int(input(\"Enter Age: \"))\n",
    "if age>18:\n",
    "    print(\"adult\")\n",
    "else:\n",
    "    print(\"Not an Adult\")"
   ]
  },
  {
   "cell_type": "code",
   "execution_count": null,
   "id": "f5c8355c",
   "metadata": {},
   "outputs": [],
   "source": [
    "if condition:\n",
    "    body\n",
    "elif condition2:\n",
    "    body\n",
    "elif condition3:\n",
    "    boyd\n",
    "    ;\n",
    "    ;\n",
    "    ;\n",
    "[else:\n",
    "     body]\n"
   ]
  },
  {
   "cell_type": "code",
   "execution_count": 8,
   "id": "f9dc9644",
   "metadata": {},
   "outputs": [
    {
     "name": "stdout",
     "output_type": "stream",
     "text": [
      "Enter percentage: 120\n",
      "Fail\n"
     ]
    }
   ],
   "source": [
    "percentage=float(input(\"Enter percentage: \"))\n",
    "if percentage<100 and percentage>80:\n",
    "    print(\"Grade A\")\n",
    "elif percentage<=80 and percentage>70:\n",
    "    print(\"Grade B\")\n",
    "elif percentage<=70 and percentage>55:\n",
    "    print(\"Grade C\")\n",
    "elif percentage<=55 and percentage>33:\n",
    "    print(\"Grade D\")\n",
    "else:\n",
    "    print(\"Fail\")"
   ]
  },
  {
   "cell_type": "code",
   "execution_count": 10,
   "id": "875a2bb8",
   "metadata": {},
   "outputs": [
    {
     "name": "stdout",
     "output_type": "stream",
     "text": [
      "Enter nyumber: 10\n",
      "hello\n"
     ]
    }
   ],
   "source": [
    "num=int(input(\"Enter nyumber: \"))\n",
    "if num==10:\n",
    "    print(\"hello\")\n",
    "elif num==10:\n",
    "    print(\"gfwr\")\n",
    "elif num==10:\n",
    "    print(\"45\")\n",
    "wgfwg\n",
    "wefw\n",
    "fwe\n"
   ]
  },
  {
   "cell_type": "code",
   "execution_count": 12,
   "id": "a2b9ed1b",
   "metadata": {},
   "outputs": [
    {
     "name": "stdout",
     "output_type": "stream",
     "text": [
      "Enter number1: 48\n",
      "Enter number2: 85\n",
      "Enter number3: 23\n",
      "85 is greater\n"
     ]
    }
   ],
   "source": [
    "# nested if..else\n",
    "# greater of three number\n",
    "n1=int(input(\"Enter number1: \"))\n",
    "n2=int(input(\"Enter number2: \"))\n",
    "n3=int(input(\"Enter number3: \"))\n",
    "if n1>n2:\n",
    "    if n1>n3:\n",
    "        print(f\"{n1} is greater\")\n",
    "    else:\n",
    "        print(f\"{n3} is greater\")\n",
    "else:\n",
    "    if n2>n3:\n",
    "        print(f\"{n2} is greater\")\n",
    "    else:\n",
    "        print(f\"{n3} is greater\")"
   ]
  },
  {
   "cell_type": "code",
   "execution_count": null,
   "id": "ae71a379",
   "metadata": {},
   "outputs": [],
   "source": [
    "# for loop  sequence /collections /iterable \n",
    "    range()\n",
    "    string\n",
    "    list\n",
    "    tuple\n",
    "    set\n",
    "    dictionary\n",
    "\n",
    "# while loop\n",
    "    user defined condition"
   ]
  },
  {
   "cell_type": "code",
   "execution_count": null,
   "id": "36dd2547",
   "metadata": {},
   "outputs": [],
   "source": [
    "for iterating_variable in sequence:\n",
    "    body"
   ]
  },
  {
   "cell_type": "code",
   "execution_count": 14,
   "id": "d497f555",
   "metadata": {},
   "outputs": [
    {
     "name": "stdout",
     "output_type": "stream",
     "text": [
      "H\n",
      "e\n",
      "l\n",
      "l\n",
      "o\n",
      " \n",
      "W\n",
      "o\n",
      "l\n",
      "r\n",
      "d\n",
      "\n",
      "\n",
      "f\n",
      "g\n",
      "b\n",
      "e\n",
      "r\n"
     ]
    }
   ],
   "source": [
    "for i in \"Hello Wolrd\\nfgber\":\n",
    "    print(i)"
   ]
  },
  {
   "cell_type": "code",
   "execution_count": 15,
   "id": "44f76e63",
   "metadata": {},
   "outputs": [
    {
     "name": "stdout",
     "output_type": "stream",
     "text": [
      "range(0, 5)\n"
     ]
    }
   ],
   "source": [
    "# range([start],stop,[step])\n",
    "# range(10)\n",
    "# range(5,15)\n",
    "# range(1,28,2)\n",
    "# print(range(5))"
   ]
  },
  {
   "cell_type": "code",
   "execution_count": 16,
   "id": "5b729f17",
   "metadata": {},
   "outputs": [
    {
     "name": "stdout",
     "output_type": "stream",
     "text": [
      "1\n",
      "2\n",
      "3\n",
      "4\n",
      "5\n",
      "6\n",
      "7\n",
      "8\n",
      "9\n",
      "10\n"
     ]
    }
   ],
   "source": [
    "for i in range(1,11):\n",
    "    print(i)"
   ]
  },
  {
   "cell_type": "code",
   "execution_count": 17,
   "id": "79c4c424",
   "metadata": {},
   "outputs": [
    {
     "name": "stdout",
     "output_type": "stream",
     "text": [
      "Enter number:58\n",
      "58 X 1 = 58\n",
      "58 X 2 = 116\n",
      "58 X 3 = 174\n",
      "58 X 4 = 232\n",
      "58 X 5 = 290\n",
      "58 X 6 = 348\n",
      "58 X 7 = 406\n",
      "58 X 8 = 464\n",
      "58 X 9 = 522\n",
      "58 X 10 = 580\n"
     ]
    }
   ],
   "source": [
    "num=int(input(\"Enter number:\"))\n",
    "for i in range(1,11):\n",
    "    print(f\"{num} X {i} = {num*i}\")"
   ]
  },
  {
   "cell_type": "code",
   "execution_count": null,
   "id": "2d67de6d",
   "metadata": {},
   "outputs": [],
   "source": [
    "-8 -7 -6 -5 -3 -2 -1 0 1 2 3 4 5 6 7 8 9\n",
    "if we not give start value by default stars from 0\n",
    "if we not give stop value by default it give error beacuse it is compulsory\n",
    "if we not give step value by default it is 1\n",
    "range(1,5,1)\n",
    "range(-8,0)\n",
    "range(-1,-7,-1)\n",
    "when step value is positive direction is from left to right\n",
    "when step value is negative direction is from right to left\n"
   ]
  },
  {
   "cell_type": "code",
   "execution_count": 19,
   "id": "10036c75",
   "metadata": {},
   "outputs": [
    {
     "name": "stdout",
     "output_type": "stream",
     "text": [
      "30\n",
      "29\n",
      "28\n",
      "27\n",
      "26\n",
      "25\n",
      "24\n",
      "23\n",
      "22\n",
      "21\n"
     ]
    }
   ],
   "source": [
    "for i in range(30,20,-1):\n",
    "    print(i)"
   ]
  },
  {
   "cell_type": "code",
   "execution_count": 20,
   "id": "ac1261ce",
   "metadata": {},
   "outputs": [
    {
     "name": "stdout",
     "output_type": "stream",
     "text": [
      "2\n",
      "4\n",
      "6\n",
      "8\n",
      "10\n",
      "12\n",
      "14\n",
      "16\n",
      "18\n",
      "20\n",
      "22\n",
      "24\n",
      "26\n",
      "28\n",
      "30\n"
     ]
    }
   ],
   "source": [
    "for i in range(2,31,2):\n",
    "    print(i)"
   ]
  },
  {
   "cell_type": "code",
   "execution_count": 23,
   "id": "e6b7ee68",
   "metadata": {},
   "outputs": [
    {
     "name": "stdout",
     "output_type": "stream",
     "text": [
      "1\n",
      "2\n",
      "3\n",
      "4\n",
      "5\n",
      "6\n",
      "7\n",
      "8\n",
      "9\n"
     ]
    }
   ],
   "source": [
    "# while loop\n",
    "n=1\n",
    "while n<10:\n",
    "    print(n)\n",
    "#     n=n+1\n",
    "    n+=1"
   ]
  },
  {
   "cell_type": "code",
   "execution_count": null,
   "id": "534401e2",
   "metadata": {},
   "outputs": [],
   "source": [
    "#string\n",
    "# string is represented in ' '  \" \"  \"\"\"  \"\"\"  '''  '''\n",
    "# string is immutable(changes not allowed)\n",
    "# string is oredered datatype\n",
    "# string has many functions and methods to work with"
   ]
  },
  {
   "cell_type": "code",
   "execution_count": 27,
   "id": "35e8ec39",
   "metadata": {},
   "outputs": [
    {
     "name": "stdout",
     "output_type": "stream",
     "text": [
      "hello\n",
      "wolrd\n",
      "ergergerrgege\n",
      "hrthrthrt\n",
      "hrthrthhrt\n",
      "h\n",
      "rthrth\n"
     ]
    }
   ],
   "source": [
    "a=\"hello\"\n",
    "print(a)\n",
    "b='wolrd'\n",
    "print(b)\n",
    "c=\"\"\"ergergerrgege\n",
    "hrthrthrt\n",
    "hrthrthhrt\n",
    "h\n",
    "rthrth\"\"\"\n",
    "print(c)"
   ]
  },
  {
   "cell_type": "code",
   "execution_count": 32,
   "id": "43e7efd2",
   "metadata": {},
   "outputs": [
    {
     "name": "stdout",
     "output_type": "stream",
     "text": [
      "r\n",
      "Great Warrior\n"
     ]
    }
   ],
   "source": [
    "a=\"Great Warrior\"\n",
    "print(a[1])\n",
    "# a[2]=\"p\"\n",
    "print(a)\n"
   ]
  },
  {
   "cell_type": "code",
   "execution_count": 41,
   "id": "872562e5",
   "metadata": {},
   "outputs": [
    {
     "name": "stdout",
     "output_type": "stream",
     "text": [
      "w\n",
      "h\n",
      "a\n",
      "t\n",
      "what\n",
      "yad\n",
      "day\n",
      "sah ti yad lufrednow a tahw wow\n"
     ]
    }
   ],
   "source": [
    "# string slicing\n",
    "a=\"wow what a wonderful day it has\"\n",
    "print(a[4])\n",
    "print(a[5])\n",
    "print(a[6])\n",
    "print(a[7])\n",
    "print(a[4:8])\n",
    "# positive indexing --  0 start of string\n",
    "# negative indexing -- -1  end of string\n",
    "print(a[-8:-11:-1])\n",
    "print(a[-10:-7])\n",
    "print(a[::-1])"
   ]
  },
  {
   "cell_type": "code",
   "execution_count": null,
   "id": "0b661264",
   "metadata": {},
   "outputs": [],
   "source": []
  }
 ],
 "metadata": {
  "kernelspec": {
   "display_name": "Python 3 (ipykernel)",
   "language": "python",
   "name": "python3"
  },
  "language_info": {
   "codemirror_mode": {
    "name": "ipython",
    "version": 3
   },
   "file_extension": ".py",
   "mimetype": "text/x-python",
   "name": "python",
   "nbconvert_exporter": "python",
   "pygments_lexer": "ipython3",
   "version": "3.9.12"
  }
 },
 "nbformat": 4,
 "nbformat_minor": 5
}
