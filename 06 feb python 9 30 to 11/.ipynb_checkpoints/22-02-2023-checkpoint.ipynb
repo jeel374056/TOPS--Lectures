{
 "cells": [
  {
   "cell_type": "code",
   "execution_count": 16,
   "id": "80ba7611",
   "metadata": {},
   "outputs": [
    {
     "name": "stdout",
     "output_type": "stream",
     "text": [
      "Enter Number12\n",
      "     *      \n",
      "    * *     \n",
      "   * * *    \n",
      "  * * * *   \n",
      " * * * * *  \n",
      "* * * * * * \n",
      " * * * * *  \n",
      "  * * * *   \n",
      "   * * *    \n",
      "    * *     \n",
      "     *      \n",
      "            \n"
     ]
    }
   ],
   "source": [
    "num=int(input(\"Enter Number\"))\n",
    "for i in range(1,num+1): #1 2 3 4 5 10-6 10-7 10-8 10-9 10-10\n",
    "    if i<=(num/2):\n",
    "        str1=\"* \"*i\n",
    "        print(str1.center(num))\n",
    "    else:\n",
    "        str1=\"* \"*(num-i)\n",
    "        print(str1.center(num))"
   ]
  },
  {
   "cell_type": "code",
   "execution_count": 4,
   "id": "93fa813e",
   "metadata": {},
   "outputs": [
    {
     "name": "stdout",
     "output_type": "stream",
     "text": [
      "efhbje25 hbvrjhv6896\n"
     ]
    }
   ],
   "source": [
    "\n",
    "a=25\n",
    "b=68\n",
    "str1=\"efhbje{} hbvrjhv{}{}\".format(a,b,8)\n",
    "# print(f\"Your string is {str1}\") #formatted string\n",
    "print(str1)"
   ]
  },
  {
   "cell_type": "code",
   "execution_count": 69,
   "id": "07f847b8",
   "metadata": {},
   "outputs": [
    {
     "name": "stdout",
     "output_type": "stream",
     "text": [
      "dkvcfhe98 erfjhvberfvbe45 jehfvb23\n"
     ]
    }
   ],
   "source": [
    "m={'x':98,'y':45,'z':23}\n",
    "str1=\"dkvcfhe{x} erfjhvberfvbe{y} jehfvb{z}\".format_map(m)\n",
    "print(str1)"
   ]
  },
  {
   "cell_type": "code",
   "execution_count": 7,
   "id": "9457b992",
   "metadata": {},
   "outputs": [
    {
     "name": "stdout",
     "output_type": "stream",
     "text": [
      "False\n"
     ]
    }
   ],
   "source": [
    "str1=\"rfklgergnrhrt4564648ertge\"\n",
    "print(str1.isalnum())"
   ]
  },
  {
   "cell_type": "code",
   "execution_count": 11,
   "id": "e76b8eef",
   "metadata": {},
   "outputs": [
    {
     "name": "stdout",
     "output_type": "stream",
     "text": [
      "False\n"
     ]
    }
   ],
   "source": [
    "str1=\"kushfkehvbe\"\n",
    "print(str1.isalpha())"
   ]
  },
  {
   "cell_type": "code",
   "execution_count": 19,
   "id": "ed159278",
   "metadata": {},
   "outputs": [
    {
     "name": "stdout",
     "output_type": "stream",
     "text": [
      "False\n"
     ]
    }
   ],
   "source": [
    "str1=\"rjfjf yh5\"\n",
    "print(str1.isidentifier())"
   ]
  },
  {
   "cell_type": "code",
   "execution_count": 25,
   "id": "229fc602",
   "metadata": {},
   "outputs": [
    {
     "name": "stdout",
     "output_type": "stream",
     "text": [
      "False\n",
      "False\n",
      "False\n"
     ]
    }
   ],
   "source": [
    "str1=\"897+89\"\n",
    "print(str1.isdecimal())\n",
    "print(str1.isdigit())\n",
    "print(str1.isnumeric())"
   ]
  },
  {
   "cell_type": "code",
   "execution_count": 30,
   "id": "8a4b4ff9",
   "metadata": {},
   "outputs": [
    {
     "name": "stdout",
     "output_type": "stream",
     "text": [
      "False\n"
     ]
    }
   ],
   "source": [
    "str1=\"rthrth₹hrhr\"\n",
    "print(str1.isascii())"
   ]
  },
  {
   "cell_type": "code",
   "execution_count": 33,
   "id": "60c770e9",
   "metadata": {},
   "outputs": [
    {
     "name": "stdout",
     "output_type": "stream",
     "text": [
      "False\n"
     ]
    }
   ],
   "source": [
    "str1=\"rfwgGERGR$%^&4fwrgfw ever\"\n",
    "print(str1.islower())"
   ]
  },
  {
   "cell_type": "code",
   "execution_count": 41,
   "id": "776503d2",
   "metadata": {},
   "outputs": [
    {
     "name": "stdout",
     "output_type": "stream",
     "text": [
      "True\n",
      "gerg $yrthyt   #^#^tjerlit\n"
     ]
    }
   ],
   "source": [
    "str1=\"gerg $yrthyt   #^#^tjerlit\"\n",
    "print(str1.isprintable())\n",
    "print(str1)"
   ]
  },
  {
   "cell_type": "code",
   "execution_count": 45,
   "id": "86bd96e4",
   "metadata": {},
   "outputs": [
    {
     "name": "stdout",
     "output_type": "stream",
     "text": [
      "False\n"
     ]
    }
   ],
   "source": [
    "str1=\"         \"\n",
    "print(str1.isspace())"
   ]
  },
  {
   "cell_type": "code",
   "execution_count": 47,
   "id": "0b839c20",
   "metadata": {},
   "outputs": [
    {
     "name": "stdout",
     "output_type": "stream",
     "text": [
      "True\n"
     ]
    }
   ],
   "source": [
    "str1=\"Erg Fetgert Ttrt Wrtbrt\"\n",
    "print(str1.istitle())"
   ]
  },
  {
   "cell_type": "code",
   "execution_count": 49,
   "id": "ccf051af",
   "metadata": {},
   "outputs": [
    {
     "name": "stdout",
     "output_type": "stream",
     "text": [
      "*\n",
      "e*k*r*g*j\n"
     ]
    }
   ],
   "source": [
    "string.join(iterable)\n",
    "str1=\"ekrgj\"\n",
    "print(str1.join(\"*\"))\n",
    "print(\"*\".join(str1))\n",
    "\n",
    "[1,2,3,4,5]"
   ]
  },
  {
   "cell_type": "code",
   "execution_count": 55,
   "id": "fd9a3590",
   "metadata": {},
   "outputs": [
    {
     "name": "stdout",
     "output_type": "stream",
     "text": [
      "h--e--l--l--o\n",
      "ergter--rtergt--eryterty\n"
     ]
    }
   ],
   "source": [
    "list1=[\"ergter\",\"rtergt\",\"eryterty\"]\n",
    "str2=\"hello\"\n",
    "print(\"--\".join(str2))\n",
    "print(\"--\".join(list1))"
   ]
  },
  {
   "cell_type": "code",
   "execution_count": 58,
   "id": "1527269b",
   "metadata": {},
   "outputs": [
    {
     "name": "stdout",
     "output_type": "stream",
     "text": [
      "ergerg      \n",
      "     ergerg\n",
      "ergerg\n"
     ]
    }
   ],
   "source": [
    "str1=\"     ergerg      \"\n",
    "print(str1.lstrip())\n",
    "print(str1.rstrip())\n",
    "print(str1.strip())"
   ]
  },
  {
   "cell_type": "code",
   "execution_count": 61,
   "id": "852e7bd9",
   "metadata": {},
   "outputs": [
    {
     "name": "stdout",
     "output_type": "stream",
     "text": [
      "['ergerg   hgberthrte grbrthrt', 'wrtfwertr ', 'wetwt']\n",
      "['ertyrrtyrtyrtyrtyrty', 'rty  grthrthtr thrth', 'rtyrt vthrthg rhrtjy', 'yrt rthrtb rhytkiiylyjhrt']\n"
     ]
    }
   ],
   "source": [
    "str1=\"ergerg   hgberthrte grbrthrt\\nwrtfwertr \\nwetwt\"\n",
    "str2=\"\"\"ertyrrtyrtyrtyrtyrty\n",
    "rty  grthrthtr thrth\n",
    "rtyrt vthrthg rhrtjy\n",
    "yrt rthrtb rhytkiiylyjhrt\n",
    "\"\"\"\n",
    "print(str1.splitlines())\n",
    "print(str2.splitlines())"
   ]
  },
  {
   "cell_type": "code",
   "execution_count": null,
   "id": "40d64884",
   "metadata": {},
   "outputs": [],
   "source": [
    "str1=\"egveer\"\n",
    "print(str1.swapcase())\n",
    "print(str1.)"
   ]
  },
  {
   "cell_type": "code",
   "execution_count": 65,
   "id": "d3f5bf1a",
   "metadata": {},
   "outputs": [
    {
     "name": "stdout",
     "output_type": "stream",
     "text": [
      "00589.5986\n"
     ]
    }
   ],
   "source": [
    "str1=\"589.5986\"\n",
    "print(str1.zfill(10))"
   ]
  },
  {
   "cell_type": "code",
   "execution_count": 70,
   "id": "ae7502cf",
   "metadata": {},
   "outputs": [
    {
     "name": "stdout",
     "output_type": "stream",
     "text": [
      "YfC Ypple fanana\n"
     ]
    }
   ],
   "source": [
    "str1=\"ABC Apple Banana\"\n",
    "x={65:89,66:102}\n",
    "print(str1.translate(x))"
   ]
  },
  {
   "cell_type": "code",
   "execution_count": null,
   "id": "8d0ec9c6",
   "metadata": {},
   "outputs": [],
   "source": [
    "hello world\n",
    "ehllo owrld"
   ]
  }
 ],
 "metadata": {
  "kernelspec": {
   "display_name": "Python 3 (ipykernel)",
   "language": "python",
   "name": "python3"
  },
  "language_info": {
   "codemirror_mode": {
    "name": "ipython",
    "version": 3
   },
   "file_extension": ".py",
   "mimetype": "text/x-python",
   "name": "python",
   "nbconvert_exporter": "python",
   "pygments_lexer": "ipython3",
   "version": "3.9.12"
  }
 },
 "nbformat": 4,
 "nbformat_minor": 5
}
