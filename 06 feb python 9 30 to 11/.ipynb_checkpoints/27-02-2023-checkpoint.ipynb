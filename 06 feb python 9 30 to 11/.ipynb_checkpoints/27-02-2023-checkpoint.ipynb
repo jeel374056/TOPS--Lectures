{
 "cells": [
  {
   "cell_type": "code",
   "execution_count": 10,
   "id": "1ecac2aa",
   "metadata": {},
   "outputs": [
    {
     "name": "stdout",
     "output_type": "stream",
     "text": [
      "Enter Your Email: sugandgupta.tops@gmail.com\n",
      "16\n",
      "Valid email\n"
     ]
    }
   ],
   "source": [
    "# gmail validation\n",
    "email=input(\"Enter Your Email: \")\n",
    "email=email.lower()\n",
    "ind=email.index('@')\n",
    "print(ind)\n",
    "if(email.endswith(\".com\")):\n",
    "    if '@' in email:\n",
    "        if (email[:ind].isalnum() or ('.' in email[:ind])):\n",
    "            print(\"Valid email\")\n",
    "        else:\n",
    "            print(\"Invalid email check your characters\")\n",
    "    else:\n",
    "        print(\"@ not in email invalid email\")\n",
    "else:\n",
    "    print(\"Not end with .com invalid email\")"
   ]
  },
  {
   "cell_type": "code",
   "execution_count": null,
   "id": "f195eadc",
   "metadata": {},
   "outputs": [],
   "source": [
    "# Tuple\n",
    "# tuple is in ()\n",
    "# tuple also allowed duplicates\n",
    "# tuple is immutable\n",
    "# tuple is ordered collection bcz it has index positioning\n"
   ]
  },
  {
   "cell_type": "code",
   "execution_count": 22,
   "id": "6072a8af",
   "metadata": {},
   "outputs": [
    {
     "name": "stdout",
     "output_type": "stream",
     "text": [
      "(45, 89.36, True, 'Hello', [14, 25, 36], (25, 36), {58, 29}, {1: 'hello', 2: 'World'})\n"
     ]
    },
    {
     "ename": "TypeError",
     "evalue": "'tuple' object does not support item assignment",
     "output_type": "error",
     "traceback": [
      "\u001b[1;31m---------------------------------------------------------------------------\u001b[0m",
      "\u001b[1;31mTypeError\u001b[0m                                 Traceback (most recent call last)",
      "Input \u001b[1;32mIn [22]\u001b[0m, in \u001b[0;36m<cell line: 3>\u001b[1;34m()\u001b[0m\n\u001b[0;32m      1\u001b[0m tup1\u001b[38;5;241m=\u001b[39m(\u001b[38;5;241m45\u001b[39m,\u001b[38;5;241m89.36\u001b[39m,\u001b[38;5;28;01mTrue\u001b[39;00m,\u001b[38;5;124m\"\u001b[39m\u001b[38;5;124mHello\u001b[39m\u001b[38;5;124m\"\u001b[39m,[\u001b[38;5;241m14\u001b[39m,\u001b[38;5;241m25\u001b[39m,\u001b[38;5;241m36\u001b[39m],(\u001b[38;5;241m25\u001b[39m,\u001b[38;5;241m36\u001b[39m),{\u001b[38;5;241m29\u001b[39m,\u001b[38;5;241m58\u001b[39m},{\u001b[38;5;241m1\u001b[39m:\u001b[38;5;124m\"\u001b[39m\u001b[38;5;124mhello\u001b[39m\u001b[38;5;124m\"\u001b[39m,\u001b[38;5;241m2\u001b[39m:\u001b[38;5;124m\"\u001b[39m\u001b[38;5;124mWorld\u001b[39m\u001b[38;5;124m\"\u001b[39m})\n\u001b[0;32m      2\u001b[0m \u001b[38;5;28mprint\u001b[39m(tup1)\n\u001b[1;32m----> 3\u001b[0m tup1[\u001b[38;5;241m0\u001b[39m]\u001b[38;5;241m=\u001b[39m\u001b[38;5;124m\"\u001b[39m\u001b[38;5;124mwow\u001b[39m\u001b[38;5;124m\"\u001b[39m\n\u001b[0;32m      4\u001b[0m tup1[\u001b[38;5;241m4\u001b[39m][\u001b[38;5;241m0\u001b[39m]\u001b[38;5;241m=\u001b[39m\u001b[38;5;124m\"\u001b[39m\u001b[38;5;124mgreat\u001b[39m\u001b[38;5;124m\"\u001b[39m\n\u001b[0;32m      5\u001b[0m \u001b[38;5;28mprint\u001b[39m(tup1)\n",
      "\u001b[1;31mTypeError\u001b[0m: 'tuple' object does not support item assignment"
     ]
    }
   ],
   "source": [
    "tup1=(45,89.36,True,\"Hello\",[14,25,36],(25,36),{29,58},{1:\"hello\",2:\"World\"})\n",
    "print(tup1)\n",
    "tup1[0]=\"wow\"\n",
    "tup1[4][0]=\"great\"\n",
    "print(tup1)"
   ]
  },
  {
   "cell_type": "code",
   "execution_count": null,
   "id": "9d6ba708",
   "metadata": {},
   "outputs": [],
   "source": [
    "# tuple functions\n",
    "# min\n",
    "# max\n",
    "# len\n",
    "# tuple"
   ]
  },
  {
   "cell_type": "code",
   "execution_count": 18,
   "id": "724ec256",
   "metadata": {},
   "outputs": [
    {
     "name": "stdout",
     "output_type": "stream",
     "text": [
      "45\n",
      "89\n"
     ]
    },
    {
     "ename": "TypeError",
     "evalue": "'<' not supported between instances of 'str' and 'int'",
     "output_type": "error",
     "traceback": [
      "\u001b[1;31m---------------------------------------------------------------------------\u001b[0m",
      "\u001b[1;31mTypeError\u001b[0m                                 Traceback (most recent call last)",
      "Input \u001b[1;32mIn [18]\u001b[0m, in \u001b[0;36m<cell line: 5>\u001b[1;34m()\u001b[0m\n\u001b[0;32m      3\u001b[0m \u001b[38;5;28mprint\u001b[39m(\u001b[38;5;28mmax\u001b[39m(tup1))\n\u001b[0;32m      4\u001b[0m tup2\u001b[38;5;241m=\u001b[39m(\u001b[38;5;241m45\u001b[39m,\u001b[38;5;241m89\u001b[39m,\u001b[38;5;241m65\u001b[39m,\u001b[38;5;124m\"\u001b[39m\u001b[38;5;124mhello\u001b[39m\u001b[38;5;124m\"\u001b[39m,\u001b[38;5;241m45\u001b[39m,\u001b[38;5;241m89\u001b[39m)\n\u001b[1;32m----> 5\u001b[0m \u001b[38;5;28mprint\u001b[39m(\u001b[38;5;28;43mmin\u001b[39;49m\u001b[43m(\u001b[49m\u001b[43mtup2\u001b[49m\u001b[43m)\u001b[49m)\n",
      "\u001b[1;31mTypeError\u001b[0m: '<' not supported between instances of 'str' and 'int'"
     ]
    }
   ],
   "source": [
    "tup1=(45,89,65,48,45,89)\n",
    "print(min(tup1))\n",
    "print(max(tup1))\n",
    "tup2=(45,89,65,\"hello\",45,89)\n",
    "print(min(tup2))"
   ]
  },
  {
   "cell_type": "code",
   "execution_count": 20,
   "id": "3338811d",
   "metadata": {},
   "outputs": [
    {
     "name": "stdout",
     "output_type": "stream",
     "text": [
      "2\n",
      "0\n"
     ]
    }
   ],
   "source": [
    "# count\n",
    "tup1=(45,69,87,45,63,21,54,58,98,65,41,23,25)\n",
    "print(tup1.count(45))\n",
    "print(tup1.count(896))\n"
   ]
  },
  {
   "cell_type": "code",
   "execution_count": 21,
   "id": "05acff68",
   "metadata": {},
   "outputs": [
    {
     "name": "stdout",
     "output_type": "stream",
     "text": [
      "0\n"
     ]
    },
    {
     "ename": "ValueError",
     "evalue": "tuple.index(x): x not in tuple",
     "output_type": "error",
     "traceback": [
      "\u001b[1;31m---------------------------------------------------------------------------\u001b[0m",
      "\u001b[1;31mValueError\u001b[0m                                Traceback (most recent call last)",
      "Input \u001b[1;32mIn [21]\u001b[0m, in \u001b[0;36m<cell line: 4>\u001b[1;34m()\u001b[0m\n\u001b[0;32m      2\u001b[0m tup1\u001b[38;5;241m=\u001b[39m(\u001b[38;5;241m45\u001b[39m,\u001b[38;5;241m69\u001b[39m,\u001b[38;5;241m87\u001b[39m,\u001b[38;5;241m45\u001b[39m,\u001b[38;5;241m63\u001b[39m,\u001b[38;5;241m21\u001b[39m,\u001b[38;5;241m54\u001b[39m,\u001b[38;5;241m58\u001b[39m,\u001b[38;5;241m98\u001b[39m,\u001b[38;5;241m65\u001b[39m,\u001b[38;5;241m41\u001b[39m,\u001b[38;5;241m23\u001b[39m,\u001b[38;5;241m25\u001b[39m)\n\u001b[0;32m      3\u001b[0m \u001b[38;5;28mprint\u001b[39m(tup1\u001b[38;5;241m.\u001b[39mindex(\u001b[38;5;241m45\u001b[39m))\n\u001b[1;32m----> 4\u001b[0m \u001b[38;5;28mprint\u001b[39m(\u001b[43mtup1\u001b[49m\u001b[38;5;241;43m.\u001b[39;49m\u001b[43mindex\u001b[49m\u001b[43m(\u001b[49m\u001b[38;5;241;43m896\u001b[39;49m\u001b[43m)\u001b[49m)\n",
      "\u001b[1;31mValueError\u001b[0m: tuple.index(x): x not in tuple"
     ]
    }
   ],
   "source": [
    "# index\n",
    "tup1=(45,69,87,45,63,21,54,58,98,65,41,23,25)\n",
    "print(tup1.index(45))\n",
    "print(tup1.index(896))"
   ]
  },
  {
   "cell_type": "code",
   "execution_count": 31,
   "id": "cea014a9",
   "metadata": {},
   "outputs": [
    {
     "name": "stdout",
     "output_type": "stream",
     "text": [
      "<class 'list'>\n",
      "<class 'tuple'>\n",
      "<class 'set'>\n"
     ]
    }
   ],
   "source": [
    "list1=[58]\n",
    "print(type(list1))\n",
    "tuple1=(58,)\n",
    "print(type(tuple1))\n",
    "set1=set()\n",
    "print(type(set1))"
   ]
  },
  {
   "cell_type": "code",
   "execution_count": null,
   "id": "6ca7bc1e",
   "metadata": {},
   "outputs": [],
   "source": [
    "# SET\n",
    "# set is murtable\n",
    "# set is defined in {}\n",
    "# set is unordered datatype\n",
    "# set doesn't have indexes\n",
    "# set not allows duplicates"
   ]
  },
  {
   "cell_type": "code",
   "execution_count": 32,
   "id": "6abbf7b8",
   "metadata": {},
   "outputs": [
    {
     "name": "stdout",
     "output_type": "stream",
     "text": [
      "{1, 84, 5, 6, 8, 9}\n"
     ]
    }
   ],
   "source": [
    "set1={1,5,8,9,6,5,84}\n",
    "print(set1)"
   ]
  },
  {
   "cell_type": "code",
   "execution_count": 39,
   "id": "cd5e1cf9",
   "metadata": {},
   "outputs": [
    {
     "name": "stdout",
     "output_type": "stream",
     "text": [
      "6\n",
      "1\n",
      "84\n",
      "{1, 6, 11, 16, 21}\n"
     ]
    }
   ],
   "source": [
    "# set functions\n",
    "set1={1,5,8,9,6,5,84}\n",
    "print(len(set1))\n",
    "print(min(set1))\n",
    "print(max(set1))\n",
    "\n",
    "list1=range(1,25,5)\n",
    "print(set(list1))"
   ]
  },
  {
   "cell_type": "code",
   "execution_count": 47,
   "id": "7063469e",
   "metadata": {},
   "outputs": [
    {
     "name": "stdout",
     "output_type": "stream",
     "text": [
      "{96, 65, 414, 87, 89, 45, 78}\n",
      "{96, 65, 414, 87, 89, 45, 78}\n"
     ]
    },
    {
     "ename": "KeyError",
     "evalue": "896",
     "output_type": "error",
     "traceback": [
      "\u001b[1;31m---------------------------------------------------------------------------\u001b[0m",
      "\u001b[1;31mKeyError\u001b[0m                                  Traceback (most recent call last)",
      "Input \u001b[1;32mIn [47]\u001b[0m, in \u001b[0;36m<cell line: 10>\u001b[1;34m()\u001b[0m\n\u001b[0;32m      8\u001b[0m \u001b[38;5;28mprint\u001b[39m(set1)\n\u001b[0;32m      9\u001b[0m set1\u001b[38;5;241m.\u001b[39mremove(\u001b[38;5;241m87\u001b[39m)\u001b[38;5;66;03m#remove element from set\u001b[39;00m\n\u001b[1;32m---> 10\u001b[0m \u001b[43mset1\u001b[49m\u001b[38;5;241;43m.\u001b[39;49m\u001b[43mremove\u001b[49m\u001b[43m(\u001b[49m\u001b[38;5;241;43m896\u001b[39;49m\u001b[43m)\u001b[49m \u001b[38;5;66;03m#if element is not in set then it gives key error\u001b[39;00m\n\u001b[0;32m     11\u001b[0m \u001b[38;5;28mprint\u001b[39m(set1)\n",
      "\u001b[1;31mKeyError\u001b[0m: 896"
     ]
    }
   ],
   "source": [
    "# set methods\n",
    "set1={45,89,65,87,89,65,78,96}\n",
    "# dir(set1)\n",
    "set1.add(414) #add elemenst at random position\n",
    "print(set1)\n",
    "set1.discard(875) #remove element from set but if not prsent then nothing \n",
    "# is remove neither it gives error\n",
    "print(set1)\n",
    "set1.remove(87)#remove element from set\n",
    "set1.remove(896) #if element is not in set then it gives key error\n",
    "print(set1)"
   ]
  },
  {
   "cell_type": "code",
   "execution_count": null,
   "id": "0f49a7dc",
   "metadata": {},
   "outputs": [],
   "source": []
  }
 ],
 "metadata": {
  "kernelspec": {
   "display_name": "Python 3 (ipykernel)",
   "language": "python",
   "name": "python3"
  },
  "language_info": {
   "codemirror_mode": {
    "name": "ipython",
    "version": 3
   },
   "file_extension": ".py",
   "mimetype": "text/x-python",
   "name": "python",
   "nbconvert_exporter": "python",
   "pygments_lexer": "ipython3",
   "version": "3.9.12"
  }
 },
 "nbformat": 4,
 "nbformat_minor": 5
}
