{
 "cells": [
  {
   "cell_type": "markdown",
   "id": "c6d23991",
   "metadata": {},
   "source": [
    "# string methods and function"
   ]
  },
  {
   "cell_type": "code",
   "execution_count": 1,
   "id": "abc7126c",
   "metadata": {},
   "outputs": [
    {
     "data": {
      "text/plain": [
       "['__add__',\n",
       " '__class__',\n",
       " '__contains__',\n",
       " '__delattr__',\n",
       " '__dir__',\n",
       " '__doc__',\n",
       " '__eq__',\n",
       " '__format__',\n",
       " '__ge__',\n",
       " '__getattribute__',\n",
       " '__getitem__',\n",
       " '__getnewargs__',\n",
       " '__gt__',\n",
       " '__hash__',\n",
       " '__init__',\n",
       " '__init_subclass__',\n",
       " '__iter__',\n",
       " '__le__',\n",
       " '__len__',\n",
       " '__lt__',\n",
       " '__mod__',\n",
       " '__mul__',\n",
       " '__ne__',\n",
       " '__new__',\n",
       " '__reduce__',\n",
       " '__reduce_ex__',\n",
       " '__repr__',\n",
       " '__rmod__',\n",
       " '__rmul__',\n",
       " '__setattr__',\n",
       " '__sizeof__',\n",
       " '__str__',\n",
       " '__subclasshook__',\n",
       " 'capitalize',\n",
       " 'casefold',\n",
       " 'center',\n",
       " 'count',\n",
       " 'encode',\n",
       " 'endswith',\n",
       " 'expandtabs',\n",
       " 'find',\n",
       " 'format',\n",
       " 'format_map',\n",
       " 'index',\n",
       " 'isalnum',\n",
       " 'isalpha',\n",
       " 'isascii',\n",
       " 'isdecimal',\n",
       " 'isdigit',\n",
       " 'isidentifier',\n",
       " 'islower',\n",
       " 'isnumeric',\n",
       " 'isprintable',\n",
       " 'isspace',\n",
       " 'istitle',\n",
       " 'isupper',\n",
       " 'join',\n",
       " 'ljust',\n",
       " 'lower',\n",
       " 'lstrip',\n",
       " 'maketrans',\n",
       " 'partition',\n",
       " 'removeprefix',\n",
       " 'removesuffix',\n",
       " 'replace',\n",
       " 'rfind',\n",
       " 'rindex',\n",
       " 'rjust',\n",
       " 'rpartition',\n",
       " 'rsplit',\n",
       " 'rstrip',\n",
       " 'split',\n",
       " 'splitlines',\n",
       " 'startswith',\n",
       " 'strip',\n",
       " 'swapcase',\n",
       " 'title',\n",
       " 'translate',\n",
       " 'upper',\n",
       " 'zfill']"
      ]
     },
     "execution_count": 1,
     "metadata": {},
     "output_type": "execute_result"
    }
   ],
   "source": [
    "dir(\"fef\")"
   ]
  },
  {
   "cell_type": "code",
   "execution_count": 2,
   "id": "7b4800f6",
   "metadata": {},
   "outputs": [
    {
     "name": "stdout",
     "output_type": "stream",
     "text": [
      "Hello jkhfeujn jkvernjn jkzvbnjkrfn jkvgrjn\n"
     ]
    }
   ],
   "source": [
    "# Capitaliza method capitalize the first letter of the string and\n",
    "# lowercase the remaining letters\n",
    "str1=\"hello JKHFEujn jkvernjn JKZVbnjkrfn JKVgrjn\"\n",
    "print(str1.capitalize())"
   ]
  },
  {
   "cell_type": "code",
   "execution_count": 3,
   "id": "94f36d6e",
   "metadata": {},
   "outputs": [
    {
     "name": "stdout",
     "output_type": "stream",
     "text": [
      "Hello Jkhfeujn Jkvernjn Jkzvbnjkrfn Jkvgrjn\n"
     ]
    }
   ],
   "source": [
    "# title()---it will capitaize the first letter of every word and lowercase \n",
    "# the remaining lteer in words\n",
    "str1=\"hello JKHFEujn jkvernjn JKZVbnjkrfn JKVgrjn\"\n",
    "print(str1.title())"
   ]
  },
  {
   "cell_type": "code",
   "execution_count": 57,
   "id": "49984ac0",
   "metadata": {},
   "outputs": [
    {
     "name": "stdout",
     "output_type": "stream",
     "text": [
      "hello jkhfeujn jkverjergtjkghenjn  ss\n"
     ]
    }
   ],
   "source": [
    "# casefold---coverst whole string in lowercase\n",
    "str1=\"hello JKHFEujn jkverJERGTJKGHEnjn  ß\"\n",
    "print(str1.casefold())"
   ]
  },
  {
   "cell_type": "code",
   "execution_count": 58,
   "id": "f57390e8",
   "metadata": {},
   "outputs": [
    {
     "name": "stdout",
     "output_type": "stream",
     "text": [
      "hello jkhfeujn jkverjergtjkgh ß\n"
     ]
    }
   ],
   "source": [
    "# lower---coverst whole string in lowercase\n",
    "str1=\"hello JKHFEujn jkverJERGTJKGH ß\"\n",
    "print(str1.lower())"
   ]
  },
  {
   "cell_type": "code",
   "execution_count": 10,
   "id": "44a25b1a",
   "metadata": {},
   "outputs": [
    {
     "name": "stdout",
     "output_type": "stream",
     "text": [
      "                      hello                       \n",
      "----------------------hello-----------------------\n"
     ]
    }
   ],
   "source": [
    "# center(width,[fillchar])\n",
    "str1=\"hello\"\n",
    "print(str1.center(50))\n",
    "print(str1.center(50,\"-\"))"
   ]
  },
  {
   "cell_type": "code",
   "execution_count": 28,
   "id": "847a927a",
   "metadata": {},
   "outputs": [
    {
     "name": "stdout",
     "output_type": "stream",
     "text": [
      "         *          \n",
      "        * *         \n",
      "       * * *        \n",
      "      * * * *       \n",
      "     * * * * *      \n",
      "    * * * * * *     \n",
      "   * * * * * * *    \n",
      "  * * * * * * * *   \n",
      " * * * * * * * * *  \n"
     ]
    }
   ],
   "source": [
    "for i in range(1,10):\n",
    "    str1=i*\"* \"\n",
    "    print(str1.center(20))"
   ]
  },
  {
   "cell_type": "code",
   "execution_count": 35,
   "id": "28b2c9cf",
   "metadata": {},
   "outputs": [
    {
     "name": "stdout",
     "output_type": "stream",
     "text": [
      "0\n",
      "4\n",
      "3\n",
      "1\n"
     ]
    }
   ],
   "source": [
    "# count(\"substring\",[start],[stop])\n",
    "str1=\"Hello kite is kflying in the ksky\"\n",
    "print(str1.count(\"Great\"))\n",
    "print(str1.count(\"k\"))\n",
    "print(str1.count(\"k\",10))\n",
    "print(str1.count(\"k\",10,20))"
   ]
  },
  {
   "cell_type": "code",
   "execution_count": 41,
   "id": "e05e6858",
   "metadata": {},
   "outputs": [
    {
     "name": "stdout",
     "output_type": "stream",
     "text": [
      "True\n",
      "True\n",
      "False\n"
     ]
    }
   ],
   "source": [
    "# endswith(\"substring\",[start],[stop])\n",
    "str1=\"Hello kite is kflying in the ksky\"\n",
    "print(str1.endswith(\"sky\"))\n",
    "print(str1.endswith(\"sky\",5))\n",
    "print(str1.endswith(\"sky\",5,20))"
   ]
  },
  {
   "cell_type": "code",
   "execution_count": 47,
   "id": "a186043d",
   "metadata": {},
   "outputs": [
    {
     "name": "stdout",
     "output_type": "stream",
     "text": [
      "6\n",
      "39\n",
      "-1\n",
      "-1\n"
     ]
    }
   ],
   "source": [
    "# find(\"substring\",[start],[stop])\n",
    "str1=\"Hello sky kite is kflying kite in the ksky\"\n",
    "print(str1.find(\"sky\"))\n",
    "print(str1.find(\"sky\",16))\n",
    "print(str1.find(\"sky\",16,30))\n",
    "print(str1.find(\"Yellow\"))\n",
    "# if find method doesnt get substring then it gives -1"
   ]
  },
  {
   "cell_type": "code",
   "execution_count": 50,
   "id": "6fae8fb7",
   "metadata": {},
   "outputs": [
    {
     "name": "stdout",
     "output_type": "stream",
     "text": [
      "6\n",
      "39\n",
      "39\n"
     ]
    },
    {
     "ename": "ValueError",
     "evalue": "substring not found",
     "output_type": "error",
     "traceback": [
      "\u001b[1;31m---------------------------------------------------------------------------\u001b[0m",
      "\u001b[1;31mValueError\u001b[0m                                Traceback (most recent call last)",
      "Input \u001b[1;32mIn [50]\u001b[0m, in \u001b[0;36m<cell line: 6>\u001b[1;34m()\u001b[0m\n\u001b[0;32m      4\u001b[0m \u001b[38;5;28mprint\u001b[39m(str1\u001b[38;5;241m.\u001b[39mindex(\u001b[38;5;124m\"\u001b[39m\u001b[38;5;124msky\u001b[39m\u001b[38;5;124m\"\u001b[39m,\u001b[38;5;241m16\u001b[39m))\n\u001b[0;32m      5\u001b[0m \u001b[38;5;28mprint\u001b[39m(str1\u001b[38;5;241m.\u001b[39mindex(\u001b[38;5;124m\"\u001b[39m\u001b[38;5;124msky\u001b[39m\u001b[38;5;124m\"\u001b[39m,\u001b[38;5;241m16\u001b[39m,\u001b[38;5;241m45\u001b[39m))\n\u001b[1;32m----> 6\u001b[0m \u001b[38;5;28mprint\u001b[39m(\u001b[43mstr1\u001b[49m\u001b[38;5;241;43m.\u001b[39;49m\u001b[43mindex\u001b[49m\u001b[43m(\u001b[49m\u001b[38;5;124;43m\"\u001b[39;49m\u001b[38;5;124;43mYellow\u001b[39;49m\u001b[38;5;124;43m\"\u001b[39;49m\u001b[43m)\u001b[49m)\n",
      "\u001b[1;31mValueError\u001b[0m: substring not found"
     ]
    }
   ],
   "source": [
    "# index(\"substring\",[start],[stop])\n",
    "str1=\"Hello sky kite is kflying kite in the ksky\"\n",
    "print(str1.index(\"sky\"))\n",
    "print(str1.index(\"sky\",16))\n",
    "print(str1.index(\"sky\",16,45))\n",
    "print(str1.index(\"Yellow\"))"
   ]
  },
  {
   "cell_type": "code",
   "execution_count": 60,
   "id": "a0af89bb",
   "metadata": {},
   "outputs": [
    {
     "name": "stdout",
     "output_type": "stream",
     "text": [
      "Hello                                             \n",
      "Hello---------------------------------------------\n"
     ]
    }
   ],
   "source": [
    "# it justify conetnt in left with given width\n",
    "str1=\"Hello\"\n",
    "print(str1.ljust(50))\n",
    "print(str1.ljust(50,\"-\"))"
   ]
  },
  {
   "cell_type": "code",
   "execution_count": 61,
   "id": "7ff12d49",
   "metadata": {},
   "outputs": [
    {
     "name": "stdout",
     "output_type": "stream",
     "text": [
      "                                             Hello\n",
      "---------------------------------------------Hello\n"
     ]
    }
   ],
   "source": [
    "# it justify conetnt in right with given width\n",
    "str1=\"Hello\"\n",
    "print(str1.rjust(50))\n",
    "print(str1.rjust(50,\"-\"))"
   ]
  },
  {
   "cell_type": "code",
   "execution_count": 63,
   "id": "055ddde1",
   "metadata": {},
   "outputs": [
    {
     "name": "stdout",
     "output_type": "stream",
     "text": [
      "fdughjk rjhbrtkn jkrtbhgrtkj gjkbhrtjb jgfn brtjkbfdn jkr  \n"
     ]
    }
   ],
   "source": [
    "str1=\"fdughjk rjhbrtkn jkrtbhgrtkj gjkbhrtjb jgfn brtjkbfdn jkr  \"\n",
    "print(str1.center(20,\"-\"))"
   ]
  },
  {
   "cell_type": "code",
   "execution_count": 67,
   "id": "62966069",
   "metadata": {},
   "outputs": [
    {
     "name": "stdout",
     "output_type": "stream",
     "text": [
      "('Hello sky ', 'kite', ' is kflying kite in the ksky')\n",
      "('Hello sky kite is kflying kite in the ksky', '', '')\n"
     ]
    }
   ],
   "source": [
    "# parrtition(separator)\n",
    "# partition returns tuple of string having three 3 strings exact\n",
    "str1=\"Hello sky kite is kflying kite in the ksky\"\n",
    "print(str1.partition(\"kite\"))\n",
    "print(str1.partition(\"Mango\"))"
   ]
  },
  {
   "cell_type": "code",
   "execution_count": 72,
   "id": "4c216f90",
   "metadata": {},
   "outputs": [
    {
     "name": "stdout",
     "output_type": "stream",
     "text": [
      "['Hello', 'sky', 'kite', 'is', 'kflying', 'kite', 'in', 'the', 'ksky']\n",
      "['Hello sky ', ' is kflying ', ' in the ksky']\n",
      "['Hello sky kite is kflying kite in the ksky']\n"
     ]
    }
   ],
   "source": [
    "# split return list of strings with splitted items of n numbers\n",
    "str1=\"Hello sky kite is kflying kite in the ksky\"\n",
    "print(str1.split(\" \"))\n",
    "print(str1.split(\"kite\"))\n",
    "print(str1.split(\"Mango\"))"
   ]
  },
  {
   "cell_type": "code",
   "execution_count": 74,
   "id": "fcc8cc77",
   "metadata": {},
   "outputs": [],
   "source": [
    "a=80\n",
    "b=65\n",
    "# a=80,b=65\n",
    "a,b=80,65"
   ]
  }
 ],
 "metadata": {
  "kernelspec": {
   "display_name": "Python 3 (ipykernel)",
   "language": "python",
   "name": "python3"
  },
  "language_info": {
   "codemirror_mode": {
    "name": "ipython",
    "version": 3
   },
   "file_extension": ".py",
   "mimetype": "text/x-python",
   "name": "python",
   "nbconvert_exporter": "python",
   "pygments_lexer": "ipython3",
   "version": "3.9.12"
  }
 },
 "nbformat": 4,
 "nbformat_minor": 5
}
