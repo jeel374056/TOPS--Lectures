{
 "cells": [
  {
   "cell_type": "code",
   "execution_count": 1,
   "id": "c88e33b9",
   "metadata": {},
   "outputs": [
    {
     "name": "stdout",
     "output_type": "stream",
     "text": [
      "jufiujh ehrvbh\n"
     ]
    }
   ],
   "source": [
    "print(\"jufiujh ehrvbh\")"
   ]
  },
  {
   "cell_type": "code",
   "execution_count": 4,
   "id": "7716cce9",
   "metadata": {},
   "outputs": [
    {
     "name": "stdout",
     "output_type": "stream",
     "text": [
      "ergr egge\t3rg34g\n",
      " erg\b\bf\n"
     ]
    }
   ],
   "source": [
    "print(\"ergr egge\\t3rg34g\\n erg\\b\\bf\")"
   ]
  },
  {
   "cell_type": "code",
   "execution_count": null,
   "id": "43854431",
   "metadata": {},
   "outputs": [],
   "source": [
    "varaiblename = value\n",
    "# loosely type language\n",
    "# typeless langugae\n"
   ]
  },
  {
   "cell_type": "code",
   "execution_count": null,
   "id": "5fb321d4",
   "metadata": {},
   "outputs": [],
   "source": [
    "# datatype\n",
    "int --- 8 4 5 9 75 - 555 -866 -8945 \n",
    "float ---78.25 98 36-98 0.25 -89 -89.36\n",
    "string ---\"egerger\"  'ergfergerg'  \"\"\"erergergr\"\"\"  '''ergergeg'''\n",
    "boolean ---True False\n",
    "\n",
    "list =[]\n",
    "tuple =()\n",
    "set={}\n",
    "dictionary={key:value}"
   ]
  },
  {
   "cell_type": "code",
   "execution_count": 18,
   "id": "cb27c5f2",
   "metadata": {},
   "outputs": [
    {
     "name": "stdout",
     "output_type": "stream",
     "text": [
      "58\n",
      "<class 'int'>\n",
      "3021858885776\n",
      "3021945125872\n"
     ]
    }
   ],
   "source": [
    "a=58\n",
    "b=\"wergtt\"\n",
    "print(a)\n",
    "# type(variablename)\n",
    "print(type(a))\n",
    "print(id(a))\n",
    "print(id(b))"
   ]
  },
  {
   "cell_type": "code",
   "execution_count": null,
   "id": "9dbeec8c",
   "metadata": {},
   "outputs": [],
   "source": [
    "variable=input(\"Message\")"
   ]
  },
  {
   "cell_type": "code",
   "execution_count": 30,
   "id": "82447d57",
   "metadata": {},
   "outputs": [
    {
     "name": "stdout",
     "output_type": "stream",
     "text": [
      "Enter Somethingdgetrg\n"
     ]
    },
    {
     "ename": "ValueError",
     "evalue": "invalid literal for int() with base 10: 'dgetrg'",
     "output_type": "error",
     "traceback": [
      "\u001b[1;31m---------------------------------------------------------------------------\u001b[0m",
      "\u001b[1;31mValueError\u001b[0m                                Traceback (most recent call last)",
      "Input \u001b[1;32mIn [30]\u001b[0m, in \u001b[0;36m<cell line: 1>\u001b[1;34m()\u001b[0m\n\u001b[1;32m----> 1\u001b[0m a\u001b[38;5;241m=\u001b[39m\u001b[38;5;28;43mint\u001b[39;49m\u001b[43m(\u001b[49m\u001b[38;5;28;43minput\u001b[39;49m\u001b[43m(\u001b[49m\u001b[38;5;124;43m\"\u001b[39;49m\u001b[38;5;124;43mEnter Something\u001b[39;49m\u001b[38;5;124;43m\"\u001b[39;49m\u001b[43m)\u001b[49m\u001b[43m)\u001b[49m\n\u001b[0;32m      2\u001b[0m \u001b[38;5;28mprint\u001b[39m(a)\n\u001b[0;32m      3\u001b[0m \u001b[38;5;28mprint\u001b[39m(\u001b[38;5;28mtype\u001b[39m(a))\n",
      "\u001b[1;31mValueError\u001b[0m: invalid literal for int() with base 10: 'dgetrg'"
     ]
    }
   ],
   "source": [
    "a=int(input(\"Enter Something\"))\n",
    "print(a)\n",
    "print(type(a))"
   ]
  },
  {
   "cell_type": "code",
   "execution_count": 32,
   "id": "fe1ab627",
   "metadata": {},
   "outputs": [
    {
     "ename": "IndentationError",
     "evalue": "unexpected indent (1208192894.py, line 5)",
     "output_type": "error",
     "traceback": [
      "\u001b[1;36m  Input \u001b[1;32mIn [32]\u001b[1;36m\u001b[0m\n\u001b[1;33m    a=str(a)\u001b[0m\n\u001b[1;37m    ^\u001b[0m\n\u001b[1;31mIndentationError\u001b[0m\u001b[1;31m:\u001b[0m unexpected indent\n"
     ]
    }
   ],
   "source": [
    "# typecast\n",
    "# implicit and explicit\n",
    "# datatype(variable)\n",
    "a=90\n",
    " a=str(a)\n",
    "print(type(a))\n",
    "# if we will not maintain indentation in python then it will give indentation error"
   ]
  },
  {
   "cell_type": "code",
   "execution_count": 24,
   "id": "35482ac0",
   "metadata": {},
   "outputs": [
    {
     "data": {
      "text/plain": [
       "137.26"
      ]
     },
     "execution_count": 24,
     "metadata": {},
     "output_type": "execute_result"
    }
   ],
   "source": [
    "(89.26+48)"
   ]
  },
  {
   "cell_type": "code",
   "execution_count": 31,
   "id": "ee9e7006",
   "metadata": {},
   "outputs": [
    {
     "ename": "NameError",
     "evalue": "name 'z' is not defined",
     "output_type": "error",
     "traceback": [
      "\u001b[1;31m---------------------------------------------------------------------------\u001b[0m",
      "\u001b[1;31mNameError\u001b[0m                                 Traceback (most recent call last)",
      "Input \u001b[1;32mIn [31]\u001b[0m, in \u001b[0;36m<cell line: 1>\u001b[1;34m()\u001b[0m\n\u001b[1;32m----> 1\u001b[0m \u001b[38;5;28mprint\u001b[39m(\u001b[43mz\u001b[49m)\n",
      "\u001b[1;31mNameError\u001b[0m: name 'z' is not defined"
     ]
    }
   ],
   "source": [
    "print(z)\n",
    "# if we try to use variable which is not declared then it will give NameError"
   ]
  },
  {
   "cell_type": "code",
   "execution_count": null,
   "id": "2de0dd2c",
   "metadata": {},
   "outputs": [],
   "source": [
    "# identifier rule\n",
    "%fgr $fg 8erg _wrgfer\n",
    "\n",
    "1)first letter a-z A-Z _\n",
    "2)remaing letter a-z A-Z _ 0-9 \n",
    "\n",
    "# suggestions\n",
    "space will not use\n",
    "keywords will not be used\n",
    "length will not be exceeded more than 255 characters\n",
    "logical name should be used\n",
    "\n",
    "camelcase"
   ]
  },
  {
   "cell_type": "code",
   "execution_count": 39,
   "id": "8a2e578c",
   "metadata": {},
   "outputs": [
    {
     "name": "stdout",
     "output_type": "stream",
     "text": [
      "Your Age is 48 your name is Ravi Kochar and your address is vesu Surat Ravi Kochar   48\n",
      "Your Age is 48 your name is Ravi Kochar and your address is vesu Surat\n"
     ]
    }
   ],
   "source": [
    "# formatted string\n",
    "age=48\n",
    "name=\"Ravi Kochar\"\n",
    "Adress=\"vesu Surat\"\n",
    "print(f\"Your Age is {age} your name is {name} and your address is {Adress} {name}   {age}\")\n",
    "# print(\"Your Age is {} your name is {} and your address is {}\".format(age,name,Adress))\n",
    "# Your Age is 48 your name is Ravi Kochar and your address is vesu surat"
   ]
  },
  {
   "cell_type": "code",
   "execution_count": null,
   "id": "3d16fa90",
   "metadata": {},
   "outputs": [],
   "source": [
    "# Operators\n",
    "# operands --operators work on operands\n",
    "# + operator\n",
    "# expression\n",
    "89+36"
   ]
  },
  {
   "cell_type": "code",
   "execution_count": null,
   "id": "716fc7f6",
   "metadata": {},
   "outputs": [],
   "source": [
    "# Types of operators\n",
    "arithmetic + - * / % ** //\n",
    "relational > < >= <= == !=\n",
    "logical AND(and) OR(or) NOt(not)\n",
    "assignement = += -= *= /= %= **= //= \n",
    "bitwise >> << & | ^\n",
    "identity is is not\n",
    "membership in not in\n",
    "# ternary operator ?:\n",
    "\n",
    "# conditional statements\n",
    "if simple if\n",
    "if else\n",
    "# if ..elif...elif..elif.....else  ladder if else\n",
    "nested if else\n",
    "\n",
    "switch case in not in python why?????"
   ]
  },
  {
   "cell_type": "code",
   "execution_count": null,
   "id": "34553f5f",
   "metadata": {},
   "outputs": [],
   "source": []
  }
 ],
 "metadata": {
  "kernelspec": {
   "display_name": "Python 3 (ipykernel)",
   "language": "python",
   "name": "python3"
  },
  "language_info": {
   "codemirror_mode": {
    "name": "ipython",
    "version": 3
   },
   "file_extension": ".py",
   "mimetype": "text/x-python",
   "name": "python",
   "nbconvert_exporter": "python",
   "pygments_lexer": "ipython3",
   "version": "3.9.12"
  }
 },
 "nbformat": 4,
 "nbformat_minor": 5
}
