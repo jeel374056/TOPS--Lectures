{
 "cells": [
  {
   "cell_type": "markdown",
   "id": "fe9c35ad",
   "metadata": {},
   "source": [
    "# file handling "
   ]
  },
  {
   "cell_type": "markdown",
   "id": "b31d27c3",
   "metadata": {},
   "source": [
    "# file open\n",
    "# file working\n",
    "# file close"
   ]
  },
  {
   "cell_type": "markdown",
   "id": "17ef870b",
   "metadata": {},
   "source": [
    "# file open\n",
    "filepointername=open(\"FIlename\",\"mode\")\n",
    "fp=open(\"demo.txt\",\"w\")\n",
    "\n",
    "mode----\n",
    "read---r---if file eixist then it will be open for reading purpose but if not exist then \n",
    "it gives error\n",
    "\n",
    "write---w---if file exist then it will be open for writing purpose and all its\n",
    "old content will be deleted and if file not exists then it will create a new one but it will not\n",
    "give error\n",
    "\n",
    "append----a---if file exist then it will be open for append purpose and all its\n",
    "old content will not be deleted and if file not exists then it will create a new one but it will not\n",
    "give error\n"
   ]
  },
  {
   "cell_type": "code",
   "execution_count": null,
   "id": "a28ade85",
   "metadata": {},
   "outputs": [],
   "source": [
    "# file closing\n",
    "filepointername.close()"
   ]
  },
  {
   "cell_type": "code",
   "execution_count": 1,
   "id": "e4a93c0c",
   "metadata": {},
   "outputs": [
    {
     "ename": "FileNotFoundError",
     "evalue": "[Errno 2] No such file or directory: 'demo.txt'",
     "output_type": "error",
     "traceback": [
      "\u001b[1;31m---------------------------------------------------------------------------\u001b[0m",
      "\u001b[1;31mFileNotFoundError\u001b[0m                         Traceback (most recent call last)",
      "Input \u001b[1;32mIn [1]\u001b[0m, in \u001b[0;36m<cell line: 1>\u001b[1;34m()\u001b[0m\n\u001b[1;32m----> 1\u001b[0m fp\u001b[38;5;241m=\u001b[39m\u001b[38;5;28;43mopen\u001b[39;49m\u001b[43m(\u001b[49m\u001b[38;5;124;43m\"\u001b[39;49m\u001b[38;5;124;43mdemo.txt\u001b[39;49m\u001b[38;5;124;43m\"\u001b[39;49m\u001b[43m,\u001b[49m\u001b[38;5;124;43m\"\u001b[39;49m\u001b[38;5;124;43mr\u001b[39;49m\u001b[38;5;124;43m\"\u001b[39;49m\u001b[43m)\u001b[49m\n\u001b[0;32m      2\u001b[0m fp\u001b[38;5;241m.\u001b[39mclose()\n",
      "\u001b[1;31mFileNotFoundError\u001b[0m: [Errno 2] No such file or directory: 'demo.txt'"
     ]
    }
   ],
   "source": [
    "fp=open(\"demo.txt\",\"r\")\n",
    "fp.close()"
   ]
  },
  {
   "cell_type": "code",
   "execution_count": 3,
   "id": "e458a636",
   "metadata": {},
   "outputs": [],
   "source": [
    "# data writing inside file\n",
    "fp=open(\"demo.txt\",\"w\")\n",
    "fp.write(\"Hello all How are you\")\n",
    "fp.close()"
   ]
  },
  {
   "cell_type": "code",
   "execution_count": 31,
   "id": "6adfdce4",
   "metadata": {},
   "outputs": [],
   "source": [
    "# data appending inside file\n",
    "fp=open(\"demo.txt\",\"a\")\n",
    "for i in range(1,10):  \n",
    "    fp.write(f\"This is something new {i}\\n\")\n",
    "fp.close()"
   ]
  },
  {
   "cell_type": "code",
   "execution_count": 33,
   "id": "ffb5bbf0",
   "metadata": {},
   "outputs": [
    {
     "name": "stdout",
     "output_type": "stream",
     "text": [
      "This is something new 1\n",
      "\n",
      "This is something new 2\n",
      "\n"
     ]
    }
   ],
   "source": [
    "# opening file for reading purpose\n",
    "fp=open(\"demo.txt\",\"r\")\n",
    "# print(fp.read())\n",
    "# print(fp.read(55))\n",
    "print(fp.readline())\n",
    "print(fp.readline())\n",
    "fp.close()"
   ]
  },
  {
   "cell_type": "code",
   "execution_count": 34,
   "id": "44fb5286",
   "metadata": {},
   "outputs": [
    {
     "name": "stdout",
     "output_type": "stream",
     "text": [
      "ENter number of students: 3\n",
      "ENter Name: Sugandh\n",
      "Enter Age: 45\n",
      "ENter mobile: 46546\n",
      "ENter Name: Rahul\n",
      "Enter Age: 89\n",
      "ENter mobile: 63546\n",
      "ENter Name: Robin\n",
      "Enter Age: 487\n",
      "ENter mobile: 1235\n"
     ]
    }
   ],
   "source": [
    "num=int(input(\"ENter number of students: \"))\n",
    "for i in range(1,num+1):\n",
    "    fname=input(\"ENter Name: \")\n",
    "    age=int(input(\"Enter Age: \"))\n",
    "    mobile=int(input(\"ENter mobile: \"))\n",
    "    file=open(\"Students.txt\",\"a\")\n",
    "    file.write(\"*******************************************************************\\n\")\n",
    "    file.write(f\"\\t\\t{fname}\\t\\t|\\t{age}\\t\\t|\\t{mobile}\\n\")\n",
    "    file.close()"
   ]
  },
  {
   "cell_type": "markdown",
   "id": "206b01fa",
   "metadata": {},
   "source": [
    "# exception handling\n"
   ]
  },
  {
   "cell_type": "code",
   "execution_count": 36,
   "id": "5c52b4a5",
   "metadata": {},
   "outputs": [
    {
     "name": "stdout",
     "output_type": "stream",
     "text": [
      "ENter Number: rg34rg3\n"
     ]
    },
    {
     "ename": "ValueError",
     "evalue": "invalid literal for int() with base 10: 'rg34rg3'",
     "output_type": "error",
     "traceback": [
      "\u001b[1;31m---------------------------------------------------------------------------\u001b[0m",
      "\u001b[1;31mValueError\u001b[0m                                Traceback (most recent call last)",
      "Input \u001b[1;32mIn [36]\u001b[0m, in \u001b[0;36m<cell line: 1>\u001b[1;34m()\u001b[0m\n\u001b[1;32m----> 1\u001b[0m a\u001b[38;5;241m=\u001b[39m\u001b[38;5;28;43mint\u001b[39;49m\u001b[43m(\u001b[49m\u001b[38;5;28;43minput\u001b[39;49m\u001b[43m(\u001b[49m\u001b[38;5;124;43m\"\u001b[39;49m\u001b[38;5;124;43mENter Number: \u001b[39;49m\u001b[38;5;124;43m\"\u001b[39;49m\u001b[43m)\u001b[49m\u001b[43m)\u001b[49m\n",
      "\u001b[1;31mValueError\u001b[0m: invalid literal for int() with base 10: 'rg34rg3'"
     ]
    }
   ],
   "source": [
    "a=int(input(\"ENter Number: \"))"
   ]
  },
  {
   "cell_type": "code",
   "execution_count": null,
   "id": "64e4df49",
   "metadata": {},
   "outputs": [],
   "source": [
    "# try\n",
    "# except\n",
    "# finally\n",
    "# else"
   ]
  },
  {
   "cell_type": "code",
   "execution_count": 38,
   "id": "a1b57b03",
   "metadata": {},
   "outputs": [
    {
     "name": "stdout",
     "output_type": "stream",
     "text": [
      "ENter Number: 48\n",
      "48\n"
     ]
    }
   ],
   "source": [
    "try:\n",
    "    a=int(input(\"ENter Number: \"))\n",
    "    print(a)\n",
    "except:\n",
    "    print(\"Invalid value only numbers allowed\")\n",
    "    "
   ]
  },
  {
   "cell_type": "code",
   "execution_count": 44,
   "id": "8fd9dee0",
   "metadata": {},
   "outputs": [
    {
     "ename": "TypeError",
     "evalue": "unsupported operand type(s) for +: 'int' and 'str'",
     "output_type": "error",
     "traceback": [
      "\u001b[1;31m---------------------------------------------------------------------------\u001b[0m",
      "\u001b[1;31mTypeError\u001b[0m                                 Traceback (most recent call last)",
      "Input \u001b[1;32mIn [44]\u001b[0m, in \u001b[0;36m<cell line: 3>\u001b[1;34m()\u001b[0m\n\u001b[0;32m      1\u001b[0m a\u001b[38;5;241m=\u001b[39m\u001b[38;5;241m45\u001b[39m\n\u001b[0;32m      2\u001b[0m b\u001b[38;5;241m=\u001b[39m\u001b[38;5;124m\"\u001b[39m\u001b[38;5;124mhello\u001b[39m\u001b[38;5;124m\"\u001b[39m\n\u001b[1;32m----> 3\u001b[0m \u001b[38;5;28mprint\u001b[39m(\u001b[43ma\u001b[49m\u001b[38;5;241;43m+\u001b[39;49m\u001b[43mb\u001b[49m)\n",
      "\u001b[1;31mTypeError\u001b[0m: unsupported operand type(s) for +: 'int' and 'str'"
     ]
    }
   ],
   "source": [
    "a=45\n",
    "b=\"hello\"\n",
    "print(a+b)\n",
    "# print(c)\n",
    "# print(10/0)"
   ]
  },
  {
   "cell_type": "code",
   "execution_count": 53,
   "id": "404eb3f3",
   "metadata": {},
   "outputs": [
    {
     "name": "stdout",
     "output_type": "stream",
     "text": [
      "unsupported operand type(s) for +: 'int' and 'str'\n"
     ]
    }
   ],
   "source": [
    "try:\n",
    "    a=45\n",
    "    b=\"hello\"\n",
    "    print(a+b)\n",
    "    print(c)\n",
    "    print(10/0)\n",
    "except TypeError as t:\n",
    "    print(t)\n",
    "except NameError:\n",
    "    print(\"VAriable trying to use is not defined\")\n",
    "except ZeroDivisionError:\n",
    "    print(\"Zero division error denominator cannot be zero\")\n",
    "except:\n",
    "    print(\"Unknown error occured\")"
   ]
  },
  {
   "cell_type": "code",
   "execution_count": 10,
   "id": "3f28611e",
   "metadata": {},
   "outputs": [
    {
     "name": "stdout",
     "output_type": "stream",
     "text": [
      "a x\n",
      "a m\n",
      "a k\n",
      "b x\n",
      "b m\n",
      "b k\n",
      "c x\n",
      "c m\n",
      "c k\n"
     ]
    }
   ],
   "source": [
    "a={1:['a','b','c'],2:['x','m','k']}\n",
    "for i in a[1]:\n",
    "    for j in a[2]:\n",
    "        print(i,j)"
   ]
  },
  {
   "cell_type": "code",
   "execution_count": 24,
   "id": "59634293",
   "metadata": {},
   "outputs": [
    {
     "name": "stdout",
     "output_type": "stream",
     "text": [
      "Enter number: 9\n",
      "1               1\n",
      " 2             2\n",
      "  3           3\n",
      "   4         4\n",
      "    5       5\n",
      "     6     6\n",
      "      7   7\n",
      "       8 8\n",
      "        9\n",
      "       8 8\n",
      "      7   7\n",
      "     6     6\n",
      "    5       5\n",
      "   4         4\n",
      "  3           3\n",
      " 2             2\n",
      "1               1\n"
     ]
    }
   ],
   "source": [
    "num=int(input(\"Enter number: \"))\n",
    "m=0\n",
    "q=(num*2)-3\n",
    "t=num-2\n",
    "w=1\n",
    "for i in range(1,num+1):\n",
    "    str1=m*\" \"\n",
    "    str2=q*\" \"\n",
    "    if i==num:\n",
    "        print(f\"{str1}{i}{str2}\")\n",
    "    else:\n",
    "        print(f\"{str1}{i}{str2}{i}\")\n",
    "    m=m+1\n",
    "    n=n+1\n",
    "    q=q-2\n",
    "for i in range(num-1,0,-1):\n",
    "    str1=t* \" \"\n",
    "    str2=w*\" \"\n",
    "    print(f\"{str1}{i}{str2}{i}\")\n",
    "    t=t-1\n",
    "    w=w+2"
   ]
  },
  {
   "cell_type": "markdown",
   "id": "8d9a3fb5",
   "metadata": {},
   "source": [
    "# list comperhension"
   ]
  },
  {
   "cell_type": "code",
   "execution_count": 25,
   "id": "856b265f",
   "metadata": {},
   "outputs": [
    {
     "name": "stdout",
     "output_type": "stream",
     "text": [
      "[2, 4, 6, 8, 10, 12, 14, 16, 18, 20, 22, 24, 26, 28, 30, 32, 34, 36, 38, 40, 42, 44, 46, 48, 50]\n"
     ]
    }
   ],
   "source": [
    "# used for craeting list from existing iterbale\n",
    "list1=[]\n",
    "for i in range(1,51):\n",
    "    if i%2==0:\n",
    "        list1.append(i)\n",
    "print(list1)"
   ]
  },
  {
   "cell_type": "code",
   "execution_count": 30,
   "id": "81615d9c",
   "metadata": {},
   "outputs": [
    {
     "name": "stdout",
     "output_type": "stream",
     "text": [
      "[2, 4, 6, 8, 10, 12, 14, 16, 18, 20, 22, 24, 26, 28, 30, 32, 34, 36, 38, 40, 42, 44, 46, 48, 50]\n"
     ]
    }
   ],
   "source": [
    "# listname=[appendingelement for i in iterable if condition]\n",
    "list2=[i for i in range(1,51) if i%2==0]\n",
    "print(list2)"
   ]
  },
  {
   "cell_type": "code",
   "execution_count": 5,
   "id": "42a1982b",
   "metadata": {},
   "outputs": [
    {
     "name": "stdout",
     "output_type": "stream",
     "text": [
      "hello5\n"
     ]
    }
   ],
   "source": [
    "str1=\"hello\"\n",
    "length=len(str1)\n",
    "l1=list(str1)\n",
    "l1.append(str(length))\n",
    "demo=\"\"\n",
    "str1=demo.join(l1)\n",
    "print(str1)\n"
   ]
  },
  {
   "cell_type": "code",
   "execution_count": null,
   "id": "83e211aa",
   "metadata": {},
   "outputs": [],
   "source": [
    "str1=\"hello65889\"\n",
    "length=len(str1)\n",
    "l1=list(str1)\n",
    "l1.pop()\n",
    "l1.pop()\n",
    "l1.append(str(length))\n",
    "demo=\"\"\n",
    "str1=demo.join(l1)\n",
    "print(str1)\n"
   ]
  },
  {
   "cell_type": "code",
   "execution_count": 10,
   "id": "a48bde42",
   "metadata": {},
   "outputs": [
    {
     "name": "stdout",
     "output_type": "stream",
     "text": [
      "Enter String: dhgd458\n",
      "dhgd47\n"
     ]
    }
   ],
   "source": [
    "str1=input(\"Enter String: \")\n",
    "for i in \"0123456789\":\n",
    "    if str1.endswith(i):\n",
    "        flag=True\n",
    "if flag==True:\n",
    "    length=len(str1)\n",
    "    l1=list(str1)\n",
    "    l1=l1[:-2]\n",
    "    l1.append(str(length))\n",
    "    demo=\"\"\n",
    "    str1=demo.join(l1)\n",
    "    print(str1) \n",
    "else:\n",
    "    length=len(str1)\n",
    "    l1=list(str1)\n",
    "    l1.append(str(length))\n",
    "    demo=\"\"\n",
    "    str1=demo.join(l1)\n",
    "    print(str1)"
   ]
  },
  {
   "cell_type": "code",
   "execution_count": 33,
   "id": "acd7caf4",
   "metadata": {},
   "outputs": [
    {
     "name": "stdout",
     "output_type": "stream",
     "text": [
      "['h', 'e', 'l', 'l', 'o']\n",
      "hello\n"
     ]
    }
   ],
   "source": [
    "str1=\"hello\"\n",
    "l1=list(str1)\n",
    "print(l1)\n",
    "str3=\"\"\n",
    "str2=str3.join(l1)\n",
    "print(str2)"
   ]
  }
 ],
 "metadata": {
  "kernelspec": {
   "display_name": "Python 3 (ipykernel)",
   "language": "python",
   "name": "python3"
  },
  "language_info": {
   "codemirror_mode": {
    "name": "ipython",
    "version": 3
   },
   "file_extension": ".py",
   "mimetype": "text/x-python",
   "name": "python",
   "nbconvert_exporter": "python",
   "pygments_lexer": "ipython3",
   "version": "3.9.12"
  }
 },
 "nbformat": 4,
 "nbformat_minor": 5
}
