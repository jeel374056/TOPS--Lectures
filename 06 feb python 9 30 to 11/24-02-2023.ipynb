{
 "cells": [
  {
   "cell_type": "code",
   "execution_count": null,
   "id": "34654686",
   "metadata": {},
   "outputs": [],
   "source": [
    "# List \n",
    "# List is a collection of elements of similar as well as different datatype\n",
    "# list is mutable(Changes allowed)\n",
    "# list id ordered every item in list is at proper index\n",
    "# list is defined in square brackets []\n",
    "# syntax:\n",
    "# listname = [value1,value2,value3.....valuen ]"
   ]
  },
  {
   "cell_type": "code",
   "execution_count": 6,
   "id": "b3b3c247",
   "metadata": {},
   "outputs": [
    {
     "name": "stdout",
     "output_type": "stream",
     "text": [
      "[15, 69.23, 'Demo Version', True, [48, 56, 98], (24, 54), {69, 14}, {25: 'hello', 89: True}]\n"
     ]
    }
   ],
   "source": [
    "list1=[15,69.23,\"Hello Wolrd\",True,[48,56,98],(24,54),{14,69},{25:\"hello\",89:True}]\n",
    "# print(list1)\n",
    "\n",
    "# print(list1[4])\n",
    "# print(list1[2:7])\n",
    "list1[2]=\"Demo Version\"\n",
    "print(list1)"
   ]
  },
  {
   "cell_type": "code",
   "execution_count": null,
   "id": "b7ecb025",
   "metadata": {},
   "outputs": [],
   "source": [
    "# itearbles\n",
    "\n",
    "range()\n",
    "string\n",
    "list\n",
    "tuple\n",
    "set\n",
    "dictionary"
   ]
  },
  {
   "cell_type": "code",
   "execution_count": 11,
   "id": "8fec111d",
   "metadata": {},
   "outputs": [
    {
     "name": "stdout",
     "output_type": "stream",
     "text": [
      "[1, 2, 1058, 1061, 1064, 1067, 1070, 1073, 8, 9]\n"
     ]
    }
   ],
   "source": [
    "list1=[1,2,3,4,5,6,7,8,9]\n",
    "list1[2:7]=range(1058,1074,3)\n",
    "print(list1)"
   ]
  },
  {
   "cell_type": "code",
   "execution_count": 13,
   "id": "a9c08fbe",
   "metadata": {},
   "outputs": [
    {
     "name": "stdout",
     "output_type": "stream",
     "text": [
      "[7, 6, 5, 4, 3]\n"
     ]
    }
   ],
   "source": [
    "# negative indexing\n",
    "list1=[1,2,3,4,5,6,7,8,9]\n",
    "print(list1[-3:-8:-1])"
   ]
  },
  {
   "cell_type": "code",
   "execution_count": null,
   "id": "2a84fb23",
   "metadata": {},
   "outputs": [],
   "source": [
    "# list functions\n",
    "len()\n",
    "min()\n",
    "max()\n",
    "list()"
   ]
  },
  {
   "cell_type": "code",
   "execution_count": 15,
   "id": "26921ab4",
   "metadata": {},
   "outputs": [
    {
     "name": "stdout",
     "output_type": "stream",
     "text": [
      "8\n",
      "[1, 4, 5, 8, [8, 9, 85, 4], 14, 56, 978]\n"
     ]
    }
   ],
   "source": [
    "# len()---counting starts from 1 not 0\n",
    "list1=[1,4,5,8,[8,9,5,4],14,56,978]\n",
    "print(len(list1))\n",
    "list1[4][2]=85\n",
    "print(list1)"
   ]
  },
  {
   "cell_type": "code",
   "execution_count": 17,
   "id": "5fb3267f",
   "metadata": {},
   "outputs": [
    {
     "name": "stdout",
     "output_type": "stream",
     "text": [
      "14\n",
      "89\n"
     ]
    }
   ],
   "source": [
    "# min()---gives minimun elemnt\n",
    "# max()--gives maximum element\n",
    "list1=[47,89,65,47,52,14,58,63,21,23]\n",
    "print(min(list1))\n",
    "print(max(list1))"
   ]
  },
  {
   "cell_type": "code",
   "execution_count": 18,
   "id": "bf6ed4b4",
   "metadata": {},
   "outputs": [
    {
     "name": "stdout",
     "output_type": "stream",
     "text": [
      "TEyv vbe\n",
      "row hIUOHWEH\n"
     ]
    }
   ],
   "source": [
    "list1=[\"jwrfh\",\"eiuweqiu efhver\",\"TEyv vbe\",\"row hIUOHWEH\"]\n",
    "print(min(list1))\n",
    "print(max(list1))"
   ]
  },
  {
   "cell_type": "code",
   "execution_count": 19,
   "id": "53f3eaa8",
   "metadata": {},
   "outputs": [
    {
     "ename": "TypeError",
     "evalue": "'<' not supported between instances of 'int' and 'str'",
     "output_type": "error",
     "traceback": [
      "\u001b[1;31m---------------------------------------------------------------------------\u001b[0m",
      "\u001b[1;31mTypeError\u001b[0m                                 Traceback (most recent call last)",
      "Input \u001b[1;32mIn [19]\u001b[0m, in \u001b[0;36m<cell line: 2>\u001b[1;34m()\u001b[0m\n\u001b[0;32m      1\u001b[0m list1\u001b[38;5;241m=\u001b[39m[\u001b[38;5;124m\"\u001b[39m\u001b[38;5;124mthgt\u001b[39m\u001b[38;5;124m\"\u001b[39m,\u001b[38;5;241m89\u001b[39m,\u001b[38;5;124m\"\u001b[39m\u001b[38;5;124mrg\u001b[39m\u001b[38;5;124m\"\u001b[39m,\u001b[38;5;241m48\u001b[39m]\n\u001b[1;32m----> 2\u001b[0m \u001b[38;5;28mprint\u001b[39m(\u001b[38;5;28;43mmin\u001b[39;49m\u001b[43m(\u001b[49m\u001b[43mlist1\u001b[49m\u001b[43m)\u001b[49m)\n",
      "\u001b[1;31mTypeError\u001b[0m: '<' not supported between instances of 'int' and 'str'"
     ]
    }
   ],
   "source": [
    "list1=[\"thgt\",89,\"rg\",48]\n",
    "print(min(list1))"
   ]
  },
  {
   "cell_type": "code",
   "execution_count": 24,
   "id": "74ddd153",
   "metadata": {},
   "outputs": [
    {
     "name": "stdout",
     "output_type": "stream",
     "text": [
      "['H', 'e', 'l', 'l', 'o']\n",
      "[101, 106, 111, 116]\n",
      "[58]\n"
     ]
    }
   ],
   "source": [
    "# list()\n",
    "list1=list(\"Hello\")\n",
    "print(list1)\n",
    "list1=list(range(101,118,5))\n",
    "print(list1)\n",
    "list1=list((58,))\n",
    "print(list1)"
   ]
  },
  {
   "cell_type": "code",
   "execution_count": null,
   "id": "764c72dd",
   "metadata": {},
   "outputs": [],
   "source": [
    "# list methods\n",
    "# adding elemnts\n",
    "append()\n",
    "extend()\n",
    "insert()\n",
    "\n",
    "# removing elements\n",
    "pop()\n",
    "remove()\n",
    "\n",
    "# finding elements\n",
    "index()\n",
    "count()\n",
    "\n",
    "# changing list\n",
    "copy()\n",
    "sort()\n",
    "reverse()\n",
    "clear()\n"
   ]
  },
  {
   "cell_type": "code",
   "execution_count": 27,
   "id": "1fa8bfe4",
   "metadata": {},
   "outputs": [
    {
     "name": "stdout",
     "output_type": "stream",
     "text": [
      "[45, 87, 96, 54, 8, 26]\n",
      "[45, 87, 96, 54, 8, 26, 'Hello']\n",
      "[45, 87, 96, 54, 8, 26, 'Hello', [45, 89, 65]]\n"
     ]
    }
   ],
   "source": [
    "# append(element)---add element at the last of the list as a single element\n",
    "list1=[45,87,96,54,8]\n",
    "list1.append(26)\n",
    "print(list1)\n",
    "list1.append(\"Hello\")\n",
    "print(list1)\n",
    "list1.append([45,89,65])\n",
    "print(list1)"
   ]
  },
  {
   "cell_type": "code",
   "execution_count": 32,
   "id": "e0b2504a",
   "metadata": {},
   "outputs": [
    {
     "name": "stdout",
     "output_type": "stream",
     "text": [
      "[48, 58, 96, 54, 12, 36, 45, 'j', 'e', 'r', 'g', 'f', ' ', 'j', 'k', 'h', 'v']\n",
      "[48, 58, 96, 54, 12, 36, 45, 'j', 'e', 'r', 'g', 'f', ' ', 'j', 'k', 'h', 'v', 48, 56, 64, 72, 80, 88]\n",
      "[48, 58, 96, 54, 12, 36, 45, 'j', 'e', 'r', 'g', 'f', ' ', 'j', 'k', 'h', 'v', 48, 56, 64, 72, 80, 88, 45, 89, 65]\n"
     ]
    }
   ],
   "source": [
    "# extend(iterable)---add element at the last of the list but as an individual \n",
    "# elements\n",
    "list1=[48,58,96,54,12,36,45]\n",
    "list1.extend(\"jergf jkhv\")\n",
    "print(list1)\n",
    "list1.extend(range(48,96,8))\n",
    "print(list1)\n",
    "list1.extend([45,89,65])\n",
    "print(list1)"
   ]
  },
  {
   "cell_type": "code",
   "execution_count": 33,
   "id": "0b107be7",
   "metadata": {},
   "outputs": [
    {
     "name": "stdout",
     "output_type": "stream",
     "text": [
      "[45, 89, 65, 23, 'Hello', 65, 78]\n"
     ]
    }
   ],
   "source": [
    "# insert(index,element)--add elemnts at the desired index\n",
    "list1=[45,89,65,23,65,78]\n",
    "list1.insert(4,\"Hello\")\n",
    "print(list1)"
   ]
  },
  {
   "cell_type": "code",
   "execution_count": 38,
   "id": "5e7a18fc",
   "metadata": {},
   "outputs": [
    {
     "name": "stdout",
     "output_type": "stream",
     "text": [
      "[7, 89, 56, 85, 47]\n",
      "[7, 89, 56, 47]\n"
     ]
    },
    {
     "ename": "IndexError",
     "evalue": "pop index out of range",
     "output_type": "error",
     "traceback": [
      "\u001b[1;31m---------------------------------------------------------------------------\u001b[0m",
      "\u001b[1;31mIndexError\u001b[0m                                Traceback (most recent call last)",
      "Input \u001b[1;32mIn [38]\u001b[0m, in \u001b[0;36m<cell line: 9>\u001b[1;34m()\u001b[0m\n\u001b[0;32m      7\u001b[0m list1\u001b[38;5;241m.\u001b[39mpop(\u001b[38;5;241m3\u001b[39m)\n\u001b[0;32m      8\u001b[0m \u001b[38;5;28mprint\u001b[39m(list1)\n\u001b[1;32m----> 9\u001b[0m \u001b[43mlist1\u001b[49m\u001b[38;5;241;43m.\u001b[39;49m\u001b[43mpop\u001b[49m\u001b[43m(\u001b[49m\u001b[38;5;241;43m48\u001b[39;49m\u001b[43m)\u001b[49m\n\u001b[0;32m     10\u001b[0m \u001b[38;5;28mprint\u001b[39m(list1)\n",
      "\u001b[1;31mIndexError\u001b[0m: pop index out of range"
     ]
    }
   ],
   "source": [
    "# pop([index])--by default when index is not given then it removes last element\n",
    "# when index is given it removes element at that index\n",
    "# it gives index error when index is not in list\n",
    "list1=[7,89,56,85,47,94]\n",
    "list1.pop()\n",
    "print(list1)\n",
    "list1.pop(3)\n",
    "print(list1)\n",
    "list1.pop(48)\n",
    "print(list1)\n"
   ]
  },
  {
   "cell_type": "code",
   "execution_count": 40,
   "id": "d1e8ff7c",
   "metadata": {},
   "outputs": [
    {
     "name": "stdout",
     "output_type": "stream",
     "text": [
      "[48, 96, 54, 48, 78, 12, 36, 56]\n"
     ]
    },
    {
     "ename": "ValueError",
     "evalue": "list.remove(x): x not in list",
     "output_type": "error",
     "traceback": [
      "\u001b[1;31m---------------------------------------------------------------------------\u001b[0m",
      "\u001b[1;31mValueError\u001b[0m                                Traceback (most recent call last)",
      "Input \u001b[1;32mIn [40]\u001b[0m, in \u001b[0;36m<cell line: 5>\u001b[1;34m()\u001b[0m\n\u001b[0;32m      3\u001b[0m list1\u001b[38;5;241m.\u001b[39mremove(\u001b[38;5;241m78\u001b[39m)\n\u001b[0;32m      4\u001b[0m \u001b[38;5;28mprint\u001b[39m(list1)\n\u001b[1;32m----> 5\u001b[0m \u001b[43mlist1\u001b[49m\u001b[38;5;241;43m.\u001b[39;49m\u001b[43mremove\u001b[49m\u001b[43m(\u001b[49m\u001b[38;5;241;43m943\u001b[39;49m\u001b[43m)\u001b[49m\n\u001b[0;32m      6\u001b[0m \u001b[38;5;28mprint\u001b[39m(list1)\n",
      "\u001b[1;31mValueError\u001b[0m: list.remove(x): x not in list"
     ]
    }
   ],
   "source": [
    "# remove(element)--remove first occurence of element but when element \n",
    "# is not in list then it gives value error\n",
    "list1=[48,78,96,54,48,78,12,36,56]\n",
    "list1.remove(78)\n",
    "print(list1)\n",
    "list1.remove(943)\n",
    "print(list1)"
   ]
  },
  {
   "cell_type": "code",
   "execution_count": 47,
   "id": "baad2f52",
   "metadata": {},
   "outputs": [
    {
     "ename": "ValueError",
     "evalue": "96 is not in list",
     "output_type": "error",
     "traceback": [
      "\u001b[1;31m---------------------------------------------------------------------------\u001b[0m",
      "\u001b[1;31mValueError\u001b[0m                                Traceback (most recent call last)",
      "Input \u001b[1;32mIn [47]\u001b[0m, in \u001b[0;36m<cell line: 3>\u001b[1;34m()\u001b[0m\n\u001b[0;32m      1\u001b[0m \u001b[38;5;66;03m# index(element[,start,stop])--gives index of first occurence of element\u001b[39;00m\n\u001b[0;32m      2\u001b[0m list1\u001b[38;5;241m=\u001b[39m[\u001b[38;5;241m48\u001b[39m,\u001b[38;5;241m56\u001b[39m,\u001b[38;5;241m96\u001b[39m,\u001b[38;5;241m58\u001b[39m,\u001b[38;5;241m47\u001b[39m,\u001b[38;5;241m65\u001b[39m,\u001b[38;5;241m89\u001b[39m,\u001b[38;5;241m96\u001b[39m,\u001b[38;5;241m54\u001b[39m,\u001b[38;5;241m56\u001b[39m,\u001b[38;5;241m47\u001b[39m]\n\u001b[1;32m----> 3\u001b[0m \u001b[38;5;28mprint\u001b[39m(\u001b[43mlist1\u001b[49m\u001b[38;5;241;43m.\u001b[39;49m\u001b[43mindex\u001b[49m\u001b[43m(\u001b[49m\u001b[38;5;241;43m96\u001b[39;49m\u001b[43m,\u001b[49m\u001b[38;5;241;43m4\u001b[39;49m\u001b[43m,\u001b[49m\u001b[38;5;241;43m6\u001b[39;49m\u001b[43m)\u001b[49m)\n",
      "\u001b[1;31mValueError\u001b[0m: 96 is not in list"
     ]
    }
   ],
   "source": [
    "# index(element[,start,stop])--gives index of first occurence of element\n",
    "list1=[48,56,96,58,47,65,89,96,54,56,47]\n",
    "print(list1.index(96,4,6))\n",
    "# print(list1.index(1056))"
   ]
  },
  {
   "cell_type": "code",
   "execution_count": 49,
   "id": "c718e24b",
   "metadata": {},
   "outputs": [
    {
     "name": "stdout",
     "output_type": "stream",
     "text": [
      "2\n",
      "0\n"
     ]
    }
   ],
   "source": [
    "# count(element)--it counts the total occurence of element in the list \n",
    "# if element is not in list then it gives 0\n",
    "list1=[48,56,96,58,47,65,89,96,54,56,47]\n",
    "print(list1.count(96))\n",
    "print(list1.count(1052))"
   ]
  },
  {
   "cell_type": "code",
   "execution_count": 51,
   "id": "8d5f7d95",
   "metadata": {},
   "outputs": [
    {
     "name": "stdout",
     "output_type": "stream",
     "text": [
      "[89, 87, 65, 45, 45, 8]\n"
     ]
    }
   ],
   "source": [
    "# sort([reverse=True])---it will sort the list in ascending order by default\n",
    "# but if we give reverse=True Then It will sort in descending order\n",
    "list1=[45,89,65,87,45,8]\n",
    "# list1.sort()\n",
    "list1.sort(reverse=True)\n",
    "print(list1)"
   ]
  },
  {
   "cell_type": "code",
   "execution_count": 52,
   "id": "bb16ecb4",
   "metadata": {},
   "outputs": [
    {
     "name": "stdout",
     "output_type": "stream",
     "text": [
      "[8, 45, 87, 65, 89, 45]\n"
     ]
    }
   ],
   "source": [
    "# reverse()---it will reverse the list\n",
    "list1=[45,89,65,87,45,8]\n",
    "list1.reverse()\n",
    "print(list1)"
   ]
  },
  {
   "cell_type": "code",
   "execution_count": 54,
   "id": "ae129248",
   "metadata": {},
   "outputs": [
    {
     "name": "stdout",
     "output_type": "stream",
     "text": [
      "[1, 2, 3, 5, 6, 89]\n",
      "[1, 2, 3, 5, 6, 89]\n",
      "[1, 2, 3, 48, 6, 89]\n",
      "[1, 2, 3, 48, 6, 89]\n"
     ]
    }
   ],
   "source": [
    "# copy()--copy one list to another\n",
    "list1=[1,2,3,5,6,89]\n",
    "list2=list1\n",
    "print(list1)\n",
    "print(list2)\n",
    "list1[3]=48\n",
    "print(list1)\n",
    "print(list2)"
   ]
  },
  {
   "cell_type": "code",
   "execution_count": 55,
   "id": "b9f1b85f",
   "metadata": {},
   "outputs": [
    {
     "name": "stdout",
     "output_type": "stream",
     "text": [
      "[1, 2, 3, 5, 6, 89]\n",
      "[1, 2, 3, 5, 6, 89]\n",
      "[1, 2, 3, 48, 6, 89]\n",
      "[1, 2, 3, 5, 6, 89]\n"
     ]
    }
   ],
   "source": [
    "list1=[1,2,3,5,6,89]\n",
    "list2=list1.copy()\n",
    "print(list1)\n",
    "print(list2)\n",
    "list1[3]=48\n",
    "print(list1)\n",
    "print(list2)"
   ]
  },
  {
   "cell_type": "code",
   "execution_count": 57,
   "id": "b1cc763a",
   "metadata": {},
   "outputs": [
    {
     "name": "stdout",
     "output_type": "stream",
     "text": [
      "[45, 69, 87, 45, 896]\n",
      "[]\n"
     ]
    }
   ],
   "source": [
    "# clear()--it will clear whole list\n",
    "list1=[45,69,87,45,896]\n",
    "print(list1)\n",
    "list1.clear()\n",
    "print(list1)"
   ]
  },
  {
   "cell_type": "code",
   "execution_count": null,
   "id": "8176de48",
   "metadata": {},
   "outputs": [],
   "source": [
    "# 0 1 1 2 3 5 8 13 21 34  ---fibonacci series"
   ]
  },
  {
   "cell_type": "code",
   "execution_count": 27,
   "id": "e0f5dd9a",
   "metadata": {},
   "outputs": [
    {
     "name": "stdout",
     "output_type": "stream",
     "text": [
      "2683982012192\n"
     ]
    }
   ],
   "source": [
    "set1={48,56,98,96,56,98}\n",
    "print(id(set1))"
   ]
  },
  {
   "cell_type": "code",
   "execution_count": 56,
   "id": "c684a10d",
   "metadata": {},
   "outputs": [
    {
     "name": "stdout",
     "output_type": "stream",
     "text": [
      "2683983080448\n"
     ]
    }
   ],
   "source": [
    "list1=[1,2,3,4,5,6]\n",
    "print(id(list1))"
   ]
  },
  {
   "cell_type": "code",
   "execution_count": null,
   "id": "e26e2353",
   "metadata": {},
   "outputs": [],
   "source": []
  }
 ],
 "metadata": {
  "kernelspec": {
   "display_name": "Python 3 (ipykernel)",
   "language": "python",
   "name": "python3"
  },
  "language_info": {
   "codemirror_mode": {
    "name": "ipython",
    "version": 3
   },
   "file_extension": ".py",
   "mimetype": "text/x-python",
   "name": "python",
   "nbconvert_exporter": "python",
   "pygments_lexer": "ipython3",
   "version": "3.9.12"
  }
 },
 "nbformat": 4,
 "nbformat_minor": 5
}
