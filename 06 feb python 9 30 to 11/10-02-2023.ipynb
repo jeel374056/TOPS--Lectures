{
 "cells": [
  {
   "cell_type": "code",
   "execution_count": 28,
   "id": "4393fea5",
   "metadata": {},
   "outputs": [
    {
     "name": "stdout",
     "output_type": "stream",
     "text": [
      "hello worthgrthrtr95068904645609$%&^%*%rld\n"
     ]
    }
   ],
   "source": [
    "print(\"hello worthgrthrtr95068904645609$%&^%*%rld\")"
   ]
  },
  {
   "cell_type": "code",
   "execution_count": null,
   "id": "103e6321",
   "metadata": {},
   "outputs": [],
   "source": [
    "commnets in python are of two types\n",
    "single line comment #\n",
    "multiline comment  \"\"\"   \"\"\"    '''   '''"
   ]
  },
  {
   "cell_type": "code",
   "execution_count": 36,
   "id": "0f67dc5c",
   "metadata": {},
   "outputs": [
    {
     "name": "stdout",
     "output_type": "stream",
     "text": [
      "He\tloo\n",
      "jffk\b\b \n",
      "g' ' 'ei n jv\"h\tbkvb\n"
     ]
    }
   ],
   "source": [
    "print(\"He\\tloo\\njffk\\b\\b \\ng' ' 'ei n jv\\\"h\\tbkvb\")\n",
    "# n=\"rthrrth'rthrth'trhht\"rhrhrt\""
   ]
  },
  {
   "cell_type": "code",
   "execution_count": 40,
   "id": "00dedba1",
   "metadata": {},
   "outputs": [
    {
     "ename": "SyntaxError",
     "evalue": "invalid syntax (2680744492.py, line 1)",
     "output_type": "error",
     "traceback": [
      "\u001b[1;36m  Input \u001b[1;32mIn [40]\u001b[1;36m\u001b[0m\n\u001b[1;33m    print('rg'e\" g\"erg')\u001b[0m\n\u001b[1;37m              ^\u001b[0m\n\u001b[1;31mSyntaxError\u001b[0m\u001b[1;31m:\u001b[0m invalid syntax\n"
     ]
    }
   ],
   "source": [
    "print('rg'e\" g\"erg')"
   ]
  },
  {
   "cell_type": "code",
   "execution_count": null,
   "id": "053a3950",
   "metadata": {},
   "outputs": [],
   "source": [
    "\\n --newline character\n",
    "\\t  --tabsapce\n",
    "\\b ---delete one character\n",
    "\\\" ---double quote\n",
    "\\'  --single quote"
   ]
  }
 ],
 "metadata": {
  "kernelspec": {
   "display_name": "Python 3 (ipykernel)",
   "language": "python",
   "name": "python3"
  },
  "language_info": {
   "codemirror_mode": {
    "name": "ipython",
    "version": 3
   },
   "file_extension": ".py",
   "mimetype": "text/x-python",
   "name": "python",
   "nbconvert_exporter": "python",
   "pygments_lexer": "ipython3",
   "version": "3.9.12"
  }
 },
 "nbformat": 4,
 "nbformat_minor": 5
}
