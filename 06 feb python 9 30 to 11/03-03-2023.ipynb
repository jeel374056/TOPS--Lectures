{
 "cells": [
  {
   "cell_type": "markdown",
   "id": "76a7d255",
   "metadata": {},
   "source": [
    "# Dictionary MEthods\n"
   ]
  },
  {
   "cell_type": "code",
   "execution_count": 1,
   "id": "2bdf1722",
   "metadata": {},
   "outputs": [
    {
     "name": "stdout",
     "output_type": "stream",
     "text": [
      "dict_values([2, 48, 125, 45])\n"
     ]
    }
   ],
   "source": [
    "# Values() ---give list of values from the dictionary\n",
    "dict1={1:2,56:48,89:125,36:45}\n",
    "print(dict1.values())"
   ]
  },
  {
   "cell_type": "code",
   "execution_count": 2,
   "id": "74eba7a6",
   "metadata": {},
   "outputs": [
    {
     "name": "stdout",
     "output_type": "stream",
     "text": [
      "dict_keys([1, 56, 89, 36])\n"
     ]
    }
   ],
   "source": [
    "# Keys()--give list of keys from the dictionary\n",
    "dict1={1:2,56:48,89:125,36:45}\n",
    "print(dict1.keys())"
   ]
  },
  {
   "cell_type": "code",
   "execution_count": 3,
   "id": "2780aa82",
   "metadata": {},
   "outputs": [
    {
     "name": "stdout",
     "output_type": "stream",
     "text": [
      "dict_items([(1, 2), (56, 48), (89, 125), (36, 45)])\n"
     ]
    }
   ],
   "source": [
    "# Items()---gives list of tuples and one tuple have only two values one is key\n",
    "# another is value\n",
    "dict1={1:2,56:48,89:125,36:45}\n",
    "print(dict1.items())"
   ]
  },
  {
   "cell_type": "code",
   "execution_count": 5,
   "id": "53919fba",
   "metadata": {},
   "outputs": [
    {
     "name": "stdout",
     "output_type": "stream",
     "text": [
      "{1: 2, 56: 48, 89: 125}\n"
     ]
    }
   ],
   "source": [
    "# pop(key)---remove the element of specified key\n",
    "# popitem()---remove last pair which has been inserted\n",
    "\n",
    "dict1={1:2,56:48,89:125,36:45}\n",
    "# dict1.pop(89)\n",
    "dict1.popitem()\n",
    "print(dict1)"
   ]
  },
  {
   "cell_type": "code",
   "execution_count": 11,
   "id": "55c90219",
   "metadata": {},
   "outputs": [
    {
     "name": "stdout",
     "output_type": "stream",
     "text": [
      "value not found\n",
      "{1: 2, 56: 48, 89: 125, 36: 45}\n"
     ]
    }
   ],
   "source": [
    "# get(key[,value])--it gives the vlaue of the key but if the key is not in \n",
    "# dictionary then it returns none when thers is no second argument of value\n",
    "# and if key is not found and second values is given then that value will be \n",
    "# given\n",
    "\n",
    "dict1={1:2,56:48,89:125,36:45}\n",
    "print(dict1.get(145,\"value not found\"))\n",
    "print(dict1)"
   ]
  },
  {
   "cell_type": "code",
   "execution_count": 14,
   "id": "d9545d25",
   "metadata": {},
   "outputs": [
    {
     "name": "stdout",
     "output_type": "stream",
     "text": [
      "None\n",
      "{1: 2, 56: 48, 89: 125, 36: 45, 125: None}\n"
     ]
    }
   ],
   "source": [
    "# setdefault(key,value)--it gives the vlaue of the key but if the key is not in \n",
    "# dictionary then it returns none when thers is no second argument of value \n",
    "# and also add that key and value in the dictionary \n",
    "# and if key is not found and second values is given then that value will be \n",
    "# given\n",
    "dict1={1:2,56:48,89:125,36:45}\n",
    "print(dict1.setdefault(125))\n",
    "print(dict1)"
   ]
  },
  {
   "cell_type": "code",
   "execution_count": 17,
   "id": "f18f96da",
   "metadata": {},
   "outputs": [
    {
     "name": "stdout",
     "output_type": "stream",
     "text": [
      "{1: 2, 56: 48, 89: 125, 36: 45, 698: 'hello', 45: 'wow'}\n"
     ]
    }
   ],
   "source": [
    "# update(dictionary)--it update the dictiionary\n",
    "dict1={1:2,56:48,89:125,36:45}\n",
    "dict1.update({698:\"hello\",45:\"wow\"})\n",
    "print(dict1)"
   ]
  },
  {
   "cell_type": "code",
   "execution_count": null,
   "id": "0d6815f8",
   "metadata": {},
   "outputs": [],
   "source": [
    "# fromkeys(iterable,value)\n",
    "list1=[1,2,3,4,5,6]\n",
    "val=[1,2]\n",
    "dict1=dict.fromkeys(list1,val)\n",
    "print(dict1)"
   ]
  },
  {
   "cell_type": "markdown",
   "id": "4697d37b",
   "metadata": {},
   "source": [
    "# function in python"
   ]
  },
  {
   "cell_type": "code",
   "execution_count": null,
   "id": "f08f8bc7",
   "metadata": {},
   "outputs": [],
   "source": [
    "def functionanme([parameters]):\n",
    "    body of the function\n",
    "    [return value]"
   ]
  },
  {
   "cell_type": "code",
   "execution_count": 47,
   "id": "99063ffb",
   "metadata": {},
   "outputs": [],
   "source": [
    "def greeting():\n",
    "    a=58\n",
    "    for i in range(1,11):\n",
    "        print(\"good Morning\")"
   ]
  },
  {
   "cell_type": "code",
   "execution_count": 50,
   "id": "6581bd2c",
   "metadata": {},
   "outputs": [
    {
     "ename": "NameError",
     "evalue": "name 'a' is not defined",
     "output_type": "error",
     "traceback": [
      "\u001b[1;31m---------------------------------------------------------------------------\u001b[0m",
      "\u001b[1;31mNameError\u001b[0m                                 Traceback (most recent call last)",
      "Input \u001b[1;32mIn [50]\u001b[0m, in \u001b[0;36m<cell line: 1>\u001b[1;34m()\u001b[0m\n\u001b[1;32m----> 1\u001b[0m \u001b[38;5;28mprint\u001b[39m(\u001b[43ma\u001b[49m)\n",
      "\u001b[1;31mNameError\u001b[0m: name 'a' is not defined"
     ]
    }
   ],
   "source": [
    "print(a)"
   ]
  },
  {
   "cell_type": "code",
   "execution_count": 62,
   "id": "59ba808b",
   "metadata": {},
   "outputs": [],
   "source": [
    "def addition(x,y):\n",
    "    answer=x+y\n",
    "    print(answer)"
   ]
  },
  {
   "cell_type": "code",
   "execution_count": 64,
   "id": "8a73ae81",
   "metadata": {},
   "outputs": [
    {
     "name": "stdout",
     "output_type": "stream",
     "text": [
      "60\n",
      "73\n"
     ]
    }
   ],
   "source": [
    "addition(45,15)\n",
    "addition(48,25)"
   ]
  },
  {
   "cell_type": "code",
   "execution_count": null,
   "id": "c4449859",
   "metadata": {},
   "outputs": [],
   "source": [
    "hello  olleh  not palindrome\n",
    "wow wow --palindrome"
   ]
  },
  {
   "cell_type": "code",
   "execution_count": null,
   "id": "6460efb8",
   "metadata": {},
   "outputs": [],
   "source": [
    "# types of arguments\n",
    "positional argument\n",
    "keyword argument\n",
    "default argument\n",
    "arbitrary agrument\n",
    "arbirary keyword argument"
   ]
  },
  {
   "cell_type": "code",
   "execution_count": 68,
   "id": "e7ebf48d",
   "metadata": {},
   "outputs": [],
   "source": [
    "def fun1(x,y,z):\n",
    "    print(x,y,z)\n",
    "    "
   ]
  },
  {
   "cell_type": "code",
   "execution_count": 73,
   "id": "401243f7",
   "metadata": {},
   "outputs": [
    {
     "name": "stdout",
     "output_type": "stream",
     "text": [
      "14 Hello 33\n"
     ]
    }
   ],
   "source": [
    "fun1(14,\"Hello\",33)"
   ]
  },
  {
   "cell_type": "code",
   "execution_count": 3,
   "id": "cef77e46",
   "metadata": {},
   "outputs": [
    {
     "name": "stdout",
     "output_type": "stream",
     "text": [
      "45 89 85\n"
     ]
    },
    {
     "ename": "TypeError",
     "evalue": "fun1() got multiple values for argument 'x'",
     "output_type": "error",
     "traceback": [
      "\u001b[1;31m---------------------------------------------------------------------------\u001b[0m",
      "\u001b[1;31mTypeError\u001b[0m                                 Traceback (most recent call last)",
      "Input \u001b[1;32mIn [3]\u001b[0m, in \u001b[0;36m<cell line: 7>\u001b[1;34m()\u001b[0m\n\u001b[0;32m      5\u001b[0m \u001b[38;5;66;03m# fun1(z=85,y=23,x=48)\u001b[39;00m\n\u001b[0;32m      6\u001b[0m fun1(\u001b[38;5;241m45\u001b[39m,z\u001b[38;5;241m=\u001b[39m\u001b[38;5;241m85\u001b[39m,y\u001b[38;5;241m=\u001b[39m\u001b[38;5;241m89\u001b[39m)\n\u001b[1;32m----> 7\u001b[0m \u001b[43mfun1\u001b[49m\u001b[43m(\u001b[49m\u001b[38;5;241;43m58\u001b[39;49m\u001b[43m,\u001b[49m\u001b[43mx\u001b[49m\u001b[38;5;241;43m=\u001b[39;49m\u001b[38;5;241;43m89\u001b[39;49m\u001b[43m,\u001b[49m\u001b[43mz\u001b[49m\u001b[38;5;241;43m=\u001b[39;49m\u001b[38;5;241;43m48\u001b[39;49m\u001b[43m)\u001b[49m\n",
      "\u001b[1;31mTypeError\u001b[0m: fun1() got multiple values for argument 'x'"
     ]
    }
   ],
   "source": [
    "# Keyword Argument\n",
    "def fun1(x,y,z):\n",
    "    print(x,y,z)\n",
    "    \n",
    "# fun1(z=85,y=23,x=48)\n",
    "fun1(45,z=85,y=89)\n",
    "fun1(58,x=89,z=48)\n"
   ]
  },
  {
   "cell_type": "code",
   "execution_count": 7,
   "id": "db176db9",
   "metadata": {},
   "outputs": [
    {
     "name": "stdout",
     "output_type": "stream",
     "text": [
      "x=48 y=25 z=102\n"
     ]
    }
   ],
   "source": [
    "# default argument\n",
    "def fun1(x,y,z=47):\n",
    "    print(f\"x={x} y={y} z={z}\")\n",
    "\n",
    "fun1(48,25,102)"
   ]
  },
  {
   "cell_type": "code",
   "execution_count": 12,
   "id": "1c575d2f",
   "metadata": {},
   "outputs": [
    {
     "name": "stdout",
     "output_type": "stream",
     "text": [
      "x=48 y=25 z=102 m=(45, 89, 65, 21, 4) (45, 89)\n"
     ]
    }
   ],
   "source": [
    "# aribtrary positional argument\n",
    "# * tuple\n",
    "def fun1(x,y,z,*m):\n",
    "    print(f\"x={x} y={y} z={z} m={m} {m[0]}\")\n",
    "\n",
    "fun1(48,25,102,45,89,65,21,4)"
   ]
  },
  {
   "cell_type": "code",
   "execution_count": 14,
   "id": "1ea4c9d2",
   "metadata": {},
   "outputs": [
    {
     "name": "stdout",
     "output_type": "stream",
     "text": [
      "x=85 y=25 z=102 m={'m': 48, 'j': 'hello', 'k': 26}\n"
     ]
    }
   ],
   "source": [
    "# aribtrary keyword argument\n",
    "#  ** dictionary\n",
    "\n",
    "def fun1(x,y,z,**m):\n",
    "    print(f\"x={x} y={y} z={z} m={m}\")\n",
    "\n",
    "fun1(x=85,z=102,y=25,m=48,j=\"hello\",k=26)"
   ]
  },
  {
   "cell_type": "code",
   "execution_count": null,
   "id": "cf6e1f45",
   "metadata": {},
   "outputs": [],
   "source": [
    "palindrome\n",
    "\n",
    "5894 4985 not palindrome\n",
    "1331 1331 palindrome\n",
    "\n",
    "palindrome(121)"
   ]
  },
  {
   "cell_type": "code",
   "execution_count": 19,
   "id": "a6190891",
   "metadata": {},
   "outputs": [],
   "source": [
    "def palindrome(num):\n",
    "    temp=num\n",
    "    rev=0\n",
    "    while num!=0:\n",
    "        rem=num%10\n",
    "        rev=rev*10+rem\n",
    "        num=num//10\n",
    "        \n",
    "    if temp==rev:\n",
    "        print(\"Palindrome\")\n",
    "    else:\n",
    "        print(\"Not Plaindrome\")\n",
    "        "
   ]
  },
  {
   "cell_type": "code",
   "execution_count": 22,
   "id": "6f91d7a9",
   "metadata": {},
   "outputs": [
    {
     "name": "stdout",
     "output_type": "stream",
     "text": [
      "Palindrome\n"
     ]
    }
   ],
   "source": [
    "palindrome(121)"
   ]
  },
  {
   "cell_type": "code",
   "execution_count": null,
   "id": "203f2e75",
   "metadata": {},
   "outputs": [],
   "source": [
    "# import modulename\n",
    "# from modulename import things"
   ]
  },
  {
   "cell_type": "code",
   "execution_count": 28,
   "id": "f90a456b",
   "metadata": {},
   "outputs": [
    {
     "ename": "SyntaxError",
     "evalue": "invalid syntax (259061897.py, line 4)",
     "output_type": "error",
     "traceback": [
      "\u001b[1;36m  Input \u001b[1;32mIn [28]\u001b[1;36m\u001b[0m\n\u001b[1;33m    pip install pillow\u001b[0m\n\u001b[1;37m        ^\u001b[0m\n\u001b[1;31mSyntaxError\u001b[0m\u001b[1;31m:\u001b[0m invalid syntax\n"
     ]
    }
   ],
   "source": [
    "# random module\n",
    "# import pillow\n",
    "# pip install modulename\n",
    "# pip install pillow"
   ]
  },
  {
   "cell_type": "code",
   "execution_count": 207,
   "id": "60f458ab",
   "metadata": {},
   "outputs": [
    {
     "data": {
      "text/plain": [
       "0.22534138952969984"
      ]
     },
     "execution_count": 207,
     "metadata": {},
     "output_type": "execute_result"
    }
   ],
   "source": [
    "import random\n",
    "# dir(random)\n",
    "# random.randrange(1,25,5)\n",
    "# random.randint(45,459)\n",
    "# random.choice(\"ebvfjehrvber jhbe vjhre\")\n",
    "# random.choice([1,2,3,4,5,6])\n",
    "# random.choice({1,2,4,5,8,7,9,8,6,15,4,52,15})\n",
    "# random.random()"
   ]
  },
  {
   "cell_type": "code",
   "execution_count": 214,
   "id": "009075f3",
   "metadata": {},
   "outputs": [
    {
     "data": {
      "text/plain": [
       "270"
      ]
     },
     "execution_count": 214,
     "metadata": {},
     "output_type": "execute_result"
    }
   ],
   "source": [
    "import math\n",
    "# math.ceil(5.36)\n",
    "# math.floor(5.36)\n",
    "# math.factorial(5)\n",
    "math.prod({1,2,3,45,2})"
   ]
  },
  {
   "cell_type": "code",
   "execution_count": null,
   "id": "3d1de3e2",
   "metadata": {},
   "outputs": [],
   "source": []
  }
 ],
 "metadata": {
  "kernelspec": {
   "display_name": "Python 3 (ipykernel)",
   "language": "python",
   "name": "python3"
  },
  "language_info": {
   "codemirror_mode": {
    "name": "ipython",
    "version": 3
   },
   "file_extension": ".py",
   "mimetype": "text/x-python",
   "name": "python",
   "nbconvert_exporter": "python",
   "pygments_lexer": "ipython3",
   "version": "3.9.12"
  }
 },
 "nbformat": 4,
 "nbformat_minor": 5
}
