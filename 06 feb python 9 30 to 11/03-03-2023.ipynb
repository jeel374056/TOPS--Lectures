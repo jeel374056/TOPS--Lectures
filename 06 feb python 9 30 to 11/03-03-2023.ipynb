{
 "cells": [
  {
   "cell_type": "markdown",
   "id": "76a7d255",
   "metadata": {},
   "source": [
    "# Dictionary MEthods\n"
   ]
  },
  {
   "cell_type": "code",
   "execution_count": 1,
   "id": "2bdf1722",
   "metadata": {},
   "outputs": [
    {
     "name": "stdout",
     "output_type": "stream",
     "text": [
      "dict_values([2, 48, 125, 45])\n"
     ]
    }
   ],
   "source": [
    "# Values() ---give list of values from the dictionary\n",
    "dict1={1:2,56:48,89:125,36:45}\n",
    "print(dict1.values())"
   ]
  },
  {
   "cell_type": "code",
   "execution_count": 2,
   "id": "74eba7a6",
   "metadata": {},
   "outputs": [
    {
     "name": "stdout",
     "output_type": "stream",
     "text": [
      "dict_keys([1, 56, 89, 36])\n"
     ]
    }
   ],
   "source": [
    "# Keys()--give list of keys from the dictionary\n",
    "dict1={1:2,56:48,89:125,36:45}\n",
    "print(dict1.keys())"
   ]
  },
  {
   "cell_type": "code",
   "execution_count": 3,
   "id": "2780aa82",
   "metadata": {},
   "outputs": [
    {
     "name": "stdout",
     "output_type": "stream",
     "text": [
      "dict_items([(1, 2), (56, 48), (89, 125), (36, 45)])\n"
     ]
    }
   ],
   "source": [
    "# Items()---gives list of tuples and one tuple have only two values one is key\n",
    "# another is value\n",
    "dict1={1:2,56:48,89:125,36:45}\n",
    "print(dict1.items())"
   ]
  },
  {
   "cell_type": "code",
   "execution_count": 5,
   "id": "53919fba",
   "metadata": {},
   "outputs": [
    {
     "name": "stdout",
     "output_type": "stream",
     "text": [
      "{1: 2, 56: 48, 89: 125}\n"
     ]
    }
   ],
   "source": [
    "# pop(key)---remove the element of specified key\n",
    "# popitem()---remove last pair which has been inserted\n",
    "\n",
    "dict1={1:2,56:48,89:125,36:45}\n",
    "# dict1.pop(89)\n",
    "dict1.popitem()\n",
    "print(dict1)"
   ]
  },
  {
   "cell_type": "code",
   "execution_count": 11,
   "id": "55c90219",
   "metadata": {},
   "outputs": [
    {
     "name": "stdout",
     "output_type": "stream",
     "text": [
      "value not found\n",
      "{1: 2, 56: 48, 89: 125, 36: 45}\n"
     ]
    }
   ],
   "source": [
    "# get(key[,value])--it gives the vlaue of the key but if the key is not in \n",
    "# dictionary then it returns none when thers is no second argument of value\n",
    "# and if key is not found and second values is given then that value will be \n",
    "# given\n",
    "\n",
    "dict1={1:2,56:48,89:125,36:45}\n",
    "print(dict1.get(145,\"value not found\"))\n",
    "print(dict1)"
   ]
  },
  {
   "cell_type": "code",
   "execution_count": 14,
   "id": "d9545d25",
   "metadata": {},
   "outputs": [
    {
     "name": "stdout",
     "output_type": "stream",
     "text": [
      "None\n",
      "{1: 2, 56: 48, 89: 125, 36: 45, 125: None}\n"
     ]
    }
   ],
   "source": [
    "# setdefault(key,value)--it gives the vlaue of the key but if the key is not in \n",
    "# dictionary then it returns none when thers is no second argument of value \n",
    "# and also add that key and value in the dictionary \n",
    "# and if key is not found and second values is given then that value will be \n",
    "# given\n",
    "dict1={1:2,56:48,89:125,36:45}\n",
    "print(dict1.setdefault(125))\n",
    "print(dict1)"
   ]
  },
  {
   "cell_type": "code",
   "execution_count": 17,
   "id": "f18f96da",
   "metadata": {},
   "outputs": [
    {
     "name": "stdout",
     "output_type": "stream",
     "text": [
      "{1: 2, 56: 48, 89: 125, 36: 45, 698: 'hello', 45: 'wow'}\n"
     ]
    }
   ],
   "source": [
    "# update(dictionary)--it update the dictiionary\n",
    "dict1={1:2,56:48,89:125,36:45}\n",
    "dict1.update({698:\"hello\",45:\"wow\"})\n",
    "print(dict1)"
   ]
  },
  {
   "cell_type": "code",
   "execution_count": null,
   "id": "0d6815f8",
   "metadata": {},
   "outputs": [],
   "source": [
    "# fromkeys(iterable,value)\n",
    "list1=[1,2,3,4,5,6]\n",
    "val=[1,2]\n",
    "dict1=dict.fromkeys(list1,val)\n",
    "print(dict1)"
   ]
  },
  {
   "cell_type": "markdown",
   "id": "4697d37b",
   "metadata": {},
   "source": [
    "# function in python"
   ]
  },
  {
   "cell_type": "code",
   "execution_count": null,
   "id": "f08f8bc7",
   "metadata": {},
   "outputs": [],
   "source": [
    "def functionanme([parameters]):\n",
    "    body of the function\n",
    "    [return value]"
   ]
  },
  {
   "cell_type": "code",
   "execution_count": 47,
   "id": "99063ffb",
   "metadata": {},
   "outputs": [],
   "source": [
    "def greeting():\n",
    "    a=58\n",
    "    for i in range(1,11):\n",
    "        print(\"good Morning\")"
   ]
  },
  {
   "cell_type": "code",
   "execution_count": 50,
   "id": "6581bd2c",
   "metadata": {},
   "outputs": [
    {
     "ename": "NameError",
     "evalue": "name 'a' is not defined",
     "output_type": "error",
     "traceback": [
      "\u001b[1;31m---------------------------------------------------------------------------\u001b[0m",
      "\u001b[1;31mNameError\u001b[0m                                 Traceback (most recent call last)",
      "Input \u001b[1;32mIn [50]\u001b[0m, in \u001b[0;36m<cell line: 1>\u001b[1;34m()\u001b[0m\n\u001b[1;32m----> 1\u001b[0m \u001b[38;5;28mprint\u001b[39m(\u001b[43ma\u001b[49m)\n",
      "\u001b[1;31mNameError\u001b[0m: name 'a' is not defined"
     ]
    }
   ],
   "source": [
    "print(a)"
   ]
  },
  {
   "cell_type": "code",
   "execution_count": 62,
   "id": "59ba808b",
   "metadata": {},
   "outputs": [],
   "source": [
    "def addition(x,y):\n",
    "    answer=x+y\n",
    "    print(answer)"
   ]
  },
  {
   "cell_type": "code",
   "execution_count": 64,
   "id": "8a73ae81",
   "metadata": {},
   "outputs": [
    {
     "name": "stdout",
     "output_type": "stream",
     "text": [
      "60\n",
      "73\n"
     ]
    }
   ],
   "source": [
    "addition(45,15)\n",
    "addition(48,25)"
   ]
  },
  {
   "cell_type": "code",
   "execution_count": null,
   "id": "c4449859",
   "metadata": {},
   "outputs": [],
   "source": [
    "hello  olleh  not palindrome\n",
    "wow wow --palindrome"
   ]
  },
  {
   "cell_type": "code",
   "execution_count": null,
   "id": "6460efb8",
   "metadata": {},
   "outputs": [],
   "source": [
    "# types of arguments\n",
    "positional argument\n",
    "keyword argument\n",
    "default argument\n",
    "arbitrary agrument\n",
    "arbirary keyword argument"
   ]
  },
  {
   "cell_type": "code",
   "execution_count": 68,
   "id": "e7ebf48d",
   "metadata": {},
   "outputs": [],
   "source": [
    "def fun1(x,y,z):\n",
    "    print(x,y,z)\n",
    "    "
   ]
  },
  {
   "cell_type": "code",
   "execution_count": 73,
   "id": "401243f7",
   "metadata": {},
   "outputs": [
    {
     "name": "stdout",
     "output_type": "stream",
     "text": [
      "14 Hello 33\n"
     ]
    }
   ],
   "source": [
    "fun1(14,\"Hello\",33)"
   ]
  }
 ],
 "metadata": {
  "kernelspec": {
   "display_name": "Python 3 (ipykernel)",
   "language": "python",
   "name": "python3"
  },
  "language_info": {
   "codemirror_mode": {
    "name": "ipython",
    "version": 3
   },
   "file_extension": ".py",
   "mimetype": "text/x-python",
   "name": "python",
   "nbconvert_exporter": "python",
   "pygments_lexer": "ipython3",
   "version": "3.9.12"
  }
 },
 "nbformat": 4,
 "nbformat_minor": 5
}
