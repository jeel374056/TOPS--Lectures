{
 "cells": [
  {
   "cell_type": "code",
   "execution_count": 35,
   "id": "7c309695",
   "metadata": {},
   "outputs": [
    {
     "name": "stdout",
     "output_type": "stream",
     "text": [
      "115\n",
      "144\n",
      "Addition of a and b is 144\n",
      "46\n",
      "1.5\n",
      "%.3f 33.333333333333336\n",
      "1419.4399999999998\n",
      "8\n",
      "2\n",
      "3\n",
      "44\n"
     ]
    }
   ],
   "source": [
    "# rITHMETIC oPERATOR\n",
    "print(85+30)\n",
    "a=96\n",
    "b=48\n",
    "print(a+b)\n",
    "print(f\"Addition of a and b is {a+b}\")\n",
    "print(85-39)\n",
    "print(48/32)\n",
    "print(100/3)\n",
    "# how to control precision in float values in python\n",
    "print(44*32.26)\n",
    "# ** power operator\n",
    "print(2**3)\n",
    "print(26%3) #modulo or modulus operator\n",
    "print(99%24)\n",
    "print(89//2)\n",
    "# how to get ceiling value "
   ]
  },
  {
   "cell_type": "code",
   "execution_count": 46,
   "id": "ef1ae93b",
   "metadata": {},
   "outputs": [
    {
     "name": "stdout",
     "output_type": "stream",
     "text": [
      "33.333\n",
      "33.333\n",
      "33.33\n"
     ]
    }
   ],
   "source": [
    "print(round(100/3,3))\n",
    "print(\"{0:.3f}\".format(100/3))\n",
    "a=100/3\n",
    "print('%.2f'%a)"
   ]
  },
  {
   "cell_type": "code",
   "execution_count": 22,
   "id": "0ebe0c4c",
   "metadata": {},
   "outputs": [
    {
     "name": "stdout",
     "output_type": "stream",
     "text": [
      "False\n",
      "1.0\n",
      "True\n",
      "False\n",
      "False\n"
     ]
    }
   ],
   "source": [
    "# relational operator\n",
    "# 2=2\n",
    "print(48<26)\n",
    "print(float(84>65))\n",
    "print(84<=86)\n",
    "print(84==26)\n",
    "print(89!=89)"
   ]
  },
  {
   "cell_type": "code",
   "execution_count": 27,
   "id": "f4840ecb",
   "metadata": {},
   "outputs": [
    {
     "name": "stdout",
     "output_type": "stream",
     "text": [
      "True\n",
      "False\n",
      "True\n",
      "False\n",
      "True\n"
     ]
    }
   ],
   "source": [
    "print(29<32)\n",
    "print(44>57)\n",
    "print(48>24)\n",
    "print(29<32 and 44>57 and 48>24)\n",
    "print(29<32 or 44>57 and 48>24)"
   ]
  },
  {
   "cell_type": "code",
   "execution_count": 30,
   "id": "782c2cea",
   "metadata": {},
   "outputs": [
    {
     "name": "stdout",
     "output_type": "stream",
     "text": [
      "-110502.25\n",
      "0.75\n",
      "0.75\n"
     ]
    }
   ],
   "source": [
    "print(89+36/48%24-48**3)\n",
    "# ()\tParentheses\n",
    "# **\tExponent\n",
    "# +x, -x, ~x\tUnary plus, Unary minus, Bitwise NOT\n",
    "# *, /, //, %\tMultiplication, Division, Floor division, Modulus\n",
    "# +, -\tAddition, Subtraction\n",
    "# <<, >>\tBitwise shift operators\n",
    "# &\tBitwise AND\n",
    "# ^\tBitwise XOR\n",
    "# |\tBitwise OR\n",
    "# ==, !=, >, >=, <, <=, is, is not, in, not in\tComparisons, Identity, Membership operators\n",
    "# not\tLogical NOT\n",
    "# and\tLogical AND\n",
    "# or\tLogical OR\n",
    "print(36/48)\n",
    "print(0.75%24)"
   ]
  },
  {
   "cell_type": "code",
   "execution_count": 32,
   "id": "b4369847",
   "metadata": {},
   "outputs": [
    {
     "name": "stdout",
     "output_type": "stream",
     "text": [
      "50\n"
     ]
    }
   ],
   "source": [
    "# assignement operators\n",
    "a=48\n",
    "# a=a*2\n",
    "# a+=2 \n",
    "print(a)\n"
   ]
  },
  {
   "cell_type": "code",
   "execution_count": 47,
   "id": "fe88f719",
   "metadata": {},
   "outputs": [
    {
     "name": "stdout",
     "output_type": "stream",
     "text": [
      "59\n"
     ]
    }
   ],
   "source": [
    "a=89\n",
    "b=24\n",
    "a/=4\n",
    "a=a/4\n",
    "a=48+45\n",
    "a=b+35\n",
    "print(a)\n",
    "\n",
    "\n"
   ]
  },
  {
   "cell_type": "code",
   "execution_count": 58,
   "id": "59eae6fb",
   "metadata": {},
   "outputs": [
    {
     "name": "stdout",
     "output_type": "stream",
     "text": [
      "8\n",
      "123\n",
      "81\n",
      "61\n",
      "14\n",
      "344\n",
      "104\n",
      "-83\n"
     ]
    }
   ],
   "source": [
    "print(89&42)\n",
    "print(89|42)\n",
    "print(93&81)\n",
    "print(56|45)\n",
    "print(58>>2)\n",
    "print(86<<2)\n",
    "print(80^56)\n",
    "print(~(82))"
   ]
  }
 ],
 "metadata": {
  "kernelspec": {
   "display_name": "Python 3 (ipykernel)",
   "language": "python",
   "name": "python3"
  },
  "language_info": {
   "codemirror_mode": {
    "name": "ipython",
    "version": 3
   },
   "file_extension": ".py",
   "mimetype": "text/x-python",
   "name": "python",
   "nbconvert_exporter": "python",
   "pygments_lexer": "ipython3",
   "version": "3.9.12"
  }
 },
 "nbformat": 4,
 "nbformat_minor": 5
}
