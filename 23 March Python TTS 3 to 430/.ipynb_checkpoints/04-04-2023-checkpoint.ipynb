{
 "cells": [
  {
   "cell_type": "code",
   "execution_count": null,
   "id": "3271f968",
   "metadata": {},
   "outputs": [],
   "source": [
    "# Loops in python\n",
    "# for loop collections\n",
    "    range()\n",
    "    string\n",
    "    list\n",
    "    tuple \n",
    "    set\n",
    "    dictionary\n",
    "# while loop\n",
    "    condition"
   ]
  },
  {
   "cell_type": "code",
   "execution_count": null,
   "id": "66f6aa5d",
   "metadata": {},
   "outputs": [],
   "source": [
    "# for loop\n",
    "for variable in collection:\n",
    "    body"
   ]
  },
  {
   "cell_type": "code",
   "execution_count": 3,
   "id": "54adc976",
   "metadata": {},
   "outputs": [
    {
     "name": "stdout",
     "output_type": "stream",
     "text": [
      "h\n",
      "e\n",
      "l\n",
      "l\n",
      "o\n",
      " \n",
      "W\n",
      "o\n",
      "r\n",
      "l\n",
      "d\n"
     ]
    }
   ],
   "source": [
    "str1=\"hello World\"\n",
    "for i in str1:\n",
    "    print(i)\n",
    "    "
   ]
  },
  {
   "cell_type": "code",
   "execution_count": 4,
   "id": "ca503b6b",
   "metadata": {},
   "outputs": [
    {
     "name": "stdout",
     "output_type": "stream",
     "text": [
      "Enter A Number: 48\n",
      "1 X 48 = 48\n",
      "2 X 48 = 96\n",
      "3 X 48 = 144\n",
      "4 X 48 = 192\n",
      "5 X 48 = 240\n",
      "6 X 48 = 288\n",
      "7 X 48 = 336\n",
      "8 X 48 = 384\n",
      "9 X 48 = 432\n"
     ]
    }
   ],
   "source": [
    "# range([start,]stop[,step])\n",
    "# by default starts from 0\n",
    "# by deafult step is 1\n",
    "n=int(input(\"Enter A Number: \"))\n",
    "for i in range(1,10):\n",
    "    print(f\"{i} X {n} = {i*n}\")"
   ]
  },
  {
   "cell_type": "code",
   "execution_count": 7,
   "id": "bb496df1",
   "metadata": {},
   "outputs": [
    {
     "name": "stdout",
     "output_type": "stream",
     "text": [
      "range(1, 20, 2)\n",
      "1\n",
      "6\n",
      "11\n",
      "16\n"
     ]
    }
   ],
   "source": [
    "print(range(1,20,2))\n",
    "for i in range(1,20,5):\n",
    "    print(i)"
   ]
  },
  {
   "cell_type": "code",
   "execution_count": 10,
   "id": "c8caf97f",
   "metadata": {},
   "outputs": [
    {
     "name": "stdout",
     "output_type": "stream",
     "text": [
      "5\n",
      "4\n",
      "3\n",
      "2\n",
      "1\n",
      "0\n",
      "-1\n",
      "-2\n",
      "-3\n"
     ]
    }
   ],
   "source": [
    "# -8 -7 -6 -5 -4 -3 -2 -1 0 1 2 3 4 5 6 7 8 9\n",
    "for i in range(5,-4,-1):\n",
    "    print(i)"
   ]
  },
  {
   "cell_type": "code",
   "execution_count": 11,
   "id": "67e7483d",
   "metadata": {},
   "outputs": [
    {
     "name": "stdout",
     "output_type": "stream",
     "text": [
      "2\n",
      "4\n",
      "6\n",
      "8\n",
      "10\n",
      "12\n",
      "14\n",
      "16\n",
      "18\n",
      "20\n",
      "22\n",
      "24\n"
     ]
    }
   ],
   "source": [
    "for i in range(2,26,2):\n",
    "    print(i)"
   ]
  },
  {
   "cell_type": "code",
   "execution_count": null,
   "id": "ae8a1758",
   "metadata": {},
   "outputs": [],
   "source": [
    "9=9*8*7*6*5*4*3*2*1=\n",
    "5="
   ]
  },
  {
   "cell_type": "code",
   "execution_count": 14,
   "id": "00d43db2",
   "metadata": {},
   "outputs": [
    {
     "name": "stdout",
     "output_type": "stream",
     "text": [
      "ENter Number: 4\n",
      "24\n"
     ]
    }
   ],
   "source": [
    "num=int(input(\"ENter Number: \"))\n",
    "fact=1\n",
    "for i in range(1,num+1):\n",
    "    fact=fact*i\n",
    "print(fact)\n",
    "    "
   ]
  }
 ],
 "metadata": {
  "kernelspec": {
   "display_name": "Python 3 (ipykernel)",
   "language": "python",
   "name": "python3"
  },
  "language_info": {
   "codemirror_mode": {
    "name": "ipython",
    "version": 3
   },
   "file_extension": ".py",
   "mimetype": "text/x-python",
   "name": "python",
   "nbconvert_exporter": "python",
   "pygments_lexer": "ipython3",
   "version": "3.9.12"
  }
 },
 "nbformat": 4,
 "nbformat_minor": 5
}
