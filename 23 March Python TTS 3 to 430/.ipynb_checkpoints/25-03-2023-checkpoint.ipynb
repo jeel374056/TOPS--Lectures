{
 "cells": [
  {
   "cell_type": "code",
   "execution_count": null,
   "id": "89a5b3ba",
   "metadata": {},
   "outputs": [],
   "source": [
    "# how to create variables in python\n",
    "# variablename=value \n",
    "# datatype variablename=value   C \n",
    "\n",
    "datatypes are there in python\n",
    "loosely type language\n",
    "variable not need datatypes at the time of declaration\n",
    "\n",
    "variablename our choice but we have to follow some rules\n",
    "\n",
    "age=18\n"
   ]
  },
  {
   "cell_type": "code",
   "execution_count": null,
   "id": "cce0fad4",
   "metadata": {},
   "outputs": [],
   "source": [
    "# Variablenaming rules--identifier rule\n",
    "# 1---first character a-z A-Z _\n",
    "# 2---other characters a-z A-Z _ 0-9\n",
    "\n",
    "# suggestions\n",
    "# 1---use a logical name\n",
    "# 2---don't use space between variablename use _"
   ]
  },
  {
   "cell_type": "code",
   "execution_count": null,
   "id": "2ae92fa9",
   "metadata": {},
   "outputs": [],
   "source": [
    "age=80\n",
    "datatypes in python\n",
    "\n",
    "int ---- 8 9 54 587 545- 89 -859 -565\n",
    "float--- 878 -989 45.32 -98.32 0.231\n",
    "String -'' \" \" ''' ''' \"\"\" \"\"\"\n",
    "boolean ---True Or False first letter should be capital\n",
    "\n"
   ]
  },
  {
   "cell_type": "code",
   "execution_count": 5,
   "id": "301f0508",
   "metadata": {},
   "outputs": [
    {
     "name": "stdout",
     "output_type": "stream",
     "text": [
      "<class 'bool'>\n"
     ]
    }
   ],
   "source": [
    "age=True\n",
    "# type(variablename)--gives datatype of variables\n",
    "print(type(age))"
   ]
  },
  {
   "cell_type": "code",
   "execution_count": 9,
   "id": "f3560665",
   "metadata": {},
   "outputs": [
    {
     "name": "stdout",
     "output_type": "stream",
     "text": [
      "hello 81\n",
      "hello i am 81 rgerg hello wfgwergf81\n"
     ]
    }
   ],
   "source": [
    "# how to use variables inside print()\n",
    "d1=\"hello\"\n",
    "d2=81\n",
    "print(d1,d2)\n",
    "# d1 i am d2\n",
    "# hello i am 81\n",
    "# formatted string\n",
    "print(f\"{d1} i am {d2} rgerg {d1} wfgwergf{d2}\")"
   ]
  },
  {
   "cell_type": "code",
   "execution_count": 12,
   "id": "e33afd7b",
   "metadata": {},
   "outputs": [
    {
     "name": "stdout",
     "output_type": "stream",
     "text": [
      "Enter Your Name: Sachin tendulkar\n",
      "Your name is Sachin tendulkar\n"
     ]
    }
   ],
   "source": [
    "# how to take user input in python\n",
    "# input([\"Message\"])\n",
    "name=input(\"Enter Your Name: \")\n",
    "print(f\"Your name is {name}\")"
   ]
  }
 ],
 "metadata": {
  "kernelspec": {
   "display_name": "Python 3 (ipykernel)",
   "language": "python",
   "name": "python3"
  },
  "language_info": {
   "codemirror_mode": {
    "name": "ipython",
    "version": 3
   },
   "file_extension": ".py",
   "mimetype": "text/x-python",
   "name": "python",
   "nbconvert_exporter": "python",
   "pygments_lexer": "ipython3",
   "version": "3.9.12"
  }
 },
 "nbformat": 4,
 "nbformat_minor": 5
}
