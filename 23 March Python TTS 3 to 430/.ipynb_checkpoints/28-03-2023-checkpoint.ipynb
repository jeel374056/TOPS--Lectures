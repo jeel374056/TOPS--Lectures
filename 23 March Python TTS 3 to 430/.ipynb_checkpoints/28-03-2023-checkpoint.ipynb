{
 "cells": [
  {
   "cell_type": "code",
   "execution_count": 2,
   "id": "dc143b6c",
   "metadata": {},
   "outputs": [
    {
     "name": "stdout",
     "output_type": "stream",
     "text": [
      "20.75\n",
      "20\n"
     ]
    }
   ],
   "source": [
    "# floor division\n",
    "\n",
    "print(83/4)\n",
    "print(83//4)"
   ]
  },
  {
   "cell_type": "code",
   "execution_count": 3,
   "id": "59770164",
   "metadata": {},
   "outputs": [
    {
     "name": "stdout",
     "output_type": "stream",
     "text": [
      "27\n"
     ]
    }
   ],
   "source": [
    "# power operator **\n",
    "print(3**3)"
   ]
  },
  {
   "cell_type": "code",
   "execution_count": 5,
   "id": "16f13580",
   "metadata": {},
   "outputs": [
    {
     "name": "stdout",
     "output_type": "stream",
     "text": [
      "True\n",
      "False\n"
     ]
    }
   ],
   "source": [
    "# relational operator > < >= <= == !=\n",
    "print(89>25)\n",
    "print(33<12)\n"
   ]
  },
  {
   "cell_type": "code",
   "execution_count": 6,
   "id": "e3969cc2",
   "metadata": {},
   "outputs": [
    {
     "name": "stdout",
     "output_type": "stream",
     "text": [
      "True\n"
     ]
    }
   ],
   "source": [
    "print(\"hello\">\"demo\")"
   ]
  },
  {
   "cell_type": "code",
   "execution_count": 7,
   "id": "574ee339",
   "metadata": {},
   "outputs": [
    {
     "name": "stdout",
     "output_type": "stream",
     "text": [
      "Enter your Name: Sugandh Gupta\n",
      "Enter Your Age: 48\n",
      "Enter Your Mobile No. : 9773169303\n",
      "Enter Your Email: suganhdsec112@gmail.com\n",
      "Your Name is Sugandh Gupta\n",
      " Your age is 48\n",
      "Your mobile is 9773169303\n",
      " Your email is suganhdsec112@gmail.com\n"
     ]
    }
   ],
   "source": [
    "name=input(\"Enter your Name: \")\n",
    "age=int(input(\"Enter Your Age: \"))\n",
    "mobile=int(input(\"Enter Your Mobile No. : \"))\n",
    "email=input(\"Enter Your Email: \")\n",
    "print(f\"Your Name is {name}\\nYour age is {age}\\nYour mobile is {mobile}\\nYour email is {email}\")"
   ]
  },
  {
   "cell_type": "code",
   "execution_count": 8,
   "id": "3f0e717a",
   "metadata": {},
   "outputs": [
    {
     "name": "stdout",
     "output_type": "stream",
     "text": [
      "Enter First NAme: Rahul\n",
      "Enter Last name: Sharma\n",
      "Enter Father NAme: Sikhar\n",
      "Your full name is Rahul Sharma Sikhar\n"
     ]
    }
   ],
   "source": [
    "firstname=input(\"Enter First NAme: \")\n",
    "lastname=input(\"Enter Last name: \")\n",
    "fathername=input(\"Enter Father NAme: \")\n",
    "fullname=firstname+\" \"+lastname+\" \"+fathername #string concatenation\n",
    "# your fullname is {fullname}\n",
    "# your full name is firstname lastname fathername\n",
    "print(f\"Your full name is {fullname}\")"
   ]
  },
  {
   "cell_type": "code",
   "execution_count": null,
   "id": "f219523e",
   "metadata": {},
   "outputs": [],
   "source": []
  },
  {
   "cell_type": "code",
   "execution_count": 9,
   "id": "66b85e51",
   "metadata": {},
   "outputs": [
    {
     "name": "stdout",
     "output_type": "stream",
     "text": [
      "\n",
      "Hello ia m good\n",
      "How are you\n",
      "good morning \n"
     ]
    }
   ],
   "source": [
    "str1='''Hello ia m good\n",
    "How are you\n",
    "good morning '''\n",
    "\n",
    "print(str1)"
   ]
  }
 ],
 "metadata": {
  "kernelspec": {
   "display_name": "Python 3 (ipykernel)",
   "language": "python",
   "name": "python3"
  },
  "language_info": {
   "codemirror_mode": {
    "name": "ipython",
    "version": 3
   },
   "file_extension": ".py",
   "mimetype": "text/x-python",
   "name": "python",
   "nbconvert_exporter": "python",
   "pygments_lexer": "ipython3",
   "version": "3.9.12"
  }
 },
 "nbformat": 4,
 "nbformat_minor": 5
}
