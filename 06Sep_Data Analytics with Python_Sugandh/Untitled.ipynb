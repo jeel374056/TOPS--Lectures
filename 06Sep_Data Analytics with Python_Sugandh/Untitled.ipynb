{
 "cells": [
  {
   "cell_type": "code",
   "execution_count": null,
   "id": "20396d24",
   "metadata": {},
   "outputs": [],
   "source": [
    "list=[]\n",
    "list is mutable\n",
    "list is ordered ----indexes\n",
    "list aloow duplicates values\n"
   ]
  },
  {
   "cell_type": "code",
   "execution_count": 9,
   "id": "9206ae04",
   "metadata": {},
   "outputs": [
    {
     "name": "stdout",
     "output_type": "stream",
     "text": [
      "False\n"
     ]
    }
   ],
   "source": [
    "list1=[18,19.7,True,\"Hello\",[1,\"open\",3],(\"hello\",12),{1,2},{1:\"hello\",2:\"world\"},True]\n",
    "list1[4][1]=\"f\"\n",
    "print(\"open\" in list1[4])"
   ]
  },
  {
   "cell_type": "code",
   "execution_count": 27,
   "id": "167686a6",
   "metadata": {},
   "outputs": [
    {
     "name": "stdout",
     "output_type": "stream",
     "text": [
      "2361499972416\n",
      "2361499974784\n",
      "False\n"
     ]
    },
    {
     "data": {
      "text/plain": [
       "2316"
      ]
     },
     "execution_count": 27,
     "metadata": {},
     "output_type": "execute_result"
    }
   ],
   "source": [
    "var1=(1,[1,2])#--immutable\n",
    "var2=(1,[1,2])\n",
    "print(id(var1))\n",
    "print(id(var2))\n",
    "print(var1 is var2)\n",
    "2316"
   ]
  },
  {
   "cell_type": "code",
   "execution_count": 29,
   "id": "2dc8b344",
   "metadata": {},
   "outputs": [
    {
     "ename": "TypeError",
     "evalue": "'>' not supported between instances of 'str' and 'float'",
     "output_type": "error",
     "traceback": [
      "\u001b[1;31m---------------------------------------------------------------------------\u001b[0m",
      "\u001b[1;31mTypeError\u001b[0m                                 Traceback (most recent call last)",
      "Input \u001b[1;32mIn [29]\u001b[0m, in \u001b[0;36m<cell line: 2>\u001b[1;34m()\u001b[0m\n\u001b[0;32m      1\u001b[0m list1\u001b[38;5;241m=\u001b[39m[\u001b[38;5;241m18\u001b[39m,\u001b[38;5;241m19.7\u001b[39m,\u001b[38;5;28;01mTrue\u001b[39;00m,\u001b[38;5;124m\"\u001b[39m\u001b[38;5;124mHello\u001b[39m\u001b[38;5;124m\"\u001b[39m,[\u001b[38;5;241m1\u001b[39m,\u001b[38;5;124m\"\u001b[39m\u001b[38;5;124mopen\u001b[39m\u001b[38;5;124m\"\u001b[39m,\u001b[38;5;241m3\u001b[39m],(\u001b[38;5;124m\"\u001b[39m\u001b[38;5;124mhello\u001b[39m\u001b[38;5;124m\"\u001b[39m,\u001b[38;5;241m12\u001b[39m),{\u001b[38;5;241m1\u001b[39m,\u001b[38;5;241m2\u001b[39m},{\u001b[38;5;241m1\u001b[39m:\u001b[38;5;124m\"\u001b[39m\u001b[38;5;124mhello\u001b[39m\u001b[38;5;124m\"\u001b[39m,\u001b[38;5;241m2\u001b[39m:\u001b[38;5;124m\"\u001b[39m\u001b[38;5;124mworld\u001b[39m\u001b[38;5;124m\"\u001b[39m},\u001b[38;5;28;01mTrue\u001b[39;00m]\n\u001b[1;32m----> 2\u001b[0m \u001b[38;5;28mprint\u001b[39m(\u001b[38;5;28;43mmax\u001b[39;49m\u001b[43m(\u001b[49m\u001b[43mlist1\u001b[49m\u001b[43m)\u001b[49m)\n",
      "\u001b[1;31mTypeError\u001b[0m: '>' not supported between instances of 'str' and 'float'"
     ]
    }
   ],
   "source": [
    "list1=[18,19.7,True,\"Hello\",[1,\"open\",3],(\"hello\",12),{1,2},{1:\"hello\",2:\"world\"},True]\n",
    "print(max(list1))"
   ]
  },
  {
   "cell_type": "code",
   "execution_count": 37,
   "id": "1193a26d",
   "metadata": {},
   "outputs": [
    {
     "ename": "TypeError",
     "evalue": "'<' not supported between instances of 'int' and 'str'",
     "output_type": "error",
     "traceback": [
      "\u001b[1;31m---------------------------------------------------------------------------\u001b[0m",
      "\u001b[1;31mTypeError\u001b[0m                                 Traceback (most recent call last)",
      "Input \u001b[1;32mIn [37]\u001b[0m, in \u001b[0;36m<cell line: 4>\u001b[1;34m()\u001b[0m\n\u001b[0;32m      2\u001b[0m list3\u001b[38;5;241m=\u001b[39m[\u001b[38;5;124m\"\u001b[39m\u001b[38;5;124mhello\u001b[39m\u001b[38;5;124m\"\u001b[39m,\u001b[38;5;124m\"\u001b[39m\u001b[38;5;124mworld\u001b[39m\u001b[38;5;124m\"\u001b[39m,\u001b[38;5;124m\"\u001b[39m\u001b[38;5;124mHii\u001b[39m\u001b[38;5;124m\"\u001b[39m,\u001b[38;5;124m\"\u001b[39m\u001b[38;5;124mBamboo\u001b[39m\u001b[38;5;124m\"\u001b[39m]\n\u001b[0;32m      3\u001b[0m list4\u001b[38;5;241m=\u001b[39m[\u001b[38;5;124m\"\u001b[39m\u001b[38;5;124mhello\u001b[39m\u001b[38;5;124m\"\u001b[39m,\u001b[38;5;241m15\u001b[39m]\n\u001b[1;32m----> 4\u001b[0m \u001b[38;5;28mprint\u001b[39m(\u001b[38;5;28;43mmin\u001b[39;49m\u001b[43m(\u001b[49m\u001b[43mlist4\u001b[49m\u001b[43m)\u001b[49m)\n",
      "\u001b[1;31mTypeError\u001b[0m: '<' not supported between instances of 'int' and 'str'"
     ]
    }
   ],
   "source": [
    "list2=[1,2,3,4,5,6.9,12.8,458,369.2]\n",
    "list3=[\"hello\",\"world\",\"Hii\",\"Bamboo\"]\n",
    "list4=[\"hello\",15]\n",
    "print(min(list4))"
   ]
  },
  {
   "cell_type": "code",
   "execution_count": 44,
   "id": "9f74bf91",
   "metadata": {},
   "outputs": [
    {
     "name": "stdout",
     "output_type": "stream",
     "text": [
      "['hello', 'How', 'Re', 'you']\n"
     ]
    }
   ],
   "source": [
    "str1=\"hello How Re you\"\n",
    "list1=list(str1.split(\" \"))\n",
    "print(list1)"
   ]
  },
  {
   "cell_type": "code",
   "execution_count": 55,
   "id": "33a4f748",
   "metadata": {},
   "outputs": [
    {
     "name": "stdout",
     "output_type": "stream",
     "text": [
      "[1, 2, 3, 4, 5, 6, (1, 2)]\n"
     ]
    }
   ],
   "source": [
    "list1=[1,2,3,4,5,6]\n",
    "list1.append((1,2))#add values at last of list\n",
    "print(list1)"
   ]
  },
  {
   "cell_type": "code",
   "execution_count": 49,
   "id": "8b9a0963",
   "metadata": {},
   "outputs": [
    {
     "name": "stdout",
     "output_type": "stream",
     "text": [
      "[1, 2, 3, 4, 5, 6, 1, 2]\n"
     ]
    }
   ],
   "source": [
    "list1=[1,2,3,4,5,6]\n",
    "list1.extend((1,2))#add values at last of list but values must be a collection or a sequence\n",
    "print(list1)"
   ]
  },
  {
   "cell_type": "code",
   "execution_count": 53,
   "id": "9f7218d4",
   "metadata": {},
   "outputs": [
    {
     "name": "stdout",
     "output_type": "stream",
     "text": [
      "[1, 2, 3, 4, 56, 'Hello']\n"
     ]
    }
   ],
   "source": [
    "list1=[1,2,3,4,56]\n",
    "list1.insert(9,\"Hello\")\n",
    "print(list1)"
   ]
  },
  {
   "cell_type": "code",
   "execution_count": 57,
   "id": "e6ed6473",
   "metadata": {},
   "outputs": [
    {
     "name": "stdout",
     "output_type": "stream",
     "text": [
      "[1, 2, 4, 56]\n"
     ]
    }
   ],
   "source": [
    "list1=[1,2,3,4,56]\n",
    "list1.pop(2)#if we not give any index then by default it emoves last eleemnt\n",
    "print(list1)"
   ]
  },
  {
   "cell_type": "code",
   "execution_count": 63,
   "id": "274dfe72",
   "metadata": {},
   "outputs": [
    {
     "name": "stdout",
     "output_type": "stream",
     "text": [
      "[1, 2, 3, 56, 4, 5, 6, 4, 2, 4, 2, 4]\n"
     ]
    }
   ],
   "source": [
    "list1=[1,2,3,4,56,4,5,6,4,2,4,2,4]\n",
    "list1.remove(4)#it remves particular element at first encounter and if we not give anyu value then typeerror \n",
    "print(list1)#if value is not in list then also valueerror"
   ]
  },
  {
   "cell_type": "code",
   "execution_count": 65,
   "id": "f508489a",
   "metadata": {},
   "outputs": [
    {
     "data": {
      "text/plain": [
       "0"
      ]
     },
     "execution_count": 65,
     "metadata": {},
     "output_type": "execute_result"
    }
   ],
   "source": [
    "list1=[1,2,3,4,56,4,5,6,4,2,4,2,4]\n",
    "list1.count(559)#count the value inside list if not in list then gives 0"
   ]
  },
  {
   "cell_type": "code",
   "execution_count": 67,
   "id": "5da5fbba",
   "metadata": {},
   "outputs": [
    {
     "ename": "ValueError",
     "evalue": "499 is not in list",
     "output_type": "error",
     "traceback": [
      "\u001b[1;31m---------------------------------------------------------------------------\u001b[0m",
      "\u001b[1;31mValueError\u001b[0m                                Traceback (most recent call last)",
      "Input \u001b[1;32mIn [67]\u001b[0m, in \u001b[0;36m<cell line: 2>\u001b[1;34m()\u001b[0m\n\u001b[0;32m      1\u001b[0m list1\u001b[38;5;241m=\u001b[39m[\u001b[38;5;241m1\u001b[39m,\u001b[38;5;241m2\u001b[39m,\u001b[38;5;241m3\u001b[39m,\u001b[38;5;241m4\u001b[39m,\u001b[38;5;241m56\u001b[39m,\u001b[38;5;241m4\u001b[39m,\u001b[38;5;241m5\u001b[39m,\u001b[38;5;241m6\u001b[39m,\u001b[38;5;241m4\u001b[39m,\u001b[38;5;241m2\u001b[39m,\u001b[38;5;241m4\u001b[39m,\u001b[38;5;241m2\u001b[39m,\u001b[38;5;241m4\u001b[39m]\n\u001b[1;32m----> 2\u001b[0m \u001b[43mlist1\u001b[49m\u001b[38;5;241;43m.\u001b[39;49m\u001b[43mindex\u001b[49m\u001b[43m(\u001b[49m\u001b[38;5;241;43m499\u001b[39;49m\u001b[43m)\u001b[49m\n",
      "\u001b[1;31mValueError\u001b[0m: 499 is not in list"
     ]
    }
   ],
   "source": [
    "list1=[1,2,3,4,56,4,5,6,4,2,4,2,4]\n",
    "list1.index(499)#gives the index number of value mention first encountered but if we give value which is not in list then it gives valueerror"
   ]
  },
  {
   "cell_type": "code",
   "execution_count": 70,
   "id": "30899c25",
   "metadata": {},
   "outputs": [
    {
     "name": "stdout",
     "output_type": "stream",
     "text": [
      "[74, 65, 57, 9, 8, 8, 7, 6, 5, 5, 4, 4, 4]\n"
     ]
    }
   ],
   "source": [
    "list1=[4,5,6,8,7,9,8,4,57,4,5,74,65]\n",
    "list1.sort(reverse=True)\n",
    "print(list1)"
   ]
  },
  {
   "cell_type": "code",
   "execution_count": 72,
   "id": "8cd4d7f7",
   "metadata": {},
   "outputs": [
    {
     "name": "stdout",
     "output_type": "stream",
     "text": [
      "[65, 74, 5, 4, 57, 4, 8, 9, 7, 8, 6, 5, 4]\n"
     ]
    }
   ],
   "source": [
    "list1=[4,5,6,8,7,9,8,4,57,4,5,74,65]\n",
    "list1.reverse()\n",
    "print(list1)"
   ]
  },
  {
   "cell_type": "code",
   "execution_count": 74,
   "id": "37fc2ede",
   "metadata": {},
   "outputs": [
    {
     "name": "stdout",
     "output_type": "stream",
     "text": [
      "Enter nyumber1: 1\n",
      "Enter nyumber2: 2\n",
      "Enter nyumber3: 3\n",
      "Enter nyumber4: 4\n",
      "Enter nyumber5: 5\n",
      "[1, 2, 3, 4, 5]\n"
     ]
    }
   ],
   "source": [
    "var1=int(input(\"Enter nyumber1: \"))\n",
    "var2=int(input(\"Enter nyumber2: \"))\n",
    "var3=int(input(\"Enter nyumber3: \"))\n",
    "var4=int(input(\"Enter nyumber4: \"))\n",
    "var5=int(input(\"Enter nyumber5: \"))\n",
    "list1=[var1,var2,var3,var4,var5]\n",
    "print(list1)"
   ]
  },
  {
   "cell_type": "code",
   "execution_count": 76,
   "id": "40c2b1b4",
   "metadata": {},
   "outputs": [
    {
     "name": "stdout",
     "output_type": "stream",
     "text": [
      "enter Number of values you want to enter in list8\n",
      "Enter Value: 55\n",
      "[55]\n",
      "Enter Value: 25\n",
      "[55, 25]\n",
      "Enter Value: 65\n",
      "[55, 25, 65]\n",
      "Enter Value: 89\n",
      "[55, 25, 65, 89]\n",
      "Enter Value: 78\n",
      "[55, 25, 65, 89, 78]\n",
      "Enter Value: 36\n",
      "[55, 25, 65, 89, 78, 36]\n",
      "Enter Value: 12\n",
      "[55, 25, 65, 89, 78, 36, 12]\n",
      "Enter Value: 48\n",
      "[55, 25, 65, 89, 78, 36, 12, 48]\n",
      "[55, 25, 65, 89, 78, 36, 12, 48]\n"
     ]
    }
   ],
   "source": [
    "list1=[]\n",
    "num1=int(input(\"enter Number of values you want to enter in list\"))\n",
    "for i in range(num1):\n",
    "    value=int(input(\"Enter Value: \"))\n",
    "    list1.append(value)\n",
    "    print(list1)\n",
    "print(list1)"
   ]
  },
  {
   "cell_type": "code",
   "execution_count": null,
   "id": "17dddb94",
   "metadata": {},
   "outputs": [],
   "source": [
    "tuple=()\n",
    "list is immutable\n",
    "list is ordered ----indexes\n",
    "list aloow duplicates values"
   ]
  },
  {
   "cell_type": "code",
   "execution_count": 85,
   "id": "c1eb372a",
   "metadata": {},
   "outputs": [
    {
     "name": "stdout",
     "output_type": "stream",
     "text": [
      "(1, 2.9, 'hello', [1, 2, 3.9])\n"
     ]
    }
   ],
   "source": [
    "tup1=(1,2.9,\"hello\",[1,2,3])\n",
    "tup1[3][2]=3.9\n",
    "print(tup1)"
   ]
  },
  {
   "cell_type": "code",
   "execution_count": 79,
   "id": "c8180ee9",
   "metadata": {},
   "outputs": [
    {
     "data": {
      "text/plain": [
       "'l'"
      ]
     },
     "execution_count": 79,
     "metadata": {},
     "output_type": "execute_result"
    }
   ],
   "source": [
    "string1=\"hello\"\n",
    "string1[2]"
   ]
  },
  {
   "cell_type": "code",
   "execution_count": null,
   "id": "cdc4bbb3",
   "metadata": {},
   "outputs": [],
   "source": [
    "set={1,2}\n",
    "set has no index no ordered\n",
    "set doesn't contain duplicates values\n",
    "set is immutable but it is mutable with help of some methods of sets\n",
    "\n"
   ]
  },
  {
   "cell_type": "code",
   "execution_count": 93,
   "id": "707346db",
   "metadata": {},
   "outputs": [
    {
     "name": "stdout",
     "output_type": "stream",
     "text": [
      "<class 'list'>\n",
      "<class 'tuple'>\n",
      "<class 'set'>\n"
     ]
    }
   ],
   "source": [
    "list1=[1]\n",
    "tup1=(\"hello\",)\n",
    "set1={1}\n",
    "print(type(list1))\n",
    "print(type(tup1))\n",
    "print(type(set1))"
   ]
  },
  {
   "cell_type": "code",
   "execution_count": 94,
   "id": "b00691cb",
   "metadata": {},
   "outputs": [
    {
     "name": "stdout",
     "output_type": "stream",
     "text": [
      "[64, 1, 2, 3, 4, 5, 6, 74, 42, 45, 15, 464, 21]\n"
     ]
    }
   ],
   "source": [
    "list1=[1,2,3,4,5,64,2,15,4,5,74,21,5,42,42,45,464,1,4,5,2,3,6,5]\n",
    "set1=set(list1)\n",
    "list1=list(set1)\n",
    "print(list1)\n",
    "print(set.)"
   ]
  }
 ],
 "metadata": {
  "kernelspec": {
   "display_name": "Python 3 (ipykernel)",
   "language": "python",
   "name": "python3"
  },
  "language_info": {
   "codemirror_mode": {
    "name": "ipython",
    "version": 3
   },
   "file_extension": ".py",
   "mimetype": "text/x-python",
   "name": "python",
   "nbconvert_exporter": "python",
   "pygments_lexer": "ipython3",
   "version": "3.9.12"
  }
 },
 "nbformat": 4,
 "nbformat_minor": 5
}
