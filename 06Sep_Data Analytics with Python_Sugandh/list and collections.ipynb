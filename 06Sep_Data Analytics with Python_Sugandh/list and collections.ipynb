{
 "cells": [
  {
   "cell_type": "code",
   "execution_count": null,
   "id": "20396d24",
   "metadata": {},
   "outputs": [],
   "source": [
    "list=[]\n",
    "list is mutable\n",
    "list is ordered ----indexes\n",
    "list aloow duplicates values\n"
   ]
  },
  {
   "cell_type": "code",
   "execution_count": null,
   "id": "9206ae04",
   "metadata": {},
   "outputs": [],
   "source": [
    "list1=[18,19.7,True,\"Hello\",[1,\"open\",3],(\"hello\",12),{1,2},{1:\"hello\",2:\"world\"},True]\n",
    "list1[4][1]=\"f\"\n",
    "print(\"open\" in list1[4])"
   ]
  },
  {
   "cell_type": "code",
   "execution_count": null,
   "id": "167686a6",
   "metadata": {},
   "outputs": [],
   "source": [
    "var1=(1,[1,2])#--immutable\n",
    "var2=(1,[1,2])\n",
    "print(id(var1))\n",
    "print(id(var2))\n",
    "print(var1 is var2)\n",
    "2316"
   ]
  },
  {
   "cell_type": "code",
   "execution_count": null,
   "id": "2dc8b344",
   "metadata": {},
   "outputs": [],
   "source": [
    "list1=[18,19.7,True,\"Hello\",[1,\"open\",3],(\"hello\",12),{1,2},{1:\"hello\",2:\"world\"},True]\n",
    "print(max(list1))"
   ]
  },
  {
   "cell_type": "code",
   "execution_count": null,
   "id": "1193a26d",
   "metadata": {},
   "outputs": [],
   "source": [
    "list2=[1,2,3,4,5,6.9,12.8,458,369.2]\n",
    "list3=[\"hello\",\"world\",\"Hii\",\"Bamboo\"]\n",
    "list4=[\"hello\",15]\n",
    "print(min(list4))"
   ]
  },
  {
   "cell_type": "code",
   "execution_count": null,
   "id": "9f74bf91",
   "metadata": {},
   "outputs": [],
   "source": [
    "str1=\"hello How Re you\"\n",
    "list1=list(str1.split(\" \"))\n",
    "print(list1)"
   ]
  },
  {
   "cell_type": "code",
   "execution_count": null,
   "id": "33a4f748",
   "metadata": {},
   "outputs": [],
   "source": [
    "list1=[1,2,3,4,5,6]\n",
    "list1.append((1,2))#add values at last of list\n",
    "print(list1)"
   ]
  },
  {
   "cell_type": "code",
   "execution_count": null,
   "id": "8b9a0963",
   "metadata": {},
   "outputs": [],
   "source": [
    "list1=[1,2,3,4,5,6]\n",
    "list1.extend((1,2))#add values at last of list but values must be a collection or a sequence\n",
    "print(list1)"
   ]
  },
  {
   "cell_type": "code",
   "execution_count": null,
   "id": "9f7218d4",
   "metadata": {},
   "outputs": [],
   "source": [
    "list1=[1,2,3,4,56]\n",
    "list1.insert(9,\"Hello\")\n",
    "print(list1)"
   ]
  },
  {
   "cell_type": "code",
   "execution_count": null,
   "id": "e6ed6473",
   "metadata": {},
   "outputs": [],
   "source": [
    "list1=[1,2,3,4,56]\n",
    "list1.pop(2)#if we not give any index then by default it emoves last eleemnt\n",
    "print(list1)"
   ]
  },
  {
   "cell_type": "code",
   "execution_count": null,
   "id": "274dfe72",
   "metadata": {},
   "outputs": [],
   "source": [
    "list1=[1,2,3,4,56,4,5,6,4,2,4,2,4]\n",
    "list1.remove(4)#it remves particular element at first encounter and if we not give anyu value then typeerror \n",
    "print(list1)#if value is not in list then also valueerror"
   ]
  },
  {
   "cell_type": "code",
   "execution_count": null,
   "id": "f508489a",
   "metadata": {},
   "outputs": [],
   "source": [
    "list1=[1,2,3,4,56,4,5,6,4,2,4,2,4]\n",
    "list1.count(559)#count the value inside list if not in list then gives 0"
   ]
  },
  {
   "cell_type": "code",
   "execution_count": null,
   "id": "5da5fbba",
   "metadata": {},
   "outputs": [],
   "source": [
    "list1=[1,2,3,4,56,4,5,6,4,2,4,2,4]\n",
    "list1.index(499)#gives the index number of value mention first encountered but if we give value which is not in list then it gives valueerror"
   ]
  },
  {
   "cell_type": "code",
   "execution_count": null,
   "id": "30899c25",
   "metadata": {},
   "outputs": [],
   "source": [
    "list1=[4,5,6,8,7,9,8,4,57,4,5,74,65]\n",
    "list1.sort(reverse=True)\n",
    "print(list1)"
   ]
  },
  {
   "cell_type": "code",
   "execution_count": 1,
   "id": "8cd4d7f7",
   "metadata": {},
   "outputs": [
    {
     "name": "stdout",
     "output_type": "stream",
     "text": [
      "[65, 74, 5, 4, 57, 4, 8, 9, 7, 8, 6, 5, 4]\n"
     ]
    }
   ],
   "source": [
    "list1=[4,5,6,8,7,9,8,4,57,4,5,74,65]\n",
    "list1.reverse()\n",
    "print(list1)"
   ]
  },
  {
   "cell_type": "code",
   "execution_count": null,
   "id": "37fc2ede",
   "metadata": {},
   "outputs": [],
   "source": [
    "var1=int(input(\"Enter nyumber1: \"))\n",
    "var2=int(input(\"Enter nyumber2: \"))\n",
    "var3=int(input(\"Enter nyumber3: \"))\n",
    "var4=int(input(\"Enter nyumber4: \"))\n",
    "var5=int(input(\"Enter nyumber5: \"))\n",
    "list1=[var1,var2,var3,var4,var5]\n",
    "print(list1)"
   ]
  },
  {
   "cell_type": "code",
   "execution_count": null,
   "id": "40c2b1b4",
   "metadata": {},
   "outputs": [],
   "source": [
    "list1=[]\n",
    "num1=int(input(\"enter Number of values you want to enter in list\"))\n",
    "for i in range(num1):\n",
    "    value=int(input(\"Enter Value: \"))\n",
    "    list1.append(value)\n",
    "    print(list1)\n",
    "print(list1)"
   ]
  },
  {
   "cell_type": "code",
   "execution_count": null,
   "id": "17dddb94",
   "metadata": {},
   "outputs": [],
   "source": [
    "tuple=()\n",
    "list is immutable\n",
    "list is ordered ----indexes\n",
    "list aloow duplicates values"
   ]
  },
  {
   "cell_type": "code",
   "execution_count": null,
   "id": "c1eb372a",
   "metadata": {},
   "outputs": [],
   "source": [
    "tup1=(1,2.9,\"hello\",[1,2,3])\n",
    "tup1[3][2]=3.9\n",
    "print(tup1)"
   ]
  },
  {
   "cell_type": "code",
   "execution_count": null,
   "id": "c8180ee9",
   "metadata": {},
   "outputs": [],
   "source": [
    "string1=\"hello\"\n",
    "string1[2]"
   ]
  },
  {
   "cell_type": "code",
   "execution_count": null,
   "id": "cdc4bbb3",
   "metadata": {},
   "outputs": [],
   "source": [
    "set={1,2}\n",
    "set has no index no ordered\n",
    "set doesn't contain duplicates values\n",
    "set is immutable but it is mutable with help of some methods of sets\n",
    "\n"
   ]
  },
  {
   "cell_type": "code",
   "execution_count": null,
   "id": "707346db",
   "metadata": {},
   "outputs": [],
   "source": [
    "list1=[1]\n",
    "tup1=(\"hello\",)\n",
    "set1={1}\n",
    "print(type(list1))\n",
    "print(type(tup1))\n",
    "print(type(set1))"
   ]
  },
  {
   "cell_type": "code",
   "execution_count": null,
   "id": "b00691cb",
   "metadata": {},
   "outputs": [],
   "source": [
    "list1=[1,2,3,4,5,64,2,15,4,5,74,21,5,42,42,45,464,1,4,5,2,3,6,5]\n",
    "set1=set(list1)\n",
    "list1=list(set1)\n",
    "print(list1)\n",
    "print(set.)"
   ]
  },
  {
   "cell_type": "code",
   "execution_count": null,
   "id": "8fa0fa00",
   "metadata": {},
   "outputs": [],
   "source": [
    "n= int(input(\"Enter number of entries\"))\n",
    "for i in range(n):\n",
    "    a= int(input(\"enter a number:\"))\n",
    "    print ([a])"
   ]
  },
  {
   "cell_type": "code",
   "execution_count": null,
   "id": "d24d215a",
   "metadata": {},
   "outputs": [],
   "source": [
    "stack1=[]\n",
    "print(\"1-Entry\\n2-Remove\\n3-exit\")\n",
    "while(True):\n",
    "    n=int(input(\"Enter Your Choice: \"))\n",
    "    if n==3:\n",
    "        break;\n",
    "    elif n==1:\n",
    "        entrynum=int(input(\"enter Your Number: \"))\n",
    "        stack1.append(entrynum)\n",
    "        print(stack1)\n",
    "    elif n==2:\n",
    "        if len(stack1)>0:\n",
    "            stack1.pop(0)\n",
    "            print(stack1)  \n",
    "        else:\n",
    "            print(stack1)  \n",
    "            print(\"Can't Remove from an empty Stack\")\n",
    "    else:\n",
    "        print(\"please provide a Useful Input\")\n",
    "print(\"Thanks For Chosing\")"
   ]
  },
  {
   "cell_type": "code",
   "execution_count": null,
   "id": "e9537724",
   "metadata": {},
   "outputs": [],
   "source": []
  },
  {
   "cell_type": "code",
   "execution_count": null,
   "id": "af3dbef0",
   "metadata": {},
   "outputs": [],
   "source": [
    "thisset = {\"apple\", \"banana\", \"cherry\"}\n",
    "tropical =[1,2]\n",
    "\n",
    "thisset.update(tropical)\n",
    "\n",
    "print(thisset)"
   ]
  },
  {
   "cell_type": "code",
   "execution_count": null,
   "id": "c1a5a3db",
   "metadata": {},
   "outputs": [],
   "source": [
    "thisset = {\"apple\", \"banana\", \"cherry\"}\n",
    "\n",
    "thisset.discard(\"chickoo\")\n",
    "\n",
    "print(thisset)"
   ]
  },
  {
   "cell_type": "code",
   "execution_count": null,
   "id": "9439ff44",
   "metadata": {},
   "outputs": [],
   "source": [
    "if 1\n",
    "elif 2\n",
    "elif 3\n",
    "elif 4\n",
    "elif 5\n",
    "else 6\n",
    "\n",
    "switch\n",
    "case\n"
   ]
  },
  {
   "cell_type": "code",
   "execution_count": null,
   "id": "0daf221f",
   "metadata": {},
   "outputs": [],
   "source": [
    "thisset = {\"apple\", \"banana\", \"cherry\"}\n",
    "\n",
    "x = thisset.copy()\n",
    "\n",
    "print(x)\n",
    "\n",
    "print(thisset)"
   ]
  },
  {
   "cell_type": "code",
   "execution_count": null,
   "id": "5803a284",
   "metadata": {},
   "outputs": [],
   "source": [
    "thisset = {\"apple\", \"banana\", \"cherry\"}\n",
    "\n",
    "del thisset\n",
    "\n",
    "print(thisset)\n",
    "# {}"
   ]
  },
  {
   "cell_type": "code",
   "execution_count": null,
   "id": "30a25dc5",
   "metadata": {},
   "outputs": [],
   "source": [
    "a={1,2,3,4}\n",
    "b={2,4,5,9}\n",
    "a.difference_update(b)\n",
    "print(a)\n",
    "print(b)\n",
    "print(y)"
   ]
  },
  {
   "cell_type": "code",
   "execution_count": null,
   "id": "2f56f6a9",
   "metadata": {},
   "outputs": [],
   "source": [
    "dict1={1:1,1.1:2.1,\"hello\":\"string\",1:[3,4],(1,2):(1,2),4.9:{3,4},\"dict\":{4:5}}\n",
    "b=dict1.items()\n",
    "c=dict1.values()\n",
    "\n",
    "print(b)\n",
    "print(c)\n",
    "\n",
    "# key will always be of immutable datatypes\n",
    "# values can be of any type"
   ]
  },
  {
   "cell_type": "code",
   "execution_count": null,
   "id": "26e5d18c",
   "metadata": {},
   "outputs": [],
   "source": [
    "x = ['key1', 'key2', 'key3']\n",
    "y =(1,2,3)\n",
    "\n",
    "thisdict = dict.fromkeys(x,y)\n",
    "\n",
    "print(thisdict)"
   ]
  },
  {
   "cell_type": "code",
   "execution_count": null,
   "id": "d0d41f33",
   "metadata": {},
   "outputs": [],
   "source": [
    "car = {\n",
    "  \"brand\": \"Ford\",\n",
    "  \"model\": \"Mustang\",\n",
    "  \"year\": 1964\n",
    "}\n",
    "# print(car['sunday']\n",
    "x = car.get(\"model\",\"Value\")\n",
    "\n",
    "print(x)"
   ]
  },
  {
   "cell_type": "code",
   "execution_count": null,
   "id": "486a1840",
   "metadata": {},
   "outputs": [],
   "source": [
    "car = {\n",
    "  \"brand\": \"Ford\",\n",
    "  \"model\": \"Mustang\",\n",
    "  \"year\": 1964\n",
    "}\n",
    "\n",
    "x = car.popitem()\n",
    "\n",
    "print(x)"
   ]
  },
  {
   "cell_type": "code",
   "execution_count": null,
   "id": "0ff66e34",
   "metadata": {},
   "outputs": [],
   "source": [
    "car = {\n",
    "  \"brand\": \"Ford\",\n",
    "  \"model\": \"Mustang\",\n",
    "  \"year\": 1964\n",
    "}\n",
    "\n",
    "x = car.setdefault(\"color\", \"white\")\n",
    "\n",
    "print(car)"
   ]
  },
  {
   "cell_type": "code",
   "execution_count": null,
   "id": "300ff1e6",
   "metadata": {},
   "outputs": [],
   "source": [
    "def function_name([paramters/arguments]):\n",
    "    body\n",
    "   [ return ]"
   ]
  },
  {
   "cell_type": "code",
   "execution_count": 2,
   "id": "5321534a",
   "metadata": {},
   "outputs": [
    {
     "name": "stdout",
     "output_type": "stream",
     "text": [
      "hello world\n"
     ]
    }
   ],
   "source": [
    "def fun1(x,y): #parameters\n",
    "    print(x,y)\n",
    "#     print(\"Hello world\")\n",
    "#     x=10\n",
    "#     print(x)\n",
    "#     fun1()\n",
    "    #function definition\n",
    "m=\"hello\"\n",
    "n=\"world\"\n",
    "fun1(m,n)#-function calling  #arguments\n",
    "# print()"
   ]
  },
  {
   "cell_type": "code",
   "execution_count": null,
   "id": "ecdfc401",
   "metadata": {},
   "outputs": [],
   "source": []
  }
 ],
 "metadata": {
  "kernelspec": {
   "display_name": "Python 3 (ipykernel)",
   "language": "python",
   "name": "python3"
  },
  "language_info": {
   "codemirror_mode": {
    "name": "ipython",
    "version": 3
   },
   "file_extension": ".py",
   "mimetype": "text/x-python",
   "name": "python",
   "nbconvert_exporter": "python",
   "pygments_lexer": "ipython3",
   "version": "3.9.12"
  }
 },
 "nbformat": 4,
 "nbformat_minor": 5
}
