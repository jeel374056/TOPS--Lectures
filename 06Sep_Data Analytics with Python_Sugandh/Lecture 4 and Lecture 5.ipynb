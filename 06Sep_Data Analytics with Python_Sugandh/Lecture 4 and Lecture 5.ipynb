{
 "cells": [
  {
   "cell_type": "code",
   "execution_count": null,
   "id": "67168b80",
   "metadata": {},
   "outputs": [],
   "source": [
    "for loop----sequences/collections:\n",
    "    string\n",
    "    list\n",
    "    tuple\n",
    "    set\n",
    "    dictionary\n",
    "    range()\n",
    "while loop\n",
    "    our choice "
   ]
  },
  {
   "cell_type": "code",
   "execution_count": null,
   "id": "28dff9f4",
   "metadata": {},
   "outputs": [],
   "source": []
  },
  {
   "cell_type": "code",
   "execution_count": null,
   "id": "497d7670",
   "metadata": {},
   "outputs": [],
   "source": [
    "# for loop\n",
    "# syntax:\n",
    "for i in collection/sequence:\n",
    "    body\n",
    "    \n"
   ]
  },
  {
   "cell_type": "code",
   "execution_count": null,
   "id": "0ee71779",
   "metadata": {},
   "outputs": [],
   "source": [
    "for i in \"hello world\":\n",
    "    print(1+10)"
   ]
  },
  {
   "cell_type": "code",
   "execution_count": null,
   "id": "bed2afc7",
   "metadata": {},
   "outputs": [],
   "source": [
    "range()----limits\n",
    "\n",
    "range([start],stop,[step])\n",
    "range(-3,5,1)---staring is inclusive,ending is exclusive\n",
    "+--from left to right\n",
    "-=>Right to left\n",
    "if step not mention its by default +1\n",
    "\n",
    "start by default value is 0\n",
    "-6 -5 -4 -3 -2 -1 0 1 2 3 4 5 6"
   ]
  },
  {
   "cell_type": "code",
   "execution_count": null,
   "id": "03096eb3",
   "metadata": {},
   "outputs": [],
   "source": [
    "for i in range(6):\n",
    "    print(i)"
   ]
  },
  {
   "cell_type": "code",
   "execution_count": null,
   "id": "faa2205b",
   "metadata": {},
   "outputs": [],
   "source": [
    "*\n",
    "**\n",
    "***\n",
    "****\n",
    "*****"
   ]
  },
  {
   "cell_type": "code",
   "execution_count": null,
   "id": "7ffd128c",
   "metadata": {},
   "outputs": [],
   "source": [
    "for i in range(1,6):\n",
    "    print(\"*\"*i)"
   ]
  },
  {
   "cell_type": "code",
   "execution_count": null,
   "id": "aada5a56",
   "metadata": {},
   "outputs": [],
   "source": [
    "for i in [1,\"hello\",True]:\n",
    "    print(i)"
   ]
  },
  {
   "cell_type": "code",
   "execution_count": null,
   "id": "46593511",
   "metadata": {},
   "outputs": [],
   "source": [
    "for i in range(1,10):#--1---2---3\n",
    "    for j in range(1,4):#1 2 3 1 2 3 1 2 3\n",
    "        print(i*j)"
   ]
  },
  {
   "cell_type": "code",
   "execution_count": null,
   "id": "4f7feed4",
   "metadata": {},
   "outputs": [],
   "source": [
    "# syntax:\n",
    "while condition:\n",
    "    expression"
   ]
  },
  {
   "cell_type": "code",
   "execution_count": null,
   "id": "a43f9e95",
   "metadata": {},
   "outputs": [],
   "source": [
    "i=1\n",
    "while i<=10:\n",
    "    print(i)\n",
    "    i+=2"
   ]
  },
  {
   "cell_type": "code",
   "execution_count": null,
   "id": "79fb280b",
   "metadata": {},
   "outputs": [],
   "source": [
    "for i in range(1,15):\n",
    "    if i==8:\n",
    "        continue\n",
    "    print(i)\n",
    "    \n",
    "    \n",
    "    \n",
    "    \n",
    "    "
   ]
  },
  {
   "cell_type": "code",
   "execution_count": null,
   "id": "a8e23746",
   "metadata": {},
   "outputs": [],
   "source": [
    "if 10<20:\n",
    "    pass\n",
    "else:\n",
    "    print(\"Greater\")"
   ]
  },
  {
   "cell_type": "code",
   "execution_count": null,
   "id": "1830e88b",
   "metadata": {},
   "outputs": [],
   "source": [
    "# control statements\n",
    "break\n",
    "continue\n",
    "\n",
    "\n",
    "pass"
   ]
  },
  {
   "cell_type": "code",
   "execution_count": null,
   "id": "05ae30cf",
   "metadata": {},
   "outputs": [],
   "source": [
    "string=\"hello\"\n",
    "str2='hello'\n",
    "print(string)\n",
    "print(str2)"
   ]
  },
  {
   "cell_type": "code",
   "execution_count": null,
   "id": "513a2284",
   "metadata": {},
   "outputs": [],
   "source": [
    "string='''WOW its' gr\"eat to meet you hello i am great\n",
    "it so nice'''\n",
    "'''jgdjkhgdgd\n",
    "hdh\n",
    "fd\n",
    "hd\n",
    "hd\n",
    "h'''\n",
    "print(string)"
   ]
  },
  {
   "cell_type": "code",
   "execution_count": null,
   "id": "13837f83",
   "metadata": {},
   "outputs": [],
   "source": [
    "'''retgerterhy\n",
    "et\n",
    "yer\n",
    "tye\n",
    "ye\n",
    "'''"
   ]
  },
  {
   "cell_type": "code",
   "execution_count": null,
   "id": "bacbf373",
   "metadata": {},
   "outputs": [],
   "source": [
    "# value accessing\n",
    "\n",
    "str1=\"Hello I am learning Python In tops Technologies\"\n",
    "# str1[0]=\"k\""
   ]
  },
  {
   "cell_type": "code",
   "execution_count": null,
   "id": "4514c97e",
   "metadata": {},
   "outputs": [],
   "source": [
    "str2=\"%ops technologi%$^$%^es\"\n",
    "print(str2.capitalize())#capitalize the first letter of string\n",
    "print(str2)"
   ]
  },
  {
   "cell_type": "code",
   "execution_count": null,
   "id": "e29fe3d3",
   "metadata": {},
   "outputs": [],
   "source": [
    "str2=\"tops TechnOIfjeifjHθαFjkehsdfHDGHGDHGD\"\n",
    "print(str2.casefold())#changes every letter of string to lowercase"
   ]
  },
  {
   "cell_type": "code",
   "execution_count": null,
   "id": "7803f512",
   "metadata": {},
   "outputs": [],
   "source": [
    "str2=\"tops TechnOIfjeifjHFjθkα^$%^$6ehsdfHDGHGD^$%^$HGD\"\n",
    "print(str2.lower())#changes every letter of string to lowercase\n",
    "# print(str2.)"
   ]
  },
  {
   "cell_type": "code",
   "execution_count": null,
   "id": "09ab1bc5",
   "metadata": {},
   "outputs": [],
   "source": [
    "str3=input(\"Enter String\")\n",
    "width=int(input(\"Enter Width : \"))\n",
    "character=input(\"Enter Fillings: \")\n",
    "print(str3.center(width,character))#puts string into center and fill the spaces with character if we mention"
   ]
  },
  {
   "cell_type": "code",
   "execution_count": null,
   "id": "a53b99f5",
   "metadata": {},
   "outputs": [],
   "source": [
    "str4=\"Alphabet is a Collection Aplhabets not a Number\"\n",
    "print(str4.count(\"Collection\",150,30))"
   ]
  },
  {
   "cell_type": "code",
   "execution_count": null,
   "id": "a30bc3fe",
   "metadata": {},
   "outputs": [],
   "source": [
    "str4=\"Alphabet is a Collection Aplhabets not a Number\"\n",
    "print(str4.endswith(\"r\",150,20))"
   ]
  },
  {
   "cell_type": "code",
   "execution_count": null,
   "id": "e52a55a7",
   "metadata": {},
   "outputs": [],
   "source": [
    "str4=\"Alphabet is a Collection Aplhabets not a Number\"\n",
    "print(str4.find(\"is f\"))#doesn't gives error when not match found but gives -1 as a result"
   ]
  },
  {
   "cell_type": "code",
   "execution_count": null,
   "id": "43dfbb1f",
   "metadata": {},
   "outputs": [],
   "source": [
    "str4=\"Alphabet is a Collection Aplhabets not a Number\"\n",
    "print(str4.index(\"is f\"))#gives error when not match found"
   ]
  },
  {
   "cell_type": "code",
   "execution_count": 1,
   "id": "4f0d5490",
   "metadata": {},
   "outputs": [
    {
     "name": "stdout",
     "output_type": "stream",
     "text": [
      "wow\n"
     ]
    }
   ],
   "source": [
    "# owerriting\n",
    "# str4=\"hello\"\n",
    "# list1=[\"heelo\",\"world\"]\n",
    "# str4.join(list1)\n",
    "list2=[\"h\",\"e\",\"r\",\"o\"]\n",
    "# # str5=str(list1)\n",
    "str5=\"wow\"\n",
    "str5.join(list2)\n",
    "print(str5)"
   ]
  },
  {
   "cell_type": "code",
   "execution_count": 12,
   "id": "7e8e6da2",
   "metadata": {},
   "outputs": [
    {
     "name": "stdout",
     "output_type": "stream",
     "text": [
      "hwowewowrwowo\n"
     ]
    }
   ],
   "source": [
    "str5=\"wow\"\n",
    "list2=[\"h\",\"e\",\"r\",\"o\"]\n",
    "str5=str5.join(list2)\n",
    "print(str5)"
   ]
  },
  {
   "cell_type": "code",
   "execution_count": 4,
   "id": "f69f29c8",
   "metadata": {},
   "outputs": [
    {
     "data": {
      "text/plain": [
       "10"
      ]
     },
     "execution_count": 4,
     "metadata": {},
     "output_type": "execute_result"
    }
   ],
   "source": [
    "num1=10\n",
    "num1"
   ]
  },
  {
   "cell_type": "code",
   "execution_count": 14,
   "id": "b1f4d495",
   "metadata": {},
   "outputs": [
    {
     "name": "stdout",
     "output_type": "stream",
     "text": [
      "Enter StringSurat\n",
      "Enter Width : 55\n",
      "Enter Fillings: /\n",
      "//////////////////////////////////////////////////Surat\n"
     ]
    }
   ],
   "source": [
    "str3=input(\"Enter String\")\n",
    "width=int(input(\"Enter Width : \"))\n",
    "character=input(\"Enter Fillings: \")\n",
    "print(str3.rjust(width,character))#puts string into center and fill the spaces with character if we mention"
   ]
  },
  {
   "cell_type": "code",
   "execution_count": 17,
   "id": "fbf1e965",
   "metadata": {},
   "outputs": [
    {
     "name": "stdout",
     "output_type": "stream",
     "text": [
      "('Alphabet is a ', 'Collection', ' Aplhabets not a Number')\n"
     ]
    }
   ],
   "source": [
    "str4=\"Alphabet is a Collection Aplhabets not a Number\"\n",
    "print(str4.partition(\"Collection\"))"
   ]
  },
  {
   "cell_type": "code",
   "execution_count": 26,
   "id": "ecff8bbb",
   "metadata": {},
   "outputs": [
    {
     "name": "stdout",
     "output_type": "stream",
     "text": [
      "Alphabet is a *lection Aplhabets not a Number\n",
      "Alphabet is a Collection Aplhabets not a Number\n"
     ]
    }
   ],
   "source": [
    "str4=\"Alphabet is a Collection Aplhabets not a Number\"\n",
    "print(str4.replace(\"Col\",\"*\",2))\n",
    "print(str4)"
   ]
  },
  {
   "cell_type": "code",
   "execution_count": 29,
   "id": "229aa17c",
   "metadata": {},
   "outputs": [
    {
     "name": "stdout",
     "output_type": "stream",
     "text": [
      "['Alphabet is a Collection Aplhabets not a Number']\n"
     ]
    }
   ],
   "source": [
    "str4=\"Alphabet is a Collection Aplhabets not a Number\"\n",
    "print(str4.split(\"z\",2))"
   ]
  },
  {
   "cell_type": "code",
   "execution_count": 30,
   "id": "571884b8",
   "metadata": {},
   "outputs": [
    {
     "name": "stdout",
     "output_type": "stream",
     "text": [
      "aLPHABET IS A cOLLECTION aPLHABETS NOT A nUMBER\n"
     ]
    }
   ],
   "source": [
    "str4=\"Alphabet is a Collection Aplhabets not a Number\"\n",
    "print(str4.swapcase())"
   ]
  },
  {
   "cell_type": "code",
   "execution_count": 31,
   "id": "9a08d90a",
   "metadata": {},
   "outputs": [
    {
     "name": "stdout",
     "output_type": "stream",
     "text": [
      "Hello I Am Fool What About You\n"
     ]
    }
   ],
   "source": [
    "str5=\"hello I am Fool what about you\"\n",
    "print(str5.title())"
   ]
  },
  {
   "cell_type": "code",
   "execution_count": 24,
   "id": "3928d319",
   "metadata": {},
   "outputs": [
    {
     "name": "stdout",
     "output_type": "stream",
     "text": [
      "True\n",
      "True\n",
      "True\n"
     ]
    }
   ],
   "source": [
    "str6=\"45\"\n",
    "print(str6.isdigit())\n",
    "print(str6.isnumeric())\n",
    "print(str6.isdecimal())"
   ]
  },
  {
   "cell_type": "code",
   "execution_count": 34,
   "id": "e94202d3",
   "metadata": {},
   "outputs": [
    {
     "name": "stdout",
     "output_type": "stream",
     "text": [
      "hello  python\n"
     ]
    }
   ],
   "source": [
    "str8=\"hello\\tpython\"\n",
    "print(str8.(7))"
   ]
  },
  {
   "cell_type": "code",
   "execution_count": 31,
   "id": "7ad07394",
   "metadata": {},
   "outputs": [
    {
     "name": "stdout",
     "output_type": "stream",
     "text": [
      "H\te\tl\tl\to\n",
      "H       e       l       l       o\n",
      "H e l l o\n",
      "H   e   l   l   o\n",
      "H         e         l         l         o\n"
     ]
    }
   ],
   "source": [
    "txt = \"H\\te\\tl\\tl\\to\"\n",
    "    \n",
    "print(txt)\n",
    "print(txt.expandndtabs())\n",
    "print(txt.expandtabs(2))\n",
    "print(txt.expandtabs(4))\n",
    "print(txt.expandtabs(10))\n",
    "H         e         l         l         o"
   ]
  },
  {
   "cell_type": "code",
   "execution_count": 25,
   "id": "2a1fdd2f",
   "metadata": {},
   "outputs": [
    {
     "name": "stdout",
     "output_type": "stream",
     "text": [
      "b'My name is St\\\\xe5le'\n",
      "b'My name is Stle'\n",
      "b'My name is St\\\\N{LATIN SMALL LETTER A WITH RING ABOVE}le'\n",
      "b'My name is St?le'\n",
      "b'My name is St&#229;le'\n"
     ]
    }
   ],
   "source": [
    "txt = \"My name is Ståle\"\n",
    "\n",
    "print(txt.encode(encoding=\"ascii\",errors=\"backslashreplace\"))\n",
    "print(txt.encode(encoding=\"ascii\",errors=\"ignore\"))\n",
    "print(txt.encode(encoding=\"ascii\",errors=\"namereplace\"))\n",
    "print(txt.encode(encoding=\"ascii\",errors=\"replace\"))\n",
    "print(txt.encode(encoding=\"ascii\",errors=\"xmlcharrefreplace\"))"
   ]
  }
 ],
 "metadata": {
  "kernelspec": {
   "display_name": "Python 3 (ipykernel)",
   "language": "python",
   "name": "python3"
  },
  "language_info": {
   "codemirror_mode": {
    "name": "ipython",
    "version": 3
   },
   "file_extension": ".py",
   "mimetype": "text/x-python",
   "name": "python",
   "nbconvert_exporter": "python",
   "pygments_lexer": "ipython3",
   "version": "3.9.12"
  }
 },
 "nbformat": 4,
 "nbformat_minor": 5
}
