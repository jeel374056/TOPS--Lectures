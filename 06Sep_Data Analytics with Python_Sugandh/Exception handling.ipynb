{
 "cells": [
  {
   "cell_type": "code",
   "execution_count": null,
   "id": "83a11a3c",
   "metadata": {},
   "outputs": [],
   "source": [
    "a = (\"John\", \"Charles\", \"Mike\")\n",
    "b = (\"Jenny\", \"Christy\", \"Monica\", \"Vicky\")\n",
    "\n",
    "x = zip(a, b)\n",
    "\n",
    "#use the tuple() function to display a readable version of the result:\n",
    "\n",
    "x\n",
    "\n",
    "    "
   ]
  },
  {
   "cell_type": "code",
   "execution_count": null,
   "id": "1d6f2c58",
   "metadata": {},
   "outputs": [],
   "source": [
    "1 11\n",
    "2 12\n",
    "3 13\n",
    "\n",
    "for i in range(1,10)"
   ]
  },
  {
   "cell_type": "code",
   "execution_count": null,
   "id": "384a285f",
   "metadata": {},
   "outputs": [],
   "source": [
    "lot=[(1,2,3),(\"hello1\",True,4.9)]\n",
    "for i in lot:\n",
    "    list(i)"
   ]
  },
  {
   "cell_type": "code",
   "execution_count": null,
   "id": "de567a6c",
   "metadata": {},
   "outputs": [],
   "source": [
    "Exception handling:\n",
    "    try\n",
    "    except\n",
    "    finally"
   ]
  },
  {
   "cell_type": "code",
   "execution_count": null,
   "id": "98268473",
   "metadata": {},
   "outputs": [],
   "source": [
    "try:\n",
    "    a=10\n",
    "    b=0\n",
    "    print(\"Before Error\")\n",
    "    print(a/b)\n",
    "    print(\"heloo\")\n",
    "except:\n",
    "    print(\"Not divide by zero\")\n",
    "finally:\n",
    "    print(\"No matters what happened before\")"
   ]
  },
  {
   "cell_type": "code",
   "execution_count": null,
   "id": "20666437",
   "metadata": {},
   "outputs": [],
   "source": [
    "try:\n",
    "    a=10\n",
    "    print(a/b)\n",
    "except:\n",
    "    pass\n",
    "# except:\n",
    "#     print(\"Some error\")\n",
    "# finally:\n",
    "#     del a,b"
   ]
  },
  {
   "cell_type": "code",
   "execution_count": null,
   "id": "e5fcb814",
   "metadata": {},
   "outputs": [],
   "source": [
    "raise"
   ]
  },
  {
   "cell_type": "code",
   "execution_count": null,
   "id": "85a372ab",
   "metadata": {},
   "outputs": [],
   "source": [
    "print(a)\n",
    "print(b)"
   ]
  },
  {
   "cell_type": "code",
   "execution_count": null,
   "id": "9769dcfa",
   "metadata": {},
   "outputs": [],
   "source": [
    "try:\n",
    "    a=int(input(\"Enter Number\"))\n",
    "    b=int(input(\"Enter Number\"))\n",
    "    print(a/b)\n",
    "except ValueError:\n",
    "     print(\"Only Numbers Allowed\")\n",
    "except ZeroDivisionError:\n",
    "    print(\"Second value can't be 0\")"
   ]
  },
  {
   "cell_type": "code",
   "execution_count": null,
   "id": "3dcd4e9d",
   "metadata": {},
   "outputs": [],
   "source": [
    "try:\n",
    "    a=10\n",
    "    b=0\n",
    "    print(a/b)\n",
    "except:\n",
    "    b=\"hello\"\n",
    "    print(a/b)"
   ]
  },
  {
   "cell_type": "code",
   "execution_count": null,
   "id": "8431a290",
   "metadata": {},
   "outputs": [],
   "source": [
    "a=int(input(\"Enter Number\"))\n",
    "b=int(input(\"enter number\"))\n",
    "if a<b:\n",
    "    raise ZeroDivisionError(\"A is smaller so this happened\")\n",
    "else:\n",
    "    print(\"hello\")"
   ]
  },
  {
   "cell_type": "code",
   "execution_count": null,
   "id": "2cefe183",
   "metadata": {},
   "outputs": [],
   "source": [
    "fop=open(\"file45.txt\",\"w\")\n",
    "fop.write(\"hello\\nI am learning python\\nat tops technologies\\nvarachha surat\")\n",
    "fop.close()"
   ]
  },
  {
   "cell_type": "code",
   "execution_count": 1,
   "id": "cc83d7bf",
   "metadata": {},
   "outputs": [
    {
     "name": "stdout",
     "output_type": "stream",
     "text": [
      "hello\n",
      "I am learning python\n",
      "at tops technologies\n",
      "varachha surat\n"
     ]
    }
   ],
   "source": [
    "fop=open(\"file45.txt\",\"r\")\n",
    "# print(fop.read())\n",
    "a=fop.read()\n",
    "fop.close()\n",
    "print(a)"
   ]
  },
  {
   "cell_type": "code",
   "execution_count": 2,
   "id": "fccfa530",
   "metadata": {},
   "outputs": [],
   "source": [
    "fop=open(\"file46.txt\",\"w\")\n",
    "fop.write(a)\n",
    "fop.close()"
   ]
  },
  {
   "cell_type": "code",
   "execution_count": 3,
   "id": "3cb0e012",
   "metadata": {},
   "outputs": [
    {
     "name": "stdout",
     "output_type": "stream",
     "text": [
      "hello\n",
      "I am learning python\n",
      "at tops technologies\n",
      "varachha surat\n"
     ]
    }
   ],
   "source": [
    "fop=open(\"file46.txt\",\"r\")\n",
    "print(fop.read())\n",
    "fop.close()"
   ]
  },
  {
   "cell_type": "code",
   "execution_count": 5,
   "id": "e01c92ba",
   "metadata": {},
   "outputs": [
    {
     "name": "stdout",
     "output_type": "stream",
     "text": [
      "16\n"
     ]
    }
   ],
   "source": [
    "fop=open(\"file45.txt\",\"a\")\n",
    "a=\"hsdjkhfkshfsdjkf\"\n",
    "fop.write(a)\n",
    "print(a)\n",
    "fop.close()"
   ]
  },
  {
   "cell_type": "code",
   "execution_count": 6,
   "id": "d820864b",
   "metadata": {},
   "outputs": [],
   "source": [
    "fop=open(\"file45.txt\",\"a\")\n",
    "fop1=open(\"file46.txt\",\"a\")\n",
    "a=\"hello\"\n",
    "fop.write(a)\n",
    "fop1.write(a)\n",
    "fop.close()\n",
    "fop1.close()"
   ]
  }
 ],
 "metadata": {
  "kernelspec": {
   "display_name": "Python 3 (ipykernel)",
   "language": "python",
   "name": "python3"
  },
  "language_info": {
   "codemirror_mode": {
    "name": "ipython",
    "version": 3
   },
   "file_extension": ".py",
   "mimetype": "text/x-python",
   "name": "python",
   "nbconvert_exporter": "python",
   "pygments_lexer": "ipython3",
   "version": "3.9.12"
  }
 },
 "nbformat": 4,
 "nbformat_minor": 5
}
