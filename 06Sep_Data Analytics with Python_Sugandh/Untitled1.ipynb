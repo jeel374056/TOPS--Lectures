{
 "cells": [
  {
   "cell_type": "code",
   "execution_count": null,
   "id": "7410835b",
   "metadata": {},
   "outputs": [],
   "source": [
    "functions"
   ]
  },
  {
   "cell_type": "code",
   "execution_count": null,
   "id": "f520df11",
   "metadata": {},
   "outputs": [],
   "source": [
    "def fun1():\n",
    "\n",
    "    return \"Nice\"\n",
    "\n",
    "print(fun1())"
   ]
  },
  {
   "cell_type": "code",
   "execution_count": null,
   "id": "7fe95f6c",
   "metadata": {},
   "outputs": [],
   "source": [
    "types of functions\n",
    "1-function with no paramter and no return value\n",
    "1-function with paramter and no return value\n",
    "1-function with paramter and return value\n",
    "1-function with no paramter and return value"
   ]
  },
  {
   "cell_type": "code",
   "execution_count": null,
   "id": "a60397ad",
   "metadata": {},
   "outputs": [],
   "source": [
    "def fun1():\n",
    "    a=10\n",
    "    b=30\n",
    "    ans=a/b\n",
    "    print(ans)\n",
    "    \n",
    "print(fun1())"
   ]
  },
  {
   "cell_type": "code",
   "execution_count": null,
   "id": "93046e7b",
   "metadata": {},
   "outputs": [],
   "source": [
    "def fun1(a,b,c):\n",
    "    ans=a/b\n",
    "    print(ans)\n",
    "    \n",
    "    \n",
    "x=10\n",
    "y=30\n",
    "print(fun1(40,50,50))\n",
    "# fun1(x,y)"
   ]
  },
  {
   "cell_type": "code",
   "execution_count": null,
   "id": "396250c5",
   "metadata": {},
   "outputs": [],
   "source": [
    "def fun1(a,b,c):\n",
    "    ans=a/b\n",
    "    return ans\n",
    "\n",
    "a=fun1(10,20,54)\n",
    "print(fun1(10,20,54))"
   ]
  },
  {
   "cell_type": "code",
   "execution_count": null,
   "id": "72150f37",
   "metadata": {},
   "outputs": [],
   "source": [
    "def fun2():\n",
    "    a=50\n",
    "    b=20\n",
    "    ans=a/b\n",
    "    return ans\n",
    "x=10\n",
    "y=30\n",
    "a=fun2()\n",
    "print(a)"
   ]
  },
  {
   "cell_type": "code",
   "execution_count": null,
   "id": "339eca93",
   "metadata": {},
   "outputs": [],
   "source": [
    "positional argument \n",
    "keyword argument\n",
    "default argument\n",
    "arbitrary argument\n",
    "arbitrary keyword argument"
   ]
  },
  {
   "cell_type": "code",
   "execution_count": null,
   "id": "3adebfa9",
   "metadata": {},
   "outputs": [],
   "source": [
    "def fun6(x,y,z):\n",
    "    sum2=x+y+z\n",
    "    print(x,y,z)\n",
    "    print(sum2)\n",
    "    \n",
    "fun6(40,z=50,y=90)\n",
    "\n"
   ]
  },
  {
   "cell_type": "code",
   "execution_count": null,
   "id": "18958509",
   "metadata": {},
   "outputs": [],
   "source": [
    "def fun6(x,y,z):\n",
    "    sum2=x+y+z\n",
    "    print(x,y,z)\n",
    "    print(sum2)\n",
    "    \n",
    "fun6(40,z=50,y=90)"
   ]
  },
  {
   "cell_type": "code",
   "execution_count": null,
   "id": "f4adb605",
   "metadata": {},
   "outputs": [],
   "source": [
    "def fun6(y,z,x=10):\n",
    "    sum2=x+y+z\n",
    "    print(x,y,z)\n",
    "    print(sum2)\n",
    "    \n",
    "fun6(35,40,98,45)"
   ]
  },
  {
   "cell_type": "code",
   "execution_count": null,
   "id": "e8090824",
   "metadata": {},
   "outputs": [],
   "source": [
    "def fun8(y,z,*k,x=10):\n",
    "    print(x,y,z,k)\n",
    "    sum4=x+y+z\n",
    "    print(k)\n",
    "    print(sum4)\n",
    "fun8(10,20,30,90,50,40,x=10)"
   ]
  },
  {
   "cell_type": "code",
   "execution_count": null,
   "id": "be24d271",
   "metadata": {},
   "outputs": [],
   "source": [
    "def fun4():\n",
    "    global x\n",
    "    x=50\n",
    "    print(x)\n",
    "#     sum1=x+y+z+n\n",
    "#     return sum1\n",
    "\n",
    "# x=10\n",
    "y=20\n",
    "z=30\n",
    "n=40\n",
    "\n",
    "fun4()\n",
    "print(x)\n",
    "# print(val)\n",
    "\n",
    "print(x)"
   ]
  },
  {
   "cell_type": "code",
   "execution_count": 2,
   "id": "ca10785f",
   "metadata": {},
   "outputs": [
    {
     "name": "stdout",
     "output_type": "stream",
     "text": [
      "69 48 96 96 {'k': 50, 'p': 45, 'r': 98, 'h': 45}\n"
     ]
    }
   ],
   "source": [
    "def fun8(y,z,n,m,**p):\n",
    "    print(y,z,n,m,p)\n",
    "fun8(k=50,p=45,r=98,z=48,m=96,n=96,y=69,h=45)"
   ]
  },
  {
   "cell_type": "code",
   "execution_count": 5,
   "id": "04625a4e",
   "metadata": {},
   "outputs": [
    {
     "name": "stdout",
     "output_type": "stream",
     "text": [
      "10 20\n",
      "<class 'function'>\n"
     ]
    }
   ],
   "source": [
    "# lambda functions:\n",
    "n=lambda x,y : print(x,y)\n",
    "n(10,20)\n",
    "print(type(n))"
   ]
  }
 ],
 "metadata": {
  "kernelspec": {
   "display_name": "Python 3 (ipykernel)",
   "language": "python",
   "name": "python3"
  },
  "language_info": {
   "codemirror_mode": {
    "name": "ipython",
    "version": 3
   },
   "file_extension": ".py",
   "mimetype": "text/x-python",
   "name": "python",
   "nbconvert_exporter": "python",
   "pygments_lexer": "ipython3",
   "version": "3.9.12"
  }
 },
 "nbformat": 4,
 "nbformat_minor": 5
}
