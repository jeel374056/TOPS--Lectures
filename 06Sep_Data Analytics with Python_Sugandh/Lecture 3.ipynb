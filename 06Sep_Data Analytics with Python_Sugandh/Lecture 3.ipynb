{
 "cells": [
  {
   "cell_type": "code",
   "execution_count": 20,
   "id": "fa004a1a",
   "metadata": {},
   "outputs": [
    {
     "name": "stdout",
     "output_type": "stream",
     "text": [
      "Good Morning! rahul How are you? and You are young at age 18 gender is Male\n"
     ]
    }
   ],
   "source": [
    "name=\"rahul\"\n",
    "age=18\n",
    "gender=\"Male\"\n",
    "str1=f\"Good Morning! {name} How are you? and You are young at age {age} gender is {gender}\"\n",
    "print(str1,)"
   ]
  },
  {
   "cell_type": "code",
   "execution_count": null,
   "id": "6dbc972c",
   "metadata": {},
   "outputs": [],
   "source": [
    "Operands\n",
    "Operators\n",
    "\n",
    "2+3\n",
    "2 operands\n",
    "+ operators"
   ]
  },
  {
   "cell_type": "code",
   "execution_count": 24,
   "id": "afee2372",
   "metadata": {},
   "outputs": [
    {
     "name": "stdout",
     "output_type": "stream",
     "text": [
      "hellowow\n"
     ]
    }
   ],
   "source": [
    "print(\"hello\"+\"wow\")"
   ]
  },
  {
   "cell_type": "code",
   "execution_count": 33,
   "id": "a8a34e71",
   "metadata": {},
   "outputs": [
    {
     "name": "stdout",
     "output_type": "stream",
     "text": [
      "16\n"
     ]
    }
   ],
   "source": [
    "print(2**4)"
   ]
  },
  {
   "cell_type": "code",
   "execution_count": 41,
   "id": "9ce8b2fe",
   "metadata": {},
   "outputs": [
    {
     "name": "stdout",
     "output_type": "stream",
     "text": [
      "Enter number1: 10\n",
      "Enter number2: 20\n",
      "answer is  0.5\n"
     ]
    }
   ],
   "source": [
    "#program to divide\n",
    "num1=int(input(\"Enter number1: \"))\n",
    "num2=int(input(\"Enter number2: \"))\n",
    "print(\"answer is \",num1/num2)\n",
    "\n",
    "# Exception handling"
   ]
  },
  {
   "cell_type": "code",
   "execution_count": 42,
   "id": "c56666e9",
   "metadata": {},
   "outputs": [
    {
     "name": "stdout",
     "output_type": "stream",
     "text": [
      "65\n"
     ]
    }
   ],
   "source": [
    "a=55\n",
    "a=a-10#long hand notation\n",
    "a-=10#short hand notation\n",
    "a=a+10\n",
    "print(a)"
   ]
  },
  {
   "cell_type": "code",
   "execution_count": 51,
   "id": "bb0d51df",
   "metadata": {},
   "outputs": [
    {
     "name": "stdout",
     "output_type": "stream",
     "text": [
      "False\n"
     ]
    }
   ],
   "source": [
    "print(not 10<20 )"
   ]
  },
  {
   "cell_type": "code",
   "execution_count": 55,
   "id": "1f4ad87f",
   "metadata": {},
   "outputs": [
    {
     "name": "stdout",
     "output_type": "stream",
     "text": [
      "False\n"
     ]
    }
   ],
   "source": [
    "print(\"Hello\"==\"hello\")"
   ]
  },
  {
   "cell_type": "code",
   "execution_count": 58,
   "id": "64eb4a59",
   "metadata": {},
   "outputs": [
    {
     "name": "stdout",
     "output_type": "stream",
     "text": [
      "False\n"
     ]
    }
   ],
   "source": [
    "print(\"wew\">\"wollo\")\n",
    "# print(119>72)"
   ]
  },
  {
   "cell_type": "code",
   "execution_count": 65,
   "id": "ebc0058b",
   "metadata": {},
   "outputs": [
    {
     "name": "stdout",
     "output_type": "stream",
     "text": [
      "False\n"
     ]
    }
   ],
   "source": [
    "a=10\n",
    "b=20\n",
    "print(a is b)"
   ]
  },
  {
   "cell_type": "code",
   "execution_count": 75,
   "id": "7c46abc6",
   "metadata": {},
   "outputs": [
    {
     "name": "stdout",
     "output_type": "stream",
     "text": [
      "False\n"
     ]
    }
   ],
   "source": [
    "#Integer--numbers\n",
    "#Float---decimal Numbers\n",
    "#boolean--True/False\n",
    "# String---\"\",'',\"\"\"\"\"\",''''''----0\n",
    "# list-[]--mutable--changes allowed--0---duplicates\n",
    "# tuple-()---immutable--changes not allowed---0---duplicates\n",
    "# set--{}---duplicates not allowed---set theory\n",
    "# dictionary--{}---Key value pair {\"name\":\"Sugandh\",\"rollno\":14}\n",
    "\n",
    "a=\"hello i am Learning Python\"\n",
    "print(\"wow\" in a)"
   ]
  },
  {
   "cell_type": "code",
   "execution_count": null,
   "id": "db44fba7",
   "metadata": {},
   "outputs": [],
   "source": [
    "# Syntax:\n",
    "if condition:\n",
    "    Body part of if \n",
    "    having multiple lines\n"
   ]
  },
  {
   "cell_type": "code",
   "execution_count": 19,
   "id": "1386fc2b",
   "metadata": {},
   "outputs": [
    {
     "name": "stdout",
     "output_type": "stream",
     "text": [
      "Enter Age to check for Voting: 18\n",
      "Wow You are now adult Please vote!!!\n",
      "Not able to Vote\n"
     ]
    }
   ],
   "source": [
    "\n",
    "age=int(input(\"Enter Age to check for Voting: \"))\n",
    "if age>=18 and age<59:\n",
    "    print(\"Wow You are now adult Please vote!!!\")\n",
    "# else:\n",
    "#     print(\"Not able to Vote\")\n",
    "print(\"Not able to Vote\")"
   ]
  },
  {
   "cell_type": "code",
   "execution_count": 16,
   "id": "a5c7be1a",
   "metadata": {},
   "outputs": [
    {
     "name": "stdout",
     "output_type": "stream",
     "text": [
      "Enter Number :0\n",
      "Zero\n"
     ]
    }
   ],
   "source": [
    "num1=int(input(\"Enter Number :\"))\n",
    "if num1>0:\n",
    "    \n",
    "    \n",
    "elif num1<0:\n",
    "    print(\"negative\")\n",
    "elif num1==0:\n",
    "    print(\"Zero\")\n",
    "    \n",
    "Nest (ghosla)"
   ]
  }
 ],
 "metadata": {
  "kernelspec": {
   "display_name": "Python 3 (ipykernel)",
   "language": "python",
   "name": "python3"
  },
  "language_info": {
   "codemirror_mode": {
    "name": "ipython",
    "version": 3
   },
   "file_extension": ".py",
   "mimetype": "text/x-python",
   "name": "python",
   "nbconvert_exporter": "python",
   "pygments_lexer": "ipython3",
   "version": "3.9.12"
  }
 },
 "nbformat": 4,
 "nbformat_minor": 5
}
