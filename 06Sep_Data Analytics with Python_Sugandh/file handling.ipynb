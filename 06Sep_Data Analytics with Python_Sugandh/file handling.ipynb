{
 "cells": [
  {
   "cell_type": "code",
   "execution_count": null,
   "id": "b4379ef0",
   "metadata": {},
   "outputs": [],
   "source": [
    "import random\n",
    "random.random()"
   ]
  },
  {
   "cell_type": "code",
   "execution_count": null,
   "id": "c5242502",
   "metadata": {},
   "outputs": [],
   "source": [
    "import math\n",
    "\n",
    "# Return the truncated integer parts of different numbers\n",
    "print(math.trunc(2.77))\n",
    "print(math.trunc(8.32))\n",
    "print(math.trunc(-99.29))\n",
    "print(math.floor(2.77))\n",
    "print(math.floor(8.32))\n",
    "print(math.floor(-99.29))\n",
    "print(type(math.pow(3,9)))\n",
    "print(type(3**9.1))"
   ]
  },
  {
   "cell_type": "code",
   "execution_count": null,
   "id": "f3a3ac9e",
   "metadata": {},
   "outputs": [],
   "source": [
    "print(\"hello\",\"world\",sep=\",\")"
   ]
  },
  {
   "cell_type": "code",
   "execution_count": null,
   "id": "54f19290",
   "metadata": {},
   "outputs": [],
   "source": [
    "print(\"hello\",end=\"----\")\n",
    "print(\"Wow\")\n",
    "print(\"End\")\n",
    "\n",
    "a=10\n"
   ]
  },
  {
   "cell_type": "code",
   "execution_count": null,
   "id": "44e94511",
   "metadata": {},
   "outputs": [],
   "source": [
    "a=10"
   ]
  },
  {
   "cell_type": "code",
   "execution_count": null,
   "id": "3ee6c535",
   "metadata": {},
   "outputs": [],
   "source": [
    "print(a)"
   ]
  },
  {
   "cell_type": "code",
   "execution_count": null,
   "id": "8538aa92",
   "metadata": {},
   "outputs": [],
   "source": [
    "file open\n",
    "\n",
    "Workings in file--create,data add,data upadate, data delete,file delete\n",
    "\n",
    "file close\n",
    "filepointer.close()"
   ]
  },
  {
   "cell_type": "code",
   "execution_count": null,
   "id": "dc4ec8e8",
   "metadata": {},
   "outputs": [],
   "source": [
    "filepointer=open(filename,mode[/format])\n",
    "x---create\n",
    "r---read\n",
    "w----write\n",
    "a---append"
   ]
  },
  {
   "cell_type": "code",
   "execution_count": null,
   "id": "ae274c26",
   "metadata": {},
   "outputs": [],
   "source": [
    "# fp=open(\"file1.txt\",\"x\")#if file exixts then give error\n",
    "# fp=open(\"file2.txt\",\"r\")#if file not exixst gives error\n",
    "# fp=open(\"file2.txt\",\"w\")#if file not exixst then it creates it but not gives error if we open file for writing purpose then its old data will be deleted\n",
    "# fp=open(\"file2.txt\",\"a\")#if file not exist then it creates it but not gives error if we open file for append purpose then data will not be deleted"
   ]
  },
  {
   "cell_type": "code",
   "execution_count": null,
   "id": "e9639bb4",
   "metadata": {},
   "outputs": [],
   "source": [
    "fp=open(\"file2.txt\",\"w\")\n",
    "\n",
    "fp.write(\"hello\\n\")\n",
    "fp.write(\"world \")\n",
    "fp.write(\"Jadooo\")\n",
    "\n",
    "fp.close()"
   ]
  },
  {
   "cell_type": "code",
   "execution_count": null,
   "id": "d4044734",
   "metadata": {},
   "outputs": [],
   "source": [
    "fp=open(\"file2.txt\",\"r\")\n",
    "\n",
    "print(fp.readline())\n",
    "print(fp.readline())\n",
    "\n",
    "\n",
    "fp.close()"
   ]
  },
  {
   "cell_type": "code",
   "execution_count": null,
   "id": "a98aaf2b",
   "metadata": {},
   "outputs": [],
   "source": [
    "fp=open(\"file2.txt\",\"a\")\n",
    "\n",
    "fp.write(\"last line added\")\n",
    "\n",
    "fp.close()"
   ]
  },
  {
   "cell_type": "code",
   "execution_count": 12,
   "id": "ad7ac965",
   "metadata": {},
   "outputs": [],
   "source": [
    "kp=open(\"file2.txt\",\"r+\")\n",
    "# print(kp.tell())\n",
    "kp.seek(5)\n",
    "kp.write(\"//////\")\n",
    "\n",
    "kp.close()"
   ]
  },
  {
   "cell_type": "code",
   "execution_count": 14,
   "id": "5e708782",
   "metadata": {},
   "outputs": [
    {
     "name": "stdout",
     "output_type": "stream",
     "text": [
      "55\n"
     ]
    }
   ],
   "source": [
    "a=10\n",
    "sum1=0\n",
    "for i in range(1,a+1):\n",
    "    sum1+=i\n",
    "print(sum1)"
   ]
  },
  {
   "cell_type": "code",
   "execution_count": null,
   "id": "85aa3a31",
   "metadata": {},
   "outputs": [],
   "source": [
    "fp=open(\"file2.txt\",\"r\")\n",
    "for i in fp:\n",
    "    print(i)"
   ]
  }
 ],
 "metadata": {
  "kernelspec": {
   "display_name": "Python 3 (ipykernel)",
   "language": "python",
   "name": "python3"
  },
  "language_info": {
   "codemirror_mode": {
    "name": "ipython",
    "version": 3
   },
   "file_extension": ".py",
   "mimetype": "text/x-python",
   "name": "python",
   "nbconvert_exporter": "python",
   "pygments_lexer": "ipython3",
   "version": "3.9.12"
  }
 },
 "nbformat": 4,
 "nbformat_minor": 5
}
