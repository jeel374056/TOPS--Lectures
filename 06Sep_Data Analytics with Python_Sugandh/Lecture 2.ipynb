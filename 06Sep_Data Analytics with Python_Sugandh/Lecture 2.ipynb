{
 "cells": [
  {
   "cell_type": "code",
   "execution_count": null,
   "id": "be17de3c",
   "metadata": {},
   "outputs": [],
   "source": [
    "gjdgfdjg\n",
    "fdgfdg"
   ]
  },
  {
   "cell_type": "code",
   "execution_count": null,
   "id": "18ee5813",
   "metadata": {},
   "outputs": [],
   "source": [
    "1854645--integer\n",
    "19.8--float\n",
    "hello---string\n",
    "Hello I am Learning python--string\n",
    "' '  \" \"  \"\"\"\"\"\"\n",
    "True/False---string\n",
    "'True'\n",
    "True-Boollean\n",
    "\n",
    "10+20=30\n",
    "\n",
    "30"
   ]
  },
  {
   "cell_type": "code",
   "execution_count": null,
   "id": "a0fe008d",
   "metadata": {},
   "outputs": [],
   "source": [
    "small alphabet ---lowercase\n",
    "capital alphabet---uppercase\n",
    "identifier\n",
    "1)_ A-z\n",
    "2)_ A-z 0-9\n",
    "3)keywords can't be used as an identifier\n",
    "\n",
    "_hello\n",
    "12 Python\n",
    "A_Word\n",
    "B_Cause11\n",
    "\n"
   ]
  },
  {
   "cell_type": "code",
   "execution_count": null,
   "id": "0b3a14e3",
   "metadata": {
    "scrolled": true
   },
   "outputs": [],
   "source": []
  },
  {
   "cell_type": "code",
   "execution_count": null,
   "id": "48e66c66",
   "metadata": {},
   "outputs": [],
   "source": [
    "# \\n--newline character\n",
    "# sdgfdh\n",
    "# comment\n",
    "\n",
    "# 1)Single Line comment--starting #\n",
    "# 2)Multiline comment----\"\"\"\"\"\"\n",
    "end=\"////\"\n",
    "num = \"wow\"\n",
    "# * \"wow\" num\n",
    "string= \"Hello\"\n",
    "Bool=True\n",
    "print(\"Completed\",end=\"**\")\n",
    "print(False,end=\" \")\n",
    "print(\"Completed\")\n",
    "str1=\"Hello i Am/*/*/**-*- very Good\"\n",
    "print(str1)"
   ]
  },
  {
   "cell_type": "code",
   "execution_count": 8,
   "id": "7286c6ef",
   "metadata": {},
   "outputs": [
    {
     "name": "stdout",
     "output_type": "stream",
     "text": [
      "<class 'int'>\n"
     ]
    }
   ],
   "source": [
    "# True\n",
    "a=15.9\n",
    "b=20\n",
    "# print(a+b)\n",
    "print(type(1598))#---"
   ]
  },
  {
   "cell_type": "code",
   "execution_count": 20,
   "id": "9ac5ac39",
   "metadata": {},
   "outputs": [
    {
     "name": "stdout",
     "output_type": "stream",
     "text": [
      "Enter Something45\n",
      "45\n",
      "<class 'int'>\n",
      "25.9\n"
     ]
    }
   ],
   "source": [
    "# print(\"hello\")\n",
    "a=int(input(\"Enter Something\"))\n",
    "# a=int(a)\n",
    "a=\"hello\"\n",
    "print(a)\n",
    "print(type(a))\n",
    "# b=input()\n",
    "print(10+15.9)"
   ]
  }
 ],
 "metadata": {
  "kernelspec": {
   "display_name": "Python 3 (ipykernel)",
   "language": "python",
   "name": "python3"
  },
  "language_info": {
   "codemirror_mode": {
    "name": "ipython",
    "version": 3
   },
   "file_extension": ".py",
   "mimetype": "text/x-python",
   "name": "python",
   "nbconvert_exporter": "python",
   "pygments_lexer": "ipython3",
   "version": "3.9.12"
  }
 },
 "nbformat": 4,
 "nbformat_minor": 5
}
