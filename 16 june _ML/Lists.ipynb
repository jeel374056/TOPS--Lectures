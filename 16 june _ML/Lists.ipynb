{
 "cells": [
  {
   "cell_type": "code",
   "execution_count": 9,
   "id": "be1e4a00",
   "metadata": {},
   "outputs": [
    {
     "name": "stdout",
     "output_type": "stream",
     "text": [
      "Enter number: 8\n",
      "        *         \n",
      "      *   *       \n",
      "     *     *      \n",
      "    *       *     \n",
      "   *         *    \n",
      "  *           *   \n",
      " *             *  \n",
      "* * * * * * * * *\n"
     ]
    }
   ],
   "source": [
    "a=int(input(\"Enter number: \"))\n",
    "b=a*2\n",
    "for i,j in zip(range(a),range(1,b,2)):\n",
    "    if i==0:\n",
    "        print(\"*\".center(b+2))\n",
    "    elif i==a-1:\n",
    "        f=j//2\n",
    "        str1=\"*\"+(\" *\"*f)+\" *\"\n",
    "        print(str1.center(b))\n",
    "    else:\n",
    "        str1=\"*\"+(\" \"*j)+\"*\"\n",
    "        print(str1.center(b+2))"
   ]
  },
  {
   "cell_type": "code",
   "execution_count": null,
   "id": "0ad3bae7",
   "metadata": {},
   "outputs": [],
   "source": [
    "j=5\n",
    "str1=\"*\"+(\" \"*j)+\"*\"\n",
    "print(str1)"
   ]
  },
  {
   "cell_type": "code",
   "execution_count": null,
   "id": "8ca2595e",
   "metadata": {},
   "outputs": [],
   "source": [
    "                *\n",
    "               *  *\n",
    "              *     *\n",
    "            ***********"
   ]
  },
  {
   "cell_type": "code",
   "execution_count": null,
   "id": "5c74deb4",
   "metadata": {},
   "outputs": [],
   "source": [
    "list---list is a collection of element of similar or different datatype\n",
    "list is mutable\n",
    "list allowed duplicates\n",
    "list is oredered datatype\n",
    "list_name = [value1,value2,value3]"
   ]
  },
  {
   "cell_type": "code",
   "execution_count": 32,
   "id": "12d94cd9",
   "metadata": {},
   "outputs": [
    {
     "name": "stdout",
     "output_type": "stream",
     "text": [
      "[1, 2.9, True, 'Tops', [1, 2, 3, 4, 5, 6]]\n",
      "5\n",
      "[1, 2.9, False, 5, [9, 10], 'Tops', [1, 2, 3, 4, 5, 6]]\n"
     ]
    }
   ],
   "source": [
    "list1=[1,2.9,True,\"Tops\",[1,2,3,4,5,6]]\n",
    "print(list1)\n",
    "# for i in list1:\n",
    "#     print(type(i))\n",
    "print(list1[4][4])\n",
    "list1[2:3]=[False,5,[9,10]]\n",
    "print(list1)"
   ]
  },
  {
   "cell_type": "code",
   "execution_count": 35,
   "id": "19662b94",
   "metadata": {},
   "outputs": [
    {
     "name": "stdout",
     "output_type": "stream",
     "text": [
      "True\n"
     ]
    }
   ],
   "source": [
    "list1=[1,2.9,True,\"Tops\",[1,2,3,4,5,6]]\n",
    "print(2 not in list1)"
   ]
  },
  {
   "cell_type": "code",
   "execution_count": 41,
   "id": "bd9704ac",
   "metadata": {},
   "outputs": [
    {
     "name": "stdout",
     "output_type": "stream",
     "text": [
      "3\n",
      "Hello\n"
     ]
    }
   ],
   "source": [
    "list1=[\"hello\",\"horld\",\"Hello\"]\n",
    "print(len(list1))\n",
    "print(min(list1))"
   ]
  },
  {
   "cell_type": "code",
   "execution_count": 43,
   "id": "ee1c3fe7",
   "metadata": {},
   "outputs": [
    {
     "name": "stdout",
     "output_type": "stream",
     "text": [
      "['hello']\n",
      "['h', 'e', 'l', 'l', 'o']\n"
     ]
    }
   ],
   "source": [
    "str1=\"hello\"\n",
    "print(str1.split())\n",
    "print(list(str1))"
   ]
  },
  {
   "cell_type": "code",
   "execution_count": 51,
   "id": "35255785",
   "metadata": {},
   "outputs": [
    {
     "name": "stdout",
     "output_type": "stream",
     "text": [
      "['hello', 'horld', 'Hello', [1, 2, 4]]\n",
      "['hello', 'horld', 'Hello', [1, 2, 4], 8]\n"
     ]
    }
   ],
   "source": [
    "# append(value)---add values at last\n",
    "list1=[\"hello\",\"horld\",\"Hello\"]\n",
    "list1.append([1,2,4])\n",
    "print(list1)\n",
    "list1.append(8)\n",
    "print(list1)"
   ]
  },
  {
   "cell_type": "code",
   "execution_count": 52,
   "id": "75c41873",
   "metadata": {},
   "outputs": [
    {
     "name": "stdout",
     "output_type": "stream",
     "text": [
      "['hello', 'horld', 'Hello', 1, 2, 4]\n",
      "['hello', 'horld', 'Hello', 1, 2, 4]\n"
     ]
    }
   ],
   "source": [
    "# extend(iterable)---add values at last\n",
    "list1=[\"hello\",\"horld\",\"Hello\"]\n",
    "list1.extend([1,2,4])\n",
    "print(list1)\n",
    "# list1.extend(8)\n",
    "print(list1)"
   ]
  },
  {
   "cell_type": "code",
   "execution_count": 55,
   "id": "902f0972",
   "metadata": {},
   "outputs": [
    {
     "name": "stdout",
     "output_type": "stream",
     "text": [
      "['hello', 'horld', 'Hello', [1, 2, 4]]\n"
     ]
    }
   ],
   "source": [
    "# insert(index,\"value\")----add value at specified index\n",
    "list1=[\"hello\",\"horld\",\"Hello\"]\n",
    "list1.insert(9,[1,2,4])\n",
    "print(list1)"
   ]
  },
  {
   "cell_type": "code",
   "execution_count": 59,
   "id": "f058e95e",
   "metadata": {},
   "outputs": [
    {
     "name": "stdout",
     "output_type": "stream",
     "text": [
      "['hello', 'horld']\n"
     ]
    }
   ],
   "source": [
    "#pop([index])--remove last elemenst from list and if we mention index then remove element at that index\n",
    "list1=[\"hello\",\"horld\",\"Hello\"]\n",
    "list1.pop(2)\n",
    "print(list1)"
   ]
  },
  {
   "cell_type": "code",
   "execution_count": 65,
   "id": "deb01edd",
   "metadata": {},
   "outputs": [
    {
     "name": "stdout",
     "output_type": "stream",
     "text": [
      "['horld', 'hello']\n"
     ]
    }
   ],
   "source": [
    "#remove(value)---remove specified value from the list if mutiple elements are there then remove the first occurence \n",
    "# gives error when elements is not in list\n",
    "list1=[\"hello\",\"horld\",\"hello\"]\n",
    "list1.remove(\"hello\")\n",
    "print(list1)"
   ]
  },
  {
   "cell_type": "code",
   "execution_count": 70,
   "id": "3438dc0d",
   "metadata": {},
   "outputs": [
    {
     "name": "stdout",
     "output_type": "stream",
     "text": [
      "0\n",
      "['hello', 'horld', 'hello']\n"
     ]
    }
   ],
   "source": [
    "# count(value)-----count the occurence of elements in the list\n",
    "list1=[\"hello\",\"horld\",\"hello\"]\n",
    "print(list1.count(\"Tops\"))\n",
    "print(list1)"
   ]
  },
  {
   "cell_type": "code",
   "execution_count": 75,
   "id": "b3cd28cb",
   "metadata": {},
   "outputs": [
    {
     "ename": "ValueError",
     "evalue": "'hello' is not in list",
     "output_type": "error",
     "traceback": [
      "\u001b[1;31m---------------------------------------------------------------------------\u001b[0m",
      "\u001b[1;31mValueError\u001b[0m                                Traceback (most recent call last)",
      "Input \u001b[1;32mIn [75]\u001b[0m, in \u001b[0;36m<cell line: 3>\u001b[1;34m()\u001b[0m\n\u001b[0;32m      1\u001b[0m \u001b[38;5;66;03m#index(value,start,end)---gives index of the elements\u001b[39;00m\n\u001b[0;32m      2\u001b[0m list1\u001b[38;5;241m=\u001b[39m[\u001b[38;5;124m\"\u001b[39m\u001b[38;5;124mhello\u001b[39m\u001b[38;5;124m\"\u001b[39m,\u001b[38;5;124m\"\u001b[39m\u001b[38;5;124mhorld\u001b[39m\u001b[38;5;124m\"\u001b[39m,\u001b[38;5;124m\"\u001b[39m\u001b[38;5;124mhello\u001b[39m\u001b[38;5;124m\"\u001b[39m]\n\u001b[1;32m----> 3\u001b[0m \u001b[38;5;28mprint\u001b[39m(\u001b[43mlist1\u001b[49m\u001b[38;5;241;43m.\u001b[39;49m\u001b[43mindex\u001b[49m\u001b[43m(\u001b[49m\u001b[38;5;124;43m\"\u001b[39;49m\u001b[38;5;124;43mhello\u001b[39;49m\u001b[38;5;124;43m\"\u001b[39;49m\u001b[43m,\u001b[49m\u001b[38;5;241;43m1\u001b[39;49m\u001b[43m,\u001b[49m\u001b[38;5;241;43m2\u001b[39;49m\u001b[43m)\u001b[49m)\n\u001b[0;32m      4\u001b[0m \u001b[38;5;28mprint\u001b[39m(list1)\n",
      "\u001b[1;31mValueError\u001b[0m: 'hello' is not in list"
     ]
    }
   ],
   "source": [
    "#index(value,start,end)---gives index of the elements\n",
    "list1=[\"hello\",\"horld\",\"hello\"]\n",
    "print(list1.index(\"hello\",1,2))\n",
    "print(list1)"
   ]
  },
  {
   "cell_type": "code",
   "execution_count": 80,
   "id": "92ab2fb0",
   "metadata": {},
   "outputs": [
    {
     "name": "stdout",
     "output_type": "stream",
     "text": [
      "[8, 7, 5.9, 5, 4]\n"
     ]
    }
   ],
   "source": [
    "# sort([])---sorts the elements in ascending order by default if we mention reverse=True then it will sort in descending order\n",
    "list1=[5,5.9,4,8,7]\n",
    "list1.sort(reverse=True)\n",
    "print(list1)"
   ]
  },
  {
   "cell_type": "code",
   "execution_count": 82,
   "id": "d7ade83d",
   "metadata": {},
   "outputs": [
    {
     "name": "stdout",
     "output_type": "stream",
     "text": [
      "[7, 8, 4, 5.9, 5]\n"
     ]
    }
   ],
   "source": [
    "# reverse\n",
    "list1=[5,5.9,4,8,7]\n",
    "list1.reverse()\n",
    "print(list1)"
   ]
  },
  {
   "cell_type": "code",
   "execution_count": 89,
   "id": "39c9cd9c",
   "metadata": {},
   "outputs": [
    {
     "name": "stdout",
     "output_type": "stream",
     "text": [
      "[40, 80]\n",
      "[80]\n"
     ]
    }
   ],
   "source": [
    "#list as stack\n",
    "list1=[]\n",
    "list1.append(40)\n",
    "list1.append(80)\n",
    "print(list1)\n",
    "list1.pop(0)\n",
    "print(list1)\n"
   ]
  }
 ],
 "metadata": {
  "kernelspec": {
   "display_name": "Python 3 (ipykernel)",
   "language": "python",
   "name": "python3"
  },
  "language_info": {
   "codemirror_mode": {
    "name": "ipython",
    "version": 3
   },
   "file_extension": ".py",
   "mimetype": "text/x-python",
   "name": "python",
   "nbconvert_exporter": "python",
   "pygments_lexer": "ipython3",
   "version": "3.9.12"
  }
 },
 "nbformat": 4,
 "nbformat_minor": 5
}
