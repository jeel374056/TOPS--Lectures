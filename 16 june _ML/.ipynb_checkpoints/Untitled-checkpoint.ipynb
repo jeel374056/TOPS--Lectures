{
 "cells": [
  {
   "cell_type": "code",
   "execution_count": null,
   "id": "5c90278c",
   "metadata": {},
   "outputs": [],
   "source": [
    "a1=10\n",
    "a2=10\n",
    "b1=\"String\"\n",
    "b2=\"String\"\n",
    "c1=(1,2)\n",
    "c2=(1,2)\n",
    "print(c1 is c2)\n",
    "\n"
   ]
  },
  {
   "cell_type": "code",
   "execution_count": 3,
   "id": "f4aeedaf",
   "metadata": {},
   "outputs": [
    {
     "name": "stdout",
     "output_type": "stream",
     "text": [
      "gfsgegergerg\n"
     ]
    }
   ],
   "source": [
    "list1=[\"hello\",\"hgfsdjkhf\",\"esdff\",\"gfsgegergerg\"]\n",
    "l=max(list1,key=len)\n",
    "print(l)"
   ]
  },
  {
   "cell_type": "code",
   "execution_count": null,
   "id": "4b30239b",
   "metadata": {},
   "outputs": [],
   "source": [
    "if \n",
    "\n",
    "if ---else\n",
    "\n",
    "if elif---else\n",
    "\n",
    "if \n",
    "    if--else....\n",
    "    \n",
    "else:\n",
    "    "
   ]
  },
  {
   "cell_type": "code",
   "execution_count": null,
   "id": "34a63586",
   "metadata": {},
   "outputs": [],
   "source": [
    "\n",
    "if condtion :\n",
    "    body:"
   ]
  },
  {
   "cell_type": "code",
   "execution_count": null,
   "id": "5e33055a",
   "metadata": {},
   "outputs": [],
   "source": [
    "a=\"Hello\"\n",
    "b=\"World\"\n",
    "if a==b:\n",
    "    print(\"Matched\")\n",
    "else:\n",
    "    print(\"Not matched\")\n",
    "print(\"Outside if\")"
   ]
  },
  {
   "cell_type": "code",
   "execution_count": null,
   "id": "3ade1564",
   "metadata": {},
   "outputs": [],
   "source": [
    "#greater of three\n",
    "a=10\n",
    "b=91\n",
    "c=89\n",
    "if a>b :\n",
    "    if a>c:\n",
    "        print(f\"{a} is greater\")\n",
    "elif b>c:\n",
    "    print(f\"{b} is greater\")\n",
    "else:\n",
    "    print(f\"{c} is greater\")\n",
    "    "
   ]
  },
  {
   "cell_type": "code",
   "execution_count": null,
   "id": "0ca9c87d",
   "metadata": {},
   "outputs": [],
   "source": [
    "# range(start,stop,step)\n",
    "# range(1,5)\n",
    "for i in range(-2,-7,-1):\n",
    "    print(i)\n",
    "for i in \"hello\":\n",
    "    print(i)"
   ]
  },
  {
   "cell_type": "code",
   "execution_count": null,
   "id": "ad0afd02",
   "metadata": {},
   "outputs": [],
   "source": [
    "while condition:\n",
    "    body"
   ]
  },
  {
   "cell_type": "code",
   "execution_count": null,
   "id": "19861e20",
   "metadata": {},
   "outputs": [],
   "source": [
    "-9 -8 -7 -6 -5 -4 -3 -2 -1 0 1 2 3 4 5 6 7 8 9 10 11 12"
   ]
  },
  {
   "cell_type": "code",
   "execution_count": null,
   "id": "b0650391",
   "metadata": {},
   "outputs": [],
   "source": [
    "while condition:\n",
    "    body"
   ]
  },
  {
   "cell_type": "code",
   "execution_count": 4,
   "id": "a15738f7",
   "metadata": {},
   "outputs": [
    {
     "name": "stdout",
     "output_type": "stream",
     "text": [
      "10\n",
      "9\n",
      "8\n",
      "7\n",
      "6\n",
      "5\n",
      "4\n",
      "3\n",
      "2\n",
      "1\n",
      "Ho gaya\n"
     ]
    }
   ],
   "source": [
    "a=10\n",
    "while a>0:\n",
    "    print(a)\n",
    "    a-=1\n",
    "else:\n",
    "    print(\"Ho gaya\")"
   ]
  },
  {
   "cell_type": "code",
   "execution_count": 9,
   "id": "8b80bca8",
   "metadata": {},
   "outputs": [
    {
     "name": "stdout",
     "output_type": "stream",
     "text": [
      "True\n"
     ]
    }
   ],
   "source": [
    "i=5\n",
    "print(i in range(1,10))"
   ]
  },
  {
   "cell_type": "code",
   "execution_count": 11,
   "id": "f1c64865",
   "metadata": {},
   "outputs": [
    {
     "name": "stdout",
     "output_type": "stream",
     "text": [
      "12345678910"
     ]
    }
   ],
   "source": [
    "for i in range(1,11):\n",
    "    print(i,end=\"\")"
   ]
  },
  {
   "cell_type": "code",
   "execution_count": 14,
   "id": "41baacb3",
   "metadata": {},
   "outputs": [
    {
     "name": "stdout",
     "output_type": "stream",
     "text": [
      "Entry\n",
      "1\n",
      "1\n",
      "1\n",
      "1\n",
      "1\n",
      "Entry\n",
      "2\n",
      "2\n",
      "2\n",
      "2\n",
      "2\n",
      "Entry\n",
      "3\n",
      "3\n",
      "3\n",
      "3\n",
      "3\n",
      "Entry\n",
      "4\n",
      "4\n",
      "4\n",
      "4\n",
      "4\n",
      "Entry\n",
      "5\n",
      "5\n",
      "5\n",
      "5\n",
      "5\n",
      "Entry\n",
      "6\n",
      "6\n",
      "6\n",
      "6\n",
      "6\n",
      "Entry\n",
      "7\n",
      "7\n",
      "7\n",
      "7\n",
      "7\n",
      "Entry\n",
      "8\n",
      "8\n",
      "8\n",
      "8\n",
      "8\n",
      "Entry\n",
      "9\n",
      "9\n",
      "9\n",
      "9\n",
      "9\n"
     ]
    }
   ],
   "source": [
    "for i in range(1,10):\n",
    "    print(\"Entry\")\n",
    "    for j in range(5,10):\n",
    "        print(i)"
   ]
  },
  {
   "cell_type": "code",
   "execution_count": null,
   "id": "38be6601",
   "metadata": {},
   "outputs": [],
   "source": [
    "*\n",
    "**\n",
    "***\n",
    "****\n",
    "*****"
   ]
  },
  {
   "cell_type": "code",
   "execution_count": 19,
   "id": "861c473b",
   "metadata": {},
   "outputs": [
    {
     "name": "stdout",
     "output_type": "stream",
     "text": [
      "*\n",
      "**\n",
      "***\n",
      "****\n",
      "*****\n"
     ]
    }
   ],
   "source": [
    "for i in range(1,6):\n",
    "    for j in range(i):\n",
    "        print(\"*\",end=\"\")\n",
    "    print()"
   ]
  },
  {
   "cell_type": "code",
   "execution_count": 28,
   "id": "5a07b5f9",
   "metadata": {},
   "outputs": [
    {
     "name": "stdout",
     "output_type": "stream",
     "text": [
      "          *         \n",
      "         * *        \n",
      "        * * *       \n",
      "       * * * *      \n",
      "      * * * * *     \n"
     ]
    }
   ],
   "source": [
    "for i in range(1,6):\n",
    "    print((\" *\"*i).center(20))\n"
   ]
  },
  {
   "cell_type": "code",
   "execution_count": 23,
   "id": "61835645",
   "metadata": {},
   "outputs": [
    {
     "name": "stdout",
     "output_type": "stream",
     "text": [
      "16\n"
     ]
    }
   ],
   "source": [
    "str1=4*4\n",
    "print(str1)"
   ]
  },
  {
   "cell_type": "code",
   "execution_count": null,
   "id": "1c1caf0f",
   "metadata": {},
   "outputs": [],
   "source": [
    "# break---break the loop when condtition match\n",
    "# continue--break the loops current iteration\n",
    "# pass---to avoid error"
   ]
  },
  {
   "cell_type": "code",
   "execution_count": 30,
   "id": "72337ff6",
   "metadata": {},
   "outputs": [
    {
     "name": "stdout",
     "output_type": "stream",
     "text": [
      "1\n",
      "2\n",
      "3\n",
      "4\n"
     ]
    }
   ],
   "source": [
    "for i in range(1,10):\n",
    "    if i==5:\n",
    "        break\n",
    "    print(i)"
   ]
  },
  {
   "cell_type": "code",
   "execution_count": 40,
   "id": "c2e094e3",
   "metadata": {},
   "outputs": [
    {
     "name": "stdout",
     "output_type": "stream",
     "text": [
      "Hello\n",
      "Hello\n",
      "Hello\n",
      "Hello\n",
      "Hello\n",
      "Hello\n",
      "Hello\n",
      "Hello\n",
      "Hello\n"
     ]
    }
   ],
   "source": [
    "for i in range(1,10):\n",
    "    print(\"Hello\")\n",
    "    if i==5:\n",
    "        continue\n",
    "    else:\n",
    "        pass"
   ]
  },
  {
   "cell_type": "code",
   "execution_count": 33,
   "id": "7d4a5732",
   "metadata": {},
   "outputs": [
    {
     "name": "stdout",
     "output_type": "stream",
     "text": [
      "Entry\n",
      "5\n",
      "6\n",
      "Entry\n",
      "5\n",
      "6\n",
      "Entry\n",
      "5\n",
      "6\n",
      "Entry\n",
      "5\n",
      "6\n",
      "Entry\n",
      "5\n",
      "6\n",
      "Entry\n",
      "5\n",
      "6\n",
      "Entry\n",
      "5\n",
      "6\n",
      "Entry\n",
      "5\n",
      "6\n",
      "Entry\n",
      "5\n",
      "6\n"
     ]
    }
   ],
   "source": [
    "for i in range(1,10):\n",
    "    print(\"Entry\")\n",
    "    for j in range(5,10):\n",
    "        if j==7:\n",
    "            break\n",
    "        print(j)\n",
    "    "
   ]
  },
  {
   "cell_type": "code",
   "execution_count": null,
   "id": "14dd7357",
   "metadata": {},
   "outputs": [],
   "source": []
  },
  {
   "cell_type": "code",
   "execution_count": 42,
   "id": "f36c2f9a",
   "metadata": {},
   "outputs": [],
   "source": [
    "for i in range(1,10):\n",
    "  pass"
   ]
  },
  {
   "cell_type": "code",
   "execution_count": null,
   "id": "6b45af43",
   "metadata": {},
   "outputs": [],
   "source": []
  }
 ],
 "metadata": {
  "kernelspec": {
   "display_name": "Python 3 (ipykernel)",
   "language": "python",
   "name": "python3"
  },
  "language_info": {
   "codemirror_mode": {
    "name": "ipython",
    "version": 3
   },
   "file_extension": ".py",
   "mimetype": "text/x-python",
   "name": "python",
   "nbconvert_exporter": "python",
   "pygments_lexer": "ipython3",
   "version": "3.9.12"
  }
 },
 "nbformat": 4,
 "nbformat_minor": 5
}
