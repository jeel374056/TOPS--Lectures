{
 "cells": [
  {
   "cell_type": "code",
   "execution_count": 4,
   "id": "72afbb7e",
   "metadata": {},
   "outputs": [
    {
     "name": "stdout",
     "output_type": "stream",
     "text": [
      "Enter Your name: ashu\n",
      "enter Your age: 18\n",
      "enter Your Gender: male\n",
      "name is ashu \n",
      " age is 18 \n",
      " gender is male\n"
     ]
    }
   ],
   "source": [
    "#Simple class\n",
    "class person:\n",
    "    name=\"\"\n",
    "    age=\"\"\n",
    "    gender=\"\"\n",
    "    \n",
    "    def getperson(self):\n",
    "        self.name=input(\"Enter Your name: \")\n",
    "        self.age=int(input(\"enter Your age: \"))\n",
    "        self.gender=input(\"enter Your Gender: \")\n",
    "        \n",
    "    def showperson(self):\n",
    "        print(f\"name is {self.name} \\n age is {self.age} \\n gender is {self.gender}\")\n",
    "per1=person()\n",
    "per1.getperson()\n",
    "per1.showperson()\n",
    "        "
   ]
  },
  {
   "cell_type": "code",
   "execution_count": 4,
   "id": "24f92bd7",
   "metadata": {},
   "outputs": [
    {
     "name": "stdout",
     "output_type": "stream",
     "text": [
      "value ofmale dfs\n"
     ]
    }
   ],
   "source": [
    "#single inheritance\n",
    "class person:\n",
    "    name=\"\"\n",
    "    age=\"\"\n",
    "    gender=\"\"\n",
    "    \n",
    "    def getperson(self):\n",
    "        self.name=input(\"Enter Your name: \")\n",
    "        self.age=int(input(\"enter Your age: \"))\n",
    "        self.gender=input(\"enter Your Gender: \")\n",
    "        \n",
    "    def showperson(self):\n",
    "        print(f\"name is {self.name} \\n age is {self.age} \\n gender is {self.gender}\")\n",
    "class student(person):\n",
    "    college=\"\"\n",
    "    rollno=\"\"\n",
    "    course=\"\"\n",
    "    def getstudent(self):\n",
    "        self.getperson()\n",
    "        self.gender=\"female\"\n",
    "        self.college=input(\"Enter Your college name: \")\n",
    "        self.rollno=int(input(\"enter Your Roll no. : \"))\n",
    "        self.course=input(\"enter Your course: \")\n",
    "        \n",
    "    def showstudent(self):\n",
    "        self.showperson()\n",
    "        print(f\"name is {self.college} \\n age is {self.rollno} \\n gender is {self.course}\")\n",
    "        \n",
    "std1=student()\n",
    "std1.getstudent()\n",
    "std1.showstudent()"
   ]
  },
  {
   "cell_type": "code",
   "execution_count": 10,
   "id": "15320533",
   "metadata": {},
   "outputs": [
    {
     "name": "stdout",
     "output_type": "stream",
     "text": [
      "Enter Your name: rsgg\n",
      "enter Your age: 15\n",
      "enter Your Gender: dhgd\n",
      "Enter Your name: fdgfd\n",
      "enter Your age: 45\n",
      "enter Your Gender: dgd\n",
      "Enter Your college name: gfdg\n",
      "enter Your Roll no. : 15\n",
      "enter Your course: 48\n",
      "Enter Your subject name: fdg\n",
      "enter Your ID no. : 45\n",
      "enter Your department: fdg\n",
      "name is fdgfd \n",
      " age is 45 \n",
      " gender is female\n",
      "name is fdg \n",
      " age is 45 \n",
      " gender is fdg\n"
     ]
    }
   ],
   "source": [
    "#Hierarchical Inheritance as well as multiple as well as multilevel\n",
    "class person:\n",
    "    name=\"\"\n",
    "    age=\"\"\n",
    "    gender=\"\"\n",
    "    \n",
    "    def getperson(self):\n",
    "        self.name=input(\"Enter Your name: \")\n",
    "        self.age=int(input(\"enter Your age: \"))\n",
    "        self.gender=input(\"enter Your Gender: \")\n",
    "        \n",
    "    def showperson(self):\n",
    "        print(f\"name is {self.name} \\n age is {self.age} \\n gender is {self.gender}\")\n",
    "class student(person):\n",
    "    college=\"\"\n",
    "    rollno=\"\"\n",
    "    course=\"\"\n",
    "    def getstudent(self):\n",
    "        self.getperson()\n",
    "        self.gender=\"female\"\n",
    "        self.college=input(\"Enter Your college name: \")\n",
    "        self.rollno=int(input(\"enter Your Roll no. : \"))\n",
    "        self.course=input(\"enter Your course: \")\n",
    "        \n",
    "    def showstudent(self):\n",
    "        self.showperson()\n",
    "        print(f\"name is {self.college} \\n age is {self.rollno} \\n gender is {self.course}\")\n",
    "class teacher(student,person):\n",
    "    subject=\"\"\n",
    "    Idno=\"\"\n",
    "    department=\"\"\n",
    "    def getteacher(self):\n",
    "        self.getperson()\n",
    "        self.getstudent()\n",
    "        self.subject=input(\"Enter Your subject name: \")\n",
    "        self.Idno=int(input(\"enter Your ID no. : \"))\n",
    "        self.department=input(\"enter Your department: \")\n",
    "        \n",
    "    def showteacher(self):\n",
    "        self.showperson()\n",
    "        print(f\"name is {self.subject} \\n age is {self.Idno} \\n gender is {self.department}\")\n",
    "std1=student()\n",
    "tech1=teacher()\n",
    "# std1.getstudent()\n",
    "# std1.showstudent()\n",
    "tech1.getteacher()\n",
    "tech1.showteacher()"
   ]
  },
  {
   "cell_type": "code",
   "execution_count": 12,
   "id": "26faa3d3",
   "metadata": {},
   "outputs": [
    {
     "name": "stdout",
     "output_type": "stream",
     "text": [
      "6\n"
     ]
    }
   ],
   "source": [
    "print(len({10, 20, 30,30,40,20,10,11,45}))"
   ]
  },
  {
   "cell_type": "code",
   "execution_count": 13,
   "id": "b0ad9ec8",
   "metadata": {},
   "outputs": [
    {
     "name": "stdout",
     "output_type": "stream",
     "text": [
      "<class '__main__.India'>\n",
      "<class '__main__.USA'>\n"
     ]
    }
   ],
   "source": [
    "class India():\n",
    "    def capital(self):\n",
    "        print(\"New Delhi is the capital of India.\")\n",
    " \n",
    "    def language(self):\n",
    "        print(\"Hindi is the most widely spoken language of India.\")\n",
    " \n",
    "    def type(self):\n",
    "        print(\"India is a developing country.\")\n",
    " \n",
    "class USA():\n",
    "    def capital(self):\n",
    "        print(\"Washington, D.C. is the capital of USA.\")\n",
    " \n",
    "    def language(self):\n",
    "        print(\"English is the primary language of USA.\")\n",
    " \n",
    "    def type(self):\n",
    "        print(\"USA is a developed country.\")\n",
    " \n",
    "obj_ind = India()\n",
    "obj_usa = USA()\n",
    "for country in (obj_ind, obj_usa):\n",
    "#     print(type(country))\n",
    "#     country.capital()\n",
    "#     country.language()\n",
    "#     country.type()"
   ]
  }
 ],
 "metadata": {
  "kernelspec": {
   "display_name": "Python 3 (ipykernel)",
   "language": "python",
   "name": "python3"
  },
  "language_info": {
   "codemirror_mode": {
    "name": "ipython",
    "version": 3
   },
   "file_extension": ".py",
   "mimetype": "text/x-python",
   "name": "python",
   "nbconvert_exporter": "python",
   "pygments_lexer": "ipython3",
   "version": "3.9.12"
  }
 },
 "nbformat": 4,
 "nbformat_minor": 5
}
