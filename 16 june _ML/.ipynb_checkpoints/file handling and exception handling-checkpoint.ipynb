{
 "cells": [
  {
   "cell_type": "code",
   "execution_count": 2,
   "id": "16a80e6c",
   "metadata": {},
   "outputs": [],
   "source": [
    "# file_open\n",
    "# file_close"
   ]
  },
  {
   "cell_type": "code",
   "execution_count": 20,
   "id": "26e2442a",
   "metadata": {},
   "outputs": [
    {
     "name": "stdout",
     "output_type": "stream",
     "text": [
      "Hello worldHello tops \n",
      " Welcome You\n"
     ]
    }
   ],
   "source": [
    "# open(\"filename\",\"modes[]\")\n",
    "# f = open(\"f2.txt\",\"x\")\n",
    "# f.close()\n",
    "# f=open(\"f2.txt\",\"w\")\n",
    "# f.write(\"Hello world\")\n",
    "# f.close()\n",
    "# f=open(\"f2.txt\",\"r\")\n",
    "# print(f.read())\n",
    "# f.close()\n",
    "# f=open(\"f3.txt\",\"a\")\n",
    "# f.write(\"Hello tops \\n Welcome You\")\n",
    "# f.close()\n",
    "# f=open(\"f3.txt\",\"r\")\n",
    "# print(f.read())\n",
    "# f.close()"
   ]
  },
  {
   "cell_type": "code",
   "execution_count": 25,
   "id": "68a6f44c",
   "metadata": {},
   "outputs": [],
   "source": [
    "import os\n",
    "os.rmdir(\"folder2\")"
   ]
  },
  {
   "cell_type": "code",
   "execution_count": 29,
   "id": "38a4c9ba",
   "metadata": {},
   "outputs": [
    {
     "name": "stdout",
     "output_type": "stream",
     "text": [
      "The file does not exist\n"
     ]
    }
   ],
   "source": [
    "import os\n",
    "if os.path.exists(\"folder2\"):\n",
    "    print(\"Folder is not deleted\")\n",
    "else:\n",
    "    print(\"The file does not exist\")"
   ]
  },
  {
   "cell_type": "code",
   "execution_count": 30,
   "id": "29b2f2bb",
   "metadata": {},
   "outputs": [
    {
     "name": "stdout",
     "output_type": "stream",
     "text": [
      "Hello\n",
      "\n",
      "7\n",
      "Welcome to file management program\n"
     ]
    }
   ],
   "source": [
    "file = open(\"test.txt\",\"w\")\n",
    "file.write(\"Hello\\n\")\n",
    "file.write(\"Welcome to file management program\")\n",
    "file.close\n",
    "file = open(\"test.txt\",\"r\")\n",
    "str=file.readline()\n",
    "print(str)\n",
    "a=file.tell()\n",
    "print(a)\n",
    "str=file.read()\n",
    "print(str)"
   ]
  },
  {
   "cell_type": "code",
   "execution_count": 32,
   "id": "4c50f5f0",
   "metadata": {},
   "outputs": [],
   "source": [
    "# Error------mistakes made by us on writing syntax\n",
    "# exception-----exception is smoething which doesn't follow the rule at certain condition \n",
    "# and logical errors"
   ]
  },
  {
   "cell_type": "code",
   "execution_count": 35,
   "id": "198cb7ec",
   "metadata": {},
   "outputs": [
    {
     "name": "stdout",
     "output_type": "stream",
     "text": [
      "hsfdgkl\n"
     ]
    },
    {
     "ename": "ZeroDivisionError",
     "evalue": "division by zero",
     "output_type": "error",
     "traceback": [
      "\u001b[1;31m---------------------------------------------------------------------------\u001b[0m",
      "\u001b[1;31mZeroDivisionError\u001b[0m                         Traceback (most recent call last)",
      "Input \u001b[1;32mIn [35]\u001b[0m, in \u001b[0;36m<cell line: 2>\u001b[1;34m()\u001b[0m\n\u001b[0;32m      1\u001b[0m \u001b[38;5;28mprint\u001b[39m(\u001b[38;5;124m\"\u001b[39m\u001b[38;5;124mhsfdgkl\u001b[39m\u001b[38;5;124m\"\u001b[39m)\n\u001b[1;32m----> 2\u001b[0m \u001b[38;5;28mprint\u001b[39m(\u001b[38;5;241;43m10\u001b[39;49m\u001b[38;5;241;43m/\u001b[39;49m\u001b[38;5;241;43m0\u001b[39;49m)\n",
      "\u001b[1;31mZeroDivisionError\u001b[0m: division by zero"
     ]
    }
   ],
   "source": [
    "# print(\"hsfdgkl\")\n",
    "# if b==0:\n",
    "#     print(\"Denominator can't be zero\")\n",
    "# print(10/0)\n"
   ]
  },
  {
   "cell_type": "code",
   "execution_count": 36,
   "id": "f0f9850d",
   "metadata": {},
   "outputs": [
    {
     "name": "stdout",
     "output_type": "stream",
     "text": [
      "Enter a numberhello\n"
     ]
    },
    {
     "ename": "ValueError",
     "evalue": "invalid literal for int() with base 10: 'hello'",
     "output_type": "error",
     "traceback": [
      "\u001b[1;31m---------------------------------------------------------------------------\u001b[0m",
      "\u001b[1;31mValueError\u001b[0m                                Traceback (most recent call last)",
      "Input \u001b[1;32mIn [36]\u001b[0m, in \u001b[0;36m<cell line: 1>\u001b[1;34m()\u001b[0m\n\u001b[1;32m----> 1\u001b[0m a\u001b[38;5;241m=\u001b[39m\u001b[38;5;28;43mint\u001b[39;49m\u001b[43m(\u001b[49m\u001b[38;5;28;43minput\u001b[39;49m\u001b[43m(\u001b[49m\u001b[38;5;124;43m\"\u001b[39;49m\u001b[38;5;124;43mEnter a number\u001b[39;49m\u001b[38;5;124;43m\"\u001b[39;49m\u001b[43m)\u001b[49m\u001b[43m)\u001b[49m\n",
      "\u001b[1;31mValueError\u001b[0m: invalid literal for int() with base 10: 'hello'"
     ]
    }
   ],
   "source": [
    "\n",
    "a=int(input(\"Enter a number\"))\n",
    "if type(a)==\"string\""
   ]
  },
  {
   "cell_type": "code",
   "execution_count": null,
   "id": "6c63ad87",
   "metadata": {},
   "outputs": [],
   "source": [
    "try:#-----which part genrates error\n",
    "except:#----code to be executed when error encounters\n",
    "finally:#----"
   ]
  },
  {
   "cell_type": "code",
   "execution_count": 40,
   "id": "1467ac8c",
   "metadata": {},
   "outputs": [
    {
     "name": "stdout",
     "output_type": "stream",
     "text": [
      "Enter a numberjkhfhsdjkf\n",
      "Sir hume error milegi please number daldo\n",
      "Me toh run hounga hiii!!!\n"
     ]
    }
   ],
   "source": [
    "try:\n",
    "    a=int(input(\"Enter a number\"))\n",
    "    print(a)\n",
    "except:\n",
    "    print(\"Sir hume error milegi please number daldo\")\n",
    "finally:\n",
    "    print(\"Me toh run hounga hiii!!!\")"
   ]
  },
  {
   "cell_type": "code",
   "execution_count": 48,
   "id": "da489f38",
   "metadata": {},
   "outputs": [
    {
     "name": "stdout",
     "output_type": "stream",
     "text": [
      "10\n",
      "Zero error\n"
     ]
    }
   ],
   "source": [
    "# print(x)----NameError\n",
    "# a=int(input(\"Enter a number\"))---ValueError\n",
    "# print(\"hello)---SyntaxError\n",
    "# print(10/0)---ZeroDivisionError\n",
    "#as--means alias name\n",
    "try:\n",
    "    x=10\n",
    "    print(x)\n",
    "    print(x/0)\n",
    "    a=int(input(\"Enter Number: \"))\n",
    "except ZeroDivisionError:\n",
    "    print(\"Zero error\")\n",
    "except ValueError:\n",
    "    print(\"Vlaue error\")"
   ]
  }
 ],
 "metadata": {
  "kernelspec": {
   "display_name": "Python 3 (ipykernel)",
   "language": "python",
   "name": "python3"
  },
  "language_info": {
   "codemirror_mode": {
    "name": "ipython",
    "version": 3
   },
   "file_extension": ".py",
   "mimetype": "text/x-python",
   "name": "python",
   "nbconvert_exporter": "python",
   "pygments_lexer": "ipython3",
   "version": "3.9.12"
  }
 },
 "nbformat": 4,
 "nbformat_minor": 5
}
