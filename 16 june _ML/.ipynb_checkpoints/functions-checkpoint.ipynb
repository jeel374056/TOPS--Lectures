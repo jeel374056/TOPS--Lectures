{
 "cells": [
  {
   "cell_type": "code",
   "execution_count": null,
   "id": "bcaf872a",
   "metadata": {},
   "outputs": [],
   "source": [
    "functions ---function i a block of code which is executed the number of times we called them\n",
    "\n",
    "syntax:\n",
    "    def function_name([parameters]):\n",
    "        body of the function"
   ]
  },
  {
   "cell_type": "code",
   "execution_count": null,
   "id": "3d1a1e07",
   "metadata": {},
   "outputs": [],
   "source": [
    "parameter---is used at the time of definition\n",
    "argument--- is used at the time of calling the function"
   ]
  },
  {
   "cell_type": "code",
   "execution_count": 16,
   "id": "4db9b5a0",
   "metadata": {},
   "outputs": [
    {
     "name": "stdout",
     "output_type": "stream",
     "text": [
      "10\n",
      "10\n"
     ]
    }
   ],
   "source": [
    "def print_some():\n",
    "    x=10\n",
    "    print(x)\n",
    "    return x\n",
    "a=print_some()\n",
    "print(a)"
   ]
  },
  {
   "cell_type": "code",
   "execution_count": null,
   "id": "a16f8ae4",
   "metadata": {},
   "outputs": [],
   "source": [
    "there are two types of functions:\n",
    "    1)inbuilt functions---function which comes with python\n",
    "    2)user defined functions---function created by user itself is called UDF"
   ]
  },
  {
   "cell_type": "code",
   "execution_count": null,
   "id": "3494d74e",
   "metadata": {},
   "outputs": [],
   "source": [
    "types of User defined functions\n"
   ]
  },
  {
   "cell_type": "code",
   "execution_count": 18,
   "id": "8fd5725d",
   "metadata": {},
   "outputs": [
    {
     "name": "stdout",
     "output_type": "stream",
     "text": [
      "hello\n",
      "30\n"
     ]
    }
   ],
   "source": [
    "# function with no parameter and no return type\n",
    "def fun1():\n",
    "    print(\"hello\")\n",
    "    a=10\n",
    "    b=20\n",
    "    print(a+b)\n",
    "fun1()"
   ]
  },
  {
   "cell_type": "code",
   "execution_count": 24,
   "id": "a04afc83",
   "metadata": {},
   "outputs": [
    {
     "name": "stdout",
     "output_type": "stream",
     "text": [
      "hello\n"
     ]
    }
   ],
   "source": [
    "# function with parameter and no return value\n",
    "def fun2(a):\n",
    "    print(a)\n",
    "fun2(\"hello\")"
   ]
  },
  {
   "cell_type": "code",
   "execution_count": 28,
   "id": "7e13ac49",
   "metadata": {},
   "outputs": [
    {
     "name": "stdout",
     "output_type": "stream",
     "text": [
      "[1, 2, 3]\n"
     ]
    }
   ],
   "source": [
    "#function with parameter and with return value also\n",
    "def fun3(a,b):\n",
    "    summ=a+b\n",
    "    return [1,2,3]\n",
    "addi=fun3(10,20)\n",
    "print(addi)"
   ]
  },
  {
   "cell_type": "code",
   "execution_count": 30,
   "id": "2ae97773",
   "metadata": {},
   "outputs": [
    {
     "name": "stdout",
     "output_type": "stream",
     "text": [
      "Topstech\n",
      "<class 'str'>\n"
     ]
    }
   ],
   "source": [
    "# function with no parameter but having return value\n",
    "def fun4():\n",
    "    a=\"Tops\"\n",
    "    b=\"tech\"\n",
    "    print(a+b)\n",
    "    return (a+b)\n",
    "s=fun4()\n",
    "print(type(s))b\n"
   ]
  },
  {
   "cell_type": "code",
   "execution_count": 301,
   "id": "b33cfb07",
   "metadata": {},
   "outputs": [
    {
     "name": "stdout",
     "output_type": "stream",
     "text": [
      "10 20 30\n",
      "60\n"
     ]
    }
   ],
   "source": [
    "# positional argument\n",
    "def fun5(a,b,c,d):\n",
    "    addi=a+b+c\n",
    "    print(a,b,c)\n",
    "    return addi\n",
    "summ=fun5(10,20,30,55)\n",
    "print(summ)"
   ]
  },
  {
   "cell_type": "code",
   "execution_count": 46,
   "id": "96cf3b92",
   "metadata": {},
   "outputs": [
    {
     "name": "stdout",
     "output_type": "stream",
     "text": [
      "10 20 30\n",
      "60\n"
     ]
    }
   ],
   "source": [
    "# keyword argument\n",
    "def fun5(a,b,c,d):\n",
    "    addi=a+b+c\n",
    "    print(a,b,c)\n",
    "    return addi\n",
    "summ=fun5(10,c=30,d=40,b=20)\n",
    "print(summ)"
   ]
  },
  {
   "cell_type": "code",
   "execution_count": 55,
   "id": "6adc6ddb",
   "metadata": {},
   "outputs": [
    {
     "name": "stdout",
     "output_type": "stream",
     "text": [
      "10 hello 40 20\n"
     ]
    }
   ],
   "source": [
    "#default parameter\n",
    "def fun6(b,a=10,d=20,c=40):\n",
    "    print(a,b,c,d)\n",
    "fun6(\"hello\")"
   ]
  },
  {
   "cell_type": "code",
   "execution_count": 68,
   "id": "0babb00d",
   "metadata": {},
   "outputs": [
    {
     "name": "stdout",
     "output_type": "stream",
     "text": [
      "135\n"
     ]
    }
   ],
   "source": [
    "#arbitrary argument---positional values *args\n",
    "def fun7(*f):\n",
    "    print(f[0]+f[1])\n",
    "fun7(45,90,45,4,8,7,8,785)"
   ]
  },
  {
   "cell_type": "code",
   "execution_count": null,
   "id": "ca77c15c",
   "metadata": {},
   "outputs": [],
   "source": [
    "#arbitrary keyword argument----keywords values----**args"
   ]
  },
  {
   "cell_type": "code",
   "execution_count": 76,
   "id": "3e0bd8a3",
   "metadata": {},
   "outputs": [
    {
     "name": "stdout",
     "output_type": "stream",
     "text": [
      "45\n",
      "4\n"
     ]
    }
   ],
   "source": [
    "def fun7(*j,**f):\n",
    "    print(f['a'])\n",
    "    print(j[0]) \n",
    "fun7(4,8,7,8,785,a=45,b=90,c=45)"
   ]
  },
  {
   "cell_type": "code",
   "execution_count": 84,
   "id": "22c41d08",
   "metadata": {},
   "outputs": [
    {
     "name": "stdout",
     "output_type": "stream",
     "text": [
      "15\n",
      "hello\n"
     ]
    },
    {
     "data": {
      "text/plain": [
       "function"
      ]
     },
     "execution_count": 84,
     "metadata": {},
     "output_type": "execute_result"
    }
   ],
   "source": [
    "# def fun1(a,b,c):\n",
    "#     print(a,b,c)\n",
    "l=lambda a : print(a+10)\n",
    "z=lambda b : print(b)\n",
    "l(5)\n",
    "z(\"hello\")\n",
    "type(l)\n"
   ]
  },
  {
   "cell_type": "code",
   "execution_count": 91,
   "id": "faa9576b",
   "metadata": {},
   "outputs": [
    {
     "name": "stdout",
     "output_type": "stream",
     "text": [
      "30\n",
      "20\n"
     ]
    }
   ],
   "source": [
    "x=20\n",
    "def summ():\n",
    "    global x\n",
    "    x=30\n",
    "    print(x)\n",
    "summ()\n",
    "print(x)"
   ]
  },
  {
   "cell_type": "code",
   "execution_count": 300,
   "id": "36a5e666",
   "metadata": {},
   "outputs": [
    {
     "name": "stdout",
     "output_type": "stream",
     "text": [
      "0\n",
      "18\n",
      "0.6966436083774556\n"
     ]
    }
   ],
   "source": [
    "import random\n",
    "print(random.randrange(0,46,5))\n",
    "print(random.randint(1,45))\n",
    "print(random.random())"
   ]
  },
  {
   "cell_type": "code",
   "execution_count": null,
   "id": "4a46802f",
   "metadata": {},
   "outputs": [],
   "source": [
    "import math\n",
    "math."
   ]
  },
  {
   "cell_type": "code",
   "execution_count": null,
   "id": "7d886687",
   "metadata": {},
   "outputs": [],
   "source": [
    "packages is acollection of modules or python files having one default file __init__.py"
   ]
  }
 ],
 "metadata": {
  "kernelspec": {
   "display_name": "Python 3 (ipykernel)",
   "language": "python",
   "name": "python3"
  },
  "language_info": {
   "codemirror_mode": {
    "name": "ipython",
    "version": 3
   },
   "file_extension": ".py",
   "mimetype": "text/x-python",
   "name": "python",
   "nbconvert_exporter": "python",
   "pygments_lexer": "ipython3",
   "version": "3.9.12"
  }
 },
 "nbformat": 4,
 "nbformat_minor": 5
}
