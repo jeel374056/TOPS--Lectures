{
 "cells": [
  {
   "cell_type": "code",
   "execution_count": null,
   "id": "c57d2135",
   "metadata": {},
   "outputs": [],
   "source": [
    "print(\"tops technologies\")"
   ]
  },
  {
   "cell_type": "code",
   "execution_count": null,
   "id": "180fb676",
   "metadata": {},
   "outputs": [],
   "source": [
    "print('tops technologies')"
   ]
  },
  {
   "cell_type": "code",
   "execution_count": null,
   "id": "14c4baae",
   "metadata": {},
   "outputs": [],
   "source": [
    "print('Someone says \"hello Good Morning\"')"
   ]
  },
  {
   "cell_type": "code",
   "execution_count": null,
   "id": "8be2cfc5",
   "metadata": {},
   "outputs": [],
   "source": [
    "print('''this is a tops tech\n",
    "sdjhflskjg\n",
    "gjghjsfd\n",
    "''')\n",
    "#sdjgdfjgdkjg\n",
    "'''gdjhasgfdhdf hgsfdjkghg\n",
    "gjhsfdjkgh\n",
    "fdghfdjkg'''"
   ]
  },
  {
   "cell_type": "code",
   "execution_count": null,
   "id": "3790154c",
   "metadata": {},
   "outputs": [],
   "source": [
    "print('''heelo world\\\\ns''')"
   ]
  },
  {
   "cell_type": "code",
   "execution_count": null,
   "id": "edfc4719",
   "metadata": {},
   "outputs": [],
   "source": [
    "print(\"Students\",end=\"-\")\n",
    "print(\"Welcome\")\n",
    "print(\"Tops\")"
   ]
  },
  {
   "cell_type": "code",
   "execution_count": null,
   "id": "2f023de7",
   "metadata": {},
   "outputs": [],
   "source": [
    "print \"Hello\""
   ]
  },
  {
   "cell_type": "code",
   "execution_count": null,
   "id": "56c8f61e",
   "metadata": {},
   "outputs": [],
   "source": [
    "print(\"\"\"hello world\n",
    "jgsjkhg\n",
    "sjghsfkgj\"\"\")\n",
    "a=10\n",
    "b=20\n",
    "# yyrthh\n",
    "# thyrth\n",
    "# rth\n",
    "# rh\n",
    "# rth\n",
    "\n",
    "\n",
    "print(a,b,sep=\"/\")"
   ]
  },
  {
   "cell_type": "code",
   "execution_count": null,
   "id": "cccc258a",
   "metadata": {},
   "outputs": [],
   "source": [
    "#1> should start with either underscor(_) or alphabtes only\n",
    "#>Every other character except first ,underscore(_),alphabet(),number(_)\n",
    "\n",
    "# print(r\"$%#%#\\n356\\\"6$%#$%\")\n",
    "# a=()\n",
    "print(type(a))\n",
    "a=(2.9999999999999999)\n",
    "print(a)"
   ]
  },
  {
   "cell_type": "code",
   "execution_count": null,
   "id": "58e9a313",
   "metadata": {},
   "outputs": [],
   "source": []
  },
  {
   "cell_type": "code",
   "execution_count": null,
   "id": "89d7198c",
   "metadata": {},
   "outputs": [],
   "source": [
    "a=int(input(\"Enter Number: \"))\n",
    "print(type(a))"
   ]
  },
  {
   "cell_type": "code",
   "execution_count": null,
   "id": "225da643",
   "metadata": {},
   "outputs": [],
   "source": [
    "# str1='''tops,technologies,hello,welcome\n",
    "# fjsfhgsf\n",
    "# fshfs\n",
    "# sfjksfsjf'''\n",
    "# print(str1.split(\"\\n\"))\n",
    "a=10\n",
    "b=101\n",
    "str1=\"hello {} world {}\".format(a,b,c)\n",
    "print(f\"hello {a} world {b}\")\n",
    "# print(str1)"
   ]
  },
  {
   "cell_type": "code",
   "execution_count": null,
   "id": "af9cec44",
   "metadata": {},
   "outputs": [],
   "source": [
    "a=9\n",
    "b=2\n",
    "print(a%b)#---remainder ---modulo operator\n",
    "print(a//b)#3----\n",
    "print(3**2)#3^2"
   ]
  },
  {
   "cell_type": "code",
   "execution_count": 9,
   "id": "5b5e1b6e",
   "metadata": {},
   "outputs": [
    {
     "name": "stdout",
     "output_type": "stream",
     "text": [
      "True\n"
     ]
    }
   ],
   "source": [
    "a=10\n",
    "b=10\n",
    "if a is b:\n",
    "    print(\"True\")\n",
    "else:\n",
    "    print(\"False\")"
   ]
  },
  {
   "cell_type": "code",
   "execution_count": 11,
   "id": "ca74cc5e",
   "metadata": {},
   "outputs": [
    {
     "name": "stdout",
     "output_type": "stream",
     "text": [
      "true\n"
     ]
    }
   ],
   "source": [
    "str1=\"Tops TEch\"\n",
    "# if\n",
    "\n",
    "# if else\n",
    "\n",
    "# if elif else\n",
    "\n",
    "# if \n",
    "#   if else\n",
    "# else"
   ]
  }
 ],
 "metadata": {
  "kernelspec": {
   "display_name": "Python 3 (ipykernel)",
   "language": "python",
   "name": "python3"
  },
  "language_info": {
   "codemirror_mode": {
    "name": "ipython",
    "version": 3
   },
   "file_extension": ".py",
   "mimetype": "text/x-python",
   "name": "python",
   "nbconvert_exporter": "python",
   "pygments_lexer": "ipython3",
   "version": "3.9.12"
  }
 },
 "nbformat": 4,
 "nbformat_minor": 5
}
