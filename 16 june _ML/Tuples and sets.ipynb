{
 "cells": [
  {
   "cell_type": "code",
   "execution_count": null,
   "id": "6a4817df",
   "metadata": {},
   "outputs": [],
   "source": [
    "# #tuples\n",
    "# tuples can store same datatype values as well as different datatypes also\n",
    "# tuple is immutable\n",
    "# tuple allowed duplicates\n",
    "# tuple is ordered\n",
    "# tuple=()\n",
    "\n"
   ]
  },
  {
   "cell_type": "code",
   "execution_count": null,
   "id": "d6834aac",
   "metadata": {},
   "outputs": [],
   "source": [
    "tup1=(1,1.9,\"String\",True,[1,2,3],(1,4,9))\n",
    "print(tup1[2:5])\n",
    "tup1[5][1]=False\n",
    "print(tup1)"
   ]
  },
  {
   "cell_type": "code",
   "execution_count": null,
   "id": "70c8fd6e",
   "metadata": {},
   "outputs": [],
   "source": [
    "list1=(1,2)\n",
    "tup1=tuple(list1)\n",
    "print(tup1)"
   ]
  },
  {
   "cell_type": "code",
   "execution_count": null,
   "id": "0202bb12",
   "metadata": {},
   "outputs": [],
   "source": [
    "list1={1,2,2}\n",
    "list1.clear()\n",
    "print(list1)"
   ]
  },
  {
   "cell_type": "code",
   "execution_count": null,
   "id": "6b399250",
   "metadata": {},
   "outputs": [],
   "source": [
    "x = {\"apple\", \"banana\", \"cherry\"}\n",
    "y = {\"google\", \"microsoft\", \"apple\"}\n",
    "\n",
    "x.difference_update(y)\n",
    "\n",
    "print(x)"
   ]
  },
  {
   "cell_type": "code",
   "execution_count": null,
   "id": "f018f592",
   "metadata": {},
   "outputs": [],
   "source": [
    "fruits = {\"apple\", \"banana\", \"cherry\"}\n",
    "\n",
    "fruits.pop()\n"
   ]
  },
  {
   "cell_type": "code",
   "execution_count": null,
   "id": "abad8df1",
   "metadata": {},
   "outputs": [],
   "source": [
    "x = {\"apple\", \"banana\", \"cherry\"}\n",
    "y = {\"google\", \"microsoft\", \"facebook\"}\n",
    "\n",
    "z = x.isdisjoint(y)\n",
    "\n",
    "print(z)"
   ]
  },
  {
   "cell_type": "code",
   "execution_count": null,
   "id": "e10e4589",
   "metadata": {},
   "outputs": [],
   "source": [
    "x = {\"a\", \"b\", \"c\",\"q\"}\n",
    "y = {\"f\", \"e\", \"d\", \"c\", \"b\", \"a\"}\n",
    "\n",
    "z = x.issubset(y)\n",
    "\n",
    "print(z)"
   ]
  },
  {
   "cell_type": "code",
   "execution_count": null,
   "id": "c38bcd7b",
   "metadata": {},
   "outputs": [],
   "source": [
    "x = {\"apple\", \"banana\", \"cherry\"}\n",
    "y = {\"google\", \"microsoft\", \"apple\"}\n",
    "\n",
    "x.update(y)\n",
    "\n",
    "print(x)"
   ]
  },
  {
   "cell_type": "code",
   "execution_count": null,
   "id": "649510c9",
   "metadata": {},
   "outputs": [],
   "source": [
    "set1={1,1,4,5,4,8,9}\n",
    "type(set1)\n",
    "print(len(set1))\n",
    "# set----multiple dattypes values\n",
    "# set unordered\n"
   ]
  },
  {
   "cell_type": "code",
   "execution_count": null,
   "id": "8df052b8",
   "metadata": {},
   "outputs": [],
   "source": [
    "dict1={\"key1\":(,\"key2\":\"value2\"}\n",
    "print(dict1)"
   ]
  },
  {
   "cell_type": "code",
   "execution_count": 12,
   "id": "e74ff330",
   "metadata": {},
   "outputs": [
    {
     "name": "stdout",
     "output_type": "stream",
     "text": [
      "{1: 1, 'hello': 'hello', 'true': False, 4: {'key2': 'value2'}, (1, 2): (4, 5, 6)}\n",
      "{1: 1, 'hello': 'hello', 'true': False, 4: {'key2': 'value2'}, (1, 2): (4, 5, 6)}\n"
     ]
    }
   ],
   "source": [
    "dict1={1:1,\"hello\":\"hello\",\"true\":False,4:[1,2,3],(1,2):(4,5,6),4:{\"key2\":\"value2\"}}\n",
    "x=dict1.copy()\n",
    "print(dict1)\n",
    "print(x)"
   ]
  },
  {
   "cell_type": "code",
   "execution_count": 19,
   "id": "a9b88c8e",
   "metadata": {},
   "outputs": [
    {
     "name": "stdout",
     "output_type": "stream",
     "text": [
      "dict_items([('brand', 'Ford'), ('model', 'Mustang'), ('year', 'World')])\n"
     ]
    }
   ],
   "source": [
    "car = {\n",
    "  \"brand\": \"Ford\",\n",
    "  \"model\": \"Mustang\",\n",
    "  \"year\": 1964\n",
    "}\n",
    "\n",
    "car.update({\"year\": \"White\",\"year\":\"World\"})\n",
    "\n",
    "print(car.items())"
   ]
  },
  {
   "cell_type": "code",
   "execution_count": 23,
   "id": "f79af7f4",
   "metadata": {},
   "outputs": [
    {
     "name": "stdout",
     "output_type": "stream",
     "text": [
      "1964\n"
     ]
    }
   ],
   "source": [
    "car = {\n",
    "  \"brand\": \"Ford\",\n",
    "  \"model\": \"Mustang\",\n",
    "  \"year\": 1964\n",
    "}\n",
    "\n",
    "x = car.get(\"year\",\"World\")\n",
    "\n",
    "print(x)"
   ]
  }
 ],
 "metadata": {
  "kernelspec": {
   "display_name": "Python 3 (ipykernel)",
   "language": "python",
   "name": "python3"
  },
  "language_info": {
   "codemirror_mode": {
    "name": "ipython",
    "version": 3
   },
   "file_extension": ".py",
   "mimetype": "text/x-python",
   "name": "python",
   "nbconvert_exporter": "python",
   "pygments_lexer": "ipython3",
   "version": "3.9.12"
  }
 },
 "nbformat": 4,
 "nbformat_minor": 5
}
