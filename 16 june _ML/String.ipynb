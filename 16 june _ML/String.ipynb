{
 "cells": [
  {
   "cell_type": "code",
   "execution_count": null,
   "id": "e6af71c7",
   "metadata": {},
   "outputs": [],
   "source": [
    "str1=\"cjjk\"\n",
    "str1=\"Tops\"\n",
    "# string is immutable----changes cannot be done \n",
    "str1='hello'\n",
    "str1=\"Hello\"\n",
    "str1=\"\"\"hello\n",
    "welcome\n",
    "to Tops\"\"\""
   ]
  },
  {
   "cell_type": "code",
   "execution_count": null,
   "id": "b1e22a52",
   "metadata": {},
   "outputs": [],
   "source": [
    "str1=\"tops TechNologies\"\n",
    "print(str1.capitalize())#------Capitalize the first letter of the string and other letter will be in lowercase\n",
    "print(str1)"
   ]
  },
  {
   "cell_type": "code",
   "execution_count": null,
   "id": "87506b38",
   "metadata": {},
   "outputs": [],
   "source": [
    "str1=\"tops TechNologies\"\n",
    "print(str1.casefold())#-------changes all letter to lowercase\n",
    "print(str1)"
   ]
  },
  {
   "cell_type": "code",
   "execution_count": null,
   "id": "82d8a615",
   "metadata": {},
   "outputs": [],
   "source": [
    "str1=\"tops TechNologies\"\n",
    "print(str1.center(50))#---return the centralized string with default whilespace in other character otherwise we mentioned then that character will be our remaning spaces"
   ]
  },
  {
   "cell_type": "code",
   "execution_count": null,
   "id": "43cfa236",
   "metadata": {},
   "outputs": [],
   "source": [
    "str1=\"tops TechNologies\"\n",
    "print(str1.count(\"o\",3,11))"
   ]
  },
  {
   "cell_type": "code",
   "execution_count": null,
   "id": "5ba481bb",
   "metadata": {},
   "outputs": [],
   "source": [
    "str1=\"tops TechNologies\"\n",
    "print(str1.endswith(\"N\",25,50))#---check whether the string ends with the given substring or not"
   ]
  },
  {
   "cell_type": "code",
   "execution_count": null,
   "id": "ffabd48f",
   "metadata": {},
   "outputs": [],
   "source": [
    "str1=\"tops TechNologies\"\n",
    "print(str1.find(\"og\",0,5))"
   ]
  },
  {
   "cell_type": "code",
   "execution_count": null,
   "id": "dcba1a92",
   "metadata": {},
   "outputs": [],
   "source": [
    "str1=\"tops TechNologies\"\n",
    "print(str1.index(\"z\"))#*********Gives error when substring index not found"
   ]
  },
  {
   "cell_type": "code",
   "execution_count": null,
   "id": "9bf4f95d",
   "metadata": {},
   "outputs": [],
   "source": [
    "str1=\"0.9\"\n",
    "print(str1.isnumeric())"
   ]
  },
  {
   "cell_type": "code",
   "execution_count": null,
   "id": "8865e6e4",
   "metadata": {},
   "outputs": [],
   "source": [
    "str1=\"a4_hello*_1\"\n",
    "print(str1.isidentifier())"
   ]
  },
  {
   "cell_type": "code",
   "execution_count": null,
   "id": "74835187",
   "metadata": {},
   "outputs": [],
   "source": [
    "str1=\"Hello World\"\n",
    "print(str1.ljust(50,\"a\"))"
   ]
  },
  {
   "cell_type": "code",
   "execution_count": null,
   "id": "ff9d8d1d",
   "metadata": {},
   "outputs": [],
   "source": [
    "str1=\"Hello World round\"\n",
    "print(str1.partition(\"ro\"))"
   ]
  },
  {
   "cell_type": "code",
   "execution_count": null,
   "id": "5805329a",
   "metadata": {},
   "outputs": [],
   "source": [
    "str1=\"Hello World round\"\n",
    "print(str1.replace('r','z',25))"
   ]
  },
  {
   "cell_type": "code",
   "execution_count": null,
   "id": "f26181de",
   "metadata": {},
   "outputs": [],
   "source": [
    "str1=\"Hello World round\"\n",
    "print(str1.split(sep=None))\n",
    "print(str1.swapcase())"
   ]
  },
  {
   "cell_type": "code",
   "execution_count": 4,
   "id": "cf4665cd",
   "metadata": {},
   "outputs": [
    {
     "name": "stdout",
     "output_type": "stream",
     "text": [
      "ello World round\n"
     ]
    }
   ],
   "source": [
    "str1=\"Hello World round\"\n",
    "print(str1[1::1])"
   ]
  },
  {
   "cell_type": "code",
   "execution_count": 5,
   "id": "b2497f71",
   "metadata": {},
   "outputs": [
    {
     "name": "stdout",
     "output_type": "stream",
     "text": [
      "str[0:5] Tops \n",
      "str[0:10:12] T\n"
     ]
    }
   ],
   "source": [
    "str = \"Tops Technologies\"\n",
    "print(\"str[0:5]\",str[0:5])\n",
    "print(\"str[0:10:12]\",str[0:10:12])"
   ]
  },
  {
   "cell_type": "code",
   "execution_count": null,
   "id": "1c069b06",
   "metadata": {},
   "outputs": [],
   "source": [
    "list1=\"T,o,p,s\"\n",
    "str2=\"hello\"\n",
    "print(str2.join(list1))"
   ]
  }
 ],
 "metadata": {
  "kernelspec": {
   "display_name": "Python 3 (ipykernel)",
   "language": "python",
   "name": "python3"
  },
  "language_info": {
   "codemirror_mode": {
    "name": "ipython",
    "version": 3
   },
   "file_extension": ".py",
   "mimetype": "text/x-python",
   "name": "python",
   "nbconvert_exporter": "python",
   "pygments_lexer": "ipython3",
   "version": "3.9.12"
  }
 },
 "nbformat": 4,
 "nbformat_minor": 5
}
