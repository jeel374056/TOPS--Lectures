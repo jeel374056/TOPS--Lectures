{
 "cells": [
  {
   "cell_type": "code",
   "execution_count": 33,
   "id": "8ace20b7",
   "metadata": {},
   "outputs": [
    {
     "name": "stdout",
     "output_type": "stream",
     "text": [
      "Welcome to student cllas\n",
      "20\n",
      "40\n",
      "<class '__main__.Student'>\n",
      "Welcome to student cllas\n",
      "Kishan\n",
      "python\n",
      "<class '__main__.Student'>\n",
      "<__main__.Student object at 0x000002957DC06820>\n",
      "<__main__.Student object at 0x000002957D13D370>\n",
      "name is student\n",
      "name is 45\n",
      "name is german\n",
      "x is 20\n",
      "name is student\n",
      "name is 18\n",
      "name is Python\n",
      "x is Kishan\n"
     ]
    }
   ],
   "source": [
    "class Student:\n",
    "    def __init__(self,x,y):\n",
    "        print(\"Welcome to student cllas\")\n",
    "        self.name=\"student\"\n",
    "        self.age=18\n",
    "        self.language=\"german\"\n",
    "        self.x=x\n",
    "        print(x)\n",
    "        print(y)\n",
    "        print(type(self))\n",
    "    \n",
    "    def showdata(self,x):\n",
    "        print(f\"name is {self.name}\")\n",
    "        print(f\"name is {self.age}\")\n",
    "        print(f\"name is {self.language}\")\n",
    "        print(f\"x is {self.x}\")\n",
    "        \n",
    "std1=Student(20,40)\n",
    "std2=Student(\"Kishan\",\"python\")\n",
    "print(std1)\n",
    "print(std2)\n",
    "std1.age=45\n",
    "std1.showdata(\"wow this is amazing\")\n",
    "std2.language=\"Python\"\n",
    "std2.showdata(\"Sorry this is not amazing\")\n"
   ]
  },
  {
   "cell_type": "code",
   "execution_count": 49,
   "id": "5242e4eb",
   "metadata": {},
   "outputs": [
    {
     "name": "stdout",
     "output_type": "stream",
     "text": [
      "10\n",
      "TRID\n",
      "\n",
      "\n"
     ]
    }
   ],
   "source": [
    "class Student:\n",
    "    x=\"\"\n",
    "    y=\"\"\n",
    "    def __init__(self,x,y):\n",
    "        self.x=x\n",
    "        self.y=y\n",
    "    \n",
    "    def showdata(self):\n",
    "        print(self.x)\n",
    "        print(self.y)\n",
    "class Employee(Student):\n",
    "    def __init__(self,x,y,z):\n",
    "        self.z=z\n",
    "    \n",
    "    def display(self):\n",
    "        print(\"this is Employee classs\")\n",
    "std=Student(10,\"TRID\")\n",
    "emp1=Employee(20,\"Hello\",89)\n",
    "std.showdata()\n",
    "emp1.showdata()\n"
   ]
  }
 ],
 "metadata": {
  "kernelspec": {
   "display_name": "Python 3 (ipykernel)",
   "language": "python",
   "name": "python3"
  },
  "language_info": {
   "codemirror_mode": {
    "name": "ipython",
    "version": 3
   },
   "file_extension": ".py",
   "mimetype": "text/x-python",
   "name": "python",
   "nbconvert_exporter": "python",
   "pygments_lexer": "ipython3",
   "version": "3.9.12"
  }
 },
 "nbformat": 4,
 "nbformat_minor": 5
}
