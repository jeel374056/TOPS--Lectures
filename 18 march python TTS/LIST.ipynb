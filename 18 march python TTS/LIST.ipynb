{
 "cells": [
  {
   "cell_type": "markdown",
   "id": "2b20d288",
   "metadata": {},
   "source": [
    "# List"
   ]
  },
  {
   "cell_type": "code",
   "execution_count": null,
   "id": "2f0ea8b3",
   "metadata": {},
   "outputs": [],
   "source": [
    "# list is a collection of elements of different or similar datatypes\n",
    "list is defined in []\n",
    "list is ordered and mutable collection \n",
    "# mutable means changes allowed"
   ]
  },
  {
   "cell_type": "code",
   "execution_count": 3,
   "id": "a8c515b6",
   "metadata": {},
   "outputs": [
    {
     "name": "stdout",
     "output_type": "stream",
     "text": [
      "<class 'tuple'>\n"
     ]
    }
   ],
   "source": [
    "a=10\n",
    "a=10,20\n",
    "print(type(a))"
   ]
  },
  {
   "cell_type": "code",
   "execution_count": null,
   "id": "3fe32ae9",
   "metadata": {},
   "outputs": [],
   "source": [
    "a=[256,23.36,\"Hello\",False,[45,23],(45,96),{1,2},{1:\"Hello\"}]"
   ]
  },
  {
   "cell_type": "code",
   "execution_count": 5,
   "id": "b4ea94af",
   "metadata": {},
   "outputs": [
    {
     "ename": "TypeError",
     "evalue": "'str' object does not support item assignment",
     "output_type": "error",
     "traceback": [
      "\u001b[1;31m---------------------------------------------------------------------------\u001b[0m",
      "\u001b[1;31mTypeError\u001b[0m                                 Traceback (most recent call last)",
      "Input \u001b[1;32mIn [5]\u001b[0m, in \u001b[0;36m<cell line: 2>\u001b[1;34m()\u001b[0m\n\u001b[0;32m      1\u001b[0m str1\u001b[38;5;241m=\u001b[39m\u001b[38;5;124m\"\u001b[39m\u001b[38;5;124mhello World\u001b[39m\u001b[38;5;124m\"\u001b[39m\n\u001b[1;32m----> 2\u001b[0m str1[\u001b[38;5;241m1\u001b[39m]\u001b[38;5;241m=\u001b[39m\u001b[38;5;124m\"\u001b[39m\u001b[38;5;124mg\u001b[39m\u001b[38;5;124m\"\u001b[39m\n\u001b[0;32m      3\u001b[0m \u001b[38;5;28mprint\u001b[39m(str1[\u001b[38;5;241m1\u001b[39m])\n",
      "\u001b[1;31mTypeError\u001b[0m: 'str' object does not support item assignment"
     ]
    }
   ],
   "source": [
    "str1=\"hello World\"\n",
    "str1[1]=\"g\"\n",
    "print(str1[1])"
   ]
  },
  {
   "cell_type": "code",
   "execution_count": 6,
   "id": "0f05a063",
   "metadata": {},
   "outputs": [
    {
     "name": "stdout",
     "output_type": "stream",
     "text": [
      "[1, 48, 3, 4, 5, 6]\n"
     ]
    }
   ],
   "source": [
    "list1=[1,2,3,4,5,6]\n",
    "list1[1]=48\n",
    "print(list1)"
   ]
  },
  {
   "cell_type": "code",
   "execution_count": 8,
   "id": "97319065",
   "metadata": {},
   "outputs": [
    {
     "name": "stdout",
     "output_type": "stream",
     "text": [
      "[89, 74, 52, 13]\n",
      "[45, 89, 52, 65]\n"
     ]
    }
   ],
   "source": [
    "list1=[45,65,89,74,52,13,65,45]\n",
    "print(list1[2:6]) #list slicing\n",
    "print(list1[0:7:2])"
   ]
  },
  {
   "cell_type": "code",
   "execution_count": 11,
   "id": "2c293713",
   "metadata": {},
   "outputs": [
    {
     "name": "stdout",
     "output_type": "stream",
     "text": [
      "4587\n",
      "e\n"
     ]
    }
   ],
   "source": [
    "list1=[1,54,89,65,\"hello\",[45,32,4587,89],45,87,95]\n",
    "print(list1[5][2])\n",
    "print(list1[4][1])"
   ]
  },
  {
   "cell_type": "code",
   "execution_count": 13,
   "id": "508a0a6e",
   "metadata": {},
   "outputs": [
    {
     "name": "stdout",
     "output_type": "stream",
     "text": [
      "hello\n",
      "45\n",
      "False\n"
     ]
    }
   ],
   "source": [
    "# for loop\n",
    "list1=[\"hello\",45,False]\n",
    "for i in list1:\n",
    "    print(i)"
   ]
  },
  {
   "cell_type": "code",
   "execution_count": 19,
   "id": "8fe29eb9",
   "metadata": {},
   "outputs": [
    {
     "name": "stdout",
     "output_type": "stream",
     "text": [
      "[45, 96, 87, 49, [1, 21, 3, 4, 5], 45]\n"
     ]
    }
   ],
   "source": [
    "# list methods\n",
    "# append() --add element at last of list\n",
    "list1=[45,96,87,49]\n",
    "list1.append([1,21,3,4,5])\n",
    "list1.append(45)\n",
    "print(list1)"
   ]
  },
  {
   "cell_type": "code",
   "execution_count": 21,
   "id": "83b97cea",
   "metadata": {},
   "outputs": [
    {
     "name": "stdout",
     "output_type": "stream",
     "text": [
      "[45, 96, 87, 49, 1, 2, 3, 4, 5]\n"
     ]
    }
   ],
   "source": [
    "# extend()---add elements at last of list\n",
    "list1=[45,96,87,49]\n",
    "list1.extend([1,2,3,4,5])\n",
    "# list1.extend(45)\n",
    "print(list1)"
   ]
  },
  {
   "cell_type": "code",
   "execution_count": 22,
   "id": "c08e78cd",
   "metadata": {},
   "outputs": [
    {
     "name": "stdout",
     "output_type": "stream",
     "text": [
      "Enter A Number: 965\n",
      "[4, 5, 89, 45, 965]\n"
     ]
    }
   ],
   "source": [
    "a=int(input(\"Enter A Number: \"))\n",
    "list1=[4,5,89,45]\n",
    "list1.append(a)\n",
    "print(list1)"
   ]
  },
  {
   "cell_type": "code",
   "execution_count": 26,
   "id": "abd00089",
   "metadata": {},
   "outputs": [
    {
     "name": "stdout",
     "output_type": "stream",
     "text": [
      "[45, 69, 'hello', 87, 45, 63, 215]\n"
     ]
    }
   ],
   "source": [
    "# insert(index,value) ---insert element at defined index\n",
    "list1=[45,69,87,45,63,215]\n",
    "list1.insert(2,\"hello\")\n",
    "print(list1)"
   ]
  },
  {
   "cell_type": "code",
   "execution_count": 30,
   "id": "00dd7945",
   "metadata": {},
   "outputs": [
    {
     "ename": "IndexError",
     "evalue": "pop index out of range",
     "output_type": "error",
     "traceback": [
      "\u001b[1;31m---------------------------------------------------------------------------\u001b[0m",
      "\u001b[1;31mIndexError\u001b[0m                                Traceback (most recent call last)",
      "Input \u001b[1;32mIn [30]\u001b[0m, in \u001b[0;36m<cell line: 3>\u001b[1;34m()\u001b[0m\n\u001b[0;32m      1\u001b[0m \u001b[38;5;66;03m# pop([index])--removes element at particular index if index not given then removes last element\u001b[39;00m\n\u001b[0;32m      2\u001b[0m list1\u001b[38;5;241m=\u001b[39m[\u001b[38;5;241m45\u001b[39m,\u001b[38;5;241m69\u001b[39m,\u001b[38;5;241m87\u001b[39m,\u001b[38;5;241m45\u001b[39m,\u001b[38;5;241m21\u001b[39m,\u001b[38;5;241m45\u001b[39m]\n\u001b[1;32m----> 3\u001b[0m \u001b[43mlist1\u001b[49m\u001b[38;5;241;43m.\u001b[39;49m\u001b[43mpop\u001b[49m\u001b[43m(\u001b[49m\u001b[38;5;241;43m40\u001b[39;49m\u001b[43m)\u001b[49m\n\u001b[0;32m      4\u001b[0m \u001b[38;5;28mprint\u001b[39m(list1)\n",
      "\u001b[1;31mIndexError\u001b[0m: pop index out of range"
     ]
    }
   ],
   "source": [
    "# pop([index])--removes element at particular index, if index not given then removes last element\n",
    "# and if index is out of range then it gives index error\n",
    "list1=[45,69,87,45,21,45]\n",
    "list1.pop(4)\n",
    "list1.pop()\n",
    "list1.pop(40)\n",
    "print(list1)"
   ]
  },
  {
   "cell_type": "code",
   "execution_count": 34,
   "id": "49cbe912",
   "metadata": {},
   "outputs": [
    {
     "ename": "ValueError",
     "evalue": "list.remove(x): x not in list",
     "output_type": "error",
     "traceback": [
      "\u001b[1;31m---------------------------------------------------------------------------\u001b[0m",
      "\u001b[1;31mValueError\u001b[0m                                Traceback (most recent call last)",
      "Input \u001b[1;32mIn [34]\u001b[0m, in \u001b[0;36m<cell line: 5>\u001b[1;34m()\u001b[0m\n\u001b[0;32m      2\u001b[0m list1\u001b[38;5;241m=\u001b[39m[\u001b[38;5;241m45\u001b[39m,\u001b[38;5;241m69\u001b[39m,\u001b[38;5;241m87\u001b[39m,\u001b[38;5;241m41\u001b[39m,\u001b[38;5;241m69\u001b[39m,\u001b[38;5;241m23\u001b[39m,\u001b[38;5;241m56\u001b[39m]\n\u001b[0;32m      3\u001b[0m \u001b[38;5;66;03m# list1.remove() --error typeerror\u001b[39;00m\n\u001b[0;32m      4\u001b[0m \u001b[38;5;66;03m# list1.remove(69) --multiple element then it removes the first one\u001b[39;00m\n\u001b[1;32m----> 5\u001b[0m \u001b[43mlist1\u001b[49m\u001b[38;5;241;43m.\u001b[39;49m\u001b[43mremove\u001b[49m\u001b[43m(\u001b[49m\u001b[38;5;241;43m101\u001b[39;49m\u001b[43m)\u001b[49m\n\u001b[0;32m      6\u001b[0m \u001b[38;5;28mprint\u001b[39m(list1)\n",
      "\u001b[1;31mValueError\u001b[0m: list.remove(x): x not in list"
     ]
    }
   ],
   "source": [
    "# remove(element)--removes the given element at first occurence\n",
    "list1=[45,69,87,41,69,23,56]\n",
    "# list1.remove() --error typeerror\n",
    "# list1.remove(69) --multiple element then it removes the first one\n",
    "# list1.remove(101) ---value error when element is not in list\n",
    "print(list1)"
   ]
  },
  {
   "cell_type": "code",
   "execution_count": 38,
   "id": "37b9c43f",
   "metadata": {},
   "outputs": [
    {
     "ename": "ValueError",
     "evalue": "4896 is not in list",
     "output_type": "error",
     "traceback": [
      "\u001b[1;31m---------------------------------------------------------------------------\u001b[0m",
      "\u001b[1;31mValueError\u001b[0m                                Traceback (most recent call last)",
      "Input \u001b[1;32mIn [38]\u001b[0m, in \u001b[0;36m<cell line: 4>\u001b[1;34m()\u001b[0m\n\u001b[0;32m      2\u001b[0m list1\u001b[38;5;241m=\u001b[39m[\u001b[38;5;241m45\u001b[39m,\u001b[38;5;241m69\u001b[39m,\u001b[38;5;241m84\u001b[39m,\u001b[38;5;241m78\u001b[39m,\u001b[38;5;241m59\u001b[39m,\u001b[38;5;241m65\u001b[39m,\u001b[38;5;241m41\u001b[39m,\u001b[38;5;241m25\u001b[39m,\u001b[38;5;241m48\u001b[39m,\u001b[38;5;241m96\u001b[39m,\u001b[38;5;241m84\u001b[39m,\u001b[38;5;241m58\u001b[39m]\n\u001b[0;32m      3\u001b[0m \u001b[38;5;66;03m# list1.index(84,5)\u001b[39;00m\n\u001b[1;32m----> 4\u001b[0m \u001b[43mlist1\u001b[49m\u001b[38;5;241;43m.\u001b[39;49m\u001b[43mindex\u001b[49m\u001b[43m(\u001b[49m\u001b[38;5;241;43m4896\u001b[39;49m\u001b[43m)\u001b[49m\n",
      "\u001b[1;31mValueError\u001b[0m: 4896 is not in list"
     ]
    }
   ],
   "source": [
    "# index(element[,startingpoint,endingpoint]) ---gives index of that element\n",
    "list1=[45,69,84,78,59,65,41,25,48,96,84,58]\n",
    "list1.index(84)\n",
    "# list1.index(84,5) --after strating position\n",
    "# list1.index(4896) --valueError"
   ]
  },
  {
   "cell_type": "code",
   "execution_count": 40,
   "id": "e79d3d5f",
   "metadata": {},
   "outputs": [
    {
     "data": {
      "text/plain": [
       "0"
      ]
     },
     "execution_count": 40,
     "metadata": {},
     "output_type": "execute_result"
    }
   ],
   "source": [
    "# count(element) ---gives count of that element in list\n",
    "list1=[45,65,89,65,45,63,25,65,41,56,32,56]\n",
    "# list1.count(65)\n",
    "# list1.count(489) --it will give zero when element not found\n"
   ]
  },
  {
   "cell_type": "code",
   "execution_count": 41,
   "id": "e5b14ea3",
   "metadata": {},
   "outputs": [
    {
     "name": "stdout",
     "output_type": "stream",
     "text": [
      "[]\n"
     ]
    }
   ],
   "source": [
    "# clear()--it will clear your list\n",
    "list1=[1,2,3,4,5,6]\n",
    "list1.clear()\n",
    "print(list1)"
   ]
  },
  {
   "cell_type": "code",
   "execution_count": 43,
   "id": "756f8b02",
   "metadata": {},
   "outputs": [
    {
     "name": "stdout",
     "output_type": "stream",
     "text": [
      "[98, 87, 69, 56, 45, 45, 36, 21]\n"
     ]
    }
   ],
   "source": [
    "# sort(reverse=True)--arange your list in ascending order by default\n",
    "list1=[45,69,87,45,21,36,56,98]\n",
    "# list1.sort()\n",
    "list1.sort(reverse=True)\n",
    "print(list1)"
   ]
  },
  {
   "cell_type": "code",
   "execution_count": 44,
   "id": "c64ad62b",
   "metadata": {},
   "outputs": [
    {
     "name": "stdout",
     "output_type": "stream",
     "text": [
      "[12, 65, 23, 45]\n"
     ]
    }
   ],
   "source": [
    "# reverse()--it will reverse the whole list\n",
    "list1=[45,23,65,12]\n",
    "list1.reverse()\n",
    "print(list1)"
   ]
  },
  {
   "cell_type": "code",
   "execution_count": 47,
   "id": "c1e270fa",
   "metadata": {},
   "outputs": [
    {
     "name": "stdout",
     "output_type": "stream",
     "text": [
      "[45, 65, 32, 56, 98]\n",
      "[45, 65, 32, 56, 98]\n",
      "[45, 65, 'hello', 56, 98]\n",
      "[45, 65, 'hello', 56, 98]\n"
     ]
    }
   ],
   "source": [
    "list1=[45,65,32,56,98]\n",
    "list2=list1\n",
    "print(list1)\n",
    "print(list2)\n",
    "list1[2]=\"hello\"\n",
    "print(list1)\n",
    "print(list2)"
   ]
  },
  {
   "cell_type": "code",
   "execution_count": 48,
   "id": "dec75315",
   "metadata": {},
   "outputs": [
    {
     "name": "stdout",
     "output_type": "stream",
     "text": [
      "[45, 65, 32, 56, 98]\n",
      "[45, 65, 32, 56, 98]\n",
      "[45, 65, 'hello', 56, 98]\n",
      "[45, 65, 32, 56, 98]\n"
     ]
    }
   ],
   "source": [
    "# copy()\n",
    "list1=[45,65,32,56,98]\n",
    "list2=list1.copy()\n",
    "print(list1)\n",
    "print(list2)\n",
    "list1[2]=\"hello\"\n",
    "print(list1)\n",
    "print(list2)"
   ]
  },
  {
   "cell_type": "code",
   "execution_count": 49,
   "id": "87f6b904",
   "metadata": {},
   "outputs": [
    {
     "ename": "TypeError",
     "evalue": "'<' not supported between instances of 'str' and 'float'",
     "output_type": "error",
     "traceback": [
      "\u001b[1;31m---------------------------------------------------------------------------\u001b[0m",
      "\u001b[1;31mTypeError\u001b[0m                                 Traceback (most recent call last)",
      "Input \u001b[1;32mIn [49]\u001b[0m, in \u001b[0;36m<cell line: 2>\u001b[1;34m()\u001b[0m\n\u001b[0;32m      1\u001b[0m list1\u001b[38;5;241m=\u001b[39m[\u001b[38;5;241m12\u001b[39m,\u001b[38;5;241m36.23\u001b[39m,\u001b[38;5;124m\"\u001b[39m\u001b[38;5;124mhello\u001b[39m\u001b[38;5;124m\"\u001b[39m,[\u001b[38;5;241m14\u001b[39m,\u001b[38;5;241m56\u001b[39m,\u001b[38;5;241m58\u001b[39m]]\n\u001b[1;32m----> 2\u001b[0m \u001b[43mlist1\u001b[49m\u001b[38;5;241;43m.\u001b[39;49m\u001b[43msort\u001b[49m\u001b[43m(\u001b[49m\u001b[43m)\u001b[49m\n",
      "\u001b[1;31mTypeError\u001b[0m: '<' not supported between instances of 'str' and 'float'"
     ]
    }
   ],
   "source": [
    "list1=[12,36.23,\"hello\",[14,56,58]]\n",
    "list1.sort()"
   ]
  },
  {
   "cell_type": "code",
   "execution_count": 50,
   "id": "47c0eb83",
   "metadata": {},
   "outputs": [
    {
     "name": "stdout",
     "output_type": "stream",
     "text": [
      "[12.36, 23.36, 45, 45.23, 58, 63, 96]\n"
     ]
    }
   ],
   "source": [
    "list1=[45,63,23.36,58,96,12.36,45.23]\n",
    "list1.sort()\n",
    "print(list1)"
   ]
  },
  {
   "cell_type": "code",
   "execution_count": 53,
   "id": "808707e3",
   "metadata": {},
   "outputs": [
    {
     "name": "stdout",
     "output_type": "stream",
     "text": [
      "['Demo', 'Dept', 'Python', 'great', 'hello', 'tops', 'wow']\n"
     ]
    }
   ],
   "source": [
    "list1=[\"hello\",\"wow\",\"great\",\"Demo\",\"tops\",\"Python\",\"Dept\"]\n",
    "list1.sort()\n",
    "print(list1)"
   ]
  }
 ],
 "metadata": {
  "kernelspec": {
   "display_name": "Python 3 (ipykernel)",
   "language": "python",
   "name": "python3"
  },
  "language_info": {
   "codemirror_mode": {
    "name": "ipython",
    "version": 3
   },
   "file_extension": ".py",
   "mimetype": "text/x-python",
   "name": "python",
   "nbconvert_exporter": "python",
   "pygments_lexer": "ipython3",
   "version": "3.9.12"
  }
 },
 "nbformat": 4,
 "nbformat_minor": 5
}
