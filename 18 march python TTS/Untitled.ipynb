{
 "cells": [
  {
   "cell_type": "code",
   "execution_count": null,
   "id": "9fd63261",
   "metadata": {},
   "outputs": [],
   "source": [
    "PYTHON ----PRogramming LANGUAGE\n",
    "\n"
   ]
  },
  {
   "cell_type": "code",
   "execution_count": 2,
   "id": "d91e520c",
   "metadata": {},
   "outputs": [
    {
     "ename": "SyntaxError",
     "evalue": "invalid syntax (4237761490.py, line 1)",
     "output_type": "error",
     "traceback": [
      "\u001b[1;36m  Input \u001b[1;32mIn [2]\u001b[1;36m\u001b[0m\n\u001b[1;33m    45hyurtjrtjrtjrj\u001b[0m\n\u001b[1;37m      ^\u001b[0m\n\u001b[1;31mSyntaxError\u001b[0m\u001b[1;31m:\u001b[0m invalid syntax\n"
     ]
    }
   ],
   "source": [
    "45hyurtjrtjrtjrj"
   ]
  },
  {
   "cell_type": "code",
   "execution_count": 3,
   "id": "3a9735fa",
   "metadata": {},
   "outputs": [
    {
     "ename": "NameError",
     "evalue": "name 'ioyuoydhhdh' is not defined",
     "output_type": "error",
     "traceback": [
      "\u001b[1;31m---------------------------------------------------------------------------\u001b[0m",
      "\u001b[1;31mNameError\u001b[0m                                 Traceback (most recent call last)",
      "Input \u001b[1;32mIn [3]\u001b[0m, in \u001b[0;36m<cell line: 1>\u001b[1;34m()\u001b[0m\n\u001b[1;32m----> 1\u001b[0m \u001b[43mioyuoydhhdh\u001b[49m\n\u001b[0;32m      2\u001b[0m het\n\u001b[0;32m      3\u001b[0m h\n",
      "\u001b[1;31mNameError\u001b[0m: name 'ioyuoydhhdh' is not defined"
     ]
    }
   ],
   "source": [
    "ioyuoydhhdh\n",
    "het\n",
    "h\n",
    "h\n",
    "ehrth\n",
    "eh\n"
   ]
  },
  {
   "cell_type": "code",
   "execution_count": 23,
   "id": "692e4173",
   "metadata": {},
   "outputs": [
    {
     "name": "stdout",
     "output_type": "stream",
     "text": [
      "fbjkhef bngvbjehrtv jhreb ge nejh\n",
      "efwegfwewegwerv wrgtwergwer  \n"
     ]
    }
   ],
   "source": [
    "print(\"fbjkhef bngvbjehrtv jhreb ge nejh\")\n",
    "print(\"efwegfwewegwerv wrgtwergwer  \")\n",
    "# print(\"hello i\"m good\")\n",
    "# \\--backslash\n"
   ]
  },
  {
   "cell_type": "code",
   "execution_count": 19,
   "id": "c4a95aa7",
   "metadata": {},
   "outputs": [
    {
     "name": "stdout",
     "output_type": "stream",
     "text": [
      "ggrgegeg\n",
      "hello i\"m good\n",
      "heelo \n",
      " is great\n",
      "heelo\n",
      "is great\n",
      "36\\21\n",
      "hello i'm go\"od\n",
      "rjghj\"er'ghejg\n"
     ]
    }
   ],
   "source": [
    "print(\"ggrgegeg\")\n",
    "print(\"hello i\\\"m good\")\n",
    "\n",
    "print(\"heelo \\n is great\")\n",
    "print(\"heelo\")\n",
    "print(\"is great\")\n",
    "print(\"36\\\\21\")\n",
    "print(\"hello i'm go\\\"od\")\n",
    "print('rjghj\"er\\'ghejg')\n",
    "# \\n----newline character\n",
    "# 36\\21"
   ]
  },
  {
   "cell_type": "code",
   "execution_count": 26,
   "id": "bee14634",
   "metadata": {},
   "outputs": [
    {
     "name": "stdout",
     "output_type": "stream",
     "text": [
      "wsgerhg\b\b\brhgthg\n",
      "hello \u0007 wolrd\n"
     ]
    }
   ],
   "source": [
    "print(\"wsgerhg\\b\\b\\brhgthg\")\n",
    "print(\"hello wolrd\")"
   ]
  }
 ],
 "metadata": {
  "kernelspec": {
   "display_name": "Python 3 (ipykernel)",
   "language": "python",
   "name": "python3"
  },
  "language_info": {
   "codemirror_mode": {
    "name": "ipython",
    "version": 3
   },
   "file_extension": ".py",
   "mimetype": "text/x-python",
   "name": "python",
   "nbconvert_exporter": "python",
   "pygments_lexer": "ipython3",
   "version": "3.9.12"
  }
 },
 "nbformat": 4,
 "nbformat_minor": 5
}
