{
 "cells": [
  {
   "cell_type": "code",
   "execution_count": null,
   "id": "9fd63261",
   "metadata": {
    "id": "9fd63261"
   },
   "outputs": [],
   "source": [
    "PYTHON ----PRogramming LANGUAGE\n",
    "\n"
   ]
  },
  {
   "cell_type": "code",
   "execution_count": null,
   "id": "d91e520c",
   "metadata": {
    "id": "d91e520c"
   },
   "outputs": [],
   "source": [
    "45hyurtjrtjrtjrj"
   ]
  },
  {
   "cell_type": "code",
   "execution_count": null,
   "id": "3a9735fa",
   "metadata": {
    "id": "3a9735fa"
   },
   "outputs": [],
   "source": [
    "ioyuoydhhdh\n",
    "het\n",
    "h\n",
    "h\n",
    "ehrth\n",
    "eh\n"
   ]
  },
  {
   "cell_type": "code",
   "execution_count": null,
   "id": "692e4173",
   "metadata": {
    "id": "692e4173"
   },
   "outputs": [],
   "source": [
    "print(\"fbjkhef bngvbjehrtv jhreb ge nejh\")\n",
    "print(\"efwegfwewegwerv wrgtwergwer  \")\n",
    "# print(\"hello i\"m good\")\n",
    "# \\--backslash\n"
   ]
  },
  {
   "cell_type": "markdown",
   "id": "_aE9g1h0UtOD",
   "metadata": {
    "id": "_aE9g1h0UtOD"
   },
   "source": []
  },
  {
   "cell_type": "code",
   "execution_count": null,
   "id": "c4a95aa7",
   "metadata": {
    "id": "c4a95aa7"
   },
   "outputs": [],
   "source": [
    "print(\"ggrgegeg\")\n",
    "print(\"hello i\\\"m good\")\n",
    "\n",
    "print(\"heelo \\n is great\")\n",
    "print(\"heelo\")\n",
    "print(\"is great\")\n",
    "print(\"36\\\\21\")\n",
    "print(\"hello i'm go\\\"od\")\n",
    "print('rjghj\"er\\'ghejg')\n",
    "# \\n----newline character\n",
    "# 36\\21"
   ]
  },
  {
   "cell_type": "code",
   "execution_count": null,
   "id": "bee14634",
   "metadata": {
    "id": "bee14634"
   },
   "outputs": [],
   "source": [
    "print(\"wsgerhg\\b\\b\\brhgthg\")\n",
    "print(\"hello wolrd\")"
   ]
  },
  {
   "cell_type": "code",
   "execution_count": null,
   "id": "3d4f8b1b",
   "metadata": {
    "id": "3d4f8b1b"
   },
   "outputs": [],
   "source": [
    "# input()"
   ]
  },
  {
   "cell_type": "code",
   "execution_count": null,
   "id": "5baf8381",
   "metadata": {
    "id": "5baf8381"
   },
   "outputs": [],
   "source": [
    "# variables\n",
    "# variablename=value"
   ]
  },
  {
   "cell_type": "code",
   "execution_count": null,
   "id": "b50b11eb",
   "metadata": {
    "id": "b50b11eb"
   },
   "outputs": [],
   "source": [
    "a=10\n",
    "print(a)"
   ]
  },
  {
   "cell_type": "code",
   "execution_count": null,
   "id": "ed9af8c2",
   "metadata": {
    "id": "ed9af8c2"
   },
   "outputs": [],
   "source": [
    "variable\n",
    "\n",
    "integer --- int -- 12 54 826345 1245 -89 415 -89 -52 -5\n",
    "float ----float ---25485 -5698 .2365 -0.256\n",
    "string ---str --- \"jkfjk\" \"\" \" \" \"546584\" \"True\"\n",
    "BOOLEAN ---bool ---True , False"
   ]
  },
  {
   "cell_type": "code",
   "execution_count": null,
   "id": "cda79bd4",
   "metadata": {
    "id": "cda79bd4"
   },
   "outputs": [],
   "source": [
    "# rule for naming\n",
    "first character a-z A-Z _  _sfgjk Ajfklgjrt gjhg %nhgn 8tjyut\n",
    "remaing character a-z A-Z _ 0-9 \n",
    "\n",
    "suggestions\n",
    "\n",
    "# don't use space _"
   ]
  },
  {
   "cell_type": "code",
   "execution_count": null,
   "id": "5ac96743",
   "metadata": {
    "id": "5ac96743",
    "outputId": "68bc0b6c-701a-4fe0-8cb7-55f85295cd69"
   },
   "outputs": [
    {
     "name": "stdout",
     "output_type": "stream",
     "text": [
      "<class 'float'>\n"
     ]
    }
   ],
   "source": [
    "age=56.32\n",
    "print(type(age))"
   ]
  },
  {
   "cell_type": "code",
   "execution_count": null,
   "id": "40e9c9fa",
   "metadata": {
    "id": "40e9c9fa"
   },
   "outputs": [],
   "source": [
    "name=input(\"Enter Name: \")"
   ]
  },
  {
   "cell_type": "code",
   "execution_count": null,
   "id": "1100f88d",
   "metadata": {
    "id": "1100f88d"
   },
   "outputs": [],
   "source": [
    "print(name)"
   ]
  },
  {
   "cell_type": "code",
   "execution_count": null,
   "id": "d93d7634",
   "metadata": {
    "id": "d93d7634",
    "outputId": "4fe11726-375d-43e7-e9b6-42815c8a1f22"
   },
   "outputs": [
    {
     "name": "stdout",
     "output_type": "stream",
     "text": [
      "Enter AGe: *************48\n",
      "your age is 48\n",
      "Enter Number : b\n"
     ]
    }
   ],
   "source": [
    "age=input(\"Enter AGe: *************\")\n",
    "print(f\"your age is {age}\") #formatted output\n",
    "mobile_number=input(\"Enter Number : \")"
   ]
  },
  {
   "cell_type": "code",
   "execution_count": null,
   "id": "4315ce49",
   "metadata": {
    "id": "4315ce49",
    "outputId": "274b4dae-3d97-41ad-e6e6-d80508a8a351"
   },
   "outputs": [
    {
     "name": "stdout",
     "output_type": "stream",
     "text": [
      "25\n"
     ]
    }
   ],
   "source": [
    "print(12+13)"
   ]
  },
  {
   "cell_type": "code",
   "execution_count": null,
   "id": "6e9e2c97",
   "metadata": {
    "id": "6e9e2c97",
    "outputId": "46aedb18-3865-4c11-997a-4c293dedf316"
   },
   "outputs": [
    {
     "name": "stdout",
     "output_type": "stream",
     "text": [
      "Enter Number: 10\n",
      "Enter number2 20\n",
      "30\n"
     ]
    },
    {
     "data": {
      "text/plain": [
       "'True'"
      ]
     },
     "execution_count": 4,
     "metadata": {},
     "output_type": "execute_result"
    }
   ],
   "source": [
    "num1=int(input(\"Enter Number: \"))\n",
    "num2=int(input(\"Enter number2 \"))\n",
    "print(num1+num2)\n",
    "\"10\"->10\n",
    "\"True\""
   ]
  },
  {
   "cell_type": "code",
   "execution_count": null,
   "id": "ff8a11a2",
   "metadata": {
    "id": "ff8a11a2"
   },
   "outputs": [],
   "source": [
    "input()\n",
    "10+20\n",
    "\"wow\"+\"wonderful\"\n",
    "int(input(\"Enter Number\"))"
   ]
  },
  {
   "cell_type": "code",
   "execution_count": null,
   "id": "96a6d1ad",
   "metadata": {
    "id": "96a6d1ad",
    "outputId": "87f259bc-00ea-42c6-e604-e67cd65dc9f0"
   },
   "outputs": [
    {
     "data": {
      "text/plain": [
       "85.36"
      ]
     },
     "execution_count": 9,
     "metadata": {},
     "output_type": "execute_result"
    }
   ],
   "source": [
    "a=\"85.36\"\n",
    "float(a)"
   ]
  },
  {
   "cell_type": "code",
   "execution_count": null,
   "id": "1dfe0d49",
   "metadata": {},
   "outputs": [],
   "source": [
    "# operators\n",
    "58+32   --operands  operator"
   ]
  },
  {
   "cell_type": "code",
   "execution_count": null,
   "id": "360fdf7b",
   "metadata": {},
   "outputs": [],
   "source": [
    "# operators in python\n",
    "arithmetic operator + - * / //(floor division) %(modulus operator)\n",
    "relational operator > < >= <= == !=\n",
    "LOGICAL OPERATOR AND OR NOT\n",
    "assignement operator = += -= *= /=\n",
    "identity operator is not\n",
    "membershipe operator not not in\n",
    "bitwise operator bitwise and bitwise or bitwise left shift bitwise right shift"
   ]
  },
  {
   "cell_type": "code",
   "execution_count": 1,
   "id": "a5f5e822",
   "metadata": {},
   "outputs": [
    {
     "name": "stdout",
     "output_type": "stream",
     "text": [
      "70\n"
     ]
    }
   ],
   "source": [
    "print(20+50)"
   ]
  },
  {
   "cell_type": "code",
   "execution_count": 5,
   "id": "3a2c2b02",
   "metadata": {},
   "outputs": [
    {
     "name": "stdout",
     "output_type": "stream",
     "text": [
      "120\n",
      "-20\n",
      "3500\n",
      "0.7142857142857143\n"
     ]
    }
   ],
   "source": [
    "a=50\n",
    "b=70\n",
    "print(a+b)\n",
    "print(a-b)\n",
    "print(a*b)\n",
    "print(a/b)\n"
   ]
  },
  {
   "cell_type": "code",
   "execution_count": 11,
   "id": "38cc5978",
   "metadata": {},
   "outputs": [
    {
     "name": "stdout",
     "output_type": "stream",
     "text": [
      "2\n",
      "3\n"
     ]
    }
   ],
   "source": [
    "# floor division (//)\n",
    "a=5\n",
    "b=2\n",
    "print(a//b)\n",
    "print(10//3)\n",
    "# 3.21\n",
    "\n",
    "# 3 floor value\n",
    "# 4 ceil value"
   ]
  },
  {
   "cell_type": "code",
   "execution_count": 13,
   "id": "48a0cc61",
   "metadata": {},
   "outputs": [
    {
     "name": "stdout",
     "output_type": "stream",
     "text": [
      "2\n"
     ]
    }
   ],
   "source": [
    "# modulus operator(%)\n",
    "print(20%6)"
   ]
  },
  {
   "cell_type": "code",
   "execution_count": 17,
   "id": "17eba71e",
   "metadata": {},
   "outputs": [
    {
     "name": "stdout",
     "output_type": "stream",
     "text": [
      "ENter Your days: 458\n",
      "Year 1  days 93\n"
     ]
    }
   ],
   "source": [
    "# program to convert days into year and days\n",
    "day=int(input(\"ENter Your days: \"))\n",
    "year=day//365\n",
    "remaing_day=day%365\n",
    "print(f\"Year {year}  days {remaing_day}\")"
   ]
  },
  {
   "cell_type": "code",
   "execution_count": 21,
   "id": "9404445c",
   "metadata": {},
   "outputs": [
    {
     "name": "stdout",
     "output_type": "stream",
     "text": [
      "True\n",
      "True\n",
      "False\n"
     ]
    }
   ],
   "source": [
    "# relational Operator < > <= >= == !=\n",
    "print(89>55)\n",
    "print(44<59)\n",
    "print(89==102)\n"
   ]
  },
  {
   "cell_type": "code",
   "execution_count": 30,
   "id": "ce437e65",
   "metadata": {},
   "outputs": [
    {
     "name": "stdout",
     "output_type": "stream",
     "text": [
      "False\n"
     ]
    }
   ],
   "source": [
    "# Logical operator and or not\n",
    "# print(89<14)\n",
    "# print(12>6)\n",
    "# and all true then TRUE if anyone is false the False\n",
    "# print(89>14 and 12>6 and 47<58)\n",
    "# or---anyone true the TRUE if all false the false\n",
    "# print(89<56 or 48<23 or 48>89)\n",
    "# not --reverse the answer TRUe Becomes False And False Becomes True\n",
    "# print(not(85>21))"
   ]
  },
  {
   "cell_type": "code",
   "execution_count": null,
   "id": "3d46a045",
   "metadata": {},
   "outputs": [],
   "source": [
    "# conditional statmenets\n",
    "# simple if\n",
    "# if...else\n",
    "# if...elif..elif........else  (ladder if else)\n",
    "# nested if else"
   ]
  },
  {
   "cell_type": "code",
   "execution_count": 32,
   "id": "26c2d846",
   "metadata": {},
   "outputs": [
    {
     "name": "stdout",
     "output_type": "stream",
     "text": [
      "Hellpo\n",
      "Hellpo\n",
      "Hellpo\n",
      "Hellpo\n",
      "Hellpo\n",
      "Hellpo\n",
      "Hellpo\n"
     ]
    }
   ],
   "source": [
    "# simple\n",
    "\n",
    "if condition:\n",
    "    bodyge\n",
    "    erg\n",
    "    eg\n",
    "    erg\n",
    "    er\n",
    "    g"
   ]
  },
  {
   "cell_type": "code",
   "execution_count": 36,
   "id": "b3cd4619",
   "metadata": {},
   "outputs": [
    {
     "name": "stdout",
     "output_type": "stream",
     "text": [
      "Enter Your Age: 4\n"
     ]
    }
   ],
   "source": [
    "# simple if\n",
    "age=int(input(\"Enter Your Age: \"))\n",
    "if age>18:\n",
    "    print(\"COngratulations...eligible for voting\")\n",
    "    print(\"ergeg\")\n",
    "    print(\"rgjwhghgb\")"
   ]
  },
  {
   "cell_type": "code",
   "execution_count": null,
   "id": "cbef581f",
   "metadata": {},
   "outputs": [],
   "source": [
    "# if...else\n",
    "if condition:\n",
    "    body\n",
    "else:\n",
    "    body"
   ]
  },
  {
   "cell_type": "code",
   "execution_count": 38,
   "id": "f539194b",
   "metadata": {},
   "outputs": [
    {
     "name": "stdout",
     "output_type": "stream",
     "text": [
      "Enter Age: 4\n",
      "Sorry...Not eligible for voting\n"
     ]
    }
   ],
   "source": [
    "age=int(input(\"Enter Age: \"))\n",
    "if age>18:\n",
    "    print(\"COngratulations...eligible for voting\")\n",
    "else:\n",
    "    print(\"Sorry...Not eligible for voting\")"
   ]
  },
  {
   "cell_type": "code",
   "execution_count": null,
   "id": "b0c7e39f",
   "metadata": {},
   "outputs": [],
   "source": [
    "if condition1:\n",
    "    body\n",
    "elif condition2:\n",
    "    body\n",
    "elif condition3:\n",
    "    boyd\n",
    "    ....\n",
    "    .\n",
    "    .\n",
    "    .\n",
    "    .\n",
    "    .\n",
    "    .\n",
    "else:\n",
    "    body"
   ]
  },
  {
   "cell_type": "code",
   "execution_count": 39,
   "id": "4ad570c2",
   "metadata": {},
   "outputs": [
    {
     "name": "stdout",
     "output_type": "stream",
     "text": [
      "Enter Percentage: 56.32\n",
      "C1\n"
     ]
    }
   ],
   "source": [
    "# ladder if else\n",
    "percent=float(input(\"Enter Percentage: \"))\n",
    "if percent>91 and percent<100:\n",
    "    print(\"A1\")\n",
    "elif percent>81 and percent<=90:\n",
    "    print(\"A2\")\n",
    "elif percent>71 and percent<=80:\n",
    "    print(\"B1\")\n",
    "elif percent>61 and percent<=70:\n",
    "    print(\"B2\")\n",
    "elif percent>51 and percent<=60:\n",
    "    print(\"C1\")\n",
    "elif percent>41 and percent<=50:\n",
    "    print(\"C2\")\n",
    "elif percent>33 and percent<=40:\n",
    "    print(\"D\")\n",
    "elif percent<=33:\n",
    "    print(\"Fail\")\n",
    "else:\n",
    "    print(\"Enter Bewteen 1 to 100\")"
   ]
  }
 ],
 "metadata": {
  "colab": {
   "provenance": []
  },
  "kernelspec": {
   "display_name": "Python 3 (ipykernel)",
   "language": "python",
   "name": "python3"
  },
  "language_info": {
   "codemirror_mode": {
    "name": "ipython",
    "version": 3
   },
   "file_extension": ".py",
   "mimetype": "text/x-python",
   "name": "python",
   "nbconvert_exporter": "python",
   "pygments_lexer": "ipython3",
   "version": "3.9.12"
  }
 },
 "nbformat": 4,
 "nbformat_minor": 5
}
