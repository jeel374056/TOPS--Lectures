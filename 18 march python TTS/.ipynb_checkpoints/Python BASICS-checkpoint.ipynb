{
 "cells": [
  {
   "cell_type": "code",
   "execution_count": null,
   "id": "9fd63261",
   "metadata": {
    "id": "9fd63261"
   },
   "outputs": [],
   "source": [
    "PYTHON ----PRogramming LANGUAGE"
   ]
  },
  {
   "cell_type": "code",
   "execution_count": null,
   "id": "d91e520c",
   "metadata": {
    "id": "d91e520c"
   },
   "outputs": [],
   "source": [
    "functional programming language\n",
    "functionname(para,metrs)"
   ]
  },
  {
   "cell_type": "code",
   "execution_count": null,
   "id": "3a9735fa",
   "metadata": {
    "id": "3a9735fa"
   },
   "outputs": [],
   "source": [
    "ioyuoydhhdh\n",
    "het\n",
    "h\n",
    "h\n",
    "ehrth\n",
    "eh\n",
    "\n"
   ]
  },
  {
   "cell_type": "code",
   "execution_count": null,
   "id": "4f99b2af",
   "metadata": {},
   "outputs": [],
   "source": [
    "int varaiabelname=value;\n",
    "loosely type language\n"
   ]
  },
  {
   "cell_type": "code",
   "execution_count": null,
   "id": "4dd5d899",
   "metadata": {},
   "outputs": [],
   "source": [
    "age=48  loosely type language\n",
    "age=\"hello\"\n",
    "int age=45;\n",
    "\n",
    "variablename=value;\n",
    "identifier rule\n",
    "rules ----\n",
    "1---a-z A-Z _\n",
    "2---a-z A-Z _ 0-9\n",
    "\n",
    "suhggestion"
   ]
  },
  {
   "cell_type": "code",
   "execution_count": null,
   "id": "692e4173",
   "metadata": {
    "id": "692e4173"
   },
   "outputs": [],
   "source": [
    "print(\"fbjkhef bngvbjehrtv jhreb ge nejh\")\n",
    "print(\"efwegfwewegwerv wrgtwergwer  \")\n",
    "# print(\"hello i\"m good\")\n",
    "# \\--backslash\n"
   ]
  },
  {
   "cell_type": "markdown",
   "id": "_aE9g1h0UtOD",
   "metadata": {
    "id": "_aE9g1h0UtOD"
   },
   "source": []
  },
  {
   "cell_type": "code",
   "execution_count": null,
   "id": "c4a95aa7",
   "metadata": {
    "id": "c4a95aa7"
   },
   "outputs": [],
   "source": [
    "print(\"ggrgegeg\")\n",
    "print(\"hello i\\\"m good\")\n",
    "\n",
    "print(\"heelo \\n is great\")\n",
    "print(\"heelo\")\n",
    "print(\"is great\")\n",
    "print(\"36\\\\21\")\n",
    "print(\"hello i'm go\\\"od\")\n",
    "print('rjghj\"er\\'ghejg')\n",
    "# \\n----newline character\n",
    "# 36\\21"
   ]
  },
  {
   "cell_type": "code",
   "execution_count": null,
   "id": "bee14634",
   "metadata": {
    "id": "bee14634"
   },
   "outputs": [],
   "source": [
    "print(\"wsgerhg\\b\\b\\brhgthg\")\n",
    "print(\"hello wolrd\")"
   ]
  },
  {
   "cell_type": "code",
   "execution_count": null,
   "id": "3d4f8b1b",
   "metadata": {
    "id": "3d4f8b1b"
   },
   "outputs": [],
   "source": [
    "# input()"
   ]
  },
  {
   "cell_type": "code",
   "execution_count": null,
   "id": "5baf8381",
   "metadata": {
    "id": "5baf8381"
   },
   "outputs": [],
   "source": [
    "# variables\n",
    "# variablename=value"
   ]
  },
  {
   "cell_type": "code",
   "execution_count": null,
   "id": "b50b11eb",
   "metadata": {
    "id": "b50b11eb"
   },
   "outputs": [],
   "source": [
    "a=10\n",
    "print(a)"
   ]
  },
  {
   "cell_type": "code",
   "execution_count": null,
   "id": "ed9af8c2",
   "metadata": {
    "id": "ed9af8c2"
   },
   "outputs": [],
   "source": [
    "variable\n",
    "\n",
    "integer --- int -- 12 54 826345 1245 -89 415 -89 -52 -5\n",
    "float ----float ---25485 -5698 .2365 -0.256\n",
    "string ---str --- \"jkfjk\" \"\" \" \" \"546584\" \"True\"\n",
    "BOOLEAN ---bool ---True , False"
   ]
  },
  {
   "cell_type": "code",
   "execution_count": null,
   "id": "cda79bd4",
   "metadata": {
    "id": "cda79bd4"
   },
   "outputs": [],
   "source": [
    "# rule for naming\n",
    "first character a-z A-Z _  _sfgjk Ajfklgjrt gjhg %nhgn 8tjyut\n",
    "remaing character a-z A-Z _ 0-9 \n",
    "\n",
    "suggestions\n",
    "\n",
    "# don't use space _"
   ]
  },
  {
   "cell_type": "code",
   "execution_count": null,
   "id": "5ac96743",
   "metadata": {
    "id": "5ac96743",
    "outputId": "68bc0b6c-701a-4fe0-8cb7-55f85295cd69"
   },
   "outputs": [
    {
     "name": "stdout",
     "output_type": "stream",
     "text": [
      "<class 'float'>\n"
     ]
    }
   ],
   "source": [
    "age=56.32\n",
    "print(type(age))"
   ]
  },
  {
   "cell_type": "code",
   "execution_count": null,
   "id": "40e9c9fa",
   "metadata": {
    "id": "40e9c9fa"
   },
   "outputs": [],
   "source": [
    "name=input(\"Enter Name: \")"
   ]
  },
  {
   "cell_type": "code",
   "execution_count": null,
   "id": "1100f88d",
   "metadata": {
    "id": "1100f88d"
   },
   "outputs": [],
   "source": [
    "print(name)"
   ]
  },
  {
   "cell_type": "code",
   "execution_count": null,
   "id": "d93d7634",
   "metadata": {
    "id": "d93d7634",
    "outputId": "4fe11726-375d-43e7-e9b6-42815c8a1f22"
   },
   "outputs": [
    {
     "name": "stdout",
     "output_type": "stream",
     "text": [
      "Enter AGe: *************48\n",
      "your age is 48\n",
      "Enter Number : b\n"
     ]
    }
   ],
   "source": [
    "age=input(\"Enter AGe: *************\")\n",
    "print(f\"your age is {age}\") #formatted output\n",
    "mobile_number=input(\"Enter Number : \")"
   ]
  },
  {
   "cell_type": "code",
   "execution_count": null,
   "id": "4315ce49",
   "metadata": {
    "id": "4315ce49",
    "outputId": "274b4dae-3d97-41ad-e6e6-d80508a8a351"
   },
   "outputs": [
    {
     "name": "stdout",
     "output_type": "stream",
     "text": [
      "25\n"
     ]
    }
   ],
   "source": [
    "print(12+13)"
   ]
  },
  {
   "cell_type": "code",
   "execution_count": null,
   "id": "6e9e2c97",
   "metadata": {
    "id": "6e9e2c97",
    "outputId": "46aedb18-3865-4c11-997a-4c293dedf316"
   },
   "outputs": [
    {
     "name": "stdout",
     "output_type": "stream",
     "text": [
      "Enter Number: 10\n",
      "Enter number2 20\n",
      "30\n"
     ]
    },
    {
     "data": {
      "text/plain": [
       "'True'"
      ]
     },
     "execution_count": 4,
     "metadata": {},
     "output_type": "execute_result"
    }
   ],
   "source": [
    "num1=int(input(\"Enter Number: \"))\n",
    "num2=int(input(\"Enter number2 \"))\n",
    "print(num1+num2)\n",
    "\"10\"->10\n",
    "\"True\""
   ]
  },
  {
   "cell_type": "code",
   "execution_count": 2,
   "id": "ff8a11a2",
   "metadata": {
    "colab": {
     "base_uri": "https://localhost:8080/"
    },
    "executionInfo": {
     "elapsed": 15719,
     "status": "ok",
     "timestamp": 1679636434525,
     "user": {
      "displayName": "Yutvik Savani",
      "userId": "07793259308926843541"
     },
     "user_tz": -330
    },
    "id": "ff8a11a2",
    "outputId": "f2b62613-d888-46d1-926d-0312a26346a7"
   },
   "outputs": [
    {
     "name": "stdout",
     "output_type": "stream",
     "text": [
      "66\n",
      "Enter Number87\n"
     ]
    },
    {
     "data": {
      "text/plain": [
       "87"
      ]
     },
     "execution_count": 2,
     "metadata": {},
     "output_type": "execute_result"
    }
   ],
   "source": [
    "input()\n",
    "10+20\n",
    "\"wow\"+\"wonderful\"\n",
    "int(input(\"Enter Number\"))"
   ]
  },
  {
   "cell_type": "code",
   "execution_count": null,
   "id": "96a6d1ad",
   "metadata": {
    "id": "96a6d1ad",
    "outputId": "87f259bc-00ea-42c6-e604-e67cd65dc9f0"
   },
   "outputs": [
    {
     "data": {
      "text/plain": [
       "85.36"
      ]
     },
     "execution_count": 9,
     "metadata": {},
     "output_type": "execute_result"
    }
   ],
   "source": [
    "a=\"85.36\"\n",
    "float(a)"
   ]
  },
  {
   "cell_type": "code",
   "execution_count": null,
   "id": "cc7e24c0",
   "metadata": {
    "id": "cc7e24c0"
   },
   "outputs": [],
   "source": [
    "# operators\n",
    "58+32   --operands  operator"
   ]
  },
  {
   "cell_type": "code",
   "execution_count": null,
   "id": "e453b6a1",
   "metadata": {
    "id": "e453b6a1"
   },
   "outputs": [],
   "source": [
    "# operators in python\n",
    "arithmetic operator + - * / //(floor division) %(modulus operator)\n",
    "relational operator > < >= <= == !=\n",
    "LOGICAL OPERATOR AND OR NOT\n",
    "assignement operator = += -= *= /=\n",
    "identity operator is not\n",
    "membershipe operator not not in\n",
    "bitwise operator bitwise and bitwise or bitwise left shift bitwise right shift"
   ]
  },
  {
   "cell_type": "code",
   "execution_count": null,
   "id": "2b071bda",
   "metadata": {
    "id": "2b071bda",
    "outputId": "65ca8f5c-5c6d-497d-d21e-495333915ccc"
   },
   "outputs": [
    {
     "name": "stdout",
     "output_type": "stream",
     "text": [
      "70\n"
     ]
    }
   ],
   "source": [
    "print(20+50)"
   ]
  },
  {
   "cell_type": "code",
   "execution_count": null,
   "id": "5c4b248d",
   "metadata": {
    "id": "5c4b248d",
    "outputId": "47f8188d-5e62-4be9-a2d3-4ec8d0b50f34"
   },
   "outputs": [
    {
     "name": "stdout",
     "output_type": "stream",
     "text": [
      "120\n",
      "-20\n",
      "3500\n",
      "0.7142857142857143\n"
     ]
    }
   ],
   "source": [
    "a=50\n",
    "b=70\n",
    "print(a+b)\n",
    "print(a-b)\n",
    "print(a*b)\n",
    "print(a/b)\n"
   ]
  },
  {
   "cell_type": "code",
   "execution_count": null,
   "id": "1744c619",
   "metadata": {
    "id": "1744c619",
    "outputId": "c81f46c8-68a3-4af9-9bb0-c5ca74e95207"
   },
   "outputs": [
    {
     "name": "stdout",
     "output_type": "stream",
     "text": [
      "2\n",
      "3\n"
     ]
    }
   ],
   "source": [
    "# floor division (//)\n",
    "a=5\n",
    "b=2\n",
    "print(a//b)\n",
    "print(10//3)\n",
    "# 3.21\n",
    "\n",
    "# 3 floor value\n",
    "# 4 ceil value"
   ]
  },
  {
   "cell_type": "code",
   "execution_count": null,
   "id": "802edde3",
   "metadata": {
    "id": "802edde3",
    "outputId": "0faf9d58-5b24-4115-9ccc-f76b3f191adb"
   },
   "outputs": [
    {
     "name": "stdout",
     "output_type": "stream",
     "text": [
      "2\n"
     ]
    }
   ],
   "source": [
    "# modulus operator(%)\n",
    "print(20%6)"
   ]
  },
  {
   "cell_type": "code",
   "execution_count": null,
   "id": "88410fcc",
   "metadata": {
    "id": "88410fcc",
    "outputId": "bc4c119f-034a-402d-f299-6bfbdd5b66b5"
   },
   "outputs": [
    {
     "name": "stdout",
     "output_type": "stream",
     "text": [
      "ENter Your days: 458\n",
      "Year 1  days 93\n"
     ]
    }
   ],
   "source": [
    "# program to convert days into year and days\n",
    "day=int(input(\"ENter Your days: \"))\n",
    "year=day//365\n",
    "remaing_day=day%365\n",
    "print(f\"Year {year}  days {remaing_day}\")"
   ]
  },
  {
   "cell_type": "code",
   "execution_count": null,
   "id": "06007eb8",
   "metadata": {
    "id": "06007eb8",
    "outputId": "a82d41d3-62f9-4265-b0bd-8ea705437431"
   },
   "outputs": [
    {
     "name": "stdout",
     "output_type": "stream",
     "text": [
      "True\n",
      "True\n",
      "False\n"
     ]
    }
   ],
   "source": [
    "# relational Operator < > <= >= == !=\n",
    "print(89>55)\n",
    "print(44<59)\n",
    "print(89==102)\n"
   ]
  },
  {
   "cell_type": "code",
   "execution_count": null,
   "id": "9dd992e2",
   "metadata": {
    "id": "9dd992e2",
    "outputId": "2977a30e-b8d2-4fde-9fbf-fe213f675c99"
   },
   "outputs": [
    {
     "name": "stdout",
     "output_type": "stream",
     "text": [
      "False\n"
     ]
    }
   ],
   "source": [
    "# Logical operator and or not\n",
    "# print(89<14)\n",
    "# print(12>6)\n",
    "# and all true then TRUE if anyone is false the False\n",
    "# print(89>14 and 12>6 and 47<58)\n",
    "# or---anyone true the TRUE if all false the false\n",
    "# print(89<56 or 48<23 or 48>89)\n",
    "# not --reverse the answer TRUe Becomes False And False Becomes True\n",
    "# print(not(85>21))"
   ]
  },
  {
   "cell_type": "code",
   "execution_count": null,
   "id": "34106197",
   "metadata": {
    "id": "34106197"
   },
   "outputs": [],
   "source": [
    "# conditional statmenets\n",
    "# simple if\n",
    "# if...else\n",
    "# if...elif..elif........else  (ladder if else)\n",
    "# nested if else"
   ]
  },
  {
   "cell_type": "code",
   "execution_count": null,
   "id": "f518e658",
   "metadata": {
    "id": "f518e658",
    "outputId": "7955da80-6da1-41c0-bb79-933928204eaa"
   },
   "outputs": [
    {
     "name": "stdout",
     "output_type": "stream",
     "text": [
      "Hellpo\n",
      "Hellpo\n",
      "Hellpo\n",
      "Hellpo\n",
      "Hellpo\n",
      "Hellpo\n",
      "Hellpo\n"
     ]
    }
   ],
   "source": [
    "# simple\n",
    "\n",
    "if condition:\n",
    "    bodyge\n",
    "    erg\n",
    "    eg\n",
    "    erg\n",
    "    er\n",
    "    g"
   ]
  },
  {
   "cell_type": "code",
   "execution_count": 10,
   "id": "1029d57f",
   "metadata": {
    "colab": {
     "base_uri": "https://localhost:8080/"
    },
    "executionInfo": {
     "elapsed": 5343,
     "status": "ok",
     "timestamp": 1679639770753,
     "user": {
      "displayName": "Yutvik Savani",
      "userId": "07793259308926843541"
     },
     "user_tz": -330
    },
    "id": "1029d57f",
    "outputId": "854f872e-bb25-459d-fea3-9eb6f507647c"
   },
   "outputs": [
    {
     "name": "stdout",
     "output_type": "stream",
     "text": [
      "Enter Your Age: 9\n",
      "not for voting\n"
     ]
    }
   ],
   "source": [
    "# simple if\n",
    "age=int(input(\"Enter Your Age: \"))\n",
    "if age>18:\n",
    "    print(\"COngratulations...eligible for voting\")\n",
    "    print(\"ergeg\")\n",
    "    print(\"rgjwhghgb\")"
   ]
  },
  {
   "cell_type": "code",
   "execution_count": null,
   "id": "b3df123c",
   "metadata": {
    "id": "b3df123c"
   },
   "outputs": [],
   "source": [
    "# if...else\n",
    "if condition:\n",
    "    body\n",
    "else:\n",
    "    body"
   ]
  },
  {
   "cell_type": "code",
   "execution_count": null,
   "id": "80eeafca",
   "metadata": {
    "id": "80eeafca",
    "outputId": "e5bb5aa6-b1c1-4fbf-ab32-fa35e1d619a1"
   },
   "outputs": [
    {
     "name": "stdout",
     "output_type": "stream",
     "text": [
      "Enter Age: 4\n",
      "Sorry...Not eligible for voting\n"
     ]
    }
   ],
   "source": [
    "age=int(input(\"Enter Age: \"))\n",
    "if age>18:\n",
    "    print(\"COngratulations...eligible for voting\")\n",
    "else:\n",
    "    print(\"Sorry...Not eligible for voting\")"
   ]
  },
  {
   "cell_type": "code",
   "execution_count": null,
   "id": "fca87688",
   "metadata": {
    "id": "fca87688"
   },
   "outputs": [],
   "source": [
    "if condition1:\n",
    "    body\n",
    "elif condition2:\n",
    "    body\n",
    "elif condition3:\n",
    "    boyd\n",
    "    ....\n",
    "    .\n",
    "    .\n",
    "    .\n",
    "    .\n",
    "    .\n",
    "    .\n",
    "else:\n",
    "    body"
   ]
  },
  {
   "cell_type": "code",
   "execution_count": null,
   "id": "7bd23666",
   "metadata": {
    "id": "7bd23666",
    "outputId": "90724209-2f3e-4a3a-9ca9-64b5d4ac5407"
   },
   "outputs": [
    {
     "name": "stdout",
     "output_type": "stream",
     "text": [
      "Enter Percentage: 56.32\n",
      "C1\n"
     ]
    }
   ],
   "source": [
    "# ladder if else\n",
    "percent=float(input(\"Enter Percentage: \"))\n",
    "if percent>91 and percent<100:\n",
    "    print(\"A1\")\n",
    "elif percent>81 and percent<=90:\n",
    "    print(\"A2\")\n",
    "elif percent>71 and percent<=80:\n",
    "    print(\"B1\")\n",
    "elif percent>61 and percent<=70:\n",
    "    print(\"B2\")\n",
    "elif percent>51 and percent<=60:\n",
    "    print(\"C1\")\n",
    "elif percent>41 and percent<=50:\n",
    "    print(\"C2\")\n",
    "elif percent>33 and percent<=40:\n",
    "    print(\"D\")\n",
    "elif percent<=33:\n",
    "    print(\"Fail\")\n",
    "else:\n",
    "    print(\"Enter Bewteen 1 to 100\")"
   ]
  },
  {
   "cell_type": "code",
   "execution_count": 3,
   "id": "41ee2b4b",
   "metadata": {},
   "outputs": [
    {
     "name": "stdout",
     "output_type": "stream",
     "text": [
      "Enter Number1 : 48\n",
      "Enter Number2 : 56\n",
      "Enter Number3 : 21\n",
      "56 is greater\n"
     ]
    }
   ],
   "source": [
    "# nested if else\n",
    "\n",
    "a=int(input(\"Enter Number1 : \"))\n",
    "b=int(input(\"Enter Number2 : \"))\n",
    "c=int(input(\"Enter Number3 : \"))\n",
    "if a>b:\n",
    "    if a>c:\n",
    "        print(f\"{a} is greater\")\n",
    "    else:\n",
    "        print(f\"{c} is greater\")\n",
    "else:\n",
    "    if b>c:\n",
    "        print(f\"{b} is greater\")\n",
    "    else:\n",
    "        print(f\"{c} is greater\")\n",
    "    \n"
   ]
  },
  {
   "cell_type": "code",
   "execution_count": 7,
   "id": "7b49db43",
   "metadata": {},
   "outputs": [
    {
     "name": "stdout",
     "output_type": "stream",
     "text": [
      "bwe \n",
      " bfwk\t webf\b\b\n"
     ]
    }
   ],
   "source": [
    "print(\"bwe \\n bfwk\\t webf\\b\\b\")\n",
    "int --- 89 65 -8 9- 89 -789 \n",
    "float ----89 65 89 785 2. 325 -8 93. 25\n",
    "string--- ''  \"\"  \"\"\" \"\"\"  '''  '''"
   ]
  },
  {
   "cell_type": "code",
   "execution_count": 13,
   "id": "c559ca6e",
   "metadata": {},
   "outputs": [
    {
     "name": "stdout",
     "output_type": "stream",
     "text": [
      "hello\" 'wolrd\n",
      "hello '' \" Wolrd\n",
      "Hello ' \"Wolrd\n",
      "hello world\n"
     ]
    }
   ],
   "source": [
    "print('hello \\'wolrd')\n",
    "print(\"hello '' \\\" Wolrd\")\n",
    "print(\"\"\"Hello ' \"Wolrd\"\"\")\n",
    "print('''hello world''')"
   ]
  },
  {
   "cell_type": "code",
   "execution_count": 20,
   "id": "aa04d7a1",
   "metadata": {},
   "outputs": [
    {
     "name": "stdout",
     "output_type": "stream",
     "text": [
      "18\n",
      "yourhgjkrthg age is 18 18\n"
     ]
    }
   ],
   "source": [
    "age=18\n",
    "string1=\"hgjkrthg\"\n",
    "print(age)\n",
    "# your age is 18\n",
    "print(f\"your{string1} age is {age} {age}\") #formatted Output"
   ]
  },
  {
   "cell_type": "code",
   "execution_count": 35,
   "id": "53accb1d",
   "metadata": {},
   "outputs": [
    {
     "name": "stdout",
     "output_type": "stream",
     "text": [
      "ddgfd\n",
      "<class 'str'>\n"
     ]
    }
   ],
   "source": [
    "# input()\n",
    "# boolean ---True False\n",
    "age=input(\"ENter your age: \")\n",
    "# print(f\"Your entered age is {age}\")\n",
    "print(type(age))"
   ]
  },
  {
   "cell_type": "code",
   "execution_count": 28,
   "id": "989edd75",
   "metadata": {},
   "outputs": [
    {
     "name": "stdout",
     "output_type": "stream",
     "text": [
      "<class 'str'>\n"
     ]
    }
   ],
   "source": [
    "age='rgrgerg'\n",
    "# type(variablename)\n",
    "print(type(age))"
   ]
  },
  {
   "cell_type": "code",
   "execution_count": null,
   "id": "c3752d96",
   "metadata": {},
   "outputs": [],
   "source": [
    "# typecasting\n",
    "# changing one datatype into another\n",
    "\"18\"\n",
    "18\n",
    "\n",
    "\"age\"\n",
    "age=18\n",
    "(str)age"
   ]
  },
  {
   "cell_type": "code",
   "execution_count": 46,
   "id": "ab0265a9",
   "metadata": {},
   "outputs": [
    {
     "name": "stdout",
     "output_type": "stream",
     "text": [
      "Enter your age: \n",
      "<class 'bool'>\n",
      "False\n"
     ]
    }
   ],
   "source": [
    "age=bool(input(\"Enter your age: \"))\n",
    "print(type(age))\n",
    "print(age)"
   ]
  },
  {
   "cell_type": "code",
   "execution_count": null,
   "id": "0c0307d9",
   "metadata": {},
   "outputs": [],
   "source": [
    "# operators\n",
    "+ - * /\n",
    "variable /value\n",
    "a=10\n",
    "b=50\n",
    "a+b\n",
    "59+36 --operands\n",
    "+ operator\n",
    "expression"
   ]
  },
  {
   "cell_type": "code",
   "execution_count": null,
   "id": "b3523829",
   "metadata": {},
   "outputs": [],
   "source": [
    "types of operators in python\n",
    "arithmetic operators + - * / //(floor division) %(modulus) **\n",
    "relational operator > < >= <= == !=\n",
    "Logical operator and or not\n",
    "bitwise operator & | >> <<\n",
    "membership operator in ..... not in\n",
    "identity operator is...... is not\n",
    "assigenemnt operator = += -= *= /="
   ]
  },
  {
   "cell_type": "code",
   "execution_count": 54,
   "id": "e9b20e20",
   "metadata": {},
   "outputs": [
    {
     "name": "stdout",
     "output_type": "stream",
     "text": [
      "125\n",
      "-53\n",
      "1440\n",
      "0.7111111111111111\n",
      "1\n",
      "13\n",
      "64\n"
     ]
    }
   ],
   "source": [
    "print(89+36)\n",
    "print(45-98)\n",
    "print(45*32)\n",
    "print(32/45)\n",
    "print(45//36) #1.25\n",
    "print(85%24)\n",
    "print(4**3)"
   ]
  },
  {
   "cell_type": "code",
   "execution_count": 56,
   "id": "1cf8cb66",
   "metadata": {},
   "outputs": [
    {
     "data": {
      "text/plain": [
       "False"
      ]
     },
     "execution_count": 56,
     "metadata": {},
     "output_type": "execute_result"
    }
   ],
   "source": [
    "# relational operator\n",
    "89>36\n",
    "48<25\n",
    "> >= < <= == !="
   ]
  },
  {
   "cell_type": "code",
   "execution_count": null,
   "id": "fe439cce",
   "metadata": {},
   "outputs": [],
   "source": [
    "89<25 false\n",
    " \n",
    "45>12 true\n",
    "\n",
    "47>25 true\n",
    "\n",
    "Logical operator\n",
    "\n",
    "and --all true then true atleast one false final false\n",
    "or----anyone true then true if all false then final; result will be false"
   ]
  },
  {
   "cell_type": "code",
   "execution_count": null,
   "id": "9429fea7",
   "metadata": {},
   "outputs": [],
   "source": [
    "print(87<25 and 89>45 or 84<25 and 39>12)"
   ]
  },
  {
   "cell_type": "code",
   "execution_count": 58,
   "id": "f13fbf62",
   "metadata": {},
   "outputs": [
    {
     "name": "stdout",
     "output_type": "stream",
     "text": [
      "73\n",
      "89\n",
      "32\n"
     ]
    }
   ],
   "source": [
    "print(89&73)\n",
    "print(89|73)\n",
    "print(45&112)"
   ]
  },
  {
   "cell_type": "code",
   "execution_count": 59,
   "id": "dad0cbe7",
   "metadata": {},
   "outputs": [
    {
     "name": "stdout",
     "output_type": "stream",
     "text": [
      "704\n",
      "11\n"
     ]
    }
   ],
   "source": [
    "print(88<<3)\n",
    "print(88>>3)"
   ]
  },
  {
   "cell_type": "code",
   "execution_count": 60,
   "id": "d314fca5",
   "metadata": {},
   "outputs": [
    {
     "name": "stdout",
     "output_type": "stream",
     "text": [
      "23\n"
     ]
    }
   ],
   "source": [
    "# a=45\n",
    "# # /=\n",
    "# # *=\n",
    "# # +=\n",
    "\n",
    "# a=45\n",
    "# a=37\n",
    "a=10\n",
    "a=a-13\n",
    "a+=13 #shorthand operator\n",
    "print(a)\n"
   ]
  },
  {
   "cell_type": "code",
   "execution_count": null,
   "id": "d799876a",
   "metadata": {},
   "outputs": [],
   "source": [
    "a*=89\n",
    "a=a*89"
   ]
  },
  {
   "cell_type": "code",
   "execution_count": null,
   "id": "f867c4c6",
   "metadata": {},
   "outputs": [],
   "source": []
  }
 ],
 "metadata": {
  "colab": {
   "provenance": []
  },
  "kernelspec": {
   "display_name": "Python 3 (ipykernel)",
   "language": "python",
   "name": "python3"
  },
  "language_info": {
   "codemirror_mode": {
    "name": "ipython",
    "version": 3
   },
   "file_extension": ".py",
   "mimetype": "text/x-python",
   "name": "python",
   "nbconvert_exporter": "python",
   "pygments_lexer": "ipython3",
   "version": "3.9.12"
  }
 },
 "nbformat": 4,
 "nbformat_minor": 5
}
