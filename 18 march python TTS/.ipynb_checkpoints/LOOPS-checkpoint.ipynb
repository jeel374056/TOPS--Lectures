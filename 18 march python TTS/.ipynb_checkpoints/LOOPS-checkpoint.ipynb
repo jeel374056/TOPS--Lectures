{
 "cells": [
  {
   "cell_type": "code",
   "execution_count": null,
   "id": "3c0f450a",
   "metadata": {},
   "outputs": [],
   "source": [
    "integer\n",
    "float\n",
    "string\n",
    "boolean"
   ]
  },
  {
   "cell_type": "raw",
   "id": "6ae1e487",
   "metadata": {},
   "source": [
    "Collections---iterables---sequence\n",
    "\n",
    "string=\"\"\n",
    "range(start,stop,steps)\n",
    "list=[1,23.6,\"string\",False] square brackets\n",
    "tuple=(1,23.6,\"string\",False) round brackets\n",
    "sets={1,23.6,\"string\",False} curly braces\n",
    "dictionary={1:\"hello\" , \"One\" : \"Something\" }\n"
   ]
  },
  {
   "cell_type": "code",
   "execution_count": null,
   "id": "e4b9a757",
   "metadata": {},
   "outputs": [],
   "source": [
    "# Types of loops in Python\n",
    "For Loop ----collections\n",
    "While Loop ---- \n",
    "\n",
    "iteration---- itearting variable"
   ]
  },
  {
   "cell_type": "code",
   "execution_count": 1,
   "id": "6624dd11",
   "metadata": {},
   "outputs": [
    {
     "name": "stdout",
     "output_type": "stream",
     "text": [
      "Hello\n"
     ]
    }
   ],
   "source": [
    "print(\"Hello\")\n",
    "\n"
   ]
  },
  {
   "cell_type": "code",
   "execution_count": null,
   "id": "102ebf54",
   "metadata": {},
   "outputs": [],
   "source": [
    "# syntax of for loop\n",
    "for variable in collections:\n",
    "    body of the loop"
   ]
  },
  {
   "cell_type": "code",
   "execution_count": 3,
   "id": "4e8d77d7",
   "metadata": {},
   "outputs": [
    {
     "name": "stdout",
     "output_type": "stream",
     "text": [
      "good Morning\n",
      "H\n",
      "good Morning\n",
      "e\n",
      "good Morning\n",
      "l\n",
      "good Morning\n",
      "l\n",
      "good Morning\n",
      "o\n"
     ]
    }
   ],
   "source": [
    "for i in \"Hello\":\n",
    "    print(\"good Morning\")\n",
    "    print(i)"
   ]
  },
  {
   "cell_type": "code",
   "execution_count": 7,
   "id": "bf3d917a",
   "metadata": {},
   "outputs": [
    {
     "name": "stdout",
     "output_type": "stream",
     "text": [
      "1\n",
      "2\n",
      "3\n",
      "4\n",
      "5\n",
      "6\n",
      "7\n",
      "8\n",
      "9\n",
      "10\n"
     ]
    }
   ],
   "source": [
    "# range([start,]stop[,step])\n",
    "for i in range(1,11):\n",
    "    print(i)\n",
    "   "
   ]
  },
  {
   "cell_type": "code",
   "execution_count": 13,
   "id": "12bed3bc",
   "metadata": {},
   "outputs": [
    {
     "name": "stdout",
     "output_type": "stream",
     "text": [
      "5\n",
      "7\n",
      "9\n",
      "11\n",
      "13\n",
      "15\n",
      "17\n",
      "19\n"
     ]
    }
   ],
   "source": [
    "for i in range(5,21,2):\n",
    "    print(i)"
   ]
  },
  {
   "cell_type": "code",
   "execution_count": 14,
   "id": "78eb68c1",
   "metadata": {},
   "outputs": [
    {
     "name": "stdout",
     "output_type": "stream",
     "text": [
      "hello\n",
      "range(1, 99, 6)\n"
     ]
    }
   ],
   "source": [
    "str1=\"hello\"\n",
    "print(str1)\n",
    "print(range(1,99,6))"
   ]
  },
  {
   "cell_type": "code",
   "execution_count": null,
   "id": "b95296cf",
   "metadata": {},
   "outputs": [],
   "source": [
    "-8 -7 -6 -5 -4 -3 -2 -1 0 1 2 3 4 5 6 7 8 9 --number line"
   ]
  },
  {
   "cell_type": "code",
   "execution_count": 19,
   "id": "42450387",
   "metadata": {},
   "outputs": [
    {
     "name": "stdout",
     "output_type": "stream",
     "text": [
      "6\n",
      "3\n",
      "0\n",
      "-3\n"
     ]
    }
   ],
   "source": [
    "for i in range(6,-6,-3):\n",
    "    print(i)"
   ]
  },
  {
   "cell_type": "code",
   "execution_count": null,
   "id": "d745d868",
   "metadata": {},
   "outputs": [],
   "source": [
    "# while loop\n",
    "while condition:\n",
    "    body"
   ]
  },
  {
   "cell_type": "code",
   "execution_count": 21,
   "id": "0206aac5",
   "metadata": {},
   "outputs": [
    {
     "name": "stdout",
     "output_type": "stream",
     "text": [
      "Enter Number89\n",
      "Enter Number87\n",
      "Enter Number36\n",
      "Enter Number14\n",
      "Enter Number23\n",
      "Enter Number89\n",
      "Enter Number89\n",
      "Enter Number45\n",
      "Enter Number63\n",
      "Enter Number21\n",
      "Enter Number5\n"
     ]
    }
   ],
   "source": [
    "num=0\n",
    "while num!=5:\n",
    "    num=int(input(\"Enter Number\"))"
   ]
  },
  {
   "cell_type": "code",
   "execution_count": 25,
   "id": "1bedfbf8",
   "metadata": {},
   "outputs": [
    {
     "name": "stdout",
     "output_type": "stream",
     "text": [
      "Enter Number: 3\n",
      "6\n"
     ]
    }
   ],
   "source": [
    "# Factorial of given number        \n",
    "f=1\n",
    "num=int(input(\"Enter Number: \"))\n",
    "for i in range(1,num+1):\n",
    "    f=f*i\n",
    "print(f)"
   ]
  }
 ],
 "metadata": {
  "kernelspec": {
   "display_name": "Python 3 (ipykernel)",
   "language": "python",
   "name": "python3"
  },
  "language_info": {
   "codemirror_mode": {
    "name": "ipython",
    "version": 3
   },
   "file_extension": ".py",
   "mimetype": "text/x-python",
   "name": "python",
   "nbconvert_exporter": "python",
   "pygments_lexer": "ipython3",
   "version": "3.9.12"
  }
 },
 "nbformat": 4,
 "nbformat_minor": 5
}
