{
 "cells": [
  {
   "cell_type": "code",
   "execution_count": 1,
   "id": "b3f981a8",
   "metadata": {},
   "outputs": [
    {
     "name": "stdout",
     "output_type": "stream",
     "text": [
      "hello\n"
     ]
    }
   ],
   "source": [
    "# String\n",
    "# String\n",
    "# string is defined in '' \" \"  ''' '''  \"\"\"  \"\"\"\n",
    "str1=\"hello\"\n",
    "print(str1)topsst301"
   ]
  },
  {
   "cell_type": "code",
   "execution_count": 10,
   "id": "db0269ab",
   "metadata": {},
   "outputs": [
    {
     "name": "stdout",
     "output_type": "stream",
     "text": [
      "o\n",
      "llo W\n",
      "rlo\n",
      "dlW\n"
     ]
    }
   ],
   "source": [
    "# string is immutable---changes not allowed\n",
    "string1=\"hello Wolrd\"\n",
    "# index position ---0\n",
    "# index position\n",
    "# stringname[index position]\n",
    "print(string1[4]) #stirng slicing\n",
    "print(string1[2:7])\n",
    "print(string1[9:6:-1])\n",
    "print(string1[-1:-6:-2])"
   ]
  },
  {
   "cell_type": "code",
   "execution_count": 15,
   "id": "dac16788",
   "metadata": {},
   "outputs": [
    {
     "name": "stdout",
     "output_type": "stream",
     "text": [
      "Hello worhwbfhld jhfdwio jgvjkgnerjkn\n",
      "hello worHWBFHld JHFDWIO jgvjkgnerjkn\n"
     ]
    }
   ],
   "source": [
    "# string methods\n",
    "# dir(\"\")\n",
    "# capitalize()--it capitalize first letter of string and lowercase others letters\n",
    "string1=\"hello worHWBFHld JHFDWIO jgvjkgnerjkn\"\n",
    "print(string1.capitalize())\n",
    "print(string1)"
   ]
  },
  {
   "cell_type": "code",
   "execution_count": 18,
   "id": "d466a8d2",
   "metadata": {},
   "outputs": [
    {
     "name": "stdout",
     "output_type": "stream",
     "text": [
      "hello wolrd jkljekl ss 375 &r%&^% njklrsdgnjk jbkjbdsj\n",
      "hello wolrd jkljekl ß 375 &r%&^% njklrsdgnjk jbkjbdsj\n"
     ]
    }
   ],
   "source": [
    "# casefold()---lowercase all alphabtes of string\n",
    "# lower()---lowercase all alphabtes of string\n",
    "string1=\"hello wolrd JKLJEKL ß 375 &R%&^% njklrsdgnjk JBKJBDSJ\"\n",
    "print(string1.casefold())\n",
    "print(string1.lower())\n",
    "# Fu --ss"
   ]
  },
  {
   "cell_type": "code",
   "execution_count": 24,
   "id": "739327dd",
   "metadata": {},
   "outputs": [
    {
     "name": "stdout",
     "output_type": "stream",
     "text": [
      "                   Hello Wolrd                    \n",
      "///////////////////Hello Wolrd////////////////////\n"
     ]
    }
   ],
   "source": [
    "# center(length[,character])\n",
    "string1=\"Hello Wolrd\"\n",
    "print(string1.center(50))\n",
    "print(string1.center(50,\"/\"))"
   ]
  },
  {
   "cell_type": "code",
   "execution_count": 25,
   "id": "aa861581",
   "metadata": {},
   "outputs": [
    {
     "data": {
      "text/plain": [
       "'hellohellohello'"
      ]
     },
     "execution_count": 25,
     "metadata": {},
     "output_type": "execute_result"
    }
   ],
   "source": [
    "str1=\"hello\"\n",
    "str1*3"
   ]
  },
  {
   "cell_type": "code",
   "execution_count": 30,
   "id": "e4b49a0b",
   "metadata": {},
   "outputs": [
    {
     "name": "stdout",
     "output_type": "stream",
     "text": [
      "Enter Choice: 15\n",
      "              *               \n",
      "             * *              \n",
      "            * * *             \n",
      "           * * * *            \n",
      "          * * * * *           \n",
      "         * * * * * *          \n",
      "        * * * * * * *         \n",
      "       * * * * * * * *        \n",
      "      * * * * * * * * *       \n",
      "     * * * * * * * * * *      \n",
      "    * * * * * * * * * * *     \n",
      "   * * * * * * * * * * * *    \n",
      "  * * * * * * * * * * * * *   \n",
      " * * * * * * * * * * * * * *  \n",
      "* * * * * * * * * * * * * * * \n"
     ]
    }
   ],
   "source": [
    "# pyramid pattern\n",
    "num=int(input(\"Enter Choice: \"))\n",
    "str1=\"* \"\n",
    "for i in range(1,num+1):\n",
    "    print((str1*i).center(num*2))\n",
    "    "
   ]
  },
  {
   "cell_type": "code",
   "execution_count": 36,
   "id": "647a8ea3",
   "metadata": {},
   "outputs": [
    {
     "name": "stdout",
     "output_type": "stream",
     "text": [
      "1\n"
     ]
    }
   ],
   "source": [
    "# count(\"substring\"[,startingpoint,endingpoint])--gives count of substing\n",
    "str1=\"HEllo World ol ol ol\"\n",
    "print(str1.count(\"o\",6,12))"
   ]
  },
  {
   "cell_type": "code",
   "execution_count": 43,
   "id": "dde67d46",
   "metadata": {},
   "outputs": [
    {
     "name": "stdout",
     "output_type": "stream",
     "text": [
      "False\n"
     ]
    }
   ],
   "source": [
    "# endswith(\"substring\",[startingpoint,endingpoint])\n",
    "str1=\"hello Wolrd hgt eger ty\"\n",
    "print(str1.endswith(\"lrd\",8,12))"
   ]
  }
 ],
 "metadata": {
  "kernelspec": {
   "display_name": "Python 3 (ipykernel)",
   "language": "python",
   "name": "python3"
  },
  "language_info": {
   "codemirror_mode": {
    "name": "ipython",
    "version": 3
   },
   "file_extension": ".py",
   "mimetype": "text/x-python",
   "name": "python",
   "nbconvert_exporter": "python",
   "pygments_lexer": "ipython3",
   "version": "3.9.12"
  }
 },
 "nbformat": 4,
 "nbformat_minor": 5
}
