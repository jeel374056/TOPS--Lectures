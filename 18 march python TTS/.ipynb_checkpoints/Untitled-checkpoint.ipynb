{
 "cells": [
  {
   "cell_type": "code",
   "execution_count": null,
   "id": "9fd63261",
   "metadata": {
    "id": "9fd63261"
   },
   "outputs": [],
   "source": [
    "PYTHON ----PRogramming LANGUAGE\n",
    "\n"
   ]
  },
  {
   "cell_type": "code",
   "execution_count": null,
   "id": "d91e520c",
   "metadata": {
    "id": "d91e520c",
    "outputId": "fb3838d2-f2ba-4254-d672-0824868d3b64"
   },
   "outputs": [],
   "source": [
    "45hyurtjrtjrtjrj"
   ]
  },
  {
   "cell_type": "code",
   "execution_count": null,
   "id": "3a9735fa",
   "metadata": {
    "id": "3a9735fa",
    "outputId": "e91de893-7b48-4f7e-b6e5-29cba522bf7f"
   },
   "outputs": [],
   "source": [
    "ioyuoydhhdh\n",
    "het\n",
    "h\n",
    "h\n",
    "ehrth\n",
    "eh\n"
   ]
  },
  {
   "cell_type": "code",
   "execution_count": null,
   "id": "692e4173",
   "metadata": {
    "id": "692e4173",
    "outputId": "04fb068d-05ef-44f7-e18e-e5bc726d96d3"
   },
   "outputs": [],
   "source": [
    "print(\"fbjkhef bngvbjehrtv jhreb ge nejh\")\n",
    "print(\"efwegfwewegwerv wrgtwergwer  \")\n",
    "# print(\"hello i\"m good\")\n",
    "# \\--backslash\n"
   ]
  },
  {
   "cell_type": "markdown",
   "id": "_aE9g1h0UtOD",
   "metadata": {
    "id": "_aE9g1h0UtOD"
   },
   "source": []
  },
  {
   "cell_type": "code",
   "execution_count": null,
   "id": "c4a95aa7",
   "metadata": {
    "id": "c4a95aa7",
    "outputId": "500c59f0-3824-4614-ccc6-b4afe2ce85eb"
   },
   "outputs": [],
   "source": [
    "print(\"ggrgegeg\")\n",
    "print(\"hello i\\\"m good\")\n",
    "\n",
    "print(\"heelo \\n is great\")\n",
    "print(\"heelo\")\n",
    "print(\"is great\")\n",
    "print(\"36\\\\21\")\n",
    "print(\"hello i'm go\\\"od\")\n",
    "print('rjghj\"er\\'ghejg')\n",
    "# \\n----newline character\n",
    "# 36\\21"
   ]
  },
  {
   "cell_type": "code",
   "execution_count": null,
   "id": "bee14634",
   "metadata": {
    "id": "bee14634",
    "outputId": "80620df4-811b-4ae8-d4ab-dde0c559f642"
   },
   "outputs": [],
   "source": [
    "print(\"wsgerhg\\b\\b\\brhgthg\")\n",
    "print(\"hello wolrd\")"
   ]
  },
  {
   "cell_type": "code",
   "execution_count": null,
   "id": "3d4f8b1b",
   "metadata": {},
   "outputs": [],
   "source": [
    "# input()"
   ]
  },
  {
   "cell_type": "code",
   "execution_count": null,
   "id": "5baf8381",
   "metadata": {},
   "outputs": [],
   "source": [
    "# variables\n",
    "# variablename=value"
   ]
  },
  {
   "cell_type": "code",
   "execution_count": null,
   "id": "b50b11eb",
   "metadata": {},
   "outputs": [],
   "source": [
    "a=10\n",
    "print(a)"
   ]
  },
  {
   "cell_type": "code",
   "execution_count": null,
   "id": "ed9af8c2",
   "metadata": {},
   "outputs": [],
   "source": [
    "variable\n",
    "\n",
    "integer --- int -- 12 54 826345 1245 -89 415 -89 -52 -5\n",
    "float ----float ---25485 -5698 .2365 -0.256\n",
    "string ---str --- \"jkfjk\" \"\" \" \" \"546584\" \"True\"\n",
    "BOOLEAN ---bool ---True , False"
   ]
  },
  {
   "cell_type": "code",
   "execution_count": null,
   "id": "cda79bd4",
   "metadata": {},
   "outputs": [],
   "source": [
    "# rule for naming\n",
    "first character a-z A-Z _  _sfgjk Ajfklgjrt gjhg %nhgn 8tjyut\n",
    "remaing character a-z A-Z _ 0-9 \n",
    "\n",
    "suggestions\n",
    "\n",
    "# don't use space _"
   ]
  },
  {
   "cell_type": "code",
   "execution_count": 10,
   "id": "5ac96743",
   "metadata": {},
   "outputs": [
    {
     "name": "stdout",
     "output_type": "stream",
     "text": [
      "<class 'float'>\n"
     ]
    }
   ],
   "source": [
    "age=56.32\n",
    "print(type(age))"
   ]
  },
  {
   "cell_type": "code",
   "execution_count": null,
   "id": "40e9c9fa",
   "metadata": {},
   "outputs": [],
   "source": [
    "name=input(\"Enter Name: \")"
   ]
  },
  {
   "cell_type": "code",
   "execution_count": null,
   "id": "1100f88d",
   "metadata": {},
   "outputs": [],
   "source": [
    "print(name)"
   ]
  },
  {
   "cell_type": "code",
   "execution_count": 1,
   "id": "d93d7634",
   "metadata": {},
   "outputs": [
    {
     "name": "stdout",
     "output_type": "stream",
     "text": [
      "Enter AGe: *************48\n",
      "your age is 48\n",
      "Enter Number : b\n"
     ]
    }
   ],
   "source": [
    "age=input(\"Enter AGe: *************\")\n",
    "print(f\"your age is {age}\") #formatted output\n",
    "mobile_number=input(\"Enter Number : \")"
   ]
  },
  {
   "cell_type": "code",
   "execution_count": 2,
   "id": "4315ce49",
   "metadata": {},
   "outputs": [
    {
     "name": "stdout",
     "output_type": "stream",
     "text": [
      "25\n"
     ]
    }
   ],
   "source": [
    "print(12+13)"
   ]
  },
  {
   "cell_type": "code",
   "execution_count": 4,
   "id": "6e9e2c97",
   "metadata": {},
   "outputs": [
    {
     "name": "stdout",
     "output_type": "stream",
     "text": [
      "Enter Number: 10\n",
      "Enter number2 20\n",
      "30\n"
     ]
    },
    {
     "data": {
      "text/plain": [
       "'True'"
      ]
     },
     "execution_count": 4,
     "metadata": {},
     "output_type": "execute_result"
    }
   ],
   "source": [
    "num1=int(input(\"Enter Number: \"))\n",
    "num2=int(input(\"Enter number2 \"))\n",
    "print(num1+num2)\n",
    "\"10\"->10\n",
    "\"True\""
   ]
  },
  {
   "cell_type": "code",
   "execution_count": null,
   "id": "ff8a11a2",
   "metadata": {},
   "outputs": [],
   "source": [
    "input()\n",
    "10+20\n",
    "\"wow\"+\"wonderful\"\n",
    "int(input(\"Enter Number\"))"
   ]
  },
  {
   "cell_type": "code",
   "execution_count": 9,
   "id": "96a6d1ad",
   "metadata": {},
   "outputs": [
    {
     "data": {
      "text/plain": [
       "85.36"
      ]
     },
     "execution_count": 9,
     "metadata": {},
     "output_type": "execute_result"
    }
   ],
   "source": [
    "a=\"85.36\"\n",
    "float(a)"
   ]
  }
 ],
 "metadata": {
  "colab": {
   "provenance": []
  },
  "kernelspec": {
   "display_name": "Python 3 (ipykernel)",
   "language": "python",
   "name": "python3"
  },
  "language_info": {
   "codemirror_mode": {
    "name": "ipython",
    "version": 3
   },
   "file_extension": ".py",
   "mimetype": "text/x-python",
   "name": "python",
   "nbconvert_exporter": "python",
   "pygments_lexer": "ipython3",
   "version": "3.9.12"
  }
 },
 "nbformat": 4,
 "nbformat_minor": 5
}
