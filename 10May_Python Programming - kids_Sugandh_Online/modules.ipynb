{
 "cells": [
  {
   "cell_type": "code",
   "execution_count": null,
   "id": "fb8030f8",
   "metadata": {},
   "outputs": [],
   "source": [
    "modules"
   ]
  },
  {
   "cell_type": "code",
   "execution_count": 252,
   "id": "2d71623c",
   "metadata": {},
   "outputs": [
    {
     "name": "stdout",
     "output_type": "stream",
     "text": [
      "0.12441095825268067\n"
     ]
    }
   ],
   "source": [
    "import random\n",
    "# print(random.randrange(1000,9999))  #1-10\n",
    "# print(random.randint(11,22))\n",
    "# print(random.choice(\"hello world i am learning python\"))\n",
    "# print(random.choices([1,9.8,\"wow\",(1,5)]))\n",
    "# print(random.random()) #0-1"
   ]
  },
  {
   "cell_type": "code",
   "execution_count": 255,
   "id": "4e7653de",
   "metadata": {},
   "outputs": [
    {
     "name": "stdout",
     "output_type": "stream",
     "text": [
      "720\n",
      "6\n",
      "5\n"
     ]
    }
   ],
   "source": [
    "import math\n",
    "print(math.factorial(6))\n",
    "print(math.ceil(5.8))\n",
    "print(math.floor(5.8))"
   ]
  },
  {
   "cell_type": "code",
   "execution_count": null,
   "id": "c7ff62c5",
   "metadata": {},
   "outputs": [],
   "source": [
    "packages is a collection of modules"
   ]
  },
  {
   "cell_type": "code",
   "execution_count": null,
   "id": "c8635539",
   "metadata": {},
   "outputs": [],
   "source": [
    "graphics using python\n",
    "Turtle----different functions design"
   ]
  },
  {
   "cell_type": "code",
   "execution_count": 257,
   "id": "3ce752ec",
   "metadata": {},
   "outputs": [],
   "source": [
    "import turtle  #imports turtle module so we can use that\n",
    "tr=turtle.Turtle()  #turtle screen visible to us\n",
    "tr.screen.bgcolor(\"red\") #changes the background colour of the turtle screen\n",
    "tr.screen.bgpic(\"\")"
   ]
  }
 ],
 "metadata": {
  "kernelspec": {
   "display_name": "Python 3 (ipykernel)",
   "language": "python",
   "name": "python3"
  },
  "language_info": {
   "codemirror_mode": {
    "name": "ipython",
    "version": 3
   },
   "file_extension": ".py",
   "mimetype": "text/x-python",
   "name": "python",
   "nbconvert_exporter": "python",
   "pygments_lexer": "ipython3",
   "version": "3.9.12"
  }
 },
 "nbformat": 4,
 "nbformat_minor": 5
}
