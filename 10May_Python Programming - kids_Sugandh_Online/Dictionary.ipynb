{
 "cells": [
  {
   "cell_type": "code",
   "execution_count": null,
   "id": "3405ac63",
   "metadata": {},
   "outputs": [],
   "source": [
    "dictionary contains elements in key value pair\n",
    "ex:\n",
    "dict1={key1:value,key1:value.....}\n"
   ]
  },
  {
   "cell_type": "code",
   "execution_count": 5,
   "id": "22a662c1",
   "metadata": {},
   "outputs": [
    {
     "name": "stdout",
     "output_type": "stream",
     "text": [
      "{1: 9, 'hello': 'World', 7.8: 5.8, 5: [4, 5, 6], (1, 2, 3): (4, 8, 9), 'set': {4, 5}}\n"
     ]
    }
   ],
   "source": [
    "#list,set cannot be keys \n",
    "#keys in dictionary should always be a immutable type\n",
    "#in Values we can use anything\n",
    "dict1={1:9,\"hello\":\"World\",7.8:5.8,5:[4,5,6],(1,2,3):(4,8,9),\"set\":{4,5}}\n",
    "print(dict1)"
   ]
  },
  {
   "cell_type": "code",
   "execution_count": 8,
   "id": "1a8aa472",
   "metadata": {},
   "outputs": [
    {
     "name": "stdout",
     "output_type": "stream",
     "text": [
      "{1: 9, 2: 98, 3: 45, 4: 65}\n"
     ]
    }
   ],
   "source": [
    "dict1={1:9,2:18,3:45,4:65,2:45,2:98}\n",
    "print(dict1)\n",
    "#if we put duplicate key then first key value will be overwrite with the new one\n",
    "# 3we can put duplicates values in values also"
   ]
  },
  {
   "cell_type": "code",
   "execution_count": null,
   "id": "01c95336",
   "metadata": {},
   "outputs": [],
   "source": [
    "# indexes but in case of dictionary the element will be locate with the help of keys so here ther is no any\n",
    "# kind of indexes"
   ]
  },
  {
   "cell_type": "code",
   "execution_count": 11,
   "id": "fa71bd45",
   "metadata": {},
   "outputs": [
    {
     "name": "stdout",
     "output_type": "stream",
     "text": [
      "45\n"
     ]
    }
   ],
   "source": [
    "print(dict1[3])"
   ]
  },
  {
   "cell_type": "code",
   "execution_count": 17,
   "id": "6823f129",
   "metadata": {},
   "outputs": [
    {
     "name": "stdout",
     "output_type": "stream",
     "text": [
      "{1: 9, 2: 98, 3: 45, 4: 65, 54: 4}\n"
     ]
    }
   ],
   "source": [
    "# print(dict1[18])\n",
    "dict1={1:9,2:18,3:45,4:65,2:45,2:98,54:4}\n",
    "print(dict1)\n",
    "#we cannot empty any key or value in dictionary"
   ]
  },
  {
   "cell_type": "code",
   "execution_count": 19,
   "id": "b52fcd9b",
   "metadata": {},
   "outputs": [
    {
     "name": "stdout",
     "output_type": "stream",
     "text": [
      "{1: 9, 2: 98, 3: 45, 4: 65, 54: 4}\n",
      "{1: 9, 2: 98, 3: 45, 4: 65, 54: 4}\n"
     ]
    }
   ],
   "source": [
    "# methods of dictionary\n",
    "dict1={1:9,2:18,3:45,4:65,2:45,2:98,54:4}\n",
    "dict2=dict1.copy()#copy one dictionary to another\n",
    "print(dict1)\n",
    "print(dict2)"
   ]
  },
  {
   "cell_type": "code",
   "execution_count": null,
   "id": "b42e21c2",
   "metadata": {},
   "outputs": [],
   "source": []
  },
  {
   "cell_type": "code",
   "execution_count": 22,
   "id": "d59dd800",
   "metadata": {},
   "outputs": [
    {
     "name": "stdout",
     "output_type": "stream",
     "text": [
      "{1: 9, 2: 98, 3: 45, 4: 5, 54: 4, 49: 5}\n"
     ]
    }
   ],
   "source": [
    "dict1={1:9,2:18,3:45,4:65,2:45,2:98,54:4}\n",
    "dict1.update({4:5})\n",
    "dict1.update({49:5})\n",
    "print(dict1)\n",
    "# update method will change the value inside dictionary if key exist in dictionary\n",
    "# otherwise it will just simplt put that key value pair in last of the dictionary"
   ]
  },
  {
   "cell_type": "code",
   "execution_count": 24,
   "id": "a3f7b268",
   "metadata": {},
   "outputs": [
    {
     "name": "stdout",
     "output_type": "stream",
     "text": [
      "dict_values([9, 98, 45, 5, 4, 5])\n"
     ]
    }
   ],
   "source": [
    "print(dict1.values())\n",
    "#gives list conatining all the values of a dictionary"
   ]
  },
  {
   "cell_type": "code",
   "execution_count": 25,
   "id": "230edba3",
   "metadata": {},
   "outputs": [
    {
     "name": "stdout",
     "output_type": "stream",
     "text": [
      "dict_keys([1, 2, 3, 4, 54, 49])\n"
     ]
    }
   ],
   "source": [
    "print(dict1.keys())\n",
    "#gives list conataining all the keys of a dictionary"
   ]
  },
  {
   "cell_type": "code",
   "execution_count": 26,
   "id": "24e3ce51",
   "metadata": {},
   "outputs": [
    {
     "name": "stdout",
     "output_type": "stream",
     "text": [
      "dict_items([(1, 9), (2, 98), (3, 45), (4, 5), (54, 4), (49, 5)])\n"
     ]
    }
   ],
   "source": [
    "print(dict1.items())\n",
    "#items method gives list of tuples and tuples conataining keys and value as a elements"
   ]
  },
  {
   "cell_type": "code",
   "execution_count": 27,
   "id": "84c85e66",
   "metadata": {},
   "outputs": [
    {
     "name": "stdout",
     "output_type": "stream",
     "text": [
      "{1: 9, 2: 98, 3: 45, 4: 5, 54: 4, 49: 5}\n",
      "{}\n"
     ]
    }
   ],
   "source": [
    "print(dict1)\n",
    "dict1.clear()#clear everything from the dictionary\n",
    "print(dict1)"
   ]
  },
  {
   "cell_type": "code",
   "execution_count": 1,
   "id": "6efaee0f",
   "metadata": {},
   "outputs": [],
   "source": [
    "# function is a block of code used to do some task in repetitive manner\n",
    "\n",
    "# def function_name([parameters]):\n",
    "#     body\n",
    "#     pass\n",
    "#     [return]\n",
    "\n",
    "# functionname()\n",
    "\n",
    "# def function_name():\n",
    "#     pass\n",
    "\n",
    "# types of functions\n",
    "# 1)user defined----we create\n",
    "# 2)inbuilt function---python already created we just have to use that"
   ]
  },
  {
   "cell_type": "code",
   "execution_count": null,
   "id": "d2f2e03f",
   "metadata": {},
   "outputs": [],
   "source": []
  }
 ],
 "metadata": {
  "kernelspec": {
   "display_name": "Python 3 (ipykernel)",
   "language": "python",
   "name": "python3"
  },
  "language_info": {
   "codemirror_mode": {
    "name": "ipython",
    "version": 3
   },
   "file_extension": ".py",
   "mimetype": "text/x-python",
   "name": "python",
   "nbconvert_exporter": "python",
   "pygments_lexer": "ipython3",
   "version": "3.9.12"
  }
 },
 "nbformat": 4,
 "nbformat_minor": 5
}
