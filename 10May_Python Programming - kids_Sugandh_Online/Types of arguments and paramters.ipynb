{
 "cells": [
  {
   "cell_type": "code",
   "execution_count": 14,
   "id": "71fdceb5",
   "metadata": {},
   "outputs": [
    {
     "name": "stdout",
     "output_type": "stream",
     "text": [
      "68\n",
      "26\n"
     ]
    }
   ],
   "source": [
    "def fun1(a,b,c,d):\n",
    "    add=a+b\n",
    "    subt=c-d\n",
    "    print(add)\n",
    "    print(subt)\n",
    "    \n",
    "fun1(10,58,56,30)"
   ]
  },
  {
   "cell_type": "code",
   "execution_count": 2,
   "id": "5e18aef6",
   "metadata": {},
   "outputs": [
    {
     "name": "stdout",
     "output_type": "stream",
     "text": [
      "47\n",
      "-20\n",
      "83\n",
      "-29\n"
     ]
    }
   ],
   "source": [
    "# Keyword arguments:\n",
    "def fun1(a,b,c,d):\n",
    "    add=a+b\n",
    "    subt=c-d\n",
    "    print(add)\n",
    "    print(subt)\n",
    "    \n",
    "fun1(19,28,d=10,c=30)  \n",
    "fun1(b=58,c=36,d=65,a=25)\n",
    "# keywords arguments never come before positional arguments"
   ]
  },
  {
   "cell_type": "code",
   "execution_count": 28,
   "id": "d9914212",
   "metadata": {},
   "outputs": [
    {
     "name": "stdout",
     "output_type": "stream",
     "text": [
      "80\n",
      "{'d': 45, 'e': 98, 'f': 45}\n"
     ]
    }
   ],
   "source": [
    "def fun1(a,b,c,*d):  #a=5 b=6 c=8 d=(9,7,89,45)\n",
    "    add=a+b\n",
    "    subt=c-d[1]\n",
    "    print(add)\n",
    "    print(subt)\n",
    "    print(d)\n",
    "    \n",
    "fun1(5,6,8,9,7,89,45)\n",
    "# arbitrary arguments ---*name"
   ]
  },
  {
   "cell_type": "code",
   "execution_count": 31,
   "id": "547efacd",
   "metadata": {},
   "outputs": [
    {
     "name": "stdout",
     "output_type": "stream",
     "text": [
      "80\n",
      "-69\n",
      "{'d': 45, 'e': 98, 'f': 45}\n"
     ]
    }
   ],
   "source": [
    "# arbitrary keyword argument\n",
    "def fun1(a,b,c,**d):  #a=5 b=6 c=8 d=(9,7,89,45)\n",
    "    add=a+b\n",
    "    subt=c-d['e']\n",
    "    print(add)\n",
    "    print(subt)\n",
    "    print(d)\n",
    "    \n",
    "# fun1(5,6,8,9,7,89,45)\n",
    "fun1(a=50,b=30,c=29,d=45,e=98,f=45)\n",
    "# arbitrary arguments ---*name"
   ]
  },
  {
   "cell_type": "code",
   "execution_count": 36,
   "id": "7ef60f7c",
   "metadata": {},
   "outputs": [
    {
     "name": "stdout",
     "output_type": "stream",
     "text": [
      "68\n",
      "-30\n"
     ]
    }
   ],
   "source": [
    "# default argument\n",
    "def fun1(a,b,c,d=90):\n",
    "    add=a+b\n",
    "    subt=c-d\n",
    "    print(add)\n",
    "    print(subt)\n",
    "    \n",
    "fun1(10,58,60) "
   ]
  },
  {
   "cell_type": "code",
   "execution_count": 38,
   "id": "ba0b11d5",
   "metadata": {},
   "outputs": [
    {
     "name": "stdout",
     "output_type": "stream",
     "text": [
      "30\n"
     ]
    }
   ],
   "source": [
    "def fun1(x,y):\n",
    "    print(x+y)\n",
    "    \n",
    "fun1(10,20)"
   ]
  },
  {
   "cell_type": "code",
   "execution_count": 39,
   "id": "1db39fdc",
   "metadata": {},
   "outputs": [
    {
     "name": "stdout",
     "output_type": "stream",
     "text": [
      "30\n"
     ]
    }
   ],
   "source": [
    "# anonymous---unknown name is not defined\n",
    "# lambda function\n",
    "fun1=lambda x,y : print(x+y)\n",
    "fun1(10,20)"
   ]
  }
 ],
 "metadata": {
  "kernelspec": {
   "display_name": "Python 3 (ipykernel)",
   "language": "python",
   "name": "python3"
  },
  "language_info": {
   "codemirror_mode": {
    "name": "ipython",
    "version": 3
   },
   "file_extension": ".py",
   "mimetype": "text/x-python",
   "name": "python",
   "nbconvert_exporter": "python",
   "pygments_lexer": "ipython3",
   "version": "3.9.12"
  }
 },
 "nbformat": 4,
 "nbformat_minor": 5
}
