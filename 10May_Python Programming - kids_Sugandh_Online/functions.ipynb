{
 "cells": [
  {
   "cell_type": "code",
   "execution_count": null,
   "id": "0cb6615b",
   "metadata": {},
   "outputs": [],
   "source": [
    "# function is a block of code used to do some task in repetitive manner\n",
    "#reusability \n",
    "\n",
    "# def function_name([parameters]):\n",
    "#     body\n",
    "#     pass\n",
    "#     [return]\n",
    "\n",
    "# functionname()\n",
    "\n",
    "# def function_name():\n",
    "#     pass\n",
    "\n",
    "# types of functions\n",
    "# 1)user defined----we create\n",
    "# 2)inbuilt function---python already created we just have to use that"
   ]
  },
  {
   "cell_type": "code",
   "execution_count": null,
   "id": "a0a4dd5d",
   "metadata": {},
   "outputs": [],
   "source": [
    "# Types of user defined Functions\n",
    "# 1)Function with no parameter and no return value\n",
    "# 2)Function with parameter and no return value\n",
    "# 3)Function with parameter and return value\n",
    "# 4)function with no parameter but with return value"
   ]
  },
  {
   "cell_type": "code",
   "execution_count": null,
   "id": "3c436c0f",
   "metadata": {},
   "outputs": [],
   "source": [
    "# 1)Function with no parameter and no return value\n",
    "def fun1():\n",
    "    num1=10\n",
    "    num2=20\n",
    "    sum1=num1+num2\n",
    "    print(sum1)\n",
    "    \n",
    "fun1()\n",
    "# print(num1)\n",
    "# print(sum1)"
   ]
  },
  {
   "cell_type": "code",
   "execution_count": null,
   "id": "377879a5",
   "metadata": {},
   "outputs": [],
   "source": [
    "# 2)Function with parameter and no return value\n",
    "def fun2(num1,num2,num3):\n",
    "    multiply=num1*num2\n",
    "    print(multiply) #function definition\n",
    "    \n",
    "a=10\n",
    "b=40\n",
    "fun2(10,20,30)#function calling\n",
    "# fun2(a,b)"
   ]
  },
  {
   "cell_type": "code",
   "execution_count": null,
   "id": "a5b309ce",
   "metadata": {},
   "outputs": [],
   "source": [
    "# 3)Function with parameter and return value\n",
    "def fun3(num1,num2):  #parameter\n",
    "    division=num1/num2\n",
    "    b=\"hello\"\n",
    "    return division\n",
    "\n",
    "answer=fun3(50,5) #arguments\n",
    "print(answer)\n",
    "# print(division)\n",
    "\n",
    "\n"
   ]
  },
  {
   "cell_type": "code",
   "execution_count": null,
   "id": "4e395dbe",
   "metadata": {},
   "outputs": [],
   "source": [
    "# 4)function with no parameter but with return value\n",
    "\n",
    "def fun4():\n",
    "    num1=int(input(\"Enter Number1 :\"))\n",
    "    num2=int(input(\"Enter Number2: \"))\n",
    "    sub=num1-num2\n",
    "    return \"wow\"\n",
    "\n",
    "var1=fun4()\n",
    "print(var1)"
   ]
  },
  {
   "cell_type": "code",
   "execution_count": null,
   "id": "0690abcb",
   "metadata": {},
   "outputs": [],
   "source": [
    "# 1 _ a-z A-Z\n",
    "# remaing a-z A-Z 0-9 _\n",
    "# keywords(reserved words)"
   ]
  },
  {
   "cell_type": "code",
   "execution_count": null,
   "id": "d2782c6b",
   "metadata": {},
   "outputs": [],
   "source": [
    "str1=\"10+20\"\n",
    "print(str1)\n",
    "str2=\"85*25\"\n",
    "print(eval(str2))"
   ]
  },
  {
   "cell_type": "code",
   "execution_count": null,
   "id": "643f60eb",
   "metadata": {},
   "outputs": [],
   "source": [
    "def oddeven(num):  #num=99\n",
    "    if num%2==0:\n",
    "        print(\"Number is Even\")\n",
    "    else:\n",
    "        print(\"Number is odd\")\n",
    "\n",
    "val=int(input(\"Enter Number to check Odd or Even: \")) #1val=99\n",
    "oddeven(val) #oddeven(99)"
   ]
  },
  {
   "cell_type": "code",
   "execution_count": 3,
   "id": "81e1a9ef",
   "metadata": {},
   "outputs": [
    {
     "name": "stdout",
     "output_type": "stream",
     "text": [
      "10\n",
      "50\n",
      "20\n"
     ]
    }
   ],
   "source": [
    "# global---worldwide valued\n",
    "# local---in city valued\n",
    "x=50  #---global use allover the program\n",
    "def fun1():\n",
    "    x=10  #local --only inside function\n",
    "    global y\n",
    "    y=20  #local---only inside function\n",
    "    print(x)\n",
    "    \n",
    "fun1()\n",
    "print(x)\n",
    "print(y)"
   ]
  }
 ],
 "metadata": {
  "kernelspec": {
   "display_name": "Python 3 (ipykernel)",
   "language": "python",
   "name": "python3"
  },
  "language_info": {
   "codemirror_mode": {
    "name": "ipython",
    "version": 3
   },
   "file_extension": ".py",
   "mimetype": "text/x-python",
   "name": "python",
   "nbconvert_exporter": "python",
   "pygments_lexer": "ipython3",
   "version": "3.9.12"
  }
 },
 "nbformat": 4,
 "nbformat_minor": 5
}
