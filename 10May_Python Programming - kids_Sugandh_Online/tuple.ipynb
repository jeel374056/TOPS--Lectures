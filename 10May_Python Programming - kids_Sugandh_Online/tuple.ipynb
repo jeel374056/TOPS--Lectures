{
 "cells": [
  {
   "cell_type": "code",
   "execution_count": null,
   "id": "843408b0",
   "metadata": {},
   "outputs": [],
   "source": [
    "# tuple---Tuple is also a collection ef element of different datatype as well as same datatype but the mnain difference \n",
    "# between tuple and list is that list is mutable but tuple is immutable\n",
    "\n",
    "# tuple_name=(values1,alue2,value3....)\n",
    "\n",
    "tuple1=(1,2.9,\"Tuple\",False,[1,2,3],(1,4,5),False)\n",
    "print(tuple1)\n",
    "\n",
    "# indexing---starts with 0 in tuple also\n",
    "# tuple also allows duplicates bcz. duplicates elements have different indexes\n",
    "# tuple also allows duplicates"
   ]
  },
  {
   "cell_type": "code",
   "execution_count": 1,
   "id": "48ed4427",
   "metadata": {},
   "outputs": [
    {
     "name": "stdout",
     "output_type": "stream",
     "text": [
      "[1, 2, 4, 5, 6, 9]\n",
      "[1, 'python', 4, 5, 6, 9]\n"
     ]
    }
   ],
   "source": [
    "list1=[1,2,4,5,6,9]\n",
    "print(list1)\n",
    "list1[1]=\"python\"\n",
    "print(list1)"
   ]
  },
  {
   "cell_type": "code",
   "execution_count": null,
   "id": "1220c8ee",
   "metadata": {},
   "outputs": [],
   "source": [
    "tuple1=(1,2,3,4,5,6)\n",
    "print(tuple1)\n",
    "tuple[2]=\"Hello\"\n",
    "print(tuple1)"
   ]
  },
  {
   "cell_type": "code",
   "execution_count": 6,
   "id": "711e9ba4",
   "metadata": {},
   "outputs": [
    {
     "name": "stdout",
     "output_type": "stream",
     "text": [
      "[1, 2, 3]\n",
      "(1, 2.9, 'Tuple', False, [1, 2, 3], (1, 4, 5), False)\n"
     ]
    }
   ],
   "source": [
    "tuple1=(1,2.9,\"Tuple\",False,[1,2,3],(1,4,5),False)\n",
    "print(tuple1[4])\n",
    "print(tuple1)"
   ]
  },
  {
   "cell_type": "code",
   "execution_count": 9,
   "id": "f17c9adb",
   "metadata": {},
   "outputs": [
    {
     "name": "stdout",
     "output_type": "stream",
     "text": [
      "[1, 2, 3]\n",
      "([1, 2, 3], (1, 4, 5), False)\n"
     ]
    }
   ],
   "source": [
    "tuple1=(1,2.9,\"Tuple\",False,[1,2,3],(1,4,5),False)\n",
    "print(tuple1[4])\n",
    "print(tuple1[4:7])"
   ]
  },
  {
   "cell_type": "code",
   "execution_count": 14,
   "id": "a71b3ff9",
   "metadata": {},
   "outputs": [
    {
     "name": "stdout",
     "output_type": "stream",
     "text": [
      "<class 'tuple'>\n"
     ]
    }
   ],
   "source": [
    "tup1=(\"hello\",)\n",
    "print(type(tup1))\n",
    "\n",
    "# whenever we have to define single element inside tuple the we have to put comma "
   ]
  },
  {
   "cell_type": "code",
   "execution_count": 17,
   "id": "a72f81c1",
   "metadata": {},
   "outputs": [
    {
     "name": "stdout",
     "output_type": "stream",
     "text": [
      "[1, 'python', 4, 5, 6, 9]\n",
      "(1, 'python', 4, 5, 6, 9)\n"
     ]
    }
   ],
   "source": [
    "list=[49,58,97]\n",
    "print(list1)\n",
    "list1=tuple(list1)\n",
    "print(list1)\n",
    "\n",
    "casting when we have to change any datatype to tuple"
   ]
  },
  {
   "cell_type": "code",
   "execution_count": 29,
   "id": "d8ac83d2",
   "metadata": {},
   "outputs": [
    {
     "name": "stdout",
     "output_type": "stream",
     "text": [
      "('5', '8')\n"
     ]
    }
   ],
   "source": [
    "a='58'\n",
    "c=[4,5]\n",
    "b=tuple(a)\n",
    "print(b)\n",
    "\n",
    "# list,string,set,dictionaries"
   ]
  },
  {
   "cell_type": "code",
   "execution_count": 31,
   "id": "adbfbd8c",
   "metadata": {},
   "outputs": [
    {
     "name": "stdout",
     "output_type": "stream",
     "text": [
      "Enter any value: 9\n",
      "('9',)\n",
      "<class 'tuple'>\n"
     ]
    }
   ],
   "source": [
    "a=tuple(input(\"Enter any value: \"))\n",
    "print(a)\n",
    "print(type(a))"
   ]
  },
  {
   "cell_type": "code",
   "execution_count": 42,
   "id": "2d5fe928",
   "metadata": {},
   "outputs": [
    {
     "name": "stdout",
     "output_type": "stream",
     "text": [
      "Enter value: 4\n",
      "Enter value: 6\n",
      "Enter value: 8\n",
      "['4', '6', '8']\n",
      "('4', '6', '8')\n"
     ]
    }
   ],
   "source": [
    "list1=[]\n",
    "for i in range(1,4):\n",
    "    a=input(\"Enter value: \")\n",
    "    list1.append(a)\n",
    "print(list1)\n",
    "tuple1=tuple(list1)\n",
    "print(tuple1)"
   ]
  },
  {
   "cell_type": "code",
   "execution_count": 43,
   "id": "600e7a44",
   "metadata": {},
   "outputs": [
    {
     "name": "stdout",
     "output_type": "stream",
     "text": [
      "3\n"
     ]
    }
   ],
   "source": [
    "t1=(4,5,6,8,7,4,5,2,5,6,9,8,7)\n",
    "print(t1.count(5))"
   ]
  },
  {
   "cell_type": "code",
   "execution_count": 44,
   "id": "fbbad028",
   "metadata": {},
   "outputs": [
    {
     "name": "stdout",
     "output_type": "stream",
     "text": [
      "1\n"
     ]
    }
   ],
   "source": [
    "t1=(4,5,6,8,7,4,5,2,5,6,9,8,7)\n",
    "print(t1.index(5))"
   ]
  },
  {
   "cell_type": "code",
   "execution_count": 39,
   "id": "f506c624",
   "metadata": {},
   "outputs": [
    {
     "ename": "TypeError",
     "evalue": "'list' object is not callable",
     "output_type": "error",
     "traceback": [
      "\u001b[1;31m---------------------------------------------------------------------------\u001b[0m",
      "\u001b[1;31mTypeError\u001b[0m                                 Traceback (most recent call last)",
      "Input \u001b[1;32mIn [39]\u001b[0m, in \u001b[0;36m<cell line: 2>\u001b[1;34m()\u001b[0m\n\u001b[0;32m      1\u001b[0m tup1\u001b[38;5;241m=\u001b[39m(\u001b[38;5;241m4\u001b[39m,\u001b[38;5;241m8\u001b[39m,\u001b[38;5;241m9\u001b[39m)\n\u001b[1;32m----> 2\u001b[0m \u001b[38;5;28;43mlist\u001b[39;49m\u001b[43m(\u001b[49m\u001b[43mtup1\u001b[49m\u001b[43m)\u001b[49m\n",
      "\u001b[1;31mTypeError\u001b[0m: 'list' object is not callable"
     ]
    }
   ],
   "source": [
    "tup1=(4,8,9)\n",
    "a=list(tup1)"
   ]
  }
 ],
 "metadata": {
  "kernelspec": {
   "display_name": "Python 3 (ipykernel)",
   "language": "python",
   "name": "python3"
  },
  "language_info": {
   "codemirror_mode": {
    "name": "ipython",
    "version": 3
   },
   "file_extension": ".py",
   "mimetype": "text/x-python",
   "name": "python",
   "nbconvert_exporter": "python",
   "pygments_lexer": "ipython3",
   "version": "3.9.12"
  }
 },
 "nbformat": 4,
 "nbformat_minor": 5
}
