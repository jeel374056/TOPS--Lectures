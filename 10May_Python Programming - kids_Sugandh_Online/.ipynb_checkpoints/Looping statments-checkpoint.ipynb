{
 "cells": [
  {
   "cell_type": "code",
   "execution_count": null,
   "id": "2f5d02eb",
   "metadata": {},
   "outputs": [],
   "source": [
    "# loops is used to run a block of code repetitive number of time as we mention in the condition\n",
    "\n",
    "# For Loops\n",
    "# While Loops\n",
    "\n"
   ]
  },
  {
   "cell_type": "code",
   "execution_count": null,
   "id": "d48063f1",
   "metadata": {},
   "outputs": [],
   "source": [
    "for iterating_var in Sequence:\n",
    "    body of the loop\n",
    "    \n",
    "sequence----\n",
    "string----\n",
    "list\n",
    "set\n",
    "tuple\n",
    "dictionary\n",
    "range()"
   ]
  },
  {
   "cell_type": "code",
   "execution_count": 4,
   "id": "7761c9c9",
   "metadata": {},
   "outputs": [
    {
     "name": "stdout",
     "output_type": "stream",
     "text": [
      "a\n",
      "l\n",
      "k\n",
      "a\n"
     ]
    }
   ],
   "source": [
    "for alka in \"alka\":\n",
    "    print(alka)"
   ]
  },
  {
   "cell_type": "code",
   "execution_count": 5,
   "id": "d78117db",
   "metadata": {},
   "outputs": [
    {
     "name": "stdout",
     "output_type": "stream",
     "text": [
      "Tops\n",
      "Alka\n",
      "30\n",
      "Tops\n",
      "Alka\n",
      "30\n",
      "Tops\n",
      "Alka\n",
      "30\n",
      "Tops\n",
      "Alka\n",
      "30\n"
     ]
    }
   ],
   "source": [
    "for x in (1,2,4,5):\n",
    "    print(\"Tops\")\n",
    "    print(\"Alka\")\n",
    "    a=10\n",
    "    b=20\n",
    "    print(a+b)"
   ]
  },
  {
   "cell_type": "code",
   "execution_count": null,
   "id": "9c08e6d2",
   "metadata": {},
   "outputs": [],
   "source": [
    "n=1\n",
    "while condition:\n",
    "    body"
   ]
  },
  {
   "cell_type": "code",
   "execution_count": 6,
   "id": "20069802",
   "metadata": {},
   "outputs": [
    {
     "name": "stdout",
     "output_type": "stream",
     "text": [
      "Alka\n",
      "Alka\n",
      "Alka\n",
      "Alka\n",
      "Alka\n",
      "Alka\n",
      "Alka\n",
      "Alka\n",
      "Alka\n"
     ]
    }
   ],
   "source": [
    "n=1\n",
    "while n<10:          #while 1<10:  #alka\n",
    "    print(\"Alka\")\n",
    "    n=n+1"
   ]
  },
  {
   "cell_type": "code",
   "execution_count": 7,
   "id": "b9e288df",
   "metadata": {},
   "outputs": [
    {
     "name": "stdout",
     "output_type": "stream",
     "text": [
      "J starts\n",
      "In j\n",
      "In j\n",
      "In j\n",
      "In j\n",
      "In j\n",
      "In j\n",
      "J starts\n",
      "In j\n",
      "In j\n",
      "In j\n",
      "In j\n",
      "In j\n",
      "In j\n",
      "J starts\n",
      "In j\n",
      "In j\n",
      "In j\n",
      "In j\n",
      "In j\n",
      "In j\n",
      "J starts\n",
      "In j\n",
      "In j\n",
      "In j\n",
      "In j\n",
      "In j\n",
      "In j\n",
      "J starts\n",
      "In j\n",
      "In j\n",
      "In j\n",
      "In j\n",
      "In j\n",
      "In j\n"
     ]
    }
   ],
   "source": [
    "for i in \"hello\":\n",
    "    print(\"J starts\")\n",
    "    for j in \"tarzan\":\n",
    "        print(\"In j\")"
   ]
  },
  {
   "cell_type": "code",
   "execution_count": null,
   "id": "41f94cc7",
   "metadata": {},
   "outputs": [],
   "source": [
    "break\n",
    "continue\n",
    "pass"
   ]
  },
  {
   "cell_type": "code",
   "execution_count": 10,
   "id": "fffbc0e0",
   "metadata": {},
   "outputs": [
    {
     "name": "stdout",
     "output_type": "stream",
     "text": [
      "hello\n",
      "hello\n",
      "hello\n"
     ]
    }
   ],
   "source": [
    "for i in [1,5,4,8,7,58,96,54]:\n",
    "    if i==8:\n",
    "        break\n",
    "    print(\"hello\")\n",
    "    "
   ]
  },
  {
   "cell_type": "code",
   "execution_count": 15,
   "id": "d95d87b2",
   "metadata": {},
   "outputs": [
    {
     "name": "stdout",
     "output_type": "stream",
     "text": [
      "1\n",
      "hello\n",
      "5\n",
      "hello\n",
      "4\n",
      "hello\n",
      "8\n",
      "7\n",
      "hello\n",
      "58\n",
      "hello\n",
      "96\n",
      "hello\n",
      "54\n",
      "hello\n"
     ]
    }
   ],
   "source": [
    "for i in [1,5,4,8,7,58,96,54]:\n",
    "    print(i)\n",
    "    if i==8:\n",
    "        continue\n",
    "    print(\"hello\")\n",
    "    "
   ]
  },
  {
   "cell_type": "code",
   "execution_count": 12,
   "id": "86c9e4a9",
   "metadata": {},
   "outputs": [],
   "source": [
    "for v in \"hello\":\n",
    "    break\n",
    "    print(\"alka\")"
   ]
  },
  {
   "cell_type": "code",
   "execution_count": null,
   "id": "c2ff74f7",
   "metadata": {},
   "outputs": [],
   "source": [
    "if condition:\n",
    "    body"
   ]
  },
  {
   "cell_type": "code",
   "execution_count": 19,
   "id": "5acd2a24",
   "metadata": {},
   "outputs": [
    {
     "name": "stdout",
     "output_type": "stream",
     "text": [
      "hello\n"
     ]
    }
   ],
   "source": [
    "a=11\n",
    "if a<10:\n",
    "    pass\n",
    "else:\n",
    "    print(\"hello\")"
   ]
  },
  {
   "cell_type": "code",
   "execution_count": 21,
   "id": "490216fc",
   "metadata": {},
   "outputs": [],
   "source": [
    "for i in \"alka\":\n",
    "    pass"
   ]
  },
  {
   "cell_type": "code",
   "execution_count": 28,
   "id": "fa19f308",
   "metadata": {},
   "outputs": [
    {
     "name": "stdout",
     "output_type": "stream",
     "text": [
      "hello-----world\n"
     ]
    }
   ],
   "source": [
    "print(\"hello\",end=\"-----`\")\n",
    "print(\"world\")\n",
    "# \"\\n\"-----is used to goto a new line or break line"
   ]
  },
  {
   "cell_type": "code",
   "execution_count": 31,
   "id": "f8afbba7",
   "metadata": {},
   "outputs": [
    {
     "name": "stdout",
     "output_type": "stream",
     "text": [
      "Enter number to check Even or odd : 68\n",
      "Even\n"
     ]
    }
   ],
   "source": [
    "#program to show number is odd or even\n",
    "a=int(input(\"Enter number to check Even or odd : \"))\n",
    "if a%2==0:\n",
    "    print(\"Even\")\n",
    "elif a%2==1:\n",
    "    print(\"odd\")\n"
   ]
  },
  {
   "cell_type": "code",
   "execution_count": null,
   "id": "ac20786c",
   "metadata": {},
   "outputs": [],
   "source": [
    "#string-----collection of characters as well as words\n",
    "#string---' Single quotes'  \"double quotes\" --------single line\n",
    "#             \"\"\"triple double quotes\"\"\"   '''triple single quotes'''-------multiple line\n",
    "\n",
    "\n"
   ]
  }
 ],
 "metadata": {
  "kernelspec": {
   "display_name": "Python 3 (ipykernel)",
   "language": "python",
   "name": "python3"
  },
  "language_info": {
   "codemirror_mode": {
    "name": "ipython",
    "version": 3
   },
   "file_extension": ".py",
   "mimetype": "text/x-python",
   "name": "python",
   "nbconvert_exporter": "python",
   "pygments_lexer": "ipython3",
   "version": "3.9.12"
  }
 },
 "nbformat": 4,
 "nbformat_minor": 5
}
