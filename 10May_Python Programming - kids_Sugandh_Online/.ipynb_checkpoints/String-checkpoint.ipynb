{
 "cells": [
  {
   "cell_type": "code",
   "execution_count": 2,
   "id": "cfb197f9",
   "metadata": {},
   "outputs": [],
   "source": [
    "# string is immutable -----changes not allowed\n",
    "# str1=\"Alka\"\n",
    "# str1=\"Python\"\n",
    "# string is ordered---means index value\n"
   ]
  },
  {
   "cell_type": "code",
   "execution_count": 8,
   "id": "695f847c",
   "metadata": {},
   "outputs": [
    {
     "name": "stdout",
     "output_type": "stream",
     "text": [
      "hello\"how are you john's uncle\"\n"
     ]
    }
   ],
   "source": [
    "# hello\"how are you john's uncle\"\n",
    "str1='''hello\"how are you john's uncle\"'''\n",
    "print(str1)"
   ]
  },
  {
   "cell_type": "code",
   "execution_count": 9,
   "id": "3d3b756a",
   "metadata": {},
   "outputs": [
    {
     "name": "stdout",
     "output_type": "stream",
     "text": [
      "hello\n",
      "welcome\n",
      "to\n",
      "python\n",
      "world\n"
     ]
    }
   ],
   "source": [
    "str1=\"hello\"\n",
    "str2='''hello\n",
    "welcome\n",
    "to\n",
    "python\n",
    "world'''\n",
    "print(str2)"
   ]
  },
  {
   "cell_type": "code",
   "execution_count": 11,
   "id": "9d86c7d5",
   "metadata": {},
   "outputs": [
    {
     "name": "stdout",
     "output_type": "stream",
     "text": [
      "\"hello how\" are you\n"
     ]
    }
   ],
   "source": [
    "# \"hello how\" are you\n",
    "str1=\"\\\"hello how\\\" are you\"\n",
    "print(str1)"
   ]
  },
  {
   "cell_type": "code",
   "execution_count": 17,
   "id": "f75fc8d9",
   "metadata": {},
   "outputs": [
    {
     "name": "stdout",
     "output_type": "stream",
     "text": [
      "g\n",
      "good\n",
      "go on\n"
     ]
    }
   ],
   "source": [
    "# string slicing:----getting a part of string\n",
    "# string_name[index]\n",
    "str1=\"Hello good morning Alka\"\n",
    "print(str1[6])#---for single character\n",
    "print(str1[6:10])\n",
    "print(str1[6:15:2])"
   ]
  },
  {
   "cell_type": "code",
   "execution_count": null,
   "id": "5c5a9ab1",
   "metadata": {},
   "outputs": [],
   "source": [
    "capital letters-----uppercase letters\n",
    "small letter---lowercase letters"
   ]
  },
  {
   "cell_type": "code",
   "execution_count": 18,
   "id": "10a26a01",
   "metadata": {},
   "outputs": [
    {
     "name": "stdout",
     "output_type": "stream",
     "text": [
      "Python is a very good language\n"
     ]
    }
   ],
   "source": [
    "str1=\"python is a very good language\"\n",
    "print(str1.capitalize())#-----capitalize the first letter of the string"
   ]
  },
  {
   "cell_type": "code",
   "execution_count": 20,
   "id": "6dcd4ede",
   "metadata": {},
   "outputs": [
    {
     "name": "stdout",
     "output_type": "stream",
     "text": [
      "python is a very good language jfjkejgnerk jhkvberjkv ejkhvberjkghk jkhebvjkg\n"
     ]
    }
   ],
   "source": [
    "str1=\"pytHon iS a VerY good langUaGe JFJKEJGNERK JHKVBERJKV EJKHVBERJKGHK JKHEBVJKG\"\n",
    "print(str1.casefold())#-----converts every capital letter to lowercase"
   ]
  },
  {
   "cell_type": "code",
   "execution_count": 31,
   "id": "8833e504",
   "metadata": {},
   "outputs": [
    {
     "name": "stdout",
     "output_type": "stream",
     "text": [
      "0\n",
      "1\n",
      "0\n"
     ]
    }
   ],
   "source": [
    "# string_name.count(substring,[start],[end])\n",
    "str1=\"python is a very good language\"\n",
    "print(str1.count('a',11,14))\n",
    "print(str1.count('very'))#---counts the occurence of letter or substring(part of string) in string\n",
    "print(str1.count('z'))"
   ]
  },
  {
   "cell_type": "code",
   "execution_count": 35,
   "id": "10cd4bf8",
   "metadata": {},
   "outputs": [
    {
     "name": "stdout",
     "output_type": "stream",
     "text": [
      "10\n",
      "17\n"
     ]
    },
    {
     "ename": "ValueError",
     "evalue": "substring not found",
     "output_type": "error",
     "traceback": [
      "\u001b[1;31m---------------------------------------------------------------------------\u001b[0m",
      "\u001b[1;31mValueError\u001b[0m                                Traceback (most recent call last)",
      "Input \u001b[1;32mIn [35]\u001b[0m, in \u001b[0;36m<cell line: 5>\u001b[1;34m()\u001b[0m\n\u001b[0;32m      3\u001b[0m \u001b[38;5;28mprint\u001b[39m(str1\u001b[38;5;241m.\u001b[39mindex(\u001b[38;5;124m'\u001b[39m\u001b[38;5;124ma\u001b[39m\u001b[38;5;124m'\u001b[39m))\n\u001b[0;32m      4\u001b[0m \u001b[38;5;28mprint\u001b[39m(str1\u001b[38;5;241m.\u001b[39mindex(\u001b[38;5;124m'\u001b[39m\u001b[38;5;124mgood\u001b[39m\u001b[38;5;124m'\u001b[39m))\n\u001b[1;32m----> 5\u001b[0m \u001b[38;5;28mprint\u001b[39m(\u001b[43mstr1\u001b[49m\u001b[38;5;241;43m.\u001b[39;49m\u001b[43mindex\u001b[49m\u001b[43m(\u001b[49m\u001b[38;5;124;43m'\u001b[39;49m\u001b[38;5;124;43mk\u001b[39;49m\u001b[38;5;124;43m'\u001b[39;49m\u001b[43m)\u001b[49m)\n",
      "\u001b[1;31mValueError\u001b[0m: substring not found"
     ]
    }
   ],
   "source": [
    "# index(substring,[start],[stop])--returns the index number of the substring or character\n",
    "str1=\"python is a very good language\"\n",
    "print(str1.index('a'))\n",
    "print(str1.index('good'))\n",
    "print(str1.index('k'))\n",
    "# when value not in string then index method gives error"
   ]
  },
  {
   "cell_type": "code",
   "execution_count": 37,
   "id": "1d9dabf7",
   "metadata": {},
   "outputs": [
    {
     "name": "stdout",
     "output_type": "stream",
     "text": [
      "10\n",
      "17\n",
      "-1\n"
     ]
    }
   ],
   "source": [
    "#find(substring,[start],[stop])--gives index of the substring\n",
    "str1=\"python is a very good language\"\n",
    "print(str1.find('a'))\n",
    "print(str1.find('good'))\n",
    "print(str1.find('k'))\n",
    "# when value not in string then it gives -1"
   ]
  },
  {
   "cell_type": "code",
   "execution_count": 43,
   "id": "f9767e60",
   "metadata": {},
   "outputs": [
    {
     "name": "stdout",
     "output_type": "stream",
     "text": [
      "True\n",
      "True\n"
     ]
    }
   ],
   "source": [
    "# endswith()----checks wheteher the substring ends with the specified characater or not\n",
    "str1=\"python is a very good language\"\n",
    "print(str1.endswith('e'))\n",
    "print(str1.endswith('r',10,15))"
   ]
  },
  {
   "cell_type": "code",
   "execution_count": 51,
   "id": "0ad9673b",
   "metadata": {},
   "outputs": [
    {
     "name": "stdout",
     "output_type": "stream",
     "text": [
      "                       wool                       \n",
      "#######################wool#######################\n"
     ]
    }
   ],
   "source": [
    "# center(width,[char_filled])--center the string with the given width \n",
    "str1=\"wool\"\n",
    "print(str1.center(50))\n",
    "print(str1.center(50,\"#\"))"
   ]
  },
  {
   "cell_type": "code",
   "execution_count": 54,
   "id": "224d85be",
   "metadata": {},
   "outputs": [
    {
     "name": "stdout",
     "output_type": "stream",
     "text": [
      "('python is a ', 'very', ' good language')\n"
     ]
    }
   ],
   "source": [
    "#partition()--it partitioned the string in 3 parts--first left of the occurence---passed substring----right of the occurence\n",
    "str1=\"python is a very good language\"\n",
    "print(str1.partition('very'))"
   ]
  },
  {
   "cell_type": "code",
   "execution_count": 55,
   "id": "6ac6e55b",
   "metadata": {},
   "outputs": [
    {
     "name": "stdout",
     "output_type": "stream",
     "text": [
      "Python Is A Very Good Language\n"
     ]
    }
   ],
   "source": [
    "# title()---capitalize or change every first letter of word in uppercase\n",
    "str1=\"python is a very good language\"\n",
    "print(str1.title())"
   ]
  },
  {
   "cell_type": "code",
   "execution_count": 58,
   "id": "30877c61",
   "metadata": {},
   "outputs": [
    {
     "name": "stdout",
     "output_type": "stream",
     "text": [
      "djh jkwehd jhdkj3983769 ^&%^&%*&& \"jhdjkjksjfls jksfhksdf\n",
      "djh jkwehd jhdkj3983769 ^&%^&%*&& \"jhdjkjksjfls jksfhksdf\n"
     ]
    }
   ],
   "source": [
    "str1=\"DJH jkwehd JHDKJ3983769 ^&%^&%*&& \\\"jHDjkjksjfls jksfhksdf\"\n",
    "print(str1.casefold())#---more powerful than lower\n",
    "print(str1.lower())"
   ]
  },
  {
   "cell_type": "code",
   "execution_count": 60,
   "id": "26fe4a7e",
   "metadata": {},
   "outputs": [
    {
     "name": "stdout",
     "output_type": "stream",
     "text": [
      "['python', 'is', 'a', 'very', 'good', 'language']\n",
      "['python is ', ' very good l', 'ngu', 'ge']\n"
     ]
    }
   ],
   "source": [
    "str1=\"python is a very good language\"\n",
    "print(str1.split())#----by default split with the space\n",
    "print(str1.split('a'))"
   ]
  }
 ],
 "metadata": {
  "kernelspec": {
   "display_name": "Python 3 (ipykernel)",
   "language": "python",
   "name": "python3"
  },
  "language_info": {
   "codemirror_mode": {
    "name": "ipython",
    "version": 3
   },
   "file_extension": ".py",
   "mimetype": "text/x-python",
   "name": "python",
   "nbconvert_exporter": "python",
   "pygments_lexer": "ipython3",
   "version": "3.9.12"
  }
 },
 "nbformat": 4,
 "nbformat_minor": 5
}
