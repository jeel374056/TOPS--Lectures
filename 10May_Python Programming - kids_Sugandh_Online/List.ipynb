{
 "cells": [
  {
   "cell_type": "code",
   "execution_count": null,
   "id": "84a52a12",
   "metadata": {},
   "outputs": [],
   "source": [
    "list----collection of elements of similar or different datatypes\n",
    "list is defined in square braces []\n",
    "list_name = [Value1,Valu2,Value3....]\n",
    "values----int,float,string,boolean,list,tuples,set,dictionary\n",
    "list---mutable--changes allowed\n",
    "list---allowed duplicates---indexes\n",
    "list have indexe--starts with 0"
   ]
  },
  {
   "cell_type": "code",
   "execution_count": 3,
   "id": "7951b9f3",
   "metadata": {},
   "outputs": [
    {
     "name": "stdout",
     "output_type": "stream",
     "text": [
      "[1, 5.2, False, 'Python', [1, 2, 3], (4, 5, 9), {1, 3}, {4: 'hello'}]\n",
      "<class 'int'>\n",
      "<class 'float'>\n",
      "<class 'bool'>\n",
      "<class 'str'>\n",
      "<class 'list'>\n",
      "<class 'tuple'>\n",
      "<class 'set'>\n",
      "<class 'dict'>\n"
     ]
    }
   ],
   "source": [
    "list1=[1,5.2,False,\"Python\",[1,2,3],(4,5,9),{1,3},{4:\"hello\"}]\n",
    "print(list1)\n",
    "for i in list1:\n",
    "    print(type(i))"
   ]
  },
  {
   "cell_type": "code",
   "execution_count": 7,
   "id": "77f95edb",
   "metadata": {},
   "outputs": [
    {
     "name": "stdout",
     "output_type": "stream",
     "text": [
      "Python\n",
      "[False, [1, 2, 3], {1, 3}]\n"
     ]
    }
   ],
   "source": [
    "print(list1[3])\n",
    "print(list1[2:7:2])\n",
    "positive indexing starts from 0 as well as from beginning\n",
    "negative indexing starts from -1 as well as from ending"
   ]
  },
  {
   "cell_type": "code",
   "execution_count": 14,
   "id": "7f7b6e6c",
   "metadata": {},
   "outputs": [
    {
     "name": "stdout",
     "output_type": "stream",
     "text": [
      "[1, 5.2, False, 'Python', [1, 2, 3], (4, 5, 9), {1, 3}, {4: 'hello'}]\n",
      "[{1, 3}, (4, 5, 9), [1, 2, 3], 'Python', False]\n",
      "[{1, 3}, (4, 5, 9), [1, 2, 3], 'Python']\n",
      "[False, 'Python', [1, 2, 3], (4, 5, 9)]\n"
     ]
    }
   ],
   "source": [
    "print(list1)\n",
    "print(list1[-2:-7:-1])\n",
    "print(list1[-2:-6:-1])\n",
    "print(list1[-6:-2])"
   ]
  },
  {
   "cell_type": "code",
   "execution_count": null,
   "id": "bd9eca1b",
   "metadata": {},
   "outputs": [],
   "source": [
    "list functions\n",
    "min(list)\n",
    "max(list)\n",
    "len(list)\n",
    "list(list)"
   ]
  },
  {
   "cell_type": "code",
   "execution_count": 20,
   "id": "00c3baaa",
   "metadata": {},
   "outputs": [
    {
     "name": "stdout",
     "output_type": "stream",
     "text": [
      "True\n",
      "0\n"
     ]
    }
   ],
   "source": [
    "list1=[1,2,3,4,5,6,8,9,7,8,9,8,0]\n",
    "print([2,3] not in list1)\n",
    "print(min(list1))--gives smallest element from list"
   ]
  },
  {
   "cell_type": "code",
   "execution_count": 23,
   "id": "52feaed6",
   "metadata": {},
   "outputs": [
    {
     "name": "stdout",
     "output_type": "stream",
     "text": [
      "tops\n"
     ]
    }
   ],
   "source": [
    "list1=[\"Python\",\"alka\",\"tops\",\"Pilot\"]#---P--80***a---97****t---116\n",
    "print(max(list1))"
   ]
  },
  {
   "cell_type": "code",
   "execution_count": 24,
   "id": "744c8b8a",
   "metadata": {},
   "outputs": [
    {
     "ename": "TypeError",
     "evalue": "'<' not supported between instances of 'str' and 'int'",
     "output_type": "error",
     "traceback": [
      "\u001b[1;31m---------------------------------------------------------------------------\u001b[0m",
      "\u001b[1;31mTypeError\u001b[0m                                 Traceback (most recent call last)",
      "Input \u001b[1;32mIn [24]\u001b[0m, in \u001b[0;36m<cell line: 2>\u001b[1;34m()\u001b[0m\n\u001b[0;32m      1\u001b[0m list1\u001b[38;5;241m=\u001b[39m[\u001b[38;5;241m24\u001b[39m,\u001b[38;5;241m14\u001b[39m,\u001b[38;5;124m\"\u001b[39m\u001b[38;5;124mtops\u001b[39m\u001b[38;5;124m\"\u001b[39m]\n\u001b[1;32m----> 2\u001b[0m \u001b[38;5;28mprint\u001b[39m(\u001b[38;5;28;43mmin\u001b[39;49m\u001b[43m(\u001b[49m\u001b[43mlist1\u001b[49m\u001b[43m)\u001b[49m)\n",
      "\u001b[1;31mTypeError\u001b[0m: '<' not supported between instances of 'str' and 'int'"
     ]
    }
   ],
   "source": [
    "list1=[24,14,\"tops\"]list1=[24,14,\"tops\"]\n",
    "print(min(list1))"
   ]
  },
  {
   "cell_type": "code",
   "execution_count": 27,
   "id": "bc2bcb2d",
   "metadata": {},
   "outputs": [
    {
     "name": "stdout",
     "output_type": "stream",
     "text": [
      "3\n"
     ]
    }
   ],
   "source": [
    "list1=[24,14,\"tops\"]\n",
    "print(len(list1))#--length of the list"
   ]
  },
  {
   "cell_type": "code",
   "execution_count": 29,
   "id": "2191f0b5",
   "metadata": {},
   "outputs": [
    {
     "name": "stdout",
     "output_type": "stream",
     "text": [
      "['h', 'e', 'l', 'l', 'o']\n"
     ]
    }
   ],
   "source": [
    "# list(element)\n",
    "str1=\"hello\"\n",
    "list1=list(str1)\n",
    "print(list1)"
   ]
  },
  {
   "cell_type": "code",
   "execution_count": null,
   "id": "2ebea351",
   "metadata": {},
   "outputs": [],
   "source": [
    "methods --\n",
    "listname.methodname"
   ]
  },
  {
   "cell_type": "code",
   "execution_count": 41,
   "id": "d39255e0",
   "metadata": {},
   "outputs": [
    {
     "name": "stdout",
     "output_type": "stream",
     "text": [
      "[4, 5, 12, 18, 45, 48, 78, 98, 9]\n",
      "[4, 5, 12, 18, 45, 48, 78, 98, 9, [1, 2, 3, 4], 'hello', 49]\n"
     ]
    }
   ],
   "source": [
    "#append(element)---add value at end of list\n",
    "list3=[4,5,12,18,45,48,78,98,9]\n",
    "print(list3)\n",
    "list3.append([1,2,3,4])\n",
    "list3.append(\"hello\")\n",
    "list3.append(49)\n",
    "print(list3)"
   ]
  },
  {
   "cell_type": "code",
   "execution_count": 40,
   "id": "2510a8ea",
   "metadata": {},
   "outputs": [
    {
     "name": "stdout",
     "output_type": "stream",
     "text": [
      "[4, 5, 12, 18, 45, 48, 78, 98, 9]\n",
      "[4, 5, 12, 18, 45, 48, 78, 98, 9, 1, 2, 3, 4, 'h', 'e', 'l', 'l', 'o']\n"
     ]
    }
   ],
   "source": [
    "# extend(element)----add value at last but elemsnt should be always of iterable type\n",
    "list3=[4,5,12,18,45,48,78,98,9]\n",
    "print(list3)\n",
    "list3.extend([1,2,3,4])\n",
    "list3.extend(\"hello\")\n",
    "print(list3)"
   ]
  },
  {
   "cell_type": "code",
   "execution_count": 43,
   "id": "3ad8157a",
   "metadata": {},
   "outputs": [
    {
     "name": "stdout",
     "output_type": "stream",
     "text": [
      "[4, 5, 12, 987, 18, 'Wow', 45, 48, 78, 98, 9]\n"
     ]
    }
   ],
   "source": [
    "#insert(index,value)---add value at mentioned index\n",
    "list3=[4,5,12,18,45,48,78,98,9]\n",
    "list3.insert(3,987)\n",
    "list3.insert(5,\"Wow\")\n",
    "print(list3)"
   ]
  },
  {
   "cell_type": "code",
   "execution_count": 47,
   "id": "cd441445",
   "metadata": {},
   "outputs": [
    {
     "ename": "IndexError",
     "evalue": "pop index out of range",
     "output_type": "error",
     "traceback": [
      "\u001b[1;31m---------------------------------------------------------------------------\u001b[0m",
      "\u001b[1;31mIndexError\u001b[0m                                Traceback (most recent call last)",
      "Input \u001b[1;32mIn [47]\u001b[0m, in \u001b[0;36m<cell line: 4>\u001b[1;34m()\u001b[0m\n\u001b[0;32m      1\u001b[0m \u001b[38;5;66;03m# pop([index])--removes element from last by default if we not mentioned any index\u001b[39;00m\n\u001b[0;32m      2\u001b[0m \u001b[38;5;66;03m# but if we mention any index then it remove element from that index\u001b[39;00m\n\u001b[0;32m      3\u001b[0m list3\u001b[38;5;241m=\u001b[39m[\u001b[38;5;241m4\u001b[39m,\u001b[38;5;241m5\u001b[39m,\u001b[38;5;241m12\u001b[39m,\u001b[38;5;241m18\u001b[39m,\u001b[38;5;241m45\u001b[39m,\u001b[38;5;241m48\u001b[39m,\u001b[38;5;241m78\u001b[39m,\u001b[38;5;241m98\u001b[39m,\u001b[38;5;241m9\u001b[39m]\n\u001b[1;32m----> 4\u001b[0m \u001b[43mlist3\u001b[49m\u001b[38;5;241;43m.\u001b[39;49m\u001b[43mpop\u001b[49m\u001b[43m(\u001b[49m\u001b[38;5;241;43m28\u001b[39;49m\u001b[43m)\u001b[49m\n\u001b[0;32m      5\u001b[0m \u001b[38;5;28mprint\u001b[39m(list3)\n",
      "\u001b[1;31mIndexError\u001b[0m: pop index out of range"
     ]
    }
   ],
   "source": [
    "# pop([index])--removes element from last by default if we not mentioned any index\n",
    "# but if we mention any index then it remove element from that index if we mention \n",
    "# index which is not in list then it gives error\n",
    "list3=[4,5,12,18,45,48,78,98,9]\n",
    "list3.pop(28)\n",
    "print(list3)"
   ]
  },
  {
   "cell_type": "code",
   "execution_count": 53,
   "id": "88953a5a",
   "metadata": {},
   "outputs": [
    {
     "name": "stdout",
     "output_type": "stream",
     "text": [
      "[5, 12, 18, 45, 48, 78, 12, 98, 9]\n"
     ]
    }
   ],
   "source": [
    "#remove(value)---removes mentioned element from the list and if we mentioned elements which is not \n",
    "# in list then it gives error\n",
    "list3=[4,5,12,18,45,48,78,12,98,9]\n",
    "list3.remove(4)\n",
    "print(list3)"
   ]
  }
 ],
 "metadata": {
  "kernelspec": {
   "display_name": "Python 3 (ipykernel)",
   "language": "python",
   "name": "python3"
  },
  "language_info": {
   "codemirror_mode": {
    "name": "ipython",
    "version": 3
   },
   "file_extension": ".py",
   "mimetype": "text/x-python",
   "name": "python",
   "nbconvert_exporter": "python",
   "pygments_lexer": "ipython3",
   "version": "3.9.12"
  }
 },
 "nbformat": 4,
 "nbformat_minor": 5
}
