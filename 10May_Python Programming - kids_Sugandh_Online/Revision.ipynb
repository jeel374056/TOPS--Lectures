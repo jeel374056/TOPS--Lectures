{
 "cells": [
  {
   "cell_type": "code",
   "execution_count": null,
   "id": "1e35e716",
   "metadata": {},
   "outputs": [],
   "source": [
    "conditional statement"
   ]
  },
  {
   "cell_type": "code",
   "execution_count": null,
   "id": "c508e4f4",
   "metadata": {},
   "outputs": [],
   "source": [
    "if condition:\n",
    "    expresion\n",
    "    body\n",
    "elif condition:\n",
    "    body\n",
    "else:\n",
    "    body\n",
    "    "
   ]
  },
  {
   "cell_type": "code",
   "execution_count": null,
   "id": "7f72c506",
   "metadata": {},
   "outputs": [],
   "source": [
    "if condition:\n",
    "    body:\n",
    "    if condition:\n",
    "        body\n",
    "    else:\n",
    "        body\n",
    "    "
   ]
  },
  {
   "cell_type": "code",
   "execution_count": 7,
   "id": "db7c4d75",
   "metadata": {},
   "outputs": [
    {
     "name": "stdout",
     "output_type": "stream",
     "text": [
      "<class 'float'>\n",
      "45\n"
     ]
    }
   ],
   "source": [
    "# int--integer\n",
    "# str--string\n",
    "# boolean---True or False\n",
    "\n",
    "# input()#get value from the user\n",
    "# type()------\n",
    "# b=input(\"Enter Number 1 : \")\n",
    "a=45.9#---float\n",
    "print(type(a))\n",
    "print(b)"
   ]
  },
  {
   "cell_type": "code",
   "execution_count": 12,
   "id": "fca9a47f",
   "metadata": {},
   "outputs": [
    {
     "name": "stdout",
     "output_type": "stream",
     "text": [
      "Enter a number45\n",
      "45\n",
      "<class 'int'>\n"
     ]
    }
   ],
   "source": [
    "a=int(input(\"Enter a number\"))\n",
    "print(a)\n",
    "print(type(a))"
   ]
  },
  {
   "cell_type": "code",
   "execution_count": 10,
   "id": "fd3a51e6",
   "metadata": {},
   "outputs": [
    {
     "name": "stdout",
     "output_type": "stream",
     "text": [
      "<class 'str'>\n",
      "<class 'int'>\n"
     ]
    }
   ],
   "source": [
    "# casting----changing one datatype to another\n",
    "a='10'\n",
    "# int--str---float\n",
    "# datatype(value_to_be_changed)\n",
    "b=int(a)\n",
    "print(type(a))\n",
    "print(type(b))"
   ]
  },
  {
   "cell_type": "code",
   "execution_count": 15,
   "id": "7ce4cc54",
   "metadata": {},
   "outputs": [
    {
     "name": "stdout",
     "output_type": "stream",
     "text": [
      "Enter a number: 0\n",
      "Number is zero\n"
     ]
    }
   ],
   "source": [
    "#program to check whther the number is positive negative or zero\n",
    "a=int(input(\"Enter a number: \"))\n",
    "if a>0:\n",
    "    print(\"Number is positive\")\n",
    "elif a==0:\n",
    "    print(\"Number is zero\")\n",
    "else:\n",
    "    print(\"Number is negative\")"
   ]
  },
  {
   "cell_type": "code",
   "execution_count": 16,
   "id": "eed6a1c3",
   "metadata": {},
   "outputs": [
    {
     "name": "stdout",
     "output_type": "stream",
     "text": [
      "Enter a number: 45\n",
      "Number is positive\n"
     ]
    }
   ],
   "source": [
    "a=int(input(\"Enter a number: \"))\n",
    "if a>=0:\n",
    "    if a==0:\n",
    "        print(\"Number is zero\")\n",
    "    elif a>0:\n",
    "        print(\"Number is positive\")\n",
    "elif a<0:\n",
    "    print(\"Number is negative\")\n",
    "#nested\n",
    "#ladder if else"
   ]
  },
  {
   "cell_type": "code",
   "execution_count": null,
   "id": "096391ea",
   "metadata": {},
   "outputs": [],
   "source": [
    "print(\"Hello\")\n",
    "print(\"Hello\")"
   ]
  },
  {
   "cell_type": "code",
   "execution_count": null,
   "id": "fd238037",
   "metadata": {},
   "outputs": [],
   "source": [
    "# loops is used to perform any repetitive task multiple number of times\n",
    "# two types of loops in python\n",
    "# 1)for loop\n",
    "# 2)while loop"
   ]
  },
  {
   "cell_type": "code",
   "execution_count": null,
   "id": "cc520a9b",
   "metadata": {},
   "outputs": [],
   "source": [
    "for iterating_var in sequence_collections:\n",
    "    body"
   ]
  },
  {
   "cell_type": "code",
   "execution_count": null,
   "id": "fca9f6ef",
   "metadata": {},
   "outputs": [],
   "source": [
    "\"hello\"----collection of characters\n",
    "[1,2,3,4,5,6]-----collections of integer\n",
    "(1,4,\"datatypes\")---collections tuple\n",
    "set{45,28}\n",
    "dictionary\n",
    "range(start,stop,step)\n",
    "range(1,10,+2)-----\n",
    "we we not mention or give starting point then 0\n",
    "we not mention step then then 1 step\n",
    "range(-1,-15,-1)\n",
    "-9 -8 -7 -6 -5 -4 -3 -2 -1 0 1 2 3 4 5 6 4 8\n",
    "+---left to right\n",
    "-____right to left"
   ]
  },
  {
   "cell_type": "code",
   "execution_count": null,
   "id": "44959771",
   "metadata": {},
   "outputs": [],
   "source": [
    "Sequence\n",
    "input\n",
    "type(9)\n",
    "casting\n",
    "conditional opeartor"
   ]
  },
  {
   "cell_type": "code",
   "execution_count": 19,
   "id": "ed632206",
   "metadata": {},
   "outputs": [
    {
     "data": {
      "text/plain": [
       "str"
      ]
     },
     "execution_count": 19,
     "metadata": {},
     "output_type": "execute_result"
    }
   ],
   "source": [
    "type(\"alka\")"
   ]
  }
 ],
 "metadata": {
  "kernelspec": {
   "display_name": "Python 3 (ipykernel)",
   "language": "python",
   "name": "python3"
  },
  "language_info": {
   "codemirror_mode": {
    "name": "ipython",
    "version": 3
   },
   "file_extension": ".py",
   "mimetype": "text/x-python",
   "name": "python",
   "nbconvert_exporter": "python",
   "pygments_lexer": "ipython3",
   "version": "3.9.12"
  }
 },
 "nbformat": 4,
 "nbformat_minor": 5
}
