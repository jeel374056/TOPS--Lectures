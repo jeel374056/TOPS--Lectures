{
 "cells": [
  {
   "cell_type": "code",
   "execution_count": 4,
   "id": "e447ec0c",
   "metadata": {},
   "outputs": [
    {
     "name": "stdout",
     "output_type": "stream",
     "text": [
      "Hello world i am learning python\n"
     ]
    }
   ],
   "source": [
    "# capitalize---it changes the first letter of the string into uppercase\n",
    "# Uppercase loewrcase letters\n",
    "str1=\"hello world i am learning python\"\n",
    "print(str1.capitalize())"
   ]
  },
  {
   "cell_type": "code",
   "execution_count": 5,
   "id": "c5a29a92",
   "metadata": {},
   "outputs": [
    {
     "name": "stdout",
     "output_type": "stream",
     "text": [
      "Hello World I Am Learning Python\n"
     ]
    }
   ],
   "source": [
    "str1=\"hello world i am learning python\"\n",
    "print(str1.title())\n",
    "# tile--uppercase the first letter of every word in a string"
   ]
  },
  {
   "cell_type": "code",
   "execution_count": 7,
   "id": "390dc1da",
   "metadata": {},
   "outputs": [
    {
     "name": "stdout",
     "output_type": "stream",
     "text": [
      "hello world i am learning python\n"
     ]
    }
   ],
   "source": [
    "str1=\"heLLO World i am learning Python\"\n",
    "print(str1.casefold())\n",
    "#casefold-changes the every letter of the string into lower case"
   ]
  },
  {
   "cell_type": "code",
   "execution_count": 12,
   "id": "777af468",
   "metadata": {},
   "outputs": [
    {
     "name": "stdout",
     "output_type": "stream",
     "text": [
      "++++++++++++++++++++++heLLO+++++++++++++++++++++++\n",
      "heLLO\n"
     ]
    }
   ],
   "source": [
    "# center(width,[character])\n",
    "str1=\"heLLO\"\n",
    "print(str1.center(50,\"+\"))\n",
    "print(str1)"
   ]
  },
  {
   "cell_type": "code",
   "execution_count": 16,
   "id": "d59eae9e",
   "metadata": {},
   "outputs": [
    {
     "name": "stdout",
     "output_type": "stream",
     "text": [
      "0\n"
     ]
    }
   ],
   "source": [
    "# count(substring,[start],[end])\n",
    "str1=\"heLLO World i am learning Python\"\n",
    "print(str1.count(\"World\",10,20))"
   ]
  },
  {
   "cell_type": "code",
   "execution_count": 19,
   "id": "a9ff9e51",
   "metadata": {},
   "outputs": [
    {
     "name": "stdout",
     "output_type": "stream",
     "text": [
      "True\n"
     ]
    }
   ],
   "source": [
    "str1=\"heLLO World i am learning Python\"\n",
    "print(str1.endswith(\"Python\"))\n",
    "#endswith--checks the end of the string particular end or not"
   ]
  },
  {
   "cell_type": "code",
   "execution_count": 25,
   "id": "85c40fde",
   "metadata": {},
   "outputs": [
    {
     "name": "stdout",
     "output_type": "stream",
     "text": [
      "-1\n"
     ]
    }
   ],
   "source": [
    "str1=\"heLLO World i am learning Python\"\n",
    "print(str1.find(\"z\"))\n",
    "# find---finds the character specified in the string and gives the index number of the specified string"
   ]
  },
  {
   "cell_type": "code",
   "execution_count": 26,
   "id": "d3dc68ab",
   "metadata": {},
   "outputs": [
    {
     "ename": "ValueError",
     "evalue": "substring not found",
     "output_type": "error",
     "traceback": [
      "\u001b[1;31m---------------------------------------------------------------------------\u001b[0m",
      "\u001b[1;31mValueError\u001b[0m                                Traceback (most recent call last)",
      "Input \u001b[1;32mIn [26]\u001b[0m, in \u001b[0;36m<cell line: 2>\u001b[1;34m()\u001b[0m\n\u001b[0;32m      1\u001b[0m str1\u001b[38;5;241m=\u001b[39m\u001b[38;5;124m\"\u001b[39m\u001b[38;5;124mheLLO World i am learning Python\u001b[39m\u001b[38;5;124m\"\u001b[39m\n\u001b[1;32m----> 2\u001b[0m \u001b[38;5;28mprint\u001b[39m(\u001b[43mstr1\u001b[49m\u001b[38;5;241;43m.\u001b[39;49m\u001b[43mindex\u001b[49m\u001b[43m(\u001b[49m\u001b[38;5;124;43m\"\u001b[39;49m\u001b[38;5;124;43mz\u001b[39;49m\u001b[38;5;124;43m\"\u001b[39;49m\u001b[43m)\u001b[49m)\n",
      "\u001b[1;31mValueError\u001b[0m: substring not found"
     ]
    }
   ],
   "source": [
    "str1=\"heLLO World i am learning Python\"\n",
    "print(str1.index(\"z\"))\n",
    "# index-finds the character specified in the string and gives the index number of the specified string"
   ]
  },
  {
   "cell_type": "code",
   "execution_count": 31,
   "id": "6ed321de",
   "metadata": {},
   "outputs": [
    {
     "name": "stdout",
     "output_type": "stream",
     "text": [
      "i+m+k+n\n"
     ]
    }
   ],
   "source": [
    "str1=\"+\"\n",
    "print(str1.join([\"i\",\"m\",\"k\",\"n\"]))\n",
    "# join---joins the iterable/sequence with the string"
   ]
  },
  {
   "cell_type": "code",
   "execution_count": 35,
   "id": "24ec5482",
   "metadata": {},
   "outputs": [
    {
     "name": "stdout",
     "output_type": "stream",
     "text": [
      "heLLO World i am learning Python******************\n"
     ]
    }
   ],
   "source": [
    "str1=\"heLLO World i am learning Python\"\n",
    "print(str1.ljust(50,\"*\"))"
   ]
  },
  {
   "cell_type": "code",
   "execution_count": 36,
   "id": "5e3bd839",
   "metadata": {},
   "outputs": [
    {
     "name": "stdout",
     "output_type": "stream",
     "text": [
      "hello world i am learning python\n"
     ]
    }
   ],
   "source": [
    "str1=\"heLLO World i am learning Python\"\n",
    "print(str1.lower())"
   ]
  },
  {
   "cell_type": "code",
   "execution_count": 61,
   "id": "e60e9907",
   "metadata": {},
   "outputs": [
    {
     "name": "stdout",
     "output_type": "stream",
     "text": [
      "heLLO World i am learning Python\n"
     ]
    }
   ],
   "source": [
    "str1=\"     heLLO World i am learning Python      \"\n",
    "# print(str1)\n",
    "print(str1.strip())\n",
    "# left side remove space"
   ]
  },
  {
   "cell_type": "code",
   "execution_count": 41,
   "id": "58c8d938",
   "metadata": {},
   "outputs": [
    {
     "name": "stdout",
     "output_type": "stream",
     "text": [
      "('heLiLO World i ', 'am', ' learning i Python')\n"
     ]
    }
   ],
   "source": [
    "str1=\"heLiLO World i am learning i Python\"\n",
    "print(str1.partition(\"am\"))\n",
    "partiotion the string into 3 parts first part left side of the character,second part character itself,\n",
    "third part right side of the character"
   ]
  },
  {
   "cell_type": "code",
   "execution_count": 45,
   "id": "a94c49f1",
   "metadata": {},
   "outputs": [
    {
     "name": "stdout",
     "output_type": "stream",
     "text": [
      " World i am learning i Python\n"
     ]
    }
   ],
   "source": [
    "str1=\"heLiLO World i am learning i Python\"\n",
    "print(str1.removeprefix(\"heLiLO\"))"
   ]
  },
  {
   "cell_type": "code",
   "execution_count": 46,
   "id": "5416759a",
   "metadata": {},
   "outputs": [
    {
     "name": "stdout",
     "output_type": "stream",
     "text": [
      "heLiLO World i am learning i Pyt\n"
     ]
    }
   ],
   "source": [
    "str1=\"heLiLO World i am learning i Python\"\n",
    "print(str1.removesuffix(\"hon\"))"
   ]
  },
  {
   "cell_type": "code",
   "execution_count": 49,
   "id": "40a2ae70",
   "metadata": {},
   "outputs": [
    {
     "name": "stdout",
     "output_type": "stream",
     "text": [
      "heLiLO Yellow i am learning i Python\n",
      "heLiLO World i am learning i Python\n"
     ]
    }
   ],
   "source": [
    "str1=\"heLiLO World i am learning i Python\"\n",
    "print(str1.replace(\"World\",\"Yellow\"))\n",
    "print(str1)"
   ]
  },
  {
   "cell_type": "code",
   "execution_count": 55,
   "id": "448726df",
   "metadata": {},
   "outputs": [
    {
     "name": "stdout",
     "output_type": "stream",
     "text": [
      "['heL', 'LO World ', ' am learn', 'ng ', ' Python']\n"
     ]
    }
   ],
   "source": [
    "str1=\"heLiLO World i am learning i Python\"\n",
    "# print(str1.rjust(50))\n",
    "print(str1.split(\"i\"))"
   ]
  },
  {
   "cell_type": "code",
   "execution_count": 64,
   "id": "98491c45",
   "metadata": {},
   "outputs": [
    {
     "name": "stdout",
     "output_type": "stream",
     "text": [
      "     HElIlo wORLD I AM LEARNING I pYTHON    \n",
      "     HELILO WORLD I AM LEARNING I PYTHON    \n"
     ]
    }
   ],
   "source": [
    "str1=\"     heLiLO World i am learning i Python    \"\n",
    "# print(str1.startswith(\"heL\"))\n",
    "# print(str1.strip())\n",
    "print(str1.swapcase())\n",
    "print(str1.upper())\n",
    "print(str1.zfill)"
   ]
  },
  {
   "cell_type": "code",
   "execution_count": 66,
   "id": "b2b0680a",
   "metadata": {},
   "outputs": [
    {
     "name": "stdout",
     "output_type": "stream",
     "text": [
      "5\n",
      "000000000000000000000000000000000000000000000hello\n"
     ]
    }
   ],
   "source": [
    "str1=\"hello\"\n",
    "print(len(str1))\n",
    "print(str1.zfill(50))"
   ]
  },
  {
   "cell_type": "code",
   "execution_count": 78,
   "id": "902b5225",
   "metadata": {},
   "outputs": [
    {
     "name": "stdout",
     "output_type": "stream",
     "text": [
      "False\n",
      "Gjgjgh Thsdjkfhs Udihu Hfjiusdhf\n",
      "False\n"
     ]
    }
   ],
   "source": [
    "# _ a-z A-Z\n",
    "# _ a-z A-Z 0-9\n",
    "# keywords\n",
    "str1=\"Gjgjgh Thsdjkfhs UDIHu Hfjiusdhf\"\n",
    "# print(str1.isalnum())\n",
    "print(str1.isidentifier())\n",
    "print(str1.title())\n",
    "print(str1.istitle())"
   ]
  }
 ],
 "metadata": {
  "kernelspec": {
   "display_name": "Python 3 (ipykernel)",
   "language": "python",
   "name": "python3"
  },
  "language_info": {
   "codemirror_mode": {
    "name": "ipython",
    "version": 3
   },
   "file_extension": ".py",
   "mimetype": "text/x-python",
   "name": "python",
   "nbconvert_exporter": "python",
   "pygments_lexer": "ipython3",
   "version": "3.9.12"
  }
 },
 "nbformat": 4,
 "nbformat_minor": 5
}
