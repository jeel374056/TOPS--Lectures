{
 "cells": [
  {
   "cell_type": "code",
   "execution_count": null,
   "id": "de6040db",
   "metadata": {},
   "outputs": [],
   "source": [
    "# int a; loosely type language\n",
    "=0.9\n",
    "type(a)"
   ]
  },
  {
   "cell_type": "code",
   "execution_count": null,
   "id": "37bf0b6e",
   "metadata": {},
   "outputs": [],
   "source": [
    "first rule ----First letter should be either Alphabet(a-z,A-Z)or underscore(_)\n",
    "second rule-----remaining letter shouldbe either Alphabet(a-z,A-Z)or underscore(_) as well as digits(0-9)\n",
    "rule 3---we cannot use keyword as a variable name\n",
    "if else for while float str bool "
   ]
  },
  {
   "cell_type": "code",
   "execution_count": null,
   "id": "1aa2c757",
   "metadata": {},
   "outputs": [],
   "source": [
    "str1=8\n",
    "1air=9---f\n",
    "_a145_js---t\n",
    "Air_india--t"
   ]
  },
  {
   "cell_type": "code",
   "execution_count": null,
   "id": "4d8d6b53",
   "metadata": {},
   "outputs": [],
   "source": [
    "x=10\n",
    "y=20\n",
    "z=30\n",
    "x,y,z,a=10,20,30,45"
   ]
  },
  {
   "cell_type": "code",
   "execution_count": null,
   "id": "7c31b8bd",
   "metadata": {},
   "outputs": [],
   "source": [
    "print(\"hello\"+\"World\")\n",
    "a=\"Learn\"\n",
    "b=\"Vern\"\n",
    "# a+b---concatination or concat\n",
    "\n",
    "a=14\n",
    "b=20\n",
    "print(a+b)---addition"
   ]
  },
  {
   "cell_type": "code",
   "execution_count": null,
   "id": "bc49158e",
   "metadata": {},
   "outputs": [],
   "source": [
    "a=False#-----boolean values  True or False\n",
    "print(a)"
   ]
  },
  {
   "cell_type": "code",
   "execution_count": null,
   "id": "3e5b24e1",
   "metadata": {},
   "outputs": [],
   "source": [
    "input()--takes input from the user"
   ]
  },
  {
   "cell_type": "code",
   "execution_count": null,
   "id": "eefdd54b",
   "metadata": {},
   "outputs": [],
   "source": [
    "a=float(input(\"Enter Number: \"))\n",
    "print(type(a))\n",
    "\n",
    "\n",
    "# casting----changing one datatype to another\n",
    "# integer---int()\n",
    "# float---float\n",
    "# string----str\n",
    "# boolean---bool"
   ]
  },
  {
   "cell_type": "code",
   "execution_count": 2,
   "id": "e1babb3f",
   "metadata": {},
   "outputs": [
    {
     "name": "stdout",
     "output_type": "stream",
     "text": [
      "The value of 101 is learnvern\n"
     ]
    }
   ],
   "source": [
    "# formatted string----\n",
    "a=101\n",
    "b=\"learnvern\"\n",
    "print(f\"The value of {a} is {b}\")\n",
    "# the value of a is 50"
   ]
  }
 ],
 "metadata": {
  "kernelspec": {
   "display_name": "Python 3 (ipykernel)",
   "language": "python",
   "name": "python3"
  },
  "language_info": {
   "codemirror_mode": {
    "name": "ipython",
    "version": 3
   },
   "file_extension": ".py",
   "mimetype": "text/x-python",
   "name": "python",
   "nbconvert_exporter": "python",
   "pygments_lexer": "ipython3",
   "version": "3.9.12"
  }
 },
 "nbformat": 4,
 "nbformat_minor": 5
}
