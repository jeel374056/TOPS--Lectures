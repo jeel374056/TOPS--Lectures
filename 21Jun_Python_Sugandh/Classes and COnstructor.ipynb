{
 "cells": [
  {
   "cell_type": "code",
   "execution_count": null,
   "id": "6acab061",
   "metadata": {},
   "outputs": [],
   "source": [
    "# single\n",
    "# multiple---(multiple parents)\n",
    "# heirarchical---(multiple child)\n",
    "# multilevel\n",
    "# hybrid"
   ]
  },
  {
   "cell_type": "code",
   "execution_count": 7,
   "id": "d33207b9",
   "metadata": {},
   "outputs": [
    {
     "name": "stdout",
     "output_type": "stream",
     "text": [
      "[0, 0, 0, 0, 0]\n"
     ]
    }
   ],
   "source": [
    "# list1=[]\n",
    "# for i in range(0,11):\n",
    "#     if i%2==0:\n",
    "#         pass\n",
    "#     else:\n",
    "#         list1.append(i)\n",
    "    \n",
    "# print(list1)\n",
    "\n",
    "list1=[0 for i in range(5)]\n",
    "print(list1)"
   ]
  },
  {
   "cell_type": "code",
   "execution_count": 9,
   "id": "827287a1",
   "metadata": {},
   "outputs": [
    {
     "name": "stdout",
     "output_type": "stream",
     "text": [
      "Constructor2 called\n",
      "35 98\n",
      "dog can bark\n",
      "hello how\n"
     ]
    }
   ],
   "source": [
    "# class---blueprint---design---attributes---methods----variables\n",
    "class animal:\n",
    "    color=\"red\"\n",
    "    type_=\"dog\"\n",
    "    def __init__(self,c1,c2):#name will always remain same\n",
    "        print(\"Constructor called\")\n",
    "        print(c1,c2)\n",
    "    def __init__(self,d1,d2):#name will always remain same\n",
    "        print(\"Constructor2 called\")\n",
    "        print(d1,d2)\n",
    "    \n",
    "    def barking(self,n1,n2):\n",
    "        print(\"dog can bark\")\n",
    "        print(n1,n2)\n",
    "        \n",
    "# def fdun_name([paramters]):\n",
    "#     body\n",
    "\n",
    "dog = animal(35,98)\n",
    "dog.barking(\"hello\",\"how\")\n",
    "# cow = animal()\n",
    "# dog.barking()\n",
    "# cow.barking()\n",
    "# print(cow.color)"
   ]
  },
  {
   "cell_type": "code",
   "execution_count": 26,
   "id": "907c10f5",
   "metadata": {},
   "outputs": [
    {
     "name": "stdout",
     "output_type": "stream",
     "text": [
      "John   Doe\n",
      "John   Doe\n",
      "John Doe\n"
     ]
    }
   ],
   "source": [
    "class Person:#parent---init--printname--firstname--lastname\n",
    "  def __init__(self, fname, lname):\n",
    "    self.firstname = fname\n",
    "    self.lastname = lname\n",
    "    print(fname,\" \",lname)\n",
    "    print(self.firstname,\" \",self.lastname)\n",
    "    \n",
    "\n",
    "  def printname(self):\n",
    "    print(self.firstname, self.lastname)\n",
    "#     print(fname,\" \",lname)\n",
    "\n",
    "#Use the Person class to create an object, and then execute the printname method:\n",
    "\n",
    "x = Person(\"John\", \"Doe\")\n",
    "x.printname()"
   ]
  },
  {
   "cell_type": "code",
   "execution_count": 30,
   "id": "0217fbf7",
   "metadata": {},
   "outputs": [
    {
     "name": "stdout",
     "output_type": "stream",
     "text": [
      "sanju   rajput\n",
      "sanju   rajput\n"
     ]
    },
    {
     "ename": "AttributeError",
     "evalue": "'student' object has no attribute 'fullname'",
     "output_type": "error",
     "traceback": [
      "\u001b[1;31m---------------------------------------------------------------------------\u001b[0m",
      "\u001b[1;31mAttributeError\u001b[0m                            Traceback (most recent call last)",
      "Input \u001b[1;32mIn [30]\u001b[0m, in \u001b[0;36m<cell line: 13>\u001b[1;34m()\u001b[0m\n\u001b[0;32m     10\u001b[0m         \u001b[38;5;28mprint\u001b[39m(\u001b[38;5;124mf\u001b[39m\u001b[38;5;124m\"\u001b[39m\u001b[38;5;124mRoll no is \u001b[39m\u001b[38;5;132;01m{\u001b[39;00m\u001b[38;5;28mself\u001b[39m\u001b[38;5;241m.\u001b[39mRollno\u001b[38;5;132;01m}\u001b[39;00m\u001b[38;5;124m and subject is \u001b[39m\u001b[38;5;132;01m{\u001b[39;00m\u001b[38;5;28mself\u001b[39m\u001b[38;5;241m.\u001b[39mSubject\u001b[38;5;132;01m}\u001b[39;00m\u001b[38;5;124m,\u001b[39m\u001b[38;5;132;01m{\u001b[39;00m\u001b[38;5;28mself\u001b[39m\u001b[38;5;241m.\u001b[39mfullname\u001b[38;5;132;01m}\u001b[39;00m\u001b[38;5;124m\"\u001b[39m)\n\u001b[0;32m     12\u001b[0m raj\u001b[38;5;241m=\u001b[39mstudent(\u001b[38;5;124m\"\u001b[39m\u001b[38;5;124msanju\u001b[39m\u001b[38;5;124m\"\u001b[39m,\u001b[38;5;124m\"\u001b[39m\u001b[38;5;124mrajput\u001b[39m\u001b[38;5;124m\"\u001b[39m,\u001b[38;5;241m125\u001b[39m,\u001b[38;5;124m\"\u001b[39m\u001b[38;5;124mScience\u001b[39m\u001b[38;5;124m\"\u001b[39m)\n\u001b[1;32m---> 13\u001b[0m \u001b[43mraj\u001b[49m\u001b[38;5;241;43m.\u001b[39;49m\u001b[43mshow_details\u001b[49m\u001b[43m(\u001b[49m\u001b[43m)\u001b[49m\n",
      "Input \u001b[1;32mIn [30]\u001b[0m, in \u001b[0;36mstudent.show_details\u001b[1;34m(self)\u001b[0m\n\u001b[0;32m      9\u001b[0m \u001b[38;5;28;01mdef\u001b[39;00m \u001b[38;5;21mshow_details\u001b[39m(\u001b[38;5;28mself\u001b[39m):\n\u001b[1;32m---> 10\u001b[0m     \u001b[38;5;28mprint\u001b[39m(\u001b[38;5;124mf\u001b[39m\u001b[38;5;124m\"\u001b[39m\u001b[38;5;124mRoll no is \u001b[39m\u001b[38;5;132;01m{\u001b[39;00m\u001b[38;5;28mself\u001b[39m\u001b[38;5;241m.\u001b[39mRollno\u001b[38;5;132;01m}\u001b[39;00m\u001b[38;5;124m and subject is \u001b[39m\u001b[38;5;132;01m{\u001b[39;00m\u001b[38;5;28mself\u001b[39m\u001b[38;5;241m.\u001b[39mSubject\u001b[38;5;132;01m}\u001b[39;00m\u001b[38;5;124m,\u001b[39m\u001b[38;5;132;01m{\u001b[39;00m\u001b[38;5;28mself\u001b[39m\u001b[38;5;241m.\u001b[39mfullname\u001b[38;5;132;01m}\u001b[39;00m\u001b[38;5;124m\"\u001b[39m)\n",
      "\u001b[1;31mAttributeError\u001b[0m: 'student' object has no attribute 'fullname'"
     ]
    }
   ],
   "source": [
    "class student(Person):#child---init---show_details,self.rollno,self.subject\n",
    "    def __init__(self, fname,lname,rollno, subject):\n",
    "        self.Rollno = rollno\n",
    "        self.Subject = subject\n",
    "        super().__init__(fname,lname)\n",
    "#         print(rollno,\" \",subject)\n",
    "#         print(self.Rollno,\" \",self.Subject)\n",
    "        \n",
    "    def show_details(self):\n",
    "        print(f\"Roll no is {self.Rollno} and subject is {self.Subject},{self.fullname}\")\n",
    "        \n",
    "raj=student(\"sanju\",\"rajput\",125,\"Science\")\n",
    "raj.show_details()\n"
   ]
  },
  {
   "cell_type": "code",
   "execution_count": 10,
   "id": "1be6b4c3",
   "metadata": {},
   "outputs": [
    {
     "name": "stdout",
     "output_type": "stream",
     "text": [
      "Toyota 2016\n",
      "Maruti 2021\n"
     ]
    }
   ],
   "source": [
    "class car:  \n",
    "    def __init__(self,modelname, year):  \n",
    "        self.modelname = modelname  \n",
    "        self.year = year  \n",
    "    def display(self):  \n",
    "        print(self.modelname,self.year)  \n",
    "  \n",
    "c1 = car(\"Toyota\", 2016)  \n",
    "c1.display()  \n",
    "c2=car(\"Maruti\",2021)\n",
    "c2.display()"
   ]
  },
  {
   "cell_type": "code",
   "execution_count": null,
   "id": "7276c772",
   "metadata": {},
   "outputs": [],
   "source": [
    "class Animal:  \n",
    "    def speak(self):  \n",
    "        print(\"Animal Speaking\")  \n",
    "#child class Dog inherits the base class Animal  \n",
    "class Dog(Animal):  \n",
    "    def bark(self):  \n",
    "        print(\"dog barking\")  \n",
    "d = Dog()  \n",
    "d.bark()  \n",
    "d.speak()  \n",
    "\n",
    "e=Animal()\n",
    "e.speak()\n",
    "\n",
    "f=Dog()\n",
    "f.bark()"
   ]
  },
  {
   "cell_type": "code",
   "execution_count": 13,
   "id": "315c0046",
   "metadata": {},
   "outputs": [],
   "source": [
    "class Employee:  \n",
    "    __count = 0;  \n",
    "    def __init__(self):  \n",
    "        Employee.__count = Employee.__count+1  \n",
    "    def display(self):  \n",
    "        print(\"The number of employees\",Employee.__count)\n",
    "    def show(self):  \n",
    "        print(\"The number of employees\",Employee.__count)\n",
    "        \n",
    "Emp1=Employee()\n",
    "Emp1."
   ]
  },
  {
   "cell_type": "code",
   "execution_count": null,
   "id": "b9c606fb",
   "metadata": {},
   "outputs": [],
   "source": [
    "regex,--regular expression\n",
    "tkinter--toolkits\n",
    "\n",
    "web development---django framework"
   ]
  }
 ],
 "metadata": {
  "kernelspec": {
   "display_name": "Python 3 (ipykernel)",
   "language": "python",
   "name": "python3"
  },
  "language_info": {
   "codemirror_mode": {
    "name": "ipython",
    "version": 3
   },
   "file_extension": ".py",
   "mimetype": "text/x-python",
   "name": "python",
   "nbconvert_exporter": "python",
   "pygments_lexer": "ipython3",
   "version": "3.9.12"
  }
 },
 "nbformat": 4,
 "nbformat_minor": 5
}
