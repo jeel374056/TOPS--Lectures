{
 "cells": [
  {
   "cell_type": "code",
   "execution_count": null,
   "id": "41b82206",
   "metadata": {},
   "outputs": [],
   "source": [
    "#dataypes\n",
    "int----\n",
    "float-----\n",
    "str----'sf',\"df\"\n",
    "boolean---True,False\n",
    "list=[48,\"string\",False]\n",
    "tuple=(48,\"string\",\"gh\")\n",
    "set={4,5,8,9,8}\n",
    "dictionary={4:8,\"hello\":\"world\"}"
   ]
  },
  {
   "cell_type": "code",
   "execution_count": null,
   "id": "f2de83cd",
   "metadata": {},
   "outputs": [],
   "source": [
    "FOR LOOP\n",
    "for iter_var in sequence/collection:\n",
    "    body"
   ]
  },
  {
   "cell_type": "code",
   "execution_count": null,
   "id": "d220da0c",
   "metadata": {},
   "outputs": [],
   "source": [
    "Sequence/Collection\n",
    "string=\"collection of character\"\n",
    "list=[45,\"hello\",58.9]\n",
    "tuple=(96,54.5,\"Wow\")\n",
    "set={454,5,58,854,5,4}\n",
    "dictionary={4:9,5:6,4:8,7:6}"
   ]
  },
  {
   "cell_type": "code",
   "execution_count": null,
   "id": "bd9d1d84",
   "metadata": {},
   "outputs": [],
   "source": [
    "list1=[45,\"hello\",58.9]\n",
    "for i in list1:\n",
    "    print(\"hello\")\n",
    "    print(i)"
   ]
  },
  {
   "cell_type": "code",
   "execution_count": null,
   "id": "1cb92700",
   "metadata": {},
   "outputs": [],
   "source": [
    "#collection\n",
    "# range()\n",
    "# range(start:stop:step)\n",
    "# starting point is considered but ending is not considered\n",
    "# range(2,8)-----2 3 4 5 6 7\n",
    "# range(6)---range(0,6)---if we mention only one thing in range then it is ending point\n",
    "# 0 1 2 3 4 5 \n",
    "# if we not give starting then by default starting will be from 0\n",
    "# range(4,1)---4 6  8  10  \n",
    "for i in range(5,11,2):\n",
    "    print(i)"
   ]
  },
  {
   "cell_type": "code",
   "execution_count": null,
   "id": "691b0180",
   "metadata": {},
   "outputs": [],
   "source": [
    "set\n",
    "tuple\n",
    "dictionary\n",
    "list\n",
    "string\n",
    "range"
   ]
  },
  {
   "cell_type": "code",
   "execution_count": null,
   "id": "c9bb8e88",
   "metadata": {},
   "outputs": [],
   "source": [
    "for iter_var in sequence:\n",
    "    body"
   ]
  },
  {
   "cell_type": "code",
   "execution_count": null,
   "id": "5e8646a1",
   "metadata": {},
   "outputs": [],
   "source": [
    "# for i in range(5):#0 1 2 3 4\n",
    "#     print(10+50)\n",
    "#     print(\"Over\")"
   ]
  },
  {
   "cell_type": "code",
   "execution_count": null,
   "id": "f7aab132",
   "metadata": {},
   "outputs": [],
   "source": [
    "odd even\n",
    "number / 2 reaminder 0  even\n",
    "%"
   ]
  },
  {
   "cell_type": "code",
   "execution_count": null,
   "id": "a2c7de76",
   "metadata": {},
   "outputs": [],
   "source": [
    "for i in range(1,20):\n",
    "    if i%2==0:\n",
    "        print(i)"
   ]
  },
  {
   "cell_type": "code",
   "execution_count": null,
   "id": "2a8abfb5",
   "metadata": {},
   "outputs": [],
   "source": [
    "while condition:\n",
    "    body"
   ]
  },
  {
   "cell_type": "code",
   "execution_count": 1,
   "id": "2b29f43a",
   "metadata": {},
   "outputs": [
    {
     "name": "stdout",
     "output_type": "stream",
     "text": [
      "hello\n",
      "hello\n",
      "hello\n",
      "hello\n",
      "hello\n",
      "hello\n",
      "hello\n",
      "hello\n",
      "hello\n"
     ]
    }
   ],
   "source": [
    "i=1\n",
    "while i<10:\n",
    "    print(\"hello\")\n",
    "    i=i+1"
   ]
  },
  {
   "cell_type": "code",
   "execution_count": 2,
   "id": "08032caa",
   "metadata": {},
   "outputs": [
    {
     "name": "stdout",
     "output_type": "stream",
     "text": [
      "5\n",
      "6\n"
     ]
    }
   ],
   "source": [
    "# break--stopping\n",
    "for i in range(5,10):\n",
    "    print(i)\n",
    "    if i==6:\n",
    "        break\n",
    "#break stops the flow of the loop and stopped the loop when certain condition satisfied"
   ]
  },
  {
   "cell_type": "code",
   "execution_count": 27,
   "id": "8ede8f4b",
   "metadata": {},
   "outputs": [
    {
     "name": "stdout",
     "output_type": "stream",
     "text": [
      "5\n",
      "7\n",
      "8\n",
      "9\n"
     ]
    }
   ],
   "source": [
    "# continue:--\n",
    "for i in range(5,10):\n",
    "    hjhjgjj\n",
    "    j\n",
    "    j\n",
    "    j\n",
    "    \n",
    "    j\n",
    "    if i==6:\n",
    "        continue\n",
    "    print(i)\n",
    "    \n",
    "    sfgfdgdg\n",
    "    g\n",
    "    dg\n",
    "    dg\n",
    "    dg\n",
    "    d\n",
    "    g"
   ]
  },
  {
   "cell_type": "code",
   "execution_count": null,
   "id": "a5f106c9",
   "metadata": {},
   "outputs": [],
   "source": [
    "break----5 6 \n",
    "continue--5 6 8 9"
   ]
  },
  {
   "cell_type": "code",
   "execution_count": 30,
   "id": "1fb8f09c",
   "metadata": {},
   "outputs": [
    {
     "name": "stdout",
     "output_type": "stream",
     "text": [
      "smaller\n"
     ]
    }
   ],
   "source": [
    "# pass:\n",
    "if 10>20:\n",
    "    pass\n",
    "else:\n",
    "    print(\"smaller\")"
   ]
  }
 ],
 "metadata": {
  "kernelspec": {
   "display_name": "Python 3 (ipykernel)",
   "language": "python",
   "name": "python3"
  },
  "language_info": {
   "codemirror_mode": {
    "name": "ipython",
    "version": 3
   },
   "file_extension": ".py",
   "mimetype": "text/x-python",
   "name": "python",
   "nbconvert_exporter": "python",
   "pygments_lexer": "ipython3",
   "version": "3.9.12"
  }
 },
 "nbformat": 4,
 "nbformat_minor": 5
}
