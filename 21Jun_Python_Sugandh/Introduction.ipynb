{
 "cells": [
  {
   "cell_type": "code",
   "execution_count": 12,
   "id": "368f6af9",
   "metadata": {},
   "outputs": [
    {
     "name": "stdout",
     "output_type": "stream",
     "text": [
      "Hello Welcome to Python world\n",
      "10\n"
     ]
    }
   ],
   "source": [
    "print(\"Hello Welcome to Python world\")\n",
    "a = 10\n",
    "print(a)\n"
   ]
  },
  {
   "cell_type": "code",
   "execution_count": null,
   "id": "ff66fe12",
   "metadata": {},
   "outputs": [],
   "source": [
    "type(variable_name)---check the type of variable"
   ]
  },
  {
   "cell_type": "code",
   "execution_count": 3,
   "id": "9e72a6bf",
   "metadata": {},
   "outputs": [
    {
     "data": {
      "text/plain": [
       "str"
      ]
     },
     "execution_count": 3,
     "metadata": {},
     "output_type": "execute_result"
    }
   ],
   "source": [
    "#This code checks the type of variable\n",
    "b=\"10.09\"\n",
    "type(b)\n"
   ]
  },
  {
   "cell_type": "code",
   "execution_count": null,
   "id": "a74f3b18",
   "metadata": {},
   "outputs": [],
   "source": []
  }
 ],
 "metadata": {
  "kernelspec": {
   "display_name": "Python 3 (ipykernel)",
   "language": "python",
   "name": "python3"
  },
  "language_info": {
   "codemirror_mode": {
    "name": "ipython",
    "version": 3
   },
   "file_extension": ".py",
   "mimetype": "text/x-python",
   "name": "python",
   "nbconvert_exporter": "python",
   "pygments_lexer": "ipython3",
   "version": "3.9.12"
  }
 },
 "nbformat": 4,
 "nbformat_minor": 5
}
