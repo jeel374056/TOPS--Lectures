{
 "cells": [
  {
   "cell_type": "code",
   "execution_count": 1,
   "id": "e445b914",
   "metadata": {},
   "outputs": [
    {
     "ename": "SyntaxError",
     "evalue": "invalid syntax (3598716439.py, line 4)",
     "output_type": "error",
     "traceback": [
      "\u001b[1;36m  Input \u001b[1;32mIn [1]\u001b[1;36m\u001b[0m\n\u001b[1;33m    def fun\u001b[0m\n\u001b[1;37m           ^\u001b[0m\n\u001b[1;31mSyntaxError\u001b[0m\u001b[1;31m:\u001b[0m invalid syntax\n"
     ]
    }
   ],
   "source": [
    "# functions----block of code ---\n",
    "# calling \n",
    "\n",
    "def fun_name([paramters]):\n",
    "    body\n",
    "    return [return_value]"
   ]
  },
  {
   "cell_type": "code",
   "execution_count": 3,
   "id": "0205c759",
   "metadata": {},
   "outputs": [
    {
     "name": "stdout",
     "output_type": "stream",
     "text": [
      "60\n"
     ]
    }
   ],
   "source": [
    "def addition():\n",
    "    x=10\n",
    "    y=50\n",
    "    print(x+y)\n",
    "addition()"
   ]
  },
  {
   "cell_type": "code",
   "execution_count": 5,
   "id": "86c7757e",
   "metadata": {},
   "outputs": [
    {
     "ename": "TypeError",
     "evalue": "addition() takes 3 positional arguments but 4 were given",
     "output_type": "error",
     "traceback": [
      "\u001b[1;31m---------------------------------------------------------------------------\u001b[0m",
      "\u001b[1;31mTypeError\u001b[0m                                 Traceback (most recent call last)",
      "Input \u001b[1;32mIn [5]\u001b[0m, in \u001b[0;36m<cell line: 5>\u001b[1;34m()\u001b[0m\n\u001b[0;32m      2\u001b[0m     ans\u001b[38;5;241m=\u001b[39mnum1\u001b[38;5;241m+\u001b[39mnum2\n\u001b[0;32m      3\u001b[0m     \u001b[38;5;28mprint\u001b[39m(ans)\n\u001b[1;32m----> 5\u001b[0m \u001b[43maddition\u001b[49m\u001b[43m(\u001b[49m\u001b[38;5;241;43m55\u001b[39;49m\u001b[43m,\u001b[49m\u001b[38;5;241;43m65\u001b[39;49m\u001b[43m,\u001b[49m\u001b[38;5;241;43m65\u001b[39;49m\u001b[43m,\u001b[49m\u001b[38;5;241;43m25\u001b[39;49m\u001b[43m)\u001b[49m\n",
      "\u001b[1;31mTypeError\u001b[0m: addition() takes 3 positional arguments but 4 were given"
     ]
    }
   ],
   "source": [
    "def addition(num1,num2,num3):#positional parameters\n",
    "    ans=num1+num2\n",
    "    print(ans)\n",
    "    \n",
    "addition(55,65,85)#arguments basic type"
   ]
  },
  {
   "cell_type": "code",
   "execution_count": null,
   "id": "727992b9",
   "metadata": {},
   "outputs": [],
   "source": [
    "# keyword arguments\n",
    "def addition(num1,num2,num3):#keyword argument\n",
    "    ans=num1+num2\n",
    "    print(ans)\n",
    "    \n",
    "addition(num3=55,num2=65,num1=85)#mixed up "
   ]
  },
  {
   "cell_type": "code",
   "execution_count": 9,
   "id": "608df047",
   "metadata": {},
   "outputs": [
    {
     "name": "stdout",
     "output_type": "stream",
     "text": [
      "165\n"
     ]
    }
   ],
   "source": [
    "def addition(num1,num2,num3):\n",
    "    ans=num1+num2+num3\n",
    "    print(ans)\n",
    "    \n",
    "addition(55,num3=65,num2=45)#positional arguments will come before keyword argument"
   ]
  },
  {
   "cell_type": "code",
   "execution_count": 16,
   "id": "90252552",
   "metadata": {},
   "outputs": [
    {
     "name": "stdout",
     "output_type": "stream",
     "text": [
      "125\n"
     ]
    }
   ],
   "source": [
    "# default argument\n",
    "def addition(num1=30,num2=45,num3=50):\n",
    "    ans=num1+num2+num3\n",
    "    print(ans)\n",
    "    \n",
    "addition(25,)#num1=50 num2=20 num3=54 uswer value priority more"
   ]
  },
  {
   "cell_type": "code",
   "execution_count": 17,
   "id": "dbb24682",
   "metadata": {},
   "outputs": [
    {
     "name": "stdout",
     "output_type": "stream",
     "text": [
      "183\n"
     ]
    }
   ],
   "source": [
    "def addition(num1,num2,num3=50):\n",
    "    ans=num1+num2+num3\n",
    "    print(ans)\n",
    "    \n",
    "addition(45,num3=84,num2=54)"
   ]
  },
  {
   "cell_type": "code",
   "execution_count": 24,
   "id": "3a443587",
   "metadata": {},
   "outputs": [
    {
     "name": "stdout",
     "output_type": "stream",
     "text": [
      "(1, 2, 3, 4, 4, 6, 7, 8, 9)\n",
      "3\n"
     ]
    }
   ],
   "source": [
    "# arbitrary arguments\n",
    "def fun1(*a):\n",
    "    print(a)\n",
    "    sum=a[0]+a[1]\n",
    "    print(sum)\n",
    "#     print(c)\n",
    "#     print(d)\n",
    "    \n",
    "fun1(1,2,3,4,4,6,7,8,9)#tuple"
   ]
  },
  {
   "cell_type": "code",
   "execution_count": 26,
   "id": "4a0467cc",
   "metadata": {},
   "outputs": [
    {
     "name": "stdout",
     "output_type": "stream",
     "text": [
      "14\n",
      "32\n",
      "{'c': 98, 'd': 45, 'e': 98, 'f': 45, 'g': 104}\n",
      "98\n"
     ]
    }
   ],
   "source": [
    "# arbitrary keyword argument\n",
    "def fun2(a,b,**c):\n",
    "    print(a)\n",
    "    print(b)\n",
    "    print(c)\n",
    "    print(c['e'])\n",
    "fun2(14,b=32,c=98,d=45,e=98,f=45,g=104)"
   ]
  },
  {
   "cell_type": "code",
   "execution_count": 37,
   "id": "a40a0e24",
   "metadata": {},
   "outputs": [
    {
     "name": "stdout",
     "output_type": "stream",
     "text": [
      "Enter NUmber1: 45\n",
      "Enter NUmber2: 0\n"
     ]
    },
    {
     "ename": "ZeroDivisionError",
     "evalue": "division by zero",
     "output_type": "error",
     "traceback": [
      "\u001b[1;31m---------------------------------------------------------------------------\u001b[0m",
      "\u001b[1;31mZeroDivisionError\u001b[0m                         Traceback (most recent call last)",
      "Input \u001b[1;32mIn [37]\u001b[0m, in \u001b[0;36m<cell line: 4>\u001b[1;34m()\u001b[0m\n\u001b[0;32m      2\u001b[0m a\u001b[38;5;241m=\u001b[39m\u001b[38;5;28mint\u001b[39m(\u001b[38;5;28minput\u001b[39m(\u001b[38;5;124m\"\u001b[39m\u001b[38;5;124mEnter NUmber1: \u001b[39m\u001b[38;5;124m\"\u001b[39m))\n\u001b[0;32m      3\u001b[0m b\u001b[38;5;241m=\u001b[39m\u001b[38;5;28mint\u001b[39m(\u001b[38;5;28minput\u001b[39m(\u001b[38;5;124m\"\u001b[39m\u001b[38;5;124mEnter NUmber2: \u001b[39m\u001b[38;5;124m\"\u001b[39m))\n\u001b[1;32m----> 4\u001b[0m division\u001b[38;5;241m=\u001b[39m\u001b[43ma\u001b[49m\u001b[38;5;241;43m/\u001b[39;49m\u001b[43mb\u001b[49m\n\u001b[0;32m      5\u001b[0m \u001b[38;5;28mprint\u001b[39m(division)\n",
      "\u001b[1;31mZeroDivisionError\u001b[0m: division by zero"
     ]
    }
   ],
   "source": [
    "# Exception handling\n",
    "a=int(input(\"Enter NUmber1: \"))\n",
    "b=int(input(\"Enter NUmber2: \"))\n",
    "division=a/b\n",
    "print(division)\n"
   ]
  },
  {
   "cell_type": "code",
   "execution_count": null,
   "id": "36591057",
   "metadata": {},
   "outputs": [],
   "source": [
    "try----jisse hume error mil sakti hai\n",
    "except---agar error aa jaye toh kya karunga error toh dikha nhi sakta user ko\n",
    "finally---error ayaya ya nhi wo toh run hoga hi\n",
    "raise---user created error banata hai"
   ]
  },
  {
   "cell_type": "code",
   "execution_count": 48,
   "id": "ac775395",
   "metadata": {},
   "outputs": [
    {
     "name": "stdout",
     "output_type": "stream",
     "text": [
      "Enter NUmber1: fdgfdg\n",
      "Only Number are allowed\n",
      "Finally me run ho gaya mujhe pta nhi error aaya ya nhi\n",
      "sdgsdg\n"
     ]
    },
    {
     "ename": "ValueError",
     "evalue": "invalid literal for int() with base 10: 'sdgsdg'",
     "output_type": "error",
     "traceback": [
      "\u001b[1;31m---------------------------------------------------------------------------\u001b[0m",
      "\u001b[1;31mValueError\u001b[0m                                Traceback (most recent call last)",
      "Input \u001b[1;32mIn [48]\u001b[0m, in \u001b[0;36m<cell line: 1>\u001b[1;34m()\u001b[0m\n\u001b[0;32m     10\u001b[0m \u001b[38;5;28;01mfinally\u001b[39;00m:\n\u001b[0;32m     11\u001b[0m     \u001b[38;5;28mprint\u001b[39m(\u001b[38;5;124m\"\u001b[39m\u001b[38;5;124mFinally me run ho gaya mujhe pta nhi error aaya ya nhi\u001b[39m\u001b[38;5;124m\"\u001b[39m)\n\u001b[1;32m---> 12\u001b[0m     a\u001b[38;5;241m=\u001b[39m\u001b[38;5;28;43mint\u001b[39;49m\u001b[43m(\u001b[49m\u001b[38;5;28;43minput\u001b[39;49m\u001b[43m(\u001b[49m\u001b[43m)\u001b[49m\u001b[43m)\u001b[49m\n",
      "\u001b[1;31mValueError\u001b[0m: invalid literal for int() with base 10: 'sdgsdg'"
     ]
    }
   ],
   "source": [
    "try:\n",
    "    # occupied memory 50 mb\n",
    "    a=int(input(\"Enter NUmber1: \"))\n",
    "    b=int(input(\"Enter NUmber2: \"))\n",
    "    division=a/b\n",
    "    print(division)\n",
    "except ValueError:\n",
    "    print(\"Only Number are allowed\")\n",
    "except ZeroDivisionError:\n",
    "    print(\"Second Number Cannot Be zero\")\n",
    "finally:\n",
    "    print(\"Finally me run ho gaya mujhe pta nhi error aaya ya nhi\")\n",
    "    \n",
    "    \n",
    "print(\"Finally me run ho gaya mujhe pta nhi error aaya ya nhi\")\n"
   ]
  },
  {
   "cell_type": "code",
   "execution_count": 49,
   "id": "9c8ef3b7",
   "metadata": {},
   "outputs": [
    {
     "name": "stdout",
     "output_type": "stream",
     "text": [
      "Less than 0\n"
     ]
    }
   ],
   "source": [
    "x=-1\n",
    "\n",
    "if x<0:\n",
    "    print(\"Less than 0\")"
   ]
  },
  {
   "cell_type": "code",
   "execution_count": 54,
   "id": "225a045d",
   "metadata": {},
   "outputs": [],
   "source": [
    "x = -1\n",
    "try:\n",
    "    if x < 0:\n",
    "      raise Exception(\"Sorry, no numbers below zero\")\n",
    "except:\n",
    "    pass"
   ]
  }
 ],
 "metadata": {
  "kernelspec": {
   "display_name": "Python 3 (ipykernel)",
   "language": "python",
   "name": "python3"
  },
  "language_info": {
   "codemirror_mode": {
    "name": "ipython",
    "version": 3
   },
   "file_extension": ".py",
   "mimetype": "text/x-python",
   "name": "python",
   "nbconvert_exporter": "python",
   "pygments_lexer": "ipython3",
   "version": "3.9.12"
  }
 },
 "nbformat": 4,
 "nbformat_minor": 5
}
