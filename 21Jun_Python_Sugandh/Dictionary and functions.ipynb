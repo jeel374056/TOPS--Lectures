{
 "cells": [
  {
   "cell_type": "code",
   "execution_count": null,
   "id": "75e1348c",
   "metadata": {},
   "outputs": [],
   "source": [
    "# dictionary\n",
    "dictionary is a collection having key value pair\n",
    "dictionary={}"
   ]
  },
  {
   "cell_type": "code",
   "execution_count": 2,
   "id": "ad2e83eb",
   "metadata": {},
   "outputs": [
    {
     "data": {
      "text/plain": [
       "set"
      ]
     },
     "execution_count": 2,
     "metadata": {},
     "output_type": "execute_result"
    }
   ],
   "source": [
    "dict1={}\n",
    "# set1={}---dictionary\n",
    "set1=set()\n",
    "type(set1)"
   ]
  },
  {
   "cell_type": "code",
   "execution_count": 10,
   "id": "02669360",
   "metadata": {},
   "outputs": [
    {
     "name": "stdout",
     "output_type": "stream",
     "text": [
      "(8, 7, 9, 78)\n"
     ]
    }
   ],
   "source": [
    "# dictionary_name={key1:value1,key2:value2,key3:value3.....}\n",
    "# list,set,dict cannot be in key\n",
    "#key can only contain dtattyep which is immutable\n",
    "#value contain anything\n",
    "#keys---replaces indexes\n",
    "dict1={1:25,84.8:89.8,False:True,\"hello\":\"python\",\"list\":[4,5,6],(4,5,6):(8,7,9,78),8:{48,45},\"dict\":{4:5}}\n",
    "print(dict1[(4,5,6)])"
   ]
  },
  {
   "cell_type": "code",
   "execution_count": 11,
   "id": "c29c3ab3",
   "metadata": {},
   "outputs": [
    {
     "name": "stdout",
     "output_type": "stream",
     "text": [
      "1\n",
      "84.8\n",
      "False\n",
      "hello\n",
      "list\n",
      "(4, 5, 6)\n",
      "8\n",
      "dict\n"
     ]
    }
   ],
   "source": [
    "dict1={1:25,84.8:89.8,False:True,\"hello\":\"python\",\"list\":[4,5,6],(4,5,6):(8,7,9,78),8:{48,45},\"dict\":{4:5}}\n",
    "for i in dict1:\n",
    "    print(i)"
   ]
  },
  {
   "cell_type": "code",
   "execution_count": 12,
   "id": "4e9029cc",
   "metadata": {},
   "outputs": [
    {
     "name": "stdout",
     "output_type": "stream",
     "text": [
      "{}\n"
     ]
    }
   ],
   "source": [
    "dict1={1:25,84.8:89.8,False:True,\"hello\":\"python\",\"list\":[4,5,6],(4,5,6):(8,7,9,78),8:{48,45},\"dict\":{4:5}}\n",
    "dict1.clear()#clears everything from the list\n",
    "print(dict1)"
   ]
  },
  {
   "cell_type": "code",
   "execution_count": 13,
   "id": "450d77ef",
   "metadata": {},
   "outputs": [
    {
     "name": "stdout",
     "output_type": "stream",
     "text": [
      "{1: 25, 84.8: 89.8, False: True, 'hello': 'python', 'list': [4, 5, 6], (4, 5, 6): (8, 7, 9, 78), 8: {48, 45}, 'dict': {4: 5}}\n"
     ]
    }
   ],
   "source": [
    "dict1={1:25,84.8:89.8,False:True,\"hello\":\"python\",\"list\":[4,5,6],(4,5,6):(8,7,9,78),8:{48,45},\"dict\":{4:5}}\n",
    "dict2=dict1.copy()#copy one dictionary into another\n",
    "print(dict2)"
   ]
  },
  {
   "cell_type": "code",
   "execution_count": 33,
   "id": "4f84af4d",
   "metadata": {},
   "outputs": [
    {
     "data": {
      "text/plain": [
       "[4, 5, 6]"
      ]
     },
     "execution_count": 33,
     "metadata": {},
     "output_type": "execute_result"
    }
   ],
   "source": [
    "dict1={1:25,84.8:89.8,False:True,\"hello\":\"python\",\"list\":[4,5,6],(4,5,6):(8,7,9,78),8:{48,45},\"dict\":{4:5}}\n",
    "dict1.get(\"list\",\"Kye\")#it return none\n",
    "#get method gives value of the key mention but if we give key which is not in the dictionary then firest it will give the \n",
    "#value we mention if we not mention value then it gives none"
   ]
  },
  {
   "cell_type": "code",
   "execution_count": 37,
   "id": "c71961f5",
   "metadata": {},
   "outputs": [
    {
     "name": "stdout",
     "output_type": "stream",
     "text": [
      "dict_items([(1, 25), (84.8, 89.8), (False, True), ('hello', 'python'), ('list', [4, 5, 6]), ((4, 5, 6), (8, 7, 9, 78)), (8, {48, 45}), ('dict', {4: 5})])\n",
      "dict_items([(1, 25), (84.8, 89.8), (False, True), ('hello', 'python'), ('list', [4, 5, 6]), ((4, 5, 6), (8, 7, 9, 78)), (8, {48, 45}), ('dict', {4: 5})])\n"
     ]
    }
   ],
   "source": [
    "dict1={1:25,84.8:89.8,False:True,\"hello\":\"python\",\"list\":[4,5,6],(4,5,6):(8,7,9,78),8:{48,45},\"dict\":{4:5}}\n",
    "print(dict1.items())#list of tuples having key and value in tuples\n",
    "a=dict1.items()\n",
    "print(a)\n",
    "# list tuple"
   ]
  },
  {
   "cell_type": "code",
   "execution_count": 38,
   "id": "a67e986f",
   "metadata": {},
   "outputs": [
    {
     "data": {
      "text/plain": [
       "dict_keys([1, 84.8, False, 'hello', 'list', (4, 5, 6), 8, 'dict'])"
      ]
     },
     "execution_count": 38,
     "metadata": {},
     "output_type": "execute_result"
    }
   ],
   "source": [
    "dict1={1:25,84.8:89.8,False:True,\"hello\":\"python\",\"list\":[4,5,6],(4,5,6):(8,7,9,78),8:{48,45},\"dict\":{4:5}}\n",
    "dict1.keys()#list of keys only"
   ]
  },
  {
   "cell_type": "code",
   "execution_count": 39,
   "id": "a32458f5",
   "metadata": {},
   "outputs": [
    {
     "data": {
      "text/plain": [
       "dict_values([25, 89.8, True, 'python', [4, 5, 6], (8, 7, 9, 78), {48, 45}, {4: 5}])"
      ]
     },
     "execution_count": 39,
     "metadata": {},
     "output_type": "execute_result"
    }
   ],
   "source": [
    "dict1={1:25,84.8:89.8,False:True,\"hello\":\"python\",\"list\":[4,5,6],(4,5,6):(8,7,9,78),8:{48,45},\"dict\":{4:5}}\n",
    "dict1.values()#gives list of values"
   ]
  },
  {
   "cell_type": "code",
   "execution_count": 43,
   "id": "4679190f",
   "metadata": {},
   "outputs": [
    {
     "name": "stdout",
     "output_type": "stream",
     "text": [
      "{1: 25, 84.8: 89.8, False: True, 'list': [4, 5, 6], (4, 5, 6): (8, 7, 9, 78), 8: {48, 45}, 'dict': {4: 5}}\n"
     ]
    }
   ],
   "source": [
    "dict1={1:25,84.8:89.8,False:True,\"hello\":\"python\",\"list\":[4,5,6],(4,5,6):(8,7,9,78),8:{48,45},\"dict\":{4:5}}\n",
    "dict1.pop(\"hello\")#removes items from the dictionary\n",
    "print(dict1)"
   ]
  },
  {
   "cell_type": "code",
   "execution_count": 47,
   "id": "9f601f9c",
   "metadata": {},
   "outputs": [
    {
     "data": {
      "text/plain": [
       "('dict', {4: 5})"
      ]
     },
     "execution_count": 47,
     "metadata": {},
     "output_type": "execute_result"
    }
   ],
   "source": [
    "dict1={1:25,84.8:89.8,False:True,\"hello\":\"python\",\"list\":[4,5,6],(4,5,6):(8,7,9,78),8:{48,45},\"dict\":{4:5}}\n",
    "dict1.popitem()"
   ]
  },
  {
   "cell_type": "code",
   "execution_count": 54,
   "id": "329f4c45",
   "metadata": {},
   "outputs": [
    {
     "name": "stdout",
     "output_type": "stream",
     "text": [
      "96\n",
      "{1: 25, 84.8: 89.8, False: True, 'hello': 'python', 'list': [4, 5, 6], (4, 5, 6): (8, 7, 9, 78), 8: {48, 45}, 'dict': {4: 5}, 'value': 96}\n"
     ]
    }
   ],
   "source": [
    "dict1={1:25,84.8:89.8,False:True,\"hello\":\"python\",\"list\":[4,5,6],(4,5,6):(8,7,9,78),8:{48,45},\"dict\":{4:5}}\n",
    "print(dict1.setdefault(\"value\",96))\n",
    "print(dict1)\n",
    "#it gives value of the key but if key not present then it will add the key with value we mention at the end of the dictionary"
   ]
  },
  {
   "cell_type": "code",
   "execution_count": 56,
   "id": "6a4919f5",
   "metadata": {},
   "outputs": [
    {
     "name": "stdout",
     "output_type": "stream",
     "text": [
      "{1: 25, 84.8: 89.8, False: True, 'hello': 'python', 'list': [4, 5, 6], (4, 5, 6): (8, 7, 9, 78), 8: {48, 45}, 'dict': {4: 5}, 108: 58}\n"
     ]
    }
   ],
   "source": [
    "dict1={1:25,84.8:89.8,False:True,\"hello\":\"python\",\"list\":[4,5,6],(4,5,6):(8,7,9,78),8:{48,45},\"dict\":{4:5}}\n",
    "dict1.update({108:58})\n",
    "print(dict1)"
   ]
  },
  {
   "cell_type": "code",
   "execution_count": null,
   "id": "640ae1fe",
   "metadata": {},
   "outputs": [],
   "source": [
    "dict1={1:25,84.8:89.8,False:True,\"hello\":\"python\",\"list\":[4,5,6],(4,5,6):(8,7,9,78),8:{48,45},\"dict\":{4:5}}\n",
    "dict1.fromkeys()"
   ]
  },
  {
   "cell_type": "code",
   "execution_count": 58,
   "id": "e5a964ba",
   "metadata": {},
   "outputs": [
    {
     "name": "stdout",
     "output_type": "stream",
     "text": [
      "{1: ('wow', 'this'), 2: ('wow', 'this'), 3: ('wow', 'this'), 4: ('wow', 'this'), 5: ('wow', 'this'), 6: ('wow', 'this')}\n"
     ]
    }
   ],
   "source": [
    "list1=[1,2,3,4,5,6]\n",
    "var1=(\"wow\",\"this\")\n",
    "dict1=dict.fromkeys(list1,var1)\n",
    "print(dict1)"
   ]
  },
  {
   "cell_type": "code",
   "execution_count": 63,
   "id": "af48ace1",
   "metadata": {},
   "outputs": [
    {
     "name": "stdout",
     "output_type": "stream",
     "text": [
      "<zip object at 0x00000278BF5F5540>\n"
     ]
    }
   ],
   "source": [
    "list1=[1,2,3,4,5,6,7,8,9]\n",
    "list2=[\"hello\",1,2,3,4,5,67,89]\n",
    "dict1=zip(list1,list2)\n",
    "print((dict1))"
   ]
  },
  {
   "cell_type": "code",
   "execution_count": 65,
   "id": "389881ac",
   "metadata": {},
   "outputs": [
    {
     "name": "stdout",
     "output_type": "stream",
     "text": [
      "1 hello\n",
      "2 1\n",
      "3 2\n",
      "4 3\n",
      "5 4\n",
      "6 5\n",
      "7 67\n",
      "8 89\n"
     ]
    }
   ],
   "source": [
    "for i,j in zip(list1,list2):\n",
    "    print(i,j)"
   ]
  },
  {
   "cell_type": "code",
   "execution_count": null,
   "id": "bcd828c6",
   "metadata": {},
   "outputs": [],
   "source": [
    "# functions:function is a reusable block of code which will be run whenever we called it\n",
    "types of functions:\n",
    "    built in function---python in built--print(),type(),input()\n",
    "    user defined----user create.... we created it\n",
    "    \n",
    "user defined functions:\n",
    "\n",
    "def function_name([parameters]):\n",
    "    block of code\n",
    "    [return]\n",
    "\n",
    "[x=]function_name([arguments])\n",
    "function_name()"
   ]
  },
  {
   "cell_type": "code",
   "execution_count": 78,
   "id": "b86efab5",
   "metadata": {},
   "outputs": [
    {
     "name": "stdout",
     "output_type": "stream",
     "text": [
      "good evening diksha\n"
     ]
    },
    {
     "ename": "NameError",
     "evalue": "name 'name' is not defined",
     "output_type": "error",
     "traceback": [
      "\u001b[1;31m---------------------------------------------------------------------------\u001b[0m",
      "\u001b[1;31mNameError\u001b[0m                                 Traceback (most recent call last)",
      "Input \u001b[1;32mIn [78]\u001b[0m, in \u001b[0;36m<cell line: 6>\u001b[1;34m()\u001b[0m\n\u001b[0;32m      3\u001b[0m     \u001b[38;5;28mprint\u001b[39m(\u001b[38;5;124m\"\u001b[39m\u001b[38;5;124mgood evening\u001b[39m\u001b[38;5;124m\"\u001b[39m,name)\n\u001b[0;32m      5\u001b[0m greeting()\n\u001b[1;32m----> 6\u001b[0m \u001b[38;5;28mprint\u001b[39m(\u001b[43mname\u001b[49m)\n",
      "\u001b[1;31mNameError\u001b[0m: name 'name' is not defined"
     ]
    }
   ],
   "source": [
    "def greeting():\n",
    "    name=\"diksha\"\n",
    "    print(\"good evening\",name)\n",
    "    \n",
    "greeting()\n",
    "print(name)"
   ]
  },
  {
   "cell_type": "code",
   "execution_count": 89,
   "id": "aab71f7a",
   "metadata": {},
   "outputs": [
    {
     "name": "stdout",
     "output_type": "stream",
     "text": [
      "[1, 5, 2, 45]\n"
     ]
    }
   ],
   "source": [
    "def addition(x,y,t):\n",
    "    sum1=x+y\n",
    "    return [1,5,2,45,]\n",
    "    \n",
    "ans=addition(98.2,20,\"hello\")\n",
    "print(ans)"
   ]
  },
  {
   "cell_type": "code",
   "execution_count": 92,
   "id": "64f93501",
   "metadata": {},
   "outputs": [
    {
     "name": "stdout",
     "output_type": "stream",
     "text": [
      "Enter Number 1: 98\n",
      "Enter Number 2: 45\n",
      "1-addition\n",
      "2-subtraction\n",
      "3-division\n",
      "4-multiplication\n",
      "Enter Your Choice: 3\n",
      "2.1777777777777776\n"
     ]
    }
   ],
   "source": [
    "var1=int(input(\"Enter Number 1: \"))\n",
    "var2=int(input(\"Enter Number 2: \"))\n",
    "print(\"1-addition\\n2-subtraction\\n3-division\\n4-multiplication\")\n",
    "choice=int(input(\"Enter Your Choice: \"))\n",
    "def addi(x,y):\n",
    "    print(x+y)\n",
    "def subt(x,y):\n",
    "    print(x-y)\n",
    "def div(x,y):\n",
    "    print(x/y)\n",
    "def multi(x,y):\n",
    "    print(x*y)\n",
    "if choice==1:\n",
    "    addi(var1,var2)\n",
    "elif choice==2:\n",
    "    subt(var1,var2)\n",
    "elif choice==3:\n",
    "    div(var1,var2)\n",
    "elif choice==4:\n",
    "    multi(var1,var2)\n",
    "else:\n",
    "    print(\"Please choose correct choice\")\n",
    "    "
   ]
  },
  {
   "cell_type": "code",
   "execution_count": 93,
   "id": "92dafc22",
   "metadata": {},
   "outputs": [
    {
     "name": "stdout",
     "output_type": "stream",
     "text": [
      "1\n",
      "2\n",
      "3\n",
      "4\n",
      "5\n",
      "6\n",
      "7\n",
      "8\n",
      "9\n"
     ]
    }
   ],
   "source": [
    "list1=[1,2,3,4,5,6,7,8,9]\n",
    "for i in :\n",
    "    print(list1[])"
   ]
  }
 ],
 "metadata": {
  "kernelspec": {
   "display_name": "Python 3 (ipykernel)",
   "language": "python",
   "name": "python3"
  },
  "language_info": {
   "codemirror_mode": {
    "name": "ipython",
    "version": 3
   },
   "file_extension": ".py",
   "mimetype": "text/x-python",
   "name": "python",
   "nbconvert_exporter": "python",
   "pygments_lexer": "ipython3",
   "version": "3.9.12"
  }
 },
 "nbformat": 4,
 "nbformat_minor": 5
}
