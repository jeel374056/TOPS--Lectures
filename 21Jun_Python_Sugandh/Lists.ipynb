{
 "cells": [
  {
   "cell_type": "code",
   "execution_count": null,
   "id": "97e343ca",
   "metadata": {},
   "outputs": [],
   "source": [
    "list----collections of anything\n",
    "list is acollection of characters of same as well as different datatypes\n",
    "list=[value1,value2,value3....]\n",
    "int,float,string,range(),list,tuple,set,dictionary\n",
    "list is mutable(changeable)----immutable\n",
    "list is ordered [index no---0[starting] -1[ending]]\n",
    "list is allow duplicates[index no different]"
   ]
  },
  {
   "cell_type": "code",
   "execution_count": 14,
   "id": "aaf684ad",
   "metadata": {},
   "outputs": [
    {
     "name": "stdout",
     "output_type": "stream",
     "text": [
      "[58, 94.2, True, 'Python', [5, 6, 9, 8], (5, 4, 5), {9, 2}, {'key': 'value'}]\n",
      "t\n",
      "8\n",
      "[True, 'Python', [5, 6, 9, 8]]\n",
      "{'key': 'value'}\n",
      "[54, 87, 8, 989, 8, 89, 89, 99, 79, 89, 79, 789]\n",
      "[54, 87, 'hello', 58, 87.9, 89, 89, 99, 79, 89, 79, 789]\n"
     ]
    }
   ],
   "source": [
    "str1=\"ffjksjf\"\n",
    "list1=[58,94.2,True,\"Python\",[5,6,9,8],(5,4,5),{2,9},{\"key\":\"value\"}]\n",
    "# 0-54\n",
    "# 1-94.2\n",
    "# 2-True\n",
    "# 3-\"Python\"\n",
    "# 4-[5,6,8,8]\n",
    "# 5-(5,4,5)\n",
    "# 6-{2,9}\n",
    "# 7-{\"key\":\"value\"}\n",
    "print(list1)\n",
    "print(list1[3][2])\n",
    "print(list1[4][3])\n",
    "print(list1[2:5])\n",
    "print(list1[-1])\n",
    "list2=[54,87,8,989,8,89,89,99,79,89,79,789]\n",
    "print(list2)\n",
    "list2[2:5]=[\"hello\",58,87.9]\n",
    "print(list2)"
   ]
  },
  {
   "cell_type": "code",
   "execution_count": 15,
   "id": "5c2d15ce",
   "metadata": {},
   "outputs": [
    {
     "name": "stdout",
     "output_type": "stream",
     "text": [
      "<class 'str'>\n"
     ]
    }
   ],
   "source": [
    "str1=\"a\"\n",
    "print(type(str1))"
   ]
  },
  {
   "cell_type": "code",
   "execution_count": null,
   "id": "96f6750a",
   "metadata": {},
   "outputs": [],
   "source": [
    "listname.methdoname(value/element)"
   ]
  },
  {
   "cell_type": "code",
   "execution_count": 24,
   "id": "1ec2f405",
   "metadata": {},
   "outputs": [
    {
     "name": "stdout",
     "output_type": "stream",
     "text": [
      "[4, 5, 9]\n",
      "[4, 5, 9, 45]\n",
      "[4, 5, 9, 45, [4, 5, 9, 8, 7]]\n",
      "[4, 5, 9, 45, [4, 5, 9, 8, 7], 'hello']\n"
     ]
    }
   ],
   "source": [
    "# append(element)-----add element at last of the list\n",
    "list4=[4,5,9]\n",
    "print(list4)\n",
    "list4.append(45)\n",
    "print(list4)\n",
    "list4.append([4,5,9,8,7])\n",
    "print(list4)\n",
    "list4.append(\"hello\")\n",
    "print(list4)"
   ]
  },
  {
   "cell_type": "code",
   "execution_count": 22,
   "id": "31c4d1a7",
   "metadata": {},
   "outputs": [
    {
     "name": "stdout",
     "output_type": "stream",
     "text": [
      "[98, 45, 78]\n",
      "[98, 45, 78, 4, 5, 9, 8, 7]\n",
      "[98, 45, 78, 4, 5, 9, 8, 7, 'h', 'e', 'l', 'l', 'o']\n"
     ]
    }
   ],
   "source": [
    "# extend(element(iterable,sequence))----add element at last\n",
    "list5=[98,45,78]\n",
    "print(list5)\n",
    "list5.extend([4,5,9,8,7])\n",
    "print(list5)\n",
    "list5.extend(\"hello\")\n",
    "print(list5)"
   ]
  },
  {
   "cell_type": "code",
   "execution_count": 27,
   "id": "26447e13",
   "metadata": {},
   "outputs": [
    {
     "name": "stdout",
     "output_type": "stream",
     "text": [
      "['wow', 48, 'python']\n",
      "['wow', 48, [4, 8, 9], 'python']\n",
      "['wow', 48, [4, 8, 9], 'learning', 'python']\n"
     ]
    }
   ],
   "source": [
    "#insert(index,element)----add element to the index we have given\n",
    "list6=[\"wow\",48,\"python\"]\n",
    "print(list6)\n",
    "list6.insert(2,[4,8,9])\n",
    "print(list6)\n",
    "list6.insert(3,\"learning\")\n",
    "print(list6)"
   ]
  },
  {
   "cell_type": "code",
   "execution_count": 32,
   "id": "7b5306e6",
   "metadata": {},
   "outputs": [
    {
     "name": "stdout",
     "output_type": "stream",
     "text": [
      "[4, 5, 6, 7, 8, 9]\n",
      "[4, 5, 6, 8, 9]\n"
     ]
    }
   ],
   "source": [
    "#pop([index])----removes element from last if we not mention index or remove element from index if we mention index \n",
    "list6=[4,5,6,7,8,9]\n",
    "print(list6)\n",
    "list6.pop(3)\n",
    "print(list6)"
   ]
  },
  {
   "cell_type": "code",
   "execution_count": null,
   "id": "44af175b",
   "metadata": {},
   "outputs": [],
   "source": [
    "in pop() if we give index which is not in list then it gives indexerror out of range"
   ]
  },
  {
   "cell_type": "code",
   "execution_count": 36,
   "id": "666026da",
   "metadata": {},
   "outputs": [
    {
     "name": "stdout",
     "output_type": "stream",
     "text": [
      "[47, 89, 36, 54, 58, 43, 36]\n",
      "[47, 89, 54, 58, 43, 36]\n"
     ]
    }
   ],
   "source": [
    "# remove(value)----removes value we mentioned\n",
    "list7=[47,89,36,54,58,43,36]\n",
    "print(list7)\n",
    "list7.remove(36)\n",
    "print(list7)"
   ]
  },
  {
   "cell_type": "code",
   "execution_count": null,
   "id": "d3c2fc8f",
   "metadata": {},
   "outputs": [],
   "source": [
    "in remove() if we give wrong value then it will raise valueeror"
   ]
  },
  {
   "cell_type": "code",
   "execution_count": 43,
   "id": "7eea43c8",
   "metadata": {},
   "outputs": [
    {
     "name": "stdout",
     "output_type": "stream",
     "text": [
      "[44, 55, 66, 4, 5, 46, 58, 47, 44, 55, 98, 78, 98, 45, 47, 55, 55]\n"
     ]
    },
    {
     "data": {
      "text/plain": [
       "4"
      ]
     },
     "execution_count": 43,
     "metadata": {},
     "output_type": "execute_result"
    }
   ],
   "source": [
    "# count(value)----give the count of the number present in the list\n",
    "list8=[44,55,66,4,5,46,58,47,44,55,98,78,98,45,47,55,55]\n",
    "print(list8)\n",
    "list8.count(55)"
   ]
  },
  {
   "cell_type": "code",
   "execution_count": 45,
   "id": "9fa639bb",
   "metadata": {},
   "outputs": [
    {
     "name": "stdout",
     "output_type": "stream",
     "text": [
      "[44, 55, 66, 4, 5, 46, 58, 47, 44, 55, 98, 78, 98, 45, 47, 55, 55]\n"
     ]
    },
    {
     "ename": "ValueError",
     "evalue": "108 is not in list",
     "output_type": "error",
     "traceback": [
      "\u001b[1;31m---------------------------------------------------------------------------\u001b[0m",
      "\u001b[1;31mValueError\u001b[0m                                Traceback (most recent call last)",
      "Input \u001b[1;32mIn [45]\u001b[0m, in \u001b[0;36m<cell line: 4>\u001b[1;34m()\u001b[0m\n\u001b[0;32m      2\u001b[0m list8\u001b[38;5;241m=\u001b[39m[\u001b[38;5;241m44\u001b[39m,\u001b[38;5;241m55\u001b[39m,\u001b[38;5;241m66\u001b[39m,\u001b[38;5;241m4\u001b[39m,\u001b[38;5;241m5\u001b[39m,\u001b[38;5;241m46\u001b[39m,\u001b[38;5;241m58\u001b[39m,\u001b[38;5;241m47\u001b[39m,\u001b[38;5;241m44\u001b[39m,\u001b[38;5;241m55\u001b[39m,\u001b[38;5;241m98\u001b[39m,\u001b[38;5;241m78\u001b[39m,\u001b[38;5;241m98\u001b[39m,\u001b[38;5;241m45\u001b[39m,\u001b[38;5;241m47\u001b[39m,\u001b[38;5;241m55\u001b[39m,\u001b[38;5;241m55\u001b[39m]\n\u001b[0;32m      3\u001b[0m \u001b[38;5;28mprint\u001b[39m(list8)\n\u001b[1;32m----> 4\u001b[0m \u001b[43mlist8\u001b[49m\u001b[38;5;241;43m.\u001b[39;49m\u001b[43mindex\u001b[49m\u001b[43m(\u001b[49m\u001b[38;5;241;43m108\u001b[39;49m\u001b[43m)\u001b[49m\n",
      "\u001b[1;31mValueError\u001b[0m: 108 is not in list"
     ]
    }
   ],
   "source": [
    "#index(value)----index of the value\n",
    "list8=[44,55,66,4,5,46,58,47,44,55,98,78,98,45,47,55,55]\n",
    "print(list8)\n",
    "list8.index(108)\n",
    "#if we give value not inside the list then it gives error"
   ]
  },
  {
   "cell_type": "code",
   "execution_count": 74,
   "id": "8ca981bf",
   "metadata": {},
   "outputs": [
    {
     "name": "stdout",
     "output_type": "stream",
     "text": [
      "[4, 58, 94, 87, 25, 45, 15, 45, 87, 89, 84]\n",
      "[94, 89, 87, 87, 84, 58, 45, 45, 25, 15, 4]\n"
     ]
    }
   ],
   "source": [
    "# sort()----sort(ascending or descending )\n",
    "list1=[4,58,94,87,25,45,15,45,87,89,84]\n",
    "print(list1)\n",
    "list1.sort(reverse=True)#by default it will sort in ascending order\n",
    "print(list1)"
   ]
  },
  {
   "cell_type": "code",
   "execution_count": 52,
   "id": "fe7cd2ca",
   "metadata": {},
   "outputs": [
    {
     "name": "stdout",
     "output_type": "stream",
     "text": [
      "['apple', 'wow', 'Hello', 'xaz', 'yellow', 'Ant', '+hii']\n",
      "['+hii', 'Ant', 'Hello', 'apple', 'wow', 'xaz', 'yellow']\n"
     ]
    }
   ],
   "source": [
    "list2=[\"apple\",\"wow\",\"Hello\",\"xaz\",\"yellow\",\"Ant\",\"+hii\"]\n",
    "print(list2)\n",
    "list2.sort()\n",
    "print(list2)"
   ]
  },
  {
   "cell_type": "code",
   "execution_count": 54,
   "id": "94dd1c26",
   "metadata": {},
   "outputs": [
    {
     "name": "stdout",
     "output_type": "stream",
     "text": [
      "[4, 58, 94, 87, 25, 45, 15, 45, 87, 89, 84]\n",
      "[84, 89, 87, 45, 15, 45, 25, 87, 94, 58, 4]\n"
     ]
    }
   ],
   "source": [
    "list1=[4,58,94,87,25,45,15,45,87,89,84]\n",
    "print(list1)\n",
    "list1.reverse()#it will just reverse the list\n",
    "print(list1)"
   ]
  },
  {
   "cell_type": "code",
   "execution_count": 58,
   "id": "1462d4bc",
   "metadata": {},
   "outputs": [
    {
     "name": "stdout",
     "output_type": "stream",
     "text": [
      "[1, 2, 3, 4, 5, 6, 7, 8, 9]\n",
      "[1, 2, 3, 4, 5, 6, 7, 8, 9]\n",
      "[1, 2, 3, 89, 5, 6, 7, 8, 9]\n",
      "[1, 2, 3, 89, 5, 6, 7, 8, 9]\n"
     ]
    }
   ],
   "source": [
    "# copy()--copy one list to another\n",
    "list2=[1,2,3,4,5,6,7,8,9]\n",
    "print(list2)\n",
    "list3=list2\n",
    "print(list3)\n",
    "list2[3]=89\n",
    "print(list2)\n",
    "print(list3)"
   ]
  },
  {
   "cell_type": "code",
   "execution_count": 59,
   "id": "259c78a3",
   "metadata": {},
   "outputs": [
    {
     "name": "stdout",
     "output_type": "stream",
     "text": [
      "[1, 2, 3, 4, 5, 6, 7, 8, 9]\n",
      "[1, 2, 3, 4, 5, 6, 7, 8, 9]\n",
      "[1, 2, 3, 89, 5, 6, 7, 8, 9]\n",
      "[1, 2, 3, 4, 5, 6, 7, 8, 9]\n"
     ]
    }
   ],
   "source": [
    "list2=[1,2,3,4,5,6,7,8,9]\n",
    "print(list2)\n",
    "list3=list2.copy()\n",
    "print(list3)\n",
    "list2[3]=89\n",
    "print(list2)\n",
    "print(list3)"
   ]
  },
  {
   "cell_type": "code",
   "execution_count": 61,
   "id": "0d81af8d",
   "metadata": {},
   "outputs": [
    {
     "name": "stdout",
     "output_type": "stream",
     "text": [
      "[1, 2, 3, 4, 5, 6, 7, 8, 9]\n",
      "[]\n"
     ]
    }
   ],
   "source": [
    "# clear()----clear everything from the list\n",
    "list2=[1,2,3,4,5,6,7,8,9]\n",
    "print(list2)\n",
    "list2.clear()\n",
    "print(list2)"
   ]
  },
  {
   "cell_type": "code",
   "execution_count": null,
   "id": "bf8adb03",
   "metadata": {},
   "outputs": [],
   "source": [
    "# Function of list\n",
    "len()--gives the length of the list\n",
    "min()---minimum value from the list\n",
    "max()--maximum value from the list\n",
    "list()---changes other datatypes to list"
   ]
  },
  {
   "cell_type": "code",
   "execution_count": null,
   "id": "835609f3",
   "metadata": {},
   "outputs": [],
   "source": [
    "listname.methodname()\n",
    "functions(list)"
   ]
  },
  {
   "cell_type": "code",
   "execution_count": 66,
   "id": "224b8e20",
   "metadata": {},
   "outputs": [
    {
     "name": "stdout",
     "output_type": "stream",
     "text": [
      "[4, 65, 7, 8, 97, 94, 6, 8]\n"
     ]
    },
    {
     "data": {
      "text/plain": [
       "4"
      ]
     },
     "execution_count": 66,
     "metadata": {},
     "output_type": "execute_result"
    }
   ],
   "source": [
    "list1=[4,65,7,8,97,94,6,8]\n",
    "print(list1)\n",
    "# len(list1) \n",
    "min(list1)"
   ]
  },
  {
   "cell_type": "code",
   "execution_count": 67,
   "id": "e0695213",
   "metadata": {},
   "outputs": [
    {
     "data": {
      "text/plain": [
       "['h', 'e', 'l', 'l', 'o']"
      ]
     },
     "execution_count": 67,
     "metadata": {},
     "output_type": "execute_result"
    }
   ],
   "source": [
    "str1=\"hello\"\n",
    "list(str1)\n"
   ]
  },
  {
   "cell_type": "code",
   "execution_count": 72,
   "id": "00343dfe",
   "metadata": {},
   "outputs": [
    {
     "ename": "TypeError",
     "evalue": "'<' not supported between instances of 'int' and 'str'",
     "output_type": "error",
     "traceback": [
      "\u001b[1;31m---------------------------------------------------------------------------\u001b[0m",
      "\u001b[1;31mTypeError\u001b[0m                                 Traceback (most recent call last)",
      "Input \u001b[1;32mIn [72]\u001b[0m, in \u001b[0;36m<cell line: 2>\u001b[1;34m()\u001b[0m\n\u001b[0;32m      1\u001b[0m list8\u001b[38;5;241m=\u001b[39m[\u001b[38;5;124m\"\u001b[39m\u001b[38;5;124mhello\u001b[39m\u001b[38;5;124m\"\u001b[39m,\u001b[38;5;124m\"\u001b[39m\u001b[38;5;124mwow\u001b[39m\u001b[38;5;124m\"\u001b[39m,\u001b[38;5;124m\"\u001b[39m\u001b[38;5;124mappleworld\u001b[39m\u001b[38;5;124m\"\u001b[39m,\u001b[38;5;124m\"\u001b[39m\u001b[38;5;124m+vfd\u001b[39m\u001b[38;5;124m\"\u001b[39m,\u001b[38;5;241m45\u001b[39m,\u001b[38;5;241m747\u001b[39m,\u001b[38;5;241m89\u001b[39m,\u001b[38;5;241m7\u001b[39m]\n\u001b[1;32m----> 2\u001b[0m \u001b[38;5;28;43mmin\u001b[39;49m\u001b[43m(\u001b[49m\u001b[43mlist8\u001b[49m\u001b[43m)\u001b[49m\n",
      "\u001b[1;31mTypeError\u001b[0m: '<' not supported between instances of 'int' and 'str'"
     ]
    }
   ],
   "source": [
    "list8=[\"hello\",\"wow\",\"appleworld\",\"+vfd\"]\n",
    "min(list8)"
   ]
  }
 ],
 "metadata": {
  "kernelspec": {
   "display_name": "Python 3 (ipykernel)",
   "language": "python",
   "name": "python3"
  },
  "language_info": {
   "codemirror_mode": {
    "name": "ipython",
    "version": 3
   },
   "file_extension": ".py",
   "mimetype": "text/x-python",
   "name": "python",
   "nbconvert_exporter": "python",
   "pygments_lexer": "ipython3",
   "version": "3.9.12"
  }
 },
 "nbformat": 4,
 "nbformat_minor": 5
}
