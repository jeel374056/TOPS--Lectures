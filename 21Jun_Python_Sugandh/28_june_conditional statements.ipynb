{
 "cells": [
  {
   "cell_type": "code",
   "execution_count": 6,
   "id": "2f1bb697",
   "metadata": {},
   "outputs": [
    {
     "name": "stdout",
     "output_type": "stream",
     "text": [
      "2.0\n",
      "1\n",
      "3\n"
     ]
    }
   ],
   "source": [
    "print(10/5)\n",
    "print(10%3)\n",
    "print(101//33)"
   ]
  },
  {
   "cell_type": "code",
   "execution_count": 8,
   "id": "a7d462fa",
   "metadata": {},
   "outputs": [
    {
     "name": "stdout",
     "output_type": "stream",
     "text": [
      "False\n"
     ]
    }
   ],
   "source": [
    "# and operators then both condition will be true then the answer will be true\n",
    "#if any one condition is false then our answer will be false\n",
    "n1=10\n",
    "n2=45\n",
    "print(n1<5 and n2<60)#-----t t"
   ]
  },
  {
   "cell_type": "code",
   "execution_count": 10,
   "id": "289db711",
   "metadata": {},
   "outputs": [
    {
     "name": "stdout",
     "output_type": "stream",
     "text": [
      "False\n"
     ]
    }
   ],
   "source": [
    "#or operator will true if any one condition will be true or retuen false \n",
    "# if both the condition is false\n",
    "n1=10\n",
    "n2=45\n",
    "print(n1<5 or n2<30)#----t f"
   ]
  },
  {
   "cell_type": "code",
   "execution_count": 12,
   "id": "bdf7afdd",
   "metadata": {},
   "outputs": [
    {
     "name": "stdout",
     "output_type": "stream",
     "text": [
      "False\n"
     ]
    }
   ],
   "source": [
    "#not will return true if condition is false or if condition is true then return false\n",
    "print(not(9<50))"
   ]
  },
  {
   "cell_type": "code",
   "execution_count": 16,
   "id": "ea49ccf8",
   "metadata": {},
   "outputs": [
    {
     "name": "stdout",
     "output_type": "stream",
     "text": [
      "False\n"
     ]
    }
   ],
   "source": [
    "a=10\n",
    "b=10\n",
    "print(a is not b)"
   ]
  },
  {
   "cell_type": "code",
   "execution_count": 19,
   "id": "12622b59",
   "metadata": {},
   "outputs": [
    {
     "name": "stdout",
     "output_type": "stream",
     "text": [
      "False\n"
     ]
    }
   ],
   "source": [
    "str1=\"Deep\"\n",
    "print(\"e\" not in str1)"
   ]
  },
  {
   "cell_type": "code",
   "execution_count": null,
   "id": "8dccb46c",
   "metadata": {},
   "outputs": [],
   "source": [
    "# conditional statements:---helps us to check conditions\n",
    "#if statement\n",
    "#if--else--statement\n",
    "#if ---elif--else.. ladder if else\n",
    "#if \n",
    "#     if--else\n",
    "# else"
   ]
  },
  {
   "cell_type": "code",
   "execution_count": null,
   "id": "1316e75e",
   "metadata": {},
   "outputs": [],
   "source": [
    "Syntax:\n",
    "    \n",
    "if condition:\n",
    "    body"
   ]
  },
  {
   "cell_type": "code",
   "execution_count": 25,
   "id": "0ca1eb0c",
   "metadata": {},
   "outputs": [
    {
     "name": "stdout",
     "output_type": "stream",
     "text": [
      "A is greater than 20\n"
     ]
    }
   ],
   "source": [
    "a=10\n",
    "if a<20:\n",
    "    print(\"A is greater than 20\")"
   ]
  },
  {
   "cell_type": "code",
   "execution_count": null,
   "id": "1976bd51",
   "metadata": {},
   "outputs": [],
   "source": [
    "syntax:\n",
    "\n",
    "if condition:----true\n",
    "    body  part1\n",
    "else:---false\n",
    "    body  part2"
   ]
  },
  {
   "cell_type": "code",
   "execution_count": 42,
   "id": "a5d6c4d7",
   "metadata": {},
   "outputs": [],
   "source": [
    "a=10\n",
    "if a>20:\n",
    "    print(\"A is greater than 20\")\n",
    "else:\n",
    "    print(\"A is not greater\")\n"
   ]
  },
  {
   "cell_type": "code",
   "execution_count": 48,
   "id": "eefec1d8",
   "metadata": {},
   "outputs": [
    {
     "name": "stdout",
     "output_type": "stream",
     "text": [
      "Enter Number: 0\n",
      "Zero\n"
     ]
    }
   ],
   "source": [
    "#positive negative or zero\n",
    "a=int(input(\"Enter Number: \"))\n",
    "if a>0:\n",
    "    print(\"positive\")\n",
    "elif a<0:\n",
    "    print(\"negative\")\n",
    "elif a==0:\n",
    "    print(\"Zero\")"
   ]
  },
  {
   "cell_type": "code",
   "execution_count": null,
   "id": "9c6993c8",
   "metadata": {},
   "outputs": [],
   "source": [
    "# nested if else:\n",
    "if condition:\n",
    "    if condition:\n",
    "        body\n",
    "    else:\n",
    "        body\n",
    "else:\n",
    "    body\n",
    "    "
   ]
  },
  {
   "cell_type": "code",
   "execution_count": 51,
   "id": "30185771",
   "metadata": {},
   "outputs": [
    {
     "name": "stdout",
     "output_type": "stream",
     "text": [
      "Greater than 20\n"
     ]
    }
   ],
   "source": [
    "a=35\n",
    "if a>15:\n",
    "    if a>20:\n",
    "        print(\"Greater than 20\")\n",
    "    else:\n",
    "        print(\"Less than 20\")\n",
    "else:\n",
    "    print(\"Less than 15\")"
   ]
  },
  {
   "cell_type": "code",
   "execution_count": 1,
   "id": "8baf82de",
   "metadata": {},
   "outputs": [
    {
     "name": "stdout",
     "output_type": "stream",
     "text": [
      "hello\n",
      "hello\n",
      "hello\n",
      "hello\n",
      "hello\n"
     ]
    }
   ],
   "source": [
    "print(\"hello\")\n",
    "print(\"hello\")\n",
    "print(\"hello\")\n",
    "print(\"hello\")\n",
    "print(\"hello\")"
   ]
  },
  {
   "cell_type": "code",
   "execution_count": null,
   "id": "0fdb3dfd",
   "metadata": {},
   "outputs": [],
   "source": [
    "pattern \n",
    "*\n",
    "**\n",
    "***\n",
    "****\n",
    "*****"
   ]
  },
  {
   "cell_type": "code",
   "execution_count": 5,
   "id": "e1806d33",
   "metadata": {},
   "outputs": [
    {
     "name": "stdout",
     "output_type": "stream",
     "text": [
      "*\n",
      "**\n",
      "***\n",
      "****\n",
      "*****\n"
     ]
    }
   ],
   "source": [
    "for i in range(5):# 0 1 2 3 4\n",
    "    for j in range(i+1):\n",
    "        print(\"*\",end=\"\")\n",
    "    print()"
   ]
  },
  {
   "cell_type": "code",
   "execution_count": 15,
   "id": "477674ef",
   "metadata": {},
   "outputs": [
    {
     "name": "stdout",
     "output_type": "stream",
     "text": [
      " *\n",
      " * *\n",
      " * * *\n",
      " * * * *\n",
      " * * * * *\n"
     ]
    }
   ],
   "source": [
    "for i in range(5):\n",
    "    print((i+1)*\" *\")"
   ]
  }
 ],
 "metadata": {
  "kernelspec": {
   "display_name": "Python 3 (ipykernel)",
   "language": "python",
   "name": "python3"
  },
  "language_info": {
   "codemirror_mode": {
    "name": "ipython",
    "version": 3
   },
   "file_extension": ".py",
   "mimetype": "text/x-python",
   "name": "python",
   "nbconvert_exporter": "python",
   "pygments_lexer": "ipython3",
   "version": "3.9.12"
  }
 },
 "nbformat": 4,
 "nbformat_minor": 5
}
