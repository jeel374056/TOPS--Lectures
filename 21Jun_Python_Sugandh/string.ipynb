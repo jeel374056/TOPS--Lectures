{
 "cells": [
  {
   "cell_type": "code",
   "execution_count": null,
   "id": "d28541c5",
   "metadata": {},
   "outputs": [],
   "source": [
    "string---is a datatype which is collection of character or a single character also\n",
    "' '   \"\"  \"\"\"\"\"\"  ''''''"
   ]
  },
  {
   "cell_type": "code",
   "execution_count": 2,
   "id": "5ff927ad",
   "metadata": {},
   "outputs": [
    {
     "name": "stdout",
     "output_type": "stream",
     "text": [
      "Python is a programming language\n",
      "hello\n"
     ]
    }
   ],
   "source": [
    "str1=\"a\"\n",
    "str2=\"Python is a programming language\"\n",
    "print(str2)\n",
    "# string is immutable---changes not allowed\n",
    "str2=\"hello\"\n",
    "print(str2)"
   ]
  },
  {
   "cell_type": "code",
   "execution_count": null,
   "id": "caa0bc57",
   "metadata": {},
   "outputs": [],
   "source": [
    "string values identify by indexes---0\n",
    "\n",
    "str3=\"python\""
   ]
  },
  {
   "cell_type": "code",
   "execution_count": 5,
   "id": "2a9ba0ac",
   "metadata": {},
   "outputs": [
    {
     "name": "stdout",
     "output_type": "stream",
     "text": [
      "wow its a nice 'string\n"
     ]
    }
   ],
   "source": [
    "a=\"wow its a nice\" 'string\n",
    "print(a)"
   ]
  },
  {
   "cell_type": "code",
   "execution_count": 6,
   "id": "9ae9af13",
   "metadata": {},
   "outputs": [
    {
     "name": "stdout",
     "output_type": "stream",
     "text": [
      "jkfjf sjkfsdklf ' \" jvvjkdvj nnvjvj\"'\n"
     ]
    }
   ],
   "source": [
    "str1=\"\"\"jkfjf sjkfsdklf ' \" jvvjkdvj nnvjvj\"'\"\"\"\n",
    "print(str1)"
   ]
  },
  {
   "cell_type": "code",
   "execution_count": 9,
   "id": "d48bd9ad",
   "metadata": {},
   "outputs": [
    {
     "name": "stdout",
     "output_type": "stream",
     "text": [
      "this is m'y string\n"
     ]
    }
   ],
   "source": [
    "str1='this is m\\'y string'\n",
    "print(str1)\n"
   ]
  },
  {
   "cell_type": "code",
   "execution_count": 18,
   "id": "c52c38bd",
   "metadata": {},
   "outputs": [
    {
     "name": "stdout",
     "output_type": "stream",
     "text": [
      "Helloworld\n",
      "hello + world ////464645/64634&^*&^^&%$^%$^(*&())\n"
     ]
    }
   ],
   "source": [
    "str1=\"Hello\"\n",
    "str2=\"world\"\n",
    "str3=\"hello + world ////464645/64634&^*&^^&%$^%$^(*&())\"\n",
    "print(str1+str2)\n",
    "print(str3)"
   ]
  },
  {
   "cell_type": "code",
   "execution_count": 32,
   "id": "a9cc5cc4",
   "metadata": {},
   "outputs": [
    {
     "name": "stdout",
     "output_type": "stream",
     "text": [
      "sdt\n"
     ]
    }
   ],
   "source": [
    "str5=\"hello students i am learning Python It's a very easy language\"\n",
    "print(str5[6:14:3])\n",
    "# negative indexing"
   ]
  },
  {
   "cell_type": "code",
   "execution_count": null,
   "id": "02337bdc",
   "metadata": {},
   "outputs": [],
   "source": [
    "string methods"
   ]
  },
  {
   "cell_type": "code",
   "execution_count": 34,
   "id": "1e9dfc08",
   "metadata": {},
   "outputs": [
    {
     "name": "stdout",
     "output_type": "stream",
     "text": [
      "hello \n",
      "ents \n"
     ]
    }
   ],
   "source": [
    "print(str5[:6])\n",
    "print(str5[10:15:1])"
   ]
  },
  {
   "cell_type": "code",
   "execution_count": null,
   "id": "46951d57",
   "metadata": {},
   "outputs": [],
   "source": [
    "-6 -5 -4 -3 -2 -1  0 1 2 3 4 5 6 7 8 9\n",
    "starting point by default 0\n",
    "if there is no ending point then it will go till end\n",
    "if we not mention then by default +   1\n",
    "+   left to right\n",
    "-   right to left"
   ]
  },
  {
   "cell_type": "code",
   "execution_count": 40,
   "id": "15461ba1",
   "metadata": {},
   "outputs": [
    {
     "name": "stdout",
     "output_type": "stream",
     "text": [
      "54\n",
      "567\n"
     ]
    }
   ],
   "source": [
    "str1=\"0123456789\"\n",
    "print(str1[5:3:-1])\n",
    "print(str1[-5:-2])\n",
    "print(start:stop:step)\n",
    "start -last reverse counting\n",
    "stop - reverse counting\n",
    "step:  --direction right to left\n",
    "    "
   ]
  },
  {
   "cell_type": "code",
   "execution_count": 41,
   "id": "ee457e18",
   "metadata": {},
   "outputs": [
    {
     "name": "stdout",
     "output_type": "stream",
     "text": [
      "fghijk\n"
     ]
    }
   ],
   "source": [
    "str1=\"abcdefghijklmnopqrstuvwxyz\"\n",
    "print(str1[-21:-15])"
   ]
  },
  {
   "cell_type": "code",
   "execution_count": 48,
   "id": "d9ff68e0",
   "metadata": {},
   "outputs": [
    {
     "name": "stdout",
     "output_type": "stream",
     "text": [
      "olleh\n",
      "olleh\n"
     ]
    }
   ],
   "source": [
    "str5=\"hello\"\n",
    "print(str5[-1:-6:-1])\n",
    "print(str5[::-1])\n",
    "# direction positive by default 0 ending end of the string\n",
    "# direction negative by default -1 ending start of the string"
   ]
  },
  {
   "cell_type": "code",
   "execution_count": 55,
   "id": "f97a832f",
   "metadata": {},
   "outputs": [
    {
     "name": "stdout",
     "output_type": "stream",
     "text": [
      "dfgdfgdg\n",
      "fdgdfgfdg\n",
      "fdgfdgfdgdg\n",
      "dgfdgfdg\n"
     ]
    }
   ],
   "source": [
    "# comment---fjkdfsdf\n",
    "\"\"\"fsfsf\n",
    "dfsdf\n",
    "sdf\n",
    "sdfsdfsd\n",
    "f\"\"\"\n",
    "\n",
    "\n",
    "str7=\"\"\"dfgdfgdg\n",
    "fdgdfgfdg\n",
    "fdgfdgfdgdg\n",
    "dgfdgfdg\"\"\"\n",
    "\n",
    "print(str7)"
   ]
  }
 ],
 "metadata": {
  "kernelspec": {
   "display_name": "Python 3 (ipykernel)",
   "language": "python",
   "name": "python3"
  },
  "language_info": {
   "codemirror_mode": {
    "name": "ipython",
    "version": 3
   },
   "file_extension": ".py",
   "mimetype": "text/x-python",
   "name": "python",
   "nbconvert_exporter": "python",
   "pygments_lexer": "ipython3",
   "version": "3.9.12"
  }
 },
 "nbformat": 4,
 "nbformat_minor": 5
}
