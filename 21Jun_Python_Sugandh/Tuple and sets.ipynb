{
 "cells": [
  {
   "cell_type": "code",
   "execution_count": null,
   "id": "0ca5d635",
   "metadata": {},
   "outputs": [],
   "source": [
    "list is a collection \n",
    "mutable--changes allowed\n",
    "list is ordered index no for reference starting from 0 -1 for ending\n",
    "dupliactes allowed"
   ]
  },
  {
   "cell_type": "code",
   "execution_count": null,
   "id": "bb5b28b8",
   "metadata": {},
   "outputs": [],
   "source": [
    "# Tuple----\n",
    "# tuple is also a collection of elements of similar or different datatypes\n",
    "# tuple is also indexed ordered\n",
    "# tuples also allowed duplicates\n",
    "# tuple is immutable--changes not allowed\n",
    "# tuple is created using () while list is craeted using square brackets []"
   ]
  },
  {
   "cell_type": "code",
   "execution_count": null,
   "id": "0cd2dd7c",
   "metadata": {},
   "outputs": [],
   "source": [
    "tup1=(54,78.2,False,\"Tuple\",[4,5,6,8,7,89],(5,4,8,7),54,54,54,54,\"gfgffdg\")\n",
    "print(tup1)\n",
    "\n",
    "print(tup1[3:8])\n",
    "print(type(tup1))"
   ]
  },
  {
   "cell_type": "code",
   "execution_count": null,
   "id": "f99faa0e",
   "metadata": {},
   "outputs": [],
   "source": [
    "#we cannot create tupe with single element directly we have to put comma after the element\n",
    "tup2=(58.9,54,\"false\")\n",
    "print(type(tup2))"
   ]
  },
  {
   "cell_type": "code",
   "execution_count": null,
   "id": "510aa606",
   "metadata": {},
   "outputs": [],
   "source": [
    "# list1=list2\n",
    "# list2=list1.copy()"
   ]
  },
  {
   "cell_type": "code",
   "execution_count": null,
   "id": "7cb4f68e",
   "metadata": {},
   "outputs": [],
   "source": [
    "tup1=[23,45,69]\n",
    "tup2=tup1\n",
    "# tup1[2]=39\n",
    "print(tup1)\n",
    "print(tup2)\n",
    "# tup1=(54,78,98,97,6,)\n",
    "# print(tup1)\n",
    "# print(tup2)\n",
    "# tup1[0]=39 immutable"
   ]
  },
  {
   "cell_type": "code",
   "execution_count": null,
   "id": "9ffeb45f",
   "metadata": {},
   "outputs": [],
   "source": [
    "# count(element)---counts the element inside the tuple\n",
    "tup3=(45,\"wow\",\"hello\",\"Learnvern\",\"Python\",4854,45,78,95,84,75,89,87,86,45,465)\n",
    "print(tup3.count(1465))"
   ]
  },
  {
   "cell_type": "code",
   "execution_count": null,
   "id": "0d3cb820",
   "metadata": {},
   "outputs": [],
   "source": [
    "#index(value/element)----first index of the element we mention inside the tuple\n",
    "tup3=(45,\"wow\",\"hello\",\"Learnvern\",\"Python\",4854,45,78,95,84,75,89,87,86,45,465)\n",
    "# print(tup3.index(98))\n",
    "print(len(tup3))"
   ]
  },
  {
   "cell_type": "code",
   "execution_count": null,
   "id": "c4519d14",
   "metadata": {},
   "outputs": [],
   "source": [
    "# len()---counts the total number of elements iside tuple\n",
    "# min()----gives minimum value from the tuple\n",
    "#max()--gives maximum value from the tuple\n",
    "tup4=(45,47,89,78,45,41,21,54,52,36,52)\n",
    "print(max(tup4))"
   ]
  },
  {
   "cell_type": "code",
   "execution_count": null,
   "id": "88d38da8",
   "metadata": {},
   "outputs": [],
   "source": [
    "# tuple()\n",
    "list1=[1,2,3]\n",
    "tup5=tuple(list1)\n",
    "print(list1)\n",
    "print(tup5)"
   ]
  },
  {
   "cell_type": "code",
   "execution_count": null,
   "id": "55553e37",
   "metadata": {},
   "outputs": [],
   "source": [
    "# #set is a collection of elements \n",
    "# sets are unordered no any index no to values\n",
    "# sets are immutable chnages not allowed trough some sets methods\n",
    "# sets not allowed duplicates\n",
    "# sets are created using curly brackets{}\n"
   ]
  },
  {
   "cell_type": "code",
   "execution_count": null,
   "id": "931933f9",
   "metadata": {},
   "outputs": [],
   "source": [
    "set1={45,36,54,78,98,58,96,32,45,48,78,96}\n",
    "print(set1)\n"
   ]
  },
  {
   "cell_type": "code",
   "execution_count": 4,
   "id": "439e2fe1",
   "metadata": {},
   "outputs": [
    {
     "name": "stdout",
     "output_type": "stream",
     "text": [
      "{96, 45, 78, 14, 48, 15, 54, 25}\n",
      "{96, 45, 78, 14, 48, 15, 365, 54, 25}\n",
      "{96, 35, 45, 78, 14, 48, 15, 365, 54, 25}\n"
     ]
    }
   ],
   "source": [
    "# Sets methods\n",
    "# add(element)----add elements inside set in random position\n",
    "set2={45,48,78,96,54,25,14,15,45}\n",
    "print(set2)\n",
    "set2.add(365)\n",
    "print(set2)\n",
    "set2.add(35)\n",
    "print(set2)\n"
   ]
  },
  {
   "cell_type": "code",
   "execution_count": 6,
   "id": "a076c886",
   "metadata": {},
   "outputs": [
    {
     "name": "stdout",
     "output_type": "stream",
     "text": [
      "{32, 65, 98, 8, 45, 78, 15, 54, 95}\n",
      "{96, 98, 35, 45, 78, 84, 54, 25}\n",
      "{32, 65, 98, 96, 35, 8, 45, 78, 15, 84, 54, 25, 95}\n",
      "{96, 98, 35, 45, 78, 84, 54, 25}\n"
     ]
    }
   ],
   "source": [
    "# update()\n",
    "x={54,65,98,78,95,32,15,45,8}\n",
    "y={54,78,98,96,35,25,45,84}\n",
    "print(x)\n",
    "print(y)\n",
    "x.update(y)\n",
    "print(x)\n",
    "print(y)"
   ]
  },
  {
   "cell_type": "code",
   "execution_count": 9,
   "id": "553ce3e0",
   "metadata": {},
   "outputs": [
    {
     "name": "stdout",
     "output_type": "stream",
     "text": [
      "{96, 32, 98, 35, 65, 8, 45, 78, 15, 84, 54, 25, 95}\n"
     ]
    }
   ],
   "source": [
    "# union()\n",
    "x={54,65,98,78,95,32,15,45,8}\n",
    "y={54,78,98,96,35,25,45,84}\n",
    "z=y.union(x)\n",
    "print(z)"
   ]
  },
  {
   "cell_type": "code",
   "execution_count": 10,
   "id": "990e03d8",
   "metadata": {},
   "outputs": [
    {
     "name": "stdout",
     "output_type": "stream",
     "text": [
      "{54, 98, 45, 78}\n"
     ]
    }
   ],
   "source": [
    "# intersection\n",
    "x={54,65,98,78,95,32,15,45,8}\n",
    "y={54,78,98,96,35,25,45,84}\n",
    "z=y.intersection(x)\n",
    "print(z)"
   ]
  },
  {
   "cell_type": "code",
   "execution_count": 16,
   "id": "d8edec52",
   "metadata": {},
   "outputs": [
    {
     "name": "stdout",
     "output_type": "stream",
     "text": [
      "{32, 65, 8, 15, 95}\n"
     ]
    }
   ],
   "source": [
    "#difference - U-A A-B\n",
    "x={54,65,98,78,95,32,15,45,8}\n",
    "y={54,78,98,96,35,25,45,84}\n",
    "z=x.difference(y)\n",
    "print(z)"
   ]
  },
  {
   "cell_type": "code",
   "execution_count": 33,
   "id": "9071c7e8",
   "metadata": {},
   "outputs": [],
   "source": [
    "# discard()---removes elements from set but not give error if not present\n",
    "# remove()--removes elements from set but give error if not present\n",
    "# pop()----\n",
    "\n",
    "x={54,65,98,78,95,32,15,45,8,45,45,45,45}\n",
    "x.discard(98)\n",
    "# print(x)"
   ]
  }
 ],
 "metadata": {
  "kernelspec": {
   "display_name": "Python 3 (ipykernel)",
   "language": "python",
   "name": "python3"
  },
  "language_info": {
   "codemirror_mode": {
    "name": "ipython",
    "version": 3
   },
   "file_extension": ".py",
   "mimetype": "text/x-python",
   "name": "python",
   "nbconvert_exporter": "python",
   "pygments_lexer": "ipython3",
   "version": "3.9.12"
  }
 },
 "nbformat": 4,
 "nbformat_minor": 5
}
