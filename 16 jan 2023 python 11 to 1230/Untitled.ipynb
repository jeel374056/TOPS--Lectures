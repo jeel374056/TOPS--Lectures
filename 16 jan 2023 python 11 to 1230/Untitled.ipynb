{
 "cells": [
  {
   "cell_type": "code",
   "execution_count": 4,
   "id": "97b09db7",
   "metadata": {},
   "outputs": [
    {
     "ename": "TypeError",
     "evalue": "fun1() takes 1 positional argument but 2 were given",
     "output_type": "error",
     "traceback": [
      "\u001b[1;31m---------------------------------------------------------------------------\u001b[0m",
      "\u001b[1;31mTypeError\u001b[0m                                 Traceback (most recent call last)",
      "Input \u001b[1;32mIn [4]\u001b[0m, in \u001b[0;36m<cell line: 9>\u001b[1;34m()\u001b[0m\n\u001b[0;32m      6\u001b[0m         \u001b[38;5;28mprint\u001b[39m(\u001b[38;5;124m\"\u001b[39m\u001b[38;5;124mhello\u001b[39m\u001b[38;5;124m\"\u001b[39m)\n\u001b[0;32m      8\u001b[0m d1\u001b[38;5;241m=\u001b[39mdemo()\n\u001b[1;32m----> 9\u001b[0m \u001b[43md1\u001b[49m\u001b[38;5;241;43m.\u001b[39;49m\u001b[43mfun1\u001b[49m\u001b[43m(\u001b[49m\u001b[38;5;241;43m25\u001b[39;49m\u001b[43m)\u001b[49m\n",
      "\u001b[1;31mTypeError\u001b[0m: fun1() takes 1 positional argument but 2 were given"
     ]
    }
   ],
   "source": [
    "class demo:\n",
    "    def fun1(self,a):\n",
    "        print(a)\n",
    "        \n",
    "    def fun1(self):\n",
    "        print(\"hello\")\n",
    "    \n",
    "d1=demo()\n",
    "d1.fun1()\n",
    "\n"
   ]
  },
  {
   "cell_type": "code",
   "execution_count": 6,
   "id": "d79a21b1",
   "metadata": {},
   "outputs": [
    {
     "name": "stdout",
     "output_type": "stream",
     "text": [
      "116\n",
      "helloworld\n"
     ]
    }
   ],
   "source": [
    "print(80+36)\n",
    "print(\"hello\"+\"world\")\n",
    "\n",
    "operator overloading---"
   ]
  },
  {
   "cell_type": "code",
   "execution_count": 16,
   "id": "1b2a7052",
   "metadata": {},
   "outputs": [
    {
     "name": "stdout",
     "output_type": "stream",
     "text": [
      "Enter A: 10\n",
      "Enter B: 20\n",
      "10 20\n",
      "Enter A: 5\n",
      "Enter B: 2\n",
      "5 2\n",
      "None\n",
      "5 18\n",
      "5 2\n"
     ]
    }
   ],
   "source": [
    "class demo:\n",
    "    a=\"\"\n",
    "    b=\"\"\n",
    "    def getvalue(self):\n",
    "        self.a=int(input(\"Enter A: \"))\n",
    "        self.b=int(input(\"Enter B: \"))\n",
    "    def fun1(self):\n",
    "        print(self.a,self.b)\n",
    "        \n",
    "    def __add__(self,other):\n",
    "        self.a=self.a-other.a\n",
    "        self.b=self.b-other.b\n",
    "        \n",
    "d1=demo()\n",
    "d2=demo()\n",
    "d1.getvalue()\n",
    "d1.fun1()\n",
    "d2.getvalue()\n",
    "d2.fun1()\n",
    "# d1.__add__(d2)\n",
    "# demo.__add__(d1,d2)\n",
    "d1+d2\n",
    "d1.fun1()\n",
    "d2.fun1()\n",
    "\n"
   ]
  },
  {
   "cell_type": "code",
   "execution_count": 19,
   "id": "4201e41c",
   "metadata": {},
   "outputs": [
    {
     "name": "stdout",
     "output_type": "stream",
     "text": [
      "I am child class \n"
     ]
    }
   ],
   "source": [
    "class base1:\n",
    "    def fun1(self):\n",
    "        print(\"Hello world\")\n",
    "    \n",
    "class base2(base1):\n",
    "    def fun1(self):\n",
    "        print(\"I am second base class : \")\n",
    "\n",
    "class child1(base2):\n",
    "    def fun1(self):\n",
    "        print(\"I am child class \")\n",
    "        \n",
    "c1=child1()\n",
    "c1.fun1()\n",
    "# overriding is used here"
   ]
  }
 ],
 "metadata": {
  "kernelspec": {
   "display_name": "Python 3 (ipykernel)",
   "language": "python",
   "name": "python3"
  },
  "language_info": {
   "codemirror_mode": {
    "name": "ipython",
    "version": 3
   },
   "file_extension": ".py",
   "mimetype": "text/x-python",
   "name": "python",
   "nbconvert_exporter": "python",
   "pygments_lexer": "ipython3",
   "version": "3.9.12"
  }
 },
 "nbformat": 4,
 "nbformat_minor": 5
}
