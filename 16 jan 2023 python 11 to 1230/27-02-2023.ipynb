{
 "cells": [
  {
   "cell_type": "code",
   "execution_count": null,
   "id": "d26efc2a",
   "metadata": {},
   "outputs": [],
   "source": [
    "# file handling\n",
    "# file open\n",
    "# file working\n",
    "# file close"
   ]
  },
  {
   "cell_type": "code",
   "execution_count": null,
   "id": "07bec9f7",
   "metadata": {},
   "outputs": [],
   "source": [
    "# file open\n",
    "# filepointername =open(\"Filename\",\"mode/type\")\n",
    "# mode\n",
    "\n",
    "# r---read mode--- if file open in read mode for reading purpose then it \n",
    "# should be present if file not exist then it gives error\n",
    "\n",
    "# w---write modes---if file exist then it open for writing purpose and all\n",
    "# old contenet will be deleted as well  if file not exists then it will\n",
    "# create a new one but not gives error\n",
    "\n",
    "# a-----append modes---if file exist then it open for appending purpose and all\n",
    "# old contenet will not be deleted as well  if file not exists then it will\n",
    "# create a new one but not gives error\n",
    "\n",
    "# x---only used for creating file"
   ]
  },
  {
   "cell_type": "code",
   "execution_count": 1,
   "id": "e4f5a8a2",
   "metadata": {},
   "outputs": [
    {
     "ename": "FileNotFoundError",
     "evalue": "[Errno 2] No such file or directory: 'Demo.txt'",
     "output_type": "error",
     "traceback": [
      "\u001b[1;31m---------------------------------------------------------------------------\u001b[0m",
      "\u001b[1;31mFileNotFoundError\u001b[0m                         Traceback (most recent call last)",
      "Input \u001b[1;32mIn [1]\u001b[0m, in \u001b[0;36m<cell line: 1>\u001b[1;34m()\u001b[0m\n\u001b[1;32m----> 1\u001b[0m fp\u001b[38;5;241m=\u001b[39m\u001b[38;5;28;43mopen\u001b[39;49m\u001b[43m(\u001b[49m\u001b[38;5;124;43m\"\u001b[39;49m\u001b[38;5;124;43mDemo.txt\u001b[39;49m\u001b[38;5;124;43m\"\u001b[39;49m\u001b[43m,\u001b[49m\u001b[38;5;124;43m\"\u001b[39;49m\u001b[38;5;124;43mr\u001b[39;49m\u001b[38;5;124;43m\"\u001b[39;49m\u001b[43m)\u001b[49m\n",
      "\u001b[1;31mFileNotFoundError\u001b[0m: [Errno 2] No such file or directory: 'Demo.txt'"
     ]
    }
   ],
   "source": [
    "fp=open(\"Demo.txt\",\"r\")"
   ]
  },
  {
   "cell_type": "code",
   "execution_count": null,
   "id": "e36159dd",
   "metadata": {},
   "outputs": [],
   "source": [
    "fileppointername.close()"
   ]
  },
  {
   "cell_type": "code",
   "execution_count": 4,
   "id": "167b2bfb",
   "metadata": {},
   "outputs": [],
   "source": [
    "fp=open(\"demo.txt\",\"w\")\n",
    "fp.write(\"\"\"newdatat\n",
    "         rh\n",
    "         rth\n",
    "         \"\"\")\n",
    "fp.close()"
   ]
  },
  {
   "cell_type": "code",
   "execution_count": 5,
   "id": "e1dc92ef",
   "metadata": {},
   "outputs": [],
   "source": [
    "fp=open(\"demo.txt\",\"a\")\n",
    "fp.write(\"New contenets added\\nnewdata dadded\")\n",
    "fp.close()"
   ]
  },
  {
   "cell_type": "code",
   "execution_count": 11,
   "id": "f23fe146",
   "metadata": {},
   "outputs": [
    {
     "name": "stdout",
     "output_type": "stream",
     "text": [
      "newdatat\n",
      "         rh\n",
      "         rth\n",
      "         rth\n",
      "         rth\n",
      "         rth\n",
      "         rth\n",
      "         rth\n",
      "         rth\n",
      "         rh\n",
      "         New contenets added\n",
      "newdata dadded\n",
      "\n"
     ]
    }
   ],
   "source": [
    "fp=open(\"demo.txt\",\"r\")\n",
    "print(fp.read())\n",
    "print(fp.read(59))\n",
    "fp.close()"
   ]
  },
  {
   "cell_type": "code",
   "execution_count": 21,
   "id": "13b000c0",
   "metadata": {},
   "outputs": [
    {
     "name": "stdout",
     "output_type": "stream",
     "text": [
      "ert3twert\n",
      "\n",
      "rterte5ytetert\n",
      "\n",
      "erterterterterterter\n",
      "\n"
     ]
    }
   ],
   "source": [
    "fp=open(\"demo.txt\",\"r\")\n",
    "print(fp.readline())\n",
    "print(fp.readline())\n",
    "print(fp.readline())\n",
    "\n",
    "fp.close()"
   ]
  },
  {
   "cell_type": "code",
   "execution_count": 22,
   "id": "8e7e89d1",
   "metadata": {},
   "outputs": [],
   "source": [
    "fp=open(\"demo.xls\",\"w\")\n",
    "fp.write(\"Hello world\")\n",
    "fp.close()"
   ]
  },
  {
   "cell_type": "code",
   "execution_count": 24,
   "id": "093d4f8d",
   "metadata": {},
   "outputs": [
    {
     "ename": "FileNotFoundError",
     "evalue": "[Errno 2] No such file or directory: 'download.jpeg'",
     "output_type": "error",
     "traceback": [
      "\u001b[1;31m---------------------------------------------------------------------------\u001b[0m",
      "\u001b[1;31mFileNotFoundError\u001b[0m                         Traceback (most recent call last)",
      "Input \u001b[1;32mIn [24]\u001b[0m, in \u001b[0;36m<cell line: 1>\u001b[1;34m()\u001b[0m\n\u001b[1;32m----> 1\u001b[0m fp\u001b[38;5;241m=\u001b[39m\u001b[38;5;28;43mopen\u001b[39;49m\u001b[43m(\u001b[49m\u001b[38;5;124;43m\"\u001b[39;49m\u001b[38;5;124;43mdownload.jpeg\u001b[39;49m\u001b[38;5;124;43m\"\u001b[39;49m\u001b[43m,\u001b[49m\u001b[38;5;124;43m\"\u001b[39;49m\u001b[38;5;124;43mr\u001b[39;49m\u001b[38;5;124;43m\"\u001b[39;49m\u001b[43m)\u001b[49m\n\u001b[0;32m      2\u001b[0m \u001b[38;5;28mprint\u001b[39m(fp\u001b[38;5;241m.\u001b[39mread())\n\u001b[0;32m      3\u001b[0m fp\u001b[38;5;241m.\u001b[39mclose()\n",
      "\u001b[1;31mFileNotFoundError\u001b[0m: [Errno 2] No such file or directory: 'download.jpeg'"
     ]
    }
   ],
   "source": [
    "fp=open(\"download.jfif\",\"r\")\n",
    "print(fp.read())\n",
    "fp.close()"
   ]
  },
  {
   "cell_type": "code",
   "execution_count": null,
   "id": "01838ce0",
   "metadata": {},
   "outputs": [],
   "source": [
    "# exception handling\n",
    "try:\n",
    "    code which generates error\n",
    "except:\n",
    "    what to do when error comes\n",
    "finally:\n",
    "    optional \n",
    "else:\n",
    "    optional"
   ]
  },
  {
   "cell_type": "code",
   "execution_count": null,
   "id": "adcea203",
   "metadata": {},
   "outputs": [],
   "source": [
    "for i in range(1,10):\n",
    "    print(i)"
   ]
  },
  {
   "cell_type": "code",
   "execution_count": 3,
   "id": "027a3233",
   "metadata": {},
   "outputs": [],
   "source": [
    "# a=int(input(\"Enter number\"))?"
   ]
  },
  {
   "cell_type": "code",
   "execution_count": 13,
   "id": "5d7c3349",
   "metadata": {},
   "outputs": [
    {
     "name": "stdout",
     "output_type": "stream",
     "text": [
      "Enter number 1: 48\n",
      "Enter Number 2 : 0\n"
     ]
    },
    {
     "ename": "ZeroDivisionError",
     "evalue": "division by zero",
     "output_type": "error",
     "traceback": [
      "\u001b[1;31m---------------------------------------------------------------------------\u001b[0m",
      "\u001b[1;31mZeroDivisionError\u001b[0m                         Traceback (most recent call last)",
      "Input \u001b[1;32mIn [13]\u001b[0m, in \u001b[0;36m<cell line: 3>\u001b[1;34m()\u001b[0m\n\u001b[0;32m      1\u001b[0m a\u001b[38;5;241m=\u001b[39m\u001b[38;5;28mint\u001b[39m(\u001b[38;5;28minput\u001b[39m(\u001b[38;5;124m\"\u001b[39m\u001b[38;5;124mEnter number 1: \u001b[39m\u001b[38;5;124m\"\u001b[39m))\n\u001b[0;32m      2\u001b[0m b\u001b[38;5;241m=\u001b[39m\u001b[38;5;28mint\u001b[39m(\u001b[38;5;28minput\u001b[39m(\u001b[38;5;124m\"\u001b[39m\u001b[38;5;124mEnter Number 2 : \u001b[39m\u001b[38;5;124m\"\u001b[39m))\n\u001b[1;32m----> 3\u001b[0m c\u001b[38;5;241m=\u001b[39m\u001b[43ma\u001b[49m\u001b[38;5;241;43m/\u001b[39;49m\u001b[43mb\u001b[49m\n\u001b[0;32m      4\u001b[0m \u001b[38;5;28mprint\u001b[39m(c)\n",
      "\u001b[1;31mZeroDivisionError\u001b[0m: division by zero"
     ]
    }
   ],
   "source": [
    "a=int(input(\"Enter number 1: \"))\n",
    "b=int(input(\"Enter Number 2 : \"))\n",
    "c=a/b\n",
    "print(c)"
   ]
  },
  {
   "cell_type": "code",
   "execution_count": 20,
   "id": "c0eb9ebb",
   "metadata": {},
   "outputs": [
    {
     "name": "stdout",
     "output_type": "stream",
     "text": [
      "Enter number 1: {\"1\":\"hello}\n",
      "Only Numbers Allowed invalid literal for int() with base 10: '{\"1\":\"hello}'\n"
     ]
    }
   ],
   "source": [
    "try:\n",
    "    a=int(input(\"Enter number 1: \"))\n",
    "    b=int(input(\"Enter Number 2 : \"))\n",
    "    c=a/b\n",
    "    print(c)\n",
    "except ValueError as e:\n",
    "    print(f\"Only Numbers Allowed {e}\")\n",
    "except ZeroDivisionError:\n",
    "    print(\"Zero is not allowed at denominator\")\n",
    "except:\n",
    "    print(\"Unknown Error Occured\")"
   ]
  },
  {
   "cell_type": "code",
   "execution_count": 21,
   "id": "3e02373b",
   "metadata": {},
   "outputs": [
    {
     "ename": "TypeError",
     "evalue": "can only concatenate str (not \"int\") to str",
     "output_type": "error",
     "traceback": [
      "\u001b[1;31m---------------------------------------------------------------------------\u001b[0m",
      "\u001b[1;31mTypeError\u001b[0m                                 Traceback (most recent call last)",
      "Input \u001b[1;32mIn [21]\u001b[0m, in \u001b[0;36m<cell line: 3>\u001b[1;34m()\u001b[0m\n\u001b[0;32m      1\u001b[0m a\u001b[38;5;241m=\u001b[39m\u001b[38;5;124m\"\u001b[39m\u001b[38;5;124mhello\u001b[39m\u001b[38;5;124m\"\u001b[39m\n\u001b[0;32m      2\u001b[0m b\u001b[38;5;241m=\u001b[39m\u001b[38;5;241m9\u001b[39m\n\u001b[1;32m----> 3\u001b[0m \u001b[38;5;28mprint\u001b[39m(\u001b[43ma\u001b[49m\u001b[38;5;241;43m+\u001b[39;49m\u001b[38;5;241;43m9\u001b[39;49m)\n",
      "\u001b[1;31mTypeError\u001b[0m: can only concatenate str (not \"int\") to str"
     ]
    }
   ],
   "source": [
    "a=\"hello\"\n",
    "b=9\n",
    "print(a+9)"
   ]
  },
  {
   "cell_type": "code",
   "execution_count": 5,
   "id": "bc5b5ff4",
   "metadata": {},
   "outputs": [
    {
     "name": "stdout",
     "output_type": "stream",
     "text": [
      "hello\n",
      "Hello Wolrd\n"
     ]
    }
   ],
   "source": [
    "try:\n",
    "    aop=\"hello\"\n",
    "    bop=9\n",
    "    print(aop)\n",
    "except:\n",
    "    print(\"error Some\")\n",
    "else:\n",
    "    print(\"Hello Wolrd\")\n",
    "finally:\n",
    "    del aop\n",
    "    del bop\n"
   ]
  },
  {
   "cell_type": "code",
   "execution_count": 2,
   "id": "c6a731b6",
   "metadata": {},
   "outputs": [
    {
     "ename": "NameError",
     "evalue": "name 'aop' is not defined",
     "output_type": "error",
     "traceback": [
      "\u001b[1;31m---------------------------------------------------------------------------\u001b[0m",
      "\u001b[1;31mNameError\u001b[0m                                 Traceback (most recent call last)",
      "Input \u001b[1;32mIn [2]\u001b[0m, in \u001b[0;36m<cell line: 1>\u001b[1;34m()\u001b[0m\n\u001b[1;32m----> 1\u001b[0m \u001b[38;5;28mprint\u001b[39m(\u001b[43maop\u001b[49m)\n",
      "\u001b[1;31mNameError\u001b[0m: name 'aop' is not defined"
     ]
    }
   ],
   "source": [
    "print(aop)"
   ]
  },
  {
   "cell_type": "code",
   "execution_count": 7,
   "id": "1aed3f79",
   "metadata": {},
   "outputs": [
    {
     "name": "stdout",
     "output_type": "stream",
     "text": [
      "0\n",
      "8\n",
      "11\n"
     ]
    }
   ],
   "source": [
    "list1=[1,2,4,5,8,7,4,2,1,5,4,1,2,54]\n",
    "for a,b in enumerate(list1):\n",
    "    if b==1:\n",
    "        print(a)"
   ]
  }
 ],
 "metadata": {
  "kernelspec": {
   "display_name": "Python 3 (ipykernel)",
   "language": "python",
   "name": "python3"
  },
  "language_info": {
   "codemirror_mode": {
    "name": "ipython",
    "version": 3
   },
   "file_extension": ".py",
   "mimetype": "text/x-python",
   "name": "python",
   "nbconvert_exporter": "python",
   "pygments_lexer": "ipython3",
   "version": "3.9.12"
  }
 },
 "nbformat": 4,
 "nbformat_minor": 5
}
