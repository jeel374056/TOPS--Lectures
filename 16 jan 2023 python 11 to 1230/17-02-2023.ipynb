{
 "cells": [
  {
   "cell_type": "code",
   "execution_count": 1,
   "id": "95eca625",
   "metadata": {},
   "outputs": [
    {
     "name": "stdout",
     "output_type": "stream",
     "text": [
      "[1, 3, 5, 7, 9, 11, 13, 15, 17, 19]\n"
     ]
    }
   ],
   "source": [
    "# list comprehension\n",
    "list1=[]\n",
    "for i in range(1,21):\n",
    "    if i%2==1:\n",
    "        list1.append(i)\n",
    "print(list1)"
   ]
  },
  {
   "cell_type": "code",
   "execution_count": 5,
   "id": "df2350b9",
   "metadata": {},
   "outputs": [
    {
     "name": "stdout",
     "output_type": "stream",
     "text": [
      "['H', 'E', 'L', 'L', 'O']\n"
     ]
    }
   ],
   "source": [
    "# listname=[appending_element for iterating varibale in collection [if condition]]\n",
    "list1=[i.upper() for i in \"hello\" ]\n",
    "print(list1)"
   ]
  },
  {
   "cell_type": "code",
   "execution_count": 7,
   "id": "c4afa12b",
   "metadata": {},
   "outputs": [
    {
     "name": "stdout",
     "output_type": "stream",
     "text": [
      "1251866537008\n",
      "1251866537008\n"
     ]
    }
   ],
   "source": [
    "a=25;\n",
    "b=25;\n",
    "print(id(a))\n",
    "print(id(b))"
   ]
  },
  {
   "cell_type": "code",
   "execution_count": 10,
   "id": "2459ffa9",
   "metadata": {},
   "outputs": [
    {
     "name": "stdout",
     "output_type": "stream",
     "text": [
      "35\n"
     ]
    }
   ],
   "source": [
    "a=\"89+35-89\"\n",
    "print(eval(a))"
   ]
  },
  {
   "cell_type": "code",
   "execution_count": 18,
   "id": "14f4d6f4",
   "metadata": {},
   "outputs": [
    {
     "name": "stdout",
     "output_type": "stream",
     "text": [
      "False\n",
      "True\n",
      "False\n"
     ]
    }
   ],
   "source": [
    "# membership operator\n",
    "# in .....not in\n",
    "a=\"wow\"\n",
    "print('l' in a)\n",
    "print('f' not in a)\n",
    "print(9 not in range(1,41))"
   ]
  },
  {
   "cell_type": "code",
   "execution_count": 29,
   "id": "e61b3111",
   "metadata": {},
   "outputs": [
    {
     "name": "stdout",
     "output_type": "stream",
     "text": [
      "True\n",
      "False\n",
      "True\n"
     ]
    },
    {
     "name": "stderr",
     "output_type": "stream",
     "text": [
      "<>:8: SyntaxWarning: \"is\" with a literal. Did you mean \"==\"?\n",
      "<>:8: SyntaxWarning: \"is\" with a literal. Did you mean \"==\"?\n",
      "C:\\Users\\Sugandh\\AppData\\Local\\Temp\\ipykernel_9996\\604739015.py:8: SyntaxWarning: \"is\" with a literal. Did you mean \"==\"?\n",
      "  print(89+11 is 100)\n"
     ]
    }
   ],
   "source": [
    "# identity operator is is not\n",
    "a=48;\n",
    "b=48;\n",
    "x=\"hello\"\n",
    "y=\"hellop\"\n",
    "print(a is b)\n",
    "print(x is y)\n",
    "print(89+11 is 100)"
   ]
  },
  {
   "cell_type": "code",
   "execution_count": null,
   "id": "c7ff1a93",
   "metadata": {},
   "outputs": [],
   "source": [
    "# function\n",
    "# 4 types\n",
    "\n",
    "# inbuilt function\n",
    "print()\n",
    "type()\n",
    "input()\n",
    "len()\n",
    "id()\n",
    "eval()\n",
    "zip()\n",
    "\n",
    "# user defined function\n",
    "\n",
    "# recursion function\n",
    "# anonymous function(lambda)"
   ]
  },
  {
   "cell_type": "code",
   "execution_count": null,
   "id": "b769659f",
   "metadata": {},
   "outputs": [],
   "source": [
    "# user defined function\n",
    "def functionname([parameters]):\n",
    "    body can be of many lines\n",
    "    [return value]"
   ]
  },
  {
   "cell_type": "code",
   "execution_count": 2,
   "id": "a3c3ab7c",
   "metadata": {},
   "outputs": [
    {
     "name": "stdout",
     "output_type": "stream",
     "text": [
      "10\n",
      "50\n",
      "Good Morning\n",
      "48\n"
     ]
    }
   ],
   "source": [
    "def greeting():\n",
    "    a=10\n",
    "    b=40\n",
    "    print(a)\n",
    "    print(a+b)\n",
    "    print(\"Good Morning\")\n",
    "    print(z)\n",
    "    \n",
    "z=48    \n",
    "greeting()\n",
    "# print(a)"
   ]
  },
  {
   "cell_type": "code",
   "execution_count": null,
   "id": "dc7ec1fb",
   "metadata": {},
   "outputs": [],
   "source": []
  },
  {
   "cell_type": "code",
   "execution_count": 14,
   "id": "645dc470",
   "metadata": {},
   "outputs": [
    {
     "name": "stdout",
     "output_type": "stream",
     "text": [
      "98\n"
     ]
    }
   ],
   "source": [
    "a=68\n",
    "a=98\n",
    "print(a)"
   ]
  },
  {
   "cell_type": "code",
   "execution_count": 2,
   "id": "1b30884c",
   "metadata": {},
   "outputs": [
    {
     "name": "stdout",
     "output_type": "stream",
     "text": [
      "8\n",
      "7\n",
      "6\n",
      "5\n",
      "4\n",
      "3\n",
      "2\n",
      "1\n",
      "0\n"
     ]
    }
   ],
   "source": [
    "# recursion function\n",
    "# when a functiion call itself again and again then it is called recursion\n",
    "def calc(a):\n",
    "    print(a)\n",
    "    if a>0:\n",
    "        calc(a-1)\n",
    "    \n",
    "calc(8)"
   ]
  },
  {
   "cell_type": "code",
   "execution_count": null,
   "id": "31888a40",
   "metadata": {},
   "outputs": [],
   "source": [
    "# write a program to create table function take one number parameter\n",
    "# and this function will create a table for that number\n"
   ]
  },
  {
   "cell_type": "code",
   "execution_count": null,
   "id": "91dbfb73",
   "metadata": {},
   "outputs": [],
   "source": [
    "list1=[6,2,4,8,6,2]\n",
    "list2=[8,2,4]\n",
    "list3=[6,6,2]"
   ]
  },
  {
   "cell_type": "code",
   "execution_count": null,
   "id": "24fa8a62",
   "metadata": {},
   "outputs": [],
   "source": []
  }
 ],
 "metadata": {
  "kernelspec": {
   "display_name": "Python 3 (ipykernel)",
   "language": "python",
   "name": "python3"
  },
  "language_info": {
   "codemirror_mode": {
    "name": "ipython",
    "version": 3
   },
   "file_extension": ".py",
   "mimetype": "text/x-python",
   "name": "python",
   "nbconvert_exporter": "python",
   "pygments_lexer": "ipython3",
   "version": "3.9.12"
  }
 },
 "nbformat": 4,
 "nbformat_minor": 5
}
