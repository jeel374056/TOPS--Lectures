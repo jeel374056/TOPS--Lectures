{
 "cells": [
  {
   "cell_type": "code",
   "execution_count": null,
   "id": "8633a83a",
   "metadata": {},
   "outputs": [],
   "source": [
    "# string\n",
    "\n",
    "# string is immutable\n",
    "# string allowed repetition\n",
    "# '' \"\"   \"\"\" \"\"\"   '''   '''"
   ]
  },
  {
   "cell_type": "code",
   "execution_count": 3,
   "id": "5d584c85",
   "metadata": {},
   "outputs": [
    {
     "name": "stdout",
     "output_type": "stream",
     "text": [
      "Hello \"world\n",
      "sdfjkfdvk 'fdkvbk\n",
      "gvbgrthrthhrt\n",
      "hrt\n",
      "h\n",
      "hrt\n",
      "hr\n",
      "th\n",
      "rt\n"
     ]
    }
   ],
   "source": [
    "a=\"Hello \\\"world\"\n",
    "print(a)\n",
    "b='sdfjkfdvk \\'fdkvbk'\n",
    "print(b)\n",
    "c=\"\"\"gvbgrthrthhrt\n",
    "hrt\n",
    "h\n",
    "hrt\n",
    "hr\n",
    "th\n",
    "rt\"\"\"\n",
    "print(c)\n",
    "\n"
   ]
  },
  {
   "cell_type": "code",
   "execution_count": 8,
   "id": "15ead190",
   "metadata": {},
   "outputs": [
    {
     "name": "stdout",
     "output_type": "stream",
     "text": [
      "loW\n"
     ]
    }
   ],
   "source": [
    "# string index position starts from 0\n",
    "a=\"hello World\"\n",
    "print(a[2:8:2])"
   ]
  },
  {
   "cell_type": "code",
   "execution_count": 18,
   "id": "1e530c3e",
   "metadata": {},
   "outputs": [
    {
     "name": "stdout",
     "output_type": "stream",
     "text": [
      "lufituaeB wOW\n"
     ]
    }
   ],
   "source": [
    "# negative indexing\n",
    "\n",
    "a=\"WOw Beautiful\"\n",
    "print(a[-1::-1])"
   ]
  },
  {
   "cell_type": "code",
   "execution_count": 19,
   "id": "1773413c",
   "metadata": {},
   "outputs": [
    {
     "name": "stdout",
     "output_type": "stream",
     "text": [
      "itua\n"
     ]
    }
   ],
   "source": [
    "print(a[-4:-8:-1])"
   ]
  },
  {
   "cell_type": "code",
   "execution_count": 23,
   "id": "6888fd22",
   "metadata": {},
   "outputs": [
    {
     "name": "stdout",
     "output_type": "stream",
     "text": [
      "*\n",
      "**\n",
      "***\n",
      "****\n",
      "*****\n"
     ]
    }
   ],
   "source": [
    "# *\n",
    "# **\n",
    "# ***\n",
    "# ****\n",
    "# *****\n",
    "for i in range(1,6):\n",
    "    print(i*\"*\")\n",
    "    \n"
   ]
  },
  {
   "cell_type": "code",
   "execution_count": 14,
   "id": "a008fb28",
   "metadata": {},
   "outputs": [
    {
     "name": "stdout",
     "output_type": "stream",
     "text": [
      " world\n"
     ]
    }
   ],
   "source": [
    "a=\"hello world\"\n",
    "print(a[5:])"
   ]
  },
  {
   "cell_type": "code",
   "execution_count": null,
   "id": "331b1a5b",
   "metadata": {},
   "outputs": [],
   "source": [
    "-8 -7 -6 - 5- 4- 3 -2 -1 0 1 2 3 4 5 6 "
   ]
  },
  {
   "cell_type": "code",
   "execution_count": 12,
   "id": "38730175",
   "metadata": {},
   "outputs": [
    {
     "name": "stdout",
     "output_type": "stream",
     "text": [
      "5\n",
      "4\n",
      "3\n",
      "2\n",
      "1\n",
      "0\n",
      "-1\n",
      "-2\n",
      "-3\n"
     ]
    }
   ],
   "source": [
    "for i in range(5,-4,-1):\n",
    "    print(i)"
   ]
  },
  {
   "cell_type": "code",
   "execution_count": 21,
   "id": "30bff332",
   "metadata": {},
   "outputs": [
    {
     "name": "stdout",
     "output_type": "stream",
     "text": [
      "1\n",
      "21\n",
      "24\n"
     ]
    }
   ],
   "source": [
    "str1=\"happy Ending of the january is soon\"\n",
    "count=-1\n",
    "for i in str1:\n",
    "    count+=1\n",
    "    if i==\"a\":\n",
    "        \n",
    "        print(count)\n",
    "        "
   ]
  },
  {
   "cell_type": "code",
   "execution_count": 29,
   "id": "08564d9f",
   "metadata": {},
   "outputs": [
    {
     "name": "stdout",
     "output_type": "stream",
     "text": [
      "Fjgvherfkrfb kbdnsjbdwbsdfgngn grhb jkebjkdnjkfnkgjf vd hgfdbrhb\n",
      "fjgvherfkrfb kbdnsjbdwbsdfgngn grhb jkebjkdnjkfnkgjf vd hgfdbrhb\n"
     ]
    }
   ],
   "source": [
    "# string methods\n",
    "str1=\"fjgvherfkrfb KBDNSJBDWBSDfgngn grhb jkebjkdNJKFNKGJF VD HGFDBrhb\"\n",
    "print(str1.capitalize() )#first capital rest lower\n",
    "print(str1.casefold()) #converts all character of string in lower case\n"
   ]
  },
  {
   "cell_type": "code",
   "execution_count": 44,
   "id": "fae4e95c",
   "metadata": {},
   "outputs": [
    {
     "name": "stdout",
     "output_type": "stream",
     "text": [
      "True\n"
     ]
    }
   ],
   "source": [
    "# endswith(suffix,[start],[end])\n",
    "# it checks the string is ending with mentioned suffix or not\n",
    "b=\"Hello world\"\n",
    "print(b.endswith('w',0,7))"
   ]
  },
  {
   "cell_type": "code",
   "execution_count": 47,
   "id": "5e178770",
   "metadata": {},
   "outputs": [
    {
     "name": "stdout",
     "output_type": "stream",
     "text": [
      "**********************Hello***********************\n",
      "          Hello          \n"
     ]
    }
   ],
   "source": [
    "# center\n",
    "a=\"Hello\"\n",
    "print(a.center(50,\"*\"))\n",
    "print(a.center(25))"
   ]
  },
  {
   "cell_type": "code",
   "execution_count": 1,
   "id": "c0997ec9",
   "metadata": {},
   "outputs": [
    {
     "name": "stdout",
     "output_type": "stream",
     "text": [
      "    *     \n",
      "   * *    \n",
      "  * * *   \n",
      " * * * *  \n",
      "* * * * * \n"
     ]
    }
   ],
   "source": [
    "\n",
    "for i in range(1,6):\n",
    "    str1=\"* \"*i\n",
    "    print(str1.center(10))"
   ]
  },
  {
   "cell_type": "code",
   "execution_count": null,
   "id": "a97d0134",
   "metadata": {},
   "outputs": [],
   "source": [
    " * * * *\n",
    "* * * * *"
   ]
  },
  {
   "cell_type": "code",
   "execution_count": 66,
   "id": "426fe828",
   "metadata": {},
   "outputs": [
    {
     "name": "stdout",
     "output_type": "stream",
     "text": [
      "1\n"
     ]
    }
   ],
   "source": [
    "# count give the number of ubstring inside string \n",
    "# string.count(substring[,start][,stop])\n",
    "str1=\"I am Happy I ams also good\"\n",
    "print(str1.count(\"a\",5,10))"
   ]
  },
  {
   "cell_type": "code",
   "execution_count": 7,
   "id": "c9e03d2e",
   "metadata": {},
   "outputs": [
    {
     "name": "stdout",
     "output_type": "stream",
     "text": [
      "    *     \n",
      "   * *    \n",
      "  * * *   \n",
      " * * * *  \n",
      "* * * * * \n",
      " * * * *  \n",
      "  * * *   \n",
      "   * *    \n",
      "    *     \n"
     ]
    }
   ],
   "source": [
    "for i in range(1,6):\n",
    "    str1=\"* \"*i\n",
    "    print(str1.center(10))\n",
    "for i in range(4,0,-1):\n",
    "    str1=\"* \"*i\n",
    "    print(str1.center(10))\n",
    "    \n",
    "    \n",
    "-4 -3 -2 -1 0 1 2 3 4 5"
   ]
  },
  {
   "cell_type": "code",
   "execution_count": null,
   "id": "d9d95da9",
   "metadata": {},
   "outputs": [],
   "source": [
    "for i in range(-4,6):\n",
    "    if i>0:\n",
    "        str1=\"* \"*i\n",
    "        print(str1.center(10))\n",
    "    else\n",
    "       str1=\"* \"*i\n",
    "        print(str1.center(10)) \n",
    "\n",
    "    "
   ]
  }
 ],
 "metadata": {
  "kernelspec": {
   "display_name": "Python 3 (ipykernel)",
   "language": "python",
   "name": "python3"
  },
  "language_info": {
   "codemirror_mode": {
    "name": "ipython",
    "version": 3
   },
   "file_extension": ".py",
   "mimetype": "text/x-python",
   "name": "python",
   "nbconvert_exporter": "python",
   "pygments_lexer": "ipython3",
   "version": "3.9.12"
  }
 },
 "nbformat": 4,
 "nbformat_minor": 5
}
