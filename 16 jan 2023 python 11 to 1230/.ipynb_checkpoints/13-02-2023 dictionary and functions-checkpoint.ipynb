{
 "cells": [
  {
   "cell_type": "code",
   "execution_count": 8,
   "id": "57d3eb28",
   "metadata": {},
   "outputs": [
    {
     "name": "stdout",
     "output_type": "stream",
     "text": [
      "[5, 7, 14, 20, 7]\n",
      "erggergergegergergeg\n"
     ]
    }
   ],
   "source": [
    "list1=[\"etg45\",\"34t3ttt\",\"erfhgrthythrth\",\"erggergergegergergeg\",\"ergferg\"]\n",
    "list2=[]\n",
    "for i in list1:\n",
    "    leng=len(i)\n",
    "    list2.append(leng)\n",
    "print(list2)\n",
    "val=max(list2)\n",
    "indi=list2.index(val)\n",
    "print(list1[indi])"
   ]
  },
  {
   "cell_type": "code",
   "execution_count": 13,
   "id": "9b7bf0ea",
   "metadata": {},
   "outputs": [
    {
     "data": {
      "text/plain": [
       "'erggergergegergergeg'"
      ]
     },
     "execution_count": 13,
     "metadata": {},
     "output_type": "execute_result"
    }
   ],
   "source": [
    "max(list1,key=len)"
   ]
  },
  {
   "cell_type": "code",
   "execution_count": null,
   "id": "d3f41e2c",
   "metadata": {},
   "outputs": [],
   "source": [
    "# dictionary\n",
    "\n",
    "# dictionary is also a collection of elements in key value pair\n",
    "# in dictionary element dosn't have indexes but they have key\n",
    "# dictionary also have different methods\n",
    "# in dictionary key cannot be repeated but values can be repeated\n",
    "# in dictionary key can be only of immutable datatype\n",
    "# in dictionary value can be of any datatype\n",
    "# dictionary will be defined in curly brackets{}\n",
    "\n"
   ]
  },
  {
   "cell_type": "code",
   "execution_count": 16,
   "id": "01d689b8",
   "metadata": {},
   "outputs": [
    {
     "ename": "TypeError",
     "evalue": "unhashable type: 'dict'",
     "output_type": "error",
     "traceback": [
      "\u001b[1;31m---------------------------------------------------------------------------\u001b[0m",
      "\u001b[1;31mTypeError\u001b[0m                                 Traceback (most recent call last)",
      "Input \u001b[1;32mIn [16]\u001b[0m, in \u001b[0;36m<cell line: 1>\u001b[1;34m()\u001b[0m\n\u001b[1;32m----> 1\u001b[0m dict1\u001b[38;5;241m=\u001b[39m{\u001b[38;5;241m14\u001b[39m:\u001b[38;5;241m45\u001b[39m,\u001b[38;5;241m2.5\u001b[39m:\u001b[38;5;241m56.32\u001b[39m,\u001b[38;5;28;01mTrue\u001b[39;00m:\u001b[38;5;28;01mFalse\u001b[39;00m,\u001b[38;5;124m\"\u001b[39m\u001b[38;5;124mstr1\u001b[39m\u001b[38;5;124m\"\u001b[39m:\u001b[38;5;124m\"\u001b[39m\u001b[38;5;124mSugandh\u001b[39m\u001b[38;5;124m\"\u001b[39m,\u001b[38;5;241m58\u001b[39m:[\u001b[38;5;241m1\u001b[39m,\u001b[38;5;241m45\u001b[39m,\u001b[38;5;241m89\u001b[39m,\u001b[38;5;241m78\u001b[39m],(\u001b[38;5;241m45\u001b[39m,\u001b[38;5;241m58\u001b[39m):(\u001b[38;5;241m48\u001b[39m,\u001b[38;5;241m89\u001b[39m,\u001b[38;5;241m78\u001b[39m),\u001b[38;5;241m48.36\u001b[39m:{\u001b[38;5;241m48\u001b[39m,\u001b[38;5;241m69\u001b[39m},{\u001b[38;5;241m1\u001b[39m:\u001b[38;5;241m2\u001b[39m}:{\u001b[38;5;241m48\u001b[39m:\u001b[38;5;241m96\u001b[39m}}\n\u001b[0;32m      2\u001b[0m \u001b[38;5;28mprint\u001b[39m(dict1)\n",
      "\u001b[1;31mTypeError\u001b[0m: unhashable type: 'dict'"
     ]
    }
   ],
   "source": [
    "dict1={14:45,2.5:56.32,True:False,\"str1\":\"Sugandh\",58:[1,45,89,78],(45,58):(48,89,78),48.36:{48,69},\"dict\":{48:96}}\n",
    "print(dict1)\n",
    "# "
   ]
  },
  {
   "cell_type": "code",
   "execution_count": 20,
   "id": "3c3cd687",
   "metadata": {},
   "outputs": [
    {
     "name": "stdout",
     "output_type": "stream",
     "text": [
      "{0: 'False', 2: 'great'}\n"
     ]
    }
   ],
   "source": [
    "dict2={0:\"Hello\",0:\"World\",2:\"great\",False:\"False\"}\n",
    "print(dict2)"
   ]
  },
  {
   "cell_type": "code",
   "execution_count": 25,
   "id": "53a861d8",
   "metadata": {},
   "outputs": [
    {
     "name": "stdout",
     "output_type": "stream",
     "text": [
      "{1: 'Hello', 2: 'World'}\n",
      "{1: 'Hello', 2: 'Great'}\n"
     ]
    }
   ],
   "source": [
    "dict3={1:\"Hello\",2:\"World\"}\n",
    "print(dict3)\n",
    "dict3.update({2:\"Great\"})\n",
    "print(dict3)"
   ]
  },
  {
   "cell_type": "code",
   "execution_count": 29,
   "id": "068a3116",
   "metadata": {},
   "outputs": [
    {
     "name": "stdout",
     "output_type": "stream",
     "text": [
      "{1: 'Hello', 2: 'World'}\n"
     ]
    },
    {
     "ename": "KeyError",
     "evalue": "32",
     "output_type": "error",
     "traceback": [
      "\u001b[1;31m---------------------------------------------------------------------------\u001b[0m",
      "\u001b[1;31mKeyError\u001b[0m                                  Traceback (most recent call last)",
      "Input \u001b[1;32mIn [29]\u001b[0m, in \u001b[0;36m<cell line: 3>\u001b[1;34m()\u001b[0m\n\u001b[0;32m      1\u001b[0m dict3\u001b[38;5;241m=\u001b[39m{\u001b[38;5;241m1\u001b[39m:\u001b[38;5;124m\"\u001b[39m\u001b[38;5;124mHello\u001b[39m\u001b[38;5;124m\"\u001b[39m,\u001b[38;5;241m2\u001b[39m:\u001b[38;5;124m\"\u001b[39m\u001b[38;5;124mWorld\u001b[39m\u001b[38;5;124m\"\u001b[39m}\n\u001b[0;32m      2\u001b[0m \u001b[38;5;28mprint\u001b[39m(dict3)\n\u001b[1;32m----> 3\u001b[0m \u001b[43mdict3\u001b[49m\u001b[38;5;241;43m.\u001b[39;49m\u001b[43mpop\u001b[49m\u001b[43m(\u001b[49m\u001b[38;5;241;43m32\u001b[39;49m\u001b[43m)\u001b[49m\n\u001b[0;32m      4\u001b[0m \u001b[38;5;28mprint\u001b[39m(dict3)\n",
      "\u001b[1;31mKeyError\u001b[0m: 32"
     ]
    }
   ],
   "source": [
    "dict3={1:\"Hello\",2:\"World\"}\n",
    "print(dict3)\n",
    "dict3.pop(32)\n",
    "print(dict3)"
   ]
  },
  {
   "cell_type": "code",
   "execution_count": 42,
   "id": "fd34552f",
   "metadata": {},
   "outputs": [
    {
     "name": "stdout",
     "output_type": "stream",
     "text": [
      "{1: 'Hello', 2: 'World', 4: 'Hello', 3: 'wow'}\n",
      "{1: 'Hello', 2: 'World', 4: 'Hello', 3: 'wow'}\n"
     ]
    }
   ],
   "source": [
    "dict3={1:\"Hello\",2:\"World\",4:\"Hello\",3:\"wow\"}\n",
    "print(dict3)\n",
    "dict3.update({0:\"hello\"})\n",
    "dict3.popitem()#it will remove the last inserted key value pair\n",
    "print(dict3)"
   ]
  },
  {
   "cell_type": "code",
   "execution_count": 45,
   "id": "dda86c82",
   "metadata": {},
   "outputs": [
    {
     "name": "stdout",
     "output_type": "stream",
     "text": [
      "dict_keys([1, 2, 4, 3])\n",
      "dict_values(['Hello', 'World', 'Hello', 'wow'])\n",
      "dict_items([(1, 'Hello'), (2, 'World'), (4, 'Hello'), (3, 'wow')])\n"
     ]
    }
   ],
   "source": [
    "dict3={1:\"Hello\",2:\"World\",4:\"Hello\",3:\"wow\"}\n",
    "print(dict3.keys())\n",
    "print(dict3.values())\n",
    "print(dict3.items())"
   ]
  },
  {
   "cell_type": "code",
   "execution_count": 48,
   "id": "9d5e295f",
   "metadata": {},
   "outputs": [
    {
     "name": "stdout",
     "output_type": "stream",
     "text": [
      "jkekh\n",
      "{1: 'Hello', 2: 'World', 4: 'Hello', 3: 'wow'}\n"
     ]
    }
   ],
   "source": [
    "dict3={1:\"Hello\",2:\"World\",4:\"Hello\",3:\"wow\"}\n",
    "print(dict3.get(48,\"jkekh\"))\n",
    "print(dict3)"
   ]
  },
  {
   "cell_type": "code",
   "execution_count": 57,
   "id": "1484a473",
   "metadata": {},
   "outputs": [
    {
     "name": "stdout",
     "output_type": "stream",
     "text": [
      "gfrfrf\n",
      "{1: 'Hello', 2: 'World', 4: 'Hello', 3: 'wow', 605: 'gfrfrf'}\n"
     ]
    }
   ],
   "source": [
    "dict3={1:\"Hello\",2:\"World\",4:\"Hello\",3:\"wow\"}\n",
    "print(dict3.setdefault(605,\"gfrfrf\"))\n",
    "print(dict3)"
   ]
  },
  {
   "cell_type": "code",
   "execution_count": 61,
   "id": "facfe2e7",
   "metadata": {},
   "outputs": [
    {
     "name": "stdout",
     "output_type": "stream",
     "text": [
      "{1: ('great', 'etrgegg'), 2: ('great', 'etrgegg'), 3: ('great', 'etrgegg'), 4: ('great', 'etrgegg'), 5: ('great', 'etrgegg'), 6: ('great', 'etrgegg'), 7: ('great', 'etrgegg')}\n"
     ]
    }
   ],
   "source": [
    "list1=[1,2,3,4,5,6,7]\n",
    "str1=\"great\",\"etrgegg\"\n",
    "dict4=dict.fromkeys(list1,str1)\n",
    "print(dict4)"
   ]
  },
  {
   "cell_type": "code",
   "execution_count": 69,
   "id": "1c23757d",
   "metadata": {},
   "outputs": [
    {
     "name": "stdout",
     "output_type": "stream",
     "text": [
      "{1: 1, 2: 4, 4: 58, 5: 9}\n"
     ]
    }
   ],
   "source": [
    "l1={1:\"hello\",2:False,4:\"r\",5:\"great\"}\n",
    "l2=[1,4,58,9,]\n",
    "dict3=dict(zip(l1,l2))\n",
    "print(dict3)"
   ]
  },
  {
   "cell_type": "code",
   "execution_count": 72,
   "id": "d43ee8d5",
   "metadata": {},
   "outputs": [
    {
     "ename": "TypeError",
     "evalue": "'int' object is not iterable",
     "output_type": "error",
     "traceback": [
      "\u001b[1;31m---------------------------------------------------------------------------\u001b[0m",
      "\u001b[1;31mTypeError\u001b[0m                                 Traceback (most recent call last)",
      "Input \u001b[1;32mIn [72]\u001b[0m, in \u001b[0;36m<cell line: 1>\u001b[1;34m()\u001b[0m\n\u001b[1;32m----> 1\u001b[0m \u001b[38;5;28;01mfor\u001b[39;00m i,j \u001b[38;5;129;01min\u001b[39;00m \u001b[38;5;28mrange\u001b[39m(\u001b[38;5;28;43mzip\u001b[39;49m\u001b[43m(\u001b[49m\u001b[38;5;241;43m1\u001b[39;49m\u001b[43m,\u001b[49m\u001b[38;5;241;43m10\u001b[39;49m\u001b[43m)\u001b[49m),\u001b[38;5;28mrange\u001b[39m(\u001b[38;5;241m100\u001b[39m,\u001b[38;5;241m110\u001b[39m):\n\u001b[0;32m      2\u001b[0m     \u001b[38;5;28mprint\u001b[39m(i,j)\n",
      "\u001b[1;31mTypeError\u001b[0m: 'int' object is not iterable"
     ]
    }
   ],
   "source": [
    "for i,j in range(1,10),range(100,110):\n",
    "    print(i,j) "
   ]
  }
 ],
 "metadata": {
  "kernelspec": {
   "display_name": "Python 3 (ipykernel)",
   "language": "python",
   "name": "python3"
  },
  "language_info": {
   "codemirror_mode": {
    "name": "ipython",
    "version": 3
   },
   "file_extension": ".py",
   "mimetype": "text/x-python",
   "name": "python",
   "nbconvert_exporter": "python",
   "pygments_lexer": "ipython3",
   "version": "3.9.12"
  }
 },
 "nbformat": 4,
 "nbformat_minor": 5
}
