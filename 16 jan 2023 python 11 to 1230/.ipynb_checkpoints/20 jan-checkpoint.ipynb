{
 "cells": [
  {
   "cell_type": "code",
   "execution_count": null,
   "id": "ad8ae3ba",
   "metadata": {},
   "outputs": [],
   "source": [
    "# bitwise operator\n",
    "bitwise &\n",
    "bitwise |\n",
    "bitwise right shift >>\n",
    "bitwise left shift <<"
   ]
  },
  {
   "cell_type": "code",
   "execution_count": 1,
   "id": "a322ab0a",
   "metadata": {},
   "outputs": [
    {
     "name": "stdout",
     "output_type": "stream",
     "text": [
      "1\n",
      "127\n"
     ]
    }
   ],
   "source": [
    "print(85&43)\n",
    "print(85|43)"
   ]
  },
  {
   "cell_type": "code",
   "execution_count": 4,
   "id": "492ff257",
   "metadata": {},
   "outputs": [
    {
     "name": "stdout",
     "output_type": "stream",
     "text": [
      "16\n",
      "127\n",
      "640\n",
      "10\n"
     ]
    }
   ],
   "source": [
    "print(95&48)\n",
    "print(95|48)\n",
    "print(80<<3)\n",
    "print(80>>3)"
   ]
  },
  {
   "cell_type": "code",
   "execution_count": null,
   "id": "1476c180",
   "metadata": {},
   "outputs": [],
   "source": [
    "# conditional statements\n",
    "\n",
    "# if\n",
    "# if else\n",
    "# if...elif..elif...else(Ladder if else)\n",
    "#nested if else"
   ]
  },
  {
   "cell_type": "code",
   "execution_count": null,
   "id": "673eb4c1",
   "metadata": {},
   "outputs": [],
   "source": [
    "# if\n",
    "# if consdition:\n",
    "#     task\n",
    "#     fgrt\n",
    "#     rth\n",
    "#     rth\n",
    "#     rth\n",
    "#     h\n",
    "# else:\n",
    "#     dsfsdf\n",
    "#     df\n",
    "#     sd\n",
    "#     fsd\n",
    "#     f\n",
    "\n",
    "    "
   ]
  },
  {
   "cell_type": "code",
   "execution_count": null,
   "id": "bf11ea33",
   "metadata": {},
   "outputs": [],
   "source": [
    "age=int(input(\"Enter Your Age: \"))\n",
    "if(age>60):\n",
    "    print(\"you are senior citizen\")"
   ]
  },
  {
   "cell_type": "code",
   "execution_count": 9,
   "id": "84b6e0da",
   "metadata": {},
   "outputs": [
    {
     "name": "stdout",
     "output_type": "stream",
     "text": [
      "Enter Your Age: 14\n",
      "you are not senior citizen\n"
     ]
    }
   ],
   "source": [
    "age=int(input(\"Enter Your Age: \"))\n",
    "if(age>60):\n",
    "    print(\"you are senior citizen\")\n",
    "else:\n",
    "    print(\"you are not senior citizen\")"
   ]
  },
  {
   "cell_type": "code",
   "execution_count": null,
   "id": "3f70c68c",
   "metadata": {},
   "outputs": [],
   "source": [
    "# # ladder if else\n",
    "# if condition1:\n",
    "#     sjkff\n",
    "#     sf\n",
    "#     sf\n",
    "# elif condition2:\n",
    "#     ferfgerg\n",
    "#     ge\n",
    "#     rge\n",
    "#     g\n",
    "# elif condition:\n",
    "    \n",
    "#     grt\n",
    "#     grt\n",
    "#     grt\n",
    "    \n",
    "# else:\n",
    "#     rgerge\n",
    "#     rge\n",
    "#     rer\n",
    "#     g\n",
    "#     er\n",
    "#     ge\n",
    "# gerger\n",
    "# ge\n",
    "# ge\n",
    "# g"
   ]
  },
  {
   "cell_type": "code",
   "execution_count": 13,
   "id": "d97a125b",
   "metadata": {},
   "outputs": [
    {
     "name": "stdout",
     "output_type": "stream",
     "text": [
      "Enter Your Age: 4\n",
      "You are not adult\n"
     ]
    }
   ],
   "source": [
    "age=int(input(\"Enter Your Age: \"))\n",
    "if(age>60 and age<150):\n",
    "    print(\"you are senior citizen\")\n",
    "elif(age<18 and age>0):\n",
    "    print(\"You are not adult\")\n",
    "elif(age>=18 and age<=60):\n",
    "    print(\"You are Young\")\n",
    "else:\n",
    "    print(\"you are not senior citizen\")\n",
    "    \n"
   ]
  },
  {
   "cell_type": "code",
   "execution_count": 15,
   "id": "85d7ebb2",
   "metadata": {},
   "outputs": [
    {
     "name": "stdout",
     "output_type": "stream",
     "text": [
      "Enter number148\n",
      "Enter number296\n",
      "Enter number325\n",
      "96 is larger\n"
     ]
    }
   ],
   "source": [
    "n1=int(input(\"Enter number1: \"))\n",
    "n2=int(input(\"Enter number2: \"))\n",
    "n3=int(input(\"Enter number3: \"))\n",
    "if(n1>n2):\n",
    "    if(n1>n3):\n",
    "        print(f\"{n1} is larger\")\n",
    "    else:\n",
    "        print(f\"{n3} is larger\")\n",
    "else:\n",
    "    if(n2>n3):\n",
    "        print(f\"{n2} is larger\")\n",
    "    else:\n",
    "        print(f\"{n3} is larger\")"
   ]
  }
 ],
 "metadata": {
  "kernelspec": {
   "display_name": "Python 3 (ipykernel)",
   "language": "python",
   "name": "python3"
  },
  "language_info": {
   "codemirror_mode": {
    "name": "ipython",
    "version": 3
   },
   "file_extension": ".py",
   "mimetype": "text/x-python",
   "name": "python",
   "nbconvert_exporter": "python",
   "pygments_lexer": "ipython3",
   "version": "3.9.12"
  }
 },
 "nbformat": 4,
 "nbformat_minor": 5
}
