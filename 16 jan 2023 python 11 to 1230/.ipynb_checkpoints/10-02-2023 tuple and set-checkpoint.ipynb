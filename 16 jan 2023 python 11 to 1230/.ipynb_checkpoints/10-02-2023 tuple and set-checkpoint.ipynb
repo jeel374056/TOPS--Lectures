{
 "cells": [
  {
   "cell_type": "code",
   "execution_count": null,
   "id": "09381902",
   "metadata": {},
   "outputs": [],
   "source": [
    "# tuple\n",
    "# tuple is a collection of elements of same as well as different datatype\n",
    "\n",
    "# tuple properties\n",
    "\n",
    "# tuple is immutable\n",
    "# tuple is oredered\n",
    "# tuple allow duplicates\n",
    "# tuple allow multiple value to be stored in asingle collection \n",
    "# tuple should be always in square brackets ()\n"
   ]
  },
  {
   "cell_type": "code",
   "execution_count": 23,
   "id": "76d75740",
   "metadata": {},
   "outputs": [
    {
     "name": "stdout",
     "output_type": "stream",
     "text": [
      "[45, 36, 89]\n",
      "(48, 56.32, True, 'hello', [45, 36, 89, 56], (48, 65), {48, 96}, {1: 'hekll', 2: 'world'})\n"
     ]
    }
   ],
   "source": [
    "tup1=(48,56.32,True,\"hello\",[45,36,89],(48,65),{48,96},{1:\"hekll\",2:\"world\"})\n",
    "print(tup1[4])\n",
    "tup1[4].append(56)\n",
    "print(tup1)"
   ]
  },
  {
   "cell_type": "code",
   "execution_count": 5,
   "id": "2dae1241",
   "metadata": {},
   "outputs": [
    {
     "name": "stdout",
     "output_type": "stream",
     "text": [
      "<class 'int'>\n",
      "<class 'float'>\n",
      "<class 'bool'>\n",
      "<class 'str'>\n",
      "<class 'list'>\n",
      "<class 'tuple'>\n",
      "<class 'set'>\n",
      "<class 'dict'>\n"
     ]
    }
   ],
   "source": [
    "for i in tup1:\n",
    "    print(type(i))"
   ]
  },
  {
   "cell_type": "code",
   "execution_count": 10,
   "id": "3aa353c5",
   "metadata": {},
   "outputs": [
    {
     "name": "stdout",
     "output_type": "stream",
     "text": [
      "<class 'list'>\n",
      "<class 'tuple'>\n"
     ]
    }
   ],
   "source": [
    "list1=[48]\n",
    "print(type(list1))\n",
    "tup1=(48,)\n",
    "print(type(tup1))"
   ]
  },
  {
   "cell_type": "code",
   "execution_count": 34,
   "id": "709d609e",
   "metadata": {},
   "outputs": [
    {
     "name": "stdout",
     "output_type": "stream",
     "text": [
      "6\n",
      "789\n",
      "12\n",
      "(48, 89, 14)\n"
     ]
    }
   ],
   "source": [
    "# functions\n",
    "# max,min,len,tuple\n",
    "tup1=(48,58,96,54,78,96,58,478,9,65,789,6)\n",
    "print(min(tup1))\n",
    "print(max(tup1))\n",
    "print(len(tup1))\n",
    "tup2=tuple({48:\"Hello\",89:48,14:85.36})\n",
    "print(tup2)"
   ]
  },
  {
   "cell_type": "code",
   "execution_count": 33,
   "id": "616a4d08",
   "metadata": {},
   "outputs": [
    {
     "name": "stdout",
     "output_type": "stream",
     "text": [
      "48\n",
      "89\n",
      "14\n"
     ]
    }
   ],
   "source": [
    "dict1={48:\"Hello\",89:48,14:85.36}\n",
    "for i in dict1:\n",
    "    print(i)"
   ]
  },
  {
   "cell_type": "code",
   "execution_count": 36,
   "id": "0324788e",
   "metadata": {},
   "outputs": [
    {
     "name": "stdout",
     "output_type": "stream",
     "text": [
      "0\n"
     ]
    }
   ],
   "source": [
    "# tuple methods\n",
    "# count() ---count the number of elements inside tuple\n",
    "tup1=(48,58,7899,8988,774,5857,5,\"dherdkhf\",\"rger\",\"erger\",True,48,58,48,96,54,87,85)\n",
    "print(tup1.count(89))"
   ]
  },
  {
   "cell_type": "code",
   "execution_count": 41,
   "id": "51f73f0c",
   "metadata": {},
   "outputs": [
    {
     "name": "stdout",
     "output_type": "stream",
     "text": [
      "12\n"
     ]
    },
    {
     "ename": "ValueError",
     "evalue": "tuple.index(x): x not in tuple",
     "output_type": "error",
     "traceback": [
      "\u001b[1;31m---------------------------------------------------------------------------\u001b[0m",
      "\u001b[1;31mValueError\u001b[0m                                Traceback (most recent call last)",
      "Input \u001b[1;32mIn [41]\u001b[0m, in \u001b[0;36m<cell line: 4>\u001b[1;34m()\u001b[0m\n\u001b[0;32m      2\u001b[0m tup1\u001b[38;5;241m=\u001b[39m(\u001b[38;5;241m48\u001b[39m,\u001b[38;5;241m58\u001b[39m,\u001b[38;5;241m7899\u001b[39m,\u001b[38;5;241m8988\u001b[39m,\u001b[38;5;241m774\u001b[39m,\u001b[38;5;241m5857\u001b[39m,\u001b[38;5;241m5\u001b[39m,\u001b[38;5;124m\"\u001b[39m\u001b[38;5;124mdherdkhf\u001b[39m\u001b[38;5;124m\"\u001b[39m,\u001b[38;5;124m\"\u001b[39m\u001b[38;5;124mrger\u001b[39m\u001b[38;5;124m\"\u001b[39m,\u001b[38;5;124m\"\u001b[39m\u001b[38;5;124merger\u001b[39m\u001b[38;5;124m\"\u001b[39m,\u001b[38;5;28;01mTrue\u001b[39;00m,\u001b[38;5;241m48\u001b[39m,\u001b[38;5;241m58\u001b[39m,\u001b[38;5;241m48\u001b[39m,\u001b[38;5;241m96\u001b[39m,\u001b[38;5;241m54\u001b[39m,\u001b[38;5;241m87\u001b[39m,\u001b[38;5;241m85\u001b[39m)\n\u001b[0;32m      3\u001b[0m \u001b[38;5;28mprint\u001b[39m(tup1\u001b[38;5;241m.\u001b[39mindex(\u001b[38;5;241m58\u001b[39m,\u001b[38;5;241m3\u001b[39m,\u001b[38;5;241m14\u001b[39m))\n\u001b[1;32m----> 4\u001b[0m \u001b[38;5;28mprint\u001b[39m(\u001b[43mtup1\u001b[49m\u001b[38;5;241;43m.\u001b[39;49m\u001b[43mindex\u001b[49m\u001b[43m(\u001b[49m\u001b[38;5;124;43m\"\u001b[39;49m\u001b[38;5;124;43mHello\u001b[39;49m\u001b[38;5;124;43m\"\u001b[39;49m\u001b[43m)\u001b[49m)\n",
      "\u001b[1;31mValueError\u001b[0m: tuple.index(x): x not in tuple"
     ]
    }
   ],
   "source": [
    "# index() ----gives the index of the element\n",
    "tup1=(48,58,7899,8988,774,5857,5,\"dherdkhf\",\"rger\",\"erger\",True,48,58,48,96,54,87,85)\n",
    "print(tup1.index(58,3,14))\n",
    "print(tup1.index(\"Hello\"))"
   ]
  },
  {
   "cell_type": "code",
   "execution_count": 44,
   "id": "3d98ea6e",
   "metadata": {},
   "outputs": [
    {
     "ename": "AttributeError",
     "evalue": "'tuple' object has no attribute 'search_all'",
     "output_type": "error",
     "traceback": [
      "\u001b[1;31m---------------------------------------------------------------------------\u001b[0m",
      "\u001b[1;31mAttributeError\u001b[0m                            Traceback (most recent call last)",
      "Input \u001b[1;32mIn [44]\u001b[0m, in \u001b[0;36m<cell line: 2>\u001b[1;34m()\u001b[0m\n\u001b[0;32m      1\u001b[0m \u001b[38;5;66;03m# how to find all index of elements inside collection\u001b[39;00m\n\u001b[1;32m----> 2\u001b[0m l1\u001b[38;5;241m=\u001b[39m\u001b[43mtup1\u001b[49m\u001b[38;5;241;43m.\u001b[39;49m\u001b[43msearch_all\u001b[49m(\u001b[38;5;241m48\u001b[39m)\n\u001b[0;32m      3\u001b[0m \u001b[38;5;28mprint\u001b[39m(l1)\n",
      "\u001b[1;31mAttributeError\u001b[0m: 'tuple' object has no attribute 'search_all'"
     ]
    }
   ],
   "source": [
    "# how to find all index of elements inside collection\n",
    "l1=tup1.search_all(48)\n",
    "print(l1)"
   ]
  },
  {
   "cell_type": "code",
   "execution_count": null,
   "id": "cceabb3c",
   "metadata": {},
   "outputs": [],
   "source": [
    "# set\n",
    "\n",
    "# set\n",
    "# set is a collection of elements of same as well as different datatype\n",
    "\n",
    "# set properties\n",
    "\n",
    "# set is mutable\n",
    "# set is unoredered\n",
    "# set doesn't allow duplicates\n",
    "# set allow multiple value to be stored in a single collection \n",
    "# set should be always in curly brackets {}\n"
   ]
  },
  {
   "cell_type": "code",
   "execution_count": 45,
   "id": "9995bb12",
   "metadata": {},
   "outputs": [
    {
     "name": "stdout",
     "output_type": "stream",
     "text": [
      "{65, 98, 899, 12, 45, 78, 56, 858}\n"
     ]
    }
   ],
   "source": [
    "set1={78,899,65,858,78,78,78,45,12,56,98,56}\n",
    "print(set1)"
   ]
  },
  {
   "cell_type": "code",
   "execution_count": 49,
   "id": "4c1e8122",
   "metadata": {},
   "outputs": [
    {
     "name": "stdout",
     "output_type": "stream",
     "text": [
      "<class 'set'>\n"
     ]
    }
   ],
   "source": [
    "set1=set()\n",
    "print(type(set1))"
   ]
  },
  {
   "cell_type": "code",
   "execution_count": 52,
   "id": "3d5d1eca",
   "metadata": {},
   "outputs": [
    {
     "name": "stdout",
     "output_type": "stream",
     "text": [
      "{1, 2, 3, 4, 5, 6, 7, 8, 9}\n"
     ]
    }
   ],
   "source": [
    "# union()---combine two sets in one sets\n",
    "set1={1,2,3,4,5}\n",
    "set2={6,7,8,9,4}\n",
    "set3=set1.union(set2)\n",
    "print(set3)"
   ]
  },
  {
   "cell_type": "code",
   "execution_count": 54,
   "id": "55a92050",
   "metadata": {},
   "outputs": [
    {
     "name": "stdout",
     "output_type": "stream",
     "text": [
      "{1, 2, 3, 4, 5, 'b', 9, 'a', 'c'}\n"
     ]
    }
   ],
   "source": [
    "set1={1,2,3,4,5}\n",
    "set2={'a','b','c',9,4}\n",
    "set3=set1.union(set2)\n",
    "print(set3)"
   ]
  },
  {
   "cell_type": "code",
   "execution_count": 82,
   "id": "c12e10ca",
   "metadata": {},
   "outputs": [
    {
     "name": "stdout",
     "output_type": "stream",
     "text": [
      "{4}\n",
      "{1, 2, 3, 4, 5}\n",
      "{4, 6, 7, 8, 9}\n"
     ]
    }
   ],
   "source": [
    "# intersection---give common lements of two sets\n",
    "set1={1,2,3,4,5}\n",
    "set2={6,7,8,9,4}\n",
    "set3=set1.intersection(set2)\n",
    "print(set3)\n",
    "print(set1)\n",
    "print(set2)"
   ]
  },
  {
   "cell_type": "code",
   "execution_count": 81,
   "id": "5773b920",
   "metadata": {},
   "outputs": [
    {
     "name": "stdout",
     "output_type": "stream",
     "text": [
      "{4}\n"
     ]
    }
   ],
   "source": [
    "# intersection_update ---update the intersection answer in one set\n",
    "set1={1,2,3,4,5}\n",
    "set2={6,7,8,9,4}\n",
    "set1.intersection_update(set2)\n",
    "print(set1)"
   ]
  },
  {
   "cell_type": "code",
   "execution_count": 55,
   "id": "fcb26fb4",
   "metadata": {},
   "outputs": [
    {
     "name": "stdout",
     "output_type": "stream",
     "text": [
      "{1, 2, 3, 5}\n"
     ]
    }
   ],
   "source": [
    "# difference will get the element of one set after removing common elements\n",
    "set1={1,2,3,4,5}\n",
    "set2={6,7,8,9,4}\n",
    "set3=set1.difference(set2)\n",
    "print(set3)"
   ]
  },
  {
   "cell_type": "code",
   "execution_count": 75,
   "id": "ab002861",
   "metadata": {},
   "outputs": [
    {
     "name": "stdout",
     "output_type": "stream",
     "text": [
      "{8, 9, 6, 7}\n",
      "{8, 9, 6, 7}\n"
     ]
    }
   ],
   "source": [
    "set1={1,2,3,4,5}\n",
    "set2={6,7,8,9,4}\n",
    "set3=set2.difference(set1)\n",
    "print(set3)\n",
    "print(set3)"
   ]
  },
  {
   "cell_type": "code",
   "execution_count": 83,
   "id": "2be8e03e",
   "metadata": {},
   "outputs": [
    {
     "name": "stdout",
     "output_type": "stream",
     "text": [
      "{6, 7, 8, 9}\n",
      "{1, 2, 3, 4, 5}\n"
     ]
    }
   ],
   "source": [
    "# update the answer of difference in first set\n",
    "set1={1,2,3,4,5}\n",
    "set2={6,7,8,9,4}\n",
    "set2.difference_update(set1)\n",
    "print(set2)\n",
    "print(set1)"
   ]
  },
  {
   "cell_type": "code",
   "execution_count": 77,
   "id": "dba020db",
   "metadata": {},
   "outputs": [
    {
     "name": "stdout",
     "output_type": "stream",
     "text": [
      "{1, 2, 3, 4, 5, 101, 102}\n"
     ]
    }
   ],
   "source": [
    "# add elemenst inside set at any position\n",
    "set1={1,2,3,4,5}\n",
    "set1.add(101)\n",
    "set1.add(102)\n",
    "print(set1)"
   ]
  },
  {
   "cell_type": "code",
   "execution_count": 78,
   "id": "3c76c005",
   "metadata": {},
   "outputs": [
    {
     "name": "stdout",
     "output_type": "stream",
     "text": [
      "set()\n"
     ]
    }
   ],
   "source": [
    "# it will clear the whole set\n",
    "set1={45,89,69,85}\n",
    "set1.clear()\n",
    "print(set1)"
   ]
  },
  {
   "cell_type": "code",
   "execution_count": 80,
   "id": "ec5f3082",
   "metadata": {},
   "outputs": [
    {
     "name": "stdout",
     "output_type": "stream",
     "text": [
      "{89, 45, 69, 85}\n"
     ]
    }
   ],
   "source": [
    "# it will copy onse set inside another\n",
    "set1={45,89,69,85}\n",
    "set2=set1.copy()\n",
    "print(set2)"
   ]
  },
  {
   "cell_type": "code",
   "execution_count": 95,
   "id": "a825ac2f",
   "metadata": {},
   "outputs": [
    {
     "name": "stdout",
     "output_type": "stream",
     "text": [
      "{89, 45, 69, 85}\n"
     ]
    }
   ],
   "source": [
    "# it removes particular elemnt from set and element is not in set it will not \n",
    "# give error  but return whole set\n",
    "set1={45,89,69,85}\n",
    "set1.discard(892)\n",
    "print(set1)"
   ]
  },
  {
   "cell_type": "code",
   "execution_count": 96,
   "id": "7d86f3e3",
   "metadata": {},
   "outputs": [
    {
     "ename": "KeyError",
     "evalue": "892",
     "output_type": "error",
     "traceback": [
      "\u001b[1;31m---------------------------------------------------------------------------\u001b[0m",
      "\u001b[1;31mKeyError\u001b[0m                                  Traceback (most recent call last)",
      "Input \u001b[1;32mIn [96]\u001b[0m, in \u001b[0;36m<cell line: 2>\u001b[1;34m()\u001b[0m\n\u001b[0;32m      1\u001b[0m set1\u001b[38;5;241m=\u001b[39m{\u001b[38;5;241m45\u001b[39m,\u001b[38;5;241m89\u001b[39m,\u001b[38;5;241m69\u001b[39m,\u001b[38;5;241m85\u001b[39m}\n\u001b[1;32m----> 2\u001b[0m \u001b[43mset1\u001b[49m\u001b[38;5;241;43m.\u001b[39;49m\u001b[43mremove\u001b[49m\u001b[43m(\u001b[49m\u001b[38;5;241;43m892\u001b[39;49m\u001b[43m)\u001b[49m\n\u001b[0;32m      3\u001b[0m \u001b[38;5;28mprint\u001b[39m(set1)\n",
      "\u001b[1;31mKeyError\u001b[0m: 892"
     ]
    }
   ],
   "source": [
    "# it removes particular elemnt from set and element is not in set it will \n",
    "# give error\n",
    "set1={45,89,69,85}\n",
    "set1.remove(892)\n",
    "print(set1)"
   ]
  },
  {
   "cell_type": "code",
   "execution_count": 93,
   "id": "e4b18d9c",
   "metadata": {},
   "outputs": [
    {
     "name": "stdout",
     "output_type": "stream",
     "text": [
      "{65, 98, 69, 85, 89, 45}\n"
     ]
    }
   ],
   "source": [
    "# it removes random element from set\n",
    "set1={45,89,69,85,48,98,65}\n",
    "set1.pop()\n",
    "print(set1)"
   ]
  },
  {
   "cell_type": "code",
   "execution_count": 99,
   "id": "c3c22747",
   "metadata": {},
   "outputs": [
    {
     "name": "stdout",
     "output_type": "stream",
     "text": [
      "{96, 6, 7, 87}\n"
     ]
    }
   ],
   "source": [
    "# it will give the union of all elemnts remain after intersection\n",
    "set1={1,2,3,4,5,6,7}\n",
    "set2={1,3,5,87,96,4,2}\n",
    "set3=set1.symmetric_difference(set2)\n",
    "print(set3)"
   ]
  },
  {
   "cell_type": "code",
   "execution_count": 100,
   "id": "6349b1cd",
   "metadata": {},
   "outputs": [
    {
     "name": "stdout",
     "output_type": "stream",
     "text": [
      "{96, 6, 7, 87}\n"
     ]
    }
   ],
   "source": [
    "set1={1,2,3,4,5,6,7}\n",
    "set2={1,3,5,87,96,4,2}\n",
    "set1.symmetric_difference_update(set2)\n",
    "print(set1)"
   ]
  },
  {
   "cell_type": "code",
   "execution_count": 103,
   "id": "af7ad44f",
   "metadata": {},
   "outputs": [
    {
     "name": "stdout",
     "output_type": "stream",
     "text": [
      "True\n",
      "True\n"
     ]
    }
   ],
   "source": [
    "\n",
    "set1={1,2,3,4,5,6,7,8,9} #superset\n",
    "set2={4,5,6} #subset\n",
    "print(set1.issuperset(set2)) #---give true when set1 is parent set or superset\n",
    "print(set2.issubset(set1)) #--give true when set2 is child or subset"
   ]
  },
  {
   "cell_type": "code",
   "execution_count": 105,
   "id": "031a1ae9",
   "metadata": {},
   "outputs": [
    {
     "name": "stdout",
     "output_type": "stream",
     "text": [
      "False\n"
     ]
    }
   ],
   "source": [
    "# isdisjoint --return true if there is no common element or return false if there\n",
    "# is any single common element\n",
    "set1={45,89,65,87}\n",
    "set2={1,2,3,4,89}\n",
    "print(set1.isdisjoint(set2))"
   ]
  },
  {
   "cell_type": "code",
   "execution_count": 108,
   "id": "dd1415fe",
   "metadata": {},
   "outputs": [
    {
     "name": "stdout",
     "output_type": "stream",
     "text": [
      "{'d', 1, 2, 34, 'b', 'f', 'g', 'r', 't', 'e'}\n"
     ]
    }
   ],
   "source": [
    "# update(iterable) --updates the iterables in set\n",
    "set1={1,2,34}\n",
    "set1.update(range(20,30))\n",
    "print(set1)"
   ]
  }
 ],
 "metadata": {
  "kernelspec": {
   "display_name": "Python 3 (ipykernel)",
   "language": "python",
   "name": "python3"
  },
  "language_info": {
   "codemirror_mode": {
    "name": "ipython",
    "version": 3
   },
   "file_extension": ".py",
   "mimetype": "text/x-python",
   "name": "python",
   "nbconvert_exporter": "python",
   "pygments_lexer": "ipython3",
   "version": "3.9.12"
  }
 },
 "nbformat": 4,
 "nbformat_minor": 5
}
