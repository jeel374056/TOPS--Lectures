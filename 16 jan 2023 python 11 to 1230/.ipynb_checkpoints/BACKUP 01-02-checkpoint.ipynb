{
 "cells": [
  {
   "cell_type": "markdown",
   "id": "db428fc5",
   "metadata": {},
   "source": [
    "gerergergergergergerer\n",
    "er\n",
    "ger\n",
    "g\n",
    "ger\n"
   ]
  },
  {
   "cell_type": "code",
   "execution_count": 17,
   "id": "86f31c20",
   "metadata": {},
   "outputs": [
    {
     "name": "stdout",
     "output_type": "stream",
     "text": [
      "hofge i'urfh\bnvj \"viurv' ekr------R\"ge \"rg er'ge\\rgerg\n"
     ]
    }
   ],
   "source": [
    "print(\"hofge i'urfh\\bnvj \\\"viurv' ekr\",end=\"------\")\n",
    "print('R\"ge \"rg er\\'ge\\\\rgerg')"
   ]
  },
  {
   "cell_type": "code",
   "execution_count": 21,
   "id": "db0be45e",
   "metadata": {},
   "outputs": [
    {
     "name": "stdout",
     "output_type": "stream",
     "text": [
      "hello\n"
     ]
    }
   ],
   "source": [
    "# single line #\n",
    "'''\n",
    "weffwfwefwefwe\n",
    "fwe\n",
    "f\n",
    "wefwef\n",
    "\n",
    "'''\n",
    "print(\"hello\")"
   ]
  },
  {
   "cell_type": "code",
   "execution_count": 23,
   "id": "1efe458e",
   "metadata": {},
   "outputs": [
    {
     "data": {
      "text/plain": [
       "10"
      ]
     },
     "execution_count": 23,
     "metadata": {},
     "output_type": "execute_result"
    }
   ],
   "source": [
    "a=10\n",
    "\n",
    "int\n",
    "float\n",
    "string str\n",
    "boolean bool"
   ]
  },
  {
   "cell_type": "code",
   "execution_count": 28,
   "id": "2e87147e",
   "metadata": {},
   "outputs": [
    {
     "name": "stdout",
     "output_type": "stream",
     "text": [
      "<class 'bool'>\n"
     ]
    }
   ],
   "source": [
    "# type(variablername)\n",
    "a=True\n",
    "print(type(a))\n"
   ]
  },
  {
   "cell_type": "code",
   "execution_count": 29,
   "id": "93495493",
   "metadata": {},
   "outputs": [
    {
     "ename": "SyntaxError",
     "evalue": "invalid syntax (4014223839.py, line 5)",
     "output_type": "error",
     "traceback": [
      "\u001b[1;36m  Input \u001b[1;32mIn [29]\u001b[1;36m\u001b[0m\n\u001b[1;33m    $1=10\u001b[0m\n\u001b[1;37m    ^\u001b[0m\n\u001b[1;31mSyntaxError\u001b[0m\u001b[1;31m:\u001b[0m invalid syntax\n"
     ]
    }
   ],
   "source": [
    "# identifier rule\n",
    "# name\n",
    "\n",
    "# 1)first character should be A_Z a-z _\n",
    "# 2)other character should be A_Z a-z _ 0-9\n",
    "\n",
    "# suggestion\n",
    "\n",
    "# logical name\n",
    "# spaces \n",
    "# 255 character exceeding\n",
    "# keywords not use\n",
    "\n",
    "# =a\n",
    "# name=45"
   ]
  },
  {
   "cell_type": "code",
   "execution_count": 31,
   "id": "ce05505e",
   "metadata": {},
   "outputs": [
    {
     "name": "stdout",
     "output_type": "stream",
     "text": [
      "hello My number is  10 My name is  Sugandh\n",
      "hello my number is 10 my name is Sugandh\n"
     ]
    }
   ],
   "source": [
    "a=10\n",
    "b=\"Sugandh\"\n",
    "print(\"hello My number is \",a,\"My name is \",b)\n",
    "print(f\"hello my number is {a} my name is {b}\") #formatted string"
   ]
  },
  {
   "cell_type": "code",
   "execution_count": 42,
   "id": "65b95ca2",
   "metadata": {},
   "outputs": [
    {
     "name": "stdout",
     "output_type": "stream",
     "text": [
      "Enter number 48.96\n",
      "<class 'float'>\n",
      "Value of a is 48.96\n"
     ]
    }
   ],
   "source": [
    "# input()\n",
    "a=float(input(\"Enter number \"))\n",
    "print(type(a))\n",
    "print(f\"Value of a is {a}\")"
   ]
  },
  {
   "cell_type": "code",
   "execution_count": null,
   "id": "331dbad9",
   "metadata": {},
   "outputs": [],
   "source": [
    "# typecasting\n",
    "# datatype(variablename)"
   ]
  },
  {
   "cell_type": "code",
   "execution_count": null,
   "id": "75e0187c",
   "metadata": {},
   "outputs": [],
   "source": [
    "# operators\n",
    "\n",
    "arithmetic operators + - * / % // **\n",
    "assignement operator = += -= *= /= \n",
    "condition or relational or comparsion operator > < >= <= == !=\n",
    "logical operator and or not\n",
    "bitwise operator & | << >>\n",
    "identity operator is is not\n",
    "membership operator in not in \n",
    "miscelleanous operator ?: "
   ]
  },
  {
   "cell_type": "code",
   "execution_count": 53,
   "id": "9974afb7",
   "metadata": {},
   "outputs": [
    {
     "name": "stdout",
     "output_type": "stream",
     "text": [
      "70\n",
      "30\n",
      "1000\n",
      "2.5\n",
      "10\n",
      "2\n",
      "16\n"
     ]
    }
   ],
   "source": [
    "a=50\n",
    "b=20\n",
    "print(a+b)\n",
    "print(a-b)\n",
    "print(a*b)\n",
    "print(a/b)\n",
    "print(a%b)\n",
    "print(a//b) #give floor value\n",
    "print(2**4)"
   ]
  },
  {
   "cell_type": "code",
   "execution_count": 56,
   "id": "b61b91e5",
   "metadata": {},
   "outputs": [
    {
     "name": "stdout",
     "output_type": "stream",
     "text": [
      "60\n"
     ]
    }
   ],
   "source": [
    "a=80\n",
    "# a=a+10\n",
    "# a=80+30\n",
    "# a+=10\n",
    "a=a-20\n",
    "a-=20\n",
    "print(a)"
   ]
  },
  {
   "cell_type": "code",
   "execution_count": 64,
   "id": "c7b1c325",
   "metadata": {},
   "outputs": [
    {
     "name": "stdout",
     "output_type": "stream",
     "text": [
      "False\n",
      "True\n"
     ]
    }
   ],
   "source": [
    "print(85>90)\n",
    "print(\"HelLm\">\"HelAm\")"
   ]
  },
  {
   "cell_type": "code",
   "execution_count": 68,
   "id": "3a8cdd3b",
   "metadata": {},
   "outputs": [
    {
     "name": "stdout",
     "output_type": "stream",
     "text": [
      "False\n"
     ]
    }
   ],
   "source": [
    "print(55!=55)"
   ]
  },
  {
   "cell_type": "code",
   "execution_count": 75,
   "id": "7ded21c1",
   "metadata": {},
   "outputs": [
    {
     "name": "stdout",
     "output_type": "stream",
     "text": [
      "False\n",
      "True\n"
     ]
    }
   ],
   "source": [
    "print(85>65 and 55<25 or 96<52 )\n",
    "print(not(56<25))"
   ]
  },
  {
   "cell_type": "code",
   "execution_count": 79,
   "id": "46a60623",
   "metadata": {},
   "outputs": [
    {
     "name": "stdout",
     "output_type": "stream",
     "text": [
      "22\n",
      "118\n",
      "21\n",
      "344\n"
     ]
    }
   ],
   "source": [
    "print(86&54)\n",
    "print(86|54)\n",
    "print(86>>2)\n",
    "print(86<<2)"
   ]
  },
  {
   "cell_type": "code",
   "execution_count": null,
   "id": "6bcd121e",
   "metadata": {},
   "outputs": [],
   "source": [
    "simple if\n",
    "if else\n",
    "if elif..elif..elif.......else  (ladder if else)\n",
    "nested if else\n"
   ]
  },
  {
   "cell_type": "code",
   "execution_count": null,
   "id": "7824c9c2",
   "metadata": {},
   "outputs": [],
   "source": [
    "# simle if\n",
    "\n",
    "if condition:\n",
    "    body\n",
    "    "
   ]
  },
  {
   "cell_type": "code",
   "execution_count": 81,
   "id": "eddb7821",
   "metadata": {},
   "outputs": [
    {
     "name": "stdout",
     "output_type": "stream",
     "text": [
      "Enter Age: 14\n"
     ]
    }
   ],
   "source": [
    "age =int(input(\"Enter Age: \"))\n",
    "if age>18:\n",
    "    print(\"adult\")"
   ]
  },
  {
   "cell_type": "code",
   "execution_count": null,
   "id": "b8aa6bff",
   "metadata": {},
   "outputs": [],
   "source": [
    "if ..else\n",
    "\n",
    "if condition:\n",
    "    if ki body\n",
    "    .\n",
    "    .\n",
    "    .\n",
    "    .\n",
    "else:\n",
    "    dg\n",
    "    g\n",
    "    g\n",
    "    dg\n",
    "    df\n",
    "    g\n",
    "    \n",
    "    "
   ]
  },
  {
   "cell_type": "code",
   "execution_count": 83,
   "id": "d6ec9f98",
   "metadata": {},
   "outputs": [
    {
     "name": "stdout",
     "output_type": "stream",
     "text": [
      "Enter Age: 14\n",
      "Not an adult \n"
     ]
    }
   ],
   "source": [
    "age =int(input(\"Enter Age: \"))\n",
    "if age>18:\n",
    "    print(\"adult\")\n",
    "else:\n",
    "    print(\"Not an adult \")"
   ]
  },
  {
   "cell_type": "code",
   "execution_count": null,
   "id": "18583698",
   "metadata": {},
   "outputs": [],
   "source": [
    "if..elif..elif..elif......else\n",
    "\n",
    "if condition1:\n",
    "    rfg\n",
    "    eg\n",
    "    ege\n",
    "    rge\n",
    "elif condition2:\n",
    "    efgertg\n",
    "    g\n",
    "    er\n",
    "elif condition3:\n",
    "    ergege\n",
    "    rge\n",
    "else:\n",
    "    etfget\n",
    "    gerg\n",
    "    ee\n",
    "    r"
   ]
  },
  {
   "cell_type": "code",
   "execution_count": 89,
   "id": "049bb26a",
   "metadata": {},
   "outputs": [
    {
     "name": "stdout",
     "output_type": "stream",
     "text": [
      "Enter Age: 96\n",
      "Senior children\n"
     ]
    }
   ],
   "source": [
    "age =int(input(\"Enter Age: \"))\n",
    "if age>18 and age<40:\n",
    "    print(\"adult\")\n",
    "elif age>=40 and age<60:\n",
    "    print(\"Mid-young\")\n",
    "elif age>60:\n",
    "    print(\"Senior children\")\n",
    "else:\n",
    "    print(\"child\")"
   ]
  },
  {
   "cell_type": "code",
   "execution_count": 92,
   "id": "b301865f",
   "metadata": {},
   "outputs": [
    {
     "name": "stdout",
     "output_type": "stream",
     "text": [
      "ENter Number1 78\n",
      "ENter Number2 45\n",
      "ENter Number3 124\n",
      "124 is greater\n"
     ]
    }
   ],
   "source": [
    "a=int(input(\"ENter Number1 \"))\n",
    "b=int(input(\"ENter Number2 \"))\n",
    "c=int(input(\"ENter Number3 \"))\n",
    "if a>b:\n",
    "    if a>c:\n",
    "        print(f\"{a} is greater\")\n",
    "    else:\n",
    "        print(f\"{c} is greater\")\n",
    "\n",
    "else:\n",
    "    if b>c:\n",
    "        print(f\"{b} is greater\")\n",
    "    else:\n",
    "        print(f\"{c} is greater\")"
   ]
  },
  {
   "cell_type": "code",
   "execution_count": null,
   "id": "14b156f2",
   "metadata": {},
   "outputs": [],
   "source": [
    "# loop\n",
    "\n",
    "for  string range list tuple set dictionary\n",
    "\n",
    "for i in sequence:\n",
    "    body of the for loop\n",
    "    \n",
    "    fr\n",
    "    \n",
    "    fwf\n",
    "    we\n",
    "\n",
    "\n",
    "\n",
    "\n",
    "while condition\n",
    "\n",
    "\n",
    "while condition:\n",
    "    body of the while loop\n",
    "    erfg\n",
    "    er\n",
    "    ger\n",
    "    eg"
   ]
  },
  {
   "cell_type": "code",
   "execution_count": 94,
   "id": "7c66c095",
   "metadata": {},
   "outputs": [
    {
     "name": "stdout",
     "output_type": "stream",
     "text": [
      "value of i is 0\n",
      "value of i is 1\n",
      "value of i is 2\n",
      "value of i is 3\n",
      "value of i is 4\n",
      "value of i is 5\n",
      "value of i is 6\n",
      "value of i is 7\n",
      "value of i is 8\n",
      "value of i is 9\n"
     ]
    }
   ],
   "source": [
    "# range([start,]stop[,step])\n",
    "# print(range(10))\n",
    "for i in range(10):\n",
    "    print(f\"value of i is {i}\")"
   ]
  },
  {
   "cell_type": "code",
   "execution_count": null,
   "id": "ac183ab8",
   "metadata": {},
   "outputs": [],
   "source": [
    "range(10)\n",
    "then this value is considered as a stop or end value and by default value of\n",
    "start is 0\n",
    "\n",
    "and by default value of step is 1\n",
    "\n",
    "end value is not considered one value before stop is the end point of range"
   ]
  },
  {
   "cell_type": "code",
   "execution_count": 95,
   "id": "b7a420ec",
   "metadata": {},
   "outputs": [
    {
     "name": "stdout",
     "output_type": "stream",
     "text": [
      "16\n",
      "25\n",
      "36\n",
      "49\n",
      "64\n",
      "81\n",
      "100\n",
      "121\n",
      "144\n",
      "169\n",
      "196\n",
      "225\n"
     ]
    }
   ],
   "source": [
    "# range(4,16)\n",
    "\n",
    "# it start from 4 but ends in 15 not in 16\n",
    "\n",
    "\n",
    "\n",
    "for i in range(4,16):\n",
    "    print(i**2)\n",
    "\n",
    "\n"
   ]
  },
  {
   "cell_type": "code",
   "execution_count": null,
   "id": "32622470",
   "metadata": {},
   "outputs": [],
   "source": [
    "# the step of range is by default 1 and its positive value so \n",
    "# direction is left to right\n",
    "\n",
    "-8 -7 -6 -5 -4 -3 -2 -1 0 1 2 3 4 5 6 7\n",
    "\n",
    "step \n",
    "positive left to right\n",
    "negative  right to left\n",
    "\n",
    "range(7,1,-2)\n",
    "\n",
    "\n"
   ]
  },
  {
   "cell_type": "code",
   "execution_count": 2,
   "id": "68c3ef3a",
   "metadata": {},
   "outputs": [
    {
     "name": "stdout",
     "output_type": "stream",
     "text": [
      "HEllo Wolrd\n",
      "Enter String: rtyrth 4t65bn4yrth ^%&^%& grtgrtg \n",
      "rtyrth 4t65bn4yrth ^%&^%& grtgrtg \n"
     ]
    }
   ],
   "source": [
    "# string\n",
    "''\n",
    "\"\"\n",
    "\"\"\" \"\"\"   '''  '''\n",
    "\n",
    "string1=\"HEllo Wolrd\"\n",
    "print(string1)\n",
    "str1=input(\"Enter String: \")\n",
    "print(str1)"
   ]
  },
  {
   "cell_type": "code",
   "execution_count": 4,
   "id": "bf23e26f",
   "metadata": {},
   "outputs": [
    {
     "name": "stdout",
     "output_type": "stream",
     "text": [
      "89\n",
      "<class 'int'>\n"
     ]
    }
   ],
   "source": [
    "# functions and methods\n",
    "l1=89\n",
    "print(str(l1))\n",
    "print(type(l1))"
   ]
  },
  {
   "cell_type": "code",
   "execution_count": 6,
   "id": "7e693b0c",
   "metadata": {},
   "outputs": [
    {
     "name": "stdout",
     "output_type": "stream",
     "text": [
      "Ksdkhf jkhrtverjerf lkjhfklocdn jkrbjker jkfrhekf vc jbfnkj nbfjkhb\n",
      "ksdkhf jkhrtverjerf lkjhfklocdn jkrbjker jkfrhekf vc jbfnkj nbfjkhb\n"
     ]
    }
   ],
   "source": [
    "# methods\n",
    "str1=\"ksdkhf jkhrtverjerf LKJHFKLOcdn jkrbjker JKFRHEKF vc jbfnkj NBFjkhb\"\n",
    "print(str1.capitalize())\n",
    "print(str1.casefold())\n"
   ]
  },
  {
   "cell_type": "code",
   "execution_count": 15,
   "id": "698c5593",
   "metadata": {},
   "outputs": [
    {
     "name": "stdout",
     "output_type": "stream",
     "text": [
      "False\n",
      "True\n",
      "False\n"
     ]
    }
   ],
   "source": [
    "# string.endswith(\"substring[,start][,end]\")\n",
    "str1=\"ksdkhf jkhrtverjerf LKJHFKLOcdn jkrbjker JKFRHEKF vc jbfnkj NBFjkhb\"\n",
    "print(str1.endswith(\"phb\"))\n",
    "print(str1.endswith(\"hb\",8))\n",
    "print(str1.endswith(\"ht\",0,6))"
   ]
  },
  {
   "cell_type": "code",
   "execution_count": 25,
   "id": "c5ea5d27",
   "metadata": {},
   "outputs": [
    {
     "name": "stdout",
     "output_type": "stream",
     "text": [
      "                      hello                       \n",
      "$$$$$$$$$$$$$$$$$$$$$$hello$$$$$$$$$$$$$$$$$$$$$$$\n",
      "###############################################hello################################################\n"
     ]
    }
   ],
   "source": [
    "# string.center(width[,fillchar])\n",
    "str1=\"hello\"\n",
    "print(str1.center(50))\n",
    "print(str1.center(50,\"$\"))\n",
    "# print(str1.center(50,\"+*\"))\n",
    "print(str1.center(100,\"#\"))"
   ]
  },
  {
   "cell_type": "code",
   "execution_count": 27,
   "id": "b7544e44",
   "metadata": {},
   "outputs": [
    {
     "name": "stdout",
     "output_type": "stream",
     "text": [
      "    *     \n",
      "   * *    \n",
      "  * * *   \n",
      " * * * *  \n",
      "* * * * * \n"
     ]
    }
   ],
   "source": [
    "for i in range(1,6):\n",
    "    str1=\"* \"*i\n",
    "    print(str1.center(10))"
   ]
  },
  {
   "cell_type": "code",
   "execution_count": 36,
   "id": "c12f192f",
   "metadata": {},
   "outputs": [
    {
     "name": "stdout",
     "output_type": "stream",
     "text": [
      "2\n",
      "1\n",
      "0\n"
     ]
    }
   ],
   "source": [
    "# string.count(\"substring\"[,start][,end])\n",
    "str1=\"Hello all Welcome to tops techn96ologies 65  hello all good\"\n",
    "print(str1.count(\"all\"))\n",
    "print(str1.count(\"all\",10))\n",
    "print(str1.count(\"all\",10,17))"
   ]
  },
  {
   "cell_type": "code",
   "execution_count": 39,
   "id": "3cef2502",
   "metadata": {},
   "outputs": [
    {
     "name": "stdout",
     "output_type": "stream",
     "text": [
      "6\n",
      "51\n",
      "-1\n"
     ]
    }
   ],
   "source": [
    "# find\n",
    "str1=\"Hello all Welcome to tops techn96ologies 65  hello all good\"\n",
    "print(str1.find(\"all\"))\n",
    "print(str1.find(\"all\",8))\n",
    "print(str1.find(\"all\",8,16))"
   ]
  },
  {
   "cell_type": "code",
   "execution_count": 42,
   "id": "3f6238c8",
   "metadata": {},
   "outputs": [
    {
     "name": "stdout",
     "output_type": "stream",
     "text": [
      "ejfhr jrgvek e Treee fkvj gfjkbnr 25 klbjlr jkrb True\n"
     ]
    }
   ],
   "source": [
    "a=\"Treee\"\n",
    "b=25\n",
    "c=True\n",
    "str1=f\"ejfhr jrgvek e {a} fkvj gfjkbnr {b} klbjlr jkrb {c}\"\n",
    "str1=\"ejfhr jrgvek e {} fkvj gfjkbnr {} klbjlr jkrb {}\".format(a,b,c)\n",
    "print(str1)"
   ]
  },
  {
   "cell_type": "code",
   "execution_count": 43,
   "id": "62446467",
   "metadata": {},
   "outputs": [
    {
     "name": "stdout",
     "output_type": "stream",
     "text": [
      "6\n",
      "51\n"
     ]
    },
    {
     "ename": "ValueError",
     "evalue": "substring not found",
     "output_type": "error",
     "traceback": [
      "\u001b[1;31m---------------------------------------------------------------------------\u001b[0m",
      "\u001b[1;31mValueError\u001b[0m                                Traceback (most recent call last)",
      "Input \u001b[1;32mIn [43]\u001b[0m, in \u001b[0;36m<cell line: 5>\u001b[1;34m()\u001b[0m\n\u001b[0;32m      3\u001b[0m \u001b[38;5;28mprint\u001b[39m(str1\u001b[38;5;241m.\u001b[39mindex(\u001b[38;5;124m\"\u001b[39m\u001b[38;5;124mall\u001b[39m\u001b[38;5;124m\"\u001b[39m))\n\u001b[0;32m      4\u001b[0m \u001b[38;5;28mprint\u001b[39m(str1\u001b[38;5;241m.\u001b[39mindex(\u001b[38;5;124m\"\u001b[39m\u001b[38;5;124mall\u001b[39m\u001b[38;5;124m\"\u001b[39m,\u001b[38;5;241m8\u001b[39m))\n\u001b[1;32m----> 5\u001b[0m \u001b[38;5;28mprint\u001b[39m(\u001b[43mstr1\u001b[49m\u001b[38;5;241;43m.\u001b[39;49m\u001b[43mindex\u001b[49m\u001b[43m(\u001b[49m\u001b[38;5;124;43m\"\u001b[39;49m\u001b[38;5;124;43mall\u001b[39;49m\u001b[38;5;124;43m\"\u001b[39;49m\u001b[43m,\u001b[49m\u001b[38;5;241;43m8\u001b[39;49m\u001b[43m,\u001b[49m\u001b[38;5;241;43m16\u001b[39;49m\u001b[43m)\u001b[49m)\n",
      "\u001b[1;31mValueError\u001b[0m: substring not found"
     ]
    }
   ],
   "source": [
    "#index\n",
    "str1=\"Hello all Welcome to tops techn96ologies 65  hello all good\"\n",
    "print(str1.index(\"all\"))\n",
    "print(str1.index(\"all\",8))\n",
    "print(str1.index(\"all\",8,16))"
   ]
  },
  {
   "cell_type": "code",
   "execution_count": 46,
   "id": "b96ade9f",
   "metadata": {},
   "outputs": [
    {
     "name": "stdout",
     "output_type": "stream",
     "text": [
      "Hello All Welcome To Tops Techjkdsbdn96Ologies 65  Hello All Good\n",
      "hELLO ALL wELCOME TO TOPS TECHjkdsbdN96OLOGIES 65  HELLO ALL GOOD\n"
     ]
    }
   ],
   "source": [
    "str1=\"Hello all Welcome to tops techJKDSBDn96ologies 65  hello all good\"\n",
    "print(str1.title())\n",
    "print(str1.swapcase())"
   ]
  },
  {
   "cell_type": "code",
   "execution_count": 49,
   "id": "dbf94b7c",
   "metadata": {},
   "outputs": [
    {
     "name": "stdout",
     "output_type": "stream",
     "text": [
      "Hello                                             \n",
      "Hello*********************************************\n",
      "                                             Hello\n",
      "*********************************************Hello\n"
     ]
    }
   ],
   "source": [
    "str1=\"Hello\"\n",
    "print(str1.ljust(50))\n",
    "print(str1.ljust(50,\"*\"))\n",
    "print(str1.rjust(50))\n",
    "print(str1.rjust(50,\"*\"))"
   ]
  },
  {
   "cell_type": "code",
   "execution_count": 51,
   "id": "21ba4ef1",
   "metadata": {},
   "outputs": [
    {
     "name": "stdout",
     "output_type": "stream",
     "text": [
      "('Hello all ', 'tops', ' Welcome to tops techJKDSBDn96ologies 65 tops  hello all good')\n"
     ]
    }
   ],
   "source": [
    "str1=\"Hello all tops Welcome to tops techJKDSBDn96ologies 65 tops  hello all good\"\n",
    "print(str1.partition(\"tops\"))"
   ]
  },
  {
   "cell_type": "code",
   "execution_count": 54,
   "id": "4dd69248",
   "metadata": {},
   "outputs": [
    {
     "name": "stdout",
     "output_type": "stream",
     "text": [
      "Hello all YOUREWQ Welcome to YOUREWQ techJKDSBDn96ologies 65 YOUREWQ  hello all good\n",
      "Hello all YOUREWQ Welcome to YOUREWQ techJKDSBDn96ologies 65 YOUREWQ  hello all good\n"
     ]
    }
   ],
   "source": [
    "# replace(\"old\",\"new\"[,count])\n",
    "str2=\"Hello all tops Welcome to tops techJKDSBDn96ologies 65 tops  hello all good\"\n",
    "print(str1.replace(\"tops\",\"YOUREWQ\"))\n",
    "print(str1.replace(\"tops\",\"YOUREWQ\",4))"
   ]
  },
  {
   "cell_type": "code",
   "execution_count": 59,
   "id": "7e94b5d6",
   "metadata": {},
   "outputs": [
    {
     "name": "stdout",
     "output_type": "stream",
     "text": [
      "['Hello all ', ' Welcome to ', ' techJKDSBDn96ologies 65 ', '  hello all good']\n",
      "['Hello all ', ' Welcome to ', ' techJKDSBDn96ologies 65 tops  hello all good']\n"
     ]
    }
   ],
   "source": [
    "# split(\"separatpr\")\n",
    "str1=\"Hello all tops Welcome to tops techJKDSBDn96ologies 65 tops  hello all good\"\n",
    "print(str1.split(\"tops\"))\n",
    "print(str1.split(\"tops\",2))"
   ]
  },
  {
   "cell_type": "code",
   "execution_count": 61,
   "id": "83590598",
   "metadata": {},
   "outputs": [
    {
     "name": "stdout",
     "output_type": "stream",
     "text": [
      "False\n"
     ]
    }
   ],
   "source": [
    "str1=\"Hello WorlWd Wow Welfare\"\n",
    "print(str1.istitle())"
   ]
  },
  {
   "cell_type": "code",
   "execution_count": 65,
   "id": "5e1224e8",
   "metadata": {},
   "outputs": [
    {
     "name": "stdout",
     "output_type": "stream",
     "text": [
      "False\n"
     ]
    }
   ],
   "source": [
    "str1=\"jhedgjhdvcf\"\n",
    "print(str1.isalpha())"
   ]
  },
  {
   "cell_type": "code",
   "execution_count": 68,
   "id": "4fa613ac",
   "metadata": {},
   "outputs": [
    {
     "name": "stdout",
     "output_type": "stream",
     "text": [
      "False\n"
     ]
    }
   ],
   "source": [
    "str1=\"jhedgjhdv65746cf\"\n",
    "\n",
    "print(str1.isalnum())"
   ]
  },
  {
   "cell_type": "code",
   "execution_count": 71,
   "id": "c9f21686",
   "metadata": {},
   "outputs": [
    {
     "name": "stdout",
     "output_type": "stream",
     "text": [
      "False\n"
     ]
    }
   ],
   "source": [
    "str1=\"jhedgjhdvcf54685   λ467457#$%&^$%&^$&\"\n",
    "print(str1.isascii())"
   ]
  },
  {
   "cell_type": "code",
   "execution_count": 76,
   "id": "23ad7fbf",
   "metadata": {},
   "outputs": [
    {
     "name": "stdout",
     "output_type": "stream",
     "text": [
      "True\n"
     ]
    }
   ],
   "source": [
    "str1=\"j_hedgjhdv65746cf\"\n",
    "print(str1.isidentifier())"
   ]
  },
  {
   "cell_type": "code",
   "execution_count": 78,
   "id": "52f2b251",
   "metadata": {},
   "outputs": [
    {
     "name": "stdout",
     "output_type": "stream",
     "text": [
      "False\n",
      "False\n",
      "False\n"
     ]
    }
   ],
   "source": [
    "str1=\"78.6778\"\n",
    "print(str1.isdigit())\n",
    "print(str1.isnumeric())\n",
    "print(str1.isdecimal())"
   ]
  },
  {
   "cell_type": "code",
   "execution_count": 84,
   "id": "c558eb04",
   "metadata": {},
   "outputs": [
    {
     "name": "stdout",
     "output_type": "stream",
     "text": [
      "B join U join I join P join Y join T\n"
     ]
    }
   ],
   "source": [
    "str1=\" join \"\n",
    "str1.join([\"Hello\",\"world\"])\n",
    "print(str1.join(\"BUIPYT\"))"
   ]
  },
  {
   "cell_type": "code",
   "execution_count": 88,
   "id": "0dd62510",
   "metadata": {},
   "outputs": [
    {
     "name": "stdout",
     "output_type": "stream",
     "text": [
      " ntjbr\n",
      "df bvgt\n",
      "df bvgtvren rebgjhtbnm rebgfe\n"
     ]
    }
   ],
   "source": [
    "str1=\"efgber mnbthjgber nervtgvb fd\"\n",
    "print(str1[6:17:2])\n",
    "print(str1[-1:-8:-1])\n",
    "print(str1[-1::-1])"
   ]
  },
  {
   "cell_type": "code",
   "execution_count": null,
   "id": "d09ee036",
   "metadata": {},
   "outputs": [],
   "source": []
  }
 ],
 "metadata": {
  "kernelspec": {
   "display_name": "Python 3 (ipykernel)",
   "language": "python",
   "name": "python3"
  },
  "language_info": {
   "codemirror_mode": {
    "name": "ipython",
    "version": 3
   },
   "file_extension": ".py",
   "mimetype": "text/x-python",
   "name": "python",
   "nbconvert_exporter": "python",
   "pygments_lexer": "ipython3",
   "version": "3.9.12"
  }
 },
 "nbformat": 4,
 "nbformat_minor": 5
}
