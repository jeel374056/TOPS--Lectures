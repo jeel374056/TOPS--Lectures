{
 "cells": [
  {
   "cell_type": "code",
   "execution_count": null,
   "id": "99a4649e",
   "metadata": {},
   "outputs": [],
   "source": [
    "# list\n",
    "# list is a collection of elements of same as well as different datatype\n",
    "\n",
    "# list properties\n",
    "# list is mutable\n",
    "# list is oredered\n",
    "# list allow duplicates\n",
    "# list allow multiple value to be stored in asingle collection \n",
    "# list should be always in square brackets []\n"
   ]
  },
  {
   "cell_type": "code",
   "execution_count": 10,
   "id": "3d2a9fa5",
   "metadata": {},
   "outputs": [
    {
     "name": "stdout",
     "output_type": "stream",
     "text": [
      "[True, 'Hello', [1, 2, 3], (45, 6)]\n"
     ]
    }
   ],
   "source": [
    "list1=[89,45.36,True,\"Hello\",[1,2,3],(45,6),{48,96},{1:\"Good\",2:\"Morning\"}]\n",
    "# print(list1)\n",
    "# print(list1[3])\n",
    "# print(list1[3][2:5])\n",
    "# print(list1[2:6])"
   ]
  },
  {
   "cell_type": "code",
   "execution_count": 6,
   "id": "4d7f1b65",
   "metadata": {},
   "outputs": [
    {
     "name": "stdout",
     "output_type": "stream",
     "text": [
      "89-<class 'int'>\n",
      "45.36-<class 'float'>\n",
      "True-<class 'bool'>\n",
      "Hello-<class 'str'>\n",
      "[1, 2, 3]-<class 'list'>\n",
      "(45, 6)-<class 'tuple'>\n",
      "{48, 96}-<class 'set'>\n",
      "{1: 'Good', 2: 'Morning'}-<class 'dict'>\n"
     ]
    }
   ],
   "source": [
    "for i in list1:\n",
    "    print(i,end=\"-\")\n",
    "    print(type(i))"
   ]
  },
  {
   "cell_type": "code",
   "execution_count": 12,
   "id": "b2829c64",
   "metadata": {},
   "outputs": [
    {
     "name": "stdout",
     "output_type": "stream",
     "text": [
      "[24, 45, 78, 69, 48]\n",
      "[24, 45, 89, 69, 48]\n"
     ]
    }
   ],
   "source": [
    "# list is mutable\n",
    "list1=[24,45,78,69,48]\n",
    "print(list1)\n",
    "list1[2]=89\n",
    "print(list1)\n"
   ]
  },
  {
   "cell_type": "code",
   "execution_count": 35,
   "id": "908eee7e",
   "metadata": {},
   "outputs": [
    {
     "name": "stdout",
     "output_type": "stream",
     "text": [
      "[58, 47, 1, 2, 3, 4, 5, 6, 7, 8, 87, 96]\n",
      "116\n",
      "94\n",
      "2\n",
      "4\n",
      "6\n",
      "8\n",
      "10\n",
      "12\n",
      "14\n",
      "16\n",
      "174\n",
      "192\n"
     ]
    }
   ],
   "source": [
    "l1=[58,47,89,65,12,45,87,96]\n",
    "l1[2:6]=range(1,9)\n",
    "print(l1)\n",
    "for i in l1:\n",
    "    print(i*2)"
   ]
  },
  {
   "cell_type": "code",
   "execution_count": null,
   "id": "5b9bc4ee",
   "metadata": {},
   "outputs": [],
   "source": [
    "# list function\n",
    "len()\n",
    "min()\n",
    "max()\n",
    "list()"
   ]
  },
  {
   "cell_type": "code",
   "execution_count": 11,
   "id": "25c3d679",
   "metadata": {},
   "outputs": [
    {
     "name": "stdout",
     "output_type": "stream",
     "text": [
      "6\n"
     ]
    }
   ],
   "source": [
    "# len()\n",
    "list1=[45,87,89,84,57,84]\n",
    "print(len(list1))"
   ]
  },
  {
   "cell_type": "code",
   "execution_count": 15,
   "id": "7ea209a3",
   "metadata": {},
   "outputs": [
    {
     "name": "stdout",
     "output_type": "stream",
     "text": [
      "48\n",
      "Wonderful\n"
     ]
    }
   ],
   "source": [
    "# min()\n",
    "list1=[48,74,58,79,85]\n",
    "print(min(list1))\n",
    "list2=[\"hello\",\"wow\",\"Wonderful\",\"great\"]\n",
    "print(min(list2))"
   ]
  },
  {
   "cell_type": "code",
   "execution_count": 17,
   "id": "9cffb5b0",
   "metadata": {},
   "outputs": [
    {
     "name": "stdout",
     "output_type": "stream",
     "text": [
      "101.25\n",
      "wow\n"
     ]
    }
   ],
   "source": [
    "# max()\n",
    "list1=[48,74,58,79,85,48.36,101.25]\n",
    "print(max(list1))\n",
    "list2=[\"hello\",\"wow\",\"Wonderful\",\"great\"]\n",
    "print(max(list2))"
   ]
  },
  {
   "cell_type": "code",
   "execution_count": 25,
   "id": "a218cd47",
   "metadata": {},
   "outputs": [
    {
     "name": "stdout",
     "output_type": "stream",
     "text": [
      "[45, 36, 'hello']\n",
      "<class 'list'>\n",
      "[87968]\n"
     ]
    }
   ],
   "source": [
    "# list()---it only converts iterables into list\n",
    "print(list((45,36,\"hello\")))\n",
    "l2=[45]\n",
    "print(type(l2))\n",
    "l1=(87968,)\n",
    "print(list(l1))"
   ]
  },
  {
   "cell_type": "code",
   "execution_count": null,
   "id": "8f0a27a3",
   "metadata": {},
   "outputs": [],
   "source": [
    "# list methods\n",
    "# elemnts add\n",
    "append()\n",
    "extend()\n",
    "insert()\n",
    "\n",
    "# element remove\n",
    "remove()\n",
    "pop()\n",
    "\n",
    "# element location\n",
    "index()\n",
    "count()\n",
    "\n",
    "# elemnts structure\n",
    "sort()\n",
    "reverse()\n",
    "clear()\n",
    "copy()"
   ]
  },
  {
   "cell_type": "code",
   "execution_count": 42,
   "id": "4f48ee16",
   "metadata": {},
   "outputs": [
    {
     "name": "stdout",
     "output_type": "stream",
     "text": [
      "[54, 47, 89, 85, 68, 'wow']\n"
     ]
    }
   ],
   "source": [
    "# list elements adding methods\n",
    "# list.append(element) --add element at the last of list\n",
    "# append will add iterbale as asingle element at the last of list\n",
    "list1=[54,47,89,85,68]\n",
    "list1.append(\"wow\")\n",
    "print(list1)\n"
   ]
  },
  {
   "cell_type": "code",
   "execution_count": 9,
   "id": "9969cee6",
   "metadata": {},
   "outputs": [
    {
     "ename": "TypeError",
     "evalue": "'int' object is not iterable",
     "output_type": "error",
     "traceback": [
      "\u001b[1;31m---------------------------------------------------------------------------\u001b[0m",
      "\u001b[1;31mTypeError\u001b[0m                                 Traceback (most recent call last)",
      "Input \u001b[1;32mIn [9]\u001b[0m, in \u001b[0;36m<cell line: 5>\u001b[1;34m()\u001b[0m\n\u001b[0;32m      3\u001b[0m list1\u001b[38;5;241m=\u001b[39m[\u001b[38;5;241m54\u001b[39m,\u001b[38;5;241m47\u001b[39m,\u001b[38;5;241m89\u001b[39m,\u001b[38;5;241m85\u001b[39m,\u001b[38;5;241m68\u001b[39m]\n\u001b[0;32m      4\u001b[0m \u001b[38;5;66;03m# list1.extend(range(140,180,5))\u001b[39;00m\n\u001b[1;32m----> 5\u001b[0m \u001b[43mlist1\u001b[49m\u001b[38;5;241;43m.\u001b[39;49m\u001b[43mextend\u001b[49m\u001b[43m(\u001b[49m\u001b[38;5;241;43m45\u001b[39;49m\u001b[43m)\u001b[49m\n\u001b[0;32m      6\u001b[0m \u001b[38;5;28mprint\u001b[39m(list1)\n",
      "\u001b[1;31mTypeError\u001b[0m: 'int' object is not iterable"
     ]
    }
   ],
   "source": [
    "# list.extend(iterable)\n",
    "# it will add the lements of iterabel as an single individual elemnts at different idexes at last\n",
    "list1=[54,47,89,85,68]\n",
    "# list1.extend(range(140,180,5))\n",
    "list1.extend(45)\n",
    "print(list1)"
   ]
  },
  {
   "cell_type": "code",
   "execution_count": 23,
   "id": "2b10b48c",
   "metadata": {},
   "outputs": [
    {
     "name": "stdout",
     "output_type": "stream",
     "text": [
      "[48, 58, 47, 85, 'hello', 98, 69, 58]\n"
     ]
    }
   ],
   "source": [
    "# insert(index,element)\n",
    "list1=[48,58,47,85,98,69,58]\n",
    "list1.insert(4,\"hello\")\n",
    "print(list1)"
   ]
  },
  {
   "cell_type": "code",
   "execution_count": null,
   "id": "ff6e33a8",
   "metadata": {},
   "outputs": [],
   "source": [
    "# element removing methods"
   ]
  },
  {
   "cell_type": "code",
   "execution_count": 60,
   "id": "b1dc84e7",
   "metadata": {},
   "outputs": [
    {
     "name": "stdout",
     "output_type": "stream",
     "text": [
      "41\n"
     ]
    }
   ],
   "source": [
    "# pop([index])\n",
    "# if we will not mention the index then by default it will remove the last element otherwise\n",
    "# remove the element at specified position or index\n",
    "# if we mention the index which has no elemenst or out or range index then it\n",
    "# will give indexerror\n",
    "list1=[48,58,78,96,25,41,54,896]\n",
    "x=list1.pop(5)\n",
    "print(x)"
   ]
  },
  {
   "cell_type": "code",
   "execution_count": 61,
   "id": "ba9108b1",
   "metadata": {},
   "outputs": [
    {
     "name": "stdout",
     "output_type": "stream",
     "text": [
      "None\n"
     ]
    }
   ],
   "source": [
    "# remove(element)\n",
    "# remove will remove the element of first occurence\n",
    "# if element is not in list then it will give value error\n",
    "list1=[48,87,96,58,47,85,48,48,87,96,2,14,58,78,96]\n",
    "x=list1.remove(48)\n",
    "print(x)"
   ]
  },
  {
   "cell_type": "code",
   "execution_count": 64,
   "id": "3c2e4820",
   "metadata": {},
   "outputs": [
    {
     "name": "stdout",
     "output_type": "stream",
     "text": [
      "0\n"
     ]
    },
    {
     "ename": "ValueError",
     "evalue": "4889 is not in list",
     "output_type": "error",
     "traceback": [
      "\u001b[1;31m---------------------------------------------------------------------------\u001b[0m",
      "\u001b[1;31mValueError\u001b[0m                                Traceback (most recent call last)",
      "Input \u001b[1;32mIn [64]\u001b[0m, in \u001b[0;36m<cell line: 4>\u001b[1;34m()\u001b[0m\n\u001b[0;32m      2\u001b[0m list1\u001b[38;5;241m=\u001b[39m[\u001b[38;5;241m48\u001b[39m,\u001b[38;5;241m78\u001b[39m,\u001b[38;5;241m96\u001b[39m,\u001b[38;5;241m54\u001b[39m,\u001b[38;5;241m82\u001b[39m,\u001b[38;5;241m45\u001b[39m,\u001b[38;5;241m78\u001b[39m]\n\u001b[0;32m      3\u001b[0m \u001b[38;5;28mprint\u001b[39m(list1\u001b[38;5;241m.\u001b[39mindex(\u001b[38;5;241m48\u001b[39m))\n\u001b[1;32m----> 4\u001b[0m \u001b[38;5;28mprint\u001b[39m(\u001b[43mlist1\u001b[49m\u001b[38;5;241;43m.\u001b[39;49m\u001b[43mindex\u001b[49m\u001b[43m(\u001b[49m\u001b[38;5;241;43m4889\u001b[39;49m\u001b[43m)\u001b[49m)\n",
      "\u001b[1;31mValueError\u001b[0m: 4889 is not in list"
     ]
    }
   ],
   "source": [
    "# index(element) ---it will return the first occurence of element\n",
    "list1=[48,78,96,54,82,45,78]\n",
    "print(list1.index(48))\n",
    "print(list1.index(4889))\n",
    "\n"
   ]
  },
  {
   "cell_type": "code",
   "execution_count": 66,
   "id": "d53a0e2d",
   "metadata": {},
   "outputs": [
    {
     "data": {
      "text/plain": [
       "0"
      ]
     },
     "execution_count": 66,
     "metadata": {},
     "output_type": "execute_result"
    }
   ],
   "source": [
    "# count(element)\n",
    "# it will return the count of specified element inside the list\n",
    "# it will return 0 when element is not in list but not give error\n",
    "list1=[47,87,89,65,87,4,58,78,87,87,45,84,58,96,54,84,54]\n",
    "list1.count(4005) \n",
    "# backtick "
   ]
  },
  {
   "cell_type": "code",
   "execution_count": 3,
   "id": "0a3ebe48",
   "metadata": {},
   "outputs": [
    {
     "name": "stdout",
     "output_type": "stream",
     "text": [
      "[45, 87, 98, 96, 54, 85]\n",
      "[45, 87, 98, 96, 54, 85]\n",
      "[45, 87, 98, 'Apple', 54, 85]\n",
      "[45, 87, 98, 96, 54, 85]\n"
     ]
    }
   ],
   "source": [
    "# copy method will copy one list to another and changing in original list will\n",
    "# not affect the copied list\n",
    "list1=[45,87,98,96,54,85]\n",
    "list2=list1.copy()\n",
    "print(list1)\n",
    "print(list2)\n",
    "list1[3]=\"Apple\"\n",
    "print(list1)\n",
    "print(list2)"
   ]
  },
  {
   "cell_type": "code",
   "execution_count": null,
   "id": "f8010470",
   "metadata": {},
   "outputs": [],
   "source": [
    "list1=[45,87,98,96,54,85]\n",
    "list2=list1\n",
    "print(list1)\n",
    "print(list2)\n",
    "list1[3]=\"Apple\"\n",
    "print(list1)\n",
    "print(list2)"
   ]
  },
  {
   "cell_type": "code",
   "execution_count": 4,
   "id": "e34b155d",
   "metadata": {},
   "outputs": [
    {
     "name": "stdout",
     "output_type": "stream",
     "text": [
      "[21, 24, 45, 54, 58, 78, 78, 96, 96, 96, 547]\n"
     ]
    }
   ],
   "source": [
    "# sort([reverse=True]) --it will arrange the list in ascending order by default\n",
    "list1=[45,78,96,54,78,96,58,96,24,21,547]\n",
    "list1.sort()\n",
    "print(list1)"
   ]
  },
  {
   "cell_type": "code",
   "execution_count": 5,
   "id": "c555abe2",
   "metadata": {},
   "outputs": [
    {
     "name": "stdout",
     "output_type": "stream",
     "text": [
      "[547, 96, 96, 96, 78, 78, 58, 54, 45, 24, 21]\n"
     ]
    }
   ],
   "source": [
    "list1=[45,78,96,54,78,96,58,96,24,21,547]\n",
    "list1.sort(reverse=True)\n",
    "print(list1)"
   ]
  },
  {
   "cell_type": "code",
   "execution_count": 6,
   "id": "31d2765a",
   "metadata": {},
   "outputs": [
    {
     "name": "stdout",
     "output_type": "stream",
     "text": [
      "[5457, 747, 985, 78, 58, 7, 58, 48]\n"
     ]
    }
   ],
   "source": [
    "# reverse() ---it will reverse the list\n",
    "list1=[48,58,7,58,78,985,747,5457]\n",
    "list1.reverse()\n",
    "print(list1)"
   ]
  },
  {
   "cell_type": "code",
   "execution_count": 7,
   "id": "30761037",
   "metadata": {},
   "outputs": [
    {
     "name": "stdout",
     "output_type": "stream",
     "text": [
      "[]\n"
     ]
    }
   ],
   "source": [
    "# clear() will clear all elements from the list\n",
    "list1=[48,58,7,58,78,985,747,5457]\n",
    "list1.clear()\n",
    "print(list1)"
   ]
  },
  {
   "cell_type": "code",
   "execution_count": 25,
   "id": "3e229f15",
   "metadata": {},
   "outputs": [
    {
     "name": "stdout",
     "output_type": "stream",
     "text": [
      "Enter Element After you want to add5\n",
      "Enter number You want to add26\n",
      "[1, 2, 3, 4, 5, 26, 6, 7, 8, 9]\n"
     ]
    }
   ],
   "source": [
    "ele=int(input(\"Enter Element After you want to add\"))\n",
    "num=int(input(\"Enter number You want to add\"))\n",
    "l1=[1,2,3,4,5,6,7,8,9]\n",
    "a=l1.index(ele)\n",
    "l1.insert(a+1,num)\n",
    "print(l1)"
   ]
  },
  {
   "cell_type": "code",
   "execution_count": 13,
   "id": "b124dbbe",
   "metadata": {},
   "outputs": [
    {
     "ename": "IndexError",
     "evalue": "list assignment index out of range",
     "output_type": "error",
     "traceback": [
      "\u001b[1;31m---------------------------------------------------------------------------\u001b[0m",
      "\u001b[1;31mIndexError\u001b[0m                                Traceback (most recent call last)",
      "Input \u001b[1;32mIn [13]\u001b[0m, in \u001b[0;36m<cell line: 2>\u001b[1;34m()\u001b[0m\n\u001b[0;32m      1\u001b[0m l1\u001b[38;5;241m=\u001b[39m[]\n\u001b[1;32m----> 2\u001b[0m l1[\u001b[38;5;241m0\u001b[39m]\u001b[38;5;241m=\u001b[39m\u001b[38;5;124m\"\u001b[39m\u001b[38;5;124mHello\u001b[39m\u001b[38;5;124m\"\u001b[39m\n",
      "\u001b[1;31mIndexError\u001b[0m: list assignment index out of range"
     ]
    }
   ],
   "source": [
    "l1=[]\n",
    "l1[0]=\"Hello\""
   ]
  },
  {
   "cell_type": "code",
   "execution_count": 26,
   "id": "208703ea",
   "metadata": {},
   "outputs": [
    {
     "name": "stdout",
     "output_type": "stream",
     "text": [
      "45\n"
     ]
    }
   ],
   "source": [
    "l1=[45,87,96,54,85,63,21,45]\n",
    "l1.sort()\n",
    "print(l1[1])"
   ]
  }
 ],
 "metadata": {
  "kernelspec": {
   "display_name": "Python 3 (ipykernel)",
   "language": "python",
   "name": "python3"
  },
  "language_info": {
   "codemirror_mode": {
    "name": "ipython",
    "version": 3
   },
   "file_extension": ".py",
   "mimetype": "text/x-python",
   "name": "python",
   "nbconvert_exporter": "python",
   "pygments_lexer": "ipython3",
   "version": "3.9.12"
  }
 },
 "nbformat": 4,
 "nbformat_minor": 5
}
