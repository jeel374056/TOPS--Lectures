{
 "cells": [
  {
   "cell_type": "code",
   "execution_count": 1,
   "id": "6e8c0265",
   "metadata": {},
   "outputs": [],
   "source": [
    "def addition(a,b): #parameters\n",
    "    return a+b"
   ]
  },
  {
   "cell_type": "code",
   "execution_count": 2,
   "id": "ab159a2e",
   "metadata": {},
   "outputs": [
    {
     "name": "stdout",
     "output_type": "stream",
     "text": [
      "70\n"
     ]
    }
   ],
   "source": [
    "x=addition(30,40) #arguments\n",
    "print(x)"
   ]
  },
  {
   "cell_type": "code",
   "execution_count": null,
   "id": "2115505a",
   "metadata": {},
   "outputs": [],
   "source": [
    "# poistional arguments\n",
    "# keywords arguments\n",
    "# default arguments\n",
    "# arbitrary positional arguments\n",
    "# arbitrary keywrods arguments"
   ]
  },
  {
   "cell_type": "code",
   "execution_count": 7,
   "id": "bc45c294",
   "metadata": {},
   "outputs": [
    {
     "name": "stdout",
     "output_type": "stream",
     "text": [
      "addition= 132\n",
      "subtraction= 28\n",
      "multiplication= 4160\n",
      "division= 1.5384615384615385\n"
     ]
    }
   ],
   "source": [
    "# positional arguments \n",
    "def calc(x,y,z):\n",
    "    print(f\"addition= {x+y}\")\n",
    "    print(f\"subtraction= {x-y}\")    \n",
    "    print(f\"multiplication= {x*y}\")    \n",
    "    print(f\"division= {x/y}\")    \n",
    "\n",
    "calc(80,52,50)"
   ]
  },
  {
   "cell_type": "code",
   "execution_count": 16,
   "id": "181297e2",
   "metadata": {},
   "outputs": [
    {
     "name": "stdout",
     "output_type": "stream",
     "text": [
      "addition= 100\n",
      "subtraction= 0\n",
      "multiplication= 2500\n",
      "division= 1.0\n",
      "85\n"
     ]
    }
   ],
   "source": [
    "\n",
    "# deafult argument\n",
    "def calc(x,y,z=85):\n",
    "    print(f\"addition= {x+y}\")\n",
    "    print(f\"subtraction= {x-y}\")    \n",
    "    print(f\"multiplication= {x*y}\")    \n",
    "    print(f\"division= {x/y}\")  \n",
    "    print(z)\n",
    "\n",
    "calc(50,50)"
   ]
  },
  {
   "cell_type": "code",
   "execution_count": 22,
   "id": "1954b376",
   "metadata": {},
   "outputs": [
    {
     "name": "stdout",
     "output_type": "stream",
     "text": [
      "1\n",
      "2\n",
      "3\n",
      "(4, 5, 6)\n",
      "6\n"
     ]
    }
   ],
   "source": [
    "# arbitrary put * before name\n",
    "def calc(x,y,z,*p):\n",
    "    print(x)  \n",
    "    print(y)\n",
    "    print(z)\n",
    "    print(p)\n",
    "    print(p[2])\n",
    "\n",
    "calc(1,2,3,4,5,6)"
   ]
  },
  {
   "cell_type": "code",
   "execution_count": 29,
   "id": "1306f29d",
   "metadata": {},
   "outputs": [
    {
     "name": "stdout",
     "output_type": "stream",
     "text": [
      "1\n",
      "2\n",
      "3\n",
      "{'m': 4, 'n': 5, 'a': 6}\n",
      "4\n"
     ]
    }
   ],
   "source": [
    "# arbitrary keyword we have to put ** before name\n",
    "def calc(x,y,z,**sugandh):\n",
    "    print(x)  \n",
    "    print(y)\n",
    "    print(z)\n",
    "    print(sugandh)\n",
    "    print(sugandh['m'])\n",
    "#     print(p)\n",
    "#     print(p[2])\n",
    "\n",
    "calc(1,y=2,z=3,m=4,n=5,a=6)"
   ]
  },
  {
   "cell_type": "code",
   "execution_count": 35,
   "id": "f276408d",
   "metadata": {},
   "outputs": [
    {
     "name": "stdout",
     "output_type": "stream",
     "text": [
      "125\n",
      "hello\n"
     ]
    }
   ],
   "source": [
    "# lambda function\n",
    "# anonymous function\n",
    "# lambda parameters:task but of single expreesion\n",
    "# x=80\n",
    "# print(type(x))\n",
    "ans=lambda x,y: x+y\n",
    "# print(type(ans))\n",
    "print(ans(45,80))\n",
    "print(\"hello\")"
   ]
  },
  {
   "cell_type": "code",
   "execution_count": 42,
   "id": "32df7e8e",
   "metadata": {},
   "outputs": [
    {
     "name": "stdout",
     "output_type": "stream",
     "text": [
      "64\n"
     ]
    }
   ],
   "source": [
    "a=lambda x : x**2\n",
    "print(a(8))"
   ]
  },
  {
   "cell_type": "code",
   "execution_count": 43,
   "id": "0bb8f61c",
   "metadata": {},
   "outputs": [
    {
     "name": "stdout",
     "output_type": "stream",
     "text": [
      "rjk jhr\n",
      "None\n"
     ]
    }
   ],
   "source": [
    "a=print(\"rjk jhr\")\n",
    "print(a)"
   ]
  },
  {
   "cell_type": "code",
   "execution_count": 44,
   "id": "1936b3ad",
   "metadata": {},
   "outputs": [
    {
     "name": "stdout",
     "output_type": "stream",
     "text": [
      "wjsfhbw wej\n",
      "None\n"
     ]
    }
   ],
   "source": [
    "def demo(a):\n",
    "    print(a)\n",
    "    \n",
    "n=demo(\"wjsfhbw wej\")\n",
    "print(n)"
   ]
  }
 ],
 "metadata": {
  "kernelspec": {
   "display_name": "Python 3 (ipykernel)",
   "language": "python",
   "name": "python3"
  },
  "language_info": {
   "codemirror_mode": {
    "name": "ipython",
    "version": 3
   },
   "file_extension": ".py",
   "mimetype": "text/x-python",
   "name": "python",
   "nbconvert_exporter": "python",
   "pygments_lexer": "ipython3",
   "version": "3.9.12"
  }
 },
 "nbformat": 4,
 "nbformat_minor": 5
}
