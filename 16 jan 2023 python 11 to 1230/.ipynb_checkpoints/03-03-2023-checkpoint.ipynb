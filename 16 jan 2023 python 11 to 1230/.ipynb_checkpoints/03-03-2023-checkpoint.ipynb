{
 "cells": [
  {
   "cell_type": "code",
   "execution_count": null,
   "id": "fc509934",
   "metadata": {},
   "outputs": [],
   "source": [
    "# constructor\n",
    "\n",
    "function defintion\n",
    "\n",
    "def functionname([parameters]):\n",
    "    body\n",
    "    [return something]"
   ]
  },
  {
   "cell_type": "code",
   "execution_count": null,
   "id": "612d756c",
   "metadata": {},
   "outputs": [],
   "source": [
    "# constructor\n",
    "# constructor cannot be defined with our choice name\n",
    "# constructor will be defined by __init__ this name\n",
    "# constructor will be called automatically\n",
    "# constructor called at the time of object creation or declaration\n",
    "# constructor will be created for initialization of object or variable of object\n",
    "# constructor not return anything\n"
   ]
  },
  {
   "cell_type": "code",
   "execution_count": 101,
   "id": "0e6e6bcc",
   "metadata": {},
   "outputs": [],
   "source": [
    "class demo:\n",
    "    def __init__(self,m,n):\n",
    "        self.a=m\n",
    "        self.b=n\n",
    "        print(\"Constructor called\")\n",
    "#         return self.a,self.b\n",
    "#     def getvalue(self):\n",
    "#         self.a=int(input(\"Enter A value: \"))\n",
    "#         self.b=int(input(\"Enter A value: \"))\n",
    "#         return self.a,self.b\n",
    "    def showvalue(self):\n",
    "        print(self.a,self.b)\n",
    "        \n"
   ]
  },
  {
   "cell_type": "code",
   "execution_count": 103,
   "id": "85a65753",
   "metadata": {},
   "outputs": [
    {
     "name": "stdout",
     "output_type": "stream",
     "text": [
      "Constructor called\n",
      "14 56\n"
     ]
    }
   ],
   "source": [
    "d1=demo(14,56)\n",
    "# d2=demo()\n",
    "d1.showvalue()\n",
    "# x,y=10,20\n",
    "# x,y=d1.getvalue()\n",
    "# print(x,y)\n",
    "# initialization of variable"
   ]
  },
  {
   "cell_type": "code",
   "execution_count": null,
   "id": "f7ae3129",
   "metadata": {},
   "outputs": [],
   "source": [
    "# inheritance in python\n",
    "parent class----super class---base class\n",
    "child class-----sub class-----derived class\n",
    "\n"
   ]
  },
  {
   "cell_type": "code",
   "execution_count": 104,
   "id": "5078aeff",
   "metadata": {},
   "outputs": [],
   "source": [
    "class parent:\n",
    "    m=\"\"\n",
    "    def __init__(self):\n",
    "        self.a=10\n",
    "        self.b=\"\"\n",
    "        print(\"Parent class Constructor\")\n",
    "    def parentget(self):\n",
    "        self.a=int(input(\"Enter A: \"))\n",
    "        self.b=int(input(\"Enter B: \"))\n",
    "    def parentshow(self):\n",
    "        print(f\"A is {self.a} B is {self.b}\")"
   ]
  },
  {
   "cell_type": "code",
   "execution_count": 115,
   "id": "d9bf55ec",
   "metadata": {},
   "outputs": [],
   "source": [
    "class child(parent):\n",
    "    def __init__(self):\n",
    "        self.x=\"\"\n",
    "        self.y=\"\"\n",
    "        parent.__init__(self)\n",
    "    def childget(self):\n",
    "        self.x=int(input(\"Enter X: \"))\n",
    "        self.y=int(input(\"Enter Y: \"))\n",
    "    def childshow(self):\n",
    "        print(f\"X is {self.x} Y is {self.y}\")"
   ]
  },
  {
   "cell_type": "code",
   "execution_count": 117,
   "id": "8ce79249",
   "metadata": {},
   "outputs": [
    {
     "name": "stdout",
     "output_type": "stream",
     "text": [
      "A is  B is \n",
      "\n"
     ]
    }
   ],
   "source": [
    "# p1=parent()\n",
    "c1=child()\n",
    "# c1.parentget()\n",
    "# c1.childget()\n",
    "# c1.childshow()\n",
    "c1.parentshow()\n",
    "print(c1.a)\n",
    "b1 parent"
   ]
  }
 ],
 "metadata": {
  "kernelspec": {
   "display_name": "Python 3 (ipykernel)",
   "language": "python",
   "name": "python3"
  },
  "language_info": {
   "codemirror_mode": {
    "name": "ipython",
    "version": 3
   },
   "file_extension": ".py",
   "mimetype": "text/x-python",
   "name": "python",
   "nbconvert_exporter": "python",
   "pygments_lexer": "ipython3",
   "version": "3.9.12"
  }
 },
 "nbformat": 4,
 "nbformat_minor": 5
}
