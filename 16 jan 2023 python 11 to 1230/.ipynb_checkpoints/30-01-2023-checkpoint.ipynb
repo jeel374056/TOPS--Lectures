{
 "cells": [
  {
   "cell_type": "code",
   "execution_count": 12,
   "id": "71f35e20",
   "metadata": {},
   "outputs": [
    {
     "name": "stdout",
     "output_type": "stream",
     "text": [
      "29\n",
      "10\n",
      "-1\n"
     ]
    }
   ],
   "source": [
    "# string.find(substring[,start][,end])\n",
    "# it returns the first index of substring if not found then returns -1\n",
    "str1=\"Welcome to tops technologies happy to see you here\"\n",
    "print(str1.find(\"happy\"))\n",
    "print(str1.find(\" \",9))\n",
    "print(str1.find(\" \",4,7))"
   ]
  },
  {
   "cell_type": "code",
   "execution_count": 16,
   "id": "04951775",
   "metadata": {},
   "outputs": [
    {
     "name": "stdout",
     "output_type": "stream",
     "text": [
      "value of a 10 and this is the best value of  10 Hello\n",
      "value of a 10 and this is the 10 best value of 10 Hello\n"
     ]
    }
   ],
   "source": [
    "a=10\n",
    "print(\"value of a\",a,\"and this is the best value of \",a ,\"Hello\")\n",
    "print(f\"value of a {a} and this is the {a} best value of {a} Hello\")\n",
    "str1.format()"
   ]
  },
  {
   "cell_type": "code",
   "execution_count": 17,
   "id": "a10add55",
   "metadata": {},
   "outputs": [
    {
     "name": "stdout",
     "output_type": "stream",
     "text": [
      "29\n",
      "10\n"
     ]
    },
    {
     "ename": "ValueError",
     "evalue": "substring not found",
     "output_type": "error",
     "traceback": [
      "\u001b[1;31m---------------------------------------------------------------------------\u001b[0m",
      "\u001b[1;31mValueError\u001b[0m                                Traceback (most recent call last)",
      "Input \u001b[1;32mIn [17]\u001b[0m, in \u001b[0;36m<cell line: 6>\u001b[1;34m()\u001b[0m\n\u001b[0;32m      4\u001b[0m \u001b[38;5;28mprint\u001b[39m(str1\u001b[38;5;241m.\u001b[39mindex(\u001b[38;5;124m\"\u001b[39m\u001b[38;5;124mhappy\u001b[39m\u001b[38;5;124m\"\u001b[39m))\n\u001b[0;32m      5\u001b[0m \u001b[38;5;28mprint\u001b[39m(str1\u001b[38;5;241m.\u001b[39mindex(\u001b[38;5;124m\"\u001b[39m\u001b[38;5;124m \u001b[39m\u001b[38;5;124m\"\u001b[39m,\u001b[38;5;241m9\u001b[39m))\n\u001b[1;32m----> 6\u001b[0m \u001b[38;5;28mprint\u001b[39m(\u001b[43mstr1\u001b[49m\u001b[38;5;241;43m.\u001b[39;49m\u001b[43mindex\u001b[49m\u001b[43m(\u001b[49m\u001b[38;5;124;43m\"\u001b[39;49m\u001b[38;5;124;43m \u001b[39;49m\u001b[38;5;124;43m\"\u001b[39;49m\u001b[43m,\u001b[49m\u001b[38;5;241;43m4\u001b[39;49m\u001b[43m,\u001b[49m\u001b[38;5;241;43m7\u001b[39;49m\u001b[43m)\u001b[49m)\n",
      "\u001b[1;31mValueError\u001b[0m: substring not found"
     ]
    }
   ],
   "source": [
    "# string.index(substring[,start][,end])\n",
    "# it returns the first index of substring but if not found then gives error\n",
    "str1=\"Welcome to tops technologies happy to see you here\"\n",
    "print(str1.index(\"happy\"))\n",
    "print(str1.index(\" \",9))\n",
    "print(str1.index(\" \",4,7))"
   ]
  },
  {
   "cell_type": "code",
   "execution_count": 23,
   "id": "2838f97c",
   "metadata": {},
   "outputs": [
    {
     "name": "stdout",
     "output_type": "stream",
     "text": [
      "False\n"
     ]
    }
   ],
   "source": [
    "str1=\"&er_gr4\"\n",
    "print(str1.isidentifier())\n",
    "# it checks wheteher the string is a valid indentifier or not"
   ]
  },
  {
   "cell_type": "code",
   "execution_count": 28,
   "id": "8a4131d6",
   "metadata": {},
   "outputs": [
    {
     "name": "stdout",
     "output_type": "stream",
     "text": [
      "True\n"
     ]
    }
   ],
   "source": [
    "str1=\"dfgjk^&&n8987rlg\"\n",
    "print(str1.islower())\n",
    "# it checks whether all alphabets is in lowercase or not\n",
    "# it only check alphabets"
   ]
  },
  {
   "cell_type": "code",
   "execution_count": 31,
   "id": "fff39c2b",
   "metadata": {},
   "outputs": [
    {
     "name": "stdout",
     "output_type": "stream",
     "text": [
      "Hello Wolrd Wow Erge Ergvev \n"
     ]
    }
   ],
   "source": [
    "str1=\"Hello Wolrd wow erge ergvev \"\n",
    "print(str1.title())\n",
    "# every words first letter should be in uppercase"
   ]
  },
  {
   "cell_type": "code",
   "execution_count": 34,
   "id": "2f793c53",
   "metadata": {},
   "outputs": [
    {
     "name": "stdout",
     "output_type": "stream",
     "text": [
      "False\n"
     ]
    }
   ],
   "source": [
    "str1=\"Hello Wolrd df rfd\"\n",
    "print(str1.istitle())\n",
    "# it checks whether the string is in titlecase or not\n",
    "# means first letter of every word is in uppercase "
   ]
  },
  {
   "cell_type": "code",
   "execution_count": 38,
   "id": "776f4ce3",
   "metadata": {},
   "outputs": [
    {
     "name": "stdout",
     "output_type": "stream",
     "text": [
      "False\n"
     ]
    }
   ],
   "source": [
    "str1=\"HNFDJGER EJKH#$%#$KDJNKLJDNOJDNJD\"\n",
    "print(str1.isupper())\n",
    "# it checks all aplhabets only , that they are in uppercase or not"
   ]
  },
  {
   "cell_type": "code",
   "execution_count": 39,
   "id": "763ea89e",
   "metadata": {},
   "outputs": [
    {
     "name": "stdout",
     "output_type": "stream",
     "text": [
      "WERJFW edhkj CBVJBJV jkkjk\n"
     ]
    }
   ],
   "source": [
    "str1=\"werjfw EDHKJ cbvjbjv JKKJK\"\n",
    "print(str1.swapcase())"
   ]
  },
  {
   "cell_type": "code",
   "execution_count": 47,
   "id": "05ab2176",
   "metadata": {},
   "outputs": [
    {
     "data": {
      "text/plain": [
       "'Hello***World***wow'"
      ]
     },
     "execution_count": 47,
     "metadata": {},
     "output_type": "execute_result"
    }
   ],
   "source": [
    "# string.join(iterbale)\n",
    "list1=[\"Hello\",\"World\",\"wow\"]\n",
    "# list1=\"Fergerg\"\n",
    "# list1=[\"Hello\",\"World\",\"wow\",48,78]\n",
    "str1=\"***\"\n",
    "str1.join(list1)\n",
    "# join function is used to get a string built form the iterable having\n",
    "# only string members inside it"
   ]
  },
  {
   "cell_type": "code",
   "execution_count": 58,
   "id": "7e7ea264",
   "metadata": {},
   "outputs": [
    {
     "name": "stdout",
     "output_type": "stream",
     "text": [
      "edgege                                            \n",
      "                                            edgege\n",
      "edgege--------------------------------------------\n",
      "********************************************edgege\n"
     ]
    }
   ],
   "source": [
    "str1=\"edgege\"\n",
    "print(str1.ljust(50))\n",
    "print(str1.rjust(50))\n",
    "print(str1.ljust(50,\"-\"))\n",
    "print(str1.rjust(50,\"*\"))\n",
    "# ljust and rjust just align the texct in left or right with desired lenght \n",
    "# given and fill the character with the mentioned one "
   ]
  },
  {
   "cell_type": "code",
   "execution_count": 64,
   "id": "46629f10",
   "metadata": {},
   "outputs": [
    {
     "name": "stdout",
     "output_type": "stream",
     "text": [
      "('Welcome to tops Technologies ', 'hii', ' how are you')\n",
      "('Welcome to tops Technologies hii how are you', '', '')\n"
     ]
    }
   ],
   "source": [
    "str1=\"Welcome to tops Technologies hii how are you\"\n",
    "print(str1.partition(\"hii\"))\n",
    "# partition will return a tuple with 3 elements \n",
    "# first left side of separator\n",
    "# second separator itself\n",
    "# third right side of separator\n",
    "print(str1.partition(\"uiop\"))\n",
    "# if separator is not found then string is in left side and\n",
    "# remaining two is blank string\n"
   ]
  },
  {
   "cell_type": "code",
   "execution_count": 69,
   "id": "8791505c",
   "metadata": {},
   "outputs": [
    {
     "name": "stdout",
     "output_type": "stream",
     "text": [
      "hello how are TTTTT hello welcome to tops tech are TTTTT well\n",
      "hello how are TTTTT hello welcome to tops tech are you well\n"
     ]
    }
   ],
   "source": [
    "str1=\"hello how are you hello welcome to tops tech are you well\"\n",
    "print(str1.replace(\"you\",\"TTTTT\"))\n",
    "print(str1.replace(\"you\",\"TTTTT\",1))\n",
    "# replace function will replace the substring with the old substring \n",
    "# and count will give the number of occurence we have to replace"
   ]
  },
  {
   "cell_type": "code",
   "execution_count": 75,
   "id": "4b694f4c",
   "metadata": {},
   "outputs": [
    {
     "name": "stdout",
     "output_type": "stream",
     "text": [
      "['hello how ', ' you hello welcome to tops tech are you well']\n",
      "['hello', 'how', 'are', 'you', 'hello welcome to tops tech are you well']\n"
     ]
    }
   ],
   "source": [
    "str1=\"hello how are you hello welcome to tops tech are you well\"\n",
    "print(str1.split(\"are\",1))\n",
    "print(str1.split(\" \",4))\n",
    "# split it wiil split the string form the separator mentioned and count \n",
    "# will give the number of time we have to split"
   ]
  },
  {
   "cell_type": "code",
   "execution_count": 78,
   "id": "b8ce3d30",
   "metadata": {},
   "outputs": [
    {
     "name": "stdout",
     "output_type": "stream",
     "text": [
      "False\n"
     ]
    }
   ],
   "source": [
    "str1=\"hellodhgfjkr65fd4g6ejklfhiouer\"\n",
    "print(str1.isalnum())\n",
    "# it checks whether all the letter of string is alphabet or numeric not \n",
    "# others character is allowed even space is also not considered"
   ]
  },
  {
   "cell_type": "code",
   "execution_count": 80,
   "id": "76176395",
   "metadata": {},
   "outputs": [
    {
     "name": "stdout",
     "output_type": "stream",
     "text": [
      "False\n"
     ]
    }
   ],
   "source": [
    "str1=\"hellodhgfjkr65fd4g6eλjklfhiouer\"\n",
    "print(str1.isascii())\n",
    "print(str1.)"
   ]
  },
  {
   "cell_type": "code",
   "execution_count": 83,
   "id": "88de6367",
   "metadata": {},
   "outputs": [
    {
     "name": "stdout",
     "output_type": "stream",
     "text": [
      "fg\n"
     ]
    }
   ],
   "source": [
    "str1=\"  fg   \"\n",
    "print(str1.strip()) #remove both side spaces\n",
    "print(str1.lstrip()) #remove left side spaces\n",
    "print(str1.rstrip()) #remove right side spaces\n"
   ]
  }
 ],
 "metadata": {
  "kernelspec": {
   "display_name": "Python 3 (ipykernel)",
   "language": "python",
   "name": "python3"
  },
  "language_info": {
   "codemirror_mode": {
    "name": "ipython",
    "version": 3
   },
   "file_extension": ".py",
   "mimetype": "text/x-python",
   "name": "python",
   "nbconvert_exporter": "python",
   "pygments_lexer": "ipython3",
   "version": "3.9.12"
  }
 },
 "nbformat": 4,
 "nbformat_minor": 5
}
