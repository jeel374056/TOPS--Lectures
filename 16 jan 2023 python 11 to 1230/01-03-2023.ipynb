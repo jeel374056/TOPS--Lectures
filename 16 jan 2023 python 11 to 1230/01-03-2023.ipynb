{
 "cells": [
  {
   "cell_type": "code",
   "execution_count": 19,
   "id": "cd25521a",
   "metadata": {},
   "outputs": [
    {
     "name": "stdout",
     "output_type": "stream",
     "text": [
      "<class 'list'>\n"
     ]
    },
    {
     "data": {
      "text/plain": [
       "['__add__',\n",
       " '__class__',\n",
       " '__class_getitem__',\n",
       " '__contains__',\n",
       " '__delattr__',\n",
       " '__delitem__',\n",
       " '__dir__',\n",
       " '__doc__',\n",
       " '__eq__',\n",
       " '__format__',\n",
       " '__ge__',\n",
       " '__getattribute__',\n",
       " '__getitem__',\n",
       " '__gt__',\n",
       " '__hash__',\n",
       " '__iadd__',\n",
       " '__imul__',\n",
       " '__init__',\n",
       " '__init_subclass__',\n",
       " '__iter__',\n",
       " '__le__',\n",
       " '__len__',\n",
       " '__lt__',\n",
       " '__mul__',\n",
       " '__ne__',\n",
       " '__new__',\n",
       " '__reduce__',\n",
       " '__reduce_ex__',\n",
       " '__repr__',\n",
       " '__reversed__',\n",
       " '__rmul__',\n",
       " '__setattr__',\n",
       " '__setitem__',\n",
       " '__sizeof__',\n",
       " '__str__',\n",
       " '__subclasshook__',\n",
       " 'append',\n",
       " 'clear',\n",
       " 'copy',\n",
       " 'count',\n",
       " 'extend',\n",
       " 'index',\n",
       " 'insert',\n",
       " 'pop',\n",
       " 'remove',\n",
       " 'reverse',\n",
       " 'sort']"
      ]
     },
     "execution_count": 19,
     "metadata": {},
     "output_type": "execute_result"
    }
   ],
   "source": [
    "# a=50\n",
    "# print(type(a))\n",
    "# dir(int)\n",
    "list1=[]\n",
    "print(type(list1))\n",
    "dir(list1)"
   ]
  },
  {
   "cell_type": "code",
   "execution_count": 2,
   "id": "9c478a2a",
   "metadata": {},
   "outputs": [],
   "source": [
    "file1=open(\"assignement.txt\",\"w\")\n",
    "file1.write(\"\"\"rthrthrthrthrthrthrth rthjyt regtjytng \n",
    "frtjythtrgrthgth tgerhyrthrtgrthg eg\n",
    "rtjytrhrt rhytjytjyt rthytjyukyu tjhyutkyukyum\n",
    " rhytjyukyu hnytjyujkut tyhjyutjyuj tbytjyukyu\"\"\")\n",
    "file1.close()\n"
   ]
  },
  {
   "cell_type": "code",
   "execution_count": 5,
   "id": "b58348a5",
   "metadata": {},
   "outputs": [
    {
     "name": "stdout",
     "output_type": "stream",
     "text": [
      "['rthrthrthrthrthrthrth rthjyt regtjytng \\n', 'frtjythtrgrthgth tgerhyrthrtgrthg eg\\n', 'rtjytrhrt rhytjytjyt rthytjyukyu tjhyutkyukyum\\n', ' rhytjyukyu hnytjyujkut tyhjyutjyuj tbytjyukyu']\n"
     ]
    }
   ],
   "source": [
    "list1=[]\n",
    "file1=open(\"assignement.txt\",\"r\")\n",
    "for i in file1:\n",
    "    list1.append(i)\n",
    "print(list1)"
   ]
  },
  {
   "cell_type": "code",
   "execution_count": 13,
   "id": "b88ff71d",
   "metadata": {},
   "outputs": [
    {
     "name": "stdout",
     "output_type": "stream",
     "text": [
      "hello\n",
      "hello\n",
      "this is error\n",
      "User defined exception generates\n"
     ]
    }
   ],
   "source": [
    "try:\n",
    "    print(\"hello\")\n",
    "    print(\"hello\")\n",
    "    raise print(\"this is error\")\n",
    "except:\n",
    "    print(\"User defined exception generates\")\n"
   ]
  },
  {
   "cell_type": "code",
   "execution_count": 15,
   "id": "a8b76089",
   "metadata": {},
   "outputs": [],
   "source": [
    "# OOPS\n",
    "# CLASS\n",
    "# OBJECTS\n",
    "# CONSTRUCTOR\n",
    "# INHERITANCE\n",
    "# POLYMORPHISM\n",
    "# ENCAPSULATION"
   ]
  },
  {
   "cell_type": "code",
   "execution_count": null,
   "id": "a0508ba2",
   "metadata": {},
   "outputs": [],
   "source": [
    "# class\n",
    "# data members\n",
    "# member function/ methods"
   ]
  },
  {
   "cell_type": "code",
   "execution_count": null,
   "id": "37a7e052",
   "metadata": {},
   "outputs": [],
   "source": [
    "class classname:\n",
    "    body\n",
    "    variables--data members\n",
    "    functions---methods---member function\n"
   ]
  },
  {
   "cell_type": "code",
   "execution_count": null,
   "id": "a7b38a99",
   "metadata": {},
   "outputs": [],
   "source": [
    "objectname=classname()\n",
    "objectname.attributes"
   ]
  },
  {
   "cell_type": "code",
   "execution_count": 45,
   "id": "32007bc9",
   "metadata": {},
   "outputs": [],
   "source": [
    "class student:\n",
    "    name=\"\"\n",
    "    rollno=0\n",
    "    def __init__(self):\n",
    "        \n",
    "    def getdata(self,p=\"\",n=\"\"):\n",
    "        self.rollno=int(input(\"Enter roll no\"))\n",
    "        self.name=input(\"Enter Name: \")\n",
    "        print(f\"{p},{n}\")\n",
    "    def showdata(self):\n",
    "        print(f\"Rollno is {self.rollno} and name is {self.name}\")"
   ]
  },
  {
   "cell_type": "code",
   "execution_count": 46,
   "id": "dde359b7",
   "metadata": {},
   "outputs": [
    {
     "name": "stdout",
     "output_type": "stream",
     "text": [
      "Enter roll no10\n",
      "Enter Name: Sugandh Gupta\n",
      "50,12\n",
      "Rollno is 10 and name is Sugandh Gupta\n",
      "Enter roll no45\n",
      "Enter Name: wergfwef\n",
      "heloo,nfjke\n",
      "Rollno is 45 and name is wergfwef\n"
     ]
    }
   ],
   "source": [
    "obj1=student()\n",
    "obj2=student()\n",
    "obj1.getdata(50,12)\n",
    "obj1.showdata()\n",
    "# obj2.getdata(\"heloo\",\"nfjke\")\n",
    "obj2.showdata()"
   ]
  },
  {
   "cell_type": "code",
   "execution_count": 48,
   "id": "b4ec1c63",
   "metadata": {},
   "outputs": [],
   "source": [
    "def fun1(x,y):\n",
    "    print(x,y)\n",
    "#     print(m,n)cannot access here\n"
   ]
  },
  {
   "cell_type": "code",
   "execution_count": 49,
   "id": "dda41c49",
   "metadata": {},
   "outputs": [
    {
     "name": "stdout",
     "output_type": "stream",
     "text": [
      "WOW great\n",
      "WOW great\n"
     ]
    }
   ],
   "source": [
    "m=\"WOW\"\n",
    "n=\"great\"\n",
    "fun1(m,n)"
   ]
  },
  {
   "cell_type": "code",
   "execution_count": null,
   "id": "7fa15231",
   "metadata": {},
   "outputs": [],
   "source": []
  }
 ],
 "metadata": {
  "kernelspec": {
   "display_name": "Python 3 (ipykernel)",
   "language": "python",
   "name": "python3"
  },
  "language_info": {
   "codemirror_mode": {
    "name": "ipython",
    "version": 3
   },
   "file_extension": ".py",
   "mimetype": "text/x-python",
   "name": "python",
   "nbconvert_exporter": "python",
   "pygments_lexer": "ipython3",
   "version": "3.9.12"
  }
 },
 "nbformat": 4,
 "nbformat_minor": 5
}
