{
 "cells": [
  {
   "cell_type": "code",
   "execution_count": 11,
   "id": "f49327db",
   "metadata": {},
   "outputs": [
    {
     "name": "stdout",
     "output_type": "stream",
     "text": [
      "good morning \n",
      "tyt   ytntn  tgr \n",
      "rtbnrtbgrfb  rgtb \n",
      "WOW NEW\tTHI\b\bNG\n",
      "hello\tworld\n",
      "ergert\" rjubtr't jrbjgrt\n",
      "tdgerfd j'k bd \"jgr\u0003fb\n"
     ]
    }
   ],
   "source": [
    "print(\"good morning \\ntyt   ytntn  tgr \\nrtbnrtbgrfb  rgtb \")\n",
    "print(\"WOW NEW\\tTHI\\b\\bNG\")\n",
    "print(\"hello\\tworld\")\n",
    "print(\"ergert\\\" rjubtr't jrbjgrt\")\n",
    "print('tdgerfd j\\'k bd \"jgrfb') #demo of single quote"
   ]
  },
  {
   "cell_type": "code",
   "execution_count": null,
   "id": "dbebecb5",
   "metadata": {},
   "outputs": [],
   "source": [
    "# escape sequences\n",
    "\n",
    "\\n --newline character\n",
    "\\b --backspace character  \n",
    "\\t  ---tabsapce character \n",
    "\\\"  ---double quote\n",
    "\\'   ---singlequote\n"
   ]
  },
  {
   "cell_type": "code",
   "execution_count": 15,
   "id": "207b5a69",
   "metadata": {},
   "outputs": [],
   "source": [
    "# comments'\n",
    "# single line\n",
    "# \"\"\"\n",
    "# weffwefwefwe\n",
    "# wefwfwe\n",
    "# fweffwef\n",
    "# \"\"\"\n",
    "# fwfwefwefwwefwfd"
   ]
  },
  {
   "cell_type": "code",
   "execution_count": 21,
   "id": "019c09ec",
   "metadata": {},
   "outputs": [
    {
     "name": "stdout",
     "output_type": "stream",
     "text": [
      "ERgerge ertgrv ergrtb*****erfgerv ergerverg ++++++ erggertgegeg\n"
     ]
    }
   ],
   "source": [
    "# end\n",
    "# by default end of print have \\n but we can change it through end=\"  \"\n",
    "print(\"ERgerge ertgrv ergrtb\",end=\"*****\")\n",
    "print(\"erfgerv ergerverg\",end=\" ++++++ \")\n",
    "print(\"erggertgegeg\")"
   ]
  },
  {
   "cell_type": "code",
   "execution_count": 24,
   "id": "7b178c60",
   "metadata": {},
   "outputs": [
    {
     "name": "stdout",
     "output_type": "stream",
     "text": [
      "87\n",
      "your age is 87 you are young\n",
      "your age is 87 you are young\n"
     ]
    }
   ],
   "source": [
    "# variable\n",
    "age=87\n",
    "print(age)\n",
    "print(\"your age is\",age,\"you are young\")\n",
    "print(f\"your age is {age} you are young\")#formatted string formatted output\n"
   ]
  },
  {
   "cell_type": "code",
   "execution_count": 28,
   "id": "3388d26c",
   "metadata": {},
   "outputs": [
    {
     "name": "stdout",
     "output_type": "stream",
     "text": [
      "<class 'bool'>\n"
     ]
    }
   ],
   "source": [
    "# type\n",
    "a=True\n",
    "print(type(a))\n",
    "\n",
    "# datatype\n",
    "\n",
    "int 8 7 9 744 878 445574 524555 -7884 -44654 -465\n",
    "float 45.3585 5654 78892.3585 -895.58585 -54.5\n",
    "string \"WRgfergferg\" \n",
    "'rgfergerg'\n",
    "\n",
    "\"\"\"wrergergergergergerg\n",
    "gergergergerg\n",
    "ergergerg\"\"\"\n",
    "\n",
    "'''ertfgergergerg\n",
    "eg\n",
    "g\n",
    "erge\n",
    "rg\n",
    "g'''\n",
    "boolean  True False\n",
    "\n",
    "collections\\sequence\n",
    "string\n",
    "range()\n",
    "list\n",
    "tuple\n",
    "set \n",
    "dictionary"
   ]
  },
  {
   "cell_type": "code",
   "execution_count": 50,
   "id": "18cb60eb",
   "metadata": {},
   "outputs": [
    {
     "name": "stdout",
     "output_type": "stream",
     "text": [
      "Enter Number: 89.36\n"
     ]
    },
    {
     "ename": "ValueError",
     "evalue": "invalid literal for int() with base 10: '89.36'",
     "output_type": "error",
     "traceback": [
      "\u001b[1;31m---------------------------------------------------------------------------\u001b[0m",
      "\u001b[1;31mValueError\u001b[0m                                Traceback (most recent call last)",
      "Input \u001b[1;32mIn [50]\u001b[0m, in \u001b[0;36m<cell line: 9>\u001b[1;34m()\u001b[0m\n\u001b[0;32m      1\u001b[0m \u001b[38;5;66;03m# user input\u001b[39;00m\n\u001b[0;32m      2\u001b[0m \n\u001b[0;32m      3\u001b[0m \u001b[38;5;66;03m# input()\u001b[39;00m\n\u001b[1;32m   (...)\u001b[0m\n\u001b[0;32m      7\u001b[0m \n\u001b[0;32m      8\u001b[0m \u001b[38;5;66;03m# datatype(variable)\u001b[39;00m\n\u001b[1;32m----> 9\u001b[0m a\u001b[38;5;241m=\u001b[39m\u001b[38;5;28;43mint\u001b[39;49m\u001b[43m(\u001b[49m\u001b[38;5;28;43minput\u001b[39;49m\u001b[43m(\u001b[49m\u001b[38;5;124;43m\"\u001b[39;49m\u001b[38;5;124;43mEnter Number: \u001b[39;49m\u001b[38;5;124;43m\"\u001b[39;49m\u001b[43m)\u001b[49m\u001b[43m)\u001b[49m\n\u001b[0;32m     10\u001b[0m \u001b[38;5;28mprint\u001b[39m(\u001b[38;5;28mtype\u001b[39m(a))\n",
      "\u001b[1;31mValueError\u001b[0m: invalid literal for int() with base 10: '89.36'"
     ]
    }
   ],
   "source": [
    "# user input\n",
    "\n",
    "# input()\n",
    "# a=input(\"Enter number: \")\n",
    "# print(type(a))\n",
    "# casting\n",
    "\n",
    "# datatype(variable)\n",
    "a=int(input(\"Enter Number: \"))\n",
    "print(type(a))"
   ]
  },
  {
   "cell_type": "code",
   "execution_count": null,
   "id": "0e4b1b0c",
   "metadata": {},
   "outputs": [],
   "source": [
    "# operators\n",
    "\n",
    "89+38 89 ,38,a,b   operands\n",
    "a+b +  opeartor\n",
    "\n",
    "expression\n",
    "\n",
    "\n",
    "# arithmetic operator + - / * % // **\n",
    "# comparison or relational or conditional  > < >= <= == !=\n",
    "# assignement operator = += -= /= *= %=\n",
    "# logical operator And(and) OR(or) Not(!)\n",
    "# bitwise operator & | << >>\n",
    "# identity operator is is not\n",
    "# membership operator in not in\n",
    "# miscelleanous operator ?:(ternary operator) "
   ]
  },
  {
   "cell_type": "code",
   "execution_count": 37,
   "id": "c264744d",
   "metadata": {},
   "outputs": [
    {
     "name": "stdout",
     "output_type": "stream",
     "text": [
      "127\n",
      "3744\n",
      "9\n",
      "0.75\n",
      "64\n",
      "8\n",
      "3\n"
     ]
    }
   ],
   "source": [
    "print(89+38)\n",
    "print(48*78)\n",
    "print(78-69)\n",
    "print(24/32)\n",
    "print(4**3)  #power operator  \n",
    "print(35//4)  #floor division\n",
    "print(35%4) #modulo operator"
   ]
  },
  {
   "cell_type": "code",
   "execution_count": 51,
   "id": "c57f1cfa",
   "metadata": {},
   "outputs": [
    {
     "name": "stdout",
     "output_type": "stream",
     "text": [
      "True\n",
      "False\n",
      "True\n",
      "False\n",
      "False\n",
      "True\n"
     ]
    }
   ],
   "source": [
    "# comparison operator\n",
    "print(58>48) #true\n",
    "print(54<23)#false\n",
    "print(48<=48) #true\n",
    "print(54>=96)#false\n",
    "print(478==477.9999999999999) #false\n",
    "print(48!=36) #true"
   ]
  },
  {
   "cell_type": "code",
   "execution_count": 53,
   "id": "15114aa1",
   "metadata": {},
   "outputs": [
    {
     "name": "stdout",
     "output_type": "stream",
     "text": [
      "True\n"
     ]
    }
   ],
   "source": [
    "print(478==477.99999999999999)"
   ]
  },
  {
   "cell_type": "code",
   "execution_count": null,
   "id": "89a00897",
   "metadata": {},
   "outputs": [],
   "source": [
    "name  :  Sugandh gupta\n",
    "age   :  48\n",
    "email :  sugandh@gmail.com\n",
    "mobile:  8796541235"
   ]
  },
  {
   "cell_type": "code",
   "execution_count": 2,
   "id": "c4a8b287",
   "metadata": {},
   "outputs": [
    {
     "name": "stdout",
     "output_type": "stream",
     "text": [
      "Enter Name: Sugandh Gupta\n",
      "Enter Age: 48\n",
      "Enter Email: sugandhsec1122gmail.com\n",
      "Enter Mobile 879654125\n",
      "Name\t:\tSugandh Gupta\n",
      "Age\t:\t48\n",
      "email\t:\tsugandhsec1122gmail.com\n",
      "Mobile\t:\t879654125\n",
      "\n"
     ]
    }
   ],
   "source": [
    "name=input(\"Enter Name: \")\n",
    "age=int(input(\"Enter Age: \"))\n",
    "email=input(\"Enter Email: \")\n",
    "mobile=int(input(\"Enter Mobile \"))\n",
    "print(f\"Name\\t:\\t{name}\\nAge\\t:\\t{age}\\nemail\\t:\\t{email}\\nMobile\\t:\\t{mobile}\\n\")"
   ]
  },
  {
   "cell_type": "code",
   "execution_count": 55,
   "id": "11c69211",
   "metadata": {},
   "outputs": [
    {
     "name": "stdout",
     "output_type": "stream",
     "text": [
      "True\n",
      "False\n"
     ]
    }
   ],
   "source": [
    "# logical operator\n",
    "\n",
    "print(84>56)\n",
    "print(28>56)\n",
    "\n",
    "and----it will return true if all the conditions is true if minimun\n",
    "one condition is false then overall result is false\n",
    "\n",
    "or----it will return true if minimum one condition is true and return false if all the \n",
    "condition is false\n",
    "\n",
    "not---it will reverse the answer true--flase false--true"
   ]
  },
  {
   "cell_type": "code",
   "execution_count": 60,
   "id": "bd73f514",
   "metadata": {},
   "outputs": [
    {
     "name": "stdout",
     "output_type": "stream",
     "text": [
      "False\n",
      "True\n",
      "False\n"
     ]
    }
   ],
   "source": [
    "print(84>56 and 28>56)\n",
    "print(84>56 or 28>56)\n",
    "print(not(84>56))"
   ]
  },
  {
   "cell_type": "code",
   "execution_count": 64,
   "id": "5a7c94d8",
   "metadata": {},
   "outputs": [
    {
     "data": {
      "text/plain": [
       "672"
      ]
     },
     "execution_count": 64,
     "metadata": {},
     "output_type": "execute_result"
    }
   ],
   "source": [
    "84<<3"
   ]
  },
  {
   "cell_type": "code",
   "execution_count": null,
   "id": "a491a692",
   "metadata": {},
   "outputs": [],
   "source": [
    "# conditional statements:\n",
    "simple if\n",
    "if...else...\n",
    "if..elif..elif..elif...else\n",
    "nested if else"
   ]
  },
  {
   "cell_type": "code",
   "execution_count": null,
   "id": "64cc7162",
   "metadata": {},
   "outputs": [],
   "source": [
    "if condition:\n",
    "    body"
   ]
  },
  {
   "cell_type": "code",
   "execution_count": 1,
   "id": "acbf4640",
   "metadata": {},
   "outputs": [
    {
     "name": "stdout",
     "output_type": "stream",
     "text": [
      "Enter Age: 48\n",
      "Adult\n"
     ]
    }
   ],
   "source": [
    "age=int(input(\"Enter Age: \"))\n",
    "if age>18:\n",
    "   print(\"Adult\")\n"
   ]
  },
  {
   "cell_type": "code",
   "execution_count": 3,
   "id": "4f29a9df",
   "metadata": {},
   "outputs": [
    {
     "name": "stdout",
     "output_type": "stream",
     "text": [
      "Enter Age: 12\n",
      "wow your are baccha\n"
     ]
    }
   ],
   "source": [
    "age=int(input(\"Enter Age: \"))\n",
    "if age>18:\n",
    "   print(\"Adult\")\n",
    "else:\n",
    "    print(\"wow your are baccha\")"
   ]
  },
  {
   "cell_type": "code",
   "execution_count": 14,
   "id": "e031f198",
   "metadata": {},
   "outputs": [
    {
     "name": "stdout",
     "output_type": "stream",
     "text": [
      "Enter Age: 196\n",
      "Khoti age\n"
     ]
    }
   ],
   "source": [
    "age=int(input(\"Enter Age: \"))\n",
    "if age<18 and age>0:\n",
    "    print(\"Child\")\n",
    "elif age>18 and age<=60:\n",
    "    print(\"Adult\")\n",
    "elif age>60 and age<150:\n",
    "    print(\"Senior Dadaji\")\n",
    "else:\n",
    "    print(\"Khoti age\")"
   ]
  },
  {
   "cell_type": "code",
   "execution_count": 17,
   "id": "31b4e466",
   "metadata": {},
   "outputs": [
    {
     "name": "stdout",
     "output_type": "stream",
     "text": [
      "Enter number: 78\n",
      "Enter number: 12\n",
      "Enter number: 45\n",
      "a is greater\n"
     ]
    }
   ],
   "source": [
    "a=int(input(\"Enter number: \"))\n",
    "b=int(input(\"Enter number: \"))\n",
    "c=int(input(\"Enter number: \"))\n",
    "if a>b:\n",
    "    if a>c:\n",
    "        print(\"a is greater\")\n",
    "    else:\n",
    "        print(\"c is greater\")\n",
    "        \n",
    "else:\n",
    "    if b>c:\n",
    "        print(\"b is greater\")\n",
    "    else:\n",
    "        print(\"c is greater\")"
   ]
  },
  {
   "cell_type": "code",
   "execution_count": null,
   "id": "aff67070",
   "metadata": {},
   "outputs": [],
   "source": [
    "# loops\n",
    "for loop\n",
    "    sequence\n",
    "    \n",
    "    range()\n",
    "    string\n",
    "    list\n",
    "    tuple\n",
    "    set\n",
    "    dictionary\n",
    "while loop\n",
    "\n",
    "condition"
   ]
  },
  {
   "cell_type": "code",
   "execution_count": null,
   "id": "7426df2e",
   "metadata": {},
   "outputs": [],
   "source": [
    "for i in sequence:\n",
    "    body"
   ]
  },
  {
   "cell_type": "code",
   "execution_count": 18,
   "id": "17fb84bb",
   "metadata": {},
   "outputs": [
    {
     "name": "stdout",
     "output_type": "stream",
     "text": [
      "r\n",
      "u\n",
      " \n",
      "h\n",
      "v\n",
      "b\n",
      " \n"
     ]
    }
   ],
   "source": [
    "for i in \"ru hvb \":\n",
    "    print(i)"
   ]
  },
  {
   "cell_type": "code",
   "execution_count": null,
   "id": "7f8fdcdc",
   "metadata": {},
   "outputs": [],
   "source": [
    "while condition:\n",
    "    body"
   ]
  },
  {
   "cell_type": "code",
   "execution_count": 1,
   "id": "79db3c65",
   "metadata": {},
   "outputs": [
    {
     "name": "stdout",
     "output_type": "stream",
     "text": [
      "0\n",
      "1\n",
      "2\n",
      "3\n",
      "4\n",
      "5\n",
      "6\n",
      "7\n",
      "8\n",
      "9\n"
     ]
    }
   ],
   "source": [
    "i=0;\n",
    "while i<10:\n",
    "    print(i)\n",
    "#     i=i+1\n",
    "    i+=1"
   ]
  },
  {
   "cell_type": "code",
   "execution_count": 3,
   "id": "edc24cc3",
   "metadata": {},
   "outputs": [
    {
     "name": "stdout",
     "output_type": "stream",
     "text": [
      "range(1, 10)\n"
     ]
    }
   ],
   "source": [
    "# range(start,stop,step)\n",
    "\n",
    "print(range(1,10))"
   ]
  },
  {
   "cell_type": "code",
   "execution_count": 6,
   "id": "ff9ef615",
   "metadata": {},
   "outputs": [
    {
     "name": "stdout",
     "output_type": "stream",
     "text": [
      "1\n",
      "2\n",
      "3\n",
      "4\n"
     ]
    }
   ],
   "source": [
    "for i in range(1,5):\n",
    "    print(i)"
   ]
  },
  {
   "cell_type": "code",
   "execution_count": 8,
   "id": "04577f06",
   "metadata": {},
   "outputs": [
    {
     "name": "stdout",
     "output_type": "stream",
     "text": [
      "3\n",
      "4\n",
      "5\n"
     ]
    }
   ],
   "source": [
    "for i in range(6):\n",
    "    print(i)"
   ]
  },
  {
   "cell_type": "code",
   "execution_count": 9,
   "id": "0a48516c",
   "metadata": {},
   "outputs": [
    {
     "name": "stdout",
     "output_type": "stream",
     "text": [
      "1\n",
      "4\n",
      "7\n",
      "10\n",
      "13\n",
      "16\n",
      "19\n"
     ]
    }
   ],
   "source": [
    "for i in range(1,20,3):\n",
    "    print(i)"
   ]
  },
  {
   "cell_type": "code",
   "execution_count": null,
   "id": "f7062c31",
   "metadata": {},
   "outputs": [],
   "source": [
    "-8 -7 -6 -5 -4 -3 -2 -1 0 1 2 3 4 5 6 7 8\n",
    "\n",
    "step\n",
    "\n",
    "positive --direction left to right\n",
    "neagtive ---directive right to left"
   ]
  },
  {
   "cell_type": "code",
   "execution_count": 11,
   "id": "9b5ed041",
   "metadata": {},
   "outputs": [],
   "source": [
    "for i in range(-6,-1,-2):\n",
    "    print(i)"
   ]
  },
  {
   "cell_type": "code",
   "execution_count": 13,
   "id": "f11c600b",
   "metadata": {},
   "outputs": [
    {
     "name": "stdout",
     "output_type": "stream",
     "text": [
      "4\n",
      "3\n",
      "2\n",
      "1\n",
      "0\n",
      "-1\n",
      "-2\n",
      "-3\n",
      "-4\n",
      "-5\n"
     ]
    }
   ],
   "source": [
    "for i in range(4,-6,-1):\n",
    "    print(i)"
   ]
  },
  {
   "cell_type": "code",
   "execution_count": 3,
   "id": "d010374c",
   "metadata": {},
   "outputs": [],
   "source": []
  },
  {
   "cell_type": "code",
   "execution_count": null,
   "id": "e388c05d",
   "metadata": {},
   "outputs": [],
   "source": []
  },
  {
   "cell_type": "code",
   "execution_count": null,
   "id": "dacfac2c",
   "metadata": {},
   "outputs": [],
   "source": []
  }
 ],
 "metadata": {
  "kernelspec": {
   "display_name": "Python 3 (ipykernel)",
   "language": "python",
   "name": "python3"
  },
  "language_info": {
   "codemirror_mode": {
    "name": "ipython",
    "version": 3
   },
   "file_extension": ".py",
   "mimetype": "text/x-python",
   "name": "python",
   "nbconvert_exporter": "python",
   "pygments_lexer": "ipython3",
   "version": "3.9.12"
  }
 },
 "nbformat": 4,
 "nbformat_minor": 5
}
