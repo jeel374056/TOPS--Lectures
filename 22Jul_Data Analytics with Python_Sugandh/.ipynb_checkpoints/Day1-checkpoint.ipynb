{
 "cells": [
  {
   "cell_type": "code",
   "execution_count": null,
   "id": "68bb83ee",
   "metadata": {},
   "outputs": [],
   "source": [
    "# string---'' \"\"  \"\"\" \"\"\"   ''' '''\n",
    "# integer----4585\n",
    "# float----4578.52\n",
    "# boolean----True False\n",
    "print(\"hello World\")\n",
    "print(45+30)\n",
    "print('45'+'30')\n"
   ]
  },
  {
   "cell_type": "code",
   "execution_count": null,
   "id": "15eea229",
   "metadata": {},
   "outputs": [],
   "source": [
    "#This is used to print python\n",
    "print(\"Python\")\n",
    "# print \"Python\"\n",
    "print(\"hello\")\n",
    "\"\"\"thifsdf\n",
    "ddhd\n",
    "dhdhdh\n",
    "dh\n",
    "dhdhdh\"\"\""
   ]
  },
  {
   "cell_type": "code",
   "execution_count": null,
   "id": "fca0d888",
   "metadata": {},
   "outputs": [],
   "source": [
    "# vary = \"fevevervbgrtv njgrn  gj ngrjk nfm jkgfjh njklgfb n\"\n",
    "print(25+75)\n",
    "ans=25+75\n",
    "ans+10\n",
    "\n",
    "a-z A-Z _(underscore) starting letter of variable name\n",
    "a-z A-Z _(underscore) 0-9\n",
    "keyword\n",
    "# ri687 T\n",
    "#75fdkfd_ F\n",
    "#hello_\n",
    "a = 10\n",
    "name = value"
   ]
  },
  {
   "cell_type": "code",
   "execution_count": null,
   "id": "07541809",
   "metadata": {},
   "outputs": [],
   "source": [
    "# var1 = \n",
    "# print(var1)\n",
    "# print(80+var1)\n",
    "var1=False\n",
    "type(var1)"
   ]
  },
  {
   "cell_type": "code",
   "execution_count": null,
   "id": "051365a8",
   "metadata": {},
   "outputs": [],
   "source": [
    "name=input(\"Enter Your name   hrthr rth665888**^&*^&*^&%* $%y7568^ hello   \")\n",
    "print(\"good morning \"+name)"
   ]
  }
 ],
 "metadata": {
  "kernelspec": {
   "display_name": "Python 3 (ipykernel)",
   "language": "python",
   "name": "python3"
  },
  "language_info": {
   "codemirror_mode": {
    "name": "ipython",
    "version": 3
   },
   "file_extension": ".py",
   "mimetype": "text/x-python",
   "name": "python",
   "nbconvert_exporter": "python",
   "pygments_lexer": "ipython3",
   "version": "3.9.12"
  }
 },
 "nbformat": 4,
 "nbformat_minor": 5
}
