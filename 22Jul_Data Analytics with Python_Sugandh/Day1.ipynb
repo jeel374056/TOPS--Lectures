{
 "cells": [
  {
   "cell_type": "code",
   "execution_count": null,
   "id": "1515249a",
   "metadata": {},
   "outputs": [],
   "source": [
    "# string---'' \"\"  \"\"\" \"\"\"   ''' '''\n",
    "# integer----4585\n",
    "# float----4578.52\n",
    "# boolean----True False\n",
    "print(\"hello World\")\n",
    "print(45+30)\n",
    "print('45'+'30')\n"
   ]
  },
  {
   "cell_type": "code",
   "execution_count": null,
   "id": "a387e0d1",
   "metadata": {},
   "outputs": [],
   "source": [
    "#This is used to print python\n",
    "print(\"Python\")\n",
    "# print \"Python\"\n",
    "print(\"hello\")\n",
    "\"\"\"thifsdf\n",
    "ddhd\n",
    "dhdhdh\n",
    "dh\n",
    "dhdhdh\"\"\""
   ]
  },
  {
   "cell_type": "code",
   "execution_count": null,
   "id": "63dddff9",
   "metadata": {},
   "outputs": [],
   "source": [
    "# vary = \"fevevervbgrtv njgrn  gj ngrjk nfm jkgfjh njklgfb n\"\n",
    "print(25+75)\n",
    "ans=25+75\n",
    "ans+10\n",
    "\n",
    "a-z A-Z _(underscore) starting letter of variable name\n",
    "a-z A-Z _(underscore) 0-9\n",
    "keyword\n",
    "# ri687 T\n",
    "#75fdkfd_ F\n",
    "#hello_\n",
    "a = 10\n",
    "name = value"
   ]
  },
  {
   "cell_type": "code",
   "execution_count": null,
   "id": "71d2e34c",
   "metadata": {},
   "outputs": [],
   "source": [
    "# var1 = \n",
    "# print(var1)\n",
    "# print(80+var1)\n",
    "var1=False\n",
    "type(var1)"
   ]
  },
  {
   "cell_type": "code",
   "execution_count": null,
   "id": "d7254682",
   "metadata": {},
   "outputs": [],
   "source": [
    "name=input(\"Enter Your name   hrthr rth665888**^&*^&*^&%* $%y7568^ hello   \")\n",
    "print(\"good morning \"+name)"
   ]
  },
  {
   "cell_type": "code",
   "execution_count": 6,
   "id": "a06c883c",
   "metadata": {},
   "outputs": [
    {
     "name": "stdout",
     "output_type": "stream",
     "text": [
      "Enter Something58\n",
      "58\n",
      "<class 'int'>\n",
      "108\n"
     ]
    }
   ],
   "source": [
    "var1=int(input(\"Enter Something\"))\n",
    "print(var1)\n",
    "print(type(var1))\n",
    "print(var1+50)"
   ]
  },
  {
   "cell_type": "code",
   "execution_count": null,
   "id": "e49860ee",
   "metadata": {},
   "outputs": [],
   "source": [
    "int()\n",
    "str()\n",
    "bool()\n",
    "float()"
   ]
  },
  {
   "cell_type": "code",
   "execution_count": null,
   "id": "f2ec3092",
   "metadata": {},
   "outputs": [],
   "source": [
    "\"\"\"dgh\n",
    "gfhgfhgf\n",
    "hgf\n",
    "hf\n",
    "h\n",
    "gfh\n",
    "gfhgfh\"\"\""
   ]
  }
 ],
 "metadata": {
  "kernelspec": {
   "display_name": "Python 3 (ipykernel)",
   "language": "python",
   "name": "python3"
  },
  "language_info": {
   "codemirror_mode": {
    "name": "ipython",
    "version": 3
   },
   "file_extension": ".py",
   "mimetype": "text/x-python",
   "name": "python",
   "nbconvert_exporter": "python",
   "pygments_lexer": "ipython3",
   "version": "3.9.12"
  }
 },
 "nbformat": 4,
 "nbformat_minor": 5
}
